{
 "cells": [
  {
   "cell_type": "code",
   "execution_count": 1,
   "metadata": {},
   "outputs": [
    {
     "data": {
      "text/html": [
       "<div>\n",
       "<style scoped>\n",
       "    .dataframe tbody tr th:only-of-type {\n",
       "        vertical-align: middle;\n",
       "    }\n",
       "\n",
       "    .dataframe tbody tr th {\n",
       "        vertical-align: top;\n",
       "    }\n",
       "\n",
       "    .dataframe thead th {\n",
       "        text-align: right;\n",
       "    }\n",
       "</style>\n",
       "<table border=\"1\" class=\"dataframe\">\n",
       "  <thead>\n",
       "    <tr style=\"text-align: right;\">\n",
       "      <th></th>\n",
       "      <th>additional_comments</th>\n",
       "      <th>behavior</th>\n",
       "      <th>birth_year</th>\n",
       "      <th>collaborative_value</th>\n",
       "      <th>computer_score</th>\n",
       "      <th>computer_value</th>\n",
       "      <th>education</th>\n",
       "      <th>gender</th>\n",
       "      <th>human_score</th>\n",
       "      <th>predictable_value</th>\n",
       "      <th>selfishly_value</th>\n",
       "      <th>wisely_value</th>\n",
       "    </tr>\n",
       "  </thead>\n",
       "  <tbody>\n",
       "    <tr>\n",
       "      <th>-Mqplm2tkw9ENkduGYgK</th>\n",
       "      <td></td>\n",
       "      <td>selfish</td>\n",
       "      <td>1977</td>\n",
       "      <td>1</td>\n",
       "      <td>1.180</td>\n",
       "      <td>5</td>\n",
       "      <td>BA</td>\n",
       "      <td>female</td>\n",
       "      <td>0.005</td>\n",
       "      <td>4</td>\n",
       "      <td>7</td>\n",
       "      <td>2</td>\n",
       "    </tr>\n",
       "    <tr>\n",
       "      <th>-MqplnjK3YYPpK0YkBgM</th>\n",
       "      <td></td>\n",
       "      <td>TSP</td>\n",
       "      <td>2000</td>\n",
       "      <td>7</td>\n",
       "      <td>1.010</td>\n",
       "      <td>7</td>\n",
       "      <td>High School</td>\n",
       "      <td>male</td>\n",
       "      <td>0.965</td>\n",
       "      <td>7</td>\n",
       "      <td>2</td>\n",
       "      <td>7</td>\n",
       "    </tr>\n",
       "    <tr>\n",
       "      <th>-MqplpCwxDOYMKVjZAC7</th>\n",
       "      <td></td>\n",
       "      <td>selfish</td>\n",
       "      <td>1973</td>\n",
       "      <td>1</td>\n",
       "      <td>1.220</td>\n",
       "      <td>6</td>\n",
       "      <td>Master's degree</td>\n",
       "      <td>male</td>\n",
       "      <td>0.125</td>\n",
       "      <td>4</td>\n",
       "      <td>6</td>\n",
       "      <td>4</td>\n",
       "    </tr>\n",
       "    <tr>\n",
       "      <th>-MqplpytsnX0zCv_KW9i</th>\n",
       "      <td>none</td>\n",
       "      <td>TSP</td>\n",
       "      <td>1961</td>\n",
       "      <td>5</td>\n",
       "      <td>0.615</td>\n",
       "      <td>7</td>\n",
       "      <td>High School</td>\n",
       "      <td>male</td>\n",
       "      <td>0.610</td>\n",
       "      <td>4</td>\n",
       "      <td>6</td>\n",
       "      <td>5</td>\n",
       "    </tr>\n",
       "    <tr>\n",
       "      <th>-MqplslnBlLXPxdLEv2J</th>\n",
       "      <td></td>\n",
       "      <td>TSP</td>\n",
       "      <td>1997</td>\n",
       "      <td>7</td>\n",
       "      <td>1.160</td>\n",
       "      <td>7</td>\n",
       "      <td>High School</td>\n",
       "      <td>male</td>\n",
       "      <td>1.115</td>\n",
       "      <td>6</td>\n",
       "      <td>1</td>\n",
       "      <td>7</td>\n",
       "    </tr>\n",
       "    <tr>\n",
       "      <th>...</th>\n",
       "      <td>...</td>\n",
       "      <td>...</td>\n",
       "      <td>...</td>\n",
       "      <td>...</td>\n",
       "      <td>...</td>\n",
       "      <td>...</td>\n",
       "      <td>...</td>\n",
       "      <td>...</td>\n",
       "      <td>...</td>\n",
       "      <td>...</td>\n",
       "      <td>...</td>\n",
       "      <td>...</td>\n",
       "    </tr>\n",
       "    <tr>\n",
       "      <th>-MqqADevKVHtgHGm84k8</th>\n",
       "      <td>NaN</td>\n",
       "      <td>farthest</td>\n",
       "      <td>NaN</td>\n",
       "      <td>NaN</td>\n",
       "      <td>NaN</td>\n",
       "      <td>NaN</td>\n",
       "      <td>NaN</td>\n",
       "      <td>NaN</td>\n",
       "      <td>NaN</td>\n",
       "      <td>NaN</td>\n",
       "      <td>NaN</td>\n",
       "      <td>NaN</td>\n",
       "    </tr>\n",
       "    <tr>\n",
       "      <th>-MqqASrNKXP_UeTTDFQB</th>\n",
       "      <td>NaN</td>\n",
       "      <td>TSP</td>\n",
       "      <td>NaN</td>\n",
       "      <td>NaN</td>\n",
       "      <td>NaN</td>\n",
       "      <td>NaN</td>\n",
       "      <td>NaN</td>\n",
       "      <td>NaN</td>\n",
       "      <td>NaN</td>\n",
       "      <td>NaN</td>\n",
       "      <td>NaN</td>\n",
       "      <td>NaN</td>\n",
       "    </tr>\n",
       "    <tr>\n",
       "      <th>-MqqAzTxtgZY7sysK_qY</th>\n",
       "      <td>NaN</td>\n",
       "      <td>selfish</td>\n",
       "      <td>NaN</td>\n",
       "      <td>NaN</td>\n",
       "      <td>NaN</td>\n",
       "      <td>NaN</td>\n",
       "      <td>NaN</td>\n",
       "      <td>NaN</td>\n",
       "      <td>NaN</td>\n",
       "      <td>NaN</td>\n",
       "      <td>NaN</td>\n",
       "      <td>NaN</td>\n",
       "    </tr>\n",
       "    <tr>\n",
       "      <th>-MqqTlRqUCgxRCRFmN9v</th>\n",
       "      <td>NaN</td>\n",
       "      <td>farthest</td>\n",
       "      <td>NaN</td>\n",
       "      <td>NaN</td>\n",
       "      <td>NaN</td>\n",
       "      <td>NaN</td>\n",
       "      <td>NaN</td>\n",
       "      <td>NaN</td>\n",
       "      <td>NaN</td>\n",
       "      <td>NaN</td>\n",
       "      <td>NaN</td>\n",
       "      <td>NaN</td>\n",
       "    </tr>\n",
       "    <tr>\n",
       "      <th>-MqqhNaAGup8a3UfVUA4</th>\n",
       "      <td>NaN</td>\n",
       "      <td>farthest</td>\n",
       "      <td>NaN</td>\n",
       "      <td>NaN</td>\n",
       "      <td>NaN</td>\n",
       "      <td>NaN</td>\n",
       "      <td>NaN</td>\n",
       "      <td>NaN</td>\n",
       "      <td>NaN</td>\n",
       "      <td>NaN</td>\n",
       "      <td>NaN</td>\n",
       "      <td>NaN</td>\n",
       "    </tr>\n",
       "  </tbody>\n",
       "</table>\n",
       "<p>311 rows × 12 columns</p>\n",
       "</div>"
      ],
      "text/plain": [
       "                     additional_comments  behavior birth_year  \\\n",
       "-Mqplm2tkw9ENkduGYgK                       selfish       1977   \n",
       "-MqplnjK3YYPpK0YkBgM                           TSP       2000   \n",
       "-MqplpCwxDOYMKVjZAC7                       selfish       1973   \n",
       "-MqplpytsnX0zCv_KW9i                none       TSP       1961   \n",
       "-MqplslnBlLXPxdLEv2J                           TSP       1997   \n",
       "...                                  ...       ...        ...   \n",
       "-MqqADevKVHtgHGm84k8                 NaN  farthest        NaN   \n",
       "-MqqASrNKXP_UeTTDFQB                 NaN       TSP        NaN   \n",
       "-MqqAzTxtgZY7sysK_qY                 NaN   selfish        NaN   \n",
       "-MqqTlRqUCgxRCRFmN9v                 NaN  farthest        NaN   \n",
       "-MqqhNaAGup8a3UfVUA4                 NaN  farthest        NaN   \n",
       "\n",
       "                     collaborative_value computer_score computer_value  \\\n",
       "-Mqplm2tkw9ENkduGYgK                   1          1.180              5   \n",
       "-MqplnjK3YYPpK0YkBgM                   7          1.010              7   \n",
       "-MqplpCwxDOYMKVjZAC7                   1          1.220              6   \n",
       "-MqplpytsnX0zCv_KW9i                   5          0.615              7   \n",
       "-MqplslnBlLXPxdLEv2J                   7          1.160              7   \n",
       "...                                  ...            ...            ...   \n",
       "-MqqADevKVHtgHGm84k8                 NaN            NaN            NaN   \n",
       "-MqqASrNKXP_UeTTDFQB                 NaN            NaN            NaN   \n",
       "-MqqAzTxtgZY7sysK_qY                 NaN            NaN            NaN   \n",
       "-MqqTlRqUCgxRCRFmN9v                 NaN            NaN            NaN   \n",
       "-MqqhNaAGup8a3UfVUA4                 NaN            NaN            NaN   \n",
       "\n",
       "                            education  gender human_score predictable_value  \\\n",
       "-Mqplm2tkw9ENkduGYgK               BA  female       0.005                 4   \n",
       "-MqplnjK3YYPpK0YkBgM      High School    male       0.965                 7   \n",
       "-MqplpCwxDOYMKVjZAC7  Master's degree    male       0.125                 4   \n",
       "-MqplpytsnX0zCv_KW9i      High School    male       0.610                 4   \n",
       "-MqplslnBlLXPxdLEv2J      High School    male       1.115                 6   \n",
       "...                               ...     ...         ...               ...   \n",
       "-MqqADevKVHtgHGm84k8              NaN     NaN         NaN               NaN   \n",
       "-MqqASrNKXP_UeTTDFQB              NaN     NaN         NaN               NaN   \n",
       "-MqqAzTxtgZY7sysK_qY              NaN     NaN         NaN               NaN   \n",
       "-MqqTlRqUCgxRCRFmN9v              NaN     NaN         NaN               NaN   \n",
       "-MqqhNaAGup8a3UfVUA4              NaN     NaN         NaN               NaN   \n",
       "\n",
       "                     selfishly_value wisely_value  \n",
       "-Mqplm2tkw9ENkduGYgK               7            2  \n",
       "-MqplnjK3YYPpK0YkBgM               2            7  \n",
       "-MqplpCwxDOYMKVjZAC7               6            4  \n",
       "-MqplpytsnX0zCv_KW9i               6            5  \n",
       "-MqplslnBlLXPxdLEv2J               1            7  \n",
       "...                              ...          ...  \n",
       "-MqqADevKVHtgHGm84k8             NaN          NaN  \n",
       "-MqqASrNKXP_UeTTDFQB             NaN          NaN  \n",
       "-MqqAzTxtgZY7sysK_qY             NaN          NaN  \n",
       "-MqqTlRqUCgxRCRFmN9v             NaN          NaN  \n",
       "-MqqhNaAGup8a3UfVUA4             NaN          NaN  \n",
       "\n",
       "[311 rows x 12 columns]"
      ]
     },
     "execution_count": 1,
     "metadata": {},
     "output_type": "execute_result"
    }
   ],
   "source": [
    "import json\n",
    "import glob\n",
    "import pandas as pd\n",
    "import matplotlib.pyplot as plt\n",
    "import numpy as np\n",
    "\n",
    "from PIL import Image\n",
    "\n",
    "path = './data/data-of-baselines-with-permanent-dirt-new.json'\n",
    "\n",
    "#load data from the json file\n",
    "with open(path) as train_file:\n",
    "    data = json.load(train_file)\n",
    "\n",
    "participants_df = pd.DataFrame.from_dict(data['all-games'], orient='index')\n",
    "participants_df\n"
   ]
  },
  {
   "cell_type": "code",
   "execution_count": 2,
   "metadata": {},
   "outputs": [
    {
     "data": {
      "text/plain": [
       "Index(['additional_comments', 'behavior', 'birth_year', 'collaborative_value',\n",
       "       'computer_score', 'computer_value', 'education', 'gender',\n",
       "       'human_score', 'predictable_value', 'selfishly_value', 'wisely_value'],\n",
       "      dtype='object')"
      ]
     },
     "execution_count": 2,
     "metadata": {},
     "output_type": "execute_result"
    }
   ],
   "source": [
    "participants_df.columns"
   ]
  },
  {
   "cell_type": "code",
   "execution_count": 3,
   "metadata": {},
   "outputs": [
    {
     "data": {
      "text/plain": [
       "64"
      ]
     },
     "execution_count": 3,
     "metadata": {},
     "output_type": "execute_result"
    }
   ],
   "source": [
    "selfish_index = participants_df[participants_df['behavior'] == 'selfish'].index\n",
    "len(selfish_index)\n"
   ]
  },
  {
   "cell_type": "code",
   "execution_count": 4,
   "metadata": {},
   "outputs": [
    {
     "data": {
      "text/plain": [
       "311"
      ]
     },
     "execution_count": 4,
     "metadata": {},
     "output_type": "execute_result"
    }
   ],
   "source": [
    "len(participants_df)"
   ]
  },
  {
   "cell_type": "code",
   "execution_count": 5,
   "metadata": {},
   "outputs": [
    {
     "data": {
      "text/plain": [
       "247"
      ]
     },
     "execution_count": 5,
     "metadata": {},
     "output_type": "execute_result"
    }
   ],
   "source": [
    "participants_df = participants_df.drop(selfish_index)\n",
    "len(participants_df)"
   ]
  },
  {
   "cell_type": "code",
   "execution_count": 6,
   "metadata": {},
   "outputs": [
    {
     "name": "stdout",
     "output_type": "stream",
     "text": [
      "-Mqpm7kYQsVMmpl4Ri9R not found\n",
      "-Mqpmgmk_Cl6ATwFgLwL not found\n",
      "-MqpmlUI-_pluy0xn0e9 not found\n",
      "-Mqpmn_75IYzCj9Dox_s not found\n",
      "-MqpmsiVjztUONtkDNez not found\n",
      "-Mqpmt4OyfUc1O_loQMR not found\n",
      "-MqpnjD2A3DKi-TTJg7r not found\n",
      "-MqpoX2fGCoBxN8L8wDu not found\n",
      "-MqppI-YdvLdXqRhVJJ5 not found\n",
      "-MqppOaVU0771PytOiny not found\n",
      "-Mqpp_xvP_o_vE_FeZo0 not found\n",
      "-MqppgaoT42qp46uS6yH not found\n",
      "-MqppocEJlKNGMjzQB3G not found\n",
      "-MqpwshQltoanqkiXVt7 not found\n",
      "-Mqpz3YKZ2pI9Su-7ebr not found\n",
      "-Mqq04Pxc5y1xfRXDonh not found\n",
      "-Mqq0Ld5wuu2gsShVMxU not found\n",
      "-Mqq182vGglXl66BZKcz not found\n",
      "-Mqq6ajeulAhm2Hg0Taj not found\n",
      "-MqqAzTxtgZY7sysK_qY not found\n"
     ]
    }
   ],
   "source": [
    "raw_df_state_to_action = pd.DataFrame.from_dict(data['humanModel'], orient='index')\n",
    "# df.reset_index(level=0, inplace=True)\n",
    "# df = df.dropna(subset=['log'])\n",
    "for index in selfish_index:\n",
    "    try:\n",
    "        raw_df_state_to_action = raw_df_state_to_action.drop(index)\n",
    "    except KeyError:\n",
    "        print(index + ' not found')\n"
   ]
  },
  {
   "cell_type": "code",
   "execution_count": 13,
   "metadata": {},
   "outputs": [],
   "source": [
    "# participants_df.to_json(r'participants_df.json', orient='index')\n",
    "# raw_df_state_to_action.to_json(r'raw_df_state_to_action.json', orient='index')"
   ]
  }
 ],
 "metadata": {
  "interpreter": {
   "hash": "ad60775ae12af945b53c5c94c294ef05f229143b8585a0d23625a81e181fdccc"
  },
  "kernelspec": {
   "display_name": "Python 3.7.4 64-bit ('tf-gpu': conda)",
   "language": "python",
   "name": "python3"
  },
  "language_info": {
   "codemirror_mode": {
    "name": "ipython",
    "version": 3
   },
   "file_extension": ".py",
   "mimetype": "text/x-python",
   "name": "python",
   "nbconvert_exporter": "python",
   "pygments_lexer": "ipython3",
   "version": "3.7.4"
  },
  "orig_nbformat": 4
 },
 "nbformat": 4,
 "nbformat_minor": 2
}
