{
 "cells": [
  {
   "cell_type": "code",
   "execution_count": 1,
   "metadata": {},
   "outputs": [
    {
     "data": {
      "text/html": [
       "<div>\n",
       "<style scoped>\n",
       "    .dataframe tbody tr th:only-of-type {\n",
       "        vertical-align: middle;\n",
       "    }\n",
       "\n",
       "    .dataframe tbody tr th {\n",
       "        vertical-align: top;\n",
       "    }\n",
       "\n",
       "    .dataframe thead th {\n",
       "        text-align: right;\n",
       "    }\n",
       "</style>\n",
       "<table border=\"1\" class=\"dataframe\">\n",
       "  <thead>\n",
       "    <tr style=\"text-align: right;\">\n",
       "      <th></th>\n",
       "      <th>additional_comments</th>\n",
       "      <th>behavior</th>\n",
       "      <th>birth_year</th>\n",
       "      <th>collaborative_value</th>\n",
       "      <th>computer_score</th>\n",
       "      <th>computer_value</th>\n",
       "      <th>education</th>\n",
       "      <th>gender</th>\n",
       "      <th>human_score</th>\n",
       "      <th>predictable_value</th>\n",
       "      <th>selfishly_value</th>\n",
       "      <th>wisely_value</th>\n",
       "    </tr>\n",
       "  </thead>\n",
       "  <tbody>\n",
       "    <tr>\n",
       "      <td>-Mrxq3qHzIBT4S2E8ooK</td>\n",
       "      <td></td>\n",
       "      <td>closest</td>\n",
       "      <td>1977</td>\n",
       "      <td>6</td>\n",
       "      <td>1.000</td>\n",
       "      <td>7</td>\n",
       "      <td>BA</td>\n",
       "      <td>male</td>\n",
       "      <td>0.990</td>\n",
       "      <td>4</td>\n",
       "      <td>5</td>\n",
       "      <td>7</td>\n",
       "    </tr>\n",
       "    <tr>\n",
       "      <td>-Mrxq7Ag3t6EAUpVxo_C</td>\n",
       "      <td></td>\n",
       "      <td>closest</td>\n",
       "      <td>1964</td>\n",
       "      <td>6</td>\n",
       "      <td>0.950</td>\n",
       "      <td>7</td>\n",
       "      <td>High School</td>\n",
       "      <td>female</td>\n",
       "      <td>0.800</td>\n",
       "      <td>4</td>\n",
       "      <td>4</td>\n",
       "      <td>6</td>\n",
       "    </tr>\n",
       "    <tr>\n",
       "      <td>-Mrxq8C23gWU1NXTc8Hg</td>\n",
       "      <td></td>\n",
       "      <td>TSP</td>\n",
       "      <td>1983</td>\n",
       "      <td>6</td>\n",
       "      <td>0.950</td>\n",
       "      <td>6</td>\n",
       "      <td>Master's degree</td>\n",
       "      <td>male</td>\n",
       "      <td>0.940</td>\n",
       "      <td>4</td>\n",
       "      <td>2</td>\n",
       "      <td>5</td>\n",
       "    </tr>\n",
       "    <tr>\n",
       "      <td>-Mrxq8hPTtLOqELhgh7y</td>\n",
       "      <td></td>\n",
       "      <td>closest</td>\n",
       "      <td>1985</td>\n",
       "      <td>6</td>\n",
       "      <td>1.000</td>\n",
       "      <td>7</td>\n",
       "      <td>High School</td>\n",
       "      <td>male</td>\n",
       "      <td>0.950</td>\n",
       "      <td>6</td>\n",
       "      <td>2</td>\n",
       "      <td>7</td>\n",
       "    </tr>\n",
       "    <tr>\n",
       "      <td>-Mrxq9Qr5wmMfAV2wlbE</td>\n",
       "      <td></td>\n",
       "      <td>farthest</td>\n",
       "      <td>1973</td>\n",
       "      <td>6</td>\n",
       "      <td>0.800</td>\n",
       "      <td>4</td>\n",
       "      <td>Ph.D</td>\n",
       "      <td>male</td>\n",
       "      <td>0.890</td>\n",
       "      <td>4</td>\n",
       "      <td>2</td>\n",
       "      <td>4</td>\n",
       "    </tr>\n",
       "    <tr>\n",
       "      <td>...</td>\n",
       "      <td>...</td>\n",
       "      <td>...</td>\n",
       "      <td>...</td>\n",
       "      <td>...</td>\n",
       "      <td>...</td>\n",
       "      <td>...</td>\n",
       "      <td>...</td>\n",
       "      <td>...</td>\n",
       "      <td>...</td>\n",
       "      <td>...</td>\n",
       "      <td>...</td>\n",
       "      <td>...</td>\n",
       "    </tr>\n",
       "    <tr>\n",
       "      <td>-MrxtuFXPGYh1gLsCC77</td>\n",
       "      <td>NaN</td>\n",
       "      <td>farthest</td>\n",
       "      <td>NaN</td>\n",
       "      <td>NaN</td>\n",
       "      <td>NaN</td>\n",
       "      <td>NaN</td>\n",
       "      <td>NaN</td>\n",
       "      <td>NaN</td>\n",
       "      <td>NaN</td>\n",
       "      <td>NaN</td>\n",
       "      <td>NaN</td>\n",
       "      <td>NaN</td>\n",
       "    </tr>\n",
       "    <tr>\n",
       "      <td>-MrxyvHgSeKfm2Vr_YFa</td>\n",
       "      <td>NaN</td>\n",
       "      <td>closest</td>\n",
       "      <td>NaN</td>\n",
       "      <td>NaN</td>\n",
       "      <td>NaN</td>\n",
       "      <td>NaN</td>\n",
       "      <td>NaN</td>\n",
       "      <td>NaN</td>\n",
       "      <td>NaN</td>\n",
       "      <td>NaN</td>\n",
       "      <td>NaN</td>\n",
       "      <td>NaN</td>\n",
       "    </tr>\n",
       "    <tr>\n",
       "      <td>-Mry0Z8OiOLFuyKjPMhy</td>\n",
       "      <td>NaN</td>\n",
       "      <td>selfish</td>\n",
       "      <td>NaN</td>\n",
       "      <td>NaN</td>\n",
       "      <td>NaN</td>\n",
       "      <td>NaN</td>\n",
       "      <td>NaN</td>\n",
       "      <td>NaN</td>\n",
       "      <td>NaN</td>\n",
       "      <td>NaN</td>\n",
       "      <td>NaN</td>\n",
       "      <td>NaN</td>\n",
       "    </tr>\n",
       "    <tr>\n",
       "      <td>-Mry5KQqpj7MbvSSDBPX</td>\n",
       "      <td>NaN</td>\n",
       "      <td>random</td>\n",
       "      <td>NaN</td>\n",
       "      <td>NaN</td>\n",
       "      <td>NaN</td>\n",
       "      <td>NaN</td>\n",
       "      <td>NaN</td>\n",
       "      <td>NaN</td>\n",
       "      <td>NaN</td>\n",
       "      <td>NaN</td>\n",
       "      <td>NaN</td>\n",
       "      <td>NaN</td>\n",
       "    </tr>\n",
       "    <tr>\n",
       "      <td>-MryJdZ3FL9T6C2hLbQG</td>\n",
       "      <td>NaN</td>\n",
       "      <td>TSP</td>\n",
       "      <td>NaN</td>\n",
       "      <td>NaN</td>\n",
       "      <td>NaN</td>\n",
       "      <td>NaN</td>\n",
       "      <td>NaN</td>\n",
       "      <td>NaN</td>\n",
       "      <td>NaN</td>\n",
       "      <td>NaN</td>\n",
       "      <td>NaN</td>\n",
       "      <td>NaN</td>\n",
       "    </tr>\n",
       "  </tbody>\n",
       "</table>\n",
       "<p>234 rows × 12 columns</p>\n",
       "</div>"
      ],
      "text/plain": [
       "                     additional_comments  behavior birth_year  \\\n",
       "-Mrxq3qHzIBT4S2E8ooK                       closest       1977   \n",
       "-Mrxq7Ag3t6EAUpVxo_C                       closest       1964   \n",
       "-Mrxq8C23gWU1NXTc8Hg                           TSP       1983   \n",
       "-Mrxq8hPTtLOqELhgh7y                       closest       1985   \n",
       "-Mrxq9Qr5wmMfAV2wlbE                      farthest       1973   \n",
       "...                                  ...       ...        ...   \n",
       "-MrxtuFXPGYh1gLsCC77                 NaN  farthest        NaN   \n",
       "-MrxyvHgSeKfm2Vr_YFa                 NaN   closest        NaN   \n",
       "-Mry0Z8OiOLFuyKjPMhy                 NaN   selfish        NaN   \n",
       "-Mry5KQqpj7MbvSSDBPX                 NaN    random        NaN   \n",
       "-MryJdZ3FL9T6C2hLbQG                 NaN       TSP        NaN   \n",
       "\n",
       "                     collaborative_value computer_score computer_value  \\\n",
       "-Mrxq3qHzIBT4S2E8ooK                   6          1.000              7   \n",
       "-Mrxq7Ag3t6EAUpVxo_C                   6          0.950              7   \n",
       "-Mrxq8C23gWU1NXTc8Hg                   6          0.950              6   \n",
       "-Mrxq8hPTtLOqELhgh7y                   6          1.000              7   \n",
       "-Mrxq9Qr5wmMfAV2wlbE                   6          0.800              4   \n",
       "...                                  ...            ...            ...   \n",
       "-MrxtuFXPGYh1gLsCC77                 NaN            NaN            NaN   \n",
       "-MrxyvHgSeKfm2Vr_YFa                 NaN            NaN            NaN   \n",
       "-Mry0Z8OiOLFuyKjPMhy                 NaN            NaN            NaN   \n",
       "-Mry5KQqpj7MbvSSDBPX                 NaN            NaN            NaN   \n",
       "-MryJdZ3FL9T6C2hLbQG                 NaN            NaN            NaN   \n",
       "\n",
       "                            education  gender human_score predictable_value  \\\n",
       "-Mrxq3qHzIBT4S2E8ooK               BA    male       0.990                 4   \n",
       "-Mrxq7Ag3t6EAUpVxo_C      High School  female       0.800                 4   \n",
       "-Mrxq8C23gWU1NXTc8Hg  Master's degree    male       0.940                 4   \n",
       "-Mrxq8hPTtLOqELhgh7y      High School    male       0.950                 6   \n",
       "-Mrxq9Qr5wmMfAV2wlbE             Ph.D    male       0.890                 4   \n",
       "...                               ...     ...         ...               ...   \n",
       "-MrxtuFXPGYh1gLsCC77              NaN     NaN         NaN               NaN   \n",
       "-MrxyvHgSeKfm2Vr_YFa              NaN     NaN         NaN               NaN   \n",
       "-Mry0Z8OiOLFuyKjPMhy              NaN     NaN         NaN               NaN   \n",
       "-Mry5KQqpj7MbvSSDBPX              NaN     NaN         NaN               NaN   \n",
       "-MryJdZ3FL9T6C2hLbQG              NaN     NaN         NaN               NaN   \n",
       "\n",
       "                     selfishly_value wisely_value  \n",
       "-Mrxq3qHzIBT4S2E8ooK               5            7  \n",
       "-Mrxq7Ag3t6EAUpVxo_C               4            6  \n",
       "-Mrxq8C23gWU1NXTc8Hg               2            5  \n",
       "-Mrxq8hPTtLOqELhgh7y               2            7  \n",
       "-Mrxq9Qr5wmMfAV2wlbE               2            4  \n",
       "...                              ...          ...  \n",
       "-MrxtuFXPGYh1gLsCC77             NaN          NaN  \n",
       "-MrxyvHgSeKfm2Vr_YFa             NaN          NaN  \n",
       "-Mry0Z8OiOLFuyKjPMhy             NaN          NaN  \n",
       "-Mry5KQqpj7MbvSSDBPX             NaN          NaN  \n",
       "-MryJdZ3FL9T6C2hLbQG             NaN          NaN  \n",
       "\n",
       "[234 rows x 12 columns]"
      ]
     },
     "execution_count": 1,
     "metadata": {},
     "output_type": "execute_result"
    }
   ],
   "source": [
    "import json\n",
    "import glob\n",
    "import pandas as pd\n",
    "import matplotlib.pyplot as plt\n",
    "import numpy as np\n",
    "\n",
    "from PIL import Image\n",
    "\n",
    "map_dir = 'map 4'\n",
    "path = './data/'+map_dir+'/data-of-baselines.json'\n",
    "\n",
    "#load data from the json file\n",
    "with open(path) as train_file:\n",
    "    data = json.load(train_file)\n",
    "\n",
    "participants_df = pd.DataFrame.from_dict(data['all-games'], orient='index')\n",
    "participants_df\n"
   ]
  },
  {
   "cell_type": "code",
   "execution_count": 2,
   "metadata": {},
   "outputs": [
    {
     "data": {
      "text/plain": [
       "Index(['additional_comments', 'behavior', 'birth_year', 'collaborative_value',\n",
       "       'computer_score', 'computer_value', 'education', 'gender',\n",
       "       'human_score', 'predictable_value', 'selfishly_value', 'wisely_value'],\n",
       "      dtype='object')"
      ]
     },
     "execution_count": 2,
     "metadata": {},
     "output_type": "execute_result"
    }
   ],
   "source": [
    "participants_df.columns"
   ]
  },
  {
   "cell_type": "code",
   "execution_count": 3,
   "metadata": {},
   "outputs": [
    {
     "data": {
      "text/plain": [
       "42"
      ]
     },
     "execution_count": 3,
     "metadata": {},
     "output_type": "execute_result"
    }
   ],
   "source": [
    "selfish_index = participants_df[participants_df['behavior'] == 'selfish'].index\n",
    "len(selfish_index)\n"
   ]
  },
  {
   "cell_type": "code",
   "execution_count": 4,
   "metadata": {},
   "outputs": [
    {
     "data": {
      "text/plain": [
       "234"
      ]
     },
     "execution_count": 4,
     "metadata": {},
     "output_type": "execute_result"
    }
   ],
   "source": [
    "len(participants_df)"
   ]
  },
  {
   "cell_type": "code",
   "execution_count": 5,
   "metadata": {},
   "outputs": [
    {
     "data": {
      "text/plain": [
       "192"
      ]
     },
     "execution_count": 5,
     "metadata": {},
     "output_type": "execute_result"
    }
   ],
   "source": [
    "participants_df = participants_df.drop(selfish_index)\n",
    "len(participants_df)"
   ]
  },
  {
   "cell_type": "code",
   "execution_count": 6,
   "metadata": {},
   "outputs": [
    {
     "name": "stdout",
     "output_type": "stream",
     "text": [
      "-Mrxq7H-qKr50Z0E1XXB not found\n",
      "-MrxqAkVuoof41rAYwBl not found\n",
      "-MrxqRf1It0YPIIGJrZp not found\n",
      "-Mry0Z8OiOLFuyKjPMhy not found\n"
     ]
    }
   ],
   "source": [
    "raw_df_state_to_action = pd.DataFrame.from_dict(data['humanModel'], orient='index')\n",
    "# df.reset_index(level=0, inplace=True)\n",
    "# df = df.dropna(subset=['log'])\n",
    "for index in selfish_index:\n",
    "    try:\n",
    "        raw_df_state_to_action = raw_df_state_to_action.drop(index)\n",
    "    except KeyError:\n",
    "        print(index + ' not found')\n"
   ]
  },
  {
   "cell_type": "code",
   "execution_count": 7,
   "metadata": {},
   "outputs": [],
   "source": [
    "# participants_df.to_json(r'participants_df.json', orient='index')\n",
    "# raw_df_state_to_action.to_json(r'raw_df_state_to_action.json', orient='index')"
   ]
  }
 ],
 "metadata": {
  "interpreter": {
   "hash": "ad60775ae12af945b53c5c94c294ef05f229143b8585a0d23625a81e181fdccc"
  },
  "kernelspec": {
   "display_name": "Python 3.7.4 64-bit ('tf-gpu': conda)",
   "language": "python",
   "name": "python3"
  },
  "language_info": {
   "codemirror_mode": {
    "name": "ipython",
    "version": 3
   },
   "file_extension": ".py",
   "mimetype": "text/x-python",
   "name": "python",
   "nbconvert_exporter": "python",
   "pygments_lexer": "ipython3",
   "version": "3.7.4"
  },
  "orig_nbformat": 4
 },
 "nbformat": 4,
 "nbformat_minor": 2
}
