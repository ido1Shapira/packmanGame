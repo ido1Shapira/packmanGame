{
 "cells": [
  {
   "cell_type": "code",
   "execution_count": 1,
   "metadata": {},
   "outputs": [
    {
     "data": {
      "text/html": [
       "<div>\n",
       "<style scoped>\n",
       "    .dataframe tbody tr th:only-of-type {\n",
       "        vertical-align: middle;\n",
       "    }\n",
       "\n",
       "    .dataframe tbody tr th {\n",
       "        vertical-align: top;\n",
       "    }\n",
       "\n",
       "    .dataframe thead th {\n",
       "        text-align: right;\n",
       "    }\n",
       "</style>\n",
       "<table border=\"1\" class=\"dataframe\">\n",
       "  <thead>\n",
       "    <tr style=\"text-align: right;\">\n",
       "      <th></th>\n",
       "      <th>computer_score</th>\n",
       "      <th>human_score</th>\n",
       "      <th>computer_score_real</th>\n",
       "      <th>human_score_real</th>\n",
       "    </tr>\n",
       "  </thead>\n",
       "  <tbody>\n",
       "    <tr>\n",
       "      <td>-Ms8apzf274KAnw8anBV</td>\n",
       "      <td>0.05</td>\n",
       "      <td>1.20</td>\n",
       "      <td>0.30</td>\n",
       "      <td>1.20</td>\n",
       "    </tr>\n",
       "    <tr>\n",
       "      <td>-Ms8areDl12-5B5lSAX5</td>\n",
       "      <td>0.80</td>\n",
       "      <td>0.75</td>\n",
       "      <td>0.90</td>\n",
       "      <td>0.90</td>\n",
       "    </tr>\n",
       "    <tr>\n",
       "      <td>-Ms8at7zSAJbq6RGJXMI</td>\n",
       "      <td>0.35</td>\n",
       "      <td>0.35</td>\n",
       "      <td>0.45</td>\n",
       "      <td>0.50</td>\n",
       "    </tr>\n",
       "    <tr>\n",
       "      <td>-Ms8av2Z5M2XEIGMqjsx</td>\n",
       "      <td>0.60</td>\n",
       "      <td>0.63</td>\n",
       "      <td>0.70</td>\n",
       "      <td>0.78</td>\n",
       "    </tr>\n",
       "    <tr>\n",
       "      <td>-Ms8avJTdP2GRxWwV6VG</td>\n",
       "      <td>0.05</td>\n",
       "      <td>0.48</td>\n",
       "      <td>0.30</td>\n",
       "      <td>0.48</td>\n",
       "    </tr>\n",
       "    <tr>\n",
       "      <td>...</td>\n",
       "      <td>...</td>\n",
       "      <td>...</td>\n",
       "      <td>...</td>\n",
       "      <td>...</td>\n",
       "    </tr>\n",
       "    <tr>\n",
       "      <td>-Ms8yOdJ_uqmQwTur4dU</td>\n",
       "      <td>0.70</td>\n",
       "      <td>0.65</td>\n",
       "      <td>0.80</td>\n",
       "      <td>0.80</td>\n",
       "    </tr>\n",
       "    <tr>\n",
       "      <td>-Ms8ycpJ_XMkhBsmof1z</td>\n",
       "      <td>0.75</td>\n",
       "      <td>0.75</td>\n",
       "      <td>0.85</td>\n",
       "      <td>0.90</td>\n",
       "    </tr>\n",
       "    <tr>\n",
       "      <td>-Ms8yqCEZ_bTC4cYxXgi</td>\n",
       "      <td>0.65</td>\n",
       "      <td>0.70</td>\n",
       "      <td>0.75</td>\n",
       "      <td>0.85</td>\n",
       "    </tr>\n",
       "    <tr>\n",
       "      <td>-Ms8zGLaJT_jVdeJnmUO</td>\n",
       "      <td>0.85</td>\n",
       "      <td>0.85</td>\n",
       "      <td>0.95</td>\n",
       "      <td>1.00</td>\n",
       "    </tr>\n",
       "    <tr>\n",
       "      <td>-Ms99IDhbSnEbmxXBhYR</td>\n",
       "      <td>0.40</td>\n",
       "      <td>0.35</td>\n",
       "      <td>0.50</td>\n",
       "      <td>0.50</td>\n",
       "    </tr>\n",
       "  </tbody>\n",
       "</table>\n",
       "<p>205 rows × 4 columns</p>\n",
       "</div>"
      ],
      "text/plain": [
       "                      computer_score  human_score  computer_score_real  \\\n",
       "-Ms8apzf274KAnw8anBV            0.05         1.20                 0.30   \n",
       "-Ms8areDl12-5B5lSAX5            0.80         0.75                 0.90   \n",
       "-Ms8at7zSAJbq6RGJXMI            0.35         0.35                 0.45   \n",
       "-Ms8av2Z5M2XEIGMqjsx            0.60         0.63                 0.70   \n",
       "-Ms8avJTdP2GRxWwV6VG            0.05         0.48                 0.30   \n",
       "...                              ...          ...                  ...   \n",
       "-Ms8yOdJ_uqmQwTur4dU            0.70         0.65                 0.80   \n",
       "-Ms8ycpJ_XMkhBsmof1z            0.75         0.75                 0.85   \n",
       "-Ms8yqCEZ_bTC4cYxXgi            0.65         0.70                 0.75   \n",
       "-Ms8zGLaJT_jVdeJnmUO            0.85         0.85                 0.95   \n",
       "-Ms99IDhbSnEbmxXBhYR            0.40         0.35                 0.50   \n",
       "\n",
       "                      human_score_real  \n",
       "-Ms8apzf274KAnw8anBV              1.20  \n",
       "-Ms8areDl12-5B5lSAX5              0.90  \n",
       "-Ms8at7zSAJbq6RGJXMI              0.50  \n",
       "-Ms8av2Z5M2XEIGMqjsx              0.78  \n",
       "-Ms8avJTdP2GRxWwV6VG              0.48  \n",
       "...                                ...  \n",
       "-Ms8yOdJ_uqmQwTur4dU              0.80  \n",
       "-Ms8ycpJ_XMkhBsmof1z              0.90  \n",
       "-Ms8yqCEZ_bTC4cYxXgi              0.85  \n",
       "-Ms8zGLaJT_jVdeJnmUO              1.00  \n",
       "-Ms99IDhbSnEbmxXBhYR              0.50  \n",
       "\n",
       "[205 rows x 4 columns]"
      ]
     },
     "execution_count": 1,
     "metadata": {},
     "output_type": "execute_result"
    }
   ],
   "source": [
    "import pandas as pd\n",
    "from sklearn import preprocessing\n",
    "\n",
    "map_dir = 'map 5'\n",
    "df = pd.read_excel('./data/'+map_dir+'/all_agents_score.xlsx', index_col=0)\n",
    "df = df.drop('behavior', axis=1)\n",
    "df"
   ]
  },
  {
   "cell_type": "code",
   "execution_count": 2,
   "metadata": {},
   "outputs": [
    {
     "data": {
      "text/plain": [
       "0.3337586869754476"
      ]
     },
     "execution_count": 2,
     "metadata": {},
     "output_type": "execute_result"
    }
   ],
   "source": [
    "accuracy = 0.867\n",
    "\n",
    "min_c = df.computer_score.min()\n",
    "max_c = df.computer_score.max()\n",
    "\n",
    "min_h = df.human_score.min()\n",
    "max_h = df.human_score.min()\n",
    "\n",
    "correlation = df.computer_score_real.corr(df.human_score_real)\n",
    "correlation"
   ]
  },
  {
   "cell_type": "markdown",
   "metadata": {},
   "source": [
    "# Attempt 1:"
   ]
  },
  {
   "cell_type": "code",
   "execution_count": 3,
   "metadata": {},
   "outputs": [
    {
     "data": {
      "text/plain": [
       "0.6150418835346625"
      ]
     },
     "execution_count": 3,
     "metadata": {},
     "output_type": "execute_result"
    }
   ],
   "source": [
    "1 - correlation/accuracy"
   ]
  },
  {
   "cell_type": "markdown",
   "metadata": {},
   "source": [
    "# Attempt 2:"
   ]
  },
  {
   "cell_type": "code",
   "execution_count": 4,
   "metadata": {},
   "outputs": [],
   "source": [
    "x = df.values #returns a numpy array\n",
    "min_max_scaler = preprocessing.MinMaxScaler()\n",
    "x_scaled = min_max_scaler.fit_transform(x)\n",
    "normalized_df = pd.DataFrame(x_scaled, columns=df.columns)"
   ]
  },
  {
   "cell_type": "code",
   "execution_count": 5,
   "metadata": {},
   "outputs": [
    {
     "data": {
      "text/plain": [
       "0.7178676051413718"
      ]
     },
     "execution_count": 5,
     "metadata": {},
     "output_type": "execute_result"
    }
   ],
   "source": [
    "rmse = ((normalized_df.computer_score_real - normalized_df.human_score_real) ** 2).mean() ** .5\n",
    "1 - rmse/accuracy"
   ]
  },
  {
   "cell_type": "markdown",
   "metadata": {},
   "source": [
    "# Attempt 3:"
   ]
  },
  {
   "cell_type": "code",
   "execution_count": 6,
   "metadata": {},
   "outputs": [
    {
     "data": {
      "text/plain": [
       "0.7220434958366684"
      ]
     },
     "execution_count": 6,
     "metadata": {},
     "output_type": "execute_result"
    }
   ],
   "source": [
    "1 - correlation/(accuracy + correlation)"
   ]
  },
  {
   "cell_type": "markdown",
   "metadata": {},
   "source": [
    "# Attempt 4:"
   ]
  },
  {
   "cell_type": "code",
   "execution_count": 9,
   "metadata": {},
   "outputs": [
    {
     "data": {
      "text/plain": [
       "0.2409882891096085"
      ]
     },
     "execution_count": 9,
     "metadata": {},
     "output_type": "execute_result"
    }
   ],
   "source": [
    "1/ (1/accuracy + 1/correlation)"
   ]
  }
 ],
 "metadata": {
  "interpreter": {
   "hash": "ad60775ae12af945b53c5c94c294ef05f229143b8585a0d23625a81e181fdccc"
  },
  "kernelspec": {
   "display_name": "Python 3.7.4 64-bit ('tf-gpu': conda)",
   "language": "python",
   "name": "python3"
  },
  "language_info": {
   "codemirror_mode": {
    "name": "ipython",
    "version": 3
   },
   "file_extension": ".py",
   "mimetype": "text/x-python",
   "name": "python",
   "nbconvert_exporter": "python",
   "pygments_lexer": "ipython3",
   "version": "3.7.4"
  },
  "orig_nbformat": 4
 },
 "nbformat": 4,
 "nbformat_minor": 2
}
