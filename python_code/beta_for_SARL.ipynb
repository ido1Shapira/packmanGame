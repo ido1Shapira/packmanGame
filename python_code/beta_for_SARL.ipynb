{
 "cells": [
  {
   "cell_type": "code",
   "execution_count": 15,
   "metadata": {},
   "outputs": [
    {
     "data": {
      "text/html": [
       "<div>\n",
       "<style scoped>\n",
       "    .dataframe tbody tr th:only-of-type {\n",
       "        vertical-align: middle;\n",
       "    }\n",
       "\n",
       "    .dataframe tbody tr th {\n",
       "        vertical-align: top;\n",
       "    }\n",
       "\n",
       "    .dataframe thead th {\n",
       "        text-align: right;\n",
       "    }\n",
       "</style>\n",
       "<table border=\"1\" class=\"dataframe\">\n",
       "  <thead>\n",
       "    <tr style=\"text-align: right;\">\n",
       "      <th></th>\n",
       "      <th>computer_score</th>\n",
       "      <th>human_score</th>\n",
       "      <th>computer_score_real</th>\n",
       "      <th>human_score_real</th>\n",
       "    </tr>\n",
       "  </thead>\n",
       "  <tbody>\n",
       "    <tr>\n",
       "      <td>-Ms8apzf274KAnw8anBV</td>\n",
       "      <td>0.05</td>\n",
       "      <td>1.20</td>\n",
       "      <td>0.30</td>\n",
       "      <td>1.20</td>\n",
       "    </tr>\n",
       "    <tr>\n",
       "      <td>-Ms8areDl12-5B5lSAX5</td>\n",
       "      <td>0.80</td>\n",
       "      <td>0.75</td>\n",
       "      <td>0.90</td>\n",
       "      <td>0.90</td>\n",
       "    </tr>\n",
       "    <tr>\n",
       "      <td>-Ms8at7zSAJbq6RGJXMI</td>\n",
       "      <td>0.35</td>\n",
       "      <td>0.35</td>\n",
       "      <td>0.45</td>\n",
       "      <td>0.50</td>\n",
       "    </tr>\n",
       "    <tr>\n",
       "      <td>-Ms8av2Z5M2XEIGMqjsx</td>\n",
       "      <td>0.60</td>\n",
       "      <td>0.63</td>\n",
       "      <td>0.70</td>\n",
       "      <td>0.78</td>\n",
       "    </tr>\n",
       "    <tr>\n",
       "      <td>-Ms8avJTdP2GRxWwV6VG</td>\n",
       "      <td>0.05</td>\n",
       "      <td>0.48</td>\n",
       "      <td>0.30</td>\n",
       "      <td>0.48</td>\n",
       "    </tr>\n",
       "    <tr>\n",
       "      <td>...</td>\n",
       "      <td>...</td>\n",
       "      <td>...</td>\n",
       "      <td>...</td>\n",
       "      <td>...</td>\n",
       "    </tr>\n",
       "    <tr>\n",
       "      <td>-Ms8pQGdSYCdyRKbQ58q</td>\n",
       "      <td>0.91</td>\n",
       "      <td>-1.35</td>\n",
       "      <td>0.91</td>\n",
       "      <td>-1.10</td>\n",
       "    </tr>\n",
       "    <tr>\n",
       "      <td>-Ms8pdW6_h6hx5jSb1s5</td>\n",
       "      <td>0.15</td>\n",
       "      <td>0.15</td>\n",
       "      <td>0.30</td>\n",
       "      <td>0.25</td>\n",
       "    </tr>\n",
       "    <tr>\n",
       "      <td>-Ms8peUuew_UZc-fS4uZ</td>\n",
       "      <td>-0.15</td>\n",
       "      <td>1.17</td>\n",
       "      <td>0.10</td>\n",
       "      <td>1.17</td>\n",
       "    </tr>\n",
       "    <tr>\n",
       "      <td>-Ms8qGZXU4X9oy5hRUDy</td>\n",
       "      <td>0.05</td>\n",
       "      <td>0.05</td>\n",
       "      <td>0.25</td>\n",
       "      <td>0.10</td>\n",
       "    </tr>\n",
       "    <tr>\n",
       "      <td>-Ms99IDhbSnEbmxXBhYR</td>\n",
       "      <td>0.40</td>\n",
       "      <td>0.35</td>\n",
       "      <td>0.50</td>\n",
       "      <td>0.50</td>\n",
       "    </tr>\n",
       "  </tbody>\n",
       "</table>\n",
       "<p>69 rows × 4 columns</p>\n",
       "</div>"
      ],
      "text/plain": [
       "                      computer_score  human_score  computer_score_real  \\\n",
       "-Ms8apzf274KAnw8anBV            0.05         1.20                 0.30   \n",
       "-Ms8areDl12-5B5lSAX5            0.80         0.75                 0.90   \n",
       "-Ms8at7zSAJbq6RGJXMI            0.35         0.35                 0.45   \n",
       "-Ms8av2Z5M2XEIGMqjsx            0.60         0.63                 0.70   \n",
       "-Ms8avJTdP2GRxWwV6VG            0.05         0.48                 0.30   \n",
       "...                              ...          ...                  ...   \n",
       "-Ms8pQGdSYCdyRKbQ58q            0.91        -1.35                 0.91   \n",
       "-Ms8pdW6_h6hx5jSb1s5            0.15         0.15                 0.30   \n",
       "-Ms8peUuew_UZc-fS4uZ           -0.15         1.17                 0.10   \n",
       "-Ms8qGZXU4X9oy5hRUDy            0.05         0.05                 0.25   \n",
       "-Ms99IDhbSnEbmxXBhYR            0.40         0.35                 0.50   \n",
       "\n",
       "                      human_score_real  \n",
       "-Ms8apzf274KAnw8anBV              1.20  \n",
       "-Ms8areDl12-5B5lSAX5              0.90  \n",
       "-Ms8at7zSAJbq6RGJXMI              0.50  \n",
       "-Ms8av2Z5M2XEIGMqjsx              0.78  \n",
       "-Ms8avJTdP2GRxWwV6VG              0.48  \n",
       "...                                ...  \n",
       "-Ms8pQGdSYCdyRKbQ58q             -1.10  \n",
       "-Ms8pdW6_h6hx5jSb1s5              0.25  \n",
       "-Ms8peUuew_UZc-fS4uZ              1.17  \n",
       "-Ms8qGZXU4X9oy5hRUDy              0.10  \n",
       "-Ms99IDhbSnEbmxXBhYR              0.50  \n",
       "\n",
       "[69 rows x 4 columns]"
      ]
     },
     "execution_count": 15,
     "metadata": {},
     "output_type": "execute_result"
    }
   ],
   "source": [
    "import pandas as pd\n",
    "from sklearn import preprocessing\n",
    "\n",
    "map_dir = 'map 5'\n",
    "df = pd.read_excel('./data/'+map_dir+'/all_agents_score.xlsx', index_col=0)\n",
    "df = df.drop('behavior', axis=1)\n",
    "df"
   ]
  },
  {
   "cell_type": "code",
   "execution_count": 16,
   "metadata": {},
   "outputs": [
    {
     "data": {
      "text/plain": [
       "0.17854479470956264"
      ]
     },
     "execution_count": 16,
     "metadata": {},
     "output_type": "execute_result"
    }
   ],
   "source": [
    "accuracy = 0.852 #map 3\n",
    "accuracy = 0.81 #map 4\n",
    "accuracy = 0.867 #map 5\n",
    "\n",
    "min_c = df.computer_score.min()\n",
    "max_c = df.computer_score.max()\n",
    "\n",
    "min_h = df.human_score.min()\n",
    "max_h = df.human_score.min()\n",
    "\n",
    "correlation = df.computer_score_real.corr(df.human_score_real)\n",
    "correlation"
   ]
  },
  {
   "cell_type": "markdown",
   "metadata": {},
   "source": [
    "# Attempt 1:"
   ]
  },
  {
   "cell_type": "code",
   "execution_count": 17,
   "metadata": {},
   "outputs": [
    {
     "data": {
      "text/plain": [
       "0.7940659807271481"
      ]
     },
     "execution_count": 17,
     "metadata": {},
     "output_type": "execute_result"
    }
   ],
   "source": [
    "1 - correlation/accuracy"
   ]
  },
  {
   "cell_type": "markdown",
   "metadata": {},
   "source": [
    "# Attempt 2:"
   ]
  },
  {
   "cell_type": "code",
   "execution_count": 18,
   "metadata": {},
   "outputs": [],
   "source": [
    "x = df.values #returns a numpy array\n",
    "min_max_scaler = preprocessing.MinMaxScaler()\n",
    "x_scaled = min_max_scaler.fit_transform(x)\n",
    "normalized_df = pd.DataFrame(x_scaled, columns=df.columns)"
   ]
  },
  {
   "cell_type": "code",
   "execution_count": 19,
   "metadata": {},
   "outputs": [
    {
     "data": {
      "text/plain": [
       "0.6336542580617808"
      ]
     },
     "execution_count": 19,
     "metadata": {},
     "output_type": "execute_result"
    }
   ],
   "source": [
    "rmse = ((normalized_df.computer_score_real - normalized_df.human_score_real) ** 2).mean() ** .5\n",
    "1 - rmse/accuracy"
   ]
  },
  {
   "cell_type": "markdown",
   "metadata": {},
   "source": [
    "# Attempt 3:"
   ]
  },
  {
   "cell_type": "code",
   "execution_count": 20,
   "metadata": {},
   "outputs": [
    {
     "data": {
      "text/plain": [
       "0.8292327639972998"
      ]
     },
     "execution_count": 20,
     "metadata": {},
     "output_type": "execute_result"
    }
   ],
   "source": [
    "1 - correlation/(accuracy + correlation)"
   ]
  },
  {
   "cell_type": "markdown",
   "metadata": {},
   "source": [
    "# Attempt 4:"
   ]
  },
  {
   "cell_type": "code",
   "execution_count": 21,
   "metadata": {},
   "outputs": [
    {
     "data": {
      "text/plain": [
       "0.14805519361434108"
      ]
     },
     "execution_count": 21,
     "metadata": {},
     "output_type": "execute_result"
    }
   ],
   "source": [
    "1/ (1/accuracy + 1/correlation)"
   ]
  }
 ],
 "metadata": {
  "interpreter": {
   "hash": "ad60775ae12af945b53c5c94c294ef05f229143b8585a0d23625a81e181fdccc"
  },
  "kernelspec": {
   "display_name": "Python 3.7.4 64-bit ('tf-gpu': conda)",
   "language": "python",
   "name": "python3"
  },
  "language_info": {
   "codemirror_mode": {
    "name": "ipython",
    "version": 3
   },
   "file_extension": ".py",
   "mimetype": "text/x-python",
   "name": "python",
   "nbconvert_exporter": "python",
   "pygments_lexer": "ipython3",
   "version": "3.7.4"
  },
  "orig_nbformat": 4
 },
 "nbformat": 4,
 "nbformat_minor": 2
}
