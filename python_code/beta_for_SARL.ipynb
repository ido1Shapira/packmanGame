{
 "cells": [
  {
   "cell_type": "code",
   "execution_count": 1,
   "metadata": {},
   "outputs": [
    {
     "data": {
      "text/html": [
       "<div>\n",
       "<style scoped>\n",
       "    .dataframe tbody tr th:only-of-type {\n",
       "        vertical-align: middle;\n",
       "    }\n",
       "\n",
       "    .dataframe tbody tr th {\n",
       "        vertical-align: top;\n",
       "    }\n",
       "\n",
       "    .dataframe thead th {\n",
       "        text-align: right;\n",
       "    }\n",
       "</style>\n",
       "<table border=\"1\" class=\"dataframe\">\n",
       "  <thead>\n",
       "    <tr style=\"text-align: right;\">\n",
       "      <th></th>\n",
       "      <th>computer_score</th>\n",
       "      <th>human_score</th>\n",
       "      <th>computer_score_real</th>\n",
       "      <th>human_score_real</th>\n",
       "    </tr>\n",
       "  </thead>\n",
       "  <tbody>\n",
       "    <tr>\n",
       "      <th>-Mrxq3qHzIBT4S2E8ooK</th>\n",
       "      <td>0.85</td>\n",
       "      <td>0.89</td>\n",
       "      <td>1.00</td>\n",
       "      <td>0.99</td>\n",
       "    </tr>\n",
       "    <tr>\n",
       "      <th>-Mrxq7Ag3t6EAUpVxo_C</th>\n",
       "      <td>0.75</td>\n",
       "      <td>0.75</td>\n",
       "      <td>0.95</td>\n",
       "      <td>0.80</td>\n",
       "    </tr>\n",
       "    <tr>\n",
       "      <th>-Mrxq8C23gWU1NXTc8Hg</th>\n",
       "      <td>0.80</td>\n",
       "      <td>0.84</td>\n",
       "      <td>0.95</td>\n",
       "      <td>0.94</td>\n",
       "    </tr>\n",
       "    <tr>\n",
       "      <th>-Mrxq8hPTtLOqELhgh7y</th>\n",
       "      <td>0.85</td>\n",
       "      <td>0.85</td>\n",
       "      <td>1.00</td>\n",
       "      <td>0.95</td>\n",
       "    </tr>\n",
       "    <tr>\n",
       "      <th>-Mrxq9Qr5wmMfAV2wlbE</th>\n",
       "      <td>0.70</td>\n",
       "      <td>0.74</td>\n",
       "      <td>0.80</td>\n",
       "      <td>0.89</td>\n",
       "    </tr>\n",
       "    <tr>\n",
       "      <th>...</th>\n",
       "      <td>...</td>\n",
       "      <td>...</td>\n",
       "      <td>...</td>\n",
       "      <td>...</td>\n",
       "    </tr>\n",
       "    <tr>\n",
       "      <th>-Ms2rQG33QkpB3TWGKR_</th>\n",
       "      <td>1.23</td>\n",
       "      <td>0.25</td>\n",
       "      <td>1.23</td>\n",
       "      <td>0.50</td>\n",
       "    </tr>\n",
       "    <tr>\n",
       "      <th>-Ms33Q813uYS749Ffv2D</th>\n",
       "      <td>1.25</td>\n",
       "      <td>0.33</td>\n",
       "      <td>1.25</td>\n",
       "      <td>0.58</td>\n",
       "    </tr>\n",
       "    <tr>\n",
       "      <th>-Ms34stIk-gli2Cyq9k_</th>\n",
       "      <td>1.12</td>\n",
       "      <td>-0.31</td>\n",
       "      <td>1.12</td>\n",
       "      <td>-0.06</td>\n",
       "    </tr>\n",
       "    <tr>\n",
       "      <th>-Ms3BvyypWqR9JcwIzUJ</th>\n",
       "      <td>1.08</td>\n",
       "      <td>-0.30</td>\n",
       "      <td>1.08</td>\n",
       "      <td>-0.05</td>\n",
       "    </tr>\n",
       "    <tr>\n",
       "      <th>-Ms3aYBVBc0ffNZsEiaq</th>\n",
       "      <td>1.22</td>\n",
       "      <td>0.22</td>\n",
       "      <td>1.22</td>\n",
       "      <td>0.47</td>\n",
       "    </tr>\n",
       "  </tbody>\n",
       "</table>\n",
       "<p>101 rows × 4 columns</p>\n",
       "</div>"
      ],
      "text/plain": [
       "                      computer_score  human_score  computer_score_real  \\\n",
       "-Mrxq3qHzIBT4S2E8ooK            0.85         0.89                 1.00   \n",
       "-Mrxq7Ag3t6EAUpVxo_C            0.75         0.75                 0.95   \n",
       "-Mrxq8C23gWU1NXTc8Hg            0.80         0.84                 0.95   \n",
       "-Mrxq8hPTtLOqELhgh7y            0.85         0.85                 1.00   \n",
       "-Mrxq9Qr5wmMfAV2wlbE            0.70         0.74                 0.80   \n",
       "...                              ...          ...                  ...   \n",
       "-Ms2rQG33QkpB3TWGKR_            1.23         0.25                 1.23   \n",
       "-Ms33Q813uYS749Ffv2D            1.25         0.33                 1.25   \n",
       "-Ms34stIk-gli2Cyq9k_            1.12        -0.31                 1.12   \n",
       "-Ms3BvyypWqR9JcwIzUJ            1.08        -0.30                 1.08   \n",
       "-Ms3aYBVBc0ffNZsEiaq            1.22         0.22                 1.22   \n",
       "\n",
       "                      human_score_real  \n",
       "-Mrxq3qHzIBT4S2E8ooK              0.99  \n",
       "-Mrxq7Ag3t6EAUpVxo_C              0.80  \n",
       "-Mrxq8C23gWU1NXTc8Hg              0.94  \n",
       "-Mrxq8hPTtLOqELhgh7y              0.95  \n",
       "-Mrxq9Qr5wmMfAV2wlbE              0.89  \n",
       "...                                ...  \n",
       "-Ms2rQG33QkpB3TWGKR_              0.50  \n",
       "-Ms33Q813uYS749Ffv2D              0.58  \n",
       "-Ms34stIk-gli2Cyq9k_             -0.06  \n",
       "-Ms3BvyypWqR9JcwIzUJ             -0.05  \n",
       "-Ms3aYBVBc0ffNZsEiaq              0.47  \n",
       "\n",
       "[101 rows x 4 columns]"
      ]
     },
     "execution_count": 1,
     "metadata": {},
     "output_type": "execute_result"
    }
   ],
   "source": [
    "import pandas as pd\n",
    "from sklearn import preprocessing\n",
    "\n",
    "map_dir = 'map 4'\n",
    "df = pd.read_excel('./data/'+map_dir+'/all_agents_score.xlsx', index_col=0)\n",
    "df = df.drop('behavior', axis=1)\n",
    "df"
   ]
  },
  {
   "cell_type": "code",
   "execution_count": 2,
   "metadata": {},
   "outputs": [
    {
     "data": {
      "text/plain": [
       "0.10576013411258847"
      ]
     },
     "execution_count": 2,
     "metadata": {},
     "output_type": "execute_result"
    }
   ],
   "source": [
    "accuracy = 0.81\n",
    "\n",
    "min_c = df.computer_score.min()\n",
    "max_c = df.computer_score.max()\n",
    "\n",
    "min_h = df.human_score.min()\n",
    "max_h = df.human_score.min()\n",
    "\n",
    "correlation = df.computer_score.corr(df.human_score)\n",
    "correlation"
   ]
  },
  {
   "cell_type": "markdown",
   "metadata": {},
   "source": [
    "# Attempt 1:"
   ]
  },
  {
   "cell_type": "code",
   "execution_count": 3,
   "metadata": {},
   "outputs": [
    {
     "data": {
      "text/plain": [
       "0.8694319331943352"
      ]
     },
     "execution_count": 3,
     "metadata": {},
     "output_type": "execute_result"
    }
   ],
   "source": [
    "1 - correlation/accuracy"
   ]
  },
  {
   "cell_type": "markdown",
   "metadata": {},
   "source": [
    "# Attempt 2:"
   ]
  },
  {
   "cell_type": "code",
   "execution_count": 4,
   "metadata": {},
   "outputs": [],
   "source": [
    "x = df.values #returns a numpy array\n",
    "min_max_scaler = preprocessing.MinMaxScaler()\n",
    "x_scaled = min_max_scaler.fit_transform(x)\n",
    "normalized_df = pd.DataFrame(x_scaled, columns=df.columns)"
   ]
  },
  {
   "cell_type": "code",
   "execution_count": 5,
   "metadata": {},
   "outputs": [
    {
     "data": {
      "text/plain": [
       "0.669745751847098"
      ]
     },
     "execution_count": 5,
     "metadata": {},
     "output_type": "execute_result"
    }
   ],
   "source": [
    "rmse = ((normalized_df.computer_score - normalized_df.human_score) ** 2).mean() ** .5\n",
    "1 - rmse/accuracy"
   ]
  },
  {
   "cell_type": "markdown",
   "metadata": {},
   "source": [
    "# Attempt 3:"
   ]
  },
  {
   "cell_type": "code",
   "execution_count": 6,
   "metadata": {},
   "outputs": [],
   "source": [
    "import math\n",
    "uv = math.sqrt((max_c - min_c)**2 + (max_h - min_h)**2)\n"
   ]
  },
  {
   "cell_type": "markdown",
   "metadata": {},
   "source": [
    "# Attempt 4:"
   ]
  },
  {
   "cell_type": "code",
   "execution_count": null,
   "metadata": {},
   "outputs": [],
   "source": []
  }
 ],
 "metadata": {
  "interpreter": {
   "hash": "ad60775ae12af945b53c5c94c294ef05f229143b8585a0d23625a81e181fdccc"
  },
  "kernelspec": {
   "display_name": "Python 3.7.4 64-bit ('tf-gpu': conda)",
   "language": "python",
   "name": "python3"
  },
  "language_info": {
   "codemirror_mode": {
    "name": "ipython",
    "version": 3
   },
   "file_extension": ".py",
   "mimetype": "text/x-python",
   "name": "python",
   "nbconvert_exporter": "python",
   "pygments_lexer": "ipython3",
   "version": "3.7.4"
  },
  "orig_nbformat": 4
 },
 "nbformat": 4,
 "nbformat_minor": 2
}
