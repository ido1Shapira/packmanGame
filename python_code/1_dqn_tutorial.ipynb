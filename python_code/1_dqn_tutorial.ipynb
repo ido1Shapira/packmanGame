{
 "cells": [
  {
   "cell_type": "markdown",
   "source": [
    "##### Copyright 2021 The TF-Agents Authors."
   ],
   "metadata": {
    "id": "klGNgWREsvQv"
   }
  },
  {
   "cell_type": "code",
   "execution_count": 1,
   "source": [
    "#@title Licensed under the Apache License, Version 2.0 (the \"License\");\r\n",
    "# you may not use this file except in compliance with the License.\r\n",
    "# You may obtain a copy of the License at\r\n",
    "#\r\n",
    "# https://www.apache.org/licenses/LICENSE-2.0\r\n",
    "#\r\n",
    "# Unless required by applicable law or agreed to in writing, software\r\n",
    "# distributed under the License is distributed on an \"AS IS\" BASIS,\r\n",
    "# WITHOUT WARRANTIES OR CONDITIONS OF ANY KIND, either express or implied.\r\n",
    "# See the License for the specific language governing permissions and\r\n",
    "# limitations under the License."
   ],
   "outputs": [],
   "metadata": {
    "cellView": "form",
    "execution": {
     "iopub.execute_input": "2021-06-09T12:08:01.454344Z",
     "iopub.status.busy": "2021-06-09T12:08:01.453803Z",
     "iopub.status.idle": "2021-06-09T12:08:01.456292Z",
     "shell.execute_reply": "2021-06-09T12:08:01.455829Z"
    },
    "id": "nQnmcm0oI1Q-"
   }
  },
  {
   "cell_type": "markdown",
   "source": [
    "# Train a Deep Q Network with TF-Agents\n",
    "\n",
    "<table class=\"tfo-notebook-buttons\" align=\"left\">\n",
    "  <td>\n",
    "    <a target=\"_blank\" href=\"https://www.tensorflow.org/agents/tutorials/1_dqn_tutorial\">\n",
    "    <img src=\"https://www.tensorflow.org/images/tf_logo_32px.png\" />\n",
    "    View on TensorFlow.org</a>\n",
    "  </td>\n",
    "  <td>\n",
    "    <a target=\"_blank\" href=\"https://colab.research.google.com/github/tensorflow/agents/blob/master/docs/tutorials/1_dqn_tutorial.ipynb\">\n",
    "    <img src=\"https://www.tensorflow.org/images/colab_logo_32px.png\" />\n",
    "    Run in Google Colab</a>\n",
    "  </td>\n",
    "  <td>\n",
    "    <a target=\"_blank\" href=\"https://github.com/tensorflow/agents/blob/master/docs/tutorials/1_dqn_tutorial.ipynb\">\n",
    "    <img src=\"https://www.tensorflow.org/images/GitHub-Mark-32px.png\" />\n",
    "    View source on GitHub</a>\n",
    "  </td>\n",
    "  <td>\n",
    "    <a href=\"https://storage.googleapis.com/tensorflow_docs/agents/docs/tutorials/1_dqn_tutorial.ipynb\"><img src=\"https://www.tensorflow.org/images/download_logo_32px.png\" />Download notebook</a>\n",
    "  </td>\n",
    "</table>"
   ],
   "metadata": {
    "id": "pmDI-h7cI0tI"
   }
  },
  {
   "cell_type": "markdown",
   "source": [
    "## Introduction\n"
   ],
   "metadata": {
    "id": "lsaQlK8fFQqH"
   }
  },
  {
   "cell_type": "markdown",
   "source": [
    "This example shows how to train a [DQN (Deep Q Networks)](https://storage.googleapis.com/deepmind-media/dqn/DQNNaturePaper.pdf)  agent on the Cartpole environment using the TF-Agents library.\n",
    "\n",
    "![Cartpole environment](https://raw.githubusercontent.com/tensorflow/agents/master/docs/tutorials/images/cartpole.png)\n",
    "\n",
    "It will walk you through all the components in a Reinforcement Learning (RL) pipeline for training, evaluation and data collection.\n",
    "\n",
    "\n",
    "To run this code live, click the 'Run in Google Colab' link above.\n"
   ],
   "metadata": {
    "id": "cKOCZlhUgXVK"
   }
  },
  {
   "cell_type": "markdown",
   "source": [
    "## Setup"
   ],
   "metadata": {
    "id": "1u9QVVsShC9X"
   }
  },
  {
   "cell_type": "markdown",
   "source": [
    "If you haven't installed the following dependencies, run:"
   ],
   "metadata": {
    "id": "kNrNXKI7bINP"
   }
  },
  {
   "cell_type": "code",
   "execution_count": 2,
   "source": [
    "# !sudo apt-get update\r\n",
    "# !sudo apt-get install -y xvfb ffmpeg\r\n",
    "# !pip install 'imageio==2.4.0'\r\n",
    "# !pip install pyvirtualdisplay\r\n",
    "# !pip install tf-agents"
   ],
   "outputs": [],
   "metadata": {
    "execution": {
     "iopub.execute_input": "2021-06-09T12:08:01.464785Z",
     "iopub.status.busy": "2021-06-09T12:08:01.464226Z",
     "iopub.status.idle": "2021-06-09T12:08:11.950927Z",
     "shell.execute_reply": "2021-06-09T12:08:11.951322Z"
    },
    "id": "KEHR2Ui-lo8O"
   }
  },
  {
   "cell_type": "code",
   "execution_count": 3,
   "source": [
    "from __future__ import absolute_import, division, print_function\r\n",
    "\r\n",
    "import base64\r\n",
    "import imageio\r\n",
    "import IPython\r\n",
    "import matplotlib\r\n",
    "import matplotlib.pyplot as plt\r\n",
    "import numpy as np\r\n",
    "import PIL.Image\r\n",
    "import pyvirtualdisplay\r\n",
    "\r\n",
    "import tensorflow as tf\r\n",
    "\r\n",
    "from tf_agents.agents.dqn import dqn_agent\r\n",
    "from tf_agents.environments import suite_gym\r\n",
    "from tf_agents.environments import tf_py_environment\r\n",
    "from tf_agents.eval import metric_utils\r\n",
    "from tf_agents.metrics import tf_metrics\r\n",
    "from tf_agents.networks import sequential\r\n",
    "from tf_agents.policies import random_tf_policy\r\n",
    "from tf_agents.replay_buffers import tf_uniform_replay_buffer\r\n",
    "from tf_agents.trajectories import trajectory\r\n",
    "from tf_agents.specs import tensor_spec\r\n",
    "from tf_agents.utils import common"
   ],
   "outputs": [],
   "metadata": {
    "execution": {
     "iopub.execute_input": "2021-06-09T12:08:11.957178Z",
     "iopub.status.busy": "2021-06-09T12:08:11.956605Z",
     "iopub.status.idle": "2021-06-09T12:08:14.002999Z",
     "shell.execute_reply": "2021-06-09T12:08:14.002481Z"
    },
    "id": "sMitx5qSgJk1"
   }
  },
  {
   "cell_type": "code",
   "execution_count": 6,
   "source": [
    "# This line only work on ubuntu\r\n",
    "\r\n",
    "# Set up a virtual display for rendering OpenAI gym environments.\r\n",
    "# display = pyvirtualdisplay.Display(visible=0, size=(1400, 900)).start()"
   ],
   "outputs": [],
   "metadata": {
    "execution": {
     "iopub.execute_input": "2021-06-09T12:08:14.011610Z",
     "iopub.status.busy": "2021-06-09T12:08:14.006368Z",
     "iopub.status.idle": "2021-06-09T12:08:14.092921Z",
     "shell.execute_reply": "2021-06-09T12:08:14.093305Z"
    },
    "id": "J6HsdS5GbSjd"
   }
  },
  {
   "cell_type": "code",
   "execution_count": 7,
   "source": [
    "tf.version.VERSION"
   ],
   "outputs": [
    {
     "output_type": "execute_result",
     "data": {
      "text/plain": [
       "'2.6.0'"
      ]
     },
     "metadata": {},
     "execution_count": 7
    }
   ],
   "metadata": {
    "execution": {
     "iopub.execute_input": "2021-06-09T12:08:14.100145Z",
     "iopub.status.busy": "2021-06-09T12:08:14.099380Z",
     "iopub.status.idle": "2021-06-09T12:08:14.102243Z",
     "shell.execute_reply": "2021-06-09T12:08:14.102600Z"
    },
    "id": "NspmzG4nP3b9"
   }
  },
  {
   "cell_type": "markdown",
   "source": [
    "## Hyperparameters"
   ],
   "metadata": {
    "id": "LmC0NDhdLIKY"
   }
  },
  {
   "cell_type": "code",
   "execution_count": 8,
   "source": [
    "num_iterations = 20000 # @param {type:\"integer\"}\r\n",
    "\r\n",
    "initial_collect_steps = 100  # @param {type:\"integer\"} \r\n",
    "collect_steps_per_iteration = 1  # @param {type:\"integer\"}\r\n",
    "replay_buffer_max_length = 100000  # @param {type:\"integer\"}\r\n",
    "\r\n",
    "batch_size = 64  # @param {type:\"integer\"}\r\n",
    "learning_rate = 1e-3  # @param {type:\"number\"}\r\n",
    "log_interval = 200  # @param {type:\"integer\"}\r\n",
    "\r\n",
    "num_eval_episodes = 10  # @param {type:\"integer\"}\r\n",
    "eval_interval = 1000  # @param {type:\"integer\"}"
   ],
   "outputs": [],
   "metadata": {
    "execution": {
     "iopub.execute_input": "2021-06-09T12:08:14.106935Z",
     "iopub.status.busy": "2021-06-09T12:08:14.106334Z",
     "iopub.status.idle": "2021-06-09T12:08:14.108518Z",
     "shell.execute_reply": "2021-06-09T12:08:14.108091Z"
    },
    "id": "HC1kNrOsLSIZ"
   }
  },
  {
   "cell_type": "markdown",
   "source": [
    "## Environment\n",
    "\n",
    "In Reinforcement Learning (RL), an environment represents the task or problem to be solved. Standard environments can be created in TF-Agents using `tf_agents.environments` suites. TF-Agents has suites for loading environments from sources such as the OpenAI Gym, Atari, and DM Control.\n",
    "\n",
    "Load the CartPole environment from the OpenAI Gym suite. "
   ],
   "metadata": {
    "id": "VMsJC3DEgI0x"
   }
  },
  {
   "cell_type": "code",
   "execution_count": 9,
   "source": [
    "env_name = 'CartPole-v0'\r\n",
    "env = suite_gym.load(env_name)"
   ],
   "outputs": [],
   "metadata": {
    "execution": {
     "iopub.execute_input": "2021-06-09T12:08:14.112114Z",
     "iopub.status.busy": "2021-06-09T12:08:14.111536Z",
     "iopub.status.idle": "2021-06-09T12:08:14.117412Z",
     "shell.execute_reply": "2021-06-09T12:08:14.116850Z"
    },
    "id": "pYEz-S9gEv2-"
   }
  },
  {
   "cell_type": "markdown",
   "source": [
    "You can render this environment to see how it looks. A free-swinging pole is attached to a cart.  The goal is to move the cart right or left in order to keep the pole pointing up."
   ],
   "metadata": {
    "id": "IIHYVBkuvPNw"
   }
  },
  {
   "cell_type": "code",
   "execution_count": 10,
   "source": [
    "#@test {\"skip\": true}\r\n",
    "env.reset()\r\n",
    "PIL.Image.fromarray(env.render())"
   ],
   "outputs": [
    {
     "output_type": "stream",
     "name": "stderr",
     "text": [
      "C:\\Users\\USER\\Anaconda3\\lib\\site-packages\\pyglet\\image\\codecs\\wic.py:289: UserWarning: [WinError -2147417850] Cannot change thread mode after it is set\n",
      "  warnings.warn(str(err))\n"
     ]
    },
    {
     "output_type": "execute_result",
     "data": {
      "text/plain": [
       "<PIL.Image.Image image mode=RGB size=600x400 at 0x177579310C8>"
      ],
      "image/png": "[encoded data removed]"
     },
     "metadata": {},
     "execution_count": 10
    }
   ],
   "metadata": {
    "execution": {
     "iopub.execute_input": "2021-06-09T12:08:14.121566Z",
     "iopub.status.busy": "2021-06-09T12:08:14.120981Z",
     "iopub.status.idle": "2021-06-09T12:08:14.484223Z",
     "shell.execute_reply": "2021-06-09T12:08:14.484699Z"
    },
    "id": "RlO7WIQHu_7D"
   }
  },
  {
   "cell_type": "markdown",
   "source": [
    "The `environment.step` method takes an `action` in the environment and returns a `TimeStep` tuple containing the next observation of the environment and the reward for the action.\n",
    "\n",
    "The `time_step_spec()` method returns the specification for the `TimeStep` tuple. Its `observation` attribute shows the shape of observations, the data types, and the ranges of allowed values. The `reward` attribute shows the same details for the reward.\n"
   ],
   "metadata": {
    "id": "B9_lskPOey18"
   }
  },
  {
   "cell_type": "code",
   "execution_count": 11,
   "source": [
    "print('Observation Spec:')\r\n",
    "print(env.time_step_spec().observation)"
   ],
   "outputs": [
    {
     "output_type": "stream",
     "name": "stdout",
     "text": [
      "Observation Spec:\n",
      "BoundedArraySpec(shape=(4,), dtype=dtype('float32'), name='observation', minimum=[-4.8000002e+00 -3.4028235e+38 -4.1887903e-01 -3.4028235e+38], maximum=[4.8000002e+00 3.4028235e+38 4.1887903e-01 3.4028235e+38])\n"
     ]
    }
   ],
   "metadata": {
    "execution": {
     "iopub.execute_input": "2021-06-09T12:08:14.490743Z",
     "iopub.status.busy": "2021-06-09T12:08:14.490094Z",
     "iopub.status.idle": "2021-06-09T12:08:14.492374Z",
     "shell.execute_reply": "2021-06-09T12:08:14.492822Z"
    },
    "id": "exDv57iHfwQV"
   }
  },
  {
   "cell_type": "code",
   "execution_count": 12,
   "source": [
    "print('Reward Spec:')\r\n",
    "print(env.time_step_spec().reward)"
   ],
   "outputs": [
    {
     "output_type": "stream",
     "name": "stdout",
     "text": [
      "Reward Spec:\n",
      "ArraySpec(shape=(), dtype=dtype('float32'), name='reward')\n"
     ]
    }
   ],
   "metadata": {
    "execution": {
     "iopub.execute_input": "2021-06-09T12:08:14.496826Z",
     "iopub.status.busy": "2021-06-09T12:08:14.496229Z",
     "iopub.status.idle": "2021-06-09T12:08:14.498407Z",
     "shell.execute_reply": "2021-06-09T12:08:14.498735Z"
    },
    "id": "UxiSyCbBUQPi"
   }
  },
  {
   "cell_type": "markdown",
   "source": [
    "The `action_spec()` method returns the shape, data types, and allowed values of valid actions."
   ],
   "metadata": {
    "id": "b_lHcIcqUaqB"
   }
  },
  {
   "cell_type": "code",
   "execution_count": 13,
   "source": [
    "print('Action Spec:')\n",
    "print(env.action_spec())"
   ],
   "outputs": [
    {
     "output_type": "stream",
     "name": "stdout",
     "text": [
      "Action Spec:\n",
      "BoundedArraySpec(shape=(), dtype=dtype('int64'), name='action', minimum=0, maximum=1)\n"
     ]
    }
   ],
   "metadata": {
    "execution": {
     "iopub.execute_input": "2021-06-09T12:08:14.502299Z",
     "iopub.status.busy": "2021-06-09T12:08:14.501741Z",
     "iopub.status.idle": "2021-06-09T12:08:14.504359Z",
     "shell.execute_reply": "2021-06-09T12:08:14.503896Z"
    },
    "id": "bttJ4uxZUQBr"
   }
  },
  {
   "cell_type": "markdown",
   "source": [
    "In the Cartpole environment:\n",
    "\n",
    "-   `observation` is an array of 4 floats: \n",
    "    -   the position and velocity of the cart\n",
    "    -   the angular position and velocity of the pole \n",
    "-   `reward` is a scalar float value\n",
    "-   `action` is a scalar integer with only two possible values:\n",
    "    -   `0` — \"move left\"\n",
    "    -   `1` — \"move right\"\n"
   ],
   "metadata": {
    "id": "eJCgJnx3g0yY"
   }
  },
  {
   "cell_type": "code",
   "execution_count": 14,
   "source": [
    "time_step = env.reset()\n",
    "print('Time step:')\n",
    "print(time_step)\n",
    "\n",
    "action = np.array(1, dtype=np.int32)\n",
    "\n",
    "next_time_step = env.step(action)\n",
    "print('Next time step:')\n",
    "print(next_time_step)"
   ],
   "outputs": [
    {
     "output_type": "stream",
     "name": "stdout",
     "text": [
      "Time step:\n",
      "TimeStep(\n",
      "{'discount': array(1., dtype=float32),\n",
      " 'observation': array([0.02372911, 0.01684719, 0.01150568, 0.0340338 ], dtype=float32),\n",
      " 'reward': array(0., dtype=float32),\n",
      " 'step_type': array(0)})\n",
      "Next time step:\n",
      "TimeStep(\n",
      "{'discount': array(1., dtype=float32),\n",
      " 'observation': array([ 0.02406606,  0.21180227,  0.01218636, -0.25499687], dtype=float32),\n",
      " 'reward': array(1., dtype=float32),\n",
      " 'step_type': array(1)})\n"
     ]
    }
   ],
   "metadata": {
    "execution": {
     "iopub.execute_input": "2021-06-09T12:08:14.511263Z",
     "iopub.status.busy": "2021-06-09T12:08:14.510707Z",
     "iopub.status.idle": "2021-06-09T12:08:14.512918Z",
     "shell.execute_reply": "2021-06-09T12:08:14.513258Z"
    },
    "id": "V2UGR5t_iZX-"
   }
  },
  {
   "cell_type": "markdown",
   "source": [
    "Usually two environments are instantiated: one for training and one for evaluation. "
   ],
   "metadata": {
    "id": "4JSc9GviWUBK"
   }
  },
  {
   "cell_type": "code",
   "execution_count": 15,
   "source": [
    "train_py_env = suite_gym.load(env_name)\n",
    "eval_py_env = suite_gym.load(env_name)"
   ],
   "outputs": [],
   "metadata": {
    "execution": {
     "iopub.execute_input": "2021-06-09T12:08:14.518219Z",
     "iopub.status.busy": "2021-06-09T12:08:14.517279Z",
     "iopub.status.idle": "2021-06-09T12:08:14.520519Z",
     "shell.execute_reply": "2021-06-09T12:08:14.520079Z"
    },
    "id": "N7brXNIGWXjC"
   }
  },
  {
   "cell_type": "markdown",
   "source": [
    "The Cartpole environment, like most environments, is written in pure Python. This is converted to TensorFlow using the `TFPyEnvironment` wrapper.\n",
    "\n",
    "The original environment's API uses Numpy arrays. The `TFPyEnvironment` converts these to `Tensors` to make it compatible with Tensorflow agents and policies.\n"
   ],
   "metadata": {
    "id": "zuUqXAVmecTU"
   }
  },
  {
   "cell_type": "code",
   "execution_count": 16,
   "source": [
    "train_env = tf_py_environment.TFPyEnvironment(train_py_env)\n",
    "eval_env = tf_py_environment.TFPyEnvironment(eval_py_env)"
   ],
   "outputs": [],
   "metadata": {
    "execution": {
     "iopub.execute_input": "2021-06-09T12:08:14.524730Z",
     "iopub.status.busy": "2021-06-09T12:08:14.524161Z",
     "iopub.status.idle": "2021-06-09T12:08:14.528917Z",
     "shell.execute_reply": "2021-06-09T12:08:14.528525Z"
    },
    "id": "Xp-Y4mD6eDhF"
   }
  },
  {
   "cell_type": "markdown",
   "source": [
    "## Agent\n",
    "\n",
    "The algorithm used to solve an RL problem is represented by an `Agent`. TF-Agents provides standard implementations of a variety of `Agents`, including:\n",
    "\n",
    "-   [DQN](https://storage.googleapis.com/deepmind-media/dqn/DQNNaturePaper.pdf) (used in this tutorial)\n",
    "-   [REINFORCE](https://www-anw.cs.umass.edu/~barto/courses/cs687/williams92simple.pdf)\n",
    "-   [DDPG](https://arxiv.org/pdf/1509.02971.pdf)\n",
    "-   [TD3](https://arxiv.org/pdf/1802.09477.pdf)\n",
    "-   [PPO](https://arxiv.org/abs/1707.06347)\n",
    "-   [SAC](https://arxiv.org/abs/1801.01290).\n",
    "\n",
    "The DQN agent can be used in any environment which has a discrete action space.\n",
    "\n",
    "At the heart of a DQN Agent is a `QNetwork`, a neural network model that can learn to predict `QValues` (expected returns) for all actions, given an observation from the environment.\n",
    "\n",
    "We will use `tf_agents.networks.` to create a `QNetwork`. The network will consist of a sequence of `tf.keras.layers.Dense` layers, where the final layer will have 1 output for each possible action."
   ],
   "metadata": {
    "id": "E9lW_OZYFR8A"
   }
  },
  {
   "cell_type": "code",
   "execution_count": 17,
   "source": [
    "fc_layer_params = (100, 50)\n",
    "action_tensor_spec = tensor_spec.from_spec(env.action_spec())\n",
    "num_actions = action_tensor_spec.maximum - action_tensor_spec.minimum + 1\n",
    "\n",
    "# Define a helper function to create Dense layers configured with the right\n",
    "# activation and kernel initializer.\n",
    "def dense_layer(num_units):\n",
    "  return tf.keras.layers.Dense(\n",
    "      num_units,\n",
    "      activation=tf.keras.activations.relu,\n",
    "      kernel_initializer=tf.keras.initializers.VarianceScaling(\n",
    "          scale=2.0, mode='fan_in', distribution='truncated_normal'))\n",
    "\n",
    "# QNetwork consists of a sequence of Dense layers followed by a dense layer\n",
    "# with `num_actions` units to generate one q_value per available action as\n",
    "# it's output.\n",
    "dense_layers = [dense_layer(num_units) for num_units in fc_layer_params]\n",
    "q_values_layer = tf.keras.layers.Dense(\n",
    "    num_actions,\n",
    "    activation=None,\n",
    "    kernel_initializer=tf.keras.initializers.RandomUniform(\n",
    "        minval=-0.03, maxval=0.03),\n",
    "    bias_initializer=tf.keras.initializers.Constant(-0.2))\n",
    "q_net = sequential.Sequential(dense_layers + [q_values_layer])"
   ],
   "outputs": [],
   "metadata": {
    "execution": {
     "iopub.execute_input": "2021-06-09T12:08:14.537481Z",
     "iopub.status.busy": "2021-06-09T12:08:14.534314Z",
     "iopub.status.idle": "2021-06-09T12:08:14.547005Z",
     "shell.execute_reply": "2021-06-09T12:08:14.546563Z"
    },
    "id": "TgkdEPg_muzV"
   }
  },
  {
   "cell_type": "markdown",
   "source": [
    "Now use `tf_agents.agents.dqn.dqn_agent` to instantiate a `DqnAgent`. In addition to the `time_step_spec`, `action_spec` and the QNetwork, the agent constructor also requires an optimizer (in this case, `AdamOptimizer`), a loss function, and an integer step counter."
   ],
   "metadata": {
    "id": "z62u55hSmviJ"
   }
  },
  {
   "cell_type": "code",
   "execution_count": 18,
   "source": [
    "optimizer = tf.keras.optimizers.Adam(learning_rate=learning_rate)\n",
    "\n",
    "train_step_counter = tf.Variable(0)\n",
    "\n",
    "agent = dqn_agent.DqnAgent(\n",
    "    train_env.time_step_spec(),\n",
    "    train_env.action_spec(),\n",
    "    q_network=q_net,\n",
    "    optimizer=optimizer,\n",
    "    td_errors_loss_fn=common.element_wise_squared_loss,\n",
    "    train_step_counter=train_step_counter)\n",
    "\n",
    "agent.initialize()"
   ],
   "outputs": [],
   "metadata": {
    "execution": {
     "iopub.execute_input": "2021-06-09T12:08:14.557560Z",
     "iopub.status.busy": "2021-06-09T12:08:14.556642Z",
     "iopub.status.idle": "2021-06-09T12:08:14.583406Z",
     "shell.execute_reply": "2021-06-09T12:08:14.582980Z"
    },
    "id": "jbY4yrjTEyc9"
   }
  },
  {
   "cell_type": "markdown",
   "source": [
    "## Policies\n",
    "\n",
    "A policy defines the way an agent acts in an environment. Typically, the goal of reinforcement learning is to train the underlying model until the policy produces the desired outcome.\n",
    "\n",
    "In this tutorial:\n",
    "\n",
    "-   The desired outcome is keeping the pole balanced upright over the cart.\n",
    "-   The policy returns an action (left or right) for each `time_step` observation.\n",
    "\n",
    "Agents contain two policies: \n",
    "\n",
    "-   `agent.policy` — The main policy that is used for evaluation and deployment.\n",
    "-   `agent.collect_policy` — A second policy that is used for data collection.\n"
   ],
   "metadata": {
    "id": "I0KLrEPwkn5x"
   }
  },
  {
   "cell_type": "code",
   "execution_count": 19,
   "source": [
    "eval_policy = agent.policy\n",
    "collect_policy = agent.collect_policy"
   ],
   "outputs": [],
   "metadata": {
    "execution": {
     "iopub.execute_input": "2021-06-09T12:08:14.586763Z",
     "iopub.status.busy": "2021-06-09T12:08:14.586219Z",
     "iopub.status.idle": "2021-06-09T12:08:14.588277Z",
     "shell.execute_reply": "2021-06-09T12:08:14.587817Z"
    },
    "id": "BwY7StuMkuV4"
   }
  },
  {
   "cell_type": "markdown",
   "source": [
    "Policies can be created independently of agents. For example, use `tf_agents.policies.random_tf_policy` to create a policy which will randomly select an action for each `time_step`."
   ],
   "metadata": {
    "id": "2Qs1Fl3dV0ae"
   }
  },
  {
   "cell_type": "code",
   "execution_count": 20,
   "source": [
    "random_policy = random_tf_policy.RandomTFPolicy(train_env.time_step_spec(),\n",
    "                                                train_env.action_spec())"
   ],
   "outputs": [],
   "metadata": {
    "execution": {
     "iopub.execute_input": "2021-06-09T12:08:14.591871Z",
     "iopub.status.busy": "2021-06-09T12:08:14.591259Z",
     "iopub.status.idle": "2021-06-09T12:08:14.593049Z",
     "shell.execute_reply": "2021-06-09T12:08:14.593386Z"
    },
    "id": "HE37-UCIrE69"
   }
  },
  {
   "cell_type": "markdown",
   "source": [
    "To get an action from a policy, call the `policy.action(time_step)` method. The `time_step` contains the observation from the environment. This method returns a `PolicyStep`, which is a named tuple with three components:\n",
    "\n",
    "-   `action` — the action to be taken (in this case, `0` or `1`)\n",
    "-   `state` — used for stateful (that is, RNN-based) policies\n",
    "-   `info` — auxiliary data, such as log probabilities of actions"
   ],
   "metadata": {
    "id": "dOlnlRRsUbxP"
   }
  },
  {
   "cell_type": "code",
   "execution_count": 21,
   "source": [
    "example_environment = tf_py_environment.TFPyEnvironment(\n",
    "    suite_gym.load('CartPole-v0'))"
   ],
   "outputs": [],
   "metadata": {
    "execution": {
     "iopub.execute_input": "2021-06-09T12:08:14.597963Z",
     "iopub.status.busy": "2021-06-09T12:08:14.597402Z",
     "iopub.status.idle": "2021-06-09T12:08:14.716890Z",
     "shell.execute_reply": "2021-06-09T12:08:14.717263Z"
    },
    "id": "5gCcpXswVAxk"
   }
  },
  {
   "cell_type": "code",
   "execution_count": 22,
   "source": [
    "time_step = example_environment.reset()"
   ],
   "outputs": [],
   "metadata": {
    "execution": {
     "iopub.execute_input": "2021-06-09T12:08:14.721349Z",
     "iopub.status.busy": "2021-06-09T12:08:14.720749Z",
     "iopub.status.idle": "2021-06-09T12:08:14.722701Z",
     "shell.execute_reply": "2021-06-09T12:08:14.723022Z"
    },
    "id": "D4DHZtq3Ndis"
   }
  },
  {
   "cell_type": "code",
   "execution_count": 23,
   "source": [
    "random_policy.action(time_step)"
   ],
   "outputs": [
    {
     "output_type": "execute_result",
     "data": {
      "text/plain": [
       "PolicyStep(action=<tf.Tensor: shape=(1,), dtype=int64, numpy=array([1], dtype=int64)>, state=(), info=())"
      ]
     },
     "metadata": {},
     "execution_count": 23
    }
   ],
   "metadata": {
    "execution": {
     "iopub.execute_input": "2021-06-09T12:08:14.726419Z",
     "iopub.status.busy": "2021-06-09T12:08:14.725854Z",
     "iopub.status.idle": "2021-06-09T12:08:14.730052Z",
     "shell.execute_reply": "2021-06-09T12:08:14.730394Z"
    },
    "id": "PRFqAUzpNaAW"
   }
  },
  {
   "cell_type": "markdown",
   "source": [
    "## Metrics and Evaluation\n",
    "\n",
    "The most common metric used to evaluate a policy is the average return. The return is the sum of rewards obtained while running a policy in an environment for an episode. Several episodes are run, creating an average return.\n",
    "\n",
    "The following function computes the average return of a policy, given the policy, environment, and a number of episodes.\n"
   ],
   "metadata": {
    "id": "94rCXQtbUbXv"
   }
  },
  {
   "cell_type": "code",
   "execution_count": 24,
   "source": [
    "#@test {\"skip\": true}\n",
    "def compute_avg_return(environment, policy, num_episodes=10):\n",
    "\n",
    "  total_return = 0.0\n",
    "  for _ in range(num_episodes):\n",
    "\n",
    "    time_step = environment.reset()\n",
    "    episode_return = 0.0\n",
    "\n",
    "    while not time_step.is_last():\n",
    "      action_step = policy.action(time_step)\n",
    "      time_step = environment.step(action_step.action)\n",
    "      episode_return += time_step.reward\n",
    "    total_return += episode_return\n",
    "\n",
    "  avg_return = total_return / num_episodes\n",
    "  return avg_return.numpy()[0]\n",
    "\n",
    "\n",
    "# See also the metrics module for standard implementations of different metrics.\n",
    "# https://github.com/tensorflow/agents/tree/master/tf_agents/metrics"
   ],
   "outputs": [],
   "metadata": {
    "execution": {
     "iopub.execute_input": "2021-06-09T12:08:14.735009Z",
     "iopub.status.busy": "2021-06-09T12:08:14.734447Z",
     "iopub.status.idle": "2021-06-09T12:08:14.736044Z",
     "shell.execute_reply": "2021-06-09T12:08:14.736380Z"
    },
    "id": "bitzHo5_UbXy"
   }
  },
  {
   "cell_type": "markdown",
   "source": [
    "Running this computation on the `random_policy` shows a baseline performance in the environment."
   ],
   "metadata": {
    "id": "_snCVvq5Z8lJ"
   }
  },
  {
   "cell_type": "code",
   "execution_count": 25,
   "source": [
    "compute_avg_return(eval_env, random_policy, num_eval_episodes)"
   ],
   "outputs": [
    {
     "output_type": "execute_result",
     "data": {
      "text/plain": [
       "19.7"
      ]
     },
     "metadata": {},
     "execution_count": 25
    }
   ],
   "metadata": {
    "execution": {
     "iopub.execute_input": "2021-06-09T12:08:14.740249Z",
     "iopub.status.busy": "2021-06-09T12:08:14.739680Z",
     "iopub.status.idle": "2021-06-09T12:08:15.082571Z",
     "shell.execute_reply": "2021-06-09T12:08:15.082135Z"
    },
    "id": "9bgU6Q6BZ8Bp"
   }
  },
  {
   "cell_type": "markdown",
   "source": [
    "## Replay Buffer\n",
    "\n",
    "The replay buffer keeps track of data collected from the environment. This tutorial uses `tf_agents.replay_buffers.tf_uniform_replay_buffer.TFUniformReplayBuffer`, as it is the most common. \n",
    "\n",
    "The constructor requires the specs for the data it will be collecting. This is available from the agent using the `collect_data_spec` method. The batch size and maximum buffer length are also required.\n"
   ],
   "metadata": {
    "id": "NLva6g2jdWgr"
   }
  },
  {
   "cell_type": "code",
   "execution_count": 26,
   "source": [
    "replay_buffer = tf_uniform_replay_buffer.TFUniformReplayBuffer(\n",
    "    data_spec=agent.collect_data_spec,\n",
    "    batch_size=train_env.batch_size,\n",
    "    max_length=replay_buffer_max_length)"
   ],
   "outputs": [],
   "metadata": {
    "execution": {
     "iopub.execute_input": "2021-06-09T12:08:15.086440Z",
     "iopub.status.busy": "2021-06-09T12:08:15.085869Z",
     "iopub.status.idle": "2021-06-09T12:08:15.095564Z",
     "shell.execute_reply": "2021-06-09T12:08:15.095099Z"
    },
    "id": "vX2zGUWJGWAl"
   }
  },
  {
   "cell_type": "markdown",
   "source": [
    "For most agents, `collect_data_spec` is a named tuple called `Trajectory`, containing the specs for observations, actions, rewards, and other items."
   ],
   "metadata": {
    "id": "ZGNTDJpZs4NN"
   }
  },
  {
   "cell_type": "code",
   "execution_count": 27,
   "source": [
    "agent.collect_data_spec"
   ],
   "outputs": [
    {
     "output_type": "execute_result",
     "data": {
      "text/plain": [
       "Trajectory(\n",
       "{'action': BoundedTensorSpec(shape=(), dtype=tf.int64, name='action', minimum=array(0, dtype=int64), maximum=array(1, dtype=int64)),\n",
       " 'discount': BoundedTensorSpec(shape=(), dtype=tf.float32, name='discount', minimum=array(0., dtype=float32), maximum=array(1., dtype=float32)),\n",
       " 'next_step_type': TensorSpec(shape=(), dtype=tf.int32, name='step_type'),\n",
       " 'observation': BoundedTensorSpec(shape=(4,), dtype=tf.float32, name='observation', minimum=array([-4.8000002e+00, -3.4028235e+38, -4.1887903e-01, -3.4028235e+38],\n",
       "      dtype=float32), maximum=array([4.8000002e+00, 3.4028235e+38, 4.1887903e-01, 3.4028235e+38],\n",
       "      dtype=float32)),\n",
       " 'policy_info': (),\n",
       " 'reward': TensorSpec(shape=(), dtype=tf.float32, name='reward'),\n",
       " 'step_type': TensorSpec(shape=(), dtype=tf.int32, name='step_type')})"
      ]
     },
     "metadata": {},
     "execution_count": 27
    }
   ],
   "metadata": {
    "execution": {
     "iopub.execute_input": "2021-06-09T12:08:15.100519Z",
     "iopub.status.busy": "2021-06-09T12:08:15.099957Z",
     "iopub.status.idle": "2021-06-09T12:08:15.102769Z",
     "shell.execute_reply": "2021-06-09T12:08:15.102379Z"
    },
    "id": "_IZ-3HcqgE1z"
   }
  },
  {
   "cell_type": "code",
   "execution_count": 28,
   "source": [
    "agent.collect_data_spec._fields"
   ],
   "outputs": [
    {
     "output_type": "execute_result",
     "data": {
      "text/plain": [
       "('step_type',\n",
       " 'observation',\n",
       " 'action',\n",
       " 'policy_info',\n",
       " 'next_step_type',\n",
       " 'reward',\n",
       " 'discount')"
      ]
     },
     "metadata": {},
     "execution_count": 28
    }
   ],
   "metadata": {
    "execution": {
     "iopub.execute_input": "2021-06-09T12:08:15.106194Z",
     "iopub.status.busy": "2021-06-09T12:08:15.105617Z",
     "iopub.status.idle": "2021-06-09T12:08:15.108347Z",
     "shell.execute_reply": "2021-06-09T12:08:15.107944Z"
    },
    "id": "sy6g1tGcfRlw"
   }
  },
  {
   "cell_type": "markdown",
   "source": [
    "## Data Collection\n",
    "\n",
    "Now execute the random policy in the environment for a few steps, recording the data in the replay buffer."
   ],
   "metadata": {
    "id": "rVD5nQ9ZGo8_"
   }
  },
  {
   "cell_type": "code",
   "execution_count": 29,
   "source": [
    "#@test {\"skip\": true}\n",
    "def collect_step(environment, policy, buffer):\n",
    "  time_step = environment.current_time_step()\n",
    "  action_step = policy.action(time_step)\n",
    "  next_time_step = environment.step(action_step.action)\n",
    "  traj = trajectory.from_transition(time_step, action_step, next_time_step)\n",
    "\n",
    "  # Add trajectory to the replay buffer\n",
    "  buffer.add_batch(traj)\n",
    "\n",
    "def collect_data(env, policy, buffer, steps):\n",
    "  for _ in range(steps):\n",
    "    collect_step(env, policy, buffer)\n",
    "\n",
    "collect_data(train_env, random_policy, replay_buffer, initial_collect_steps)\n",
    "\n",
    "# This loop is so common in RL, that we provide standard implementations. \n",
    "# For more details see tutorial 4 or the drivers module.\n",
    "# https://github.com/tensorflow/agents/blob/master/docs/tutorials/4_drivers_tutorial.ipynb \n",
    "# https://www.tensorflow.org/agents/api_docs/python/tf_agents/drivers"
   ],
   "outputs": [],
   "metadata": {
    "execution": {
     "iopub.execute_input": "2021-06-09T12:08:15.113897Z",
     "iopub.status.busy": "2021-06-09T12:08:15.112829Z",
     "iopub.status.idle": "2021-06-09T12:08:15.327852Z",
     "shell.execute_reply": "2021-06-09T12:08:15.327409Z"
    },
    "id": "wr1KSAEGG4h9"
   }
  },
  {
   "cell_type": "markdown",
   "source": [
    "The replay buffer is now a collection of Trajectories."
   ],
   "metadata": {
    "id": "84z5pQJdoKxo"
   }
  },
  {
   "cell_type": "code",
   "execution_count": 30,
   "source": [
    "# For the curious:\n",
    "# Uncomment to peel one of these off and inspect it.\n",
    "# iter(replay_buffer.as_dataset()).next()"
   ],
   "outputs": [],
   "metadata": {
    "execution": {
     "iopub.execute_input": "2021-06-09T12:08:15.330914Z",
     "iopub.status.busy": "2021-06-09T12:08:15.330365Z",
     "iopub.status.idle": "2021-06-09T12:08:15.332044Z",
     "shell.execute_reply": "2021-06-09T12:08:15.332385Z"
    },
    "id": "4wZnLu2ViO4E"
   }
  },
  {
   "cell_type": "markdown",
   "source": [
    "The agent needs access to the replay buffer. This is provided by creating an iterable `tf.data.Dataset` pipeline which will feed data to the agent.\n",
    "\n",
    "Each row of the replay buffer only stores a single observation step. But since the DQN Agent needs both the current and next observation to compute the loss, the dataset pipeline will sample two adjacent rows for each item in the batch (`num_steps=2`).\n",
    "\n",
    "This dataset is also optimized by running parallel calls and prefetching data."
   ],
   "metadata": {
    "id": "TujU-PMUsKjS"
   }
  },
  {
   "cell_type": "code",
   "execution_count": 31,
   "source": [
    "# Dataset generates trajectories with shape [Bx2x...]\n",
    "dataset = replay_buffer.as_dataset(\n",
    "    num_parallel_calls=3, \n",
    "    sample_batch_size=batch_size, \n",
    "    num_steps=2).prefetch(3)\n",
    "\n",
    "\n",
    "dataset"
   ],
   "outputs": [
    {
     "output_type": "stream",
     "name": "stdout",
     "text": [
      "WARNING:tensorflow:From C:\\Users\\USER\\Anaconda3\\lib\\site-packages\\tensorflow\\python\\data\\experimental\\ops\\counter.py:66: scan (from tensorflow.python.data.experimental.ops.scan_ops) is deprecated and will be removed in a future version.\n",
      "Instructions for updating:\n",
      "Use `tf.data.Dataset.scan(...) instead\n",
      "WARNING:tensorflow:From C:\\Users\\USER\\Anaconda3\\lib\\site-packages\\tensorflow\\python\\autograph\\impl\\api.py:382: ReplayBuffer.get_next (from tf_agents.replay_buffers.replay_buffer) is deprecated and will be removed in a future version.\n",
      "Instructions for updating:\n",
      "Use `as_dataset(..., single_deterministic_pass=False) instead.\n"
     ]
    },
    {
     "output_type": "execute_result",
     "data": {
      "text/plain": [
       "<PrefetchDataset shapes: (Trajectory(\n",
       "{action: (64, 2),\n",
       " discount: (64, 2),\n",
       " next_step_type: (64, 2),\n",
       " observation: (64, 2, 4),\n",
       " policy_info: (),\n",
       " reward: (64, 2),\n",
       " step_type: (64, 2)}), BufferInfo(ids=(64, 2), probabilities=(64,))), types: (Trajectory(\n",
       "{action: tf.int64,\n",
       " discount: tf.float32,\n",
       " next_step_type: tf.int32,\n",
       " observation: tf.float32,\n",
       " policy_info: (),\n",
       " reward: tf.float32,\n",
       " step_type: tf.int32}), BufferInfo(ids=tf.int64, probabilities=tf.float32))>"
      ]
     },
     "metadata": {},
     "execution_count": 31
    }
   ],
   "metadata": {
    "execution": {
     "iopub.execute_input": "2021-06-09T12:08:15.335992Z",
     "iopub.status.busy": "2021-06-09T12:08:15.335415Z",
     "iopub.status.idle": "2021-06-09T12:08:15.917058Z",
     "shell.execute_reply": "2021-06-09T12:08:15.917395Z"
    },
    "id": "ba7bilizt_qW"
   }
  },
  {
   "cell_type": "code",
   "execution_count": 32,
   "source": [
    "iterator = iter(dataset)\n",
    "print(iterator)"
   ],
   "outputs": [
    {
     "output_type": "stream",
     "name": "stdout",
     "text": [
      "<tensorflow.python.data.ops.iterator_ops.OwnedIterator object at 0x0000017759220CC8>\n"
     ]
    }
   ],
   "metadata": {
    "execution": {
     "iopub.execute_input": "2021-06-09T12:08:15.920917Z",
     "iopub.status.busy": "2021-06-09T12:08:15.920327Z",
     "iopub.status.idle": "2021-06-09T12:08:15.978263Z",
     "shell.execute_reply": "2021-06-09T12:08:15.978640Z"
    },
    "id": "K13AST-2ppOq"
   }
  },
  {
   "cell_type": "code",
   "execution_count": 33,
   "source": [
    "# For the curious:\n",
    "# Uncomment to see what the dataset iterator is feeding to the agent.\n",
    "# Compare this representation of replay data \n",
    "# to the collection of individual trajectories shown earlier.\n",
    "\n",
    "# iterator.next()"
   ],
   "outputs": [],
   "metadata": {
    "execution": {
     "iopub.execute_input": "2021-06-09T12:08:15.981611Z",
     "iopub.status.busy": "2021-06-09T12:08:15.981053Z",
     "iopub.status.idle": "2021-06-09T12:08:15.982722Z",
     "shell.execute_reply": "2021-06-09T12:08:15.983047Z"
    },
    "id": "Th5w5Sff0b16"
   }
  },
  {
   "cell_type": "markdown",
   "source": [
    "## Training the agent\n",
    "\n",
    "Two things must happen during the training loop:\n",
    "\n",
    "-   collect data from the environment\n",
    "-   use that data to train the agent's neural network(s)\n",
    "\n",
    "This example also periodicially evaluates the policy and prints the current score.\n",
    "\n",
    "The following will take ~5 minutes to run."
   ],
   "metadata": {
    "id": "hBc9lj9VWWtZ"
   }
  },
  {
   "cell_type": "code",
   "execution_count": null,
   "source": [
    "#@test {\"skip\": true}\n",
    "try:\n",
    "  %%time\n",
    "except:\n",
    "  pass\n",
    "\n",
    "# (Optional) Optimize by wrapping some of the code in a graph using TF function.\n",
    "agent.train = common.function(agent.train)\n",
    "\n",
    "# Reset the train step\n",
    "agent.train_step_counter.assign(0)\n",
    "\n",
    "# Evaluate the agent's policy once before training.\n",
    "avg_return = compute_avg_return(eval_env, agent.policy, num_eval_episodes)\n",
    "returns = [avg_return]\n",
    "\n",
    "for _ in range(num_iterations):\n",
    "\n",
    "    # Collect a few steps using collect_policy and save to the replay buffer.\n",
    "    collect_data(train_env, agent.collect_policy, replay_buffer, collect_steps_per_iteration)\n",
    "\n",
    "    # Sample a batch of data from the buffer and update the agent's network.\n",
    "    experience, unused_info = next(iterator)\n",
    "    train_loss = agent.train(experience).loss\n",
    "\n",
    "    step = agent.train_step_counter.numpy()\n",
    "\n",
    "    if step % log_interval == 0:\n",
    "        print('step = {0}: loss = {1}'.format(step, train_loss))\n",
    "\n",
    "    if step % eval_interval == 0:\n",
    "        avg_return = compute_avg_return(eval_env, agent.policy, num_eval_episodes)\n",
    "        print('step = {0}: Average Return = {1}'.format(step, avg_return))\n",
    "        returns.append(avg_return)"
   ],
   "outputs": [
    {
     "output_type": "stream",
     "name": "stdout",
     "text": [
      "WARNING:tensorflow:From C:\\Users\\USER\\Anaconda3\\lib\\site-packages\\tensorflow\\python\\util\\dispatch.py:206: calling foldr_v2 (from tensorflow.python.ops.functional_ops) with back_prop=False is deprecated and will be removed in a future version.\n",
      "Instructions for updating:\n",
      "back_prop=False is deprecated. Consider using tf.stop_gradient instead.\n",
      "Instead of:\n",
      "results = tf.foldr(fn, elems, back_prop=False)\n",
      "Use:\n",
      "results = tf.nest.map_structure(tf.stop_gradient, tf.foldr(fn, elems))\n",
      "step = 200: loss = 12.134634971618652\n",
      "step = 400: loss = 12.703948020935059\n",
      "step = 600: loss = 30.763978958129883\n",
      "step = 800: loss = 228.8932647705078\n",
      "step = 1000: loss = 50.230499267578125\n",
      "step = 1000: Average Return = 126.19999694824219\n",
      "step = 1200: loss = 96.87796020507812\n",
      "step = 1400: loss = 75.96510314941406\n",
      "step = 1600: loss = 113.52375793457031\n",
      "step = 1800: loss = 249.92221069335938\n",
      "step = 2000: loss = 525.8641357421875\n",
      "step = 2000: Average Return = 150.10000610351562\n",
      "step = 2200: loss = 27.361331939697266\n",
      "step = 2400: loss = 38.556640625\n",
      "step = 2600: loss = 68.62284851074219\n",
      "step = 2800: loss = 36.03436279296875\n",
      "step = 3000: loss = 25.41277503967285\n",
      "step = 3000: Average Return = 143.0\n",
      "step = 3200: loss = 19.321048736572266\n",
      "step = 3400: loss = 12.514748573303223\n",
      "step = 3600: loss = 15.897669792175293\n",
      "step = 3800: loss = 11.664780616760254\n",
      "step = 4000: loss = 13.904827117919922\n",
      "step = 4000: Average Return = 200.0\n",
      "step = 4200: loss = 28.043231964111328\n",
      "step = 4400: loss = 11.515165328979492\n",
      "step = 4600: loss = 31.93955421447754\n",
      "step = 4800: loss = 5584.51953125\n",
      "step = 5000: loss = 1183.909423828125\n",
      "step = 5000: Average Return = 200.0\n",
      "step = 5200: loss = 2825.548095703125\n",
      "step = 5400: loss = 2958.708740234375\n",
      "step = 5600: loss = 5024.3046875\n",
      "step = 5800: loss = 4061.623779296875\n",
      "step = 6000: loss = 8545.857421875\n",
      "step = 6000: Average Return = 200.0\n",
      "step = 6200: loss = 10625.6630859375\n",
      "step = 6400: loss = 15712.611328125\n",
      "step = 6600: loss = 14600.13671875\n",
      "step = 6800: loss = 50214.921875\n",
      "step = 7000: loss = 129064.453125\n",
      "step = 7000: Average Return = 200.0\n",
      "step = 7200: loss = 173245.71875\n",
      "step = 7400: loss = 131293.15625\n",
      "step = 7600: loss = 273292.34375\n",
      "step = 7800: loss = 234438.765625\n",
      "step = 8000: loss = 385314.9375\n",
      "step = 8000: Average Return = 200.0\n",
      "step = 8200: loss = 469422.1875\n",
      "step = 8400: loss = 426972.71875\n",
      "step = 8600: loss = 657589.375\n",
      "step = 8800: loss = 783142.25\n",
      "step = 9000: loss = 596689.5\n",
      "step = 9000: Average Return = 200.0\n",
      "step = 9200: loss = 805099.375\n",
      "step = 9400: loss = 1288948.25\n",
      "step = 9600: loss = 1953784.875\n",
      "step = 9800: loss = 4516207.0\n",
      "step = 10000: loss = 2851208.5\n",
      "step = 10000: Average Return = 200.0\n",
      "step = 10200: loss = 2046866.0\n",
      "step = 10400: loss = 3219579.5\n",
      "step = 10600: loss = 6382356.5\n",
      "step = 10800: loss = 3661486.75\n",
      "step = 11000: loss = 3688438.0\n",
      "step = 11000: Average Return = 200.0\n",
      "step = 11200: loss = 4816093.0\n",
      "step = 11400: loss = 4033315.5\n",
      "step = 11600: loss = 4925736.5\n",
      "step = 11800: loss = 6297492.0\n",
      "step = 12000: loss = 8709904.0\n",
      "step = 12000: Average Return = 200.0\n",
      "step = 12200: loss = 12441901.0\n",
      "step = 12400: loss = 23499316.0\n",
      "step = 12600: loss = 55947288.0\n",
      "step = 12800: loss = 636218304.0\n",
      "step = 13000: loss = 102744544.0\n",
      "step = 13000: Average Return = 32.5\n",
      "step = 13200: loss = 124124656.0\n",
      "step = 13400: loss = 1853152896.0\n",
      "step = 13600: loss = 122174768.0\n",
      "step = 13800: loss = 126888184.0\n",
      "step = 14000: loss = 1326381184.0\n",
      "step = 14000: Average Return = 200.0\n",
      "step = 14200: loss = 86310336.0\n",
      "step = 14400: loss = 178135056.0\n",
      "step = 14600: loss = 1458218496.0\n",
      "step = 14800: loss = 184222144.0\n",
      "step = 15000: loss = 184072608.0\n",
      "step = 15000: Average Return = 200.0\n",
      "step = 15200: loss = 114582288.0\n"
     ]
    }
   ],
   "metadata": {
    "execution": {
     "iopub.execute_input": "2021-06-09T12:08:15.990870Z",
     "iopub.status.busy": "2021-06-09T12:08:15.990298Z",
     "iopub.status.idle": "2021-06-09T12:12:24.897936Z",
     "shell.execute_reply": "2021-06-09T12:12:24.898275Z"
    },
    "id": "0pTbJ3PeyF-u"
   }
  },
  {
   "cell_type": "markdown",
   "source": [
    "## Visualization\n"
   ],
   "metadata": {
    "id": "68jNcA_TiJDq"
   }
  },
  {
   "cell_type": "markdown",
   "source": [
    "### Plots\n",
    "\n",
    "Use `matplotlib.pyplot` to chart how the policy improved during training.\n",
    "\n",
    "One iteration of `Cartpole-v0` consists of 200 time steps. The environment gives a reward of `+1` for each step the pole stays up, so the maximum return for one episode is 200. The charts shows the return increasing towards that maximum each time it is evaluated during training. (It may be a little unstable and not increase monotonically each time.)"
   ],
   "metadata": {
    "id": "aO-LWCdbbOIC"
   }
  },
  {
   "cell_type": "code",
   "execution_count": null,
   "source": [
    "#@test {\"skip\": true}\n",
    "\n",
    "iterations = range(0, num_iterations + 1, eval_interval)\n",
    "plt.plot(iterations, returns)\n",
    "plt.ylabel('Average Return')\n",
    "plt.xlabel('Iterations')\n",
    "plt.ylim(top=250)"
   ],
   "outputs": [],
   "metadata": {
    "execution": {
     "iopub.execute_input": "2021-06-09T12:12:24.915349Z",
     "iopub.status.busy": "2021-06-09T12:12:24.914806Z",
     "iopub.status.idle": "2021-06-09T12:12:25.019504Z",
     "shell.execute_reply": "2021-06-09T12:12:25.019844Z"
    },
    "id": "NxtL1mbOYCVO"
   }
  },
  {
   "cell_type": "markdown",
   "source": [
    "### Videos"
   ],
   "metadata": {
    "id": "M7-XpPP99Cy7"
   }
  },
  {
   "cell_type": "markdown",
   "source": [
    "Charts are nice. But more exciting is seeing an agent actually performing a task in an environment. \n",
    "\n",
    "First, create a function to embed videos in the notebook."
   ],
   "metadata": {
    "id": "9pGfGxSH32gn"
   }
  },
  {
   "cell_type": "code",
   "execution_count": null,
   "source": [
    "def embed_mp4(filename):\n",
    "  \"\"\"Embeds an mp4 file in the notebook.\"\"\"\n",
    "  video = open(filename,'rb').read()\n",
    "  b64 = base64.b64encode(video)\n",
    "  tag = '''\n",
    "  <video width=\"640\" height=\"480\" controls>\n",
    "    <source src=\"data:video/mp4;base64,{0}\" type=\"video/mp4\">\n",
    "  Your browser does not support the video tag.\n",
    "  </video>'''.format(b64.decode())\n",
    "\n",
    "  return IPython.display.HTML(tag)"
   ],
   "outputs": [],
   "metadata": {
    "execution": {
     "iopub.execute_input": "2021-06-09T12:12:25.024404Z",
     "iopub.status.busy": "2021-06-09T12:12:25.023843Z",
     "iopub.status.idle": "2021-06-09T12:12:25.025897Z",
     "shell.execute_reply": "2021-06-09T12:12:25.025498Z"
    },
    "id": "ULaGr8pvOKbl"
   }
  },
  {
   "cell_type": "markdown",
   "source": [
    "Now iterate through a few episodes of the Cartpole game with the agent. The underlying Python environment (the one \"inside\" the TensorFlow environment wrapper) provides a `render()` method, which outputs an image of the environment state. These can be collected into a video."
   ],
   "metadata": {
    "id": "9c_PH-pX4Pr5"
   }
  },
  {
   "cell_type": "code",
   "execution_count": null,
   "source": [
    "def create_policy_eval_video(policy, filename, num_episodes=5, fps=30):\n",
    "  filename = filename + \".mp4\"\n",
    "  with imageio.get_writer(filename, fps=fps) as video:\n",
    "    for _ in range(num_episodes):\n",
    "      time_step = eval_env.reset()\n",
    "      video.append_data(eval_py_env.render())\n",
    "      while not time_step.is_last():\n",
    "        action_step = policy.action(time_step)\n",
    "        time_step = eval_env.step(action_step.action)\n",
    "        video.append_data(eval_py_env.render())\n",
    "  return embed_mp4(filename)\n",
    "\n",
    "\n",
    "\n",
    "\n",
    "create_policy_eval_video(agent.policy, \"trained-agent\")"
   ],
   "outputs": [],
   "metadata": {
    "execution": {
     "iopub.execute_input": "2021-06-09T12:12:25.031028Z",
     "iopub.status.busy": "2021-06-09T12:12:25.030437Z",
     "iopub.status.idle": "2021-06-09T12:12:33.395239Z",
     "shell.execute_reply": "2021-06-09T12:12:33.395676Z"
    },
    "id": "owOVWB158NlF"
   }
  },
  {
   "cell_type": "markdown",
   "source": [
    "For fun, compare the trained agent (above) to an agent moving randomly. (It does not do as well.)"
   ],
   "metadata": {
    "id": "povaAOcZygLw"
   }
  },
  {
   "cell_type": "code",
   "execution_count": null,
   "source": [
    "create_policy_eval_video(random_policy, \"random-agent\")"
   ],
   "outputs": [],
   "metadata": {
    "execution": {
     "iopub.execute_input": "2021-06-09T12:12:33.400440Z",
     "iopub.status.busy": "2021-06-09T12:12:33.399795Z",
     "iopub.status.idle": "2021-06-09T12:12:34.269219Z",
     "shell.execute_reply": "2021-06-09T12:12:34.269579Z"
    },
    "id": "pJZIdC37yNH4"
   }
  }
 ],
 "metadata": {
  "colab": {
   "collapsed_sections": [],
   "name": "DQN Tutorial.ipynb",
   "private_outputs": true,
   "provenance": [],
   "toc_visible": true
  },
  "kernelspec": {
   "display_name": "Python 3",
   "language": "python",
   "name": "python3"
  },
  "language_info": {
   "codemirror_mode": {
    "name": "ipython",
    "version": 3
   },
   "file_extension": ".py",
   "mimetype": "text/x-python",
   "name": "python",
   "nbconvert_exporter": "python",
   "pygments_lexer": "ipython3",
   "version": "3.7.4"
  },
  "pycharm": {
   "stem_cell": {
    "cell_type": "raw",
    "metadata": {
     "collapsed": false
    },
    "source": []
   }
  }
 },
 "nbformat": 4,
 "nbformat_minor": 1
}