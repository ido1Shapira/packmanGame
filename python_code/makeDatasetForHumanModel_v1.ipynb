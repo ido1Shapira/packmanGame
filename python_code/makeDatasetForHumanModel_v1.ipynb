{
 "cells": [
  {
   "cell_type": "code",
   "execution_count": 1,
   "metadata": {},
   "outputs": [],
   "source": [
    "import json\n",
    "import glob\n",
    "import pandas as pd\n",
    "import matplotlib.pyplot as plt\n",
    "import numpy as np\n",
    "import os\n",
    "import shutil\n",
    "\n",
    "from PIL import Image\n",
    "\n",
    "map_dir = 'map 5'\n",
    "path = './data/'+map_dir+'/data-of-baselines.json'"
   ]
  },
  {
   "cell_type": "code",
   "execution_count": 2,
   "metadata": {},
   "outputs": [],
   "source": [
    "#load data from the json file\n",
    "with open(path) as train_file:\n",
    "    data = json.load(train_file)"
   ]
  },
  {
   "cell_type": "markdown",
   "metadata": {},
   "source": [
    "# Survay results:"
   ]
  },
  {
   "cell_type": "markdown",
   "metadata": {},
   "source": [
    "upload Id workers and search for duplicate workers"
   ]
  },
  {
   "cell_type": "code",
   "execution_count": 3,
   "metadata": {},
   "outputs": [
    {
     "data": {
      "text/html": [
       "<div>\n",
       "<style scoped>\n",
       "    .dataframe tbody tr th:only-of-type {\n",
       "        vertical-align: middle;\n",
       "    }\n",
       "\n",
       "    .dataframe tbody tr th {\n",
       "        vertical-align: top;\n",
       "    }\n",
       "\n",
       "    .dataframe thead th {\n",
       "        text-align: right;\n",
       "    }\n",
       "</style>\n",
       "<table border=\"1\" class=\"dataframe\">\n",
       "  <thead>\n",
       "    <tr style=\"text-align: right;\">\n",
       "      <th></th>\n",
       "      <th>behavior</th>\n",
       "      <th>additional_comments</th>\n",
       "      <th>birth_year</th>\n",
       "      <th>collaborative_value</th>\n",
       "      <th>computer_score</th>\n",
       "      <th>computer_value</th>\n",
       "      <th>education</th>\n",
       "      <th>gender</th>\n",
       "      <th>human_score</th>\n",
       "      <th>predictable_value</th>\n",
       "      <th>selfishly_value</th>\n",
       "      <th>wisely_value</th>\n",
       "      <th>WorkerId</th>\n",
       "    </tr>\n",
       "  </thead>\n",
       "  <tbody>\n",
       "    <tr>\n",
       "      <th>-Ms8apzf274KAnw8anBV</th>\n",
       "      <td>TSP</td>\n",
       "      <td>NICE STUDY.</td>\n",
       "      <td>1981</td>\n",
       "      <td>5</td>\n",
       "      <td>0.300</td>\n",
       "      <td>6</td>\n",
       "      <td>BA</td>\n",
       "      <td>female</td>\n",
       "      <td>1.200</td>\n",
       "      <td>5</td>\n",
       "      <td>5</td>\n",
       "      <td>4</td>\n",
       "      <td>ATZ6BKELCGF6H</td>\n",
       "    </tr>\n",
       "    <tr>\n",
       "      <th>-Ms8areDl12-5B5lSAX5</th>\n",
       "      <td>TSP</td>\n",
       "      <td>I used to play in a league with that blue guy,...</td>\n",
       "      <td>1980</td>\n",
       "      <td>2</td>\n",
       "      <td>0.900</td>\n",
       "      <td>6</td>\n",
       "      <td>BA</td>\n",
       "      <td>male</td>\n",
       "      <td>0.900</td>\n",
       "      <td>6</td>\n",
       "      <td>2</td>\n",
       "      <td>3</td>\n",
       "      <td>A37MQE3V7PAGMB</td>\n",
       "    </tr>\n",
       "    <tr>\n",
       "      <th>-Ms8at7zSAJbq6RGJXMI</th>\n",
       "      <td>TSP</td>\n",
       "      <td></td>\n",
       "      <td>1978</td>\n",
       "      <td>4</td>\n",
       "      <td>0.450</td>\n",
       "      <td>7</td>\n",
       "      <td>Ph.D</td>\n",
       "      <td>male</td>\n",
       "      <td>0.500</td>\n",
       "      <td>3</td>\n",
       "      <td>2</td>\n",
       "      <td>4</td>\n",
       "      <td>A2ZPSPA0R8KSL8</td>\n",
       "    </tr>\n",
       "    <tr>\n",
       "      <th>-Ms8av2Z5M2XEIGMqjsx</th>\n",
       "      <td>TSP</td>\n",
       "      <td></td>\n",
       "      <td>1972</td>\n",
       "      <td>6</td>\n",
       "      <td>0.700</td>\n",
       "      <td>4</td>\n",
       "      <td>BA</td>\n",
       "      <td>female</td>\n",
       "      <td>0.780</td>\n",
       "      <td>7</td>\n",
       "      <td>7</td>\n",
       "      <td>6</td>\n",
       "      <td>A3SJTDFJ03P5LJ</td>\n",
       "    </tr>\n",
       "    <tr>\n",
       "      <th>-Ms8avJTdP2GRxWwV6VG</th>\n",
       "      <td>TSP</td>\n",
       "      <td>It was too hard to move your piece</td>\n",
       "      <td>1995</td>\n",
       "      <td>6</td>\n",
       "      <td>0.300</td>\n",
       "      <td>7</td>\n",
       "      <td>BA</td>\n",
       "      <td>female</td>\n",
       "      <td>0.480</td>\n",
       "      <td>4</td>\n",
       "      <td>1</td>\n",
       "      <td>6</td>\n",
       "      <td>A38LW34F26WBJY</td>\n",
       "    </tr>\n",
       "    <tr>\n",
       "      <th>...</th>\n",
       "      <td>...</td>\n",
       "      <td>...</td>\n",
       "      <td>...</td>\n",
       "      <td>...</td>\n",
       "      <td>...</td>\n",
       "      <td>...</td>\n",
       "      <td>...</td>\n",
       "      <td>...</td>\n",
       "      <td>...</td>\n",
       "      <td>...</td>\n",
       "      <td>...</td>\n",
       "      <td>...</td>\n",
       "      <td>...</td>\n",
       "    </tr>\n",
       "    <tr>\n",
       "      <th>-Ms8yOdJ_uqmQwTur4dU</th>\n",
       "      <td>TSP</td>\n",
       "      <td></td>\n",
       "      <td>1980</td>\n",
       "      <td>6</td>\n",
       "      <td>0.800</td>\n",
       "      <td>4</td>\n",
       "      <td>Master's degree</td>\n",
       "      <td>female</td>\n",
       "      <td>0.800</td>\n",
       "      <td>4</td>\n",
       "      <td>5</td>\n",
       "      <td>5</td>\n",
       "      <td>A1IKWVZZ26QTLU</td>\n",
       "    </tr>\n",
       "    <tr>\n",
       "      <th>-Ms8ycpJ_XMkhBsmof1z</th>\n",
       "      <td>TSP</td>\n",
       "      <td></td>\n",
       "      <td>1980</td>\n",
       "      <td>5</td>\n",
       "      <td>0.850</td>\n",
       "      <td>6</td>\n",
       "      <td>Master's degree</td>\n",
       "      <td>female</td>\n",
       "      <td>0.900</td>\n",
       "      <td>6</td>\n",
       "      <td>4</td>\n",
       "      <td>5</td>\n",
       "      <td>A1IKWVZZ26QTLU</td>\n",
       "    </tr>\n",
       "    <tr>\n",
       "      <th>-Ms8yqCEZ_bTC4cYxXgi</th>\n",
       "      <td>closest</td>\n",
       "      <td></td>\n",
       "      <td>1985</td>\n",
       "      <td>5</td>\n",
       "      <td>0.750</td>\n",
       "      <td>5</td>\n",
       "      <td>Master's degree</td>\n",
       "      <td>male</td>\n",
       "      <td>0.850</td>\n",
       "      <td>6</td>\n",
       "      <td>4</td>\n",
       "      <td>6</td>\n",
       "      <td>A1RUBSQBBOJHPO</td>\n",
       "    </tr>\n",
       "    <tr>\n",
       "      <th>-Ms8zGLaJT_jVdeJnmUO</th>\n",
       "      <td>farthest</td>\n",
       "      <td></td>\n",
       "      <td>1985</td>\n",
       "      <td>5</td>\n",
       "      <td>0.950</td>\n",
       "      <td>5</td>\n",
       "      <td>Master's degree</td>\n",
       "      <td>male</td>\n",
       "      <td>1.000</td>\n",
       "      <td>6</td>\n",
       "      <td>4</td>\n",
       "      <td>6</td>\n",
       "      <td>A1RUBSQBBOJHPO</td>\n",
       "    </tr>\n",
       "    <tr>\n",
       "      <th>-Ms99IDhbSnEbmxXBhYR</th>\n",
       "      <td>TSP</td>\n",
       "      <td>good</td>\n",
       "      <td>1984</td>\n",
       "      <td>7</td>\n",
       "      <td>0.500</td>\n",
       "      <td>4</td>\n",
       "      <td>Master's degree</td>\n",
       "      <td>male</td>\n",
       "      <td>0.500</td>\n",
       "      <td>7</td>\n",
       "      <td>1</td>\n",
       "      <td>4</td>\n",
       "      <td>A3PIS6JZDD12CT</td>\n",
       "    </tr>\n",
       "  </tbody>\n",
       "</table>\n",
       "<p>205 rows × 13 columns</p>\n",
       "</div>"
      ],
      "text/plain": [
       "                      behavior  \\\n",
       "-Ms8apzf274KAnw8anBV       TSP   \n",
       "-Ms8areDl12-5B5lSAX5       TSP   \n",
       "-Ms8at7zSAJbq6RGJXMI       TSP   \n",
       "-Ms8av2Z5M2XEIGMqjsx       TSP   \n",
       "-Ms8avJTdP2GRxWwV6VG       TSP   \n",
       "...                        ...   \n",
       "-Ms8yOdJ_uqmQwTur4dU       TSP   \n",
       "-Ms8ycpJ_XMkhBsmof1z       TSP   \n",
       "-Ms8yqCEZ_bTC4cYxXgi   closest   \n",
       "-Ms8zGLaJT_jVdeJnmUO  farthest   \n",
       "-Ms99IDhbSnEbmxXBhYR       TSP   \n",
       "\n",
       "                                                    additional_comments  \\\n",
       "-Ms8apzf274KAnw8anBV                                        NICE STUDY.   \n",
       "-Ms8areDl12-5B5lSAX5  I used to play in a league with that blue guy,...   \n",
       "-Ms8at7zSAJbq6RGJXMI                                                      \n",
       "-Ms8av2Z5M2XEIGMqjsx                                                      \n",
       "-Ms8avJTdP2GRxWwV6VG                 It was too hard to move your piece   \n",
       "...                                                                 ...   \n",
       "-Ms8yOdJ_uqmQwTur4dU                                                      \n",
       "-Ms8ycpJ_XMkhBsmof1z                                                      \n",
       "-Ms8yqCEZ_bTC4cYxXgi                                                      \n",
       "-Ms8zGLaJT_jVdeJnmUO                                                      \n",
       "-Ms99IDhbSnEbmxXBhYR                                               good   \n",
       "\n",
       "                     birth_year collaborative_value computer_score  \\\n",
       "-Ms8apzf274KAnw8anBV       1981                   5          0.300   \n",
       "-Ms8areDl12-5B5lSAX5       1980                   2          0.900   \n",
       "-Ms8at7zSAJbq6RGJXMI       1978                   4          0.450   \n",
       "-Ms8av2Z5M2XEIGMqjsx       1972                   6          0.700   \n",
       "-Ms8avJTdP2GRxWwV6VG       1995                   6          0.300   \n",
       "...                         ...                 ...            ...   \n",
       "-Ms8yOdJ_uqmQwTur4dU       1980                   6          0.800   \n",
       "-Ms8ycpJ_XMkhBsmof1z       1980                   5          0.850   \n",
       "-Ms8yqCEZ_bTC4cYxXgi       1985                   5          0.750   \n",
       "-Ms8zGLaJT_jVdeJnmUO       1985                   5          0.950   \n",
       "-Ms99IDhbSnEbmxXBhYR       1984                   7          0.500   \n",
       "\n",
       "                     computer_value        education  gender human_score  \\\n",
       "-Ms8apzf274KAnw8anBV              6               BA  female       1.200   \n",
       "-Ms8areDl12-5B5lSAX5              6               BA    male       0.900   \n",
       "-Ms8at7zSAJbq6RGJXMI              7             Ph.D    male       0.500   \n",
       "-Ms8av2Z5M2XEIGMqjsx              4               BA  female       0.780   \n",
       "-Ms8avJTdP2GRxWwV6VG              7               BA  female       0.480   \n",
       "...                             ...              ...     ...         ...   \n",
       "-Ms8yOdJ_uqmQwTur4dU              4  Master's degree  female       0.800   \n",
       "-Ms8ycpJ_XMkhBsmof1z              6  Master's degree  female       0.900   \n",
       "-Ms8yqCEZ_bTC4cYxXgi              5  Master's degree    male       0.850   \n",
       "-Ms8zGLaJT_jVdeJnmUO              5  Master's degree    male       1.000   \n",
       "-Ms99IDhbSnEbmxXBhYR              4  Master's degree    male       0.500   \n",
       "\n",
       "                     predictable_value selfishly_value wisely_value  \\\n",
       "-Ms8apzf274KAnw8anBV                 5               5            4   \n",
       "-Ms8areDl12-5B5lSAX5                 6               2            3   \n",
       "-Ms8at7zSAJbq6RGJXMI                 3               2            4   \n",
       "-Ms8av2Z5M2XEIGMqjsx                 7               7            6   \n",
       "-Ms8avJTdP2GRxWwV6VG                 4               1            6   \n",
       "...                                ...             ...          ...   \n",
       "-Ms8yOdJ_uqmQwTur4dU                 4               5            5   \n",
       "-Ms8ycpJ_XMkhBsmof1z                 6               4            5   \n",
       "-Ms8yqCEZ_bTC4cYxXgi                 6               4            6   \n",
       "-Ms8zGLaJT_jVdeJnmUO                 6               4            6   \n",
       "-Ms99IDhbSnEbmxXBhYR                 7               1            4   \n",
       "\n",
       "                            WorkerId  \n",
       "-Ms8apzf274KAnw8anBV   ATZ6BKELCGF6H  \n",
       "-Ms8areDl12-5B5lSAX5  A37MQE3V7PAGMB  \n",
       "-Ms8at7zSAJbq6RGJXMI  A2ZPSPA0R8KSL8  \n",
       "-Ms8av2Z5M2XEIGMqjsx  A3SJTDFJ03P5LJ  \n",
       "-Ms8avJTdP2GRxWwV6VG  A38LW34F26WBJY  \n",
       "...                              ...  \n",
       "-Ms8yOdJ_uqmQwTur4dU  A1IKWVZZ26QTLU  \n",
       "-Ms8ycpJ_XMkhBsmof1z  A1IKWVZZ26QTLU  \n",
       "-Ms8yqCEZ_bTC4cYxXgi  A1RUBSQBBOJHPO  \n",
       "-Ms8zGLaJT_jVdeJnmUO  A1RUBSQBBOJHPO  \n",
       "-Ms99IDhbSnEbmxXBhYR  A3PIS6JZDD12CT  \n",
       "\n",
       "[205 rows x 13 columns]"
      ]
     },
     "execution_count": 3,
     "metadata": {},
     "output_type": "execute_result"
    }
   ],
   "source": [
    "raw_df_state_to_action = pd.DataFrame.from_dict(data['humanModel'], orient='index')\n",
    "raw_df_state_to_action = raw_df_state_to_action.drop(0, axis=1)\n",
    "\n",
    "participants_df = pd.DataFrame.from_dict(data['all-games'], orient='index')\n",
    "\n",
    "path = 'data/'+map_dir+'/workers' # use your path\n",
    "all_files = glob.glob(path + \"/*.csv\")\n",
    "\n",
    "li = []\n",
    "for filename in all_files:\n",
    "    fromOne = pd.read_csv(filename, index_col=None, header=0)\n",
    "    fromOne['filename'] = filename\n",
    "    li.append(fromOne)\n",
    "\n",
    "workers = pd.concat(li, axis=0, ignore_index=True)\n",
    "workers = workers.set_index('Answer.surveycode')\n",
    "workers.index = workers.index.map(lambda code: '-' + code[:-3])\n",
    "# print(workers.index[workers.index.duplicated()])\n",
    "workers = workers[~workers.index.duplicated(keep='first')]\n",
    "participants_df['WorkerId'] = workers['WorkerId']\n",
    "participants_df = participants_df.dropna(subset = ['WorkerId'])\n",
    "participants_df"
   ]
  },
  {
   "cell_type": "code",
   "execution_count": 4,
   "metadata": {},
   "outputs": [
    {
     "data": {
      "text/plain": [
       "Index(['behavior', 'additional_comments', 'birth_year', 'collaborative_value',\n",
       "       'computer_score', 'computer_value', 'education', 'gender',\n",
       "       'human_score', 'predictable_value', 'selfishly_value', 'wisely_value',\n",
       "       'WorkerId'],\n",
       "      dtype='object')"
      ]
     },
     "execution_count": 4,
     "metadata": {},
     "output_type": "execute_result"
    }
   ],
   "source": [
    "participants_df.columns"
   ]
  },
  {
   "cell_type": "code",
   "execution_count": 5,
   "metadata": {},
   "outputs": [
    {
     "name": "stdout",
     "output_type": "stream",
     "text": [
      "136\n"
     ]
    }
   ],
   "source": [
    "index_to_drop = participants_df[participants_df.duplicated('WorkerId', keep='first')].index\n",
    "print(len(index_to_drop))\n",
    "\n",
    "# participants_df = participants_df[~participants_df.duplicated('WorkerId', keep='first')]"
   ]
  },
  {
   "cell_type": "markdown",
   "metadata": {},
   "source": [
    "number of people that answer the survay only once:"
   ]
  },
  {
   "cell_type": "code",
   "execution_count": 6,
   "metadata": {},
   "outputs": [
    {
     "data": {
      "text/plain": [
       "205"
      ]
     },
     "execution_count": 6,
     "metadata": {},
     "output_type": "execute_result"
    }
   ],
   "source": [
    "len(participants_df)"
   ]
  },
  {
   "cell_type": "code",
   "execution_count": 7,
   "metadata": {},
   "outputs": [],
   "source": [
    "participants_df.loc[: ,'human_score'] = pd.to_numeric(participants_df['human_score'], errors='coerce')\n",
    "participants_df.loc[: ,'computer_score'] = pd.to_numeric(participants_df['computer_score'], errors='coerce')\n",
    "participants_df.loc[: ,'collaborative_value'] = pd.to_numeric(participants_df['collaborative_value'], errors='coerce')\n",
    "participants_df.loc[: ,'predictable_value'] = pd.to_numeric(participants_df['predictable_value'], errors='coerce')\n",
    "participants_df.loc[: ,'selfishly_value'] = pd.to_numeric(participants_df['selfishly_value'], errors='coerce')\n",
    "participants_df.loc[: ,'wisely_value'] = pd.to_numeric(participants_df['wisely_value'], errors='coerce')\n",
    "participants_df.loc[: ,'computer_value'] = pd.to_numeric(participants_df['computer_value'], errors='coerce')"
   ]
  },
  {
   "cell_type": "markdown",
   "metadata": {},
   "source": [
    "# View some data"
   ]
  },
  {
   "cell_type": "code",
   "execution_count": 8,
   "metadata": {},
   "outputs": [
    {
     "name": "stdout",
     "output_type": "stream",
     "text": [
      "<class 'pandas.core.frame.DataFrame'>\n",
      "Index: 209 entries, -Ms8apzf274KAnw8anBV to -Ms9Qd8mKX6ASYIMB8xR\n",
      "Columns: 105 entries, 1 to 105\n",
      "dtypes: object(105)\n",
      "memory usage: 173.1+ KB\n"
     ]
    }
   ],
   "source": [
    "# remove from the dataset :\n",
    "# raw_df_state_to_action = raw_df_state_to_action.drop(index_to_drop)\n",
    "raw_df_state_to_action.info(verbose=False)"
   ]
  },
  {
   "cell_type": "code",
   "execution_count": 9,
   "metadata": {},
   "outputs": [],
   "source": [
    "def extractAction(cell):\n",
    "    if cell != None:\n",
    "        return int(cell['action'])\n",
    "    return np.nan\n",
    "\n",
    "def NormalizeData(data):\n",
    "    return (data - np.min(data)) / (np.max(data) - np.min(data))\n",
    "\n",
    "def extractState(cell):\n",
    "    if cell == None:\n",
    "        return cell\n",
    "    board = np.array(cell['state'][0]).astype(float)\n",
    "    human_trace = np.array(cell['state'][1]).astype(float)\n",
    "    computer_trace = np.array(cell['state'][2]).astype(float)\n",
    "    human_awards = np.array(cell['state'][3]).astype(float)\n",
    "    computer_awards = np.array(cell['state'][4]).astype(float)\n",
    "    all_awards = np.array(cell['state'][5]).astype(float)\n",
    "    \n",
    "    r = human_awards/2 + human_trace + all_awards\n",
    "    g = board/3 + all_awards\n",
    "    b = computer_awards/2 + computer_trace + all_awards\n",
    "    rgb = np.dstack((r,g,b))\n",
    "    return NormalizeData(rgb)\n",
    "    \n",
    "\n",
    "state_df = pd.DataFrame(columns=raw_df_state_to_action.columns)\n",
    "action_df = pd.DataFrame(columns=raw_df_state_to_action.columns)\n",
    "for col in raw_df_state_to_action:\n",
    "    state_df[col] = raw_df_state_to_action[col].apply(extractState)\n",
    "    action_df[col] = raw_df_state_to_action[col].apply(extractAction)"
   ]
  },
  {
   "cell_type": "markdown",
   "metadata": {},
   "source": [
    "# view one game"
   ]
  },
  {
   "cell_type": "code",
   "execution_count": 10,
   "metadata": {},
   "outputs": [],
   "source": [
    "def rowToImage(row):\n",
    "    fig = plt.figure(figsize=(40, 20))\n",
    "    row_s = state_df.loc[row, :]\n",
    "    row_a = action_df.loc[row, :]\n",
    "    cols_i = row_a.count()\n",
    "    for i in range(1, cols_i+1):\n",
    "        rows = 1\n",
    "        columns = cols_i\n",
    "        state = row_s.at[i]\n",
    "        fig.add_subplot(rows, columns, i)\n",
    "        plt.imshow(state)\n",
    "        plt.axis('off')\n",
    "        action = row_a.at[i]\n",
    "        plt.title(str(i) + \" action: \" + str(action), fontsize=15)"
   ]
  },
  {
   "cell_type": "code",
   "execution_count": 14,
   "metadata": {},
   "outputs": [
    {
     "data": {
      "image/png": "[encoded data removed]",
      "text/plain": [
       "<Figure size 2880x1440 with 31 Axes>"
      ]
     },
     "metadata": {
      "needs_background": "light"
     },
     "output_type": "display_data"
    }
   ],
   "source": [
    "rowToImage('-Ms8apzf274KAnw8anBV')"
   ]
  },
  {
   "cell_type": "code",
   "execution_count": 11,
   "metadata": {},
   "outputs": [
    {
     "data": {
      "text/html": [
       "<div>\n",
       "<style scoped>\n",
       "    .dataframe tbody tr th:only-of-type {\n",
       "        vertical-align: middle;\n",
       "    }\n",
       "\n",
       "    .dataframe tbody tr th {\n",
       "        vertical-align: top;\n",
       "    }\n",
       "\n",
       "    .dataframe thead th {\n",
       "        text-align: right;\n",
       "    }\n",
       "</style>\n",
       "<table border=\"1\" class=\"dataframe\">\n",
       "  <thead>\n",
       "    <tr style=\"text-align: right;\">\n",
       "      <th></th>\n",
       "      <th>1</th>\n",
       "      <th>2</th>\n",
       "      <th>3</th>\n",
       "      <th>4</th>\n",
       "      <th>5</th>\n",
       "      <th>6</th>\n",
       "      <th>7</th>\n",
       "      <th>8</th>\n",
       "      <th>9</th>\n",
       "      <th>10</th>\n",
       "      <th>...</th>\n",
       "      <th>96</th>\n",
       "      <th>97</th>\n",
       "      <th>98</th>\n",
       "      <th>99</th>\n",
       "      <th>100</th>\n",
       "      <th>101</th>\n",
       "      <th>102</th>\n",
       "      <th>103</th>\n",
       "      <th>104</th>\n",
       "      <th>105</th>\n",
       "    </tr>\n",
       "  </thead>\n",
       "  <tbody>\n",
       "    <tr>\n",
       "      <th>-Ms8apzf274KAnw8anBV</th>\n",
       "      <td>[[[0.0, 0.0, 0.0], [0.0, 0.0, 0.0], [0.0, 0.0,...</td>\n",
       "      <td>[[[0.0, 0.0, 0.0], [0.0, 0.0, 0.0], [0.0, 0.0,...</td>\n",
       "      <td>[[[0.0, 0.0, 0.0], [0.0, 0.0, 0.0], [0.0, 0.0,...</td>\n",
       "      <td>[[[0.0, 0.0, 0.0], [0.0, 0.0, 0.0], [0.0, 0.0,...</td>\n",
       "      <td>[[[0.0, 0.0, 0.0], [0.0, 0.0, 0.0], [0.0, 0.0,...</td>\n",
       "      <td>[[[0.0, 0.0, 0.0], [0.0, 0.0, 0.0], [0.0, 0.0,...</td>\n",
       "      <td>[[[0.0, 0.0, 0.0], [0.0, 0.0, 0.0], [0.0, 0.0,...</td>\n",
       "      <td>[[[0.0, 0.0, 0.0], [0.0, 0.0, 0.0], [0.0, 0.0,...</td>\n",
       "      <td>[[[0.0, 0.0, 0.0], [0.0, 0.0, 0.0], [0.0, 0.0,...</td>\n",
       "      <td>[[[0.0, 0.0, 0.0], [0.0, 0.0, 0.0], [0.0, 0.0,...</td>\n",
       "      <td>...</td>\n",
       "      <td>None</td>\n",
       "      <td>None</td>\n",
       "      <td>None</td>\n",
       "      <td>None</td>\n",
       "      <td>None</td>\n",
       "      <td>None</td>\n",
       "      <td>None</td>\n",
       "      <td>None</td>\n",
       "      <td>None</td>\n",
       "      <td>None</td>\n",
       "    </tr>\n",
       "  </tbody>\n",
       "</table>\n",
       "<p>1 rows × 105 columns</p>\n",
       "</div>"
      ],
      "text/plain": [
       "                                                                    1    \\\n",
       "-Ms8apzf274KAnw8anBV  [[[0.0, 0.0, 0.0], [0.0, 0.0, 0.0], [0.0, 0.0,...   \n",
       "\n",
       "                                                                    2    \\\n",
       "-Ms8apzf274KAnw8anBV  [[[0.0, 0.0, 0.0], [0.0, 0.0, 0.0], [0.0, 0.0,...   \n",
       "\n",
       "                                                                    3    \\\n",
       "-Ms8apzf274KAnw8anBV  [[[0.0, 0.0, 0.0], [0.0, 0.0, 0.0], [0.0, 0.0,...   \n",
       "\n",
       "                                                                    4    \\\n",
       "-Ms8apzf274KAnw8anBV  [[[0.0, 0.0, 0.0], [0.0, 0.0, 0.0], [0.0, 0.0,...   \n",
       "\n",
       "                                                                    5    \\\n",
       "-Ms8apzf274KAnw8anBV  [[[0.0, 0.0, 0.0], [0.0, 0.0, 0.0], [0.0, 0.0,...   \n",
       "\n",
       "                                                                    6    \\\n",
       "-Ms8apzf274KAnw8anBV  [[[0.0, 0.0, 0.0], [0.0, 0.0, 0.0], [0.0, 0.0,...   \n",
       "\n",
       "                                                                    7    \\\n",
       "-Ms8apzf274KAnw8anBV  [[[0.0, 0.0, 0.0], [0.0, 0.0, 0.0], [0.0, 0.0,...   \n",
       "\n",
       "                                                                    8    \\\n",
       "-Ms8apzf274KAnw8anBV  [[[0.0, 0.0, 0.0], [0.0, 0.0, 0.0], [0.0, 0.0,...   \n",
       "\n",
       "                                                                    9    \\\n",
       "-Ms8apzf274KAnw8anBV  [[[0.0, 0.0, 0.0], [0.0, 0.0, 0.0], [0.0, 0.0,...   \n",
       "\n",
       "                                                                    10   ...  \\\n",
       "-Ms8apzf274KAnw8anBV  [[[0.0, 0.0, 0.0], [0.0, 0.0, 0.0], [0.0, 0.0,...  ...   \n",
       "\n",
       "                       96    97    98    99    100   101   102   103   104  \\\n",
       "-Ms8apzf274KAnw8anBV  None  None  None  None  None  None  None  None  None   \n",
       "\n",
       "                       105  \n",
       "-Ms8apzf274KAnw8anBV  None  \n",
       "\n",
       "[1 rows x 105 columns]"
      ]
     },
     "execution_count": 11,
     "metadata": {},
     "output_type": "execute_result"
    }
   ],
   "source": [
    "state_df.head(1)"
   ]
  },
  {
   "cell_type": "code",
   "execution_count": 12,
   "metadata": {},
   "outputs": [
    {
     "data": {
      "text/plain": [
       "(209, 105)"
      ]
     },
     "execution_count": 12,
     "metadata": {},
     "output_type": "execute_result"
    }
   ],
   "source": [
    "state_df.shape"
   ]
  },
  {
   "cell_type": "code",
   "execution_count": 13,
   "metadata": {},
   "outputs": [
    {
     "ename": "NameError",
     "evalue": "name 'fcasdfsdf' is not defined",
     "output_type": "error",
     "traceback": [
      "\u001b[0;31m---------------------------------------------------------------------------\u001b[0m",
      "\u001b[0;31mNameError\u001b[0m                                 Traceback (most recent call last)",
      "\u001b[0;32m/tmp/ipykernel_2541707/55647902.py\u001b[0m in \u001b[0;36m<module>\u001b[0;34m\u001b[0m\n\u001b[0;32m----> 1\u001b[0;31m \u001b[0mfcasdfsdf\u001b[0m\u001b[0;34m\u001b[0m\u001b[0;34m\u001b[0m\u001b[0m\n\u001b[0m",
      "\u001b[0;31mNameError\u001b[0m: name 'fcasdfsdf' is not defined"
     ]
    }
   ],
   "source": [
    "fcasdfsdf"
   ]
  },
  {
   "cell_type": "code",
   "execution_count": null,
   "metadata": {},
   "outputs": [],
   "source": [
    "action_df[len(action_df.columns) + 1] = np.NaN\n",
    "action_df.tail()"
   ]
  },
  {
   "cell_type": "markdown",
   "metadata": {},
   "source": [
    "# Make Dataset"
   ]
  },
  {
   "cell_type": "code",
   "execution_count": null,
   "metadata": {},
   "outputs": [],
   "source": [
    "dir_path = './data/humanModel_v1_dataset'\n",
    "if os.path.exists(dir_path):\n",
    "    shutil.rmtree(dir_path)\n",
    "\n",
    "os.mkdir(dir_path)\n",
    "# os.mkdir(dir_path+'/action_target')\n",
    "# os.mkdir(dir_path+'/rate_target')\n",
    "\n",
    "for action in ['32','37','38','39','40']:\n",
    "    os.mkdir(dir_path+'/'+action)\n",
    "\n",
    "import csv\n",
    "# open the file in the write mode\n",
    "f = open(dir_path+'/target.csv', 'w')\n",
    "# create the csv writer\n",
    "writer = csv.writer(f)\n",
    "\n",
    "counter = 0\n",
    "in_p_df = True\n",
    "for (idxRow, s1), (_, s2) in zip(state_df.iterrows(), action_df.iterrows()):\n",
    "    for (idxCol, state), (_, action) in zip(s1.iteritems(), s2.iteritems()):\n",
    "        # check if it is not the last state\n",
    "        # the last state not enter our model, since it is an end state that not contains any dirts and not preform an action\n",
    "        if not np.isnan(action_df.loc[idxRow, idxCol+1]):\n",
    "            im = Image.fromarray((state * 255).astype(np.uint8))\n",
    "            try:\n",
    "                in_p_df = True\n",
    "                value_vector_rate = participants_df.loc[idxRow, ['collaborative_value', 'computer_value', 'predictable_value', 'selfishly_value', 'wisely_value']]\n",
    "            except KeyError:\n",
    "                in_p_df = False\n",
    "                continue\n",
    "            path = f'data/humanModel_v1_dataset/{int(action)}/{idxRow}_{counter}.png'\n",
    "            if counter % 500 == 0:\n",
    "                # print every 500 saved images\n",
    "                print(f'{idxRow}_{idxCol}.png saved! at action {action}')\n",
    "            counter += 1\n",
    "            im.save(path)\n",
    "            # write a vector to the csv file\n",
    "            writer.writerow(value_vector_rate)\n",
    "\n",
    "        else:\n",
    "            break\n",
    "        # print (idxCol, idxRow)\n",
    "print(f'{counter} images have been saved')\n",
    "# close the file\n",
    "f.close()"
   ]
  },
  {
   "cell_type": "code",
   "execution_count": null,
   "metadata": {},
   "outputs": [],
   "source": [
    "participants_df.loc['-Ms8yqCEZ_bTC4cYxXgi', 'collaborative_value']"
   ]
  },
  {
   "cell_type": "code",
   "execution_count": null,
   "metadata": {},
   "outputs": [],
   "source": [
    "# rowToImage('-Mr4Yrtg2Rk8u83xa6yl')"
   ]
  },
  {
   "cell_type": "code",
   "execution_count": null,
   "metadata": {},
   "outputs": [],
   "source": [
    "# index = \"-MqplpytsnX0zCv_KW9i\"\n",
    "# col = 3\n",
    "# plt.imshow(state_df.loc[index, col])\n",
    "# title = \"id: \" + index + \", col: \" + str(col) + \", action: \" + str(action_df.loc[index, col])\n",
    "# plt.title(title)\n",
    "# plt.show()"
   ]
  },
  {
   "cell_type": "code",
   "execution_count": null,
   "metadata": {},
   "outputs": [],
   "source": [
    "participants_df['collaborative_value']"
   ]
  },
  {
   "cell_type": "code",
   "execution_count": null,
   "metadata": {},
   "outputs": [],
   "source": [
    "participants_df['selfishly_value']"
   ]
  }
 ],
 "metadata": {
  "interpreter": {
   "hash": "e48d23369a553edc96f1373b6255b5687d82d68cd08867622b2500e338930542"
  },
  "kernelspec": {
   "display_name": "Python 3.7.4 64-bit ('base': conda)",
   "language": "python",
   "name": "python3"
  },
  "language_info": {
   "codemirror_mode": {
    "name": "ipython",
    "version": 3
   },
   "file_extension": ".py",
   "mimetype": "text/x-python",
   "name": "python",
   "nbconvert_exporter": "python",
   "pygments_lexer": "ipython3",
   "version": "3.7.4"
  },
  "orig_nbformat": 4
 },
 "nbformat": 4,
 "nbformat_minor": 2
}
