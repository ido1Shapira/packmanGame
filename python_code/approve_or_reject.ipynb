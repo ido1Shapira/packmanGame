{
 "cells": [
  {
   "cell_type": "code",
   "execution_count": 1,
   "metadata": {},
   "outputs": [],
   "source": [
    "import glob\n",
    "import pandas as pd\n",
    "\n",
    "map_dir = 'map 5'\n",
    "batch_file = 'data/'+map_dir+'/workers\\Batch_4642860_batch_results.csv'\n",
    "\n",
    "path = 'data/'+map_dir+'/workers' # use your path\n",
    "all_files = glob.glob(path + \"/*.csv\")\n",
    "\n",
    "li = []\n",
    "li_new = []\n",
    "for filename in all_files:\n",
    "    fromOne = pd.read_csv(filename, index_col=None, header=0)\n",
    "    fromOne['filename'] = filename\n",
    "    if filename == batch_file:\n",
    "        li_new.append(fromOne)\n",
    "    else:\n",
    "        li.append(fromOne)\n",
    "\n",
    "workers = pd.concat(li, axis=0, ignore_index=True)\n",
    "new_workers = pd.concat(li_new, axis=0, ignore_index=True)"
   ]
  },
  {
   "cell_type": "markdown",
   "metadata": {},
   "source": [
    "### more then once at the last batch:"
   ]
  },
  {
   "cell_type": "code",
   "execution_count": 2,
   "metadata": {},
   "outputs": [
    {
     "data": {
      "text/plain": [
       "WorkerId\n",
       "A2JFL3H254VGZ7    2\n",
       "AUOIZS4VLAD09     5\n",
       "Name: HITId, dtype: int64"
      ]
     },
     "execution_count": 2,
     "metadata": {},
     "output_type": "execute_result"
    }
   ],
   "source": [
    "df = workers.groupby('WorkerId').count()\n",
    "df_new = new_workers.groupby('WorkerId').count()\n",
    "df_new[df_new['HITId'] > 1]['HITId']"
   ]
  },
  {
   "cell_type": "markdown",
   "metadata": {},
   "source": [
    "### the last batch against all batches"
   ]
  },
  {
   "cell_type": "code",
   "execution_count": 3,
   "metadata": {},
   "outputs": [
    {
     "data": {
      "text/plain": [
       "WorkerId\n",
       "A1IKWVZZ26QTLU     9\n",
       "A23THJCA3UXKVB     1\n",
       "A2JFL3H254VGZ7     5\n",
       "A3KH66SXE4PK8J     1\n",
       "A3LTGXX5HIYDBM    24\n",
       "A3V0ZNHKABDUMM    27\n",
       "ADW9DZAZ3OHH9      3\n",
       "AUOIZS4VLAD09     24\n",
       "Name: HITId_left, dtype: int64"
      ]
     },
     "execution_count": 3,
     "metadata": {},
     "output_type": "execute_result"
    }
   ],
   "source": [
    "df.join(df_new, on='WorkerId', how='inner', lsuffix='_left', rsuffix='_right')['HITId_left']"
   ]
  },
  {
   "cell_type": "markdown",
   "metadata": {},
   "source": [
    "### more then once at all batches:"
   ]
  },
  {
   "cell_type": "code",
   "execution_count": 4,
   "metadata": {},
   "outputs": [
    {
     "data": {
      "text/plain": [
       "WorkerId\n",
       "A1IKWVZZ26QTLU    10\n",
       "A1M7PJ6HUSB8VB     2\n",
       "A1RUBSQBBOJHPO    31\n",
       "A23DIRTLAL5RA6     7\n",
       "A23THJCA3UXKVB     2\n",
       "A2JFL3H254VGZ7     7\n",
       "A2LPVNAJP8ZO0O    31\n",
       "A2UC3CDVQNVPQ8     4\n",
       "A30N1CTXWNHO4U    16\n",
       "A31LG7X9WAL7NF     3\n",
       "A3KH66SXE4PK8J     2\n",
       "A3LTGXX5HIYDBM    25\n",
       "A3MNL6RIME0845     2\n",
       "A3V0ZNHKABDUMM    28\n",
       "ADW9DZAZ3OHH9      4\n",
       "AUOIZS4VLAD09     29\n",
       "AXRDY6D16PVVH      5\n",
       "Name: HITId, dtype: int64"
      ]
     },
     "execution_count": 4,
     "metadata": {},
     "output_type": "execute_result"
    }
   ],
   "source": [
    "all_workers = pd.concat([workers, new_workers], axis=0, ignore_index=True)\n",
    "all = all_workers.groupby('WorkerId').count()\n",
    "all[all['HITId'] > 1]['HITId']"
   ]
  }
 ],
 "metadata": {
  "interpreter": {
   "hash": "e48d23369a553edc96f1373b6255b5687d82d68cd08867622b2500e338930542"
  },
  "kernelspec": {
   "display_name": "Python 3.7.4 64-bit ('base': conda)",
   "language": "python",
   "name": "python3"
  },
  "language_info": {
   "codemirror_mode": {
    "name": "ipython",
    "version": 3
   },
   "file_extension": ".py",
   "mimetype": "text/x-python",
   "name": "python",
   "nbconvert_exporter": "python",
   "pygments_lexer": "ipython3",
   "version": "3.7.4"
  },
  "orig_nbformat": 4
 },
 "nbformat": 4,
 "nbformat_minor": 2
}
