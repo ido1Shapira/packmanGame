{
 "cells": [
  {
   "cell_type": "code",
   "execution_count": 2,
   "metadata": {},
   "outputs": [
    {
     "data": {
      "text/plain": [
       "WorkerId\n",
       "A1IKWVZZ26QTLU     9\n",
       "A1M7PJ6HUSB8VB     2\n",
       "A1RUBSQBBOJHPO    31\n",
       "A23DIRTLAL5RA6     7\n",
       "A2JFL3H254VGZ7     5\n",
       "A2LPVNAJP8ZO0O    31\n",
       "A2UC3CDVQNVPQ8     4\n",
       "A30N1CTXWNHO4U    16\n",
       "A31LG7X9WAL7NF     3\n",
       "A3LTGXX5HIYDBM    24\n",
       "A3MNL6RIME0845     2\n",
       "A3V0ZNHKABDUMM    27\n",
       "ADW9DZAZ3OHH9      3\n",
       "AUOIZS4VLAD09     24\n",
       "AXRDY6D16PVVH      5\n",
       "Name: HITId, dtype: int64"
      ]
     },
     "execution_count": 2,
     "metadata": {},
     "output_type": "execute_result"
    }
   ],
   "source": [
    "import json\n",
    "import glob\n",
    "import pandas as pd\n",
    "import matplotlib.pyplot as plt\n",
    "\n",
    "map_dir = 'map 5'\n",
    "\n",
    "path = 'data/'+map_dir+'/workers' # use your path\n",
    "all_files = glob.glob(path + \"/*.csv\")\n",
    "\n",
    "li = []\n",
    "for filename in all_files:\n",
    "    fromOne = pd.read_csv(filename, index_col=None, header=0)\n",
    "    fromOne['filename'] = filename\n",
    "    li.append(fromOne)\n",
    "\n",
    "workers = pd.concat(li, axis=0, ignore_index=True)\n",
    "\n",
    "df = workers.groupby('WorkerId').count()\n",
    "df[df['HITId'] > 1]['HITId']"
   ]
  }
 ],
 "metadata": {
  "interpreter": {
   "hash": "e48d23369a553edc96f1373b6255b5687d82d68cd08867622b2500e338930542"
  },
  "kernelspec": {
   "display_name": "Python 3.7.4 64-bit ('base': conda)",
   "language": "python",
   "name": "python3"
  },
  "language_info": {
   "name": "python",
   "version": "3.7.4"
  },
  "orig_nbformat": 4
 },
 "nbformat": 4,
 "nbformat_minor": 2
}
