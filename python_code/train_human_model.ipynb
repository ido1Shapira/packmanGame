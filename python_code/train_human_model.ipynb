{
 "cells": [
  {
   "cell_type": "code",
   "execution_count": 1,
   "metadata": {},
   "outputs": [],
   "source": [
    "import numpy as np\n",
    "import random\n",
    "import os\n",
    "\n",
    "# ! pip install split-folders\n",
    "import splitfolders\n",
    "\n",
    "import tensorflow as tf\n",
    "from tensorflow import keras\n",
    "from tensorflow.keras import layers, regularizers\n",
    "from tensorflow.keras.models import Sequential\n",
    "\n",
    "from tensorflow.keras.preprocessing.image import ImageDataGenerator\n",
    "from tensorflow.keras.preprocessing import image\n",
    "\n",
    "import matplotlib.pyplot as plt\n",
    "\n",
    "rs = 42\n",
    "def reset_random_seeds(rs):\n",
    "   os.environ['PYTHONHASHSEED']=str(rs)\n",
    "   tf.random.set_seed(rs)\n",
    "   np.random.seed(rs)\n",
    "   random.seed(rs)\n",
    "reset_random_seeds(rs)"
   ]
  },
  {
   "cell_type": "markdown",
   "metadata": {},
   "source": [
    "# Part 1 - Data Preprocessing"
   ]
  },
  {
   "cell_type": "markdown",
   "metadata": {},
   "source": [
    "## Split into train , test data"
   ]
  },
  {
   "cell_type": "code",
   "execution_count": 2,
   "metadata": {},
   "outputs": [
    {
     "name": "stderr",
     "output_type": "stream",
     "text": [
      "Copying files: 6044 files [00:00, 13801.51 files/s]\n"
     ]
    }
   ],
   "source": [
    "# train, test split\n",
    "splitfolders.ratio('./data/humanModel/imagesDatabase/', output=\"./data/humanModel/imagesDatabase_split\", ratio=(0.7, 0.3))"
   ]
  },
  {
   "cell_type": "markdown",
   "metadata": {},
   "source": [
    "### Preprocessing the Training set"
   ]
  },
  {
   "cell_type": "code",
   "execution_count": 3,
   "metadata": {},
   "outputs": [
    {
     "name": "stdout",
     "output_type": "stream",
     "text": [
      "Found 4228 images belonging to 5 classes.\n",
      "Found 1816 images belonging to 5 classes.\n"
     ]
    }
   ],
   "source": [
    "batch_size = 64\n",
    "IMG_SIZE = 10\n",
    "\n",
    "datagen = ImageDataGenerator(rescale = 1./255)\n",
    "train = datagen.flow_from_directory('./data/humanModel/imagesDatabase_split/train',\n",
    "                                          target_size = (IMG_SIZE,IMG_SIZE), batch_size = batch_size, seed=rs, class_mode='sparse')\n",
    "\n",
    "test = datagen.flow_from_directory('./data/humanModel/imagesDatabase_split/val',\n",
    "                                            target_size = (IMG_SIZE, IMG_SIZE), batch_size = batch_size, seed=rs, class_mode='sparse')"
   ]
  },
  {
   "cell_type": "markdown",
   "metadata": {},
   "source": [
    "## View some data"
   ]
  },
  {
   "cell_type": "code",
   "execution_count": 4,
   "metadata": {},
   "outputs": [
    {
     "name": "stderr",
     "output_type": "stream",
     "text": [
      "2021-12-07 18:09:03.293101: I tensorflow/stream_executor/cuda/cuda_gpu_executor.cc:937] successful NUMA node read from SysFS had negative value (-1), but there must be at least one NUMA node, so returning NUMA node zero\n",
      "2021-12-07 18:09:03.298180: I tensorflow/stream_executor/cuda/cuda_gpu_executor.cc:937] successful NUMA node read from SysFS had negative value (-1), but there must be at least one NUMA node, so returning NUMA node zero\n",
      "2021-12-07 18:09:03.298548: I tensorflow/stream_executor/cuda/cuda_gpu_executor.cc:937] successful NUMA node read from SysFS had negative value (-1), but there must be at least one NUMA node, so returning NUMA node zero\n",
      "2021-12-07 18:09:03.299322: I tensorflow/core/platform/cpu_feature_guard.cc:142] This TensorFlow binary is optimized with oneAPI Deep Neural Network Library (oneDNN) to use the following CPU instructions in performance-critical operations:  AVX2 FMA\n",
      "To enable them in other operations, rebuild TensorFlow with the appropriate compiler flags.\n",
      "2021-12-07 18:09:03.299831: I tensorflow/stream_executor/cuda/cuda_gpu_executor.cc:937] successful NUMA node read from SysFS had negative value (-1), but there must be at least one NUMA node, so returning NUMA node zero\n",
      "2021-12-07 18:09:03.300172: I tensorflow/stream_executor/cuda/cuda_gpu_executor.cc:937] successful NUMA node read from SysFS had negative value (-1), but there must be at least one NUMA node, so returning NUMA node zero\n",
      "2021-12-07 18:09:03.300494: I tensorflow/stream_executor/cuda/cuda_gpu_executor.cc:937] successful NUMA node read from SysFS had negative value (-1), but there must be at least one NUMA node, so returning NUMA node zero\n",
      "2021-12-07 18:09:03.585348: I tensorflow/stream_executor/cuda/cuda_gpu_executor.cc:937] successful NUMA node read from SysFS had negative value (-1), but there must be at least one NUMA node, so returning NUMA node zero\n",
      "2021-12-07 18:09:03.585871: I tensorflow/stream_executor/cuda/cuda_gpu_executor.cc:937] successful NUMA node read from SysFS had negative value (-1), but there must be at least one NUMA node, so returning NUMA node zero\n",
      "2021-12-07 18:09:03.586304: I tensorflow/stream_executor/cuda/cuda_gpu_executor.cc:937] successful NUMA node read from SysFS had negative value (-1), but there must be at least one NUMA node, so returning NUMA node zero\n",
      "2021-12-07 18:09:03.586651: I tensorflow/core/common_runtime/gpu/gpu_device.cc:1510] Created device /job:localhost/replica:0/task:0/device:GPU:0 with 11171 MB memory:  -> device: 0, name: NVIDIA TITAN X (Pascal), pci bus id: 0000:01:00.0, compute capability: 6.1\n"
     ]
    }
   ],
   "source": [
    "num_classes = 5\n",
    "\n",
    "model = Sequential([\n",
    "  # layers.GaussianNoise(0.2),\n",
    "  layers.Conv2D(8, 4, padding='same', activation='relu', kernel_regularizer=regularizers.l2(0.001), input_shape=[IMG_SIZE,IMG_SIZE,3]),\n",
    "  layers.Conv2D(16, 4, padding='same', activation='relu', kernel_regularizer=regularizers.l2(0.001)),\n",
    "  layers.Conv2D(16, 3, padding='same', activation='relu', kernel_regularizer=regularizers.l2(0.001)),\n",
    "  layers.MaxPooling2D(),\n",
    "  layers.Conv2D(8, 3, padding='same', activation='relu', kernel_regularizer=regularizers.l2(0.001)),\n",
    "  layers.Dropout(0.5),\n",
    "  layers.Flatten(),\n",
    "  layers.Dense(32, activation='relu', kernel_regularizer=regularizers.l2(0.001)),\n",
    "  layers.Dense(num_classes, activation='softmax')\n",
    "])"
   ]
  },
  {
   "cell_type": "code",
   "execution_count": 5,
   "metadata": {},
   "outputs": [],
   "source": [
    "model.compile(optimizer='adam',\n",
    "              loss=tf.keras.losses.SparseCategoricalCrossentropy(from_logits=True),\n",
    "              metrics=['accuracy'])"
   ]
  },
  {
   "cell_type": "code",
   "execution_count": 6,
   "metadata": {},
   "outputs": [
    {
     "name": "stdout",
     "output_type": "stream",
     "text": [
      "Model: \"sequential\"\n",
      "_________________________________________________________________\n",
      "Layer (type)                 Output Shape              Param #   \n",
      "=================================================================\n",
      "conv2d (Conv2D)              (None, 10, 10, 8)         392       \n",
      "_________________________________________________________________\n",
      "conv2d_1 (Conv2D)            (None, 10, 10, 16)        2064      \n",
      "_________________________________________________________________\n",
      "conv2d_2 (Conv2D)            (None, 10, 10, 16)        2320      \n",
      "_________________________________________________________________\n",
      "max_pooling2d (MaxPooling2D) (None, 5, 5, 16)          0         \n",
      "_________________________________________________________________\n",
      "conv2d_3 (Conv2D)            (None, 5, 5, 8)           1160      \n",
      "_________________________________________________________________\n",
      "dropout (Dropout)            (None, 5, 5, 8)           0         \n",
      "_________________________________________________________________\n",
      "flatten (Flatten)            (None, 200)               0         \n",
      "_________________________________________________________________\n",
      "dense (Dense)                (None, 32)                6432      \n",
      "_________________________________________________________________\n",
      "dense_1 (Dense)              (None, 5)                 165       \n",
      "=================================================================\n",
      "Total params: 12,533\n",
      "Trainable params: 12,533\n",
      "Non-trainable params: 0\n",
      "_________________________________________________________________\n"
     ]
    }
   ],
   "source": [
    "model.summary()"
   ]
  },
  {
   "cell_type": "code",
   "execution_count": 7,
   "metadata": {
    "scrolled": true
   },
   "outputs": [
    {
     "name": "stdout",
     "output_type": "stream",
     "text": [
      "Epoch 1/150\n"
     ]
    },
    {
     "name": "stderr",
     "output_type": "stream",
     "text": [
      "2021-12-07 18:09:03.883960: I tensorflow/compiler/mlir/mlir_graph_optimization_pass.cc:185] None of the MLIR Optimization Passes are enabled (registered 2)\n",
      "/home/ido/anaconda3/envs/tf-gpu/lib/python3.7/site-packages/keras/backend.py:4907: UserWarning: \"`sparse_categorical_crossentropy` received `from_logits=True`, but the `output` argument was produced by a sigmoid or softmax activation and thus does not represent logits. Was this intended?\"\n",
      "  '\"`sparse_categorical_crossentropy` received `from_logits=True`, but '\n",
      "2021-12-07 18:09:04.547860: I tensorflow/stream_executor/cuda/cuda_dnn.cc:369] Loaded cuDNN version 8300\n"
     ]
    },
    {
     "name": "stdout",
     "output_type": "stream",
     "text": [
      "67/67 [==============================] - 2s 15ms/step - loss: 1.6520 - accuracy: 0.2647 - val_loss: 1.5797 - val_accuracy: 0.3656\n",
      "Epoch 2/150\n",
      "67/67 [==============================] - 1s 11ms/step - loss: 1.4502 - accuracy: 0.4035 - val_loss: 1.2901 - val_accuracy: 0.4796\n",
      "Epoch 3/150\n",
      "67/67 [==============================] - 1s 12ms/step - loss: 1.2705 - accuracy: 0.4969 - val_loss: 1.1503 - val_accuracy: 0.6074\n",
      "Epoch 4/150\n",
      "67/67 [==============================] - 1s 12ms/step - loss: 1.1694 - accuracy: 0.5684 - val_loss: 1.1142 - val_accuracy: 0.6002\n",
      "Epoch 5/150\n",
      "67/67 [==============================] - 1s 12ms/step - loss: 1.1188 - accuracy: 0.5913 - val_loss: 1.0441 - val_accuracy: 0.6591\n",
      "Epoch 6/150\n",
      "67/67 [==============================] - 1s 11ms/step - loss: 1.0936 - accuracy: 0.6123 - val_loss: 1.0330 - val_accuracy: 0.6674\n",
      "Epoch 7/150\n",
      "67/67 [==============================] - 1s 11ms/step - loss: 1.0551 - accuracy: 0.6192 - val_loss: 0.9989 - val_accuracy: 0.6773\n",
      "Epoch 8/150\n",
      "67/67 [==============================] - 1s 12ms/step - loss: 1.0239 - accuracy: 0.6386 - val_loss: 0.9994 - val_accuracy: 0.6680\n",
      "Epoch 9/150\n",
      "67/67 [==============================] - 1s 11ms/step - loss: 1.0295 - accuracy: 0.6362 - val_loss: 0.9564 - val_accuracy: 0.6823\n",
      "Epoch 10/150\n",
      "67/67 [==============================] - 1s 11ms/step - loss: 0.9913 - accuracy: 0.6540 - val_loss: 0.9672 - val_accuracy: 0.6757\n",
      "Epoch 11/150\n",
      "67/67 [==============================] - 1s 11ms/step - loss: 0.9690 - accuracy: 0.6656 - val_loss: 0.9330 - val_accuracy: 0.6927\n",
      "Epoch 12/150\n",
      "67/67 [==============================] - 1s 11ms/step - loss: 0.9539 - accuracy: 0.6769 - val_loss: 0.9166 - val_accuracy: 0.6933\n",
      "Epoch 13/150\n",
      "67/67 [==============================] - 1s 11ms/step - loss: 0.9383 - accuracy: 0.6776 - val_loss: 0.9444 - val_accuracy: 0.6894\n",
      "Epoch 14/150\n",
      "67/67 [==============================] - 1s 11ms/step - loss: 0.9428 - accuracy: 0.6727 - val_loss: 0.9074 - val_accuracy: 0.6960\n",
      "Epoch 15/150\n",
      "67/67 [==============================] - 1s 11ms/step - loss: 0.9180 - accuracy: 0.6904 - val_loss: 0.9071 - val_accuracy: 0.6889\n",
      "Epoch 16/150\n",
      "67/67 [==============================] - 1s 11ms/step - loss: 0.9076 - accuracy: 0.6838 - val_loss: 0.9224 - val_accuracy: 0.6812\n",
      "Epoch 17/150\n",
      "67/67 [==============================] - 1s 11ms/step - loss: 0.9103 - accuracy: 0.6954 - val_loss: 0.8890 - val_accuracy: 0.7026\n",
      "Epoch 18/150\n",
      "67/67 [==============================] - 1s 12ms/step - loss: 0.9005 - accuracy: 0.7001 - val_loss: 0.8745 - val_accuracy: 0.7048\n",
      "Epoch 19/150\n",
      "67/67 [==============================] - 1s 11ms/step - loss: 0.8875 - accuracy: 0.7048 - val_loss: 0.8647 - val_accuracy: 0.7081\n",
      "Epoch 20/150\n",
      "67/67 [==============================] - 1s 11ms/step - loss: 0.8834 - accuracy: 0.7034 - val_loss: 0.8755 - val_accuracy: 0.7043\n",
      "Epoch 21/150\n",
      "67/67 [==============================] - 1s 12ms/step - loss: 0.8598 - accuracy: 0.7169 - val_loss: 0.8755 - val_accuracy: 0.7170\n",
      "Epoch 22/150\n",
      "67/67 [==============================] - 1s 12ms/step - loss: 0.8599 - accuracy: 0.7145 - val_loss: 0.8572 - val_accuracy: 0.7181\n",
      "Epoch 23/150\n",
      "67/67 [==============================] - 1s 12ms/step - loss: 0.8459 - accuracy: 0.7178 - val_loss: 0.8454 - val_accuracy: 0.7208\n",
      "Epoch 24/150\n",
      "67/67 [==============================] - 1s 12ms/step - loss: 0.8445 - accuracy: 0.7216 - val_loss: 0.8340 - val_accuracy: 0.7192\n",
      "Epoch 25/150\n",
      "67/67 [==============================] - 1s 11ms/step - loss: 0.8451 - accuracy: 0.7228 - val_loss: 0.8398 - val_accuracy: 0.7236\n",
      "Epoch 26/150\n",
      "67/67 [==============================] - 1s 11ms/step - loss: 0.8316 - accuracy: 0.7226 - val_loss: 0.8460 - val_accuracy: 0.7236\n",
      "Epoch 27/150\n",
      "67/67 [==============================] - 1s 11ms/step - loss: 0.8208 - accuracy: 0.7316 - val_loss: 0.8744 - val_accuracy: 0.7059\n",
      "Epoch 28/150\n",
      "67/67 [==============================] - 1s 11ms/step - loss: 0.8247 - accuracy: 0.7337 - val_loss: 0.8821 - val_accuracy: 0.7104\n",
      "Epoch 29/150\n",
      "67/67 [==============================] - 1s 12ms/step - loss: 0.8238 - accuracy: 0.7282 - val_loss: 0.8196 - val_accuracy: 0.7219\n",
      "Epoch 30/150\n",
      "67/67 [==============================] - 1s 12ms/step - loss: 0.8146 - accuracy: 0.7330 - val_loss: 0.8115 - val_accuracy: 0.7412\n",
      "Epoch 31/150\n",
      "67/67 [==============================] - 1s 12ms/step - loss: 0.8014 - accuracy: 0.7337 - val_loss: 0.8157 - val_accuracy: 0.7340\n",
      "Epoch 32/150\n",
      "67/67 [==============================] - 1s 11ms/step - loss: 0.7926 - accuracy: 0.7427 - val_loss: 0.8066 - val_accuracy: 0.7461\n",
      "Epoch 33/150\n",
      "67/67 [==============================] - 1s 11ms/step - loss: 0.7997 - accuracy: 0.7448 - val_loss: 0.8126 - val_accuracy: 0.7368\n",
      "Epoch 34/150\n",
      "67/67 [==============================] - 1s 11ms/step - loss: 0.7910 - accuracy: 0.7403 - val_loss: 0.8090 - val_accuracy: 0.7423\n",
      "Epoch 35/150\n",
      "67/67 [==============================] - 1s 12ms/step - loss: 0.7795 - accuracy: 0.7465 - val_loss: 0.8140 - val_accuracy: 0.7318\n",
      "Epoch 36/150\n",
      "67/67 [==============================] - 1s 12ms/step - loss: 0.7925 - accuracy: 0.7453 - val_loss: 0.8117 - val_accuracy: 0.7384\n",
      "Epoch 37/150\n",
      "67/67 [==============================] - 1s 11ms/step - loss: 0.7693 - accuracy: 0.7502 - val_loss: 0.7985 - val_accuracy: 0.7340\n",
      "Epoch 38/150\n",
      "67/67 [==============================] - 1s 11ms/step - loss: 0.7771 - accuracy: 0.7498 - val_loss: 0.8254 - val_accuracy: 0.7351\n",
      "Epoch 39/150\n",
      "67/67 [==============================] - 1s 11ms/step - loss: 0.7697 - accuracy: 0.7500 - val_loss: 0.8518 - val_accuracy: 0.7252\n",
      "Epoch 40/150\n",
      "67/67 [==============================] - 1s 11ms/step - loss: 0.7692 - accuracy: 0.7528 - val_loss: 0.8369 - val_accuracy: 0.7395\n",
      "Epoch 41/150\n",
      "67/67 [==============================] - 1s 11ms/step - loss: 0.7670 - accuracy: 0.7486 - val_loss: 0.7949 - val_accuracy: 0.7500\n",
      "Epoch 42/150\n",
      "67/67 [==============================] - 1s 12ms/step - loss: 0.7690 - accuracy: 0.7509 - val_loss: 0.8054 - val_accuracy: 0.7417\n",
      "Epoch 43/150\n",
      "67/67 [==============================] - 1s 11ms/step - loss: 0.7491 - accuracy: 0.7649 - val_loss: 0.8203 - val_accuracy: 0.7384\n",
      "Epoch 44/150\n",
      "67/67 [==============================] - 1s 11ms/step - loss: 0.7383 - accuracy: 0.7656 - val_loss: 0.7946 - val_accuracy: 0.7478\n",
      "Epoch 45/150\n",
      "67/67 [==============================] - 1s 11ms/step - loss: 0.7453 - accuracy: 0.7640 - val_loss: 0.8003 - val_accuracy: 0.7340\n",
      "Epoch 46/150\n",
      "67/67 [==============================] - 1s 11ms/step - loss: 0.7526 - accuracy: 0.7564 - val_loss: 0.7851 - val_accuracy: 0.7528\n",
      "Epoch 47/150\n",
      "67/67 [==============================] - 1s 11ms/step - loss: 0.7414 - accuracy: 0.7602 - val_loss: 0.8088 - val_accuracy: 0.7373\n",
      "Epoch 48/150\n",
      "67/67 [==============================] - 1s 11ms/step - loss: 0.7506 - accuracy: 0.7692 - val_loss: 0.8013 - val_accuracy: 0.7450\n",
      "Epoch 49/150\n",
      "67/67 [==============================] - 1s 11ms/step - loss: 0.7291 - accuracy: 0.7687 - val_loss: 0.7839 - val_accuracy: 0.7511\n",
      "Epoch 50/150\n",
      "67/67 [==============================] - 1s 11ms/step - loss: 0.7316 - accuracy: 0.7666 - val_loss: 0.8116 - val_accuracy: 0.7483\n",
      "Epoch 51/150\n",
      "67/67 [==============================] - 1s 12ms/step - loss: 0.7219 - accuracy: 0.7689 - val_loss: 0.7805 - val_accuracy: 0.7445\n",
      "Epoch 52/150\n",
      "67/67 [==============================] - 1s 11ms/step - loss: 0.7188 - accuracy: 0.7765 - val_loss: 0.7898 - val_accuracy: 0.7445\n",
      "Epoch 53/150\n",
      "67/67 [==============================] - 1s 11ms/step - loss: 0.7109 - accuracy: 0.7751 - val_loss: 0.8077 - val_accuracy: 0.7439\n",
      "Epoch 54/150\n",
      "67/67 [==============================] - 1s 11ms/step - loss: 0.7214 - accuracy: 0.7777 - val_loss: 0.8472 - val_accuracy: 0.7357\n",
      "Epoch 55/150\n",
      "67/67 [==============================] - 1s 11ms/step - loss: 0.7365 - accuracy: 0.7701 - val_loss: 0.8053 - val_accuracy: 0.7467\n",
      "Epoch 56/150\n",
      "67/67 [==============================] - 1s 11ms/step - loss: 0.7437 - accuracy: 0.7635 - val_loss: 0.7796 - val_accuracy: 0.7489\n",
      "Epoch 57/150\n",
      "67/67 [==============================] - 1s 11ms/step - loss: 0.7360 - accuracy: 0.7696 - val_loss: 0.8016 - val_accuracy: 0.7439\n",
      "Epoch 58/150\n",
      "67/67 [==============================] - 1s 12ms/step - loss: 0.7075 - accuracy: 0.7753 - val_loss: 0.7858 - val_accuracy: 0.7500\n",
      "Epoch 59/150\n",
      "67/67 [==============================] - 1s 11ms/step - loss: 0.6992 - accuracy: 0.7822 - val_loss: 0.7967 - val_accuracy: 0.7384\n",
      "Epoch 60/150\n",
      "67/67 [==============================] - 1s 12ms/step - loss: 0.7177 - accuracy: 0.7729 - val_loss: 0.8059 - val_accuracy: 0.7561\n",
      "Epoch 61/150\n",
      "67/67 [==============================] - 1s 12ms/step - loss: 0.7003 - accuracy: 0.7777 - val_loss: 0.8402 - val_accuracy: 0.7324\n",
      "Epoch 62/150\n",
      "67/67 [==============================] - 1s 11ms/step - loss: 0.7297 - accuracy: 0.7689 - val_loss: 0.7811 - val_accuracy: 0.7577\n",
      "Epoch 63/150\n",
      "67/67 [==============================] - 1s 11ms/step - loss: 0.6964 - accuracy: 0.7822 - val_loss: 0.7940 - val_accuracy: 0.7561\n",
      "Epoch 64/150\n",
      "67/67 [==============================] - 1s 11ms/step - loss: 0.6852 - accuracy: 0.7867 - val_loss: 0.8106 - val_accuracy: 0.7500\n",
      "Epoch 65/150\n",
      "67/67 [==============================] - 1s 11ms/step - loss: 0.7146 - accuracy: 0.7772 - val_loss: 0.7981 - val_accuracy: 0.7511\n",
      "Epoch 66/150\n",
      "67/67 [==============================] - 1s 11ms/step - loss: 0.7046 - accuracy: 0.7779 - val_loss: 0.7851 - val_accuracy: 0.7599\n",
      "Epoch 67/150\n",
      "67/67 [==============================] - 1s 12ms/step - loss: 0.6833 - accuracy: 0.7862 - val_loss: 0.8085 - val_accuracy: 0.7472\n",
      "Epoch 68/150\n",
      "67/67 [==============================] - 1s 11ms/step - loss: 0.6915 - accuracy: 0.7810 - val_loss: 0.7738 - val_accuracy: 0.7572\n",
      "Epoch 69/150\n",
      "67/67 [==============================] - 1s 11ms/step - loss: 0.6930 - accuracy: 0.7803 - val_loss: 0.7829 - val_accuracy: 0.7577\n",
      "Epoch 70/150\n",
      "67/67 [==============================] - 1s 12ms/step - loss: 0.6798 - accuracy: 0.7916 - val_loss: 0.8195 - val_accuracy: 0.7417\n",
      "Epoch 71/150\n",
      "67/67 [==============================] - 1s 12ms/step - loss: 0.6836 - accuracy: 0.7869 - val_loss: 0.8247 - val_accuracy: 0.7517\n",
      "Epoch 72/150\n",
      "67/67 [==============================] - 1s 11ms/step - loss: 0.6773 - accuracy: 0.7886 - val_loss: 0.7918 - val_accuracy: 0.7588\n",
      "Epoch 73/150\n",
      "67/67 [==============================] - 1s 11ms/step - loss: 0.6821 - accuracy: 0.7921 - val_loss: 0.7886 - val_accuracy: 0.7506\n",
      "Epoch 74/150\n",
      "67/67 [==============================] - 1s 12ms/step - loss: 0.6868 - accuracy: 0.7895 - val_loss: 0.7856 - val_accuracy: 0.7506\n",
      "Epoch 75/150\n",
      "67/67 [==============================] - 1s 12ms/step - loss: 0.6657 - accuracy: 0.7956 - val_loss: 0.8306 - val_accuracy: 0.7494\n",
      "Epoch 76/150\n",
      "67/67 [==============================] - 1s 12ms/step - loss: 0.6947 - accuracy: 0.7791 - val_loss: 0.8045 - val_accuracy: 0.7528\n",
      "Epoch 77/150\n",
      "67/67 [==============================] - 1s 12ms/step - loss: 0.6681 - accuracy: 0.7909 - val_loss: 0.7844 - val_accuracy: 0.7566\n",
      "Epoch 78/150\n",
      "67/67 [==============================] - 1s 12ms/step - loss: 0.6679 - accuracy: 0.7930 - val_loss: 0.7707 - val_accuracy: 0.7621\n",
      "Epoch 79/150\n",
      "67/67 [==============================] - 1s 12ms/step - loss: 0.6670 - accuracy: 0.7883 - val_loss: 0.7821 - val_accuracy: 0.7594\n",
      "Epoch 80/150\n",
      "67/67 [==============================] - 1s 11ms/step - loss: 0.6629 - accuracy: 0.7897 - val_loss: 0.7887 - val_accuracy: 0.7561\n",
      "Epoch 81/150\n",
      "67/67 [==============================] - 1s 12ms/step - loss: 0.6727 - accuracy: 0.7912 - val_loss: 0.7816 - val_accuracy: 0.7555\n",
      "Epoch 82/150\n",
      "67/67 [==============================] - 1s 12ms/step - loss: 0.6603 - accuracy: 0.7888 - val_loss: 0.7958 - val_accuracy: 0.7539\n",
      "Epoch 83/150\n",
      "67/67 [==============================] - 1s 12ms/step - loss: 0.6505 - accuracy: 0.7959 - val_loss: 0.7913 - val_accuracy: 0.7605\n",
      "Epoch 84/150\n",
      "67/67 [==============================] - 1s 12ms/step - loss: 0.6707 - accuracy: 0.7938 - val_loss: 0.7846 - val_accuracy: 0.7610\n",
      "Epoch 85/150\n",
      "67/67 [==============================] - 1s 12ms/step - loss: 0.6812 - accuracy: 0.7907 - val_loss: 0.7807 - val_accuracy: 0.7594\n",
      "Epoch 86/150\n",
      "67/67 [==============================] - 1s 11ms/step - loss: 0.6521 - accuracy: 0.7945 - val_loss: 0.7785 - val_accuracy: 0.7594\n",
      "Epoch 87/150\n",
      "67/67 [==============================] - 1s 11ms/step - loss: 0.6629 - accuracy: 0.7964 - val_loss: 0.8154 - val_accuracy: 0.7621\n",
      "Epoch 88/150\n",
      "67/67 [==============================] - 1s 12ms/step - loss: 0.6533 - accuracy: 0.7923 - val_loss: 0.7768 - val_accuracy: 0.7599\n",
      "Epoch 89/150\n",
      "67/67 [==============================] - 1s 11ms/step - loss: 0.6671 - accuracy: 0.7921 - val_loss: 0.7860 - val_accuracy: 0.7632\n",
      "Epoch 90/150\n",
      "67/67 [==============================] - 1s 11ms/step - loss: 0.6400 - accuracy: 0.8004 - val_loss: 0.8051 - val_accuracy: 0.7533\n",
      "Epoch 91/150\n",
      "67/67 [==============================] - 1s 11ms/step - loss: 0.6437 - accuracy: 0.7954 - val_loss: 0.8204 - val_accuracy: 0.7566\n",
      "Epoch 92/150\n",
      "67/67 [==============================] - 1s 11ms/step - loss: 0.6397 - accuracy: 0.8042 - val_loss: 0.8014 - val_accuracy: 0.7627\n",
      "Epoch 93/150\n",
      "67/67 [==============================] - 1s 12ms/step - loss: 0.6674 - accuracy: 0.7874 - val_loss: 0.8206 - val_accuracy: 0.7572\n",
      "Epoch 94/150\n",
      "67/67 [==============================] - 1s 11ms/step - loss: 0.6324 - accuracy: 0.8115 - val_loss: 0.8000 - val_accuracy: 0.7572\n",
      "Epoch 95/150\n",
      "67/67 [==============================] - 1s 12ms/step - loss: 0.6497 - accuracy: 0.7971 - val_loss: 0.7996 - val_accuracy: 0.7483\n",
      "Epoch 96/150\n",
      "67/67 [==============================] - 1s 12ms/step - loss: 0.6420 - accuracy: 0.8061 - val_loss: 0.8278 - val_accuracy: 0.7417\n",
      "Epoch 97/150\n",
      "67/67 [==============================] - 1s 12ms/step - loss: 0.6368 - accuracy: 0.8027 - val_loss: 0.8364 - val_accuracy: 0.7511\n",
      "Epoch 98/150\n",
      "67/67 [==============================] - 1s 12ms/step - loss: 0.6367 - accuracy: 0.8027 - val_loss: 0.7903 - val_accuracy: 0.7588\n",
      "Epoch 99/150\n",
      "67/67 [==============================] - 1s 11ms/step - loss: 0.6480 - accuracy: 0.8009 - val_loss: 0.8065 - val_accuracy: 0.7555\n",
      "Epoch 100/150\n",
      "67/67 [==============================] - 1s 12ms/step - loss: 0.6322 - accuracy: 0.8120 - val_loss: 0.7879 - val_accuracy: 0.7561\n",
      "Epoch 101/150\n",
      "67/67 [==============================] - 1s 11ms/step - loss: 0.6380 - accuracy: 0.8030 - val_loss: 0.8010 - val_accuracy: 0.7599\n",
      "Epoch 102/150\n",
      "67/67 [==============================] - 1s 12ms/step - loss: 0.6413 - accuracy: 0.8016 - val_loss: 0.8259 - val_accuracy: 0.7522\n",
      "Epoch 103/150\n",
      "67/67 [==============================] - 1s 12ms/step - loss: 0.6295 - accuracy: 0.8094 - val_loss: 0.8184 - val_accuracy: 0.7561\n",
      "Epoch 104/150\n",
      "67/67 [==============================] - 1s 12ms/step - loss: 0.6208 - accuracy: 0.8122 - val_loss: 0.8032 - val_accuracy: 0.7599\n",
      "Epoch 105/150\n",
      "67/67 [==============================] - 1s 11ms/step - loss: 0.6289 - accuracy: 0.8058 - val_loss: 0.8080 - val_accuracy: 0.7605\n",
      "Epoch 106/150\n",
      "67/67 [==============================] - 1s 12ms/step - loss: 0.6307 - accuracy: 0.8032 - val_loss: 0.7883 - val_accuracy: 0.7616\n",
      "Epoch 107/150\n",
      "67/67 [==============================] - 1s 11ms/step - loss: 0.6256 - accuracy: 0.8020 - val_loss: 0.7765 - val_accuracy: 0.7588\n",
      "Epoch 108/150\n",
      "67/67 [==============================] - 1s 11ms/step - loss: 0.6245 - accuracy: 0.8082 - val_loss: 0.7843 - val_accuracy: 0.7665\n",
      "Epoch 109/150\n",
      "67/67 [==============================] - 1s 11ms/step - loss: 0.6258 - accuracy: 0.8091 - val_loss: 0.7918 - val_accuracy: 0.7583\n",
      "Epoch 110/150\n",
      "67/67 [==============================] - 1s 11ms/step - loss: 0.6229 - accuracy: 0.8068 - val_loss: 0.7897 - val_accuracy: 0.7649\n",
      "Epoch 111/150\n",
      "67/67 [==============================] - 1s 11ms/step - loss: 0.6366 - accuracy: 0.8063 - val_loss: 0.8075 - val_accuracy: 0.7577\n",
      "Epoch 112/150\n",
      "67/67 [==============================] - 1s 12ms/step - loss: 0.6388 - accuracy: 0.7990 - val_loss: 0.8074 - val_accuracy: 0.7572\n",
      "Epoch 113/150\n",
      "67/67 [==============================] - 1s 11ms/step - loss: 0.6446 - accuracy: 0.8039 - val_loss: 0.7913 - val_accuracy: 0.7572\n",
      "Epoch 114/150\n",
      "67/67 [==============================] - 1s 11ms/step - loss: 0.6689 - accuracy: 0.7940 - val_loss: 0.7962 - val_accuracy: 0.7599\n",
      "Epoch 115/150\n",
      "67/67 [==============================] - 1s 12ms/step - loss: 0.6082 - accuracy: 0.8158 - val_loss: 0.8306 - val_accuracy: 0.7572\n",
      "Epoch 116/150\n",
      "67/67 [==============================] - 1s 12ms/step - loss: 0.6135 - accuracy: 0.8139 - val_loss: 0.8113 - val_accuracy: 0.7638\n",
      "Epoch 117/150\n",
      "67/67 [==============================] - 1s 11ms/step - loss: 0.6183 - accuracy: 0.8113 - val_loss: 0.7979 - val_accuracy: 0.7572\n",
      "Epoch 118/150\n",
      "67/67 [==============================] - 1s 12ms/step - loss: 0.6159 - accuracy: 0.8195 - val_loss: 0.7874 - val_accuracy: 0.7616\n",
      "Epoch 119/150\n",
      "67/67 [==============================] - 1s 12ms/step - loss: 0.6175 - accuracy: 0.8136 - val_loss: 0.7967 - val_accuracy: 0.7627\n",
      "Epoch 120/150\n",
      "67/67 [==============================] - 1s 11ms/step - loss: 0.6111 - accuracy: 0.8139 - val_loss: 0.7825 - val_accuracy: 0.7649\n",
      "Epoch 121/150\n",
      "67/67 [==============================] - 1s 12ms/step - loss: 0.6482 - accuracy: 0.8004 - val_loss: 0.7736 - val_accuracy: 0.7671\n",
      "Epoch 122/150\n",
      "67/67 [==============================] - 1s 12ms/step - loss: 0.6183 - accuracy: 0.8176 - val_loss: 0.7991 - val_accuracy: 0.7616\n",
      "Epoch 123/150\n",
      "67/67 [==============================] - 1s 12ms/step - loss: 0.6104 - accuracy: 0.8188 - val_loss: 0.7945 - val_accuracy: 0.7693\n",
      "Epoch 124/150\n",
      "67/67 [==============================] - 1s 12ms/step - loss: 0.6379 - accuracy: 0.8035 - val_loss: 0.8141 - val_accuracy: 0.7472\n",
      "Epoch 125/150\n",
      "67/67 [==============================] - 1s 11ms/step - loss: 0.6106 - accuracy: 0.8124 - val_loss: 0.8125 - val_accuracy: 0.7599\n",
      "Epoch 126/150\n",
      "67/67 [==============================] - 1s 11ms/step - loss: 0.6044 - accuracy: 0.8124 - val_loss: 0.8051 - val_accuracy: 0.7676\n",
      "Epoch 127/150\n",
      "67/67 [==============================] - 1s 11ms/step - loss: 0.5897 - accuracy: 0.8221 - val_loss: 0.8091 - val_accuracy: 0.7594\n",
      "Epoch 128/150\n",
      "67/67 [==============================] - 1s 11ms/step - loss: 0.5917 - accuracy: 0.8238 - val_loss: 0.8138 - val_accuracy: 0.7599\n",
      "Epoch 129/150\n",
      "67/67 [==============================] - 1s 12ms/step - loss: 0.5990 - accuracy: 0.8247 - val_loss: 0.8180 - val_accuracy: 0.7605\n",
      "Epoch 130/150\n",
      "67/67 [==============================] - 1s 11ms/step - loss: 0.6018 - accuracy: 0.8195 - val_loss: 0.8054 - val_accuracy: 0.7599\n",
      "Epoch 131/150\n",
      "67/67 [==============================] - 1s 11ms/step - loss: 0.6130 - accuracy: 0.8162 - val_loss: 0.8075 - val_accuracy: 0.7676\n",
      "Epoch 132/150\n",
      "67/67 [==============================] - 1s 12ms/step - loss: 0.6001 - accuracy: 0.8198 - val_loss: 0.8170 - val_accuracy: 0.7693\n",
      "Epoch 133/150\n",
      "67/67 [==============================] - 1s 11ms/step - loss: 0.6015 - accuracy: 0.8219 - val_loss: 0.7980 - val_accuracy: 0.7693\n",
      "Epoch 134/150\n",
      "67/67 [==============================] - 1s 11ms/step - loss: 0.5970 - accuracy: 0.8219 - val_loss: 0.8067 - val_accuracy: 0.7610\n",
      "Epoch 135/150\n",
      "67/67 [==============================] - 1s 12ms/step - loss: 0.5931 - accuracy: 0.8224 - val_loss: 0.7949 - val_accuracy: 0.7687\n",
      "Epoch 136/150\n",
      "67/67 [==============================] - 1s 11ms/step - loss: 0.5931 - accuracy: 0.8228 - val_loss: 0.7827 - val_accuracy: 0.7665\n",
      "Epoch 137/150\n",
      "67/67 [==============================] - 1s 12ms/step - loss: 0.5781 - accuracy: 0.8323 - val_loss: 0.8061 - val_accuracy: 0.7616\n",
      "Epoch 138/150\n",
      "67/67 [==============================] - 1s 11ms/step - loss: 0.5973 - accuracy: 0.8205 - val_loss: 0.7931 - val_accuracy: 0.7704\n",
      "Epoch 139/150\n",
      "67/67 [==============================] - 1s 12ms/step - loss: 0.5936 - accuracy: 0.8217 - val_loss: 0.8097 - val_accuracy: 0.7561\n",
      "Epoch 140/150\n",
      "67/67 [==============================] - 1s 12ms/step - loss: 0.5784 - accuracy: 0.8314 - val_loss: 0.7932 - val_accuracy: 0.7676\n",
      "Epoch 141/150\n",
      "67/67 [==============================] - 1s 12ms/step - loss: 0.5820 - accuracy: 0.8245 - val_loss: 0.7912 - val_accuracy: 0.7610\n",
      "Epoch 142/150\n",
      "67/67 [==============================] - 1s 12ms/step - loss: 0.6048 - accuracy: 0.8110 - val_loss: 0.8323 - val_accuracy: 0.7616\n",
      "Epoch 143/150\n",
      "67/67 [==============================] - 1s 11ms/step - loss: 0.5903 - accuracy: 0.8191 - val_loss: 0.7849 - val_accuracy: 0.7698\n",
      "Epoch 144/150\n",
      "67/67 [==============================] - 1s 11ms/step - loss: 0.5909 - accuracy: 0.8205 - val_loss: 0.8139 - val_accuracy: 0.7627\n",
      "Epoch 145/150\n",
      "67/67 [==============================] - 1s 11ms/step - loss: 0.5897 - accuracy: 0.8221 - val_loss: 0.7881 - val_accuracy: 0.7676\n",
      "Epoch 146/150\n",
      "67/67 [==============================] - 1s 12ms/step - loss: 0.5886 - accuracy: 0.8202 - val_loss: 0.8008 - val_accuracy: 0.7632\n",
      "Epoch 147/150\n",
      "67/67 [==============================] - 1s 12ms/step - loss: 0.5973 - accuracy: 0.8179 - val_loss: 0.7942 - val_accuracy: 0.7643\n",
      "Epoch 148/150\n",
      "67/67 [==============================] - 1s 12ms/step - loss: 0.5814 - accuracy: 0.8276 - val_loss: 0.7818 - val_accuracy: 0.7698\n",
      "Epoch 149/150\n",
      "67/67 [==============================] - 1s 12ms/step - loss: 0.5857 - accuracy: 0.8254 - val_loss: 0.7901 - val_accuracy: 0.7665\n",
      "Epoch 150/150\n",
      "67/67 [==============================] - 1s 12ms/step - loss: 0.5752 - accuracy: 0.8269 - val_loss: 0.7926 - val_accuracy: 0.7693\n"
     ]
    }
   ],
   "source": [
    "epochs=150\n",
    "history = model.fit(\n",
    "  train,\n",
    "  validation_data=test,\n",
    "  epochs=epochs\n",
    ")"
   ]
  },
  {
   "cell_type": "code",
   "execution_count": 8,
   "metadata": {},
   "outputs": [
    {
     "data": {
      "image/png": "[encoded data removed]",
      "text/plain": [
       "<Figure size 576x576 with 2 Axes>"
      ]
     },
     "metadata": {
      "needs_background": "light"
     },
     "output_type": "display_data"
    }
   ],
   "source": [
    "acc = history.history['accuracy']\n",
    "val_acc = history.history['val_accuracy']\n",
    "\n",
    "loss = history.history['loss']\n",
    "val_loss = history.history['val_loss']\n",
    "\n",
    "epochs_range = range(epochs)\n",
    "\n",
    "plt.figure(figsize=(8, 8))\n",
    "plt.subplot(1, 2, 1)\n",
    "plt.plot(epochs_range, acc, label='Training Accuracy')\n",
    "plt.plot(epochs_range, val_acc, label='Validation Accuracy')\n",
    "plt.legend(loc='lower right')\n",
    "plt.title('Training and Validation Accuracy')\n",
    "\n",
    "plt.subplot(1, 2, 2)\n",
    "plt.plot(epochs_range, loss, label='Training Loss')\n",
    "plt.plot(epochs_range, val_loss, label='Validation Loss')\n",
    "plt.legend(loc='upper right')\n",
    "plt.title('Training and Validation Loss')\n",
    "plt.show()"
   ]
  },
  {
   "cell_type": "code",
   "execution_count": 9,
   "metadata": {},
   "outputs": [
    {
     "name": "stdout",
     "output_type": "stream",
     "text": [
      "29/29 [==============================] - 0s 8ms/step - loss: 0.7926 - accuracy: 0.7693\n",
      "Test accuracy : 0.7692731022834778\n"
     ]
    }
   ],
   "source": [
    "loss, accuracy = model.evaluate(test)\n",
    "print('Test accuracy :', accuracy)"
   ]
  },
  {
   "cell_type": "code",
   "execution_count": 10,
   "metadata": {},
   "outputs": [],
   "source": [
    "# Save the entire model as a SavedModel.\n",
    "# model.save('./data/humanModel/mode_v0')\n",
    "model.save('./data/humanModel/model_v0.h5')"
   ]
  },
  {
   "cell_type": "code",
   "execution_count": 11,
   "metadata": {},
   "outputs": [],
   "source": [
    "# save model in js format\n",
    "# import tensorflowjs as tfjs\n",
    "# tfjs.converters.save_keras_model(model, 'data/humanModel/js_model_v0')"
   ]
  },
  {
   "cell_type": "code",
   "execution_count": 12,
   "metadata": {},
   "outputs": [],
   "source": [
    "# new_model = tf.keras.models.load_model('./data/humanModel/mode_v0')\n",
    "\n",
    "# # Check its architecture\n",
    "# new_model.summary()"
   ]
  },
  {
   "cell_type": "markdown",
   "metadata": {},
   "source": [
    "### Predict on new data"
   ]
  },
  {
   "cell_type": "code",
   "execution_count": 13,
   "metadata": {},
   "outputs": [
    {
     "name": "stdout",
     "output_type": "stream",
     "text": [
      "This image most likely belongs to 3 with a 40.46 percent confidence.\n"
     ]
    }
   ],
   "source": [
    "sunflower_path = \"./data/humanModel/imagesDatabase_split/val/39/-MpIqdos7xbOmReSEoMh_10.png\"\n",
    "\n",
    "img = keras.preprocessing.image.load_img(\n",
    "    sunflower_path, target_size=(IMG_SIZE, IMG_SIZE)\n",
    ")\n",
    "img_array = keras.preprocessing.image.img_to_array(img)\n",
    "img_array = tf.expand_dims(img_array, 0) # Create a batch\n",
    "\n",
    "predictions = model.predict(img_array)\n",
    "score = tf.nn.softmax(predictions[0])\n",
    "print(\n",
    "    \"This image most likely belongs to {} with a {:.2f} percent confidence.\"\n",
    "    .format(np.argmax(score), 100 * np.max(score))\n",
    ")"
   ]
  }
 ],
 "metadata": {
  "interpreter": {
   "hash": "ad60775ae12af945b53c5c94c294ef05f229143b8585a0d23625a81e181fdccc"
  },
  "kernelspec": {
   "display_name": "Python 3.7.4 64-bit ('tf-gpu': conda)",
   "name": "python3"
  },
  "language_info": {
   "codemirror_mode": {
    "name": "ipython",
    "version": 3
   },
   "file_extension": ".py",
   "mimetype": "text/x-python",
   "name": "python",
   "nbconvert_exporter": "python",
   "pygments_lexer": "ipython3",
   "version": "3.7.4"
  }
 },
 "nbformat": 4,
 "nbformat_minor": 4
}
