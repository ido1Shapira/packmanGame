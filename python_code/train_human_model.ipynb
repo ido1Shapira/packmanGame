{
 "cells": [
  {
   "cell_type": "code",
   "execution_count": 1,
   "metadata": {},
   "outputs": [],
   "source": [
    "import numpy as np\n",
    "import random\n",
    "import os\n",
    "\n",
    "# ! pip install split-folders\n",
    "import splitfolders\n",
    "\n",
    "import tensorflow as tf\n",
    "from tensorflow import keras\n",
    "from tensorflow.keras import layers, regularizers\n",
    "from tensorflow.keras.models import Sequential\n",
    "\n",
    "from tensorflow.keras.preprocessing.image import ImageDataGenerator\n",
    "from tensorflow.keras.preprocessing import image\n",
    "\n",
    "import matplotlib.pyplot as plt\n",
    "\n",
    "rs = 42\n",
    "def reset_random_seeds(rs):\n",
    "   os.environ['PYTHONHASHSEED']=str(rs)\n",
    "   tf.random.set_seed(rs)\n",
    "   np.random.seed(rs)\n",
    "   random.seed(rs)\n",
    "reset_random_seeds(rs)\n",
    "\n",
    "map_dir = 'map 2'"
   ]
  },
  {
   "cell_type": "markdown",
   "metadata": {},
   "source": [
    "remove prev saved database:"
   ]
  },
  {
   "cell_type": "code",
   "execution_count": null,
   "metadata": {},
   "outputs": [],
   "source": [
    "file_path = './data/humanModel_dataset_split'\n",
    "if os.path.exists(file_path):\n",
    "    os.remove(file_path)\n",
    "else:\n",
    "    print(\"File not found in the directory\")"
   ]
  },
  {
   "cell_type": "markdown",
   "metadata": {},
   "source": [
    "# Part 1 - Data Preprocessing"
   ]
  },
  {
   "cell_type": "markdown",
   "metadata": {},
   "source": [
    "## Split into train , test data"
   ]
  },
  {
   "cell_type": "code",
   "execution_count": 2,
   "metadata": {},
   "outputs": [
    {
     "name": "stderr",
     "output_type": "stream",
     "text": [
      "Copying files: 5075 files [00:00, 16493.67 files/s]\n"
     ]
    }
   ],
   "source": [
    "# train, test split\n",
    "splitfolders.ratio('./data/humanModel_dataset/', output=\"./data/humanModel_dataset_split\", ratio=(0.7, 0.3))"
   ]
  },
  {
   "cell_type": "markdown",
   "metadata": {},
   "source": [
    "### Preprocessing the Training set"
   ]
  },
  {
   "cell_type": "code",
   "execution_count": 3,
   "metadata": {},
   "outputs": [
    {
     "name": "stdout",
     "output_type": "stream",
     "text": [
      "Found 3550 images belonging to 5 classes.\n",
      "Found 1525 images belonging to 5 classes.\n"
     ]
    }
   ],
   "source": [
    "batch_size = 64\n",
    "IMG_SIZE = 10\n",
    "\n",
    "datagen = ImageDataGenerator(rescale = 1./255)\n",
    "train = datagen.flow_from_directory('./data/humanModel_dataset_split/train',\n",
    "                                          target_size = (IMG_SIZE,IMG_SIZE), batch_size = batch_size, seed=rs, class_mode='sparse')\n",
    "\n",
    "test = datagen.flow_from_directory('./data/humanModel_dataset_split/val',\n",
    "                                            target_size = (IMG_SIZE, IMG_SIZE), batch_size = batch_size, seed=rs, class_mode='sparse')"
   ]
  },
  {
   "cell_type": "markdown",
   "metadata": {},
   "source": [
    "## View some data"
   ]
  },
  {
   "cell_type": "code",
   "execution_count": 4,
   "metadata": {},
   "outputs": [
    {
     "name": "stderr",
     "output_type": "stream",
     "text": [
      "2021-12-15 09:27:56.132285: I tensorflow/stream_executor/cuda/cuda_gpu_executor.cc:937] successful NUMA node read from SysFS had negative value (-1), but there must be at least one NUMA node, so returning NUMA node zero\n",
      "2021-12-15 09:27:56.139304: I tensorflow/stream_executor/cuda/cuda_gpu_executor.cc:937] successful NUMA node read from SysFS had negative value (-1), but there must be at least one NUMA node, so returning NUMA node zero\n",
      "2021-12-15 09:27:56.139836: I tensorflow/stream_executor/cuda/cuda_gpu_executor.cc:937] successful NUMA node read from SysFS had negative value (-1), but there must be at least one NUMA node, so returning NUMA node zero\n",
      "2021-12-15 09:27:56.141535: I tensorflow/core/platform/cpu_feature_guard.cc:142] This TensorFlow binary is optimized with oneAPI Deep Neural Network Library (oneDNN) to use the following CPU instructions in performance-critical operations:  AVX2 FMA\n",
      "To enable them in other operations, rebuild TensorFlow with the appropriate compiler flags.\n",
      "2021-12-15 09:27:56.142241: I tensorflow/stream_executor/cuda/cuda_gpu_executor.cc:937] successful NUMA node read from SysFS had negative value (-1), but there must be at least one NUMA node, so returning NUMA node zero\n",
      "2021-12-15 09:27:56.142768: I tensorflow/stream_executor/cuda/cuda_gpu_executor.cc:937] successful NUMA node read from SysFS had negative value (-1), but there must be at least one NUMA node, so returning NUMA node zero\n",
      "2021-12-15 09:27:56.143234: I tensorflow/stream_executor/cuda/cuda_gpu_executor.cc:937] successful NUMA node read from SysFS had negative value (-1), but there must be at least one NUMA node, so returning NUMA node zero\n",
      "2021-12-15 09:27:56.456083: I tensorflow/stream_executor/cuda/cuda_gpu_executor.cc:937] successful NUMA node read from SysFS had negative value (-1), but there must be at least one NUMA node, so returning NUMA node zero\n",
      "2021-12-15 09:27:56.456402: I tensorflow/stream_executor/cuda/cuda_gpu_executor.cc:937] successful NUMA node read from SysFS had negative value (-1), but there must be at least one NUMA node, so returning NUMA node zero\n",
      "2021-12-15 09:27:56.456676: I tensorflow/stream_executor/cuda/cuda_gpu_executor.cc:937] successful NUMA node read from SysFS had negative value (-1), but there must be at least one NUMA node, so returning NUMA node zero\n",
      "2021-12-15 09:27:56.456938: I tensorflow/core/common_runtime/gpu/gpu_device.cc:1510] Created device /job:localhost/replica:0/task:0/device:GPU:0 with 11224 MB memory:  -> device: 0, name: NVIDIA TITAN X (Pascal), pci bus id: 0000:01:00.0, compute capability: 6.1\n"
     ]
    }
   ],
   "source": [
    "num_classes = 5\n",
    "\n",
    "model = Sequential([\n",
    "  # layers.GaussianNoise(0.2),\n",
    "  layers.Conv2D(8, 4, padding='same', activation='relu', kernel_regularizer=regularizers.l2(0.001), input_shape=[IMG_SIZE,IMG_SIZE,3]),\n",
    "  layers.Conv2D(16, 4, padding='same', activation='relu', kernel_regularizer=regularizers.l2(0.001)),\n",
    "  layers.Conv2D(16, 3, padding='same', activation='relu', kernel_regularizer=regularizers.l2(0.001)),\n",
    "  layers.MaxPooling2D(),\n",
    "  layers.Conv2D(8, 3, padding='same', activation='relu', kernel_regularizer=regularizers.l2(0.001)),\n",
    "  layers.Dropout(0.5),\n",
    "  layers.Flatten(),\n",
    "  layers.Dense(32, activation='relu', kernel_regularizer=regularizers.l2(0.001)),\n",
    "  layers.Dense(num_classes, activation='softmax')\n",
    "])"
   ]
  },
  {
   "cell_type": "code",
   "execution_count": 5,
   "metadata": {},
   "outputs": [],
   "source": [
    "model.compile(optimizer='adam',\n",
    "              loss=tf.keras.losses.SparseCategoricalCrossentropy(from_logits=True),\n",
    "              metrics=['accuracy'])"
   ]
  },
  {
   "cell_type": "code",
   "execution_count": 6,
   "metadata": {},
   "outputs": [
    {
     "name": "stdout",
     "output_type": "stream",
     "text": [
      "Model: \"sequential\"\n",
      "_________________________________________________________________\n",
      "Layer (type)                 Output Shape              Param #   \n",
      "=================================================================\n",
      "conv2d (Conv2D)              (None, 10, 10, 8)         392       \n",
      "_________________________________________________________________\n",
      "conv2d_1 (Conv2D)            (None, 10, 10, 16)        2064      \n",
      "_________________________________________________________________\n",
      "conv2d_2 (Conv2D)            (None, 10, 10, 16)        2320      \n",
      "_________________________________________________________________\n",
      "max_pooling2d (MaxPooling2D) (None, 5, 5, 16)          0         \n",
      "_________________________________________________________________\n",
      "conv2d_3 (Conv2D)            (None, 5, 5, 8)           1160      \n",
      "_________________________________________________________________\n",
      "dropout (Dropout)            (None, 5, 5, 8)           0         \n",
      "_________________________________________________________________\n",
      "flatten (Flatten)            (None, 200)               0         \n",
      "_________________________________________________________________\n",
      "dense (Dense)                (None, 32)                6432      \n",
      "_________________________________________________________________\n",
      "dense_1 (Dense)              (None, 5)                 165       \n",
      "=================================================================\n",
      "Total params: 12,533\n",
      "Trainable params: 12,533\n",
      "Non-trainable params: 0\n",
      "_________________________________________________________________\n"
     ]
    }
   ],
   "source": [
    "model.summary()"
   ]
  },
  {
   "cell_type": "code",
   "execution_count": 7,
   "metadata": {
    "scrolled": true
   },
   "outputs": [
    {
     "name": "stderr",
     "output_type": "stream",
     "text": [
      "2021-12-15 09:27:56.822053: I tensorflow/compiler/mlir/mlir_graph_optimization_pass.cc:185] None of the MLIR Optimization Passes are enabled (registered 2)\n",
      "/home/ido/anaconda3/envs/tf-gpu/lib/python3.7/site-packages/keras/backend.py:4907: UserWarning: \"`sparse_categorical_crossentropy` received `from_logits=True`, but the `output` argument was produced by a sigmoid or softmax activation and thus does not represent logits. Was this intended?\"\n",
      "  '\"`sparse_categorical_crossentropy` received `from_logits=True`, but '\n"
     ]
    },
    {
     "name": "stdout",
     "output_type": "stream",
     "text": [
      "Epoch 1/150\n"
     ]
    },
    {
     "name": "stderr",
     "output_type": "stream",
     "text": [
      "2021-12-15 09:27:57.464900: I tensorflow/stream_executor/cuda/cuda_dnn.cc:369] Loaded cuDNN version 8300\n"
     ]
    },
    {
     "name": "stdout",
     "output_type": "stream",
     "text": [
      "56/56 [==============================] - 2s 15ms/step - loss: 1.6468 - accuracy: 0.2983 - val_loss: 1.5542 - val_accuracy: 0.4033\n",
      "Epoch 2/150\n",
      "56/56 [==============================] - 1s 12ms/step - loss: 1.4319 - accuracy: 0.4206 - val_loss: 1.2804 - val_accuracy: 0.5377\n",
      "Epoch 3/150\n",
      "56/56 [==============================] - 1s 11ms/step - loss: 1.2207 - accuracy: 0.5606 - val_loss: 1.1205 - val_accuracy: 0.6098\n",
      "Epoch 4/150\n",
      "56/56 [==============================] - 1s 12ms/step - loss: 1.1273 - accuracy: 0.5977 - val_loss: 1.0694 - val_accuracy: 0.6131\n",
      "Epoch 5/150\n",
      "56/56 [==============================] - 1s 11ms/step - loss: 1.0615 - accuracy: 0.6352 - val_loss: 1.0379 - val_accuracy: 0.6505\n",
      "Epoch 6/150\n",
      "56/56 [==============================] - 1s 11ms/step - loss: 1.0509 - accuracy: 0.6330 - val_loss: 1.0242 - val_accuracy: 0.6498\n",
      "Epoch 7/150\n",
      "56/56 [==============================] - 1s 11ms/step - loss: 1.0100 - accuracy: 0.6527 - val_loss: 0.9881 - val_accuracy: 0.6584\n",
      "Epoch 8/150\n",
      "56/56 [==============================] - 1s 11ms/step - loss: 0.9728 - accuracy: 0.6656 - val_loss: 0.9725 - val_accuracy: 0.6767\n",
      "Epoch 9/150\n",
      "56/56 [==============================] - 1s 11ms/step - loss: 0.9743 - accuracy: 0.6670 - val_loss: 0.9585 - val_accuracy: 0.6734\n",
      "Epoch 10/150\n",
      "56/56 [==============================] - 1s 12ms/step - loss: 0.9535 - accuracy: 0.6699 - val_loss: 0.9398 - val_accuracy: 0.6748\n",
      "Epoch 11/150\n",
      "56/56 [==============================] - 1s 11ms/step - loss: 0.9364 - accuracy: 0.6786 - val_loss: 0.9355 - val_accuracy: 0.6807\n",
      "Epoch 12/150\n",
      "56/56 [==============================] - 1s 11ms/step - loss: 0.9193 - accuracy: 0.6882 - val_loss: 0.9166 - val_accuracy: 0.6872\n",
      "Epoch 13/150\n",
      "56/56 [==============================] - 1s 11ms/step - loss: 0.9049 - accuracy: 0.7020 - val_loss: 0.8990 - val_accuracy: 0.6951\n",
      "Epoch 14/150\n",
      "56/56 [==============================] - 1s 11ms/step - loss: 0.8857 - accuracy: 0.7025 - val_loss: 0.9067 - val_accuracy: 0.6951\n",
      "Epoch 15/150\n",
      "56/56 [==============================] - 1s 11ms/step - loss: 0.8855 - accuracy: 0.7042 - val_loss: 0.8947 - val_accuracy: 0.6977\n",
      "Epoch 16/150\n",
      "56/56 [==============================] - 1s 11ms/step - loss: 0.8796 - accuracy: 0.7068 - val_loss: 0.8805 - val_accuracy: 0.7023\n",
      "Epoch 17/150\n",
      "56/56 [==============================] - 1s 11ms/step - loss: 0.8624 - accuracy: 0.7237 - val_loss: 0.8728 - val_accuracy: 0.7108\n",
      "Epoch 18/150\n",
      "56/56 [==============================] - 1s 12ms/step - loss: 0.8579 - accuracy: 0.7169 - val_loss: 0.8658 - val_accuracy: 0.7082\n",
      "Epoch 19/150\n",
      "56/56 [==============================] - 1s 11ms/step - loss: 0.8427 - accuracy: 0.7273 - val_loss: 0.8526 - val_accuracy: 0.7062\n",
      "Epoch 20/150\n",
      "56/56 [==============================] - 1s 11ms/step - loss: 0.8344 - accuracy: 0.7248 - val_loss: 0.8802 - val_accuracy: 0.7207\n",
      "Epoch 21/150\n",
      "56/56 [==============================] - 1s 11ms/step - loss: 0.8325 - accuracy: 0.7327 - val_loss: 0.8394 - val_accuracy: 0.7266\n",
      "Epoch 22/150\n",
      "56/56 [==============================] - 1s 11ms/step - loss: 0.8166 - accuracy: 0.7408 - val_loss: 0.8385 - val_accuracy: 0.7259\n",
      "Epoch 23/150\n",
      "56/56 [==============================] - 1s 12ms/step - loss: 0.8232 - accuracy: 0.7383 - val_loss: 0.8589 - val_accuracy: 0.7233\n",
      "Epoch 24/150\n",
      "56/56 [==============================] - 1s 11ms/step - loss: 0.7975 - accuracy: 0.7459 - val_loss: 0.8411 - val_accuracy: 0.7226\n",
      "Epoch 25/150\n",
      "56/56 [==============================] - 1s 11ms/step - loss: 0.8104 - accuracy: 0.7496 - val_loss: 0.8292 - val_accuracy: 0.7331\n",
      "Epoch 26/150\n",
      "56/56 [==============================] - 1s 12ms/step - loss: 0.8079 - accuracy: 0.7431 - val_loss: 0.8201 - val_accuracy: 0.7370\n",
      "Epoch 27/150\n",
      "56/56 [==============================] - 1s 11ms/step - loss: 0.7949 - accuracy: 0.7538 - val_loss: 0.8173 - val_accuracy: 0.7318\n",
      "Epoch 28/150\n",
      "56/56 [==============================] - 1s 11ms/step - loss: 0.7719 - accuracy: 0.7592 - val_loss: 0.8115 - val_accuracy: 0.7423\n",
      "Epoch 29/150\n",
      "56/56 [==============================] - 1s 11ms/step - loss: 0.7891 - accuracy: 0.7589 - val_loss: 0.8164 - val_accuracy: 0.7430\n",
      "Epoch 30/150\n",
      "56/56 [==============================] - 1s 11ms/step - loss: 0.7730 - accuracy: 0.7594 - val_loss: 0.8180 - val_accuracy: 0.7338\n",
      "Epoch 31/150\n",
      "56/56 [==============================] - 1s 11ms/step - loss: 0.7669 - accuracy: 0.7631 - val_loss: 0.8099 - val_accuracy: 0.7449\n",
      "Epoch 32/150\n",
      "56/56 [==============================] - 1s 12ms/step - loss: 0.7577 - accuracy: 0.7645 - val_loss: 0.8243 - val_accuracy: 0.7377\n",
      "Epoch 33/150\n",
      "56/56 [==============================] - 1s 12ms/step - loss: 0.7701 - accuracy: 0.7642 - val_loss: 0.8161 - val_accuracy: 0.7338\n",
      "Epoch 34/150\n",
      "56/56 [==============================] - 1s 11ms/step - loss: 0.7694 - accuracy: 0.7611 - val_loss: 0.8058 - val_accuracy: 0.7554\n",
      "Epoch 35/150\n",
      "56/56 [==============================] - 1s 11ms/step - loss: 0.7606 - accuracy: 0.7679 - val_loss: 0.8130 - val_accuracy: 0.7462\n",
      "Epoch 36/150\n",
      "56/56 [==============================] - 1s 12ms/step - loss: 0.7648 - accuracy: 0.7721 - val_loss: 0.7989 - val_accuracy: 0.7561\n",
      "Epoch 37/150\n",
      "56/56 [==============================] - 1s 12ms/step - loss: 0.7537 - accuracy: 0.7634 - val_loss: 0.7967 - val_accuracy: 0.7541\n",
      "Epoch 38/150\n",
      "56/56 [==============================] - 1s 12ms/step - loss: 0.7430 - accuracy: 0.7693 - val_loss: 0.8003 - val_accuracy: 0.7508\n",
      "Epoch 39/150\n",
      "56/56 [==============================] - 1s 11ms/step - loss: 0.7529 - accuracy: 0.7679 - val_loss: 0.7806 - val_accuracy: 0.7587\n",
      "Epoch 40/150\n",
      "56/56 [==============================] - 1s 11ms/step - loss: 0.7512 - accuracy: 0.7741 - val_loss: 0.8082 - val_accuracy: 0.7430\n",
      "Epoch 41/150\n",
      "56/56 [==============================] - 1s 11ms/step - loss: 0.7321 - accuracy: 0.7730 - val_loss: 0.7894 - val_accuracy: 0.7620\n",
      "Epoch 42/150\n",
      "56/56 [==============================] - 1s 11ms/step - loss: 0.7257 - accuracy: 0.7817 - val_loss: 0.7798 - val_accuracy: 0.7580\n",
      "Epoch 43/150\n",
      "56/56 [==============================] - 1s 12ms/step - loss: 0.7300 - accuracy: 0.7766 - val_loss: 0.8054 - val_accuracy: 0.7679\n",
      "Epoch 44/150\n",
      "56/56 [==============================] - 1s 11ms/step - loss: 0.7372 - accuracy: 0.7718 - val_loss: 0.8170 - val_accuracy: 0.7456\n",
      "Epoch 45/150\n",
      "56/56 [==============================] - 1s 11ms/step - loss: 0.7290 - accuracy: 0.7808 - val_loss: 0.7815 - val_accuracy: 0.7561\n",
      "Epoch 46/150\n",
      "56/56 [==============================] - 1s 11ms/step - loss: 0.7177 - accuracy: 0.7775 - val_loss: 0.8020 - val_accuracy: 0.7469\n",
      "Epoch 47/150\n",
      "56/56 [==============================] - 1s 11ms/step - loss: 0.7135 - accuracy: 0.7817 - val_loss: 0.7749 - val_accuracy: 0.7607\n",
      "Epoch 48/150\n",
      "56/56 [==============================] - 1s 11ms/step - loss: 0.7160 - accuracy: 0.7885 - val_loss: 0.7694 - val_accuracy: 0.7679\n",
      "Epoch 49/150\n",
      "56/56 [==============================] - 1s 11ms/step - loss: 0.7129 - accuracy: 0.7817 - val_loss: 0.7825 - val_accuracy: 0.7561\n",
      "Epoch 50/150\n",
      "56/56 [==============================] - 1s 12ms/step - loss: 0.7077 - accuracy: 0.7873 - val_loss: 0.7970 - val_accuracy: 0.7475\n",
      "Epoch 51/150\n",
      "56/56 [==============================] - 1s 11ms/step - loss: 0.6992 - accuracy: 0.7887 - val_loss: 0.7780 - val_accuracy: 0.7587\n",
      "Epoch 52/150\n",
      "56/56 [==============================] - 1s 12ms/step - loss: 0.7112 - accuracy: 0.7907 - val_loss: 0.7840 - val_accuracy: 0.7548\n",
      "Epoch 53/150\n",
      "56/56 [==============================] - 1s 11ms/step - loss: 0.6986 - accuracy: 0.7890 - val_loss: 0.7596 - val_accuracy: 0.7646\n",
      "Epoch 54/150\n",
      "56/56 [==============================] - 1s 11ms/step - loss: 0.6999 - accuracy: 0.7904 - val_loss: 0.7908 - val_accuracy: 0.7574\n",
      "Epoch 55/150\n",
      "56/56 [==============================] - 1s 11ms/step - loss: 0.6913 - accuracy: 0.7983 - val_loss: 0.7620 - val_accuracy: 0.7731\n",
      "Epoch 56/150\n",
      "56/56 [==============================] - 1s 11ms/step - loss: 0.7071 - accuracy: 0.7862 - val_loss: 0.7654 - val_accuracy: 0.7718\n",
      "Epoch 57/150\n",
      "56/56 [==============================] - 1s 11ms/step - loss: 0.6879 - accuracy: 0.7975 - val_loss: 0.7649 - val_accuracy: 0.7692\n",
      "Epoch 58/150\n",
      "56/56 [==============================] - 1s 11ms/step - loss: 0.6814 - accuracy: 0.7994 - val_loss: 0.8154 - val_accuracy: 0.7502\n",
      "Epoch 59/150\n",
      "56/56 [==============================] - 1s 11ms/step - loss: 0.6908 - accuracy: 0.7972 - val_loss: 0.7622 - val_accuracy: 0.7757\n",
      "Epoch 60/150\n",
      "56/56 [==============================] - 1s 12ms/step - loss: 0.6848 - accuracy: 0.8023 - val_loss: 0.7527 - val_accuracy: 0.7725\n",
      "Epoch 61/150\n",
      "56/56 [==============================] - 1s 12ms/step - loss: 0.6913 - accuracy: 0.8006 - val_loss: 0.7649 - val_accuracy: 0.7646\n",
      "Epoch 62/150\n",
      "56/56 [==============================] - 1s 11ms/step - loss: 0.6856 - accuracy: 0.8023 - val_loss: 0.7638 - val_accuracy: 0.7744\n",
      "Epoch 63/150\n",
      "56/56 [==============================] - 1s 11ms/step - loss: 0.6842 - accuracy: 0.8008 - val_loss: 0.7635 - val_accuracy: 0.7744\n",
      "Epoch 64/150\n",
      "56/56 [==============================] - 1s 12ms/step - loss: 0.6818 - accuracy: 0.8042 - val_loss: 0.7595 - val_accuracy: 0.7725\n",
      "Epoch 65/150\n",
      "56/56 [==============================] - 1s 11ms/step - loss: 0.6698 - accuracy: 0.7972 - val_loss: 0.7660 - val_accuracy: 0.7744\n",
      "Epoch 66/150\n",
      "56/56 [==============================] - 1s 11ms/step - loss: 0.6809 - accuracy: 0.8000 - val_loss: 0.7665 - val_accuracy: 0.7639\n",
      "Epoch 67/150\n",
      "56/56 [==============================] - 1s 11ms/step - loss: 0.6803 - accuracy: 0.7989 - val_loss: 0.7706 - val_accuracy: 0.7639\n",
      "Epoch 68/150\n",
      "56/56 [==============================] - 1s 12ms/step - loss: 0.6677 - accuracy: 0.8087 - val_loss: 0.7555 - val_accuracy: 0.7639\n",
      "Epoch 69/150\n",
      "56/56 [==============================] - 1s 11ms/step - loss: 0.6665 - accuracy: 0.8048 - val_loss: 0.7756 - val_accuracy: 0.7731\n",
      "Epoch 70/150\n",
      "56/56 [==============================] - 1s 11ms/step - loss: 0.6644 - accuracy: 0.8056 - val_loss: 0.7946 - val_accuracy: 0.7639\n",
      "Epoch 71/150\n",
      "56/56 [==============================] - 1s 11ms/step - loss: 0.6635 - accuracy: 0.8014 - val_loss: 0.7612 - val_accuracy: 0.7672\n",
      "Epoch 72/150\n",
      "56/56 [==============================] - 1s 11ms/step - loss: 0.6718 - accuracy: 0.8025 - val_loss: 0.7569 - val_accuracy: 0.7698\n",
      "Epoch 73/150\n",
      "56/56 [==============================] - 1s 12ms/step - loss: 0.6551 - accuracy: 0.8104 - val_loss: 0.7741 - val_accuracy: 0.7679\n",
      "Epoch 74/150\n",
      "56/56 [==============================] - 1s 11ms/step - loss: 0.6634 - accuracy: 0.8045 - val_loss: 0.8151 - val_accuracy: 0.7534\n",
      "Epoch 75/150\n",
      "56/56 [==============================] - 1s 11ms/step - loss: 0.6662 - accuracy: 0.8054 - val_loss: 0.7623 - val_accuracy: 0.7738\n",
      "Epoch 76/150\n",
      "56/56 [==============================] - 1s 11ms/step - loss: 0.6546 - accuracy: 0.8090 - val_loss: 0.7881 - val_accuracy: 0.7495\n",
      "Epoch 77/150\n",
      "56/56 [==============================] - 1s 11ms/step - loss: 0.6566 - accuracy: 0.8068 - val_loss: 0.7694 - val_accuracy: 0.7679\n",
      "Epoch 78/150\n",
      "56/56 [==============================] - 1s 11ms/step - loss: 0.6498 - accuracy: 0.8118 - val_loss: 0.7945 - val_accuracy: 0.7652\n",
      "Epoch 79/150\n",
      "56/56 [==============================] - 1s 12ms/step - loss: 0.6544 - accuracy: 0.8141 - val_loss: 0.7590 - val_accuracy: 0.7790\n",
      "Epoch 80/150\n",
      "56/56 [==============================] - 1s 12ms/step - loss: 0.6452 - accuracy: 0.8104 - val_loss: 0.7806 - val_accuracy: 0.7646\n",
      "Epoch 81/150\n",
      "56/56 [==============================] - 1s 11ms/step - loss: 0.6585 - accuracy: 0.8070 - val_loss: 0.7659 - val_accuracy: 0.7803\n",
      "Epoch 82/150\n",
      "56/56 [==============================] - 1s 11ms/step - loss: 0.6479 - accuracy: 0.8070 - val_loss: 0.7828 - val_accuracy: 0.7633\n",
      "Epoch 83/150\n",
      "56/56 [==============================] - 1s 12ms/step - loss: 0.6479 - accuracy: 0.8082 - val_loss: 0.7571 - val_accuracy: 0.7797\n",
      "Epoch 84/150\n",
      "56/56 [==============================] - 1s 11ms/step - loss: 0.6440 - accuracy: 0.8121 - val_loss: 0.7553 - val_accuracy: 0.7764\n",
      "Epoch 85/150\n",
      "56/56 [==============================] - 1s 11ms/step - loss: 0.6335 - accuracy: 0.8146 - val_loss: 0.7700 - val_accuracy: 0.7744\n",
      "Epoch 86/150\n",
      "56/56 [==============================] - 1s 11ms/step - loss: 0.6386 - accuracy: 0.8138 - val_loss: 0.7628 - val_accuracy: 0.7862\n",
      "Epoch 87/150\n",
      "56/56 [==============================] - 1s 12ms/step - loss: 0.6266 - accuracy: 0.8166 - val_loss: 0.7567 - val_accuracy: 0.7731\n",
      "Epoch 88/150\n",
      "56/56 [==============================] - 1s 12ms/step - loss: 0.6283 - accuracy: 0.8144 - val_loss: 0.7551 - val_accuracy: 0.7679\n",
      "Epoch 89/150\n",
      "56/56 [==============================] - 1s 11ms/step - loss: 0.6296 - accuracy: 0.8217 - val_loss: 0.7600 - val_accuracy: 0.7731\n",
      "Epoch 90/150\n",
      "56/56 [==============================] - 1s 11ms/step - loss: 0.6326 - accuracy: 0.8144 - val_loss: 0.7856 - val_accuracy: 0.7738\n",
      "Epoch 91/150\n",
      "56/56 [==============================] - 1s 12ms/step - loss: 0.6425 - accuracy: 0.8110 - val_loss: 0.7530 - val_accuracy: 0.7784\n",
      "Epoch 92/150\n",
      "56/56 [==============================] - 1s 11ms/step - loss: 0.6457 - accuracy: 0.8059 - val_loss: 0.7808 - val_accuracy: 0.7744\n",
      "Epoch 93/150\n",
      "56/56 [==============================] - 1s 11ms/step - loss: 0.6243 - accuracy: 0.8242 - val_loss: 0.7476 - val_accuracy: 0.7744\n",
      "Epoch 94/150\n",
      "56/56 [==============================] - 1s 11ms/step - loss: 0.6242 - accuracy: 0.8189 - val_loss: 0.7626 - val_accuracy: 0.7757\n",
      "Epoch 95/150\n",
      "56/56 [==============================] - 1s 11ms/step - loss: 0.6221 - accuracy: 0.8208 - val_loss: 0.7577 - val_accuracy: 0.7777\n",
      "Epoch 96/150\n",
      "56/56 [==============================] - 1s 12ms/step - loss: 0.6291 - accuracy: 0.8155 - val_loss: 0.7465 - val_accuracy: 0.7803\n",
      "Epoch 97/150\n",
      "56/56 [==============================] - 1s 11ms/step - loss: 0.6133 - accuracy: 0.8251 - val_loss: 0.7612 - val_accuracy: 0.7718\n",
      "Epoch 98/150\n",
      "56/56 [==============================] - 1s 11ms/step - loss: 0.6264 - accuracy: 0.8192 - val_loss: 0.7515 - val_accuracy: 0.7823\n",
      "Epoch 99/150\n",
      "56/56 [==============================] - 1s 12ms/step - loss: 0.6130 - accuracy: 0.8251 - val_loss: 0.7654 - val_accuracy: 0.7770\n",
      "Epoch 100/150\n",
      "56/56 [==============================] - 1s 12ms/step - loss: 0.6187 - accuracy: 0.8211 - val_loss: 0.7705 - val_accuracy: 0.7672\n",
      "Epoch 101/150\n",
      "56/56 [==============================] - 1s 12ms/step - loss: 0.6075 - accuracy: 0.8234 - val_loss: 0.7656 - val_accuracy: 0.7711\n",
      "Epoch 102/150\n",
      "56/56 [==============================] - 1s 12ms/step - loss: 0.6270 - accuracy: 0.8208 - val_loss: 0.7573 - val_accuracy: 0.7770\n",
      "Epoch 103/150\n",
      "56/56 [==============================] - 1s 12ms/step - loss: 0.6210 - accuracy: 0.8228 - val_loss: 0.7839 - val_accuracy: 0.7679\n",
      "Epoch 104/150\n",
      "56/56 [==============================] - 1s 13ms/step - loss: 0.6173 - accuracy: 0.8194 - val_loss: 0.7580 - val_accuracy: 0.7777\n",
      "Epoch 105/150\n",
      "56/56 [==============================] - 1s 11ms/step - loss: 0.6242 - accuracy: 0.8130 - val_loss: 0.7631 - val_accuracy: 0.7810\n",
      "Epoch 106/150\n",
      "56/56 [==============================] - 1s 12ms/step - loss: 0.6157 - accuracy: 0.8220 - val_loss: 0.7652 - val_accuracy: 0.7744\n",
      "Epoch 107/150\n",
      "56/56 [==============================] - 1s 12ms/step - loss: 0.6053 - accuracy: 0.8220 - val_loss: 0.7768 - val_accuracy: 0.7711\n",
      "Epoch 108/150\n",
      "56/56 [==============================] - 1s 11ms/step - loss: 0.6067 - accuracy: 0.8299 - val_loss: 0.7835 - val_accuracy: 0.7711\n",
      "Epoch 109/150\n",
      "56/56 [==============================] - 1s 12ms/step - loss: 0.6024 - accuracy: 0.8214 - val_loss: 0.7715 - val_accuracy: 0.7744\n",
      "Epoch 110/150\n",
      "56/56 [==============================] - 1s 11ms/step - loss: 0.6099 - accuracy: 0.8293 - val_loss: 0.7624 - val_accuracy: 0.7790\n",
      "Epoch 111/150\n",
      "56/56 [==============================] - 1s 11ms/step - loss: 0.6096 - accuracy: 0.8220 - val_loss: 0.7681 - val_accuracy: 0.7797\n",
      "Epoch 112/150\n",
      "56/56 [==============================] - 1s 12ms/step - loss: 0.6189 - accuracy: 0.8225 - val_loss: 0.7748 - val_accuracy: 0.7679\n",
      "Epoch 113/150\n",
      "56/56 [==============================] - 1s 11ms/step - loss: 0.5975 - accuracy: 0.8282 - val_loss: 0.7476 - val_accuracy: 0.7889\n",
      "Epoch 114/150\n",
      "56/56 [==============================] - 1s 11ms/step - loss: 0.5936 - accuracy: 0.8237 - val_loss: 0.7456 - val_accuracy: 0.7843\n",
      "Epoch 115/150\n",
      "56/56 [==============================] - 1s 11ms/step - loss: 0.6093 - accuracy: 0.8177 - val_loss: 0.7599 - val_accuracy: 0.7889\n",
      "Epoch 116/150\n",
      "56/56 [==============================] - 1s 11ms/step - loss: 0.5951 - accuracy: 0.8313 - val_loss: 0.7468 - val_accuracy: 0.7928\n",
      "Epoch 117/150\n",
      "56/56 [==============================] - 1s 12ms/step - loss: 0.5907 - accuracy: 0.8349 - val_loss: 0.7562 - val_accuracy: 0.7790\n",
      "Epoch 118/150\n",
      "56/56 [==============================] - 1s 11ms/step - loss: 0.6057 - accuracy: 0.8285 - val_loss: 0.7565 - val_accuracy: 0.7777\n",
      "Epoch 119/150\n",
      "56/56 [==============================] - 1s 11ms/step - loss: 0.5992 - accuracy: 0.8285 - val_loss: 0.7815 - val_accuracy: 0.7725\n",
      "Epoch 120/150\n",
      "56/56 [==============================] - 1s 12ms/step - loss: 0.5981 - accuracy: 0.8194 - val_loss: 0.7707 - val_accuracy: 0.7770\n",
      "Epoch 121/150\n",
      "56/56 [==============================] - 1s 11ms/step - loss: 0.6043 - accuracy: 0.8313 - val_loss: 0.7507 - val_accuracy: 0.7889\n",
      "Epoch 122/150\n",
      "56/56 [==============================] - 1s 12ms/step - loss: 0.5917 - accuracy: 0.8327 - val_loss: 0.7592 - val_accuracy: 0.7830\n",
      "Epoch 123/150\n",
      "56/56 [==============================] - 1s 11ms/step - loss: 0.5844 - accuracy: 0.8330 - val_loss: 0.7591 - val_accuracy: 0.7882\n",
      "Epoch 124/150\n",
      "56/56 [==============================] - 1s 12ms/step - loss: 0.5904 - accuracy: 0.8290 - val_loss: 0.7612 - val_accuracy: 0.7849\n",
      "Epoch 125/150\n",
      "56/56 [==============================] - 1s 12ms/step - loss: 0.5859 - accuracy: 0.8363 - val_loss: 0.8015 - val_accuracy: 0.7626\n",
      "Epoch 126/150\n",
      "56/56 [==============================] - 1s 11ms/step - loss: 0.5957 - accuracy: 0.8318 - val_loss: 0.7657 - val_accuracy: 0.7830\n",
      "Epoch 127/150\n",
      "56/56 [==============================] - 1s 12ms/step - loss: 0.5925 - accuracy: 0.8315 - val_loss: 0.7627 - val_accuracy: 0.7790\n",
      "Epoch 128/150\n",
      "56/56 [==============================] - 1s 12ms/step - loss: 0.5849 - accuracy: 0.8276 - val_loss: 0.8204 - val_accuracy: 0.7679\n",
      "Epoch 129/150\n",
      "56/56 [==============================] - 1s 11ms/step - loss: 0.5740 - accuracy: 0.8318 - val_loss: 0.7520 - val_accuracy: 0.7869\n",
      "Epoch 130/150\n",
      "56/56 [==============================] - 1s 12ms/step - loss: 0.5754 - accuracy: 0.8383 - val_loss: 0.7717 - val_accuracy: 0.7836\n",
      "Epoch 131/150\n",
      "56/56 [==============================] - 1s 11ms/step - loss: 0.5859 - accuracy: 0.8310 - val_loss: 0.7582 - val_accuracy: 0.7908\n",
      "Epoch 132/150\n",
      "56/56 [==============================] - 1s 13ms/step - loss: 0.5809 - accuracy: 0.8355 - val_loss: 0.7599 - val_accuracy: 0.7810\n",
      "Epoch 133/150\n",
      "56/56 [==============================] - 1s 11ms/step - loss: 0.5913 - accuracy: 0.8304 - val_loss: 0.8123 - val_accuracy: 0.7738\n",
      "Epoch 134/150\n",
      "56/56 [==============================] - 1s 11ms/step - loss: 0.5750 - accuracy: 0.8375 - val_loss: 0.7638 - val_accuracy: 0.7816\n",
      "Epoch 135/150\n",
      "56/56 [==============================] - 1s 12ms/step - loss: 0.5837 - accuracy: 0.8355 - val_loss: 0.7703 - val_accuracy: 0.7731\n",
      "Epoch 136/150\n",
      "56/56 [==============================] - 1s 11ms/step - loss: 0.5896 - accuracy: 0.8369 - val_loss: 0.7499 - val_accuracy: 0.7823\n",
      "Epoch 137/150\n",
      "56/56 [==============================] - 1s 11ms/step - loss: 0.5820 - accuracy: 0.8420 - val_loss: 0.7457 - val_accuracy: 0.7908\n",
      "Epoch 138/150\n",
      "56/56 [==============================] - 1s 12ms/step - loss: 0.5681 - accuracy: 0.8383 - val_loss: 0.7729 - val_accuracy: 0.7823\n",
      "Epoch 139/150\n",
      "56/56 [==============================] - 1s 12ms/step - loss: 0.5744 - accuracy: 0.8423 - val_loss: 0.7464 - val_accuracy: 0.7830\n",
      "Epoch 140/150\n",
      "56/56 [==============================] - 1s 12ms/step - loss: 0.5732 - accuracy: 0.8363 - val_loss: 0.7840 - val_accuracy: 0.7810\n",
      "Epoch 141/150\n",
      "56/56 [==============================] - 1s 12ms/step - loss: 0.5675 - accuracy: 0.8397 - val_loss: 0.7752 - val_accuracy: 0.7816\n",
      "Epoch 142/150\n",
      "56/56 [==============================] - 1s 11ms/step - loss: 0.5648 - accuracy: 0.8335 - val_loss: 0.7581 - val_accuracy: 0.7908\n",
      "Epoch 143/150\n",
      "56/56 [==============================] - 1s 12ms/step - loss: 0.5682 - accuracy: 0.8414 - val_loss: 0.7546 - val_accuracy: 0.7849\n",
      "Epoch 144/150\n",
      "56/56 [==============================] - 1s 11ms/step - loss: 0.5827 - accuracy: 0.8363 - val_loss: 0.7666 - val_accuracy: 0.7816\n",
      "Epoch 145/150\n",
      "56/56 [==============================] - 1s 12ms/step - loss: 0.5783 - accuracy: 0.8369 - val_loss: 0.7642 - val_accuracy: 0.7843\n",
      "Epoch 146/150\n",
      "56/56 [==============================] - 1s 11ms/step - loss: 0.5729 - accuracy: 0.8352 - val_loss: 0.7624 - val_accuracy: 0.7790\n",
      "Epoch 147/150\n",
      "56/56 [==============================] - 1s 12ms/step - loss: 0.5613 - accuracy: 0.8456 - val_loss: 0.7508 - val_accuracy: 0.7856\n",
      "Epoch 148/150\n",
      "56/56 [==============================] - 1s 13ms/step - loss: 0.5724 - accuracy: 0.8437 - val_loss: 0.7781 - val_accuracy: 0.7679\n",
      "Epoch 149/150\n",
      "56/56 [==============================] - 1s 11ms/step - loss: 0.5816 - accuracy: 0.8394 - val_loss: 0.7759 - val_accuracy: 0.7797\n",
      "Epoch 150/150\n",
      "56/56 [==============================] - 1s 12ms/step - loss: 0.5671 - accuracy: 0.8392 - val_loss: 0.7459 - val_accuracy: 0.7908\n"
     ]
    }
   ],
   "source": [
    "epochs=150\n",
    "history = model.fit(\n",
    "  train,\n",
    "  validation_data=test,\n",
    "  epochs=epochs\n",
    ")"
   ]
  },
  {
   "cell_type": "code",
   "execution_count": 8,
   "metadata": {},
   "outputs": [
    {
     "data": {
      "image/png": "[encoded data removed]",
      "text/plain": [
       "<Figure size 576x576 with 2 Axes>"
      ]
     },
     "metadata": {
      "needs_background": "light"
     },
     "output_type": "display_data"
    }
   ],
   "source": [
    "acc = history.history['accuracy']\n",
    "val_acc = history.history['val_accuracy']\n",
    "\n",
    "loss = history.history['loss']\n",
    "val_loss = history.history['val_loss']\n",
    "\n",
    "epochs_range = range(epochs)\n",
    "\n",
    "plt.figure(figsize=(8, 8))\n",
    "plt.subplot(1, 2, 1)\n",
    "plt.plot(epochs_range, acc, label='Training Accuracy')\n",
    "plt.plot(epochs_range, val_acc, label='Validation Accuracy')\n",
    "plt.legend(loc='lower right')\n",
    "plt.title('Training and Validation Accuracy')\n",
    "\n",
    "plt.subplot(1, 2, 2)\n",
    "plt.plot(epochs_range, loss, label='Training Loss')\n",
    "plt.plot(epochs_range, val_loss, label='Validation Loss')\n",
    "plt.legend(loc='upper right')\n",
    "plt.title('Training and Validation Loss')\n",
    "plt.show()"
   ]
  },
  {
   "cell_type": "code",
   "execution_count": 9,
   "metadata": {},
   "outputs": [
    {
     "name": "stdout",
     "output_type": "stream",
     "text": [
      "24/24 [==============================] - 0s 8ms/step - loss: 0.7459 - accuracy: 0.7908\n",
      "Test accuracy : 0.7908196449279785\n"
     ]
    }
   ],
   "source": [
    "loss, accuracy = model.evaluate(test)\n",
    "print('Test accuracy :', accuracy)"
   ]
  },
  {
   "cell_type": "code",
   "execution_count": 10,
   "metadata": {},
   "outputs": [],
   "source": [
    "# Save the entire model as a SavedModel.\n",
    "# model.save('./data/humanModel/mode_v0')\n",
    "model.save('./data/'+map_dir+'/humanModel_v0.h5')"
   ]
  },
  {
   "cell_type": "code",
   "execution_count": 11,
   "metadata": {},
   "outputs": [],
   "source": [
    "# save model in js format\n",
    "# import tensorflowjs as tfjs\n",
    "# tfjs.converters.save_keras_model(model, 'data/humanModel/js_model_v0')"
   ]
  },
  {
   "cell_type": "code",
   "execution_count": 12,
   "metadata": {},
   "outputs": [],
   "source": [
    "# new_model = tf.keras.models.load_model('./data/humanModel/mode_v0')\n",
    "\n",
    "# # Check its architecture\n",
    "# new_model.summary()"
   ]
  },
  {
   "cell_type": "markdown",
   "metadata": {},
   "source": [
    "### Predict on new data"
   ]
  },
  {
   "cell_type": "code",
   "execution_count": 14,
   "metadata": {},
   "outputs": [
    {
     "name": "stdout",
     "output_type": "stream",
     "text": [
      "This image most likely belongs to 1 with a 40.46 percent confidence.\n"
     ]
    }
   ],
   "source": [
    "sunflower_path = \"./data/humanModel/imagesDatabase_split/val/37/-MqplyKpCgPw_1mVmnvp_11.png\"\n",
    "\n",
    "img = keras.preprocessing.image.load_img(\n",
    "    sunflower_path, target_size=(IMG_SIZE, IMG_SIZE)\n",
    ")\n",
    "img_array = keras.preprocessing.image.img_to_array(img)\n",
    "img_array = tf.expand_dims(img_array, 0) # Create a batch\n",
    "\n",
    "predictions = model.predict(img_array)\n",
    "score = tf.nn.softmax(predictions[0])\n",
    "print(\n",
    "    \"This image most likely belongs to {} with a {:.2f} percent confidence.\"\n",
    "    .format(np.argmax(score), 100 * np.max(score))\n",
    ")"
   ]
  }
 ],
 "metadata": {
  "interpreter": {
   "hash": "ad60775ae12af945b53c5c94c294ef05f229143b8585a0d23625a81e181fdccc"
  },
  "kernelspec": {
   "display_name": "Python 3.7.4 64-bit ('tf-gpu': conda)",
   "name": "python3"
  },
  "language_info": {
   "codemirror_mode": {
    "name": "ipython",
    "version": 3
   },
   "file_extension": ".py",
   "mimetype": "text/x-python",
   "name": "python",
   "nbconvert_exporter": "python",
   "pygments_lexer": "ipython3",
   "version": "3.7.4"
  }
 },
 "nbformat": 4,
 "nbformat_minor": 4
}
