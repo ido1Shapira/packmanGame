{
 "cells": [
  {
   "cell_type": "code",
   "execution_count": 1,
   "metadata": {},
   "outputs": [],
   "source": [
    "import numpy as np\n",
    "import random\n",
    "import os\n",
    "import shutil\n",
    "\n",
    "# ! pip install split-folders\n",
    "import splitfolders\n",
    "\n",
    "import tensorflow as tf\n",
    "from tensorflow import keras\n",
    "from tensorflow.keras import layers, regularizers\n",
    "from tensorflow.keras.models import Sequential\n",
    "\n",
    "from tensorflow.keras.preprocessing.image import ImageDataGenerator\n",
    "from tensorflow.keras.preprocessing import image\n",
    "\n",
    "import matplotlib.pyplot as plt\n",
    "\n",
    "rs = 42\n",
    "def reset_random_seeds(rs):\n",
    "   os.environ['PYTHONHASHSEED']=str(rs)\n",
    "   tf.random.set_seed(rs)\n",
    "   np.random.seed(rs)\n",
    "   random.seed(rs)\n",
    "reset_random_seeds(rs)\n",
    "\n",
    "map_dir = 'map 2'"
   ]
  },
  {
   "cell_type": "markdown",
   "metadata": {},
   "source": [
    "remove prev saved database:"
   ]
  },
  {
   "cell_type": "code",
   "execution_count": 2,
   "metadata": {},
   "outputs": [],
   "source": [
    "dir_path = './data/humanModel_dataset_split'\n",
    "if os.path.exists(dir_path):\n",
    "    shutil.rmtree(dir_path)\n",
    "else:\n",
    "    print(\"File not found in the directory\")"
   ]
  },
  {
   "cell_type": "markdown",
   "metadata": {},
   "source": [
    "# Part 1 - Data Preprocessing"
   ]
  },
  {
   "cell_type": "markdown",
   "metadata": {},
   "source": [
    "## Split into train , test data"
   ]
  },
  {
   "cell_type": "code",
   "execution_count": 3,
   "metadata": {},
   "outputs": [
    {
     "name": "stderr",
     "output_type": "stream",
     "text": [
      "Copying files: 5075 files [00:00, 17140.31 files/s]\n"
     ]
    }
   ],
   "source": [
    "# train, test split\n",
    "splitfolders.ratio('./data/humanModel_dataset/', output=\"./data/humanModel_dataset_split\", ratio=(0.7, 0.3))"
   ]
  },
  {
   "cell_type": "markdown",
   "metadata": {},
   "source": [
    "### Preprocessing the Training set"
   ]
  },
  {
   "cell_type": "code",
   "execution_count": 4,
   "metadata": {},
   "outputs": [
    {
     "name": "stdout",
     "output_type": "stream",
     "text": [
      "Found 3550 images belonging to 5 classes.\n",
      "Found 1525 images belonging to 5 classes.\n"
     ]
    }
   ],
   "source": [
    "batch_size = 64\n",
    "IMG_SIZE = 10\n",
    "\n",
    "datagen = ImageDataGenerator(rescale = 1./255)\n",
    "train = datagen.flow_from_directory('./data/humanModel_dataset_split/train',\n",
    "                                          target_size = (IMG_SIZE,IMG_SIZE), batch_size = batch_size, seed=rs, class_mode='sparse')\n",
    "\n",
    "test = datagen.flow_from_directory('./data/humanModel_dataset_split/val',\n",
    "                                            target_size = (IMG_SIZE, IMG_SIZE), batch_size = batch_size, seed=rs, class_mode='sparse')"
   ]
  },
  {
   "cell_type": "markdown",
   "metadata": {},
   "source": [
    "## View some data"
   ]
  },
  {
   "cell_type": "code",
   "execution_count": 5,
   "metadata": {},
   "outputs": [
    {
     "name": "stderr",
     "output_type": "stream",
     "text": [
      "2021-12-16 16:17:10.991959: I tensorflow/stream_executor/cuda/cuda_gpu_executor.cc:937] successful NUMA node read from SysFS had negative value (-1), but there must be at least one NUMA node, so returning NUMA node zero\n",
      "2021-12-16 16:17:10.998264: I tensorflow/stream_executor/cuda/cuda_gpu_executor.cc:937] successful NUMA node read from SysFS had negative value (-1), but there must be at least one NUMA node, so returning NUMA node zero\n",
      "2021-12-16 16:17:10.998713: I tensorflow/stream_executor/cuda/cuda_gpu_executor.cc:937] successful NUMA node read from SysFS had negative value (-1), but there must be at least one NUMA node, so returning NUMA node zero\n",
      "2021-12-16 16:17:11.000101: I tensorflow/core/platform/cpu_feature_guard.cc:142] This TensorFlow binary is optimized with oneAPI Deep Neural Network Library (oneDNN) to use the following CPU instructions in performance-critical operations:  AVX2 FMA\n",
      "To enable them in other operations, rebuild TensorFlow with the appropriate compiler flags.\n",
      "2021-12-16 16:17:11.000744: I tensorflow/stream_executor/cuda/cuda_gpu_executor.cc:937] successful NUMA node read from SysFS had negative value (-1), but there must be at least one NUMA node, so returning NUMA node zero\n",
      "2021-12-16 16:17:11.001144: I tensorflow/stream_executor/cuda/cuda_gpu_executor.cc:937] successful NUMA node read from SysFS had negative value (-1), but there must be at least one NUMA node, so returning NUMA node zero\n",
      "2021-12-16 16:17:11.001527: I tensorflow/stream_executor/cuda/cuda_gpu_executor.cc:937] successful NUMA node read from SysFS had negative value (-1), but there must be at least one NUMA node, so returning NUMA node zero\n",
      "2021-12-16 16:17:11.288561: I tensorflow/stream_executor/cuda/cuda_gpu_executor.cc:937] successful NUMA node read from SysFS had negative value (-1), but there must be at least one NUMA node, so returning NUMA node zero\n",
      "2021-12-16 16:17:11.288928: I tensorflow/stream_executor/cuda/cuda_gpu_executor.cc:937] successful NUMA node read from SysFS had negative value (-1), but there must be at least one NUMA node, so returning NUMA node zero\n",
      "2021-12-16 16:17:11.289220: I tensorflow/stream_executor/cuda/cuda_gpu_executor.cc:937] successful NUMA node read from SysFS had negative value (-1), but there must be at least one NUMA node, so returning NUMA node zero\n",
      "2021-12-16 16:17:11.289481: I tensorflow/core/common_runtime/gpu/gpu_device.cc:1510] Created device /job:localhost/replica:0/task:0/device:GPU:0 with 11240 MB memory:  -> device: 0, name: NVIDIA TITAN X (Pascal), pci bus id: 0000:01:00.0, compute capability: 6.1\n"
     ]
    }
   ],
   "source": [
    "num_classes = 5\n",
    "\n",
    "model = Sequential([\n",
    "  layers.Conv2D(8, 4, padding='same', activation='relu', kernel_regularizer=regularizers.l2(0.001), input_shape=[IMG_SIZE,IMG_SIZE,3]),\n",
    "  layers.Conv2D(16, 4, padding='same', activation='relu', kernel_regularizer=regularizers.l2(0.001)),\n",
    "  layers.Conv2D(16, 3, padding='same', activation='relu', kernel_regularizer=regularizers.l2(0.001)),\n",
    "  layers.MaxPooling2D(),\n",
    "  layers.Conv2D(8, 3, padding='same', activation='relu', kernel_regularizer=regularizers.l2(0.001)),\n",
    "  layers.Dropout(0.5),\n",
    "  layers.Flatten(),\n",
    "  layers.Dense(32, activation='relu', kernel_regularizer=regularizers.l2(0.001)),\n",
    "  layers.Dense(num_classes, activation='softmax')\n",
    "])"
   ]
  },
  {
   "cell_type": "code",
   "execution_count": 6,
   "metadata": {},
   "outputs": [],
   "source": [
    "model.compile(optimizer='adam',\n",
    "              loss=tf.keras.losses.SparseCategoricalCrossentropy(from_logits=True),\n",
    "              metrics=['accuracy'])"
   ]
  },
  {
   "cell_type": "code",
   "execution_count": 7,
   "metadata": {},
   "outputs": [
    {
     "name": "stdout",
     "output_type": "stream",
     "text": [
      "Model: \"sequential\"\n",
      "_________________________________________________________________\n",
      "Layer (type)                 Output Shape              Param #   \n",
      "=================================================================\n",
      "conv2d (Conv2D)              (None, 10, 10, 8)         392       \n",
      "_________________________________________________________________\n",
      "conv2d_1 (Conv2D)            (None, 10, 10, 16)        2064      \n",
      "_________________________________________________________________\n",
      "conv2d_2 (Conv2D)            (None, 10, 10, 16)        2320      \n",
      "_________________________________________________________________\n",
      "max_pooling2d (MaxPooling2D) (None, 5, 5, 16)          0         \n",
      "_________________________________________________________________\n",
      "conv2d_3 (Conv2D)            (None, 5, 5, 8)           1160      \n",
      "_________________________________________________________________\n",
      "dropout (Dropout)            (None, 5, 5, 8)           0         \n",
      "_________________________________________________________________\n",
      "flatten (Flatten)            (None, 200)               0         \n",
      "_________________________________________________________________\n",
      "dense (Dense)                (None, 32)                6432      \n",
      "_________________________________________________________________\n",
      "dense_1 (Dense)              (None, 5)                 165       \n",
      "=================================================================\n",
      "Total params: 12,533\n",
      "Trainable params: 12,533\n",
      "Non-trainable params: 0\n",
      "_________________________________________________________________\n"
     ]
    }
   ],
   "source": [
    "model.summary()"
   ]
  },
  {
   "cell_type": "code",
   "execution_count": 8,
   "metadata": {
    "scrolled": true
   },
   "outputs": [
    {
     "name": "stderr",
     "output_type": "stream",
     "text": [
      "2021-12-16 16:17:11.662071: I tensorflow/compiler/mlir/mlir_graph_optimization_pass.cc:185] None of the MLIR Optimization Passes are enabled (registered 2)\n",
      "/home/ido/anaconda3/envs/tf-gpu/lib/python3.7/site-packages/keras/backend.py:4907: UserWarning: \"`sparse_categorical_crossentropy` received `from_logits=True`, but the `output` argument was produced by a sigmoid or softmax activation and thus does not represent logits. Was this intended?\"\n",
      "  '\"`sparse_categorical_crossentropy` received `from_logits=True`, but '\n"
     ]
    },
    {
     "name": "stdout",
     "output_type": "stream",
     "text": [
      "Epoch 1/150\n"
     ]
    },
    {
     "name": "stderr",
     "output_type": "stream",
     "text": [
      "2021-12-16 16:17:12.304422: I tensorflow/stream_executor/cuda/cuda_dnn.cc:369] Loaded cuDNN version 8300\n"
     ]
    },
    {
     "name": "stdout",
     "output_type": "stream",
     "text": [
      "56/56 [==============================] - 2s 16ms/step - loss: 1.6468 - accuracy: 0.2983 - val_loss: 1.5542 - val_accuracy: 0.4033\n",
      "Epoch 2/150\n",
      "56/56 [==============================] - 1s 12ms/step - loss: 1.4319 - accuracy: 0.4206 - val_loss: 1.2803 - val_accuracy: 0.5377\n",
      "Epoch 3/150\n",
      "56/56 [==============================] - 1s 12ms/step - loss: 1.2206 - accuracy: 0.5620 - val_loss: 1.1242 - val_accuracy: 0.6138\n",
      "Epoch 4/150\n",
      "56/56 [==============================] - 1s 12ms/step - loss: 1.1274 - accuracy: 0.5966 - val_loss: 1.0719 - val_accuracy: 0.6144\n",
      "Epoch 5/150\n",
      "56/56 [==============================] - 1s 12ms/step - loss: 1.0614 - accuracy: 0.6349 - val_loss: 1.0446 - val_accuracy: 0.6511\n",
      "Epoch 6/150\n",
      "56/56 [==============================] - 1s 12ms/step - loss: 1.0508 - accuracy: 0.6301 - val_loss: 1.0241 - val_accuracy: 0.6498\n",
      "Epoch 7/150\n",
      "56/56 [==============================] - 1s 12ms/step - loss: 1.0092 - accuracy: 0.6521 - val_loss: 0.9867 - val_accuracy: 0.6557\n",
      "Epoch 8/150\n",
      "56/56 [==============================] - 1s 11ms/step - loss: 0.9720 - accuracy: 0.6682 - val_loss: 0.9720 - val_accuracy: 0.6669\n",
      "Epoch 9/150\n",
      "56/56 [==============================] - 1s 11ms/step - loss: 0.9738 - accuracy: 0.6665 - val_loss: 0.9583 - val_accuracy: 0.6767\n",
      "Epoch 10/150\n",
      "56/56 [==============================] - 1s 11ms/step - loss: 0.9542 - accuracy: 0.6704 - val_loss: 0.9358 - val_accuracy: 0.6748\n",
      "Epoch 11/150\n",
      "56/56 [==============================] - 1s 11ms/step - loss: 0.9364 - accuracy: 0.6786 - val_loss: 0.9384 - val_accuracy: 0.6780\n",
      "Epoch 12/150\n",
      "56/56 [==============================] - 1s 11ms/step - loss: 0.9192 - accuracy: 0.6913 - val_loss: 0.9164 - val_accuracy: 0.6911\n",
      "Epoch 13/150\n",
      "56/56 [==============================] - 1s 11ms/step - loss: 0.9044 - accuracy: 0.7025 - val_loss: 0.8992 - val_accuracy: 0.6931\n",
      "Epoch 14/150\n",
      "56/56 [==============================] - 1s 12ms/step - loss: 0.8862 - accuracy: 0.7056 - val_loss: 0.9021 - val_accuracy: 0.6944\n",
      "Epoch 15/150\n",
      "56/56 [==============================] - 1s 11ms/step - loss: 0.8865 - accuracy: 0.7079 - val_loss: 0.8944 - val_accuracy: 0.6977\n",
      "Epoch 16/150\n",
      "56/56 [==============================] - 1s 11ms/step - loss: 0.8799 - accuracy: 0.7070 - val_loss: 0.8798 - val_accuracy: 0.7075\n",
      "Epoch 17/150\n",
      "56/56 [==============================] - 1s 12ms/step - loss: 0.8634 - accuracy: 0.7223 - val_loss: 0.8705 - val_accuracy: 0.7134\n",
      "Epoch 18/150\n",
      "56/56 [==============================] - 1s 11ms/step - loss: 0.8564 - accuracy: 0.7169 - val_loss: 0.8732 - val_accuracy: 0.7102\n",
      "Epoch 19/150\n",
      "56/56 [==============================] - 1s 11ms/step - loss: 0.8412 - accuracy: 0.7270 - val_loss: 0.8529 - val_accuracy: 0.7075\n",
      "Epoch 20/150\n",
      "56/56 [==============================] - 1s 11ms/step - loss: 0.8377 - accuracy: 0.7231 - val_loss: 0.8867 - val_accuracy: 0.7187\n",
      "Epoch 21/150\n",
      "56/56 [==============================] - 1s 11ms/step - loss: 0.8355 - accuracy: 0.7287 - val_loss: 0.8410 - val_accuracy: 0.7285\n",
      "Epoch 22/150\n",
      "56/56 [==============================] - 1s 11ms/step - loss: 0.8161 - accuracy: 0.7425 - val_loss: 0.8358 - val_accuracy: 0.7285\n",
      "Epoch 23/150\n",
      "56/56 [==============================] - 1s 12ms/step - loss: 0.8205 - accuracy: 0.7375 - val_loss: 0.8500 - val_accuracy: 0.7259\n",
      "Epoch 24/150\n",
      "56/56 [==============================] - 1s 11ms/step - loss: 0.7990 - accuracy: 0.7439 - val_loss: 0.8436 - val_accuracy: 0.7266\n",
      "Epoch 25/150\n",
      "56/56 [==============================] - 1s 11ms/step - loss: 0.8109 - accuracy: 0.7470 - val_loss: 0.8302 - val_accuracy: 0.7364\n",
      "Epoch 26/150\n",
      "56/56 [==============================] - 1s 11ms/step - loss: 0.8096 - accuracy: 0.7417 - val_loss: 0.8158 - val_accuracy: 0.7370\n",
      "Epoch 27/150\n",
      "56/56 [==============================] - 1s 12ms/step - loss: 0.7935 - accuracy: 0.7544 - val_loss: 0.8195 - val_accuracy: 0.7331\n",
      "Epoch 28/150\n",
      "56/56 [==============================] - 1s 11ms/step - loss: 0.7732 - accuracy: 0.7586 - val_loss: 0.8066 - val_accuracy: 0.7357\n",
      "Epoch 29/150\n",
      "56/56 [==============================] - 1s 11ms/step - loss: 0.7914 - accuracy: 0.7586 - val_loss: 0.8117 - val_accuracy: 0.7410\n",
      "Epoch 30/150\n",
      "56/56 [==============================] - 1s 11ms/step - loss: 0.7772 - accuracy: 0.7606 - val_loss: 0.8183 - val_accuracy: 0.7305\n",
      "Epoch 31/150\n",
      "56/56 [==============================] - 1s 12ms/step - loss: 0.7675 - accuracy: 0.7656 - val_loss: 0.8072 - val_accuracy: 0.7416\n",
      "Epoch 32/150\n",
      "56/56 [==============================] - 1s 11ms/step - loss: 0.7581 - accuracy: 0.7659 - val_loss: 0.8217 - val_accuracy: 0.7318\n",
      "Epoch 33/150\n",
      "56/56 [==============================] - 1s 11ms/step - loss: 0.7712 - accuracy: 0.7648 - val_loss: 0.8099 - val_accuracy: 0.7377\n",
      "Epoch 34/150\n",
      "56/56 [==============================] - 1s 11ms/step - loss: 0.7682 - accuracy: 0.7631 - val_loss: 0.8115 - val_accuracy: 0.7489\n",
      "Epoch 35/150\n",
      "56/56 [==============================] - 1s 12ms/step - loss: 0.7624 - accuracy: 0.7693 - val_loss: 0.8131 - val_accuracy: 0.7449\n",
      "Epoch 36/150\n",
      "56/56 [==============================] - 1s 11ms/step - loss: 0.7663 - accuracy: 0.7699 - val_loss: 0.7998 - val_accuracy: 0.7534\n",
      "Epoch 37/150\n",
      "56/56 [==============================] - 1s 11ms/step - loss: 0.7577 - accuracy: 0.7656 - val_loss: 0.8000 - val_accuracy: 0.7489\n",
      "Epoch 38/150\n",
      "56/56 [==============================] - 1s 12ms/step - loss: 0.7429 - accuracy: 0.7710 - val_loss: 0.7978 - val_accuracy: 0.7489\n",
      "Epoch 39/150\n",
      "56/56 [==============================] - 1s 12ms/step - loss: 0.7511 - accuracy: 0.7673 - val_loss: 0.7774 - val_accuracy: 0.7593\n",
      "Epoch 40/150\n",
      "56/56 [==============================] - 1s 12ms/step - loss: 0.7543 - accuracy: 0.7721 - val_loss: 0.8041 - val_accuracy: 0.7384\n",
      "Epoch 41/150\n",
      "56/56 [==============================] - 1s 12ms/step - loss: 0.7334 - accuracy: 0.7718 - val_loss: 0.7885 - val_accuracy: 0.7646\n",
      "Epoch 42/150\n",
      "56/56 [==============================] - 1s 11ms/step - loss: 0.7269 - accuracy: 0.7834 - val_loss: 0.7788 - val_accuracy: 0.7567\n",
      "Epoch 43/150\n",
      "56/56 [==============================] - 1s 12ms/step - loss: 0.7296 - accuracy: 0.7744 - val_loss: 0.7974 - val_accuracy: 0.7738\n",
      "Epoch 44/150\n",
      "56/56 [==============================] - 1s 12ms/step - loss: 0.7354 - accuracy: 0.7727 - val_loss: 0.8026 - val_accuracy: 0.7528\n",
      "Epoch 45/150\n",
      "56/56 [==============================] - 1s 12ms/step - loss: 0.7264 - accuracy: 0.7763 - val_loss: 0.7803 - val_accuracy: 0.7548\n",
      "Epoch 46/150\n",
      "56/56 [==============================] - 1s 12ms/step - loss: 0.7177 - accuracy: 0.7769 - val_loss: 0.8027 - val_accuracy: 0.7469\n",
      "Epoch 47/150\n",
      "56/56 [==============================] - 1s 12ms/step - loss: 0.7151 - accuracy: 0.7823 - val_loss: 0.7724 - val_accuracy: 0.7574\n",
      "Epoch 48/150\n",
      "56/56 [==============================] - 1s 12ms/step - loss: 0.7155 - accuracy: 0.7893 - val_loss: 0.7702 - val_accuracy: 0.7666\n",
      "Epoch 49/150\n",
      "56/56 [==============================] - 1s 12ms/step - loss: 0.7103 - accuracy: 0.7839 - val_loss: 0.7727 - val_accuracy: 0.7567\n",
      "Epoch 50/150\n",
      "56/56 [==============================] - 1s 12ms/step - loss: 0.7076 - accuracy: 0.7899 - val_loss: 0.7836 - val_accuracy: 0.7534\n",
      "Epoch 51/150\n",
      "56/56 [==============================] - 1s 12ms/step - loss: 0.6956 - accuracy: 0.7890 - val_loss: 0.7694 - val_accuracy: 0.7528\n",
      "Epoch 52/150\n",
      "56/56 [==============================] - 1s 12ms/step - loss: 0.7102 - accuracy: 0.7842 - val_loss: 0.7788 - val_accuracy: 0.7639\n",
      "Epoch 53/150\n",
      "56/56 [==============================] - 1s 12ms/step - loss: 0.6987 - accuracy: 0.7901 - val_loss: 0.7590 - val_accuracy: 0.7639\n",
      "Epoch 54/150\n",
      "56/56 [==============================] - 1s 12ms/step - loss: 0.7018 - accuracy: 0.7868 - val_loss: 0.7877 - val_accuracy: 0.7593\n",
      "Epoch 55/150\n",
      "56/56 [==============================] - 1s 12ms/step - loss: 0.6934 - accuracy: 0.7935 - val_loss: 0.7515 - val_accuracy: 0.7764\n",
      "Epoch 56/150\n",
      "56/56 [==============================] - 1s 12ms/step - loss: 0.7106 - accuracy: 0.7839 - val_loss: 0.7636 - val_accuracy: 0.7698\n",
      "Epoch 57/150\n",
      "56/56 [==============================] - 1s 12ms/step - loss: 0.6888 - accuracy: 0.7955 - val_loss: 0.7660 - val_accuracy: 0.7633\n",
      "Epoch 58/150\n",
      "56/56 [==============================] - 1s 12ms/step - loss: 0.6773 - accuracy: 0.7977 - val_loss: 0.8119 - val_accuracy: 0.7495\n",
      "Epoch 59/150\n",
      "56/56 [==============================] - 1s 12ms/step - loss: 0.6945 - accuracy: 0.7932 - val_loss: 0.7564 - val_accuracy: 0.7757\n",
      "Epoch 60/150\n",
      "56/56 [==============================] - 1s 12ms/step - loss: 0.6867 - accuracy: 0.7958 - val_loss: 0.7510 - val_accuracy: 0.7764\n",
      "Epoch 61/150\n",
      "56/56 [==============================] - 1s 13ms/step - loss: 0.6951 - accuracy: 0.7986 - val_loss: 0.7515 - val_accuracy: 0.7672\n",
      "Epoch 62/150\n",
      "56/56 [==============================] - 1s 12ms/step - loss: 0.6837 - accuracy: 0.7938 - val_loss: 0.7605 - val_accuracy: 0.7738\n",
      "Epoch 63/150\n",
      "56/56 [==============================] - 1s 11ms/step - loss: 0.6839 - accuracy: 0.8000 - val_loss: 0.7637 - val_accuracy: 0.7685\n",
      "Epoch 64/150\n",
      "56/56 [==============================] - 1s 12ms/step - loss: 0.6750 - accuracy: 0.8048 - val_loss: 0.7578 - val_accuracy: 0.7672\n",
      "Epoch 65/150\n",
      "56/56 [==============================] - 1s 11ms/step - loss: 0.6704 - accuracy: 0.7910 - val_loss: 0.7568 - val_accuracy: 0.7764\n",
      "Epoch 66/150\n",
      "56/56 [==============================] - 1s 12ms/step - loss: 0.6814 - accuracy: 0.8011 - val_loss: 0.7725 - val_accuracy: 0.7672\n",
      "Epoch 67/150\n",
      "56/56 [==============================] - 1s 12ms/step - loss: 0.6761 - accuracy: 0.7949 - val_loss: 0.7682 - val_accuracy: 0.7679\n",
      "Epoch 68/150\n",
      "56/56 [==============================] - 1s 11ms/step - loss: 0.6675 - accuracy: 0.8056 - val_loss: 0.7513 - val_accuracy: 0.7666\n",
      "Epoch 69/150\n",
      "56/56 [==============================] - 1s 12ms/step - loss: 0.6703 - accuracy: 0.8000 - val_loss: 0.7750 - val_accuracy: 0.7738\n",
      "Epoch 70/150\n",
      "56/56 [==============================] - 1s 12ms/step - loss: 0.6639 - accuracy: 0.8054 - val_loss: 0.7843 - val_accuracy: 0.7672\n",
      "Epoch 71/150\n",
      "56/56 [==============================] - 1s 12ms/step - loss: 0.6633 - accuracy: 0.8020 - val_loss: 0.7611 - val_accuracy: 0.7718\n",
      "Epoch 72/150\n",
      "56/56 [==============================] - 1s 12ms/step - loss: 0.6701 - accuracy: 0.7994 - val_loss: 0.7509 - val_accuracy: 0.7711\n",
      "Epoch 73/150\n",
      "56/56 [==============================] - 1s 11ms/step - loss: 0.6544 - accuracy: 0.8115 - val_loss: 0.7694 - val_accuracy: 0.7646\n",
      "Epoch 74/150\n",
      "56/56 [==============================] - 1s 12ms/step - loss: 0.6575 - accuracy: 0.8065 - val_loss: 0.8169 - val_accuracy: 0.7574\n",
      "Epoch 75/150\n",
      "56/56 [==============================] - 1s 12ms/step - loss: 0.6680 - accuracy: 0.8031 - val_loss: 0.7681 - val_accuracy: 0.7731\n",
      "Epoch 76/150\n",
      "56/56 [==============================] - 1s 12ms/step - loss: 0.6572 - accuracy: 0.8051 - val_loss: 0.7684 - val_accuracy: 0.7620\n",
      "Epoch 77/150\n",
      "56/56 [==============================] - 1s 12ms/step - loss: 0.6544 - accuracy: 0.8056 - val_loss: 0.7890 - val_accuracy: 0.7633\n",
      "Epoch 78/150\n",
      "56/56 [==============================] - 1s 12ms/step - loss: 0.6577 - accuracy: 0.8076 - val_loss: 0.7994 - val_accuracy: 0.7574\n",
      "Epoch 79/150\n",
      "56/56 [==============================] - 1s 12ms/step - loss: 0.6565 - accuracy: 0.8065 - val_loss: 0.7491 - val_accuracy: 0.7836\n",
      "Epoch 80/150\n",
      "56/56 [==============================] - 1s 12ms/step - loss: 0.6527 - accuracy: 0.8065 - val_loss: 0.7774 - val_accuracy: 0.7698\n",
      "Epoch 81/150\n",
      "56/56 [==============================] - 1s 11ms/step - loss: 0.6614 - accuracy: 0.8042 - val_loss: 0.7559 - val_accuracy: 0.7790\n",
      "Epoch 82/150\n",
      "56/56 [==============================] - 1s 12ms/step - loss: 0.6495 - accuracy: 0.8065 - val_loss: 0.7779 - val_accuracy: 0.7685\n",
      "Epoch 83/150\n",
      "56/56 [==============================] - 1s 12ms/step - loss: 0.6509 - accuracy: 0.8101 - val_loss: 0.7536 - val_accuracy: 0.7803\n",
      "Epoch 84/150\n",
      "56/56 [==============================] - 1s 12ms/step - loss: 0.6419 - accuracy: 0.8124 - val_loss: 0.7573 - val_accuracy: 0.7777\n",
      "Epoch 85/150\n",
      "56/56 [==============================] - 1s 12ms/step - loss: 0.6361 - accuracy: 0.8138 - val_loss: 0.7574 - val_accuracy: 0.7797\n",
      "Epoch 86/150\n",
      "56/56 [==============================] - 1s 12ms/step - loss: 0.6411 - accuracy: 0.8065 - val_loss: 0.7631 - val_accuracy: 0.7856\n",
      "Epoch 87/150\n",
      "56/56 [==============================] - 1s 12ms/step - loss: 0.6273 - accuracy: 0.8161 - val_loss: 0.7481 - val_accuracy: 0.7797\n",
      "Epoch 88/150\n",
      "56/56 [==============================] - 1s 12ms/step - loss: 0.6246 - accuracy: 0.8132 - val_loss: 0.7532 - val_accuracy: 0.7711\n",
      "Epoch 89/150\n",
      "56/56 [==============================] - 1s 12ms/step - loss: 0.6347 - accuracy: 0.8124 - val_loss: 0.7642 - val_accuracy: 0.7777\n",
      "Epoch 90/150\n",
      "56/56 [==============================] - 1s 12ms/step - loss: 0.6338 - accuracy: 0.8169 - val_loss: 0.7731 - val_accuracy: 0.7757\n",
      "Epoch 91/150\n",
      "56/56 [==============================] - 1s 12ms/step - loss: 0.6470 - accuracy: 0.8085 - val_loss: 0.7527 - val_accuracy: 0.7816\n",
      "Epoch 92/150\n",
      "56/56 [==============================] - 1s 12ms/step - loss: 0.6448 - accuracy: 0.8065 - val_loss: 0.7696 - val_accuracy: 0.7797\n",
      "Epoch 93/150\n",
      "56/56 [==============================] - 1s 12ms/step - loss: 0.6277 - accuracy: 0.8208 - val_loss: 0.7406 - val_accuracy: 0.7725\n",
      "Epoch 94/150\n",
      "56/56 [==============================] - 1s 12ms/step - loss: 0.6283 - accuracy: 0.8163 - val_loss: 0.7620 - val_accuracy: 0.7757\n",
      "Epoch 95/150\n",
      "56/56 [==============================] - 1s 12ms/step - loss: 0.6236 - accuracy: 0.8172 - val_loss: 0.7507 - val_accuracy: 0.7810\n",
      "Epoch 96/150\n",
      "56/56 [==============================] - 1s 12ms/step - loss: 0.6294 - accuracy: 0.8146 - val_loss: 0.7468 - val_accuracy: 0.7869\n",
      "Epoch 97/150\n",
      "56/56 [==============================] - 1s 11ms/step - loss: 0.6118 - accuracy: 0.8194 - val_loss: 0.7629 - val_accuracy: 0.7777\n",
      "Epoch 98/150\n",
      "56/56 [==============================] - 1s 12ms/step - loss: 0.6222 - accuracy: 0.8197 - val_loss: 0.7578 - val_accuracy: 0.7862\n",
      "Epoch 99/150\n",
      "56/56 [==============================] - 1s 13ms/step - loss: 0.6143 - accuracy: 0.8259 - val_loss: 0.7676 - val_accuracy: 0.7784\n",
      "Epoch 100/150\n",
      "56/56 [==============================] - 1s 12ms/step - loss: 0.6193 - accuracy: 0.8186 - val_loss: 0.7570 - val_accuracy: 0.7659\n",
      "Epoch 101/150\n",
      "56/56 [==============================] - 1s 12ms/step - loss: 0.6162 - accuracy: 0.8206 - val_loss: 0.7577 - val_accuracy: 0.7744\n",
      "Epoch 102/150\n",
      "56/56 [==============================] - 1s 12ms/step - loss: 0.6255 - accuracy: 0.8149 - val_loss: 0.7625 - val_accuracy: 0.7784\n",
      "Epoch 103/150\n",
      "56/56 [==============================] - 1s 12ms/step - loss: 0.6299 - accuracy: 0.8138 - val_loss: 0.7623 - val_accuracy: 0.7738\n",
      "Epoch 104/150\n",
      "56/56 [==============================] - 1s 12ms/step - loss: 0.6140 - accuracy: 0.8231 - val_loss: 0.7561 - val_accuracy: 0.7764\n",
      "Epoch 105/150\n",
      "56/56 [==============================] - 1s 12ms/step - loss: 0.6239 - accuracy: 0.8152 - val_loss: 0.7740 - val_accuracy: 0.7718\n",
      "Epoch 106/150\n",
      "56/56 [==============================] - 1s 12ms/step - loss: 0.6133 - accuracy: 0.8214 - val_loss: 0.7519 - val_accuracy: 0.7810\n",
      "Epoch 107/150\n",
      "56/56 [==============================] - 1s 12ms/step - loss: 0.6052 - accuracy: 0.8307 - val_loss: 0.7728 - val_accuracy: 0.7718\n",
      "Epoch 108/150\n",
      "56/56 [==============================] - 1s 12ms/step - loss: 0.6057 - accuracy: 0.8248 - val_loss: 0.7657 - val_accuracy: 0.7725\n",
      "Epoch 109/150\n",
      "56/56 [==============================] - 1s 12ms/step - loss: 0.6021 - accuracy: 0.8251 - val_loss: 0.7846 - val_accuracy: 0.7692\n",
      "Epoch 110/150\n",
      "56/56 [==============================] - 1s 13ms/step - loss: 0.6080 - accuracy: 0.8206 - val_loss: 0.7652 - val_accuracy: 0.7790\n",
      "Epoch 111/150\n",
      "56/56 [==============================] - 1s 12ms/step - loss: 0.6126 - accuracy: 0.8183 - val_loss: 0.7687 - val_accuracy: 0.7797\n",
      "Epoch 112/150\n",
      "56/56 [==============================] - 1s 11ms/step - loss: 0.6246 - accuracy: 0.8141 - val_loss: 0.7562 - val_accuracy: 0.7770\n",
      "Epoch 113/150\n",
      "56/56 [==============================] - 1s 12ms/step - loss: 0.6057 - accuracy: 0.8211 - val_loss: 0.7476 - val_accuracy: 0.7823\n",
      "Epoch 114/150\n",
      "56/56 [==============================] - 1s 12ms/step - loss: 0.5902 - accuracy: 0.8228 - val_loss: 0.7570 - val_accuracy: 0.7836\n",
      "Epoch 115/150\n",
      "56/56 [==============================] - 1s 12ms/step - loss: 0.6139 - accuracy: 0.8175 - val_loss: 0.7677 - val_accuracy: 0.7823\n",
      "Epoch 116/150\n",
      "56/56 [==============================] - 1s 13ms/step - loss: 0.5914 - accuracy: 0.8270 - val_loss: 0.7493 - val_accuracy: 0.7915\n",
      "Epoch 117/150\n",
      "56/56 [==============================] - 1s 12ms/step - loss: 0.5937 - accuracy: 0.8327 - val_loss: 0.7507 - val_accuracy: 0.7757\n",
      "Epoch 118/150\n",
      "56/56 [==============================] - 1s 11ms/step - loss: 0.6107 - accuracy: 0.8242 - val_loss: 0.7512 - val_accuracy: 0.7862\n",
      "Epoch 119/150\n",
      "56/56 [==============================] - 1s 12ms/step - loss: 0.6040 - accuracy: 0.8251 - val_loss: 0.7950 - val_accuracy: 0.7659\n",
      "Epoch 120/150\n",
      "56/56 [==============================] - 1s 11ms/step - loss: 0.6034 - accuracy: 0.8254 - val_loss: 0.7692 - val_accuracy: 0.7784\n",
      "Epoch 121/150\n",
      "56/56 [==============================] - 1s 11ms/step - loss: 0.6036 - accuracy: 0.8285 - val_loss: 0.7528 - val_accuracy: 0.7843\n",
      "Epoch 122/150\n",
      "56/56 [==============================] - 1s 12ms/step - loss: 0.5894 - accuracy: 0.8285 - val_loss: 0.7752 - val_accuracy: 0.7757\n",
      "Epoch 123/150\n",
      "56/56 [==============================] - 1s 11ms/step - loss: 0.5911 - accuracy: 0.8245 - val_loss: 0.7556 - val_accuracy: 0.7816\n",
      "Epoch 124/150\n",
      "56/56 [==============================] - 1s 12ms/step - loss: 0.5948 - accuracy: 0.8296 - val_loss: 0.7936 - val_accuracy: 0.7770\n",
      "Epoch 125/150\n",
      "56/56 [==============================] - 1s 12ms/step - loss: 0.5905 - accuracy: 0.8307 - val_loss: 0.8097 - val_accuracy: 0.7738\n",
      "Epoch 126/150\n",
      "56/56 [==============================] - 1s 12ms/step - loss: 0.6001 - accuracy: 0.8273 - val_loss: 0.7569 - val_accuracy: 0.7823\n",
      "Epoch 127/150\n",
      "56/56 [==============================] - 1s 12ms/step - loss: 0.5864 - accuracy: 0.8346 - val_loss: 0.7598 - val_accuracy: 0.7843\n",
      "Epoch 128/150\n",
      "56/56 [==============================] - 1s 11ms/step - loss: 0.5823 - accuracy: 0.8313 - val_loss: 0.8071 - val_accuracy: 0.7711\n",
      "Epoch 129/150\n",
      "56/56 [==============================] - 1s 13ms/step - loss: 0.5679 - accuracy: 0.8318 - val_loss: 0.7742 - val_accuracy: 0.7764\n",
      "Epoch 130/150\n",
      "56/56 [==============================] - 1s 11ms/step - loss: 0.5853 - accuracy: 0.8332 - val_loss: 0.7828 - val_accuracy: 0.7797\n",
      "Epoch 131/150\n",
      "56/56 [==============================] - 1s 12ms/step - loss: 0.5907 - accuracy: 0.8324 - val_loss: 0.7537 - val_accuracy: 0.7889\n",
      "Epoch 132/150\n",
      "56/56 [==============================] - 1s 12ms/step - loss: 0.5883 - accuracy: 0.8318 - val_loss: 0.7712 - val_accuracy: 0.7784\n",
      "Epoch 133/150\n",
      "56/56 [==============================] - 1s 12ms/step - loss: 0.6119 - accuracy: 0.8231 - val_loss: 0.7884 - val_accuracy: 0.7705\n",
      "Epoch 134/150\n",
      "56/56 [==============================] - 1s 12ms/step - loss: 0.5741 - accuracy: 0.8313 - val_loss: 0.7867 - val_accuracy: 0.7784\n",
      "Epoch 135/150\n",
      "56/56 [==============================] - 1s 12ms/step - loss: 0.5902 - accuracy: 0.8293 - val_loss: 0.7977 - val_accuracy: 0.7810\n",
      "Epoch 136/150\n",
      "56/56 [==============================] - 1s 12ms/step - loss: 0.5814 - accuracy: 0.8372 - val_loss: 0.7504 - val_accuracy: 0.7882\n",
      "Epoch 137/150\n",
      "56/56 [==============================] - 1s 12ms/step - loss: 0.5890 - accuracy: 0.8324 - val_loss: 0.7470 - val_accuracy: 0.7869\n",
      "Epoch 138/150\n",
      "56/56 [==============================] - 1s 12ms/step - loss: 0.5799 - accuracy: 0.8352 - val_loss: 0.7661 - val_accuracy: 0.7862\n",
      "Epoch 139/150\n",
      "56/56 [==============================] - 1s 13ms/step - loss: 0.5791 - accuracy: 0.8349 - val_loss: 0.7436 - val_accuracy: 0.7915\n",
      "Epoch 140/150\n",
      "56/56 [==============================] - 1s 12ms/step - loss: 0.5681 - accuracy: 0.8358 - val_loss: 0.7718 - val_accuracy: 0.7836\n",
      "Epoch 141/150\n",
      "56/56 [==============================] - 1s 12ms/step - loss: 0.5710 - accuracy: 0.8324 - val_loss: 0.8017 - val_accuracy: 0.7738\n",
      "Epoch 142/150\n",
      "56/56 [==============================] - 1s 13ms/step - loss: 0.5746 - accuracy: 0.8386 - val_loss: 0.7631 - val_accuracy: 0.7823\n",
      "Epoch 143/150\n",
      "56/56 [==============================] - 1s 12ms/step - loss: 0.5674 - accuracy: 0.8377 - val_loss: 0.7593 - val_accuracy: 0.7830\n",
      "Epoch 144/150\n",
      "56/56 [==============================] - 1s 12ms/step - loss: 0.5988 - accuracy: 0.8265 - val_loss: 0.7681 - val_accuracy: 0.7784\n",
      "Epoch 145/150\n",
      "56/56 [==============================] - 1s 12ms/step - loss: 0.5787 - accuracy: 0.8293 - val_loss: 0.7611 - val_accuracy: 0.7869\n",
      "Epoch 146/150\n",
      "56/56 [==============================] - 1s 11ms/step - loss: 0.5798 - accuracy: 0.8318 - val_loss: 0.7654 - val_accuracy: 0.7882\n",
      "Epoch 147/150\n",
      "56/56 [==============================] - 1s 12ms/step - loss: 0.5650 - accuracy: 0.8400 - val_loss: 0.7649 - val_accuracy: 0.7784\n",
      "Epoch 148/150\n",
      "56/56 [==============================] - 1s 12ms/step - loss: 0.5798 - accuracy: 0.8366 - val_loss: 0.7948 - val_accuracy: 0.7620\n",
      "Epoch 149/150\n",
      "56/56 [==============================] - 1s 13ms/step - loss: 0.5782 - accuracy: 0.8389 - val_loss: 0.7702 - val_accuracy: 0.7823\n",
      "Epoch 150/150\n",
      "56/56 [==============================] - 1s 12ms/step - loss: 0.5653 - accuracy: 0.8406 - val_loss: 0.7558 - val_accuracy: 0.7816\n"
     ]
    }
   ],
   "source": [
    "epochs=150\n",
    "history = model.fit(\n",
    "  train,\n",
    "  validation_data=test,\n",
    "  epochs=epochs\n",
    ")"
   ]
  },
  {
   "cell_type": "code",
   "execution_count": 9,
   "metadata": {},
   "outputs": [
    {
     "data": {
      "image/png": "[encoded data removed]",
      "text/plain": [
       "<Figure size 576x576 with 2 Axes>"
      ]
     },
     "metadata": {
      "needs_background": "light"
     },
     "output_type": "display_data"
    }
   ],
   "source": [
    "acc = history.history['accuracy']\n",
    "val_acc = history.history['val_accuracy']\n",
    "\n",
    "loss = history.history['loss']\n",
    "val_loss = history.history['val_loss']\n",
    "\n",
    "epochs_range = range(epochs)\n",
    "\n",
    "plt.figure(figsize=(8, 8))\n",
    "plt.subplot(1, 2, 1)\n",
    "plt.plot(epochs_range, acc, label='Training Accuracy')\n",
    "plt.plot(epochs_range, val_acc, label='Validation Accuracy')\n",
    "plt.legend(loc='lower right')\n",
    "plt.title('Training and Validation Accuracy')\n",
    "\n",
    "plt.subplot(1, 2, 2)\n",
    "plt.plot(epochs_range, loss, label='Training Loss')\n",
    "plt.plot(epochs_range, val_loss, label='Validation Loss')\n",
    "plt.legend(loc='upper right')\n",
    "plt.title('Training and Validation Loss')\n",
    "plt.show()"
   ]
  },
  {
   "cell_type": "code",
   "execution_count": 10,
   "metadata": {},
   "outputs": [
    {
     "name": "stdout",
     "output_type": "stream",
     "text": [
      "24/24 [==============================] - 0s 8ms/step - loss: 0.7558 - accuracy: 0.7816\n",
      "Test accuracy : 0.7816393375396729\n"
     ]
    }
   ],
   "source": [
    "loss, accuracy = model.evaluate(test)\n",
    "print('Test accuracy :', accuracy)"
   ]
  },
  {
   "cell_type": "code",
   "execution_count": 11,
   "metadata": {},
   "outputs": [],
   "source": [
    "# Save the entire model as a SavedModel.\n",
    "# model.save('./data/humanModel/mode_v0')\n",
    "model.save('./data/'+map_dir+'/humanModel_v0.h5')"
   ]
  },
  {
   "cell_type": "code",
   "execution_count": 12,
   "metadata": {},
   "outputs": [],
   "source": [
    "# save model in js format\n",
    "# import tensorflowjs as tfjs\n",
    "# tfjs.converters.save_keras_model(model, 'data/humanModel/js_model_v0')"
   ]
  },
  {
   "cell_type": "code",
   "execution_count": 13,
   "metadata": {},
   "outputs": [],
   "source": [
    "# new_model = tf.keras.models.load_model('./data/humanModel/mode_v0')\n",
    "\n",
    "# # Check its architecture\n",
    "# new_model.summary()"
   ]
  },
  {
   "cell_type": "markdown",
   "metadata": {},
   "source": [
    "### Predict on new data"
   ]
  },
  {
   "cell_type": "code",
   "execution_count": 14,
   "metadata": {},
   "outputs": [
    {
     "ename": "FileNotFoundError",
     "evalue": "[Errno 2] No such file or directory: './data/humanModel/humanModel_dataset_split/val/37/-MqplyKpCgPw_1mVmnvp_11.png'",
     "output_type": "error",
     "traceback": [
      "\u001b[0;31m---------------------------------------------------------------------------\u001b[0m",
      "\u001b[0;31mFileNotFoundError\u001b[0m                         Traceback (most recent call last)",
      "\u001b[0;32m/tmp/ipykernel_2956403/2025990076.py\u001b[0m in \u001b[0;36m<module>\u001b[0;34m\u001b[0m\n\u001b[1;32m      2\u001b[0m \u001b[0;34m\u001b[0m\u001b[0m\n\u001b[1;32m      3\u001b[0m img = keras.preprocessing.image.load_img(\n\u001b[0;32m----> 4\u001b[0;31m     \u001b[0msunflower_path\u001b[0m\u001b[0;34m,\u001b[0m \u001b[0mtarget_size\u001b[0m\u001b[0;34m=\u001b[0m\u001b[0;34m(\u001b[0m\u001b[0mIMG_SIZE\u001b[0m\u001b[0;34m,\u001b[0m \u001b[0mIMG_SIZE\u001b[0m\u001b[0;34m)\u001b[0m\u001b[0;34m\u001b[0m\u001b[0;34m\u001b[0m\u001b[0m\n\u001b[0m\u001b[1;32m      5\u001b[0m )\n\u001b[1;32m      6\u001b[0m \u001b[0mimg_array\u001b[0m \u001b[0;34m=\u001b[0m \u001b[0mkeras\u001b[0m\u001b[0;34m.\u001b[0m\u001b[0mpreprocessing\u001b[0m\u001b[0;34m.\u001b[0m\u001b[0mimage\u001b[0m\u001b[0;34m.\u001b[0m\u001b[0mimg_to_array\u001b[0m\u001b[0;34m(\u001b[0m\u001b[0mimg\u001b[0m\u001b[0;34m)\u001b[0m\u001b[0;34m\u001b[0m\u001b[0;34m\u001b[0m\u001b[0m\n",
      "\u001b[0;32m~/anaconda3/envs/tf-gpu/lib/python3.7/site-packages/keras/preprocessing/image.py\u001b[0m in \u001b[0;36mload_img\u001b[0;34m(path, grayscale, color_mode, target_size, interpolation)\u001b[0m\n\u001b[1;32m    312\u001b[0m   \"\"\"\n\u001b[1;32m    313\u001b[0m   return image.load_img(path, grayscale=grayscale, color_mode=color_mode,\n\u001b[0;32m--> 314\u001b[0;31m                         target_size=target_size, interpolation=interpolation)\n\u001b[0m\u001b[1;32m    315\u001b[0m \u001b[0;34m\u001b[0m\u001b[0m\n\u001b[1;32m    316\u001b[0m \u001b[0;34m\u001b[0m\u001b[0m\n",
      "\u001b[0;32m~/anaconda3/envs/tf-gpu/lib/python3.7/site-packages/keras_preprocessing/image/utils.py\u001b[0m in \u001b[0;36mload_img\u001b[0;34m(path, grayscale, color_mode, target_size, interpolation)\u001b[0m\n\u001b[1;32m    111\u001b[0m         raise ImportError('Could not import PIL.Image. '\n\u001b[1;32m    112\u001b[0m                           'The use of `load_img` requires PIL.')\n\u001b[0;32m--> 113\u001b[0;31m     \u001b[0;32mwith\u001b[0m \u001b[0mopen\u001b[0m\u001b[0;34m(\u001b[0m\u001b[0mpath\u001b[0m\u001b[0;34m,\u001b[0m \u001b[0;34m'rb'\u001b[0m\u001b[0;34m)\u001b[0m \u001b[0;32mas\u001b[0m \u001b[0mf\u001b[0m\u001b[0;34m:\u001b[0m\u001b[0;34m\u001b[0m\u001b[0;34m\u001b[0m\u001b[0m\n\u001b[0m\u001b[1;32m    114\u001b[0m         \u001b[0mimg\u001b[0m \u001b[0;34m=\u001b[0m \u001b[0mpil_image\u001b[0m\u001b[0;34m.\u001b[0m\u001b[0mopen\u001b[0m\u001b[0;34m(\u001b[0m\u001b[0mio\u001b[0m\u001b[0;34m.\u001b[0m\u001b[0mBytesIO\u001b[0m\u001b[0;34m(\u001b[0m\u001b[0mf\u001b[0m\u001b[0;34m.\u001b[0m\u001b[0mread\u001b[0m\u001b[0;34m(\u001b[0m\u001b[0;34m)\u001b[0m\u001b[0;34m)\u001b[0m\u001b[0;34m)\u001b[0m\u001b[0;34m\u001b[0m\u001b[0;34m\u001b[0m\u001b[0m\n\u001b[1;32m    115\u001b[0m         \u001b[0;32mif\u001b[0m \u001b[0mcolor_mode\u001b[0m \u001b[0;34m==\u001b[0m \u001b[0;34m'grayscale'\u001b[0m\u001b[0;34m:\u001b[0m\u001b[0;34m\u001b[0m\u001b[0;34m\u001b[0m\u001b[0m\n",
      "\u001b[0;31mFileNotFoundError\u001b[0m: [Errno 2] No such file or directory: './data/humanModel/humanModel_dataset_split/val/37/-MqplyKpCgPw_1mVmnvp_11.png'"
     ]
    }
   ],
   "source": [
    "sunflower_path = \"./data/humanModel/humanModel_dataset_split/val/37/-MqplyKpCgPw_1mVmnvp_11.png\"\n",
    "\n",
    "img = keras.preprocessing.image.load_img(\n",
    "    sunflower_path, target_size=(IMG_SIZE, IMG_SIZE)\n",
    ")\n",
    "img_array = keras.preprocessing.image.img_to_array(img)\n",
    "img_array = tf.expand_dims(img_array, 0) # Create a batch\n",
    "\n",
    "predictions = model.predict(img_array)\n",
    "score = tf.nn.softmax(predictions[0])\n",
    "print(\n",
    "    \"This image most likely belongs to {} with a {:.2f} percent confidence.\"\n",
    "    .format(np.argmax(score), 100 * np.max(score))\n",
    ")"
   ]
  }
 ],
 "metadata": {
  "interpreter": {
   "hash": "ad60775ae12af945b53c5c94c294ef05f229143b8585a0d23625a81e181fdccc"
  },
  "kernelspec": {
   "display_name": "Python 3.7.4 64-bit ('tf-gpu': conda)",
   "name": "python3"
  },
  "language_info": {
   "codemirror_mode": {
    "name": "ipython",
    "version": 3
   },
   "file_extension": ".py",
   "mimetype": "text/x-python",
   "name": "python",
   "nbconvert_exporter": "python",
   "pygments_lexer": "ipython3",
   "version": "3.7.4"
  }
 },
 "nbformat": 4,
 "nbformat_minor": 4
}
