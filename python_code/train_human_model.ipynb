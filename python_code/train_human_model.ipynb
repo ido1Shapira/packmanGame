{
 "cells": [
  {
   "cell_type": "code",
   "execution_count": 7,
   "metadata": {},
   "outputs": [],
   "source": [
    "import numpy as np\n",
    "import random\n",
    "import os\n",
    "\n",
    "# ! pip install split-folders\n",
    "import splitfolders\n",
    "\n",
    "import tensorflow as tf\n",
    "from tensorflow import keras\n",
    "from tensorflow.keras import layers, regularizers\n",
    "from tensorflow.keras.models import Sequential\n",
    "\n",
    "from tensorflow.keras.preprocessing.image import ImageDataGenerator\n",
    "from tensorflow.keras.preprocessing import image\n",
    "\n",
    "import matplotlib.pyplot as plt\n",
    "\n",
    "rs = 42\n",
    "def reset_random_seeds(rs):\n",
    "   os.environ['PYTHONHASHSEED']=str(rs)\n",
    "   tf.random.set_seed(rs)\n",
    "   np.random.seed(rs)\n",
    "   random.seed(rs)\n",
    "reset_random_seeds(rs)"
   ]
  },
  {
   "cell_type": "markdown",
   "metadata": {},
   "source": [
    "# Part 1 - Data Preprocessing"
   ]
  },
  {
   "cell_type": "markdown",
   "metadata": {},
   "source": [
    "## Split into train , test data"
   ]
  },
  {
   "cell_type": "code",
   "execution_count": 8,
   "metadata": {},
   "outputs": [
    {
     "name": "stderr",
     "output_type": "stream",
     "text": [
      "Copying files: 6429 files [00:00, 13559.83 files/s]\n"
     ]
    }
   ],
   "source": [
    "# train, test split\n",
    "splitfolders.ratio('./data/humanModel/imagesDatabase/', output=\"./data/humanModel/imagesDatabase_split\", ratio=(0.7, 0.3))"
   ]
  },
  {
   "cell_type": "markdown",
   "metadata": {},
   "source": [
    "### Preprocessing the Training set"
   ]
  },
  {
   "cell_type": "code",
   "execution_count": 9,
   "metadata": {},
   "outputs": [
    {
     "name": "stdout",
     "output_type": "stream",
     "text": [
      "Found 4498 images belonging to 5 classes.\n",
      "Found 1931 images belonging to 5 classes.\n"
     ]
    }
   ],
   "source": [
    "batch_size = 64\n",
    "IMG_SIZE = 10\n",
    "\n",
    "datagen = ImageDataGenerator(rescale = 1./255)\n",
    "train = datagen.flow_from_directory('./data/humanModel/imagesDatabase_split/train',\n",
    "                                          target_size = (IMG_SIZE,IMG_SIZE), batch_size = batch_size, seed=rs, class_mode='sparse')\n",
    "\n",
    "test = datagen.flow_from_directory('./data/humanModel/imagesDatabase_split/val',\n",
    "                                            target_size = (IMG_SIZE, IMG_SIZE), batch_size = batch_size, seed=rs, class_mode='sparse')"
   ]
  },
  {
   "cell_type": "markdown",
   "metadata": {},
   "source": [
    "## View some data"
   ]
  },
  {
   "cell_type": "code",
   "execution_count": 10,
   "metadata": {},
   "outputs": [],
   "source": [
    "num_classes = 5\n",
    "\n",
    "model = Sequential([\n",
    "  # layers.GaussianNoise(0.2),\n",
    "  layers.Conv2D(8, 4, padding='same', activation='relu', kernel_regularizer=regularizers.l2(0.001), input_shape=[IMG_SIZE,IMG_SIZE,3]),\n",
    "  layers.Conv2D(16, 4, padding='same', activation='relu', kernel_regularizer=regularizers.l2(0.001)),\n",
    "  layers.Conv2D(16, 3, padding='same', activation='relu', kernel_regularizer=regularizers.l2(0.001)),\n",
    "  layers.MaxPooling2D(),\n",
    "  layers.Conv2D(8, 3, padding='same', activation='relu', kernel_regularizer=regularizers.l2(0.001)),\n",
    "  layers.Dropout(0.5),\n",
    "  layers.Flatten(),\n",
    "  layers.Dense(32, activation='relu', kernel_regularizer=regularizers.l2(0.001)),\n",
    "  layers.Dense(num_classes, activation='softmax')\n",
    "])"
   ]
  },
  {
   "cell_type": "code",
   "execution_count": 11,
   "metadata": {},
   "outputs": [],
   "source": [
    "model.compile(optimizer='adam',\n",
    "              loss=tf.keras.losses.SparseCategoricalCrossentropy(from_logits=True),\n",
    "              metrics=['accuracy'])"
   ]
  },
  {
   "cell_type": "code",
   "execution_count": 12,
   "metadata": {},
   "outputs": [
    {
     "name": "stdout",
     "output_type": "stream",
     "text": [
      "Model: \"sequential_1\"\n",
      "_________________________________________________________________\n",
      "Layer (type)                 Output Shape              Param #   \n",
      "=================================================================\n",
      "conv2d_4 (Conv2D)            (None, 10, 10, 8)         392       \n",
      "_________________________________________________________________\n",
      "conv2d_5 (Conv2D)            (None, 10, 10, 16)        2064      \n",
      "_________________________________________________________________\n",
      "conv2d_6 (Conv2D)            (None, 10, 10, 16)        2320      \n",
      "_________________________________________________________________\n",
      "max_pooling2d_1 (MaxPooling2 (None, 5, 5, 16)          0         \n",
      "_________________________________________________________________\n",
      "conv2d_7 (Conv2D)            (None, 5, 5, 8)           1160      \n",
      "_________________________________________________________________\n",
      "dropout_1 (Dropout)          (None, 5, 5, 8)           0         \n",
      "_________________________________________________________________\n",
      "flatten_1 (Flatten)          (None, 200)               0         \n",
      "_________________________________________________________________\n",
      "dense_2 (Dense)              (None, 32)                6432      \n",
      "_________________________________________________________________\n",
      "dense_3 (Dense)              (None, 5)                 165       \n",
      "=================================================================\n",
      "Total params: 12,533\n",
      "Trainable params: 12,533\n",
      "Non-trainable params: 0\n",
      "_________________________________________________________________\n"
     ]
    }
   ],
   "source": [
    "model.summary()"
   ]
  },
  {
   "cell_type": "code",
   "execution_count": 13,
   "metadata": {
    "scrolled": true
   },
   "outputs": [
    {
     "name": "stderr",
     "output_type": "stream",
     "text": [
      "2021-12-07 13:31:37.043779: I tensorflow/compiler/mlir/mlir_graph_optimization_pass.cc:185] None of the MLIR Optimization Passes are enabled (registered 2)\n",
      "/home/ido/anaconda3/envs/tf-gpu/lib/python3.7/site-packages/keras/backend.py:4907: UserWarning: \"`sparse_categorical_crossentropy` received `from_logits=True`, but the `output` argument was produced by a sigmoid or softmax activation and thus does not represent logits. Was this intended?\"\n",
      "  '\"`sparse_categorical_crossentropy` received `from_logits=True`, but '\n"
     ]
    },
    {
     "name": "stdout",
     "output_type": "stream",
     "text": [
      "Epoch 1/150\n"
     ]
    },
    {
     "name": "stderr",
     "output_type": "stream",
     "text": [
      "2021-12-07 13:31:37.889139: I tensorflow/stream_executor/cuda/cuda_dnn.cc:369] Loaded cuDNN version 8300\n"
     ]
    },
    {
     "name": "stdout",
     "output_type": "stream",
     "text": [
      "71/71 [==============================] - 3s 14ms/step - loss: 1.6535 - accuracy: 0.2628 - val_loss: 1.5654 - val_accuracy: 0.2900\n",
      "Epoch 2/150\n",
      "71/71 [==============================] - 1s 12ms/step - loss: 1.4384 - accuracy: 0.4162 - val_loss: 1.2655 - val_accuracy: 0.5075\n",
      "Epoch 3/150\n",
      "71/71 [==============================] - 1s 12ms/step - loss: 1.2802 - accuracy: 0.5169 - val_loss: 1.1797 - val_accuracy: 0.5552\n",
      "Epoch 4/150\n",
      "71/71 [==============================] - 1s 12ms/step - loss: 1.2104 - accuracy: 0.5396 - val_loss: 1.0972 - val_accuracy: 0.6240\n",
      "Epoch 5/150\n",
      "71/71 [==============================] - 1s 12ms/step - loss: 1.1557 - accuracy: 0.5803 - val_loss: 1.0864 - val_accuracy: 0.6142\n",
      "Epoch 6/150\n",
      "71/71 [==============================] - 1s 11ms/step - loss: 1.1192 - accuracy: 0.6000 - val_loss: 1.0300 - val_accuracy: 0.6479\n",
      "Epoch 7/150\n",
      "71/71 [==============================] - 1s 11ms/step - loss: 1.0935 - accuracy: 0.6067 - val_loss: 0.9911 - val_accuracy: 0.6515\n",
      "Epoch 8/150\n",
      "71/71 [==============================] - 1s 12ms/step - loss: 1.0672 - accuracy: 0.6172 - val_loss: 0.9805 - val_accuracy: 0.6649\n",
      "Epoch 9/150\n",
      "71/71 [==============================] - 1s 11ms/step - loss: 1.0460 - accuracy: 0.6245 - val_loss: 0.9498 - val_accuracy: 0.6758\n",
      "Epoch 10/150\n",
      "71/71 [==============================] - 1s 11ms/step - loss: 1.0356 - accuracy: 0.6387 - val_loss: 0.9384 - val_accuracy: 0.6763\n",
      "Epoch 11/150\n",
      "71/71 [==============================] - 1s 11ms/step - loss: 1.0196 - accuracy: 0.6394 - val_loss: 0.9246 - val_accuracy: 0.6976\n",
      "Epoch 12/150\n",
      "71/71 [==============================] - 1s 11ms/step - loss: 1.0115 - accuracy: 0.6378 - val_loss: 0.9217 - val_accuracy: 0.6898\n",
      "Epoch 13/150\n",
      "71/71 [==============================] - 1s 11ms/step - loss: 0.9857 - accuracy: 0.6550 - val_loss: 0.9046 - val_accuracy: 0.6981\n",
      "Epoch 14/150\n",
      "71/71 [==============================] - 1s 11ms/step - loss: 0.9714 - accuracy: 0.6581 - val_loss: 0.8871 - val_accuracy: 0.7147\n",
      "Epoch 15/150\n",
      "71/71 [==============================] - 1s 11ms/step - loss: 0.9550 - accuracy: 0.6730 - val_loss: 0.8799 - val_accuracy: 0.7053\n",
      "Epoch 16/150\n",
      "71/71 [==============================] - 1s 12ms/step - loss: 0.9470 - accuracy: 0.6727 - val_loss: 0.8767 - val_accuracy: 0.7090\n",
      "Epoch 17/150\n",
      "71/71 [==============================] - 1s 11ms/step - loss: 0.9335 - accuracy: 0.6770 - val_loss: 0.8625 - val_accuracy: 0.7162\n",
      "Epoch 18/150\n",
      "71/71 [==============================] - 1s 11ms/step - loss: 0.9215 - accuracy: 0.6807 - val_loss: 0.8420 - val_accuracy: 0.7198\n",
      "Epoch 19/150\n",
      "71/71 [==============================] - 1s 11ms/step - loss: 0.9200 - accuracy: 0.6847 - val_loss: 0.8388 - val_accuracy: 0.7323\n",
      "Epoch 20/150\n",
      "71/71 [==============================] - 1s 12ms/step - loss: 0.9081 - accuracy: 0.6823 - val_loss: 0.8362 - val_accuracy: 0.7126\n",
      "Epoch 21/150\n",
      "71/71 [==============================] - 1s 11ms/step - loss: 0.8906 - accuracy: 0.6961 - val_loss: 0.8338 - val_accuracy: 0.7219\n",
      "Epoch 22/150\n",
      "71/71 [==============================] - 1s 11ms/step - loss: 0.8898 - accuracy: 0.6963 - val_loss: 0.8176 - val_accuracy: 0.7302\n",
      "Epoch 23/150\n",
      "71/71 [==============================] - 1s 12ms/step - loss: 0.8830 - accuracy: 0.6990 - val_loss: 0.8283 - val_accuracy: 0.7224\n",
      "Epoch 24/150\n",
      "71/71 [==============================] - 1s 12ms/step - loss: 0.8687 - accuracy: 0.7054 - val_loss: 0.8265 - val_accuracy: 0.7219\n",
      "Epoch 25/150\n",
      "71/71 [==============================] - 1s 11ms/step - loss: 0.8660 - accuracy: 0.7081 - val_loss: 0.8263 - val_accuracy: 0.7229\n",
      "Epoch 26/150\n",
      "71/71 [==============================] - 1s 11ms/step - loss: 0.8629 - accuracy: 0.7074 - val_loss: 0.8043 - val_accuracy: 0.7354\n",
      "Epoch 27/150\n",
      "71/71 [==============================] - 1s 12ms/step - loss: 0.8604 - accuracy: 0.7043 - val_loss: 0.8057 - val_accuracy: 0.7297\n",
      "Epoch 28/150\n",
      "71/71 [==============================] - 1s 11ms/step - loss: 0.8615 - accuracy: 0.7103 - val_loss: 0.8211 - val_accuracy: 0.7214\n",
      "Epoch 29/150\n",
      "71/71 [==============================] - 1s 12ms/step - loss: 0.8452 - accuracy: 0.7165 - val_loss: 0.8037 - val_accuracy: 0.7374\n",
      "Epoch 30/150\n",
      "71/71 [==============================] - 1s 11ms/step - loss: 0.8446 - accuracy: 0.7121 - val_loss: 0.8020 - val_accuracy: 0.7400\n",
      "Epoch 31/150\n",
      "71/71 [==============================] - 1s 11ms/step - loss: 0.8350 - accuracy: 0.7154 - val_loss: 0.7968 - val_accuracy: 0.7494\n",
      "Epoch 32/150\n",
      "71/71 [==============================] - 1s 11ms/step - loss: 0.8239 - accuracy: 0.7203 - val_loss: 0.7845 - val_accuracy: 0.7509\n",
      "Epoch 33/150\n",
      "71/71 [==============================] - 1s 11ms/step - loss: 0.8174 - accuracy: 0.7352 - val_loss: 0.7826 - val_accuracy: 0.7478\n",
      "Epoch 34/150\n",
      "71/71 [==============================] - 1s 11ms/step - loss: 0.8176 - accuracy: 0.7203 - val_loss: 0.7962 - val_accuracy: 0.7385\n",
      "Epoch 35/150\n",
      "71/71 [==============================] - 1s 11ms/step - loss: 0.8162 - accuracy: 0.7239 - val_loss: 0.7917 - val_accuracy: 0.7385\n",
      "Epoch 36/150\n",
      "71/71 [==============================] - 1s 11ms/step - loss: 0.8003 - accuracy: 0.7332 - val_loss: 0.7976 - val_accuracy: 0.7457\n",
      "Epoch 37/150\n",
      "71/71 [==============================] - 1s 12ms/step - loss: 0.8060 - accuracy: 0.7314 - val_loss: 0.7897 - val_accuracy: 0.7478\n",
      "Epoch 38/150\n",
      "71/71 [==============================] - 1s 11ms/step - loss: 0.7959 - accuracy: 0.7370 - val_loss: 0.7774 - val_accuracy: 0.7494\n",
      "Epoch 39/150\n",
      "71/71 [==============================] - 1s 11ms/step - loss: 0.8003 - accuracy: 0.7337 - val_loss: 0.7963 - val_accuracy: 0.7447\n",
      "Epoch 40/150\n",
      "71/71 [==============================] - 1s 11ms/step - loss: 0.7905 - accuracy: 0.7372 - val_loss: 0.7922 - val_accuracy: 0.7556\n",
      "Epoch 41/150\n",
      "71/71 [==============================] - 1s 11ms/step - loss: 0.7972 - accuracy: 0.7399 - val_loss: 0.7776 - val_accuracy: 0.7525\n",
      "Epoch 42/150\n",
      "71/71 [==============================] - 1s 11ms/step - loss: 0.7742 - accuracy: 0.7446 - val_loss: 0.7900 - val_accuracy: 0.7405\n",
      "Epoch 43/150\n",
      "71/71 [==============================] - 1s 11ms/step - loss: 0.7850 - accuracy: 0.7421 - val_loss: 0.7773 - val_accuracy: 0.7530\n",
      "Epoch 44/150\n",
      "71/71 [==============================] - 1s 11ms/step - loss: 0.7817 - accuracy: 0.7408 - val_loss: 0.7867 - val_accuracy: 0.7597\n",
      "Epoch 45/150\n",
      "71/71 [==============================] - 1s 12ms/step - loss: 0.7667 - accuracy: 0.7512 - val_loss: 0.7780 - val_accuracy: 0.7483\n",
      "Epoch 46/150\n",
      "71/71 [==============================] - 1s 12ms/step - loss: 0.7677 - accuracy: 0.7506 - val_loss: 0.7661 - val_accuracy: 0.7525\n",
      "Epoch 47/150\n",
      "71/71 [==============================] - 1s 11ms/step - loss: 0.7577 - accuracy: 0.7512 - val_loss: 0.7855 - val_accuracy: 0.7499\n",
      "Epoch 48/150\n",
      "71/71 [==============================] - 1s 11ms/step - loss: 0.7540 - accuracy: 0.7497 - val_loss: 0.7899 - val_accuracy: 0.7592\n",
      "Epoch 49/150\n",
      "71/71 [==============================] - 1s 12ms/step - loss: 0.7717 - accuracy: 0.7466 - val_loss: 0.7668 - val_accuracy: 0.7556\n",
      "Epoch 50/150\n",
      "71/71 [==============================] - 1s 11ms/step - loss: 0.7497 - accuracy: 0.7563 - val_loss: 0.7758 - val_accuracy: 0.7592\n",
      "Epoch 51/150\n",
      "71/71 [==============================] - 1s 12ms/step - loss: 0.7628 - accuracy: 0.7497 - val_loss: 0.7693 - val_accuracy: 0.7509\n",
      "Epoch 52/150\n",
      "71/71 [==============================] - 1s 12ms/step - loss: 0.7496 - accuracy: 0.7621 - val_loss: 0.7728 - val_accuracy: 0.7633\n",
      "Epoch 53/150\n",
      "71/71 [==============================] - 1s 11ms/step - loss: 0.7479 - accuracy: 0.7554 - val_loss: 0.7583 - val_accuracy: 0.7592\n",
      "Epoch 54/150\n",
      "71/71 [==============================] - 1s 11ms/step - loss: 0.7397 - accuracy: 0.7583 - val_loss: 0.7697 - val_accuracy: 0.7618\n",
      "Epoch 55/150\n",
      "71/71 [==============================] - 1s 11ms/step - loss: 0.7444 - accuracy: 0.7588 - val_loss: 0.7578 - val_accuracy: 0.7582\n",
      "Epoch 56/150\n",
      "71/71 [==============================] - 1s 11ms/step - loss: 0.7451 - accuracy: 0.7601 - val_loss: 0.7711 - val_accuracy: 0.7400\n",
      "Epoch 57/150\n",
      "71/71 [==============================] - 1s 12ms/step - loss: 0.7305 - accuracy: 0.7621 - val_loss: 0.7650 - val_accuracy: 0.7540\n",
      "Epoch 58/150\n",
      "71/71 [==============================] - 1s 12ms/step - loss: 0.7311 - accuracy: 0.7639 - val_loss: 0.7588 - val_accuracy: 0.7607\n",
      "Epoch 59/150\n",
      "71/71 [==============================] - 1s 11ms/step - loss: 0.7365 - accuracy: 0.7637 - val_loss: 0.7586 - val_accuracy: 0.7690\n",
      "Epoch 60/150\n",
      "71/71 [==============================] - 1s 11ms/step - loss: 0.7320 - accuracy: 0.7668 - val_loss: 0.7602 - val_accuracy: 0.7571\n",
      "Epoch 61/150\n",
      "71/71 [==============================] - 1s 11ms/step - loss: 0.7338 - accuracy: 0.7639 - val_loss: 0.7582 - val_accuracy: 0.7587\n",
      "Epoch 62/150\n",
      "71/71 [==============================] - 1s 11ms/step - loss: 0.7232 - accuracy: 0.7703 - val_loss: 0.7674 - val_accuracy: 0.7607\n",
      "Epoch 63/150\n",
      "71/71 [==============================] - 1s 11ms/step - loss: 0.7306 - accuracy: 0.7706 - val_loss: 0.7637 - val_accuracy: 0.7633\n",
      "Epoch 64/150\n",
      "71/71 [==============================] - 1s 12ms/step - loss: 0.7143 - accuracy: 0.7732 - val_loss: 0.7560 - val_accuracy: 0.7685\n",
      "Epoch 65/150\n",
      "71/71 [==============================] - 1s 11ms/step - loss: 0.7241 - accuracy: 0.7692 - val_loss: 0.7581 - val_accuracy: 0.7659\n",
      "Epoch 66/150\n",
      "71/71 [==============================] - 1s 11ms/step - loss: 0.7187 - accuracy: 0.7648 - val_loss: 0.7546 - val_accuracy: 0.7675\n",
      "Epoch 67/150\n",
      "71/71 [==============================] - 1s 12ms/step - loss: 0.7121 - accuracy: 0.7803 - val_loss: 0.7487 - val_accuracy: 0.7716\n",
      "Epoch 68/150\n",
      "71/71 [==============================] - 1s 11ms/step - loss: 0.7047 - accuracy: 0.7750 - val_loss: 0.7545 - val_accuracy: 0.7654\n",
      "Epoch 69/150\n",
      "71/71 [==============================] - 1s 11ms/step - loss: 0.7066 - accuracy: 0.7728 - val_loss: 0.7544 - val_accuracy: 0.7644\n",
      "Epoch 70/150\n",
      "71/71 [==============================] - 1s 11ms/step - loss: 0.7022 - accuracy: 0.7768 - val_loss: 0.7641 - val_accuracy: 0.7654\n",
      "Epoch 71/150\n",
      "71/71 [==============================] - 1s 12ms/step - loss: 0.6875 - accuracy: 0.7792 - val_loss: 0.7647 - val_accuracy: 0.7623\n",
      "Epoch 72/150\n",
      "71/71 [==============================] - 1s 11ms/step - loss: 0.7086 - accuracy: 0.7768 - val_loss: 0.7544 - val_accuracy: 0.7649\n",
      "Epoch 73/150\n",
      "71/71 [==============================] - 1s 11ms/step - loss: 0.6951 - accuracy: 0.7746 - val_loss: 0.7634 - val_accuracy: 0.7675\n",
      "Epoch 74/150\n",
      "71/71 [==============================] - 1s 11ms/step - loss: 0.7017 - accuracy: 0.7768 - val_loss: 0.7686 - val_accuracy: 0.7613\n",
      "Epoch 75/150\n",
      "71/71 [==============================] - 1s 11ms/step - loss: 0.6992 - accuracy: 0.7810 - val_loss: 0.7571 - val_accuracy: 0.7727\n",
      "Epoch 76/150\n",
      "71/71 [==============================] - 1s 11ms/step - loss: 0.6866 - accuracy: 0.7808 - val_loss: 0.7473 - val_accuracy: 0.7680\n",
      "Epoch 77/150\n",
      "71/71 [==============================] - 1s 11ms/step - loss: 0.6903 - accuracy: 0.7799 - val_loss: 0.7627 - val_accuracy: 0.7628\n",
      "Epoch 78/150\n",
      "71/71 [==============================] - 1s 11ms/step - loss: 0.6841 - accuracy: 0.7830 - val_loss: 0.7582 - val_accuracy: 0.7685\n",
      "Epoch 79/150\n",
      "71/71 [==============================] - 1s 11ms/step - loss: 0.6885 - accuracy: 0.7786 - val_loss: 0.7473 - val_accuracy: 0.7763\n",
      "Epoch 80/150\n",
      "71/71 [==============================] - 1s 11ms/step - loss: 0.6797 - accuracy: 0.7877 - val_loss: 0.7496 - val_accuracy: 0.7649\n",
      "Epoch 81/150\n",
      "71/71 [==============================] - 1s 12ms/step - loss: 0.6806 - accuracy: 0.7890 - val_loss: 0.7635 - val_accuracy: 0.7706\n",
      "Epoch 82/150\n",
      "71/71 [==============================] - 1s 11ms/step - loss: 0.6766 - accuracy: 0.7866 - val_loss: 0.7687 - val_accuracy: 0.7633\n",
      "Epoch 83/150\n",
      "71/71 [==============================] - 1s 11ms/step - loss: 0.6701 - accuracy: 0.7897 - val_loss: 0.7863 - val_accuracy: 0.7602\n",
      "Epoch 84/150\n",
      "71/71 [==============================] - 1s 11ms/step - loss: 0.6782 - accuracy: 0.7852 - val_loss: 0.7725 - val_accuracy: 0.7664\n",
      "Epoch 85/150\n",
      "71/71 [==============================] - 1s 12ms/step - loss: 0.6769 - accuracy: 0.7857 - val_loss: 0.7760 - val_accuracy: 0.7649\n",
      "Epoch 86/150\n",
      "71/71 [==============================] - 1s 11ms/step - loss: 0.6794 - accuracy: 0.7852 - val_loss: 0.7634 - val_accuracy: 0.7628\n",
      "Epoch 87/150\n",
      "71/71 [==============================] - 1s 12ms/step - loss: 0.6723 - accuracy: 0.7899 - val_loss: 0.7634 - val_accuracy: 0.7716\n",
      "Epoch 88/150\n",
      "71/71 [==============================] - 1s 11ms/step - loss: 0.6671 - accuracy: 0.7928 - val_loss: 0.7510 - val_accuracy: 0.7727\n",
      "Epoch 89/150\n",
      "71/71 [==============================] - 1s 11ms/step - loss: 0.6782 - accuracy: 0.7850 - val_loss: 0.7641 - val_accuracy: 0.7701\n",
      "Epoch 90/150\n",
      "71/71 [==============================] - 1s 11ms/step - loss: 0.6636 - accuracy: 0.7886 - val_loss: 0.7630 - val_accuracy: 0.7701\n",
      "Epoch 91/150\n",
      "71/71 [==============================] - 1s 11ms/step - loss: 0.6726 - accuracy: 0.7897 - val_loss: 0.7544 - val_accuracy: 0.7768\n",
      "Epoch 92/150\n",
      "71/71 [==============================] - 1s 11ms/step - loss: 0.6767 - accuracy: 0.7877 - val_loss: 0.7506 - val_accuracy: 0.7752\n",
      "Epoch 93/150\n",
      "71/71 [==============================] - 1s 11ms/step - loss: 0.6595 - accuracy: 0.7912 - val_loss: 0.7637 - val_accuracy: 0.7680\n",
      "Epoch 94/150\n",
      "71/71 [==============================] - 1s 11ms/step - loss: 0.6699 - accuracy: 0.7944 - val_loss: 0.7514 - val_accuracy: 0.7752\n",
      "Epoch 95/150\n",
      "71/71 [==============================] - 1s 11ms/step - loss: 0.6608 - accuracy: 0.7921 - val_loss: 0.7629 - val_accuracy: 0.7685\n",
      "Epoch 96/150\n",
      "71/71 [==============================] - 1s 12ms/step - loss: 0.6517 - accuracy: 0.8008 - val_loss: 0.7535 - val_accuracy: 0.7654\n",
      "Epoch 97/150\n",
      "71/71 [==============================] - 1s 11ms/step - loss: 0.6606 - accuracy: 0.7917 - val_loss: 0.7714 - val_accuracy: 0.7582\n",
      "Epoch 98/150\n",
      "71/71 [==============================] - 1s 11ms/step - loss: 0.6561 - accuracy: 0.7950 - val_loss: 0.7564 - val_accuracy: 0.7737\n",
      "Epoch 99/150\n",
      "71/71 [==============================] - 1s 12ms/step - loss: 0.6475 - accuracy: 0.7924 - val_loss: 0.7594 - val_accuracy: 0.7799\n",
      "Epoch 100/150\n",
      "71/71 [==============================] - 1s 11ms/step - loss: 0.6464 - accuracy: 0.7906 - val_loss: 0.7620 - val_accuracy: 0.7690\n",
      "Epoch 101/150\n",
      "71/71 [==============================] - 1s 11ms/step - loss: 0.6378 - accuracy: 0.7992 - val_loss: 0.7773 - val_accuracy: 0.7680\n",
      "Epoch 102/150\n",
      "71/71 [==============================] - 1s 12ms/step - loss: 0.6552 - accuracy: 0.7892 - val_loss: 0.7560 - val_accuracy: 0.7664\n",
      "Epoch 103/150\n",
      "71/71 [==============================] - 1s 11ms/step - loss: 0.6474 - accuracy: 0.7950 - val_loss: 0.7574 - val_accuracy: 0.7690\n",
      "Epoch 104/150\n",
      "71/71 [==============================] - 1s 11ms/step - loss: 0.6479 - accuracy: 0.7966 - val_loss: 0.8016 - val_accuracy: 0.7664\n",
      "Epoch 105/150\n",
      "71/71 [==============================] - 1s 11ms/step - loss: 0.6447 - accuracy: 0.7977 - val_loss: 0.7555 - val_accuracy: 0.7778\n",
      "Epoch 106/150\n",
      "71/71 [==============================] - 1s 11ms/step - loss: 0.6428 - accuracy: 0.8015 - val_loss: 0.7628 - val_accuracy: 0.7659\n",
      "Epoch 107/150\n",
      "71/71 [==============================] - 1s 12ms/step - loss: 0.6399 - accuracy: 0.8008 - val_loss: 0.7680 - val_accuracy: 0.7768\n",
      "Epoch 108/150\n",
      "71/71 [==============================] - 1s 11ms/step - loss: 0.6504 - accuracy: 0.7955 - val_loss: 0.7795 - val_accuracy: 0.7659\n",
      "Epoch 109/150\n",
      "71/71 [==============================] - 1s 12ms/step - loss: 0.6367 - accuracy: 0.8001 - val_loss: 0.7707 - val_accuracy: 0.7680\n",
      "Epoch 110/150\n",
      "71/71 [==============================] - 1s 12ms/step - loss: 0.6340 - accuracy: 0.8081 - val_loss: 0.7719 - val_accuracy: 0.7695\n",
      "Epoch 111/150\n",
      "71/71 [==============================] - 1s 12ms/step - loss: 0.6364 - accuracy: 0.8032 - val_loss: 0.7612 - val_accuracy: 0.7727\n",
      "Epoch 112/150\n",
      "71/71 [==============================] - 1s 12ms/step - loss: 0.6323 - accuracy: 0.8050 - val_loss: 0.7702 - val_accuracy: 0.7716\n",
      "Epoch 113/150\n",
      "71/71 [==============================] - 1s 12ms/step - loss: 0.6383 - accuracy: 0.8032 - val_loss: 0.7664 - val_accuracy: 0.7727\n",
      "Epoch 114/150\n",
      "71/71 [==============================] - 1s 12ms/step - loss: 0.6239 - accuracy: 0.8079 - val_loss: 0.7670 - val_accuracy: 0.7664\n",
      "Epoch 115/150\n",
      "71/71 [==============================] - 1s 11ms/step - loss: 0.6403 - accuracy: 0.8015 - val_loss: 0.7777 - val_accuracy: 0.7628\n",
      "Epoch 116/150\n",
      "71/71 [==============================] - 1s 11ms/step - loss: 0.6311 - accuracy: 0.8061 - val_loss: 0.7975 - val_accuracy: 0.7540\n",
      "Epoch 117/150\n",
      "71/71 [==============================] - 1s 11ms/step - loss: 0.6309 - accuracy: 0.8055 - val_loss: 0.8236 - val_accuracy: 0.7556\n",
      "Epoch 118/150\n",
      "71/71 [==============================] - 1s 12ms/step - loss: 0.6431 - accuracy: 0.8024 - val_loss: 0.7596 - val_accuracy: 0.7654\n",
      "Epoch 119/150\n",
      "71/71 [==============================] - 1s 11ms/step - loss: 0.6313 - accuracy: 0.8048 - val_loss: 0.7883 - val_accuracy: 0.7690\n",
      "Epoch 120/150\n",
      "71/71 [==============================] - 1s 11ms/step - loss: 0.6203 - accuracy: 0.8092 - val_loss: 0.7818 - val_accuracy: 0.7711\n",
      "Epoch 121/150\n",
      "71/71 [==============================] - 1s 11ms/step - loss: 0.6189 - accuracy: 0.8050 - val_loss: 0.8078 - val_accuracy: 0.7706\n",
      "Epoch 122/150\n",
      "71/71 [==============================] - 1s 12ms/step - loss: 0.6145 - accuracy: 0.8112 - val_loss: 0.7629 - val_accuracy: 0.7758\n",
      "Epoch 123/150\n",
      "71/71 [==============================] - 1s 12ms/step - loss: 0.6208 - accuracy: 0.8084 - val_loss: 0.7630 - val_accuracy: 0.7711\n",
      "Epoch 124/150\n",
      "71/71 [==============================] - 1s 11ms/step - loss: 0.6217 - accuracy: 0.8084 - val_loss: 0.7640 - val_accuracy: 0.7732\n",
      "Epoch 125/150\n",
      "71/71 [==============================] - 1s 12ms/step - loss: 0.6154 - accuracy: 0.8112 - val_loss: 0.7713 - val_accuracy: 0.7721\n",
      "Epoch 126/150\n",
      "71/71 [==============================] - 1s 11ms/step - loss: 0.6202 - accuracy: 0.8121 - val_loss: 0.7637 - val_accuracy: 0.7778\n",
      "Epoch 127/150\n",
      "71/71 [==============================] - 1s 11ms/step - loss: 0.6180 - accuracy: 0.8092 - val_loss: 0.7798 - val_accuracy: 0.7690\n",
      "Epoch 128/150\n",
      "71/71 [==============================] - 1s 11ms/step - loss: 0.6154 - accuracy: 0.8161 - val_loss: 0.7645 - val_accuracy: 0.7799\n",
      "Epoch 129/150\n",
      "71/71 [==============================] - 1s 12ms/step - loss: 0.6078 - accuracy: 0.8173 - val_loss: 0.7940 - val_accuracy: 0.7721\n",
      "Epoch 130/150\n",
      "71/71 [==============================] - 1s 12ms/step - loss: 0.6248 - accuracy: 0.8035 - val_loss: 0.7783 - val_accuracy: 0.7649\n",
      "Epoch 131/150\n",
      "71/71 [==============================] - 1s 12ms/step - loss: 0.6093 - accuracy: 0.8157 - val_loss: 0.7529 - val_accuracy: 0.7675\n",
      "Epoch 132/150\n",
      "71/71 [==============================] - 1s 11ms/step - loss: 0.6093 - accuracy: 0.8137 - val_loss: 0.8041 - val_accuracy: 0.7633\n",
      "Epoch 133/150\n",
      "71/71 [==============================] - 1s 11ms/step - loss: 0.6169 - accuracy: 0.8099 - val_loss: 0.7833 - val_accuracy: 0.7649\n",
      "Epoch 134/150\n",
      "71/71 [==============================] - 1s 11ms/step - loss: 0.6095 - accuracy: 0.8159 - val_loss: 0.7742 - val_accuracy: 0.7716\n",
      "Epoch 135/150\n",
      "71/71 [==============================] - 1s 12ms/step - loss: 0.5935 - accuracy: 0.8208 - val_loss: 0.7911 - val_accuracy: 0.7670\n",
      "Epoch 136/150\n",
      "71/71 [==============================] - 1s 11ms/step - loss: 0.6007 - accuracy: 0.8221 - val_loss: 0.7630 - val_accuracy: 0.7706\n",
      "Epoch 137/150\n",
      "71/71 [==============================] - 1s 12ms/step - loss: 0.5966 - accuracy: 0.8144 - val_loss: 0.8099 - val_accuracy: 0.7550\n",
      "Epoch 138/150\n",
      "71/71 [==============================] - 1s 12ms/step - loss: 0.6037 - accuracy: 0.8137 - val_loss: 0.7571 - val_accuracy: 0.7727\n",
      "Epoch 139/150\n",
      "71/71 [==============================] - 1s 11ms/step - loss: 0.6150 - accuracy: 0.8075 - val_loss: 0.8098 - val_accuracy: 0.7602\n",
      "Epoch 140/150\n",
      "71/71 [==============================] - 1s 11ms/step - loss: 0.6039 - accuracy: 0.8141 - val_loss: 0.8060 - val_accuracy: 0.7747\n",
      "Epoch 141/150\n",
      "71/71 [==============================] - 1s 11ms/step - loss: 0.6024 - accuracy: 0.8139 - val_loss: 0.7901 - val_accuracy: 0.7752\n",
      "Epoch 142/150\n",
      "71/71 [==============================] - 1s 12ms/step - loss: 0.6099 - accuracy: 0.8084 - val_loss: 0.7948 - val_accuracy: 0.7711\n",
      "Epoch 143/150\n",
      "71/71 [==============================] - 1s 11ms/step - loss: 0.6220 - accuracy: 0.8117 - val_loss: 0.7705 - val_accuracy: 0.7695\n",
      "Epoch 144/150\n",
      "71/71 [==============================] - 1s 12ms/step - loss: 0.5998 - accuracy: 0.8135 - val_loss: 0.7664 - val_accuracy: 0.7701\n",
      "Epoch 145/150\n",
      "71/71 [==============================] - 1s 12ms/step - loss: 0.6089 - accuracy: 0.8141 - val_loss: 0.7817 - val_accuracy: 0.7675\n",
      "Epoch 146/150\n",
      "71/71 [==============================] - 1s 11ms/step - loss: 0.6080 - accuracy: 0.8190 - val_loss: 0.8015 - val_accuracy: 0.7654\n",
      "Epoch 147/150\n",
      "71/71 [==============================] - 1s 11ms/step - loss: 0.5970 - accuracy: 0.8206 - val_loss: 0.7787 - val_accuracy: 0.7773\n",
      "Epoch 148/150\n",
      "71/71 [==============================] - 1s 12ms/step - loss: 0.5989 - accuracy: 0.8159 - val_loss: 0.8046 - val_accuracy: 0.7649\n",
      "Epoch 149/150\n",
      "71/71 [==============================] - 1s 11ms/step - loss: 0.5842 - accuracy: 0.8248 - val_loss: 0.7873 - val_accuracy: 0.7659\n",
      "Epoch 150/150\n",
      "71/71 [==============================] - 1s 12ms/step - loss: 0.5980 - accuracy: 0.8161 - val_loss: 0.7889 - val_accuracy: 0.7716\n"
     ]
    }
   ],
   "source": [
    "epochs=150\n",
    "history = model.fit(\n",
    "  train,\n",
    "  validation_data=test,\n",
    "  epochs=epochs\n",
    ")"
   ]
  },
  {
   "cell_type": "code",
   "execution_count": 14,
   "metadata": {},
   "outputs": [
    {
     "data": {
      "image/png": "[encoded data removed]",
      "text/plain": [
       "<Figure size 576x576 with 2 Axes>"
      ]
     },
     "metadata": {
      "needs_background": "light"
     },
     "output_type": "display_data"
    }
   ],
   "source": [
    "acc = history.history['accuracy']\n",
    "val_acc = history.history['val_accuracy']\n",
    "\n",
    "loss = history.history['loss']\n",
    "val_loss = history.history['val_loss']\n",
    "\n",
    "epochs_range = range(epochs)\n",
    "\n",
    "plt.figure(figsize=(8, 8))\n",
    "plt.subplot(1, 2, 1)\n",
    "plt.plot(epochs_range, acc, label='Training Accuracy')\n",
    "plt.plot(epochs_range, val_acc, label='Validation Accuracy')\n",
    "plt.legend(loc='lower right')\n",
    "plt.title('Training and Validation Accuracy')\n",
    "\n",
    "plt.subplot(1, 2, 2)\n",
    "plt.plot(epochs_range, loss, label='Training Loss')\n",
    "plt.plot(epochs_range, val_loss, label='Validation Loss')\n",
    "plt.legend(loc='upper right')\n",
    "plt.title('Training and Validation Loss')\n",
    "plt.show()"
   ]
  },
  {
   "cell_type": "code",
   "execution_count": 15,
   "metadata": {},
   "outputs": [
    {
     "name": "stdout",
     "output_type": "stream",
     "text": [
      "31/31 [==============================] - 0s 8ms/step - loss: 0.7889 - accuracy: 0.7716\n",
      "Test accuracy : 0.7716209292411804\n"
     ]
    }
   ],
   "source": [
    "loss, accuracy = model.evaluate(test)\n",
    "print('Test accuracy :', accuracy)"
   ]
  },
  {
   "cell_type": "code",
   "execution_count": 16,
   "metadata": {},
   "outputs": [],
   "source": [
    "# Save the entire model as a SavedModel.\n",
    "# model.save('./data/humanModel/mode_v0')\n",
    "model.save('./data/humanModel/model_v0.h5')"
   ]
  },
  {
   "cell_type": "code",
   "execution_count": 17,
   "metadata": {},
   "outputs": [],
   "source": [
    "# save model in js format\n",
    "# import tensorflowjs as tfjs\n",
    "# tfjs.converters.save_keras_model(model, 'data/humanModel/js_model_v0')"
   ]
  },
  {
   "cell_type": "code",
   "execution_count": 18,
   "metadata": {},
   "outputs": [],
   "source": [
    "# new_model = tf.keras.models.load_model('./data/humanModel/mode_v0')\n",
    "\n",
    "# # Check its architecture\n",
    "# new_model.summary()"
   ]
  },
  {
   "cell_type": "markdown",
   "metadata": {},
   "source": [
    "### Predict on new data"
   ]
  },
  {
   "cell_type": "code",
   "execution_count": 19,
   "metadata": {},
   "outputs": [
    {
     "name": "stdout",
     "output_type": "stream",
     "text": [
      "This image most likely belongs to 3 with a 40.46 percent confidence.\n"
     ]
    }
   ],
   "source": [
    "sunflower_path = \"./data/humanModel/imagesDatabase_split/val/39/-MpIqdos7xbOmReSEoMh_10.png\"\n",
    "\n",
    "img = keras.preprocessing.image.load_img(\n",
    "    sunflower_path, target_size=(IMG_SIZE, IMG_SIZE)\n",
    ")\n",
    "img_array = keras.preprocessing.image.img_to_array(img)\n",
    "img_array = tf.expand_dims(img_array, 0) # Create a batch\n",
    "\n",
    "predictions = model.predict(img_array)\n",
    "score = tf.nn.softmax(predictions[0])\n",
    "print(\n",
    "    \"This image most likely belongs to {} with a {:.2f} percent confidence.\"\n",
    "    .format(np.argmax(score), 100 * np.max(score))\n",
    ")"
   ]
  }
 ],
 "metadata": {
  "interpreter": {
   "hash": "ad60775ae12af945b53c5c94c294ef05f229143b8585a0d23625a81e181fdccc"
  },
  "kernelspec": {
   "display_name": "Python 3.7.4 64-bit ('tf-gpu': conda)",
   "name": "python3"
  },
  "language_info": {
   "codemirror_mode": {
    "name": "ipython",
    "version": 3
   },
   "file_extension": ".py",
   "mimetype": "text/x-python",
   "name": "python",
   "nbconvert_exporter": "python",
   "pygments_lexer": "ipython3",
   "version": "3.7.4"
  }
 },
 "nbformat": 4,
 "nbformat_minor": 4
}
