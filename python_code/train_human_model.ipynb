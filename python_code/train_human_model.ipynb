{
 "cells": [
  {
   "cell_type": "code",
   "execution_count": 1,
   "metadata": {},
   "outputs": [],
   "source": [
    "import numpy as np\n",
    "import random\n",
    "import os\n",
    "\n",
    "# ! pip install split-folders\n",
    "import splitfolders\n",
    "\n",
    "import tensorflow as tf\n",
    "from tensorflow import keras\n",
    "from tensorflow.keras import layers, regularizers\n",
    "from tensorflow.keras.models import Sequential\n",
    "\n",
    "\n",
    "import matplotlib.pyplot as plt\n",
    "\n",
    "rs = 42\n",
    "def reset_random_seeds(rs):\n",
    "   os.environ['PYTHONHASHSEED']=str(rs)\n",
    "   tf.random.set_seed(rs)\n",
    "   np.random.seed(rs)\n",
    "   random.seed(rs)\n",
    "reset_random_seeds(rs)"
   ]
  },
  {
   "cell_type": "markdown",
   "metadata": {},
   "source": [
    "# Part 1 - Data Preprocessing"
   ]
  },
  {
   "cell_type": "markdown",
   "metadata": {},
   "source": [
    "## Split into train , test data"
   ]
  },
  {
   "cell_type": "code",
   "execution_count": 2,
   "metadata": {},
   "outputs": [
    {
     "name": "stderr",
     "output_type": "stream",
     "text": [
      "Copying files: 6429 files [00:00, 16340.87 files/s]\n"
     ]
    }
   ],
   "source": [
    "# train, test split\n",
    "splitfolders.ratio('./data/humanModel/imagesDatabase/', output=\"./data/humanModel/imagesDatabase_split\", ratio=(0.7, 0.3))"
   ]
  },
  {
   "cell_type": "markdown",
   "metadata": {},
   "source": [
    "### Preprocessing the Training set"
   ]
  },
  {
   "cell_type": "code",
   "execution_count": 3,
   "metadata": {},
   "outputs": [
    {
     "name": "stdout",
     "output_type": "stream",
     "text": [
      "Found 4498 files belonging to 5 classes.\n",
      "Found 1931 files belonging to 5 classes.\n",
      "['32', '37', '38', '39', '40']\n"
     ]
    },
    {
     "name": "stderr",
     "output_type": "stream",
     "text": [
      "2021-11-25 11:13:49.225971: I tensorflow/stream_executor/cuda/cuda_gpu_executor.cc:937] successful NUMA node read from SysFS had negative value (-1), but there must be at least one NUMA node, so returning NUMA node zero\n",
      "2021-11-25 11:13:49.230234: I tensorflow/stream_executor/cuda/cuda_gpu_executor.cc:937] successful NUMA node read from SysFS had negative value (-1), but there must be at least one NUMA node, so returning NUMA node zero\n",
      "2021-11-25 11:13:49.230573: I tensorflow/stream_executor/cuda/cuda_gpu_executor.cc:937] successful NUMA node read from SysFS had negative value (-1), but there must be at least one NUMA node, so returning NUMA node zero\n",
      "2021-11-25 11:13:49.231046: I tensorflow/core/platform/cpu_feature_guard.cc:142] This TensorFlow binary is optimized with oneAPI Deep Neural Network Library (oneDNN) to use the following CPU instructions in performance-critical operations:  AVX2 FMA\n",
      "To enable them in other operations, rebuild TensorFlow with the appropriate compiler flags.\n",
      "2021-11-25 11:13:49.231423: I tensorflow/stream_executor/cuda/cuda_gpu_executor.cc:937] successful NUMA node read from SysFS had negative value (-1), but there must be at least one NUMA node, so returning NUMA node zero\n",
      "2021-11-25 11:13:49.231705: I tensorflow/stream_executor/cuda/cuda_gpu_executor.cc:937] successful NUMA node read from SysFS had negative value (-1), but there must be at least one NUMA node, so returning NUMA node zero\n",
      "2021-11-25 11:13:49.231972: I tensorflow/stream_executor/cuda/cuda_gpu_executor.cc:937] successful NUMA node read from SysFS had negative value (-1), but there must be at least one NUMA node, so returning NUMA node zero\n",
      "2021-11-25 11:13:49.525612: I tensorflow/stream_executor/cuda/cuda_gpu_executor.cc:937] successful NUMA node read from SysFS had negative value (-1), but there must be at least one NUMA node, so returning NUMA node zero\n",
      "2021-11-25 11:13:49.525946: I tensorflow/stream_executor/cuda/cuda_gpu_executor.cc:937] successful NUMA node read from SysFS had negative value (-1), but there must be at least one NUMA node, so returning NUMA node zero\n",
      "2021-11-25 11:13:49.526232: I tensorflow/stream_executor/cuda/cuda_gpu_executor.cc:937] successful NUMA node read from SysFS had negative value (-1), but there must be at least one NUMA node, so returning NUMA node zero\n",
      "2021-11-25 11:13:49.526508: I tensorflow/core/common_runtime/gpu/gpu_device.cc:1510] Created device /job:localhost/replica:0/task:0/device:GPU:0 with 11144 MB memory:  -> device: 0, name: NVIDIA TITAN X (Pascal), pci bus id: 0000:01:00.0, compute capability: 6.1\n"
     ]
    }
   ],
   "source": [
    "batch_size = 64\n",
    "img_height = 10\n",
    "img_width = 10\n",
    "\n",
    "train_ds = tf.keras.preprocessing.image_dataset_from_directory(\n",
    "  './data/humanModel/imagesDatabase_split/train',\n",
    "  seed=rs,\n",
    "  image_size=(img_height, img_width),\n",
    "  batch_size=batch_size)\n",
    "\n",
    "val_ds = tf.keras.preprocessing.image_dataset_from_directory(\n",
    "  './data/humanModel/imagesDatabase_split/val',\n",
    "  seed=rs,\n",
    "  image_size=(img_height, img_width),\n",
    "  batch_size=batch_size)\n",
    "\n",
    "class_names = train_ds.class_names\n",
    "print(class_names)"
   ]
  },
  {
   "cell_type": "code",
   "execution_count": 4,
   "metadata": {},
   "outputs": [],
   "source": [
    "AUTOTUNE = tf.data.AUTOTUNE\n",
    "\n",
    "train_ds = train_ds.cache().shuffle(1000).prefetch(buffer_size=AUTOTUNE)\n",
    "val_ds = val_ds.cache().prefetch(buffer_size=AUTOTUNE)"
   ]
  },
  {
   "cell_type": "markdown",
   "metadata": {},
   "source": [
    "## View some data"
   ]
  },
  {
   "cell_type": "code",
   "execution_count": 5,
   "metadata": {},
   "outputs": [
    {
     "name": "stderr",
     "output_type": "stream",
     "text": [
      "2021-11-25 11:13:49.782407: I tensorflow/compiler/mlir/mlir_graph_optimization_pass.cc:185] None of the MLIR Optimization Passes are enabled (registered 2)\n"
     ]
    },
    {
     "data": {
      "image/png": "[encoded data removed]",
      "text/plain": [
       "<Figure size 720x720 with 6 Axes>"
      ]
     },
     "metadata": {
      "needs_background": "light"
     },
     "output_type": "display_data"
    }
   ],
   "source": [
    "plt.figure(figsize=(10, 10))\n",
    "for images, labels in train_ds.take(1):\n",
    "    for i in range(6):\n",
    "        ax = plt.subplot(3, 3, i + 1)\n",
    "        plt.imshow(images[i].numpy().astype(\"uint8\"))\n",
    "        plt.title(class_names[labels[i]])\n",
    "        plt.axis(\"off\")"
   ]
  },
  {
   "cell_type": "code",
   "execution_count": 6,
   "metadata": {},
   "outputs": [],
   "source": [
    "num_classes = 5\n",
    "\n",
    "model = Sequential([\n",
    "  layers.experimental.preprocessing.Rescaling(1./255, input_shape=(img_height, img_width, 3)),\n",
    "  # layers.Conv2D(16, 3, padding='same', activation='elu', kernel_regularizer=regularizers.l2(0.001)),\n",
    "  layers.Conv2D(32, 3, padding='same', activation='elu', kernel_regularizer=regularizers.l2(0.0001)),\n",
    "  layers.Conv2D(64, 3, padding='same', activation='elu', kernel_regularizer=regularizers.l2(0.0001)),\n",
    "  layers.MaxPooling2D(),\n",
    "  layers.Conv2D(32, 3, padding='same', activation='elu', kernel_regularizer=regularizers.l2(0.0001)),\n",
    "  layers.Conv2D(64, 3, padding='same', activation='elu', kernel_regularizer=regularizers.l2(0.0001)),\n",
    "  layers.MaxPooling2D(),\n",
    "  layers.Conv2D(64, 3, padding='same', activation='elu', kernel_regularizer=regularizers.l2(0.0001)),\n",
    "  layers.MaxPooling2D(),\n",
    "  layers.Dropout(0.5),\n",
    "  layers.Flatten(),\n",
    "  layers.Dense(512, activation='elu', kernel_regularizer=regularizers.l2(0.0001)),\n",
    "  layers.Dense(128, activation='elu', kernel_regularizer=regularizers.l2(0.0001)),\n",
    "  layers.Dense(32, activation='elu', kernel_regularizer=regularizers.l2(0.0001)),\n",
    "  layers.Dense(num_classes)\n",
    "])"
   ]
  },
  {
   "cell_type": "code",
   "execution_count": 7,
   "metadata": {},
   "outputs": [],
   "source": [
    "model.compile(optimizer='adam',\n",
    "              loss=tf.keras.losses.SparseCategoricalCrossentropy(from_logits=True),\n",
    "              metrics=['accuracy'])"
   ]
  },
  {
   "cell_type": "code",
   "execution_count": 8,
   "metadata": {},
   "outputs": [
    {
     "name": "stdout",
     "output_type": "stream",
     "text": [
      "Model: \"sequential\"\n",
      "_________________________________________________________________\n",
      "Layer (type)                 Output Shape              Param #   \n",
      "=================================================================\n",
      "rescaling (Rescaling)        (None, 10, 10, 3)         0         \n",
      "_________________________________________________________________\n",
      "conv2d (Conv2D)              (None, 10, 10, 32)        896       \n",
      "_________________________________________________________________\n",
      "conv2d_1 (Conv2D)            (None, 10, 10, 64)        18496     \n",
      "_________________________________________________________________\n",
      "max_pooling2d (MaxPooling2D) (None, 5, 5, 64)          0         \n",
      "_________________________________________________________________\n",
      "conv2d_2 (Conv2D)            (None, 5, 5, 32)          18464     \n",
      "_________________________________________________________________\n",
      "conv2d_3 (Conv2D)            (None, 5, 5, 64)          18496     \n",
      "_________________________________________________________________\n",
      "max_pooling2d_1 (MaxPooling2 (None, 2, 2, 64)          0         \n",
      "_________________________________________________________________\n",
      "conv2d_4 (Conv2D)            (None, 2, 2, 64)          36928     \n",
      "_________________________________________________________________\n",
      "max_pooling2d_2 (MaxPooling2 (None, 1, 1, 64)          0         \n",
      "_________________________________________________________________\n",
      "dropout (Dropout)            (None, 1, 1, 64)          0         \n",
      "_________________________________________________________________\n",
      "flatten (Flatten)            (None, 64)                0         \n",
      "_________________________________________________________________\n",
      "dense (Dense)                (None, 512)               33280     \n",
      "_________________________________________________________________\n",
      "dense_1 (Dense)              (None, 128)               65664     \n",
      "_________________________________________________________________\n",
      "dense_2 (Dense)              (None, 32)                4128      \n",
      "_________________________________________________________________\n",
      "dense_3 (Dense)              (None, 5)                 165       \n",
      "=================================================================\n",
      "Total params: 196,517\n",
      "Trainable params: 196,517\n",
      "Non-trainable params: 0\n",
      "_________________________________________________________________\n"
     ]
    }
   ],
   "source": [
    "model.summary()"
   ]
  },
  {
   "cell_type": "code",
   "execution_count": 9,
   "metadata": {
    "scrolled": true
   },
   "outputs": [
    {
     "name": "stdout",
     "output_type": "stream",
     "text": [
      "Epoch 1/50\n"
     ]
    },
    {
     "name": "stderr",
     "output_type": "stream",
     "text": [
      "2021-11-25 11:13:51.153241: I tensorflow/stream_executor/cuda/cuda_dnn.cc:369] Loaded cuDNN version 8300\n"
     ]
    },
    {
     "name": "stdout",
     "output_type": "stream",
     "text": [
      "71/71 [==============================] - 2s 7ms/step - loss: 1.3657 - accuracy: 0.4471 - val_loss: 1.0834 - val_accuracy: 0.5955\n",
      "Epoch 2/50\n",
      "71/71 [==============================] - 0s 4ms/step - loss: 1.0958 - accuracy: 0.5871 - val_loss: 1.0141 - val_accuracy: 0.6608\n",
      "Epoch 3/50\n",
      "71/71 [==============================] - 0s 3ms/step - loss: 0.9666 - accuracy: 0.6474 - val_loss: 0.8558 - val_accuracy: 0.6908\n",
      "Epoch 4/50\n",
      "71/71 [==============================] - 0s 3ms/step - loss: 0.8918 - accuracy: 0.6843 - val_loss: 0.8545 - val_accuracy: 0.6976\n",
      "Epoch 5/50\n",
      "71/71 [==============================] - 0s 3ms/step - loss: 0.8485 - accuracy: 0.6979 - val_loss: 0.8349 - val_accuracy: 0.7100\n",
      "Epoch 6/50\n",
      "71/71 [==============================] - 0s 3ms/step - loss: 0.7935 - accuracy: 0.7150 - val_loss: 0.7668 - val_accuracy: 0.7292\n",
      "Epoch 7/50\n",
      "71/71 [==============================] - 0s 3ms/step - loss: 0.7687 - accuracy: 0.7359 - val_loss: 0.7420 - val_accuracy: 0.7421\n",
      "Epoch 8/50\n",
      "71/71 [==============================] - 0s 3ms/step - loss: 0.7203 - accuracy: 0.7521 - val_loss: 0.7157 - val_accuracy: 0.7597\n",
      "Epoch 9/50\n",
      "71/71 [==============================] - 0s 3ms/step - loss: 0.6846 - accuracy: 0.7614 - val_loss: 0.7255 - val_accuracy: 0.7540\n",
      "Epoch 10/50\n",
      "71/71 [==============================] - 0s 4ms/step - loss: 0.6800 - accuracy: 0.7628 - val_loss: 0.7378 - val_accuracy: 0.7380\n",
      "Epoch 11/50\n",
      "71/71 [==============================] - 0s 3ms/step - loss: 0.6684 - accuracy: 0.7692 - val_loss: 0.7392 - val_accuracy: 0.7566\n",
      "Epoch 12/50\n",
      "71/71 [==============================] - 0s 3ms/step - loss: 0.6256 - accuracy: 0.7770 - val_loss: 0.7591 - val_accuracy: 0.7245\n",
      "Epoch 13/50\n",
      "71/71 [==============================] - 0s 3ms/step - loss: 0.6339 - accuracy: 0.7792 - val_loss: 0.7418 - val_accuracy: 0.7416\n",
      "Epoch 14/50\n",
      "71/71 [==============================] - 0s 3ms/step - loss: 0.6039 - accuracy: 0.7908 - val_loss: 0.7008 - val_accuracy: 0.7587\n",
      "Epoch 15/50\n",
      "71/71 [==============================] - 0s 3ms/step - loss: 0.5854 - accuracy: 0.8021 - val_loss: 0.7022 - val_accuracy: 0.7571\n",
      "Epoch 16/50\n",
      "71/71 [==============================] - 0s 3ms/step - loss: 0.5686 - accuracy: 0.8015 - val_loss: 0.6866 - val_accuracy: 0.7680\n",
      "Epoch 17/50\n",
      "71/71 [==============================] - 0s 3ms/step - loss: 0.5592 - accuracy: 0.8010 - val_loss: 0.7031 - val_accuracy: 0.7623\n",
      "Epoch 18/50\n",
      "71/71 [==============================] - 0s 4ms/step - loss: 0.5385 - accuracy: 0.8148 - val_loss: 0.7355 - val_accuracy: 0.7535\n",
      "Epoch 19/50\n",
      "71/71 [==============================] - 0s 3ms/step - loss: 0.5447 - accuracy: 0.8161 - val_loss: 0.6930 - val_accuracy: 0.7680\n",
      "Epoch 20/50\n",
      "71/71 [==============================] - 0s 3ms/step - loss: 0.5278 - accuracy: 0.8213 - val_loss: 0.6993 - val_accuracy: 0.7675\n",
      "Epoch 21/50\n",
      "71/71 [==============================] - 0s 3ms/step - loss: 0.5080 - accuracy: 0.8297 - val_loss: 0.6967 - val_accuracy: 0.7840\n",
      "Epoch 22/50\n",
      "71/71 [==============================] - 0s 3ms/step - loss: 0.5129 - accuracy: 0.8366 - val_loss: 0.7096 - val_accuracy: 0.7809\n",
      "Epoch 23/50\n",
      "71/71 [==============================] - 0s 3ms/step - loss: 0.5030 - accuracy: 0.8241 - val_loss: 0.7031 - val_accuracy: 0.7711\n",
      "Epoch 24/50\n",
      "71/71 [==============================] - 0s 3ms/step - loss: 0.4934 - accuracy: 0.8324 - val_loss: 0.7062 - val_accuracy: 0.7752\n",
      "Epoch 25/50\n",
      "71/71 [==============================] - 0s 3ms/step - loss: 0.4708 - accuracy: 0.8410 - val_loss: 0.6980 - val_accuracy: 0.7649\n",
      "Epoch 26/50\n",
      "71/71 [==============================] - 0s 3ms/step - loss: 0.4792 - accuracy: 0.8415 - val_loss: 0.7546 - val_accuracy: 0.7550\n",
      "Epoch 27/50\n",
      "71/71 [==============================] - 0s 3ms/step - loss: 0.4638 - accuracy: 0.8468 - val_loss: 0.7128 - val_accuracy: 0.7768\n",
      "Epoch 28/50\n",
      "71/71 [==============================] - 0s 3ms/step - loss: 0.4357 - accuracy: 0.8582 - val_loss: 0.7113 - val_accuracy: 0.7794\n",
      "Epoch 29/50\n",
      "71/71 [==============================] - 0s 3ms/step - loss: 0.4550 - accuracy: 0.8457 - val_loss: 0.7053 - val_accuracy: 0.7799\n",
      "Epoch 30/50\n",
      "71/71 [==============================] - 0s 3ms/step - loss: 0.4399 - accuracy: 0.8546 - val_loss: 0.7372 - val_accuracy: 0.7639\n",
      "Epoch 31/50\n",
      "71/71 [==============================] - 0s 3ms/step - loss: 0.4404 - accuracy: 0.8535 - val_loss: 0.7498 - val_accuracy: 0.7659\n",
      "Epoch 32/50\n",
      "71/71 [==============================] - 0s 3ms/step - loss: 0.4327 - accuracy: 0.8584 - val_loss: 0.7510 - val_accuracy: 0.7773\n",
      "Epoch 33/50\n",
      "71/71 [==============================] - 0s 3ms/step - loss: 0.4117 - accuracy: 0.8675 - val_loss: 0.7610 - val_accuracy: 0.7752\n",
      "Epoch 34/50\n",
      "71/71 [==============================] - 0s 4ms/step - loss: 0.4261 - accuracy: 0.8566 - val_loss: 0.7432 - val_accuracy: 0.7784\n",
      "Epoch 35/50\n",
      "71/71 [==============================] - 0s 3ms/step - loss: 0.4230 - accuracy: 0.8577 - val_loss: 0.7666 - val_accuracy: 0.7737\n",
      "Epoch 36/50\n",
      "71/71 [==============================] - 0s 3ms/step - loss: 0.4008 - accuracy: 0.8664 - val_loss: 0.7996 - val_accuracy: 0.7716\n",
      "Epoch 37/50\n",
      "71/71 [==============================] - 0s 3ms/step - loss: 0.4039 - accuracy: 0.8664 - val_loss: 0.8085 - val_accuracy: 0.7758\n",
      "Epoch 38/50\n",
      "71/71 [==============================] - 0s 3ms/step - loss: 0.4016 - accuracy: 0.8604 - val_loss: 0.8009 - val_accuracy: 0.7727\n",
      "Epoch 39/50\n",
      "71/71 [==============================] - 0s 4ms/step - loss: 0.4058 - accuracy: 0.8657 - val_loss: 0.7753 - val_accuracy: 0.7752\n",
      "Epoch 40/50\n",
      "71/71 [==============================] - 0s 3ms/step - loss: 0.3916 - accuracy: 0.8722 - val_loss: 0.8145 - val_accuracy: 0.7721\n",
      "Epoch 41/50\n",
      "71/71 [==============================] - 0s 3ms/step - loss: 0.3873 - accuracy: 0.8697 - val_loss: 0.7908 - val_accuracy: 0.7758\n",
      "Epoch 42/50\n",
      "71/71 [==============================] - 0s 3ms/step - loss: 0.3886 - accuracy: 0.8726 - val_loss: 0.7977 - val_accuracy: 0.7784\n",
      "Epoch 43/50\n",
      "71/71 [==============================] - 0s 3ms/step - loss: 0.3790 - accuracy: 0.8693 - val_loss: 0.8376 - val_accuracy: 0.7778\n",
      "Epoch 44/50\n",
      "71/71 [==============================] - 0s 3ms/step - loss: 0.3792 - accuracy: 0.8724 - val_loss: 0.8295 - val_accuracy: 0.7732\n",
      "Epoch 45/50\n",
      "71/71 [==============================] - 0s 4ms/step - loss: 0.3800 - accuracy: 0.8733 - val_loss: 0.7933 - val_accuracy: 0.7830\n",
      "Epoch 46/50\n",
      "71/71 [==============================] - 0s 3ms/step - loss: 0.3749 - accuracy: 0.8757 - val_loss: 0.7888 - val_accuracy: 0.7778\n",
      "Epoch 47/50\n",
      "71/71 [==============================] - 0s 3ms/step - loss: 0.3800 - accuracy: 0.8768 - val_loss: 0.8300 - val_accuracy: 0.7778\n",
      "Epoch 48/50\n",
      "71/71 [==============================] - 0s 3ms/step - loss: 0.3727 - accuracy: 0.8802 - val_loss: 0.8299 - val_accuracy: 0.7815\n",
      "Epoch 49/50\n",
      "71/71 [==============================] - 0s 3ms/step - loss: 0.3650 - accuracy: 0.8819 - val_loss: 0.8109 - val_accuracy: 0.7830\n",
      "Epoch 50/50\n",
      "71/71 [==============================] - 0s 3ms/step - loss: 0.3489 - accuracy: 0.8886 - val_loss: 0.8808 - val_accuracy: 0.7680\n"
     ]
    }
   ],
   "source": [
    "epochs=50\n",
    "history = model.fit(\n",
    "  train_ds,\n",
    "  validation_data=val_ds,\n",
    "  epochs=epochs\n",
    ")"
   ]
  },
  {
   "cell_type": "code",
   "execution_count": 10,
   "metadata": {},
   "outputs": [
    {
     "data": {
      "image/png": "[encoded data removed]",
      "text/plain": [
       "<Figure size 576x576 with 2 Axes>"
      ]
     },
     "metadata": {
      "needs_background": "light"
     },
     "output_type": "display_data"
    }
   ],
   "source": [
    "acc = history.history['accuracy']\n",
    "val_acc = history.history['val_accuracy']\n",
    "\n",
    "loss = history.history['loss']\n",
    "val_loss = history.history['val_loss']\n",
    "\n",
    "epochs_range = range(epochs)\n",
    "\n",
    "plt.figure(figsize=(8, 8))\n",
    "plt.subplot(1, 2, 1)\n",
    "plt.plot(epochs_range, acc, label='Training Accuracy')\n",
    "plt.plot(epochs_range, val_acc, label='Validation Accuracy')\n",
    "plt.legend(loc='lower right')\n",
    "plt.title('Training and Validation Accuracy')\n",
    "\n",
    "plt.subplot(1, 2, 2)\n",
    "plt.plot(epochs_range, loss, label='Training Loss')\n",
    "plt.plot(epochs_range, val_loss, label='Validation Loss')\n",
    "plt.legend(loc='upper right')\n",
    "plt.title('Training and Validation Loss')\n",
    "plt.show()"
   ]
  },
  {
   "cell_type": "code",
   "execution_count": 11,
   "metadata": {},
   "outputs": [
    {
     "name": "stdout",
     "output_type": "stream",
     "text": [
      "31/31 [==============================] - 0s 1ms/step - loss: 0.8808 - accuracy: 0.7680\n",
      "Test accuracy : 0.7679958343505859\n"
     ]
    }
   ],
   "source": [
    "loss, accuracy = model.evaluate(val_ds)\n",
    "print('Test accuracy :', accuracy)"
   ]
  },
  {
   "cell_type": "code",
   "execution_count": 12,
   "metadata": {},
   "outputs": [
    {
     "name": "stderr",
     "output_type": "stream",
     "text": [
      "2021-11-25 11:14:03.453681: W tensorflow/python/util/util.cc:348] Sets are not currently considered sequences, but this may change in the future, so consider avoiding using them.\n"
     ]
    },
    {
     "name": "stdout",
     "output_type": "stream",
     "text": [
      "INFO:tensorflow:Assets written to: ./data/humanModel/mode_v0/assets\n"
     ]
    }
   ],
   "source": [
    "# Save the entire model as a SavedModel.\n",
    "model.save('./data/humanModel/mode_v0')"
   ]
  },
  {
   "cell_type": "code",
   "execution_count": 13,
   "metadata": {},
   "outputs": [],
   "source": [
    "# new_model = tf.keras.models.load_model('./data/humanModel/mode_v0')\n",
    "\n",
    "# # Check its architecture\n",
    "# new_model.summary()"
   ]
  },
  {
   "cell_type": "markdown",
   "metadata": {},
   "source": [
    "### Predict on new data"
   ]
  },
  {
   "cell_type": "code",
   "execution_count": 20,
   "metadata": {},
   "outputs": [
    {
     "name": "stdout",
     "output_type": "stream",
     "text": [
      "This image most likely belongs to 39 with a 99.67 percent confidence.\n"
     ]
    }
   ],
   "source": [
    "sunflower_path = \"./data/humanModel/imagesDatabase_split/val/39/-MpIqdos7xbOmReSEoMh_10.png\"\n",
    "\n",
    "img = keras.preprocessing.image.load_img(\n",
    "    sunflower_path, target_size=(img_height, img_width)\n",
    ")\n",
    "img_array = keras.preprocessing.image.img_to_array(img)\n",
    "img_array = tf.expand_dims(img_array, 0) # Create a batch\n",
    "\n",
    "predictions = model.predict(img_array)\n",
    "score = tf.nn.softmax(predictions[0])\n",
    "\n",
    "print(\n",
    "    \"This image most likely belongs to {} with a {:.2f} percent confidence.\"\n",
    "    .format(class_names[np.argmax(score)], 100 * np.max(score))\n",
    ")"
   ]
  }
 ],
 "metadata": {
  "interpreter": {
   "hash": "ad60775ae12af945b53c5c94c294ef05f229143b8585a0d23625a81e181fdccc"
  },
  "kernelspec": {
   "display_name": "Python 3.7.4 64-bit ('tf-gpu': conda)",
   "name": "python3"
  },
  "language_info": {
   "codemirror_mode": {
    "name": "ipython",
    "version": 3
   },
   "file_extension": ".py",
   "mimetype": "text/x-python",
   "name": "python",
   "nbconvert_exporter": "python",
   "pygments_lexer": "ipython3",
   "version": "3.7.4"
  }
 },
 "nbformat": 4,
 "nbformat_minor": 4
}
