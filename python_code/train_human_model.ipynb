{
 "cells": [
  {
   "cell_type": "code",
   "execution_count": 1,
   "metadata": {},
   "outputs": [],
   "source": [
    "import numpy as np\n",
    "import random\n",
    "import os\n",
    "\n",
    "# ! pip install split-folders\n",
    "import splitfolders\n",
    "\n",
    "import tensorflow as tf\n",
    "from tensorflow import keras\n",
    "from tensorflow.keras import layers, regularizers\n",
    "from tensorflow.keras.models import Sequential\n",
    "\n",
    "\n",
    "import matplotlib.pyplot as plt\n",
    "\n",
    "rs = 42\n",
    "def reset_random_seeds(rs):\n",
    "   os.environ['PYTHONHASHSEED']=str(rs)\n",
    "   tf.random.set_seed(rs)\n",
    "   np.random.seed(rs)\n",
    "   random.seed(rs)\n",
    "reset_random_seeds(rs)"
   ]
  },
  {
   "cell_type": "markdown",
   "metadata": {},
   "source": [
    "# Part 1 - Data Preprocessing"
   ]
  },
  {
   "cell_type": "markdown",
   "metadata": {},
   "source": [
    "## Split into train , test data"
   ]
  },
  {
   "cell_type": "code",
   "execution_count": 2,
   "metadata": {},
   "outputs": [
    {
     "name": "stderr",
     "output_type": "stream",
     "text": [
      "Copying files: 6429 files [00:00, 13623.50 files/s]\n"
     ]
    }
   ],
   "source": [
    "# train, test split\n",
    "splitfolders.ratio('./data/humanModel/imagesDatabase/', output=\"./data/humanModel/imagesDatabase_split\", ratio=(0.7, 0.3))"
   ]
  },
  {
   "cell_type": "markdown",
   "metadata": {},
   "source": [
    "### Preprocessing the Training set"
   ]
  },
  {
   "cell_type": "code",
   "execution_count": 3,
   "metadata": {},
   "outputs": [
    {
     "name": "stderr",
     "output_type": "stream",
     "text": [
      "2021-11-25 12:56:14.557528: I tensorflow/stream_executor/cuda/cuda_gpu_executor.cc:937] successful NUMA node read from SysFS had negative value (-1), but there must be at least one NUMA node, so returning NUMA node zero\n",
      "2021-11-25 12:56:14.562062: I tensorflow/stream_executor/cuda/cuda_gpu_executor.cc:937] successful NUMA node read from SysFS had negative value (-1), but there must be at least one NUMA node, so returning NUMA node zero\n",
      "2021-11-25 12:56:14.562392: I tensorflow/stream_executor/cuda/cuda_gpu_executor.cc:937] successful NUMA node read from SysFS had negative value (-1), but there must be at least one NUMA node, so returning NUMA node zero\n"
     ]
    },
    {
     "name": "stdout",
     "output_type": "stream",
     "text": [
      "Found 4498 files belonging to 5 classes.\n",
      "Found 1931 files belonging to 5 classes.\n",
      "['32', '37', '38', '39', '40']\n"
     ]
    },
    {
     "name": "stderr",
     "output_type": "stream",
     "text": [
      "2021-11-25 12:56:14.563355: I tensorflow/core/platform/cpu_feature_guard.cc:142] This TensorFlow binary is optimized with oneAPI Deep Neural Network Library (oneDNN) to use the following CPU instructions in performance-critical operations:  AVX2 FMA\n",
      "To enable them in other operations, rebuild TensorFlow with the appropriate compiler flags.\n",
      "2021-11-25 12:56:14.563772: I tensorflow/stream_executor/cuda/cuda_gpu_executor.cc:937] successful NUMA node read from SysFS had negative value (-1), but there must be at least one NUMA node, so returning NUMA node zero\n",
      "2021-11-25 12:56:14.564102: I tensorflow/stream_executor/cuda/cuda_gpu_executor.cc:937] successful NUMA node read from SysFS had negative value (-1), but there must be at least one NUMA node, so returning NUMA node zero\n",
      "2021-11-25 12:56:14.564405: I tensorflow/stream_executor/cuda/cuda_gpu_executor.cc:937] successful NUMA node read from SysFS had negative value (-1), but there must be at least one NUMA node, so returning NUMA node zero\n",
      "2021-11-25 12:56:14.844794: I tensorflow/stream_executor/cuda/cuda_gpu_executor.cc:937] successful NUMA node read from SysFS had negative value (-1), but there must be at least one NUMA node, so returning NUMA node zero\n",
      "2021-11-25 12:56:14.845107: I tensorflow/stream_executor/cuda/cuda_gpu_executor.cc:937] successful NUMA node read from SysFS had negative value (-1), but there must be at least one NUMA node, so returning NUMA node zero\n",
      "2021-11-25 12:56:14.845413: I tensorflow/stream_executor/cuda/cuda_gpu_executor.cc:937] successful NUMA node read from SysFS had negative value (-1), but there must be at least one NUMA node, so returning NUMA node zero\n",
      "2021-11-25 12:56:14.845670: I tensorflow/core/common_runtime/gpu/gpu_device.cc:1510] Created device /job:localhost/replica:0/task:0/device:GPU:0 with 11164 MB memory:  -> device: 0, name: NVIDIA TITAN X (Pascal), pci bus id: 0000:01:00.0, compute capability: 6.1\n"
     ]
    }
   ],
   "source": [
    "batch_size = 64\n",
    "img_height = 10\n",
    "img_width = 10\n",
    "\n",
    "train_ds = tf.keras.preprocessing.image_dataset_from_directory(\n",
    "  './data/humanModel/imagesDatabase_split/train',\n",
    "  seed=rs,\n",
    "  image_size=(img_height, img_width),\n",
    "  batch_size=batch_size)\n",
    "\n",
    "val_ds = tf.keras.preprocessing.image_dataset_from_directory(\n",
    "  './data/humanModel/imagesDatabase_split/val',\n",
    "  seed=rs,\n",
    "  image_size=(img_height, img_width),\n",
    "  batch_size=batch_size)\n",
    "\n",
    "class_names = train_ds.class_names\n",
    "print(class_names)"
   ]
  },
  {
   "cell_type": "code",
   "execution_count": 4,
   "metadata": {},
   "outputs": [],
   "source": [
    "AUTOTUNE = tf.data.AUTOTUNE\n",
    "\n",
    "train_ds = train_ds.cache().shuffle(1000).prefetch(buffer_size=AUTOTUNE)\n",
    "val_ds = val_ds.cache().prefetch(buffer_size=AUTOTUNE)"
   ]
  },
  {
   "cell_type": "markdown",
   "metadata": {},
   "source": [
    "## View some data"
   ]
  },
  {
   "cell_type": "code",
   "execution_count": 5,
   "metadata": {},
   "outputs": [
    {
     "name": "stderr",
     "output_type": "stream",
     "text": [
      "2021-11-25 12:56:15.105590: I tensorflow/compiler/mlir/mlir_graph_optimization_pass.cc:185] None of the MLIR Optimization Passes are enabled (registered 2)\n"
     ]
    },
    {
     "data": {
      "image/png": "[encoded data removed]",
      "text/plain": [
       "<Figure size 720x720 with 6 Axes>"
      ]
     },
     "metadata": {
      "needs_background": "light"
     },
     "output_type": "display_data"
    }
   ],
   "source": [
    "plt.figure(figsize=(10, 10))\n",
    "for images, labels in train_ds.take(1):\n",
    "    for i in range(6):\n",
    "        ax = plt.subplot(3, 3, i + 1)\n",
    "        plt.imshow(images[i].numpy().astype(\"uint8\"))\n",
    "        plt.title(class_names[labels[i]])\n",
    "        plt.axis(\"off\")"
   ]
  },
  {
   "cell_type": "code",
   "execution_count": 6,
   "metadata": {},
   "outputs": [],
   "source": [
    "num_classes = 5\n",
    "\n",
    "model = Sequential([\n",
    "  layers.experimental.preprocessing.Rescaling(1./255, input_shape=(img_height, img_width, 3)),\n",
    "  layers.Conv2D(8, 4, padding='same', activation='relu', kernel_regularizer=regularizers.l2(0.001)),\n",
    "  layers.Conv2D(16, 4, padding='same', activation='relu', kernel_regularizer=regularizers.l2(0.001)),\n",
    "  layers.MaxPooling2D(),\n",
    "  layers.Conv2D(8, 3, padding='same', activation='relu', kernel_regularizer=regularizers.l2(0.001)),\n",
    "  layers.Dropout(0.5),\n",
    "  layers.Flatten(),\n",
    "  # layers.Dense(512, activation='elu', kernel_regularizer=regularizers.l2(0.0001)),\n",
    "  # layers.Dense(128, activation='elu', kernel_regularizer=regularizers.l2(0.0001)),\n",
    "  layers.Dense(32, activation='relu', kernel_regularizer=regularizers.l2(0.001)),\n",
    "  layers.Dense(num_classes, activation='softmax')\n",
    "])"
   ]
  },
  {
   "cell_type": "code",
   "execution_count": 7,
   "metadata": {},
   "outputs": [],
   "source": [
    "model.compile(optimizer='adam',\n",
    "              loss=tf.keras.losses.SparseCategoricalCrossentropy(from_logits=True),\n",
    "              metrics=['accuracy'])"
   ]
  },
  {
   "cell_type": "code",
   "execution_count": 8,
   "metadata": {},
   "outputs": [
    {
     "name": "stdout",
     "output_type": "stream",
     "text": [
      "Model: \"sequential\"\n",
      "_________________________________________________________________\n",
      "Layer (type)                 Output Shape              Param #   \n",
      "=================================================================\n",
      "rescaling (Rescaling)        (None, 10, 10, 3)         0         \n",
      "_________________________________________________________________\n",
      "conv2d (Conv2D)              (None, 10, 10, 8)         392       \n",
      "_________________________________________________________________\n",
      "conv2d_1 (Conv2D)            (None, 10, 10, 16)        2064      \n",
      "_________________________________________________________________\n",
      "max_pooling2d (MaxPooling2D) (None, 5, 5, 16)          0         \n",
      "_________________________________________________________________\n",
      "conv2d_2 (Conv2D)            (None, 5, 5, 8)           1160      \n",
      "_________________________________________________________________\n",
      "dropout (Dropout)            (None, 5, 5, 8)           0         \n",
      "_________________________________________________________________\n",
      "flatten (Flatten)            (None, 200)               0         \n",
      "_________________________________________________________________\n",
      "dense (Dense)                (None, 32)                6432      \n",
      "_________________________________________________________________\n",
      "dense_1 (Dense)              (None, 5)                 165       \n",
      "=================================================================\n",
      "Total params: 10,213\n",
      "Trainable params: 10,213\n",
      "Non-trainable params: 0\n",
      "_________________________________________________________________\n"
     ]
    }
   ],
   "source": [
    "model.summary()"
   ]
  },
  {
   "cell_type": "code",
   "execution_count": 9,
   "metadata": {
    "scrolled": true
   },
   "outputs": [
    {
     "name": "stdout",
     "output_type": "stream",
     "text": [
      "Epoch 1/150\n"
     ]
    },
    {
     "name": "stderr",
     "output_type": "stream",
     "text": [
      "/home/ido/anaconda3/envs/tf-gpu/lib/python3.7/site-packages/keras/backend.py:4907: UserWarning: \"`sparse_categorical_crossentropy` received `from_logits=True`, but the `output` argument was produced by a sigmoid or softmax activation and thus does not represent logits. Was this intended?\"\n",
      "  '\"`sparse_categorical_crossentropy` received `from_logits=True`, but '\n",
      "2021-11-25 12:56:16.089761: I tensorflow/stream_executor/cuda/cuda_dnn.cc:369] Loaded cuDNN version 8300\n"
     ]
    },
    {
     "name": "stdout",
     "output_type": "stream",
     "text": [
      "71/71 [==============================] - 1s 4ms/step - loss: 1.6405 - accuracy: 0.2570 - val_loss: 1.5696 - val_accuracy: 0.2796\n",
      "Epoch 2/150\n",
      "71/71 [==============================] - 0s 2ms/step - loss: 1.4575 - accuracy: 0.3960 - val_loss: 1.2794 - val_accuracy: 0.5028\n",
      "Epoch 3/150\n",
      "71/71 [==============================] - 0s 2ms/step - loss: 1.2753 - accuracy: 0.5069 - val_loss: 1.1712 - val_accuracy: 0.5748\n",
      "Epoch 4/150\n",
      "71/71 [==============================] - 0s 2ms/step - loss: 1.2239 - accuracy: 0.5420 - val_loss: 1.1005 - val_accuracy: 0.6106\n",
      "Epoch 5/150\n",
      "71/71 [==============================] - 0s 2ms/step - loss: 1.1456 - accuracy: 0.5725 - val_loss: 1.0555 - val_accuracy: 0.6168\n",
      "Epoch 6/150\n",
      "71/71 [==============================] - 0s 3ms/step - loss: 1.1118 - accuracy: 0.5851 - val_loss: 1.0289 - val_accuracy: 0.6359\n",
      "Epoch 7/150\n",
      "71/71 [==============================] - 0s 2ms/step - loss: 1.0874 - accuracy: 0.5954 - val_loss: 1.0062 - val_accuracy: 0.6515\n",
      "Epoch 8/150\n",
      "71/71 [==============================] - 0s 2ms/step - loss: 1.0677 - accuracy: 0.6120 - val_loss: 0.9811 - val_accuracy: 0.6691\n",
      "Epoch 9/150\n",
      "71/71 [==============================] - 0s 2ms/step - loss: 1.0576 - accuracy: 0.6174 - val_loss: 0.9653 - val_accuracy: 0.6598\n",
      "Epoch 10/150\n",
      "71/71 [==============================] - 0s 2ms/step - loss: 1.0366 - accuracy: 0.6301 - val_loss: 0.9474 - val_accuracy: 0.6691\n",
      "Epoch 11/150\n",
      "71/71 [==============================] - 0s 2ms/step - loss: 1.0151 - accuracy: 0.6314 - val_loss: 0.9303 - val_accuracy: 0.6665\n",
      "Epoch 12/150\n",
      "71/71 [==============================] - 0s 2ms/step - loss: 1.0056 - accuracy: 0.6378 - val_loss: 0.9566 - val_accuracy: 0.6447\n",
      "Epoch 13/150\n",
      "71/71 [==============================] - 0s 2ms/step - loss: 0.9921 - accuracy: 0.6476 - val_loss: 0.9065 - val_accuracy: 0.6903\n",
      "Epoch 14/150\n",
      "71/71 [==============================] - 0s 2ms/step - loss: 0.9739 - accuracy: 0.6474 - val_loss: 0.8855 - val_accuracy: 0.7038\n",
      "Epoch 15/150\n",
      "71/71 [==============================] - 0s 2ms/step - loss: 0.9718 - accuracy: 0.6516 - val_loss: 0.8749 - val_accuracy: 0.7033\n",
      "Epoch 16/150\n",
      "71/71 [==============================] - 0s 2ms/step - loss: 0.9447 - accuracy: 0.6630 - val_loss: 0.8679 - val_accuracy: 0.7027\n",
      "Epoch 17/150\n",
      "71/71 [==============================] - 0s 2ms/step - loss: 0.9484 - accuracy: 0.6670 - val_loss: 0.8773 - val_accuracy: 0.7126\n",
      "Epoch 18/150\n",
      "71/71 [==============================] - 0s 2ms/step - loss: 0.9289 - accuracy: 0.6756 - val_loss: 0.8777 - val_accuracy: 0.7074\n",
      "Epoch 19/150\n",
      "71/71 [==============================] - 0s 2ms/step - loss: 0.9240 - accuracy: 0.6703 - val_loss: 0.8469 - val_accuracy: 0.7224\n",
      "Epoch 20/150\n",
      "71/71 [==============================] - 0s 2ms/step - loss: 0.9141 - accuracy: 0.6779 - val_loss: 0.8531 - val_accuracy: 0.7235\n",
      "Epoch 21/150\n",
      "71/71 [==============================] - 0s 2ms/step - loss: 0.9114 - accuracy: 0.6745 - val_loss: 0.8439 - val_accuracy: 0.7183\n",
      "Epoch 22/150\n",
      "71/71 [==============================] - 0s 2ms/step - loss: 0.8991 - accuracy: 0.6881 - val_loss: 0.8330 - val_accuracy: 0.7214\n",
      "Epoch 23/150\n",
      "71/71 [==============================] - 0s 2ms/step - loss: 0.8992 - accuracy: 0.6870 - val_loss: 0.8391 - val_accuracy: 0.7255\n",
      "Epoch 24/150\n",
      "71/71 [==============================] - 0s 2ms/step - loss: 0.8908 - accuracy: 0.6948 - val_loss: 0.8301 - val_accuracy: 0.7281\n",
      "Epoch 25/150\n",
      "71/71 [==============================] - 0s 2ms/step - loss: 0.8805 - accuracy: 0.6939 - val_loss: 0.8199 - val_accuracy: 0.7416\n",
      "Epoch 26/150\n",
      "71/71 [==============================] - 0s 2ms/step - loss: 0.8739 - accuracy: 0.6970 - val_loss: 0.8184 - val_accuracy: 0.7354\n",
      "Epoch 27/150\n",
      "71/71 [==============================] - 0s 2ms/step - loss: 0.8738 - accuracy: 0.6999 - val_loss: 0.8052 - val_accuracy: 0.7333\n",
      "Epoch 28/150\n",
      "71/71 [==============================] - 0s 2ms/step - loss: 0.8599 - accuracy: 0.7061 - val_loss: 0.8115 - val_accuracy: 0.7421\n",
      "Epoch 29/150\n",
      "71/71 [==============================] - 0s 3ms/step - loss: 0.8535 - accuracy: 0.7005 - val_loss: 0.8020 - val_accuracy: 0.7380\n",
      "Epoch 30/150\n",
      "71/71 [==============================] - 0s 2ms/step - loss: 0.8394 - accuracy: 0.7141 - val_loss: 0.8034 - val_accuracy: 0.7297\n",
      "Epoch 31/150\n",
      "71/71 [==============================] - 0s 2ms/step - loss: 0.8471 - accuracy: 0.7096 - val_loss: 0.7985 - val_accuracy: 0.7400\n",
      "Epoch 32/150\n",
      "71/71 [==============================] - 0s 2ms/step - loss: 0.8457 - accuracy: 0.7128 - val_loss: 0.7895 - val_accuracy: 0.7369\n",
      "Epoch 33/150\n",
      "71/71 [==============================] - 0s 2ms/step - loss: 0.8410 - accuracy: 0.7065 - val_loss: 0.7890 - val_accuracy: 0.7400\n",
      "Epoch 34/150\n",
      "71/71 [==============================] - 0s 2ms/step - loss: 0.8260 - accuracy: 0.7208 - val_loss: 0.7823 - val_accuracy: 0.7442\n",
      "Epoch 35/150\n",
      "71/71 [==============================] - 0s 2ms/step - loss: 0.8272 - accuracy: 0.7190 - val_loss: 0.7871 - val_accuracy: 0.7421\n",
      "Epoch 36/150\n",
      "71/71 [==============================] - 0s 2ms/step - loss: 0.8336 - accuracy: 0.7112 - val_loss: 0.7846 - val_accuracy: 0.7421\n",
      "Epoch 37/150\n",
      "71/71 [==============================] - 0s 2ms/step - loss: 0.8165 - accuracy: 0.7119 - val_loss: 0.7944 - val_accuracy: 0.7478\n",
      "Epoch 38/150\n",
      "71/71 [==============================] - 0s 2ms/step - loss: 0.8219 - accuracy: 0.7239 - val_loss: 0.7924 - val_accuracy: 0.7442\n",
      "Epoch 39/150\n",
      "71/71 [==============================] - 0s 2ms/step - loss: 0.8155 - accuracy: 0.7279 - val_loss: 0.7805 - val_accuracy: 0.7488\n",
      "Epoch 40/150\n",
      "71/71 [==============================] - 0s 2ms/step - loss: 0.8216 - accuracy: 0.7221 - val_loss: 0.7774 - val_accuracy: 0.7504\n",
      "Epoch 41/150\n",
      "71/71 [==============================] - 0s 2ms/step - loss: 0.8026 - accuracy: 0.7308 - val_loss: 0.7765 - val_accuracy: 0.7509\n",
      "Epoch 42/150\n",
      "71/71 [==============================] - 0s 2ms/step - loss: 0.8049 - accuracy: 0.7279 - val_loss: 0.7742 - val_accuracy: 0.7561\n",
      "Epoch 43/150\n",
      "71/71 [==============================] - 0s 2ms/step - loss: 0.8159 - accuracy: 0.7197 - val_loss: 0.7722 - val_accuracy: 0.7535\n",
      "Epoch 44/150\n",
      "71/71 [==============================] - 0s 2ms/step - loss: 0.7929 - accuracy: 0.7317 - val_loss: 0.7719 - val_accuracy: 0.7457\n",
      "Epoch 45/150\n",
      "71/71 [==============================] - 0s 2ms/step - loss: 0.7994 - accuracy: 0.7248 - val_loss: 0.7707 - val_accuracy: 0.7550\n",
      "Epoch 46/150\n",
      "71/71 [==============================] - 0s 2ms/step - loss: 0.7970 - accuracy: 0.7350 - val_loss: 0.7672 - val_accuracy: 0.7514\n",
      "Epoch 47/150\n",
      "71/71 [==============================] - 0s 2ms/step - loss: 0.7955 - accuracy: 0.7265 - val_loss: 0.7599 - val_accuracy: 0.7628\n",
      "Epoch 48/150\n",
      "71/71 [==============================] - 0s 2ms/step - loss: 0.7888 - accuracy: 0.7343 - val_loss: 0.7807 - val_accuracy: 0.7530\n",
      "Epoch 49/150\n",
      "71/71 [==============================] - 0s 2ms/step - loss: 0.7763 - accuracy: 0.7374 - val_loss: 0.7629 - val_accuracy: 0.7602\n",
      "Epoch 50/150\n",
      "71/71 [==============================] - 0s 2ms/step - loss: 0.7889 - accuracy: 0.7330 - val_loss: 0.7570 - val_accuracy: 0.7587\n",
      "Epoch 51/150\n",
      "71/71 [==============================] - 0s 2ms/step - loss: 0.7867 - accuracy: 0.7388 - val_loss: 0.7668 - val_accuracy: 0.7597\n",
      "Epoch 52/150\n",
      "71/71 [==============================] - 0s 2ms/step - loss: 0.7788 - accuracy: 0.7383 - val_loss: 0.7715 - val_accuracy: 0.7540\n",
      "Epoch 53/150\n",
      "71/71 [==============================] - 0s 2ms/step - loss: 0.7789 - accuracy: 0.7401 - val_loss: 0.7593 - val_accuracy: 0.7576\n",
      "Epoch 54/150\n",
      "71/71 [==============================] - 0s 2ms/step - loss: 0.7725 - accuracy: 0.7368 - val_loss: 0.7628 - val_accuracy: 0.7550\n",
      "Epoch 55/150\n",
      "71/71 [==============================] - 0s 2ms/step - loss: 0.7702 - accuracy: 0.7452 - val_loss: 0.7568 - val_accuracy: 0.7639\n",
      "Epoch 56/150\n",
      "71/71 [==============================] - 0s 2ms/step - loss: 0.7618 - accuracy: 0.7439 - val_loss: 0.7546 - val_accuracy: 0.7639\n",
      "Epoch 57/150\n",
      "71/71 [==============================] - 0s 2ms/step - loss: 0.7655 - accuracy: 0.7417 - val_loss: 0.7673 - val_accuracy: 0.7509\n",
      "Epoch 58/150\n",
      "71/71 [==============================] - 0s 2ms/step - loss: 0.7732 - accuracy: 0.7419 - val_loss: 0.7549 - val_accuracy: 0.7561\n",
      "Epoch 59/150\n",
      "71/71 [==============================] - 0s 2ms/step - loss: 0.7626 - accuracy: 0.7428 - val_loss: 0.7487 - val_accuracy: 0.7582\n",
      "Epoch 60/150\n",
      "71/71 [==============================] - 0s 2ms/step - loss: 0.7600 - accuracy: 0.7517 - val_loss: 0.7660 - val_accuracy: 0.7519\n",
      "Epoch 61/150\n",
      "71/71 [==============================] - 0s 2ms/step - loss: 0.7506 - accuracy: 0.7503 - val_loss: 0.7467 - val_accuracy: 0.7587\n",
      "Epoch 62/150\n",
      "71/71 [==============================] - 0s 2ms/step - loss: 0.7478 - accuracy: 0.7479 - val_loss: 0.7517 - val_accuracy: 0.7732\n",
      "Epoch 63/150\n",
      "71/71 [==============================] - 0s 2ms/step - loss: 0.7627 - accuracy: 0.7508 - val_loss: 0.7513 - val_accuracy: 0.7607\n",
      "Epoch 64/150\n",
      "71/71 [==============================] - 0s 2ms/step - loss: 0.7592 - accuracy: 0.7499 - val_loss: 0.7496 - val_accuracy: 0.7582\n",
      "Epoch 65/150\n",
      "71/71 [==============================] - 0s 2ms/step - loss: 0.7594 - accuracy: 0.7517 - val_loss: 0.7724 - val_accuracy: 0.7628\n",
      "Epoch 66/150\n",
      "71/71 [==============================] - 0s 2ms/step - loss: 0.7638 - accuracy: 0.7503 - val_loss: 0.7550 - val_accuracy: 0.7587\n",
      "Epoch 67/150\n",
      "71/71 [==============================] - 0s 2ms/step - loss: 0.7529 - accuracy: 0.7457 - val_loss: 0.7502 - val_accuracy: 0.7639\n",
      "Epoch 68/150\n",
      "71/71 [==============================] - 0s 2ms/step - loss: 0.7369 - accuracy: 0.7612 - val_loss: 0.7463 - val_accuracy: 0.7695\n",
      "Epoch 69/150\n",
      "71/71 [==============================] - 0s 2ms/step - loss: 0.7440 - accuracy: 0.7548 - val_loss: 0.7451 - val_accuracy: 0.7597\n",
      "Epoch 70/150\n",
      "71/71 [==============================] - 0s 2ms/step - loss: 0.7428 - accuracy: 0.7583 - val_loss: 0.7559 - val_accuracy: 0.7623\n",
      "Epoch 71/150\n",
      "71/71 [==============================] - 0s 2ms/step - loss: 0.7407 - accuracy: 0.7534 - val_loss: 0.7626 - val_accuracy: 0.7550\n",
      "Epoch 72/150\n",
      "71/71 [==============================] - 0s 2ms/step - loss: 0.7395 - accuracy: 0.7563 - val_loss: 0.7546 - val_accuracy: 0.7654\n",
      "Epoch 73/150\n",
      "71/71 [==============================] - 0s 2ms/step - loss: 0.7398 - accuracy: 0.7548 - val_loss: 0.7526 - val_accuracy: 0.7639\n",
      "Epoch 74/150\n",
      "71/71 [==============================] - 0s 2ms/step - loss: 0.7376 - accuracy: 0.7552 - val_loss: 0.7424 - val_accuracy: 0.7628\n",
      "Epoch 75/150\n",
      "71/71 [==============================] - 0s 2ms/step - loss: 0.7338 - accuracy: 0.7592 - val_loss: 0.7461 - val_accuracy: 0.7613\n",
      "Epoch 76/150\n",
      "71/71 [==============================] - 0s 2ms/step - loss: 0.7271 - accuracy: 0.7592 - val_loss: 0.7539 - val_accuracy: 0.7582\n",
      "Epoch 77/150\n",
      "71/71 [==============================] - 0s 2ms/step - loss: 0.7257 - accuracy: 0.7614 - val_loss: 0.7408 - val_accuracy: 0.7633\n",
      "Epoch 78/150\n",
      "71/71 [==============================] - 0s 2ms/step - loss: 0.7194 - accuracy: 0.7626 - val_loss: 0.7445 - val_accuracy: 0.7602\n",
      "Epoch 79/150\n",
      "71/71 [==============================] - 0s 2ms/step - loss: 0.7280 - accuracy: 0.7655 - val_loss: 0.7442 - val_accuracy: 0.7576\n",
      "Epoch 80/150\n",
      "71/71 [==============================] - 0s 2ms/step - loss: 0.7188 - accuracy: 0.7657 - val_loss: 0.7404 - val_accuracy: 0.7670\n",
      "Epoch 81/150\n",
      "71/71 [==============================] - 0s 2ms/step - loss: 0.7306 - accuracy: 0.7601 - val_loss: 0.7480 - val_accuracy: 0.7623\n",
      "Epoch 82/150\n",
      "71/71 [==============================] - 0s 2ms/step - loss: 0.7226 - accuracy: 0.7675 - val_loss: 0.7508 - val_accuracy: 0.7675\n",
      "Epoch 83/150\n",
      "71/71 [==============================] - 0s 2ms/step - loss: 0.7219 - accuracy: 0.7601 - val_loss: 0.7406 - val_accuracy: 0.7639\n",
      "Epoch 84/150\n",
      "71/71 [==============================] - 0s 2ms/step - loss: 0.7140 - accuracy: 0.7681 - val_loss: 0.7534 - val_accuracy: 0.7582\n",
      "Epoch 85/150\n",
      "71/71 [==============================] - 0s 2ms/step - loss: 0.7197 - accuracy: 0.7612 - val_loss: 0.7421 - val_accuracy: 0.7613\n",
      "Epoch 86/150\n",
      "71/71 [==============================] - 0s 2ms/step - loss: 0.7103 - accuracy: 0.7655 - val_loss: 0.7398 - val_accuracy: 0.7711\n",
      "Epoch 87/150\n",
      "71/71 [==============================] - 0s 2ms/step - loss: 0.7141 - accuracy: 0.7666 - val_loss: 0.7417 - val_accuracy: 0.7654\n",
      "Epoch 88/150\n",
      "71/71 [==============================] - 0s 2ms/step - loss: 0.7030 - accuracy: 0.7688 - val_loss: 0.7376 - val_accuracy: 0.7701\n",
      "Epoch 89/150\n",
      "71/71 [==============================] - 0s 2ms/step - loss: 0.7249 - accuracy: 0.7617 - val_loss: 0.7412 - val_accuracy: 0.7659\n",
      "Epoch 90/150\n",
      "71/71 [==============================] - 0s 2ms/step - loss: 0.7088 - accuracy: 0.7712 - val_loss: 0.7511 - val_accuracy: 0.7659\n",
      "Epoch 91/150\n",
      "71/71 [==============================] - 0s 2ms/step - loss: 0.6969 - accuracy: 0.7683 - val_loss: 0.7571 - val_accuracy: 0.7576\n",
      "Epoch 92/150\n",
      "71/71 [==============================] - 0s 2ms/step - loss: 0.7032 - accuracy: 0.7670 - val_loss: 0.7395 - val_accuracy: 0.7685\n",
      "Epoch 93/150\n",
      "71/71 [==============================] - 0s 2ms/step - loss: 0.7009 - accuracy: 0.7701 - val_loss: 0.7360 - val_accuracy: 0.7716\n",
      "Epoch 94/150\n",
      "71/71 [==============================] - 0s 2ms/step - loss: 0.7067 - accuracy: 0.7657 - val_loss: 0.7479 - val_accuracy: 0.7706\n",
      "Epoch 95/150\n",
      "71/71 [==============================] - 0s 2ms/step - loss: 0.6959 - accuracy: 0.7730 - val_loss: 0.7410 - val_accuracy: 0.7623\n",
      "Epoch 96/150\n",
      "71/71 [==============================] - 0s 2ms/step - loss: 0.7086 - accuracy: 0.7741 - val_loss: 0.7459 - val_accuracy: 0.7670\n",
      "Epoch 97/150\n",
      "71/71 [==============================] - 0s 2ms/step - loss: 0.7017 - accuracy: 0.7712 - val_loss: 0.7379 - val_accuracy: 0.7747\n",
      "Epoch 98/150\n",
      "71/71 [==============================] - 0s 2ms/step - loss: 0.6989 - accuracy: 0.7703 - val_loss: 0.7315 - val_accuracy: 0.7706\n",
      "Epoch 99/150\n",
      "71/71 [==============================] - 0s 2ms/step - loss: 0.7068 - accuracy: 0.7726 - val_loss: 0.7400 - val_accuracy: 0.7752\n",
      "Epoch 100/150\n",
      "71/71 [==============================] - 0s 2ms/step - loss: 0.6885 - accuracy: 0.7699 - val_loss: 0.7398 - val_accuracy: 0.7675\n",
      "Epoch 101/150\n",
      "71/71 [==============================] - 0s 2ms/step - loss: 0.6921 - accuracy: 0.7690 - val_loss: 0.7316 - val_accuracy: 0.7747\n",
      "Epoch 102/150\n",
      "71/71 [==============================] - 0s 2ms/step - loss: 0.6840 - accuracy: 0.7795 - val_loss: 0.7407 - val_accuracy: 0.7706\n",
      "Epoch 103/150\n",
      "71/71 [==============================] - 0s 2ms/step - loss: 0.7001 - accuracy: 0.7739 - val_loss: 0.7430 - val_accuracy: 0.7773\n",
      "Epoch 104/150\n",
      "71/71 [==============================] - 0s 2ms/step - loss: 0.6951 - accuracy: 0.7717 - val_loss: 0.7384 - val_accuracy: 0.7680\n",
      "Epoch 105/150\n",
      "71/71 [==============================] - 0s 2ms/step - loss: 0.6838 - accuracy: 0.7710 - val_loss: 0.7319 - val_accuracy: 0.7778\n",
      "Epoch 106/150\n",
      "71/71 [==============================] - 0s 2ms/step - loss: 0.6733 - accuracy: 0.7895 - val_loss: 0.7375 - val_accuracy: 0.7695\n",
      "Epoch 107/150\n",
      "71/71 [==============================] - 0s 2ms/step - loss: 0.6939 - accuracy: 0.7803 - val_loss: 0.7392 - val_accuracy: 0.7695\n",
      "Epoch 108/150\n",
      "71/71 [==============================] - 0s 2ms/step - loss: 0.6853 - accuracy: 0.7763 - val_loss: 0.7510 - val_accuracy: 0.7659\n",
      "Epoch 109/150\n",
      "71/71 [==============================] - 0s 2ms/step - loss: 0.6833 - accuracy: 0.7743 - val_loss: 0.7322 - val_accuracy: 0.7778\n",
      "Epoch 110/150\n",
      "71/71 [==============================] - 0s 2ms/step - loss: 0.6752 - accuracy: 0.7839 - val_loss: 0.7416 - val_accuracy: 0.7695\n",
      "Epoch 111/150\n",
      "71/71 [==============================] - 0s 2ms/step - loss: 0.6802 - accuracy: 0.7770 - val_loss: 0.7401 - val_accuracy: 0.7716\n",
      "Epoch 112/150\n",
      "71/71 [==============================] - 0s 2ms/step - loss: 0.6733 - accuracy: 0.7895 - val_loss: 0.7404 - val_accuracy: 0.7732\n",
      "Epoch 113/150\n",
      "71/71 [==============================] - 0s 2ms/step - loss: 0.6749 - accuracy: 0.7863 - val_loss: 0.7441 - val_accuracy: 0.7695\n",
      "Epoch 114/150\n",
      "71/71 [==============================] - 0s 2ms/step - loss: 0.6746 - accuracy: 0.7808 - val_loss: 0.7516 - val_accuracy: 0.7690\n",
      "Epoch 115/150\n",
      "71/71 [==============================] - 0s 2ms/step - loss: 0.6756 - accuracy: 0.7803 - val_loss: 0.7518 - val_accuracy: 0.7721\n",
      "Epoch 116/150\n",
      "71/71 [==============================] - 0s 2ms/step - loss: 0.6675 - accuracy: 0.7850 - val_loss: 0.7502 - val_accuracy: 0.7664\n",
      "Epoch 117/150\n",
      "71/71 [==============================] - 0s 2ms/step - loss: 0.6777 - accuracy: 0.7823 - val_loss: 0.7339 - val_accuracy: 0.7773\n",
      "Epoch 118/150\n",
      "71/71 [==============================] - 0s 2ms/step - loss: 0.6815 - accuracy: 0.7779 - val_loss: 0.7418 - val_accuracy: 0.7752\n",
      "Epoch 119/150\n",
      "71/71 [==============================] - 0s 2ms/step - loss: 0.6902 - accuracy: 0.7715 - val_loss: 0.7373 - val_accuracy: 0.7773\n",
      "Epoch 120/150\n",
      "71/71 [==============================] - 0s 2ms/step - loss: 0.6750 - accuracy: 0.7781 - val_loss: 0.7429 - val_accuracy: 0.7758\n",
      "Epoch 121/150\n",
      "71/71 [==============================] - 0s 2ms/step - loss: 0.6688 - accuracy: 0.7810 - val_loss: 0.7371 - val_accuracy: 0.7737\n",
      "Epoch 122/150\n",
      "71/71 [==============================] - 0s 2ms/step - loss: 0.6661 - accuracy: 0.7799 - val_loss: 0.7342 - val_accuracy: 0.7721\n",
      "Epoch 123/150\n",
      "71/71 [==============================] - 0s 2ms/step - loss: 0.6630 - accuracy: 0.7861 - val_loss: 0.7369 - val_accuracy: 0.7758\n",
      "Epoch 124/150\n",
      "71/71 [==============================] - 0s 2ms/step - loss: 0.6616 - accuracy: 0.7810 - val_loss: 0.7443 - val_accuracy: 0.7654\n",
      "Epoch 125/150\n",
      "71/71 [==============================] - 0s 2ms/step - loss: 0.6651 - accuracy: 0.7839 - val_loss: 0.7328 - val_accuracy: 0.7737\n",
      "Epoch 126/150\n",
      "71/71 [==============================] - 0s 2ms/step - loss: 0.6714 - accuracy: 0.7819 - val_loss: 0.7363 - val_accuracy: 0.7758\n",
      "Epoch 127/150\n",
      "71/71 [==============================] - 0s 2ms/step - loss: 0.6660 - accuracy: 0.7863 - val_loss: 0.7344 - val_accuracy: 0.7768\n",
      "Epoch 128/150\n",
      "71/71 [==============================] - 0s 2ms/step - loss: 0.6604 - accuracy: 0.7884 - val_loss: 0.7386 - val_accuracy: 0.7742\n",
      "Epoch 129/150\n",
      "71/71 [==============================] - 0s 2ms/step - loss: 0.6564 - accuracy: 0.7961 - val_loss: 0.7402 - val_accuracy: 0.7680\n",
      "Epoch 130/150\n",
      "71/71 [==============================] - 0s 2ms/step - loss: 0.6610 - accuracy: 0.7881 - val_loss: 0.7361 - val_accuracy: 0.7716\n",
      "Epoch 131/150\n",
      "71/71 [==============================] - 0s 2ms/step - loss: 0.6591 - accuracy: 0.7875 - val_loss: 0.7464 - val_accuracy: 0.7670\n",
      "Epoch 132/150\n",
      "71/71 [==============================] - 0s 2ms/step - loss: 0.6666 - accuracy: 0.7837 - val_loss: 0.7306 - val_accuracy: 0.7773\n",
      "Epoch 133/150\n",
      "71/71 [==============================] - 0s 2ms/step - loss: 0.6582 - accuracy: 0.7859 - val_loss: 0.7386 - val_accuracy: 0.7716\n",
      "Epoch 134/150\n",
      "71/71 [==============================] - 0s 2ms/step - loss: 0.6500 - accuracy: 0.7924 - val_loss: 0.7442 - val_accuracy: 0.7706\n",
      "Epoch 135/150\n",
      "71/71 [==============================] - 0s 2ms/step - loss: 0.6578 - accuracy: 0.7843 - val_loss: 0.7297 - val_accuracy: 0.7773\n",
      "Epoch 136/150\n",
      "71/71 [==============================] - 0s 2ms/step - loss: 0.6492 - accuracy: 0.7928 - val_loss: 0.7450 - val_accuracy: 0.7752\n",
      "Epoch 137/150\n",
      "71/71 [==============================] - 0s 2ms/step - loss: 0.6559 - accuracy: 0.7839 - val_loss: 0.7414 - val_accuracy: 0.7701\n",
      "Epoch 138/150\n",
      "71/71 [==============================] - 0s 3ms/step - loss: 0.6585 - accuracy: 0.7846 - val_loss: 0.7346 - val_accuracy: 0.7763\n",
      "Epoch 139/150\n",
      "71/71 [==============================] - 0s 2ms/step - loss: 0.6604 - accuracy: 0.7901 - val_loss: 0.7290 - val_accuracy: 0.7887\n",
      "Epoch 140/150\n",
      "71/71 [==============================] - 0s 2ms/step - loss: 0.6487 - accuracy: 0.7919 - val_loss: 0.7464 - val_accuracy: 0.7799\n",
      "Epoch 141/150\n",
      "71/71 [==============================] - 0s 2ms/step - loss: 0.6516 - accuracy: 0.7888 - val_loss: 0.7367 - val_accuracy: 0.7742\n",
      "Epoch 142/150\n",
      "71/71 [==============================] - 0s 2ms/step - loss: 0.6541 - accuracy: 0.7863 - val_loss: 0.7366 - val_accuracy: 0.7727\n",
      "Epoch 143/150\n",
      "71/71 [==============================] - 0s 2ms/step - loss: 0.6644 - accuracy: 0.7868 - val_loss: 0.7397 - val_accuracy: 0.7747\n",
      "Epoch 144/150\n",
      "71/71 [==============================] - 0s 2ms/step - loss: 0.6427 - accuracy: 0.7995 - val_loss: 0.7289 - val_accuracy: 0.7763\n",
      "Epoch 145/150\n",
      "71/71 [==============================] - 0s 2ms/step - loss: 0.6407 - accuracy: 0.7930 - val_loss: 0.7301 - val_accuracy: 0.7773\n",
      "Epoch 146/150\n",
      "71/71 [==============================] - 0s 2ms/step - loss: 0.6427 - accuracy: 0.7912 - val_loss: 0.7451 - val_accuracy: 0.7752\n",
      "Epoch 147/150\n",
      "71/71 [==============================] - 0s 2ms/step - loss: 0.6488 - accuracy: 0.7955 - val_loss: 0.7410 - val_accuracy: 0.7778\n",
      "Epoch 148/150\n",
      "71/71 [==============================] - 0s 2ms/step - loss: 0.6446 - accuracy: 0.7937 - val_loss: 0.7590 - val_accuracy: 0.7711\n",
      "Epoch 149/150\n",
      "71/71 [==============================] - 0s 2ms/step - loss: 0.6373 - accuracy: 0.7930 - val_loss: 0.7384 - val_accuracy: 0.7732\n",
      "Epoch 150/150\n",
      "71/71 [==============================] - 0s 2ms/step - loss: 0.6436 - accuracy: 0.7981 - val_loss: 0.7333 - val_accuracy: 0.7773\n"
     ]
    }
   ],
   "source": [
    "epochs=150\n",
    "history = model.fit(\n",
    "  train_ds,\n",
    "  validation_data=val_ds,\n",
    "  epochs=epochs\n",
    ")"
   ]
  },
  {
   "cell_type": "code",
   "execution_count": 10,
   "metadata": {},
   "outputs": [
    {
     "data": {
      "image/png": "[encoded data removed]",
      "text/plain": [
       "<Figure size 576x576 with 2 Axes>"
      ]
     },
     "metadata": {
      "needs_background": "light"
     },
     "output_type": "display_data"
    }
   ],
   "source": [
    "acc = history.history['accuracy']\n",
    "val_acc = history.history['val_accuracy']\n",
    "\n",
    "loss = history.history['loss']\n",
    "val_loss = history.history['val_loss']\n",
    "\n",
    "epochs_range = range(epochs)\n",
    "\n",
    "plt.figure(figsize=(8, 8))\n",
    "plt.subplot(1, 2, 1)\n",
    "plt.plot(epochs_range, acc, label='Training Accuracy')\n",
    "plt.plot(epochs_range, val_acc, label='Validation Accuracy')\n",
    "plt.legend(loc='lower right')\n",
    "plt.title('Training and Validation Accuracy')\n",
    "\n",
    "plt.subplot(1, 2, 2)\n",
    "plt.plot(epochs_range, loss, label='Training Loss')\n",
    "plt.plot(epochs_range, val_loss, label='Validation Loss')\n",
    "plt.legend(loc='upper right')\n",
    "plt.title('Training and Validation Loss')\n",
    "plt.show()"
   ]
  },
  {
   "cell_type": "code",
   "execution_count": 11,
   "metadata": {},
   "outputs": [
    {
     "name": "stdout",
     "output_type": "stream",
     "text": [
      "31/31 [==============================] - 0s 943us/step - loss: 0.7333 - accuracy: 0.7773\n",
      "Test accuracy : 0.777317464351654\n"
     ]
    }
   ],
   "source": [
    "loss, accuracy = model.evaluate(val_ds)\n",
    "print('Test accuracy :', accuracy)"
   ]
  },
  {
   "cell_type": "code",
   "execution_count": 12,
   "metadata": {},
   "outputs": [],
   "source": [
    "# Save the entire model as a SavedModel.\n",
    "# model.save('./data/humanModel/mode_v0')\n",
    "model.save('./data/humanModel/model_v0.h5')"
   ]
  },
  {
   "cell_type": "code",
   "execution_count": 13,
   "metadata": {},
   "outputs": [],
   "source": [
    "# save model in js format\n",
    "import tensorflowjs as tfjs\n",
    "tfjs.converters.save_keras_model(model, 'data/humanModel/js_model_v0')"
   ]
  },
  {
   "cell_type": "code",
   "execution_count": 14,
   "metadata": {},
   "outputs": [],
   "source": [
    "# new_model = tf.keras.models.load_model('./data/humanModel/mode_v0')\n",
    "\n",
    "# # Check its architecture\n",
    "# new_model.summary()"
   ]
  },
  {
   "cell_type": "markdown",
   "metadata": {},
   "source": [
    "### Predict on new data"
   ]
  },
  {
   "cell_type": "code",
   "execution_count": 15,
   "metadata": {},
   "outputs": [
    {
     "name": "stdout",
     "output_type": "stream",
     "text": [
      "This image most likely belongs to 39 with a 38.79 percent confidence.\n"
     ]
    }
   ],
   "source": [
    "sunflower_path = \"./data/humanModel/imagesDatabase_split/val/39/-MpIqdos7xbOmReSEoMh_10.png\"\n",
    "\n",
    "img = keras.preprocessing.image.load_img(\n",
    "    sunflower_path, target_size=(img_height, img_width)\n",
    ")\n",
    "img_array = keras.preprocessing.image.img_to_array(img)\n",
    "img_array = tf.expand_dims(img_array, 0) # Create a batch\n",
    "\n",
    "predictions = model.predict(img_array)\n",
    "score = tf.nn.softmax(predictions[0])\n",
    "print(\n",
    "    \"This image most likely belongs to {} with a {:.2f} percent confidence.\"\n",
    "    .format(class_names[np.argmax(score)], 100 * np.max(score))\n",
    ")"
   ]
  }
 ],
 "metadata": {
  "interpreter": {
   "hash": "ad60775ae12af945b53c5c94c294ef05f229143b8585a0d23625a81e181fdccc"
  },
  "kernelspec": {
   "display_name": "Python 3.7.4 64-bit ('tf-gpu': conda)",
   "name": "python3"
  },
  "language_info": {
   "codemirror_mode": {
    "name": "ipython",
    "version": 3
   },
   "file_extension": ".py",
   "mimetype": "text/x-python",
   "name": "python",
   "nbconvert_exporter": "python",
   "pygments_lexer": "ipython3",
   "version": "3.7.4"
  }
 },
 "nbformat": 4,
 "nbformat_minor": 4
}
