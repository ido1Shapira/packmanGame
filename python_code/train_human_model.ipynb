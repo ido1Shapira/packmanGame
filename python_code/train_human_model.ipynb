{
 "cells": [
  {
   "cell_type": "code",
   "execution_count": 27,
   "metadata": {},
   "outputs": [],
   "source": [
    "import numpy as np\n",
    "import random\n",
    "import os\n",
    "\n",
    "# ! pip install split-folders\n",
    "import splitfolders\n",
    "\n",
    "import tensorflow as tf\n",
    "from tensorflow import keras\n",
    "from tensorflow.keras import layers, regularizers\n",
    "from tensorflow.keras.models import Sequential\n",
    "\n",
    "from tensorflow.keras.preprocessing.image import ImageDataGenerator\n",
    "from tensorflow.keras.preprocessing import image\n",
    "\n",
    "import matplotlib.pyplot as plt\n",
    "\n",
    "rs = 42\n",
    "def reset_random_seeds(rs):\n",
    "   os.environ['PYTHONHASHSEED']=str(rs)\n",
    "   tf.random.set_seed(rs)\n",
    "   np.random.seed(rs)\n",
    "   random.seed(rs)\n",
    "reset_random_seeds(rs)"
   ]
  },
  {
   "cell_type": "markdown",
   "metadata": {},
   "source": [
    "# Part 1 - Data Preprocessing"
   ]
  },
  {
   "cell_type": "markdown",
   "metadata": {},
   "source": [
    "## Split into train , test data"
   ]
  },
  {
   "cell_type": "code",
   "execution_count": 28,
   "metadata": {},
   "outputs": [
    {
     "name": "stderr",
     "output_type": "stream",
     "text": [
      "Copying files: 6429 files [00:00, 13865.32 files/s]\n"
     ]
    }
   ],
   "source": [
    "# train, test split\n",
    "splitfolders.ratio('./data/humanModel/imagesDatabase/', output=\"./data/humanModel/imagesDatabase_split\", ratio=(0.7, 0.3))"
   ]
  },
  {
   "cell_type": "markdown",
   "metadata": {},
   "source": [
    "### Preprocessing the Training set"
   ]
  },
  {
   "cell_type": "code",
   "execution_count": 29,
   "metadata": {},
   "outputs": [
    {
     "name": "stdout",
     "output_type": "stream",
     "text": [
      "Found 4498 images belonging to 5 classes.\n",
      "Found 1931 images belonging to 5 classes.\n"
     ]
    }
   ],
   "source": [
    "batch_size = 64\n",
    "IMG_SIZE = 10\n",
    "\n",
    "datagen = ImageDataGenerator(rescale = 1./255)\n",
    "train = datagen.flow_from_directory('./data/humanModel/imagesDatabase_split/train',\n",
    "                                          target_size = (IMG_SIZE,IMG_SIZE), batch_size = batch_size, seed=rs, class_mode='sparse')\n",
    "\n",
    "test = datagen.flow_from_directory('./data/humanModel/imagesDatabase_split/val',\n",
    "                                            target_size = (IMG_SIZE, IMG_SIZE), batch_size = batch_size, seed=rs, class_mode='sparse')"
   ]
  },
  {
   "cell_type": "markdown",
   "metadata": {},
   "source": [
    "## View some data"
   ]
  },
  {
   "cell_type": "code",
   "execution_count": 30,
   "metadata": {},
   "outputs": [],
   "source": [
    "num_classes = 5\n",
    "\n",
    "model = Sequential([\n",
    "  layers.Conv2D(8, 4, padding='same', activation='relu', kernel_regularizer=regularizers.l2(0.001), input_shape=[IMG_SIZE,IMG_SIZE,3]),\n",
    "  layers.Conv2D(16, 4, padding='same', activation='relu', kernel_regularizer=regularizers.l2(0.001)),\n",
    "  layers.Conv2D(16, 3, padding='same', activation='relu', kernel_regularizer=regularizers.l2(0.001)),\n",
    "  layers.MaxPooling2D(),\n",
    "  layers.Conv2D(8, 3, padding='same', activation='relu', kernel_regularizer=regularizers.l2(0.001)),\n",
    "  layers.Dropout(0.5),\n",
    "  layers.Flatten(),\n",
    "  layers.Dense(32, activation='relu', kernel_regularizer=regularizers.l2(0.001)),\n",
    "  layers.Dense(num_classes, activation='softmax')\n",
    "])\n",
    "\n",
    "# model = Sequential([\n",
    "#   layers.Conv2D(8, 3, padding='same', activation='elu', kernel_regularizer=regularizers.l2(0.0001), input_shape=[IMG_SIZE,IMG_SIZE,3]),\n",
    "#   layers.Conv2D(16, 3, padding='same', activation='elu', kernel_regularizer=regularizers.l2(0.0001)),\n",
    "#   layers.MaxPooling2D(),\n",
    "#   layers.Conv2D(16, 3, padding='same', activation='elu', kernel_regularizer=regularizers.l2(0.0001)),\n",
    "#   layers.Conv2D(32, 3, padding='same', activation='elu', kernel_regularizer=regularizers.l2(0.0001)),\n",
    "#   layers.Conv2D(64, 3, padding='same', activation='elu', kernel_regularizer=regularizers.l2(0.0001)),\n",
    "#   layers.MaxPooling2D(),\n",
    "#   layers.Dropout(0.5),\n",
    "#   layers.Flatten(),\n",
    "#   layers.Dense(32, activation='elu', kernel_regularizer=regularizers.l2(0.0001)),\n",
    "#   layers.Dense(num_classes, activation='softmax')\n",
    "# ])"
   ]
  },
  {
   "cell_type": "code",
   "execution_count": 31,
   "metadata": {},
   "outputs": [],
   "source": [
    "model.compile(optimizer='adam',\n",
    "              loss=tf.keras.losses.SparseCategoricalCrossentropy(from_logits=True),\n",
    "              metrics=['accuracy'])"
   ]
  },
  {
   "cell_type": "code",
   "execution_count": 32,
   "metadata": {},
   "outputs": [
    {
     "name": "stdout",
     "output_type": "stream",
     "text": [
      "Model: \"sequential_2\"\n",
      "_________________________________________________________________\n",
      "Layer (type)                 Output Shape              Param #   \n",
      "=================================================================\n",
      "conv2d_10 (Conv2D)           (None, 10, 10, 8)         392       \n",
      "_________________________________________________________________\n",
      "conv2d_11 (Conv2D)           (None, 10, 10, 16)        2064      \n",
      "_________________________________________________________________\n",
      "conv2d_12 (Conv2D)           (None, 10, 10, 16)        2320      \n",
      "_________________________________________________________________\n",
      "max_pooling2d_3 (MaxPooling2 (None, 5, 5, 16)          0         \n",
      "_________________________________________________________________\n",
      "conv2d_13 (Conv2D)           (None, 5, 5, 8)           1160      \n",
      "_________________________________________________________________\n",
      "dropout_2 (Dropout)          (None, 5, 5, 8)           0         \n",
      "_________________________________________________________________\n",
      "flatten_2 (Flatten)          (None, 200)               0         \n",
      "_________________________________________________________________\n",
      "dense_4 (Dense)              (None, 32)                6432      \n",
      "_________________________________________________________________\n",
      "dense_5 (Dense)              (None, 5)                 165       \n",
      "=================================================================\n",
      "Total params: 12,533\n",
      "Trainable params: 12,533\n",
      "Non-trainable params: 0\n",
      "_________________________________________________________________\n"
     ]
    }
   ],
   "source": [
    "model.summary()"
   ]
  },
  {
   "cell_type": "code",
   "execution_count": 33,
   "metadata": {
    "scrolled": true
   },
   "outputs": [
    {
     "name": "stdout",
     "output_type": "stream",
     "text": [
      "Epoch 1/150\n",
      "71/71 [==============================] - 1s 13ms/step - loss: 1.6535 - accuracy: 0.2628 - val_loss: 1.5655 - val_accuracy: 0.2895\n",
      "Epoch 2/150\n",
      "71/71 [==============================] - 1s 11ms/step - loss: 1.4380 - accuracy: 0.4155 - val_loss: 1.2660 - val_accuracy: 0.5039\n",
      "Epoch 3/150\n",
      "71/71 [==============================] - 1s 11ms/step - loss: 1.2806 - accuracy: 0.5173 - val_loss: 1.1840 - val_accuracy: 0.5546\n",
      "Epoch 4/150\n",
      "71/71 [==============================] - 1s 11ms/step - loss: 1.2135 - accuracy: 0.5420 - val_loss: 1.0994 - val_accuracy: 0.6209\n",
      "Epoch 5/150\n",
      "71/71 [==============================] - 1s 12ms/step - loss: 1.1570 - accuracy: 0.5789 - val_loss: 1.0820 - val_accuracy: 0.6318\n",
      "Epoch 6/150\n",
      "71/71 [==============================] - 1s 12ms/step - loss: 1.1228 - accuracy: 0.5992 - val_loss: 1.0342 - val_accuracy: 0.6308\n",
      "Epoch 7/150\n",
      "71/71 [==============================] - 1s 11ms/step - loss: 1.0964 - accuracy: 0.6065 - val_loss: 0.9939 - val_accuracy: 0.6520\n",
      "Epoch 8/150\n",
      "71/71 [==============================] - 1s 12ms/step - loss: 1.0707 - accuracy: 0.6143 - val_loss: 0.9836 - val_accuracy: 0.6577\n",
      "Epoch 9/150\n",
      "71/71 [==============================] - 1s 11ms/step - loss: 1.0453 - accuracy: 0.6269 - val_loss: 0.9515 - val_accuracy: 0.6753\n",
      "Epoch 10/150\n",
      "71/71 [==============================] - 1s 11ms/step - loss: 1.0336 - accuracy: 0.6414 - val_loss: 0.9394 - val_accuracy: 0.6758\n",
      "Epoch 11/150\n",
      "71/71 [==============================] - 1s 11ms/step - loss: 1.0202 - accuracy: 0.6390 - val_loss: 0.9223 - val_accuracy: 0.6970\n",
      "Epoch 12/150\n",
      "71/71 [==============================] - 1s 11ms/step - loss: 1.0112 - accuracy: 0.6387 - val_loss: 0.9197 - val_accuracy: 0.6945\n",
      "Epoch 13/150\n",
      "71/71 [==============================] - 1s 11ms/step - loss: 0.9841 - accuracy: 0.6552 - val_loss: 0.9096 - val_accuracy: 0.6970\n",
      "Epoch 14/150\n",
      "71/71 [==============================] - 1s 11ms/step - loss: 0.9704 - accuracy: 0.6603 - val_loss: 0.8906 - val_accuracy: 0.7167\n",
      "Epoch 15/150\n",
      "71/71 [==============================] - 1s 12ms/step - loss: 0.9555 - accuracy: 0.6683 - val_loss: 0.8795 - val_accuracy: 0.7048\n",
      "Epoch 16/150\n",
      "71/71 [==============================] - 1s 11ms/step - loss: 0.9451 - accuracy: 0.6770 - val_loss: 0.8733 - val_accuracy: 0.7178\n",
      "Epoch 17/150\n",
      "71/71 [==============================] - 1s 11ms/step - loss: 0.9317 - accuracy: 0.6776 - val_loss: 0.8681 - val_accuracy: 0.7038\n",
      "Epoch 18/150\n",
      "71/71 [==============================] - 1s 11ms/step - loss: 0.9225 - accuracy: 0.6799 - val_loss: 0.8443 - val_accuracy: 0.7147\n",
      "Epoch 19/150\n",
      "71/71 [==============================] - 1s 12ms/step - loss: 0.9185 - accuracy: 0.6836 - val_loss: 0.8416 - val_accuracy: 0.7276\n",
      "Epoch 20/150\n",
      "71/71 [==============================] - 1s 11ms/step - loss: 0.9059 - accuracy: 0.6883 - val_loss: 0.8322 - val_accuracy: 0.7198\n",
      "Epoch 21/150\n",
      "71/71 [==============================] - 1s 11ms/step - loss: 0.8894 - accuracy: 0.7008 - val_loss: 0.8287 - val_accuracy: 0.7240\n",
      "Epoch 22/150\n",
      "71/71 [==============================] - 1s 11ms/step - loss: 0.8893 - accuracy: 0.6972 - val_loss: 0.8220 - val_accuracy: 0.7297\n",
      "Epoch 23/150\n",
      "71/71 [==============================] - 1s 11ms/step - loss: 0.8806 - accuracy: 0.7003 - val_loss: 0.8188 - val_accuracy: 0.7317\n",
      "Epoch 24/150\n",
      "71/71 [==============================] - 1s 11ms/step - loss: 0.8663 - accuracy: 0.7050 - val_loss: 0.8214 - val_accuracy: 0.7297\n",
      "Epoch 25/150\n",
      "71/71 [==============================] - 1s 11ms/step - loss: 0.8725 - accuracy: 0.7054 - val_loss: 0.8277 - val_accuracy: 0.7250\n",
      "Epoch 26/150\n",
      "71/71 [==============================] - 1s 11ms/step - loss: 0.8644 - accuracy: 0.7050 - val_loss: 0.8030 - val_accuracy: 0.7343\n",
      "Epoch 27/150\n",
      "71/71 [==============================] - 1s 11ms/step - loss: 0.8657 - accuracy: 0.7034 - val_loss: 0.8204 - val_accuracy: 0.7266\n",
      "Epoch 28/150\n",
      "71/71 [==============================] - 1s 11ms/step - loss: 0.8593 - accuracy: 0.7157 - val_loss: 0.8132 - val_accuracy: 0.7297\n",
      "Epoch 29/150\n",
      "71/71 [==============================] - 1s 11ms/step - loss: 0.8492 - accuracy: 0.7150 - val_loss: 0.8194 - val_accuracy: 0.7266\n",
      "Epoch 30/150\n",
      "71/71 [==============================] - 1s 11ms/step - loss: 0.8488 - accuracy: 0.7068 - val_loss: 0.8073 - val_accuracy: 0.7349\n",
      "Epoch 31/150\n",
      "71/71 [==============================] - 1s 11ms/step - loss: 0.8368 - accuracy: 0.7192 - val_loss: 0.7977 - val_accuracy: 0.7457\n",
      "Epoch 32/150\n",
      "71/71 [==============================] - 1s 11ms/step - loss: 0.8314 - accuracy: 0.7210 - val_loss: 0.7850 - val_accuracy: 0.7462\n",
      "Epoch 33/150\n",
      "71/71 [==============================] - 1s 11ms/step - loss: 0.8260 - accuracy: 0.7250 - val_loss: 0.7811 - val_accuracy: 0.7457\n",
      "Epoch 34/150\n",
      "71/71 [==============================] - 1s 11ms/step - loss: 0.8175 - accuracy: 0.7225 - val_loss: 0.7966 - val_accuracy: 0.7374\n",
      "Epoch 35/150\n",
      "71/71 [==============================] - 1s 11ms/step - loss: 0.8144 - accuracy: 0.7263 - val_loss: 0.7904 - val_accuracy: 0.7405\n",
      "Epoch 36/150\n",
      "71/71 [==============================] - 1s 11ms/step - loss: 0.8040 - accuracy: 0.7317 - val_loss: 0.8000 - val_accuracy: 0.7468\n",
      "Epoch 37/150\n",
      "71/71 [==============================] - 1s 11ms/step - loss: 0.8109 - accuracy: 0.7310 - val_loss: 0.8043 - val_accuracy: 0.7385\n",
      "Epoch 38/150\n",
      "71/71 [==============================] - 1s 11ms/step - loss: 0.7988 - accuracy: 0.7337 - val_loss: 0.7757 - val_accuracy: 0.7519\n",
      "Epoch 39/150\n",
      "71/71 [==============================] - 1s 11ms/step - loss: 0.7971 - accuracy: 0.7352 - val_loss: 0.7932 - val_accuracy: 0.7421\n",
      "Epoch 40/150\n",
      "71/71 [==============================] - 1s 11ms/step - loss: 0.7970 - accuracy: 0.7323 - val_loss: 0.7950 - val_accuracy: 0.7483\n",
      "Epoch 41/150\n",
      "71/71 [==============================] - 1s 11ms/step - loss: 0.8025 - accuracy: 0.7330 - val_loss: 0.7858 - val_accuracy: 0.7494\n",
      "Epoch 42/150\n",
      "71/71 [==============================] - 1s 11ms/step - loss: 0.7782 - accuracy: 0.7461 - val_loss: 0.7812 - val_accuracy: 0.7519\n",
      "Epoch 43/150\n",
      "71/71 [==============================] - 1s 11ms/step - loss: 0.7892 - accuracy: 0.7388 - val_loss: 0.7750 - val_accuracy: 0.7488\n",
      "Epoch 44/150\n",
      "71/71 [==============================] - 1s 11ms/step - loss: 0.7914 - accuracy: 0.7361 - val_loss: 0.7881 - val_accuracy: 0.7550\n",
      "Epoch 45/150\n",
      "71/71 [==============================] - 1s 11ms/step - loss: 0.7751 - accuracy: 0.7477 - val_loss: 0.7776 - val_accuracy: 0.7550\n",
      "Epoch 46/150\n",
      "71/71 [==============================] - 1s 11ms/step - loss: 0.7763 - accuracy: 0.7486 - val_loss: 0.7653 - val_accuracy: 0.7556\n",
      "Epoch 47/150\n",
      "71/71 [==============================] - 1s 11ms/step - loss: 0.7615 - accuracy: 0.7546 - val_loss: 0.7761 - val_accuracy: 0.7499\n",
      "Epoch 48/150\n",
      "71/71 [==============================] - 1s 12ms/step - loss: 0.7599 - accuracy: 0.7554 - val_loss: 0.7914 - val_accuracy: 0.7395\n",
      "Epoch 49/150\n",
      "71/71 [==============================] - 1s 11ms/step - loss: 0.7774 - accuracy: 0.7423 - val_loss: 0.7708 - val_accuracy: 0.7561\n",
      "Epoch 50/150\n",
      "71/71 [==============================] - 1s 11ms/step - loss: 0.7576 - accuracy: 0.7543 - val_loss: 0.7664 - val_accuracy: 0.7582\n",
      "Epoch 51/150\n",
      "71/71 [==============================] - 1s 11ms/step - loss: 0.7739 - accuracy: 0.7508 - val_loss: 0.7708 - val_accuracy: 0.7494\n",
      "Epoch 52/150\n",
      "71/71 [==============================] - 1s 11ms/step - loss: 0.7515 - accuracy: 0.7577 - val_loss: 0.7737 - val_accuracy: 0.7602\n",
      "Epoch 53/150\n",
      "71/71 [==============================] - 1s 11ms/step - loss: 0.7536 - accuracy: 0.7574 - val_loss: 0.7644 - val_accuracy: 0.7499\n",
      "Epoch 54/150\n",
      "71/71 [==============================] - 1s 11ms/step - loss: 0.7424 - accuracy: 0.7539 - val_loss: 0.7704 - val_accuracy: 0.7582\n",
      "Epoch 55/150\n",
      "71/71 [==============================] - 1s 11ms/step - loss: 0.7510 - accuracy: 0.7603 - val_loss: 0.7599 - val_accuracy: 0.7545\n",
      "Epoch 56/150\n",
      "71/71 [==============================] - 1s 11ms/step - loss: 0.7484 - accuracy: 0.7566 - val_loss: 0.7762 - val_accuracy: 0.7354\n",
      "Epoch 57/150\n",
      "71/71 [==============================] - 1s 12ms/step - loss: 0.7406 - accuracy: 0.7619 - val_loss: 0.7681 - val_accuracy: 0.7561\n",
      "Epoch 58/150\n",
      "71/71 [==============================] - 1s 11ms/step - loss: 0.7415 - accuracy: 0.7590 - val_loss: 0.7653 - val_accuracy: 0.7550\n",
      "Epoch 59/150\n",
      "71/71 [==============================] - 1s 11ms/step - loss: 0.7409 - accuracy: 0.7648 - val_loss: 0.7651 - val_accuracy: 0.7607\n",
      "Epoch 60/150\n",
      "71/71 [==============================] - 1s 11ms/step - loss: 0.7354 - accuracy: 0.7635 - val_loss: 0.7581 - val_accuracy: 0.7582\n",
      "Epoch 61/150\n",
      "71/71 [==============================] - 1s 11ms/step - loss: 0.7404 - accuracy: 0.7626 - val_loss: 0.7638 - val_accuracy: 0.7576\n",
      "Epoch 62/150\n",
      "71/71 [==============================] - 1s 11ms/step - loss: 0.7259 - accuracy: 0.7661 - val_loss: 0.7682 - val_accuracy: 0.7488\n",
      "Epoch 63/150\n",
      "71/71 [==============================] - 1s 11ms/step - loss: 0.7272 - accuracy: 0.7663 - val_loss: 0.7732 - val_accuracy: 0.7556\n",
      "Epoch 64/150\n",
      "71/71 [==============================] - 1s 11ms/step - loss: 0.7229 - accuracy: 0.7661 - val_loss: 0.7626 - val_accuracy: 0.7623\n",
      "Epoch 65/150\n",
      "71/71 [==============================] - 1s 11ms/step - loss: 0.7294 - accuracy: 0.7650 - val_loss: 0.7602 - val_accuracy: 0.7607\n",
      "Epoch 66/150\n",
      "71/71 [==============================] - 1s 11ms/step - loss: 0.7211 - accuracy: 0.7632 - val_loss: 0.7508 - val_accuracy: 0.7592\n",
      "Epoch 67/150\n",
      "71/71 [==============================] - 1s 11ms/step - loss: 0.7118 - accuracy: 0.7757 - val_loss: 0.7554 - val_accuracy: 0.7701\n",
      "Epoch 68/150\n",
      "71/71 [==============================] - 1s 11ms/step - loss: 0.7101 - accuracy: 0.7719 - val_loss: 0.7608 - val_accuracy: 0.7514\n",
      "Epoch 69/150\n",
      "71/71 [==============================] - 1s 11ms/step - loss: 0.7154 - accuracy: 0.7677 - val_loss: 0.7774 - val_accuracy: 0.7576\n",
      "Epoch 70/150\n",
      "71/71 [==============================] - 1s 11ms/step - loss: 0.7069 - accuracy: 0.7732 - val_loss: 0.7597 - val_accuracy: 0.7571\n",
      "Epoch 71/150\n",
      "71/71 [==============================] - 1s 11ms/step - loss: 0.6919 - accuracy: 0.7808 - val_loss: 0.7716 - val_accuracy: 0.7514\n",
      "Epoch 72/150\n",
      "71/71 [==============================] - 1s 11ms/step - loss: 0.7083 - accuracy: 0.7717 - val_loss: 0.7583 - val_accuracy: 0.7623\n",
      "Epoch 73/150\n",
      "71/71 [==============================] - 1s 11ms/step - loss: 0.6996 - accuracy: 0.7746 - val_loss: 0.7663 - val_accuracy: 0.7607\n",
      "Epoch 74/150\n",
      "71/71 [==============================] - 1s 11ms/step - loss: 0.6978 - accuracy: 0.7801 - val_loss: 0.7725 - val_accuracy: 0.7550\n",
      "Epoch 75/150\n",
      "71/71 [==============================] - 1s 11ms/step - loss: 0.7078 - accuracy: 0.7779 - val_loss: 0.7769 - val_accuracy: 0.7587\n",
      "Epoch 76/150\n",
      "71/71 [==============================] - 1s 11ms/step - loss: 0.6940 - accuracy: 0.7775 - val_loss: 0.7610 - val_accuracy: 0.7597\n",
      "Epoch 77/150\n",
      "71/71 [==============================] - 1s 12ms/step - loss: 0.6987 - accuracy: 0.7708 - val_loss: 0.7633 - val_accuracy: 0.7556\n",
      "Epoch 78/150\n",
      "71/71 [==============================] - 1s 12ms/step - loss: 0.6888 - accuracy: 0.7835 - val_loss: 0.7571 - val_accuracy: 0.7613\n",
      "Epoch 79/150\n",
      "71/71 [==============================] - 1s 12ms/step - loss: 0.6911 - accuracy: 0.7772 - val_loss: 0.7572 - val_accuracy: 0.7664\n",
      "Epoch 80/150\n",
      "71/71 [==============================] - 1s 11ms/step - loss: 0.6834 - accuracy: 0.7792 - val_loss: 0.7563 - val_accuracy: 0.7602\n",
      "Epoch 81/150\n",
      "71/71 [==============================] - 1s 11ms/step - loss: 0.6796 - accuracy: 0.7855 - val_loss: 0.7635 - val_accuracy: 0.7680\n",
      "Epoch 82/150\n",
      "71/71 [==============================] - 1s 11ms/step - loss: 0.6769 - accuracy: 0.7837 - val_loss: 0.7798 - val_accuracy: 0.7561\n",
      "Epoch 83/150\n",
      "71/71 [==============================] - 1s 11ms/step - loss: 0.6817 - accuracy: 0.7837 - val_loss: 0.7831 - val_accuracy: 0.7530\n",
      "Epoch 84/150\n",
      "71/71 [==============================] - 1s 11ms/step - loss: 0.6828 - accuracy: 0.7786 - val_loss: 0.7575 - val_accuracy: 0.7618\n",
      "Epoch 85/150\n",
      "71/71 [==============================] - 1s 11ms/step - loss: 0.6711 - accuracy: 0.7848 - val_loss: 0.7723 - val_accuracy: 0.7675\n",
      "Epoch 86/150\n",
      "71/71 [==============================] - 1s 11ms/step - loss: 0.6849 - accuracy: 0.7850 - val_loss: 0.7631 - val_accuracy: 0.7509\n",
      "Epoch 87/150\n",
      "71/71 [==============================] - 1s 11ms/step - loss: 0.6740 - accuracy: 0.7848 - val_loss: 0.7523 - val_accuracy: 0.7685\n",
      "Epoch 88/150\n",
      "71/71 [==============================] - 1s 11ms/step - loss: 0.6690 - accuracy: 0.7886 - val_loss: 0.7708 - val_accuracy: 0.7582\n",
      "Epoch 89/150\n",
      "71/71 [==============================] - 1s 12ms/step - loss: 0.6672 - accuracy: 0.7908 - val_loss: 0.7728 - val_accuracy: 0.7639\n",
      "Epoch 90/150\n",
      "71/71 [==============================] - 1s 12ms/step - loss: 0.6692 - accuracy: 0.7928 - val_loss: 0.7591 - val_accuracy: 0.7659\n",
      "Epoch 91/150\n",
      "71/71 [==============================] - 1s 12ms/step - loss: 0.6655 - accuracy: 0.7872 - val_loss: 0.7549 - val_accuracy: 0.7685\n",
      "Epoch 92/150\n",
      "71/71 [==============================] - 1s 11ms/step - loss: 0.6657 - accuracy: 0.7959 - val_loss: 0.7519 - val_accuracy: 0.7690\n",
      "Epoch 93/150\n",
      "71/71 [==============================] - 1s 11ms/step - loss: 0.6622 - accuracy: 0.7870 - val_loss: 0.7675 - val_accuracy: 0.7639\n",
      "Epoch 94/150\n",
      "71/71 [==============================] - 1s 12ms/step - loss: 0.6767 - accuracy: 0.7888 - val_loss: 0.7592 - val_accuracy: 0.7571\n",
      "Epoch 95/150\n",
      "71/71 [==============================] - 1s 11ms/step - loss: 0.6608 - accuracy: 0.7884 - val_loss: 0.7589 - val_accuracy: 0.7644\n",
      "Epoch 96/150\n",
      "71/71 [==============================] - 1s 11ms/step - loss: 0.6533 - accuracy: 0.7941 - val_loss: 0.7496 - val_accuracy: 0.7752\n",
      "Epoch 97/150\n",
      "71/71 [==============================] - 1s 12ms/step - loss: 0.6558 - accuracy: 0.7935 - val_loss: 0.7652 - val_accuracy: 0.7639\n",
      "Epoch 98/150\n",
      "71/71 [==============================] - 1s 11ms/step - loss: 0.6631 - accuracy: 0.7919 - val_loss: 0.7557 - val_accuracy: 0.7716\n",
      "Epoch 99/150\n",
      "71/71 [==============================] - 1s 12ms/step - loss: 0.6447 - accuracy: 0.7977 - val_loss: 0.7642 - val_accuracy: 0.7659\n",
      "Epoch 100/150\n",
      "71/71 [==============================] - 1s 12ms/step - loss: 0.6418 - accuracy: 0.7919 - val_loss: 0.7719 - val_accuracy: 0.7618\n",
      "Epoch 101/150\n",
      "71/71 [==============================] - 1s 11ms/step - loss: 0.6395 - accuracy: 0.7979 - val_loss: 0.8004 - val_accuracy: 0.7685\n",
      "Epoch 102/150\n",
      "71/71 [==============================] - 1s 11ms/step - loss: 0.6496 - accuracy: 0.7959 - val_loss: 0.7610 - val_accuracy: 0.7654\n",
      "Epoch 103/150\n",
      "71/71 [==============================] - 1s 11ms/step - loss: 0.6455 - accuracy: 0.7950 - val_loss: 0.7707 - val_accuracy: 0.7628\n",
      "Epoch 104/150\n",
      "71/71 [==============================] - 1s 11ms/step - loss: 0.6461 - accuracy: 0.8015 - val_loss: 0.8246 - val_accuracy: 0.7602\n",
      "Epoch 105/150\n",
      "71/71 [==============================] - 1s 12ms/step - loss: 0.6454 - accuracy: 0.8041 - val_loss: 0.7654 - val_accuracy: 0.7747\n",
      "Epoch 106/150\n",
      "71/71 [==============================] - 1s 11ms/step - loss: 0.6479 - accuracy: 0.8004 - val_loss: 0.7615 - val_accuracy: 0.7649\n",
      "Epoch 107/150\n",
      "71/71 [==============================] - 1s 12ms/step - loss: 0.6400 - accuracy: 0.8070 - val_loss: 0.7714 - val_accuracy: 0.7659\n",
      "Epoch 108/150\n",
      "71/71 [==============================] - 1s 11ms/step - loss: 0.6499 - accuracy: 0.7997 - val_loss: 0.7725 - val_accuracy: 0.7654\n",
      "Epoch 109/150\n",
      "71/71 [==============================] - 1s 11ms/step - loss: 0.6300 - accuracy: 0.8004 - val_loss: 0.7845 - val_accuracy: 0.7628\n",
      "Epoch 110/150\n",
      "71/71 [==============================] - 1s 12ms/step - loss: 0.6347 - accuracy: 0.8030 - val_loss: 0.7795 - val_accuracy: 0.7576\n",
      "Epoch 111/150\n",
      "71/71 [==============================] - 1s 11ms/step - loss: 0.6372 - accuracy: 0.8048 - val_loss: 0.7761 - val_accuracy: 0.7587\n",
      "Epoch 112/150\n",
      "71/71 [==============================] - 1s 11ms/step - loss: 0.6354 - accuracy: 0.8008 - val_loss: 0.7922 - val_accuracy: 0.7602\n",
      "Epoch 113/150\n",
      "71/71 [==============================] - 1s 12ms/step - loss: 0.6487 - accuracy: 0.7984 - val_loss: 0.7713 - val_accuracy: 0.7695\n",
      "Epoch 114/150\n",
      "71/71 [==============================] - 1s 11ms/step - loss: 0.6288 - accuracy: 0.8099 - val_loss: 0.7861 - val_accuracy: 0.7633\n",
      "Epoch 115/150\n",
      "71/71 [==============================] - 1s 12ms/step - loss: 0.6401 - accuracy: 0.8057 - val_loss: 0.7890 - val_accuracy: 0.7633\n",
      "Epoch 116/150\n",
      "71/71 [==============================] - 1s 11ms/step - loss: 0.6271 - accuracy: 0.8037 - val_loss: 0.8155 - val_accuracy: 0.7514\n",
      "Epoch 117/150\n",
      "71/71 [==============================] - 1s 13ms/step - loss: 0.6319 - accuracy: 0.8050 - val_loss: 0.7968 - val_accuracy: 0.7618\n",
      "Epoch 118/150\n",
      "71/71 [==============================] - 1s 11ms/step - loss: 0.6368 - accuracy: 0.8030 - val_loss: 0.7734 - val_accuracy: 0.7706\n",
      "Epoch 119/150\n",
      "71/71 [==============================] - 1s 11ms/step - loss: 0.6284 - accuracy: 0.8019 - val_loss: 0.7925 - val_accuracy: 0.7778\n",
      "Epoch 120/150\n",
      "71/71 [==============================] - 1s 12ms/step - loss: 0.6234 - accuracy: 0.8086 - val_loss: 0.7705 - val_accuracy: 0.7747\n",
      "Epoch 121/150\n",
      "71/71 [==============================] - 1s 11ms/step - loss: 0.6160 - accuracy: 0.8115 - val_loss: 0.8147 - val_accuracy: 0.7670\n",
      "Epoch 122/150\n",
      "71/71 [==============================] - 1s 11ms/step - loss: 0.6153 - accuracy: 0.8088 - val_loss: 0.7662 - val_accuracy: 0.7732\n",
      "Epoch 123/150\n",
      "71/71 [==============================] - 1s 11ms/step - loss: 0.6083 - accuracy: 0.8119 - val_loss: 0.7627 - val_accuracy: 0.7721\n",
      "Epoch 124/150\n",
      "71/71 [==============================] - 1s 11ms/step - loss: 0.6173 - accuracy: 0.8064 - val_loss: 0.7741 - val_accuracy: 0.7613\n",
      "Epoch 125/150\n",
      "71/71 [==============================] - 1s 12ms/step - loss: 0.6157 - accuracy: 0.8128 - val_loss: 0.7951 - val_accuracy: 0.7597\n",
      "Epoch 126/150\n",
      "71/71 [==============================] - 1s 12ms/step - loss: 0.6174 - accuracy: 0.8097 - val_loss: 0.7692 - val_accuracy: 0.7659\n",
      "Epoch 127/150\n",
      "71/71 [==============================] - 1s 11ms/step - loss: 0.6130 - accuracy: 0.8148 - val_loss: 0.7834 - val_accuracy: 0.7706\n",
      "Epoch 128/150\n",
      "71/71 [==============================] - 1s 11ms/step - loss: 0.6174 - accuracy: 0.8135 - val_loss: 0.7620 - val_accuracy: 0.7742\n",
      "Epoch 129/150\n",
      "71/71 [==============================] - 1s 12ms/step - loss: 0.6082 - accuracy: 0.8126 - val_loss: 0.8002 - val_accuracy: 0.7664\n",
      "Epoch 130/150\n",
      "71/71 [==============================] - 1s 11ms/step - loss: 0.6272 - accuracy: 0.8095 - val_loss: 0.7903 - val_accuracy: 0.7670\n",
      "Epoch 131/150\n",
      "71/71 [==============================] - 1s 11ms/step - loss: 0.6043 - accuracy: 0.8166 - val_loss: 0.7594 - val_accuracy: 0.7784\n",
      "Epoch 132/150\n",
      "71/71 [==============================] - 1s 12ms/step - loss: 0.6028 - accuracy: 0.8199 - val_loss: 0.8171 - val_accuracy: 0.7654\n",
      "Epoch 133/150\n",
      "71/71 [==============================] - 1s 12ms/step - loss: 0.6152 - accuracy: 0.8061 - val_loss: 0.7857 - val_accuracy: 0.7670\n",
      "Epoch 134/150\n",
      "71/71 [==============================] - 1s 11ms/step - loss: 0.5985 - accuracy: 0.8244 - val_loss: 0.7924 - val_accuracy: 0.7675\n",
      "Epoch 135/150\n",
      "71/71 [==============================] - 1s 11ms/step - loss: 0.5999 - accuracy: 0.8179 - val_loss: 0.8012 - val_accuracy: 0.7628\n",
      "Epoch 136/150\n",
      "71/71 [==============================] - 1s 11ms/step - loss: 0.6012 - accuracy: 0.8201 - val_loss: 0.7926 - val_accuracy: 0.7628\n",
      "Epoch 137/150\n",
      "71/71 [==============================] - 1s 11ms/step - loss: 0.5952 - accuracy: 0.8155 - val_loss: 0.8171 - val_accuracy: 0.7597\n",
      "Epoch 138/150\n",
      "71/71 [==============================] - 1s 11ms/step - loss: 0.6062 - accuracy: 0.8155 - val_loss: 0.7888 - val_accuracy: 0.7690\n",
      "Epoch 139/150\n",
      "71/71 [==============================] - 1s 12ms/step - loss: 0.6051 - accuracy: 0.8124 - val_loss: 0.8076 - val_accuracy: 0.7628\n",
      "Epoch 140/150\n",
      "71/71 [==============================] - 1s 12ms/step - loss: 0.6054 - accuracy: 0.8133 - val_loss: 0.8099 - val_accuracy: 0.7675\n",
      "Epoch 141/150\n",
      "71/71 [==============================] - 1s 11ms/step - loss: 0.5991 - accuracy: 0.8206 - val_loss: 0.7929 - val_accuracy: 0.7644\n",
      "Epoch 142/150\n",
      "71/71 [==============================] - 1s 12ms/step - loss: 0.6099 - accuracy: 0.8133 - val_loss: 0.7593 - val_accuracy: 0.7701\n",
      "Epoch 143/150\n",
      "71/71 [==============================] - 1s 12ms/step - loss: 0.6064 - accuracy: 0.8155 - val_loss: 0.7684 - val_accuracy: 0.7628\n",
      "Epoch 144/150\n",
      "71/71 [==============================] - 1s 11ms/step - loss: 0.5944 - accuracy: 0.8193 - val_loss: 0.7697 - val_accuracy: 0.7644\n",
      "Epoch 145/150\n",
      "71/71 [==============================] - 1s 11ms/step - loss: 0.5987 - accuracy: 0.8150 - val_loss: 0.7910 - val_accuracy: 0.7680\n",
      "Epoch 146/150\n",
      "71/71 [==============================] - 1s 11ms/step - loss: 0.5975 - accuracy: 0.8219 - val_loss: 0.8172 - val_accuracy: 0.7582\n",
      "Epoch 147/150\n",
      "71/71 [==============================] - 1s 12ms/step - loss: 0.5997 - accuracy: 0.8112 - val_loss: 0.8059 - val_accuracy: 0.7613\n",
      "Epoch 148/150\n",
      "71/71 [==============================] - 1s 11ms/step - loss: 0.5935 - accuracy: 0.8155 - val_loss: 0.7953 - val_accuracy: 0.7670\n",
      "Epoch 149/150\n",
      "71/71 [==============================] - 1s 11ms/step - loss: 0.5885 - accuracy: 0.8248 - val_loss: 0.7876 - val_accuracy: 0.7659\n",
      "Epoch 150/150\n",
      "71/71 [==============================] - 1s 12ms/step - loss: 0.5942 - accuracy: 0.8179 - val_loss: 0.7848 - val_accuracy: 0.7607\n"
     ]
    }
   ],
   "source": [
    "epochs=150\n",
    "history = model.fit(\n",
    "  train,\n",
    "  validation_data=test,\n",
    "  epochs=epochs\n",
    ")"
   ]
  },
  {
   "cell_type": "code",
   "execution_count": 34,
   "metadata": {},
   "outputs": [
    {
     "data": {
      "image/png": "[encoded data removed]",
      "text/plain": [
       "<Figure size 576x576 with 2 Axes>"
      ]
     },
     "metadata": {
      "needs_background": "light"
     },
     "output_type": "display_data"
    }
   ],
   "source": [
    "acc = history.history['accuracy']\n",
    "val_acc = history.history['val_accuracy']\n",
    "\n",
    "loss = history.history['loss']\n",
    "val_loss = history.history['val_loss']\n",
    "\n",
    "epochs_range = range(epochs)\n",
    "\n",
    "plt.figure(figsize=(8, 8))\n",
    "plt.subplot(1, 2, 1)\n",
    "plt.plot(epochs_range, acc, label='Training Accuracy')\n",
    "plt.plot(epochs_range, val_acc, label='Validation Accuracy')\n",
    "plt.legend(loc='lower right')\n",
    "plt.title('Training and Validation Accuracy')\n",
    "\n",
    "plt.subplot(1, 2, 2)\n",
    "plt.plot(epochs_range, loss, label='Training Loss')\n",
    "plt.plot(epochs_range, val_loss, label='Validation Loss')\n",
    "plt.legend(loc='upper right')\n",
    "plt.title('Training and Validation Loss')\n",
    "plt.show()"
   ]
  },
  {
   "cell_type": "code",
   "execution_count": 35,
   "metadata": {},
   "outputs": [
    {
     "name": "stdout",
     "output_type": "stream",
     "text": [
      "31/31 [==============================] - 0s 8ms/step - loss: 0.7848 - accuracy: 0.7607\n",
      "Test accuracy : 0.7607457041740417\n"
     ]
    }
   ],
   "source": [
    "loss, accuracy = model.evaluate(test)\n",
    "print('Test accuracy :', accuracy)"
   ]
  },
  {
   "cell_type": "code",
   "execution_count": 36,
   "metadata": {},
   "outputs": [],
   "source": [
    "# Save the entire model as a SavedModel.\n",
    "# model.save('./data/humanModel/mode_v0')\n",
    "model.save('./data/humanModel/model_v0.h5')"
   ]
  },
  {
   "cell_type": "code",
   "execution_count": 37,
   "metadata": {},
   "outputs": [],
   "source": [
    "# save model in js format\n",
    "# import tensorflowjs as tfjs\n",
    "# tfjs.converters.save_keras_model(model, 'data/humanModel/js_model_v0')"
   ]
  },
  {
   "cell_type": "code",
   "execution_count": 38,
   "metadata": {},
   "outputs": [],
   "source": [
    "# new_model = tf.keras.models.load_model('./data/humanModel/mode_v0')\n",
    "\n",
    "# # Check its architecture\n",
    "# new_model.summary()"
   ]
  },
  {
   "cell_type": "markdown",
   "metadata": {},
   "source": [
    "### Predict on new data"
   ]
  },
  {
   "cell_type": "code",
   "execution_count": 39,
   "metadata": {},
   "outputs": [
    {
     "name": "stdout",
     "output_type": "stream",
     "text": [
      "This image most likely belongs to 3 with a 40.46 percent confidence.\n"
     ]
    }
   ],
   "source": [
    "sunflower_path = \"./data/humanModel/imagesDatabase_split/val/39/-MpIqdos7xbOmReSEoMh_10.png\"\n",
    "\n",
    "img = keras.preprocessing.image.load_img(\n",
    "    sunflower_path, target_size=(IMG_SIZE, IMG_SIZE)\n",
    ")\n",
    "img_array = keras.preprocessing.image.img_to_array(img)\n",
    "img_array = tf.expand_dims(img_array, 0) # Create a batch\n",
    "\n",
    "predictions = model.predict(img_array)\n",
    "score = tf.nn.softmax(predictions[0])\n",
    "print(\n",
    "    \"This image most likely belongs to {} with a {:.2f} percent confidence.\"\n",
    "    .format(np.argmax(score), 100 * np.max(score))\n",
    ")"
   ]
  }
 ],
 "metadata": {
  "interpreter": {
   "hash": "ad60775ae12af945b53c5c94c294ef05f229143b8585a0d23625a81e181fdccc"
  },
  "kernelspec": {
   "display_name": "Python 3.7.4 64-bit ('tf-gpu': conda)",
   "name": "python3"
  },
  "language_info": {
   "codemirror_mode": {
    "name": "ipython",
    "version": 3
   },
   "file_extension": ".py",
   "mimetype": "text/x-python",
   "name": "python",
   "nbconvert_exporter": "python",
   "pygments_lexer": "ipython3",
   "version": "3.7.4"
  }
 },
 "nbformat": 4,
 "nbformat_minor": 4
}
