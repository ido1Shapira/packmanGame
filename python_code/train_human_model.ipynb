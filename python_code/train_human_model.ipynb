{
 "cells": [
  {
   "cell_type": "code",
   "execution_count": 1,
   "source": [
    "import numpy as np\r\n",
    "import random\r\n",
    "import os\r\n",
    "\r\n",
    "# ! pip install split-folders\r\n",
    "import splitfolders\r\n",
    "\r\n",
    "import tensorflow as tf\r\n",
    "from tensorflow import keras\r\n",
    "from tensorflow.keras import layers, regularizers\r\n",
    "from tensorflow.keras.models import Sequential\r\n",
    "\r\n",
    "\r\n",
    "import matplotlib.pyplot as plt\r\n",
    "\r\n",
    "rs = 42\r\n",
    "def reset_random_seeds(rs):\r\n",
    "   os.environ['PYTHONHASHSEED']=str(rs)\r\n",
    "   tf.random.set_seed(rs)\r\n",
    "   np.random.seed(rs)\r\n",
    "   random.seed(rs)\r\n",
    "reset_random_seeds(rs)"
   ],
   "outputs": [],
   "metadata": {}
  },
  {
   "cell_type": "markdown",
   "source": [
    "# Part 1 - Data Preprocessing"
   ],
   "metadata": {}
  },
  {
   "cell_type": "markdown",
   "source": [
    "## Split into train , test data"
   ],
   "metadata": {}
  },
  {
   "cell_type": "code",
   "execution_count": 2,
   "source": [
    "# train, test split\r\n",
    "splitfolders.ratio('./data/humanModel/imagesDatabase/', output=\"./data/humanModel/imagesDatabase_split\", ratio=(0.7, 0.3))"
   ],
   "outputs": [
    {
     "output_type": "stream",
     "name": "stderr",
     "text": [
      "Copying files: 5003 files [00:13, 376.99 files/s]\n"
     ]
    }
   ],
   "metadata": {}
  },
  {
   "cell_type": "markdown",
   "source": [
    "### Preprocessing the Training set"
   ],
   "metadata": {}
  },
  {
   "cell_type": "code",
   "execution_count": 3,
   "source": [
    "batch_size = 64\r\n",
    "img_height = 10\r\n",
    "img_width = 10\r\n",
    "\r\n",
    "train_ds = tf.keras.preprocessing.image_dataset_from_directory(\r\n",
    "  './data/humanModel/imagesDatabase_split/train',\r\n",
    "  seed=rs,\r\n",
    "  image_size=(img_height, img_width),\r\n",
    "  batch_size=batch_size)\r\n",
    "\r\n",
    "val_ds = tf.keras.preprocessing.image_dataset_from_directory(\r\n",
    "  './data/humanModel/imagesDatabase_split/val',\r\n",
    "  seed=rs,\r\n",
    "  image_size=(img_height, img_width),\r\n",
    "  batch_size=batch_size)\r\n",
    "\r\n",
    "class_names = train_ds.class_names\r\n",
    "print(class_names)"
   ],
   "outputs": [
    {
     "output_type": "stream",
     "name": "stdout",
     "text": [
      "Found 3742 files belonging to 5 classes.\n",
      "Found 1764 files belonging to 5 classes.\n",
      "['32', '37', '38', '39', '40']\n"
     ]
    }
   ],
   "metadata": {}
  },
  {
   "cell_type": "code",
   "execution_count": 4,
   "source": [
    "AUTOTUNE = tf.data.AUTOTUNE\r\n",
    "\r\n",
    "train_ds = train_ds.cache().shuffle(1000).prefetch(buffer_size=AUTOTUNE)\r\n",
    "val_ds = val_ds.cache().prefetch(buffer_size=AUTOTUNE)"
   ],
   "outputs": [],
   "metadata": {}
  },
  {
   "cell_type": "markdown",
   "source": [
    "## View some data"
   ],
   "metadata": {}
  },
  {
   "cell_type": "code",
   "execution_count": 5,
   "source": [
    "plt.figure(figsize=(10, 10))\r\n",
    "for images, labels in train_ds.take(1):\r\n",
    "    for i in range(6):\r\n",
    "        ax = plt.subplot(3, 3, i + 1)\r\n",
    "        plt.imshow(images[i].numpy().astype(\"uint8\"))\r\n",
    "        plt.title(class_names[labels[i]])\r\n",
    "        plt.axis(\"off\")"
   ],
   "outputs": [
    {
     "output_type": "display_data",
     "data": {
      "image/png": "[encoded data removed]",
      "text/plain": [
       "<Figure size 720x720 with 6 Axes>"
      ]
     },
     "metadata": {
      "needs_background": "light"
     }
    }
   ],
   "metadata": {}
  },
  {
   "cell_type": "code",
   "execution_count": 6,
   "source": [
    "num_classes = 5\r\n",
    "\r\n",
    "model = Sequential([\r\n",
    "  layers.experimental.preprocessing.Rescaling(1./255, input_shape=(img_height, img_width, 3)),\r\n",
    "  # layers.Conv2D(16, 3, padding='same', activation='elu', kernel_regularizer=regularizers.l2(0.001)),\r\n",
    "  layers.Conv2D(32, 3, padding='same', activation='elu', kernel_regularizer=regularizers.l2(0.0001)),\r\n",
    "  layers.Conv2D(64, 3, padding='same', activation='elu', kernel_regularizer=regularizers.l2(0.0001)),\r\n",
    "  layers.MaxPooling2D(),\r\n",
    "  layers.Conv2D(32, 3, padding='same', activation='elu', kernel_regularizer=regularizers.l2(0.0001)),\r\n",
    "  layers.Conv2D(64, 3, padding='same', activation='elu', kernel_regularizer=regularizers.l2(0.0001)),\r\n",
    "  layers.MaxPooling2D(),\r\n",
    "  layers.Conv2D(64, 3, padding='same', activation='elu', kernel_regularizer=regularizers.l2(0.0001)),\r\n",
    "  layers.MaxPooling2D(),\r\n",
    "  layers.Dropout(0.5),\r\n",
    "  layers.Flatten(),\r\n",
    "  layers.Dense(512, activation='elu', kernel_regularizer=regularizers.l2(0.0001)),\r\n",
    "  layers.Dense(128, activation='elu', kernel_regularizer=regularizers.l2(0.0001)),\r\n",
    "  layers.Dense(32, activation='elu', kernel_regularizer=regularizers.l2(0.0001)),\r\n",
    "  layers.Dense(num_classes)\r\n",
    "])"
   ],
   "outputs": [],
   "metadata": {}
  },
  {
   "cell_type": "code",
   "execution_count": 7,
   "source": [
    "model.compile(optimizer='adam',\r\n",
    "              loss=tf.keras.losses.SparseCategoricalCrossentropy(from_logits=True),\r\n",
    "              metrics=['accuracy'])"
   ],
   "outputs": [],
   "metadata": {}
  },
  {
   "cell_type": "code",
   "execution_count": 8,
   "source": [
    "model.summary()"
   ],
   "outputs": [
    {
     "output_type": "stream",
     "name": "stdout",
     "text": [
      "Model: \"sequential\"\n",
      "_________________________________________________________________\n",
      "Layer (type)                 Output Shape              Param #   \n",
      "=================================================================\n",
      "rescaling (Rescaling)        (None, 10, 10, 3)         0         \n",
      "_________________________________________________________________\n",
      "conv2d (Conv2D)              (None, 10, 10, 32)        896       \n",
      "_________________________________________________________________\n",
      "conv2d_1 (Conv2D)            (None, 10, 10, 64)        18496     \n",
      "_________________________________________________________________\n",
      "max_pooling2d (MaxPooling2D) (None, 5, 5, 64)          0         \n",
      "_________________________________________________________________\n",
      "conv2d_2 (Conv2D)            (None, 5, 5, 32)          18464     \n",
      "_________________________________________________________________\n",
      "conv2d_3 (Conv2D)            (None, 5, 5, 64)          18496     \n",
      "_________________________________________________________________\n",
      "max_pooling2d_1 (MaxPooling2 (None, 2, 2, 64)          0         \n",
      "_________________________________________________________________\n",
      "conv2d_4 (Conv2D)            (None, 2, 2, 64)          36928     \n",
      "_________________________________________________________________\n",
      "max_pooling2d_2 (MaxPooling2 (None, 1, 1, 64)          0         \n",
      "_________________________________________________________________\n",
      "dropout (Dropout)            (None, 1, 1, 64)          0         \n",
      "_________________________________________________________________\n",
      "flatten (Flatten)            (None, 64)                0         \n",
      "_________________________________________________________________\n",
      "dense (Dense)                (None, 512)               33280     \n",
      "_________________________________________________________________\n",
      "dense_1 (Dense)              (None, 128)               65664     \n",
      "_________________________________________________________________\n",
      "dense_2 (Dense)              (None, 32)                4128      \n",
      "_________________________________________________________________\n",
      "dense_3 (Dense)              (None, 5)                 165       \n",
      "=================================================================\n",
      "Total params: 196,517\n",
      "Trainable params: 196,517\n",
      "Non-trainable params: 0\n",
      "_________________________________________________________________\n"
     ]
    }
   ],
   "metadata": {}
  },
  {
   "cell_type": "code",
   "execution_count": 9,
   "source": [
    "epochs=50\r\n",
    "history = model.fit(\r\n",
    "  train_ds,\r\n",
    "  validation_data=val_ds,\r\n",
    "  epochs=epochs\r\n",
    ")"
   ],
   "outputs": [
    {
     "output_type": "stream",
     "name": "stdout",
     "text": [
      "Epoch 1/50\n",
      "59/59 [==============================] - 5s 61ms/step - loss: 1.5143 - accuracy: 0.3474 - val_loss: 1.3065 - val_accuracy: 0.4796\n",
      "Epoch 2/50\n",
      "59/59 [==============================] - 3s 47ms/step - loss: 1.3068 - accuracy: 0.4850 - val_loss: 1.1763 - val_accuracy: 0.5652\n",
      "Epoch 3/50\n",
      "59/59 [==============================] - 3s 44ms/step - loss: 1.1820 - accuracy: 0.5374 - val_loss: 1.0703 - val_accuracy: 0.6043\n",
      "Epoch 4/50\n",
      "59/59 [==============================] - 3s 47ms/step - loss: 1.0540 - accuracy: 0.6045 - val_loss: 1.0159 - val_accuracy: 0.6332\n",
      "Epoch 5/50\n",
      "59/59 [==============================] - 3s 44ms/step - loss: 0.9693 - accuracy: 0.6454 - val_loss: 0.9755 - val_accuracy: 0.6502\n",
      "Epoch 6/50\n",
      "59/59 [==============================] - 3s 45ms/step - loss: 0.8810 - accuracy: 0.6970 - val_loss: 0.8786 - val_accuracy: 0.6967\n",
      "Epoch 7/50\n",
      "59/59 [==============================] - 3s 43ms/step - loss: 0.8131 - accuracy: 0.7197 - val_loss: 0.8597 - val_accuracy: 0.7024\n",
      "Epoch 8/50\n",
      "59/59 [==============================] - 3s 46ms/step - loss: 0.7394 - accuracy: 0.7445 - val_loss: 0.8628 - val_accuracy: 0.6990\n",
      "Epoch 9/50\n",
      "59/59 [==============================] - 3s 46ms/step - loss: 0.7120 - accuracy: 0.7691 - val_loss: 0.8538 - val_accuracy: 0.7109\n",
      "Epoch 10/50\n",
      "59/59 [==============================] - 3s 52ms/step - loss: 0.6454 - accuracy: 0.7846 - val_loss: 0.8107 - val_accuracy: 0.7273\n",
      "Epoch 11/50\n",
      "59/59 [==============================] - 3s 46ms/step - loss: 0.6119 - accuracy: 0.8017 - val_loss: 0.8001 - val_accuracy: 0.7432\n",
      "Epoch 12/50\n",
      "59/59 [==============================] - 3s 44ms/step - loss: 0.5776 - accuracy: 0.8097 - val_loss: 0.8179 - val_accuracy: 0.7511\n",
      "Epoch 13/50\n",
      "59/59 [==============================] - 3s 45ms/step - loss: 0.5550 - accuracy: 0.8196 - val_loss: 0.7869 - val_accuracy: 0.7523\n",
      "Epoch 14/50\n",
      "59/59 [==============================] - 3s 43ms/step - loss: 0.5201 - accuracy: 0.8322 - val_loss: 0.7929 - val_accuracy: 0.7506\n",
      "Epoch 15/50\n",
      "59/59 [==============================] - 8s 142ms/step - loss: 0.4878 - accuracy: 0.8439 - val_loss: 0.7916 - val_accuracy: 0.7670\n",
      "Epoch 16/50\n",
      "59/59 [==============================] - 9s 145ms/step - loss: 0.4693 - accuracy: 0.8536 - val_loss: 0.8074 - val_accuracy: 0.7443\n",
      "Epoch 17/50\n",
      "59/59 [==============================] - 7s 118ms/step - loss: 0.4581 - accuracy: 0.8549 - val_loss: 0.8169 - val_accuracy: 0.7545\n",
      "Epoch 18/50\n",
      "59/59 [==============================] - 3s 45ms/step - loss: 0.4593 - accuracy: 0.8589 - val_loss: 0.8229 - val_accuracy: 0.7585\n",
      "Epoch 19/50\n",
      "59/59 [==============================] - 3s 53ms/step - loss: 0.4383 - accuracy: 0.8669 - val_loss: 0.8308 - val_accuracy: 0.7613\n",
      "Epoch 20/50\n",
      "59/59 [==============================] - 3s 44ms/step - loss: 0.4146 - accuracy: 0.8744 - val_loss: 0.8335 - val_accuracy: 0.7636\n",
      "Epoch 21/50\n",
      "59/59 [==============================] - 3s 43ms/step - loss: 0.4147 - accuracy: 0.8760 - val_loss: 0.8337 - val_accuracy: 0.7647\n",
      "Epoch 22/50\n",
      "59/59 [==============================] - 3s 46ms/step - loss: 0.3732 - accuracy: 0.8848 - val_loss: 0.7909 - val_accuracy: 0.7636\n",
      "Epoch 23/50\n",
      "59/59 [==============================] - 3s 44ms/step - loss: 0.3652 - accuracy: 0.8910 - val_loss: 0.8794 - val_accuracy: 0.7715\n",
      "Epoch 24/50\n",
      "59/59 [==============================] - 3s 46ms/step - loss: 0.3788 - accuracy: 0.8856 - val_loss: 0.8198 - val_accuracy: 0.7817\n",
      "Epoch 25/50\n",
      "59/59 [==============================] - 3s 46ms/step - loss: 0.3618 - accuracy: 0.8934 - val_loss: 0.8360 - val_accuracy: 0.7710\n",
      "Epoch 26/50\n",
      "59/59 [==============================] - 3s 45ms/step - loss: 0.3507 - accuracy: 0.8974 - val_loss: 0.8165 - val_accuracy: 0.7914\n",
      "Epoch 27/50\n",
      "59/59 [==============================] - 3s 52ms/step - loss: 0.3461 - accuracy: 0.8976 - val_loss: 0.8195 - val_accuracy: 0.7857\n",
      "Epoch 28/50\n",
      "59/59 [==============================] - 3s 47ms/step - loss: 0.3310 - accuracy: 0.9009 - val_loss: 0.8563 - val_accuracy: 0.7772\n",
      "Epoch 29/50\n",
      "59/59 [==============================] - 4s 59ms/step - loss: 0.3327 - accuracy: 0.9043 - val_loss: 0.8282 - val_accuracy: 0.7868\n",
      "Epoch 30/50\n",
      "59/59 [==============================] - 4s 62ms/step - loss: 0.2823 - accuracy: 0.9249 - val_loss: 0.8585 - val_accuracy: 0.7999\n",
      "Epoch 31/50\n",
      "59/59 [==============================] - 3s 52ms/step - loss: 0.2995 - accuracy: 0.9180 - val_loss: 0.8275 - val_accuracy: 0.7920\n",
      "Epoch 32/50\n",
      "59/59 [==============================] - 3s 50ms/step - loss: 0.3043 - accuracy: 0.9107 - val_loss: 0.8684 - val_accuracy: 0.7749\n",
      "Epoch 33/50\n",
      "59/59 [==============================] - 4s 73ms/step - loss: 0.3053 - accuracy: 0.9139 - val_loss: 0.8654 - val_accuracy: 0.7902\n",
      "Epoch 34/50\n",
      "59/59 [==============================] - 4s 59ms/step - loss: 0.2823 - accuracy: 0.9222 - val_loss: 0.8626 - val_accuracy: 0.7937\n",
      "Epoch 35/50\n",
      "59/59 [==============================] - 3s 56ms/step - loss: 0.2717 - accuracy: 0.9241 - val_loss: 0.9195 - val_accuracy: 0.7863\n",
      "Epoch 36/50\n",
      "59/59 [==============================] - 4s 59ms/step - loss: 0.2706 - accuracy: 0.9262 - val_loss: 0.8914 - val_accuracy: 0.7931\n",
      "Epoch 37/50\n",
      "59/59 [==============================] - 3s 55ms/step - loss: 0.2751 - accuracy: 0.9265 - val_loss: 0.9098 - val_accuracy: 0.7823\n",
      "Epoch 38/50\n",
      "59/59 [==============================] - 3s 55ms/step - loss: 0.2848 - accuracy: 0.9193 - val_loss: 0.8605 - val_accuracy: 0.7885\n",
      "Epoch 39/50\n",
      "59/59 [==============================] - 4s 67ms/step - loss: 0.2604 - accuracy: 0.9308 - val_loss: 0.8598 - val_accuracy: 0.7908\n",
      "Epoch 40/50\n",
      "59/59 [==============================] - 4s 69ms/step - loss: 0.2564 - accuracy: 0.9321 - val_loss: 0.8780 - val_accuracy: 0.7897\n",
      "Epoch 41/50\n",
      "59/59 [==============================] - 4s 68ms/step - loss: 0.2638 - accuracy: 0.9335 - val_loss: 0.8602 - val_accuracy: 0.7868\n",
      "Epoch 42/50\n",
      "59/59 [==============================] - 3s 51ms/step - loss: 0.2596 - accuracy: 0.9294 - val_loss: 0.9370 - val_accuracy: 0.7755\n",
      "Epoch 43/50\n",
      "59/59 [==============================] - 3s 57ms/step - loss: 0.2452 - accuracy: 0.9380 - val_loss: 0.9663 - val_accuracy: 0.7868\n",
      "Epoch 44/50\n",
      "59/59 [==============================] - 3s 52ms/step - loss: 0.2882 - accuracy: 0.9196 - val_loss: 0.8894 - val_accuracy: 0.7902\n",
      "Epoch 45/50\n",
      "59/59 [==============================] - 3s 55ms/step - loss: 0.2522 - accuracy: 0.9332 - val_loss: 0.8872 - val_accuracy: 0.7874\n",
      "Epoch 46/50\n",
      "59/59 [==============================] - 3s 53ms/step - loss: 0.2615 - accuracy: 0.9335 - val_loss: 0.9034 - val_accuracy: 0.7942\n",
      "Epoch 47/50\n",
      "59/59 [==============================] - 3s 53ms/step - loss: 0.2393 - accuracy: 0.9420 - val_loss: 0.8453 - val_accuracy: 0.8129\n",
      "Epoch 48/50\n",
      "59/59 [==============================] - 4s 66ms/step - loss: 0.2280 - accuracy: 0.9423 - val_loss: 0.9444 - val_accuracy: 0.7885\n",
      "Epoch 49/50\n",
      "59/59 [==============================] - 3s 57ms/step - loss: 0.2451 - accuracy: 0.9319 - val_loss: 0.9397 - val_accuracy: 0.7846\n",
      "Epoch 50/50\n",
      "59/59 [==============================] - 3s 55ms/step - loss: 0.2334 - accuracy: 0.9425 - val_loss: 0.9040 - val_accuracy: 0.8010\n"
     ]
    }
   ],
   "metadata": {
    "scrolled": true
   }
  },
  {
   "cell_type": "code",
   "execution_count": 10,
   "source": [
    "acc = history.history['accuracy']\r\n",
    "val_acc = history.history['val_accuracy']\r\n",
    "\r\n",
    "loss = history.history['loss']\r\n",
    "val_loss = history.history['val_loss']\r\n",
    "\r\n",
    "epochs_range = range(epochs)\r\n",
    "\r\n",
    "plt.figure(figsize=(8, 8))\r\n",
    "plt.subplot(1, 2, 1)\r\n",
    "plt.plot(epochs_range, acc, label='Training Accuracy')\r\n",
    "plt.plot(epochs_range, val_acc, label='Validation Accuracy')\r\n",
    "plt.legend(loc='lower right')\r\n",
    "plt.title('Training and Validation Accuracy')\r\n",
    "\r\n",
    "plt.subplot(1, 2, 2)\r\n",
    "plt.plot(epochs_range, loss, label='Training Loss')\r\n",
    "plt.plot(epochs_range, val_loss, label='Validation Loss')\r\n",
    "plt.legend(loc='upper right')\r\n",
    "plt.title('Training and Validation Loss')\r\n",
    "plt.show()"
   ],
   "outputs": [
    {
     "output_type": "display_data",
     "data": {
      "image/png": "[encoded data removed]",
      "text/plain": [
       "<Figure size 576x576 with 2 Axes>"
      ]
     },
     "metadata": {
      "needs_background": "light"
     }
    }
   ],
   "metadata": {}
  },
  {
   "cell_type": "code",
   "execution_count": 11,
   "source": [
    "loss, accuracy = model.evaluate(val_ds)\r\n",
    "print('Test accuracy :', accuracy)"
   ],
   "outputs": [
    {
     "output_type": "stream",
     "name": "stdout",
     "text": [
      "28/28 [==============================] - 1s 14ms/step - loss: 0.9040 - accuracy: 0.8010\n",
      "Test accuracy : 0.8010203838348389\n"
     ]
    }
   ],
   "metadata": {}
  },
  {
   "cell_type": "code",
   "execution_count": 12,
   "source": [
    "# Save the entire model as a SavedModel.\r\n",
    "model.save('./data/humanModel/mode_v0')"
   ],
   "outputs": [
    {
     "output_type": "stream",
     "name": "stdout",
     "text": [
      "INFO:tensorflow:Assets written to: ./data/humanModel/mode_v0\\assets\n"
     ]
    }
   ],
   "metadata": {}
  },
  {
   "cell_type": "code",
   "execution_count": 13,
   "source": [
    "# new_model = tf.keras.models.load_model('./data/humanModel/mode_v0')\r\n",
    "\r\n",
    "# # Check its architecture\r\n",
    "# new_model.summary()"
   ],
   "outputs": [],
   "metadata": {}
  },
  {
   "cell_type": "markdown",
   "source": [
    "### Predict on new data"
   ],
   "metadata": {}
  },
  {
   "cell_type": "code",
   "execution_count": 14,
   "source": [
    "sunflower_path = \"./data/humanModel/imagesDatabase_split/val/39/-Mi--4ao5TjCt9Oht513_10.png\"\r\n",
    "\r\n",
    "img = keras.preprocessing.image.load_img(\r\n",
    "    sunflower_path, target_size=(img_height, img_width)\r\n",
    ")\r\n",
    "img_array = keras.preprocessing.image.img_to_array(img)\r\n",
    "img_array = tf.expand_dims(img_array, 0) # Create a batch\r\n",
    "\r\n",
    "predictions = model.predict(img_array)\r\n",
    "score = tf.nn.softmax(predictions[0])\r\n",
    "\r\n",
    "print(\r\n",
    "    \"This image most likely belongs to {} with a {:.2f} percent confidence.\"\r\n",
    "    .format(class_names[np.argmax(score)], 100 * np.max(score))\r\n",
    ")"
   ],
   "outputs": [
    {
     "output_type": "stream",
     "name": "stdout",
     "text": [
      "This image most likely belongs to 39 with a 99.98 percent confidence.\n"
     ]
    }
   ],
   "metadata": {}
  }
 ],
 "metadata": {
  "kernelspec": {
   "name": "python3",
   "display_name": "Python 3.7.4 64-bit ('base': conda)"
  },
  "language_info": {
   "codemirror_mode": {
    "name": "ipython",
    "version": 3
   },
   "file_extension": ".py",
   "mimetype": "text/x-python",
   "name": "python",
   "nbconvert_exporter": "python",
   "pygments_lexer": "ipython3",
   "version": "3.7.4"
  },
  "interpreter": {
   "hash": "e48d23369a553edc96f1373b6255b5687d82d68cd08867622b2500e338930542"
  }
 },
 "nbformat": 4,
 "nbformat_minor": 4
}