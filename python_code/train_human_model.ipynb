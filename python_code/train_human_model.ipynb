{
 "cells": [
  {
   "cell_type": "code",
   "execution_count": 1,
   "metadata": {},
   "outputs": [],
   "source": [
    "import numpy as np\n",
    "import random\n",
    "import os\n",
    "import shutil\n",
    "\n",
    "# ! pip install split-folders\n",
    "import splitfolders\n",
    "\n",
    "import tensorflow as tf\n",
    "from tensorflow import keras\n",
    "from tensorflow.keras import layers, regularizers\n",
    "from tensorflow.keras.models import Sequential\n",
    "\n",
    "from tensorflow.keras.preprocessing.image import ImageDataGenerator\n",
    "from tensorflow.keras.preprocessing import image\n",
    "\n",
    "import matplotlib.pyplot as plt\n",
    "\n",
    "rs = 42\n",
    "def reset_random_seeds(rs):\n",
    "   os.environ['PYTHONHASHSEED']=str(rs)\n",
    "   tf.random.set_seed(rs)\n",
    "   np.random.seed(rs)\n",
    "   random.seed(rs)\n",
    "reset_random_seeds(rs)\n",
    "\n",
    "map_dir = 'map 3'"
   ]
  },
  {
   "cell_type": "markdown",
   "metadata": {},
   "source": [
    "remove prev saved database:"
   ]
  },
  {
   "cell_type": "code",
   "execution_count": 2,
   "metadata": {},
   "outputs": [],
   "source": [
    "dir_path = './data/humanModel_dataset_split'\n",
    "if os.path.exists(dir_path):\n",
    "    shutil.rmtree(dir_path)\n",
    "else:\n",
    "    print(\"File not found in the directory\")"
   ]
  },
  {
   "cell_type": "markdown",
   "metadata": {},
   "source": [
    "# Part 1 - Data Preprocessing"
   ]
  },
  {
   "cell_type": "markdown",
   "metadata": {},
   "source": [
    "## Split into train , test data"
   ]
  },
  {
   "cell_type": "code",
   "execution_count": 3,
   "metadata": {},
   "outputs": [
    {
     "name": "stderr",
     "output_type": "stream",
     "text": [
      "Copying files: 5834 files [00:00, 15985.13 files/s]\n"
     ]
    }
   ],
   "source": [
    "# train, test split\n",
    "splitfolders.ratio('./data/humanModel_dataset/', output=\"./data/humanModel_dataset_split\", ratio=(0.7, 0.3))"
   ]
  },
  {
   "cell_type": "markdown",
   "metadata": {},
   "source": [
    "### Preprocessing the Training set"
   ]
  },
  {
   "cell_type": "code",
   "execution_count": 4,
   "metadata": {},
   "outputs": [
    {
     "name": "stdout",
     "output_type": "stream",
     "text": [
      "Found 4081 images belonging to 5 classes.\n",
      "Found 1753 images belonging to 5 classes.\n"
     ]
    }
   ],
   "source": [
    "batch_size = 64\n",
    "IMG_SIZE = 10\n",
    "\n",
    "datagen = ImageDataGenerator(rescale = 1./255)\n",
    "train = datagen.flow_from_directory('./data/humanModel_dataset_split/train',\n",
    "                                          target_size = (IMG_SIZE,IMG_SIZE), batch_size = batch_size, seed=rs, class_mode='sparse')\n",
    "\n",
    "test = datagen.flow_from_directory('./data/humanModel_dataset_split/val',\n",
    "                                            target_size = (IMG_SIZE, IMG_SIZE), batch_size = batch_size, seed=rs, class_mode='sparse')"
   ]
  },
  {
   "cell_type": "markdown",
   "metadata": {},
   "source": [
    "## View some data"
   ]
  },
  {
   "cell_type": "code",
   "execution_count": 5,
   "metadata": {},
   "outputs": [
    {
     "name": "stderr",
     "output_type": "stream",
     "text": [
      "2021-12-20 16:14:46.133632: I tensorflow/stream_executor/cuda/cuda_gpu_executor.cc:937] successful NUMA node read from SysFS had negative value (-1), but there must be at least one NUMA node, so returning NUMA node zero\n",
      "2021-12-20 16:14:46.137806: I tensorflow/stream_executor/cuda/cuda_gpu_executor.cc:937] successful NUMA node read from SysFS had negative value (-1), but there must be at least one NUMA node, so returning NUMA node zero\n",
      "2021-12-20 16:14:46.138094: I tensorflow/stream_executor/cuda/cuda_gpu_executor.cc:937] successful NUMA node read from SysFS had negative value (-1), but there must be at least one NUMA node, so returning NUMA node zero\n",
      "2021-12-20 16:14:46.138853: I tensorflow/core/platform/cpu_feature_guard.cc:142] This TensorFlow binary is optimized with oneAPI Deep Neural Network Library (oneDNN) to use the following CPU instructions in performance-critical operations:  AVX2 FMA\n",
      "To enable them in other operations, rebuild TensorFlow with the appropriate compiler flags.\n",
      "2021-12-20 16:14:46.139296: I tensorflow/stream_executor/cuda/cuda_gpu_executor.cc:937] successful NUMA node read from SysFS had negative value (-1), but there must be at least one NUMA node, so returning NUMA node zero\n",
      "2021-12-20 16:14:46.139573: I tensorflow/stream_executor/cuda/cuda_gpu_executor.cc:937] successful NUMA node read from SysFS had negative value (-1), but there must be at least one NUMA node, so returning NUMA node zero\n",
      "2021-12-20 16:14:46.139837: I tensorflow/stream_executor/cuda/cuda_gpu_executor.cc:937] successful NUMA node read from SysFS had negative value (-1), but there must be at least one NUMA node, so returning NUMA node zero\n",
      "2021-12-20 16:14:46.437909: I tensorflow/stream_executor/cuda/cuda_gpu_executor.cc:937] successful NUMA node read from SysFS had negative value (-1), but there must be at least one NUMA node, so returning NUMA node zero\n",
      "2021-12-20 16:14:46.438213: I tensorflow/stream_executor/cuda/cuda_gpu_executor.cc:937] successful NUMA node read from SysFS had negative value (-1), but there must be at least one NUMA node, so returning NUMA node zero\n",
      "2021-12-20 16:14:46.438522: I tensorflow/stream_executor/cuda/cuda_gpu_executor.cc:937] successful NUMA node read from SysFS had negative value (-1), but there must be at least one NUMA node, so returning NUMA node zero\n",
      "2021-12-20 16:14:46.438776: I tensorflow/core/common_runtime/gpu/gpu_device.cc:1510] Created device /job:localhost/replica:0/task:0/device:GPU:0 with 11171 MB memory:  -> device: 0, name: NVIDIA TITAN X (Pascal), pci bus id: 0000:01:00.0, compute capability: 6.1\n"
     ]
    }
   ],
   "source": [
    "num_classes = 5\n",
    "\n",
    "model = Sequential([\n",
    "  layers.Conv2D(8, 4, padding='same', activation='relu', kernel_regularizer=regularizers.l2(0.001), input_shape=[IMG_SIZE,IMG_SIZE,3]),\n",
    "  layers.Conv2D(16, 4, padding='same', activation='relu', kernel_regularizer=regularizers.l2(0.001)),\n",
    "  layers.Conv2D(16, 3, padding='same', activation='relu', kernel_regularizer=regularizers.l2(0.001)),\n",
    "  layers.MaxPooling2D(),\n",
    "  layers.Conv2D(8, 3, padding='same', activation='relu', kernel_regularizer=regularizers.l2(0.001)),\n",
    "  layers.Dropout(0.5),\n",
    "  layers.Flatten(),\n",
    "  layers.Dense(32, activation='relu', kernel_regularizer=regularizers.l2(0.001)),\n",
    "  layers.Dense(num_classes, activation='softmax')\n",
    "])"
   ]
  },
  {
   "cell_type": "code",
   "execution_count": 6,
   "metadata": {},
   "outputs": [],
   "source": [
    "model.compile(optimizer='adam',\n",
    "              loss=tf.keras.losses.SparseCategoricalCrossentropy(from_logits=True),\n",
    "              metrics=['accuracy'])"
   ]
  },
  {
   "cell_type": "code",
   "execution_count": 7,
   "metadata": {},
   "outputs": [
    {
     "name": "stdout",
     "output_type": "stream",
     "text": [
      "Model: \"sequential\"\n",
      "_________________________________________________________________\n",
      "Layer (type)                 Output Shape              Param #   \n",
      "=================================================================\n",
      "conv2d (Conv2D)              (None, 10, 10, 8)         392       \n",
      "_________________________________________________________________\n",
      "conv2d_1 (Conv2D)            (None, 10, 10, 16)        2064      \n",
      "_________________________________________________________________\n",
      "conv2d_2 (Conv2D)            (None, 10, 10, 16)        2320      \n",
      "_________________________________________________________________\n",
      "max_pooling2d (MaxPooling2D) (None, 5, 5, 16)          0         \n",
      "_________________________________________________________________\n",
      "conv2d_3 (Conv2D)            (None, 5, 5, 8)           1160      \n",
      "_________________________________________________________________\n",
      "dropout (Dropout)            (None, 5, 5, 8)           0         \n",
      "_________________________________________________________________\n",
      "flatten (Flatten)            (None, 200)               0         \n",
      "_________________________________________________________________\n",
      "dense (Dense)                (None, 32)                6432      \n",
      "_________________________________________________________________\n",
      "dense_1 (Dense)              (None, 5)                 165       \n",
      "=================================================================\n",
      "Total params: 12,533\n",
      "Trainable params: 12,533\n",
      "Non-trainable params: 0\n",
      "_________________________________________________________________\n"
     ]
    }
   ],
   "source": [
    "model.summary()"
   ]
  },
  {
   "cell_type": "code",
   "execution_count": 8,
   "metadata": {
    "scrolled": true
   },
   "outputs": [
    {
     "name": "stderr",
     "output_type": "stream",
     "text": [
      "2021-12-20 16:14:46.783549: I tensorflow/compiler/mlir/mlir_graph_optimization_pass.cc:185] None of the MLIR Optimization Passes are enabled (registered 2)\n",
      "/home/ido/anaconda3/envs/tf-gpu/lib/python3.7/site-packages/keras/backend.py:4907: UserWarning: \"`sparse_categorical_crossentropy` received `from_logits=True`, but the `output` argument was produced by a sigmoid or softmax activation and thus does not represent logits. Was this intended?\"\n",
      "  '\"`sparse_categorical_crossentropy` received `from_logits=True`, but '\n"
     ]
    },
    {
     "name": "stdout",
     "output_type": "stream",
     "text": [
      "Epoch 1/150\n"
     ]
    },
    {
     "name": "stderr",
     "output_type": "stream",
     "text": [
      "2021-12-20 16:14:47.435040: I tensorflow/stream_executor/cuda/cuda_dnn.cc:369] Loaded cuDNN version 8300\n"
     ]
    },
    {
     "name": "stdout",
     "output_type": "stream",
     "text": [
      "64/64 [==============================] - 2s 15ms/step - loss: 1.6218 - accuracy: 0.3252 - val_loss: 1.4035 - val_accuracy: 0.5533\n",
      "Epoch 2/150\n",
      "64/64 [==============================] - 1s 12ms/step - loss: 1.3068 - accuracy: 0.5244 - val_loss: 1.1226 - val_accuracy: 0.5750\n",
      "Epoch 3/150\n",
      "64/64 [==============================] - 1s 12ms/step - loss: 1.1643 - accuracy: 0.5719 - val_loss: 1.0318 - val_accuracy: 0.6395\n",
      "Epoch 4/150\n",
      "64/64 [==============================] - 1s 11ms/step - loss: 1.0807 - accuracy: 0.6217 - val_loss: 0.9800 - val_accuracy: 0.6520\n",
      "Epoch 5/150\n",
      "64/64 [==============================] - 1s 12ms/step - loss: 1.0167 - accuracy: 0.6604 - val_loss: 0.9265 - val_accuracy: 0.6629\n",
      "Epoch 6/150\n",
      "64/64 [==============================] - 1s 11ms/step - loss: 0.9803 - accuracy: 0.6682 - val_loss: 0.9150 - val_accuracy: 0.6828\n",
      "Epoch 7/150\n",
      "64/64 [==============================] - 1s 11ms/step - loss: 0.9483 - accuracy: 0.6812 - val_loss: 0.8905 - val_accuracy: 0.7068\n",
      "Epoch 8/150\n",
      "64/64 [==============================] - 1s 11ms/step - loss: 0.9375 - accuracy: 0.6917 - val_loss: 0.8687 - val_accuracy: 0.7034\n",
      "Epoch 9/150\n",
      "64/64 [==============================] - 1s 12ms/step - loss: 0.9119 - accuracy: 0.6991 - val_loss: 0.8339 - val_accuracy: 0.7091\n",
      "Epoch 10/150\n",
      "64/64 [==============================] - 1s 11ms/step - loss: 0.8799 - accuracy: 0.7047 - val_loss: 0.8261 - val_accuracy: 0.7096\n",
      "Epoch 11/150\n",
      "64/64 [==============================] - 1s 11ms/step - loss: 0.8686 - accuracy: 0.7096 - val_loss: 0.8585 - val_accuracy: 0.7148\n",
      "Epoch 12/150\n",
      "64/64 [==============================] - 1s 12ms/step - loss: 0.8602 - accuracy: 0.7221 - val_loss: 0.8259 - val_accuracy: 0.7131\n",
      "Epoch 13/150\n",
      "64/64 [==============================] - 1s 12ms/step - loss: 0.8385 - accuracy: 0.7219 - val_loss: 0.8013 - val_accuracy: 0.7359\n",
      "Epoch 14/150\n",
      "64/64 [==============================] - 1s 11ms/step - loss: 0.8264 - accuracy: 0.7322 - val_loss: 0.7895 - val_accuracy: 0.7416\n",
      "Epoch 15/150\n",
      "64/64 [==============================] - 1s 12ms/step - loss: 0.8087 - accuracy: 0.7385 - val_loss: 0.7624 - val_accuracy: 0.7513\n",
      "Epoch 16/150\n",
      "64/64 [==============================] - 1s 12ms/step - loss: 0.7958 - accuracy: 0.7361 - val_loss: 0.7641 - val_accuracy: 0.7564\n",
      "Epoch 17/150\n",
      "64/64 [==============================] - 1s 11ms/step - loss: 0.7774 - accuracy: 0.7474 - val_loss: 0.7348 - val_accuracy: 0.7644\n",
      "Epoch 18/150\n",
      "64/64 [==============================] - 1s 12ms/step - loss: 0.7738 - accuracy: 0.7515 - val_loss: 0.7439 - val_accuracy: 0.7638\n",
      "Epoch 19/150\n",
      "64/64 [==============================] - 1s 12ms/step - loss: 0.7740 - accuracy: 0.7594 - val_loss: 0.7312 - val_accuracy: 0.7633\n",
      "Epoch 20/150\n",
      "64/64 [==============================] - 1s 12ms/step - loss: 0.7426 - accuracy: 0.7689 - val_loss: 0.7133 - val_accuracy: 0.7804\n",
      "Epoch 21/150\n",
      "64/64 [==============================] - 1s 12ms/step - loss: 0.7433 - accuracy: 0.7640 - val_loss: 0.7013 - val_accuracy: 0.7861\n",
      "Epoch 22/150\n",
      "64/64 [==============================] - 1s 11ms/step - loss: 0.7416 - accuracy: 0.7687 - val_loss: 0.7079 - val_accuracy: 0.7929\n",
      "Epoch 23/150\n",
      "64/64 [==============================] - 1s 12ms/step - loss: 0.7274 - accuracy: 0.7728 - val_loss: 0.7142 - val_accuracy: 0.7895\n",
      "Epoch 24/150\n",
      "64/64 [==============================] - 1s 11ms/step - loss: 0.7179 - accuracy: 0.7765 - val_loss: 0.7118 - val_accuracy: 0.7844\n",
      "Epoch 25/150\n",
      "64/64 [==============================] - 1s 12ms/step - loss: 0.7085 - accuracy: 0.7834 - val_loss: 0.6815 - val_accuracy: 0.7929\n",
      "Epoch 26/150\n",
      "64/64 [==============================] - 1s 12ms/step - loss: 0.7024 - accuracy: 0.7910 - val_loss: 0.6967 - val_accuracy: 0.7952\n",
      "Epoch 27/150\n",
      "64/64 [==============================] - 1s 12ms/step - loss: 0.6966 - accuracy: 0.7927 - val_loss: 0.6778 - val_accuracy: 0.7981\n",
      "Epoch 28/150\n",
      "64/64 [==============================] - 1s 12ms/step - loss: 0.6794 - accuracy: 0.7956 - val_loss: 0.6815 - val_accuracy: 0.8032\n",
      "Epoch 29/150\n",
      "64/64 [==============================] - 1s 12ms/step - loss: 0.6811 - accuracy: 0.7951 - val_loss: 0.6623 - val_accuracy: 0.8032\n",
      "Epoch 30/150\n",
      "64/64 [==============================] - 1s 12ms/step - loss: 0.6608 - accuracy: 0.7996 - val_loss: 0.6621 - val_accuracy: 0.7986\n",
      "Epoch 31/150\n",
      "64/64 [==============================] - 1s 11ms/step - loss: 0.6645 - accuracy: 0.7998 - val_loss: 0.6663 - val_accuracy: 0.7975\n",
      "Epoch 32/150\n",
      "64/64 [==============================] - 1s 12ms/step - loss: 0.6560 - accuracy: 0.8079 - val_loss: 0.6605 - val_accuracy: 0.8021\n",
      "Epoch 33/150\n",
      "64/64 [==============================] - 1s 12ms/step - loss: 0.6435 - accuracy: 0.8069 - val_loss: 0.6503 - val_accuracy: 0.8095\n",
      "Epoch 34/150\n",
      "64/64 [==============================] - 1s 11ms/step - loss: 0.6548 - accuracy: 0.8121 - val_loss: 0.6497 - val_accuracy: 0.8066\n",
      "Epoch 35/150\n",
      "64/64 [==============================] - 1s 12ms/step - loss: 0.6643 - accuracy: 0.8057 - val_loss: 0.6561 - val_accuracy: 0.8055\n",
      "Epoch 36/150\n",
      "64/64 [==============================] - 1s 11ms/step - loss: 0.6373 - accuracy: 0.8182 - val_loss: 0.6566 - val_accuracy: 0.8026\n",
      "Epoch 37/150\n",
      "64/64 [==============================] - 1s 12ms/step - loss: 0.6419 - accuracy: 0.8172 - val_loss: 0.6475 - val_accuracy: 0.8026\n",
      "Epoch 38/150\n",
      "64/64 [==============================] - 1s 12ms/step - loss: 0.6315 - accuracy: 0.8172 - val_loss: 0.6619 - val_accuracy: 0.8072\n",
      "Epoch 39/150\n",
      "64/64 [==============================] - 1s 12ms/step - loss: 0.6342 - accuracy: 0.8162 - val_loss: 0.6508 - val_accuracy: 0.8083\n",
      "Epoch 40/150\n",
      "64/64 [==============================] - 1s 12ms/step - loss: 0.6195 - accuracy: 0.8246 - val_loss: 0.6561 - val_accuracy: 0.8021\n",
      "Epoch 41/150\n",
      "64/64 [==============================] - 1s 12ms/step - loss: 0.6112 - accuracy: 0.8241 - val_loss: 0.6459 - val_accuracy: 0.8140\n",
      "Epoch 42/150\n",
      "64/64 [==============================] - 1s 11ms/step - loss: 0.6144 - accuracy: 0.8204 - val_loss: 0.6441 - val_accuracy: 0.8157\n",
      "Epoch 43/150\n",
      "64/64 [==============================] - 1s 12ms/step - loss: 0.6278 - accuracy: 0.8199 - val_loss: 0.6412 - val_accuracy: 0.8100\n",
      "Epoch 44/150\n",
      "64/64 [==============================] - 1s 12ms/step - loss: 0.6096 - accuracy: 0.8282 - val_loss: 0.6545 - val_accuracy: 0.8112\n",
      "Epoch 45/150\n",
      "64/64 [==============================] - 1s 12ms/step - loss: 0.6131 - accuracy: 0.8253 - val_loss: 0.6476 - val_accuracy: 0.8106\n",
      "Epoch 46/150\n",
      "64/64 [==============================] - 1s 12ms/step - loss: 0.6019 - accuracy: 0.8277 - val_loss: 0.6406 - val_accuracy: 0.8072\n",
      "Epoch 47/150\n",
      "64/64 [==============================] - 1s 12ms/step - loss: 0.5968 - accuracy: 0.8260 - val_loss: 0.6627 - val_accuracy: 0.8072\n",
      "Epoch 48/150\n",
      "64/64 [==============================] - 1s 12ms/step - loss: 0.5976 - accuracy: 0.8312 - val_loss: 0.6540 - val_accuracy: 0.8072\n",
      "Epoch 49/150\n",
      "64/64 [==============================] - 1s 12ms/step - loss: 0.5977 - accuracy: 0.8336 - val_loss: 0.6430 - val_accuracy: 0.8112\n",
      "Epoch 50/150\n",
      "64/64 [==============================] - 1s 12ms/step - loss: 0.5998 - accuracy: 0.8331 - val_loss: 0.6447 - val_accuracy: 0.8146\n",
      "Epoch 51/150\n",
      "64/64 [==============================] - 1s 12ms/step - loss: 0.5971 - accuracy: 0.8258 - val_loss: 0.6541 - val_accuracy: 0.8055\n",
      "Epoch 52/150\n",
      "64/64 [==============================] - 1s 13ms/step - loss: 0.6014 - accuracy: 0.8285 - val_loss: 0.6615 - val_accuracy: 0.8032\n",
      "Epoch 53/150\n",
      "64/64 [==============================] - 1s 12ms/step - loss: 0.5802 - accuracy: 0.8405 - val_loss: 0.6480 - val_accuracy: 0.8066\n",
      "Epoch 54/150\n",
      "64/64 [==============================] - 1s 12ms/step - loss: 0.5796 - accuracy: 0.8356 - val_loss: 0.6321 - val_accuracy: 0.8237\n",
      "Epoch 55/150\n",
      "64/64 [==============================] - 1s 12ms/step - loss: 0.5751 - accuracy: 0.8373 - val_loss: 0.6356 - val_accuracy: 0.8175\n",
      "Epoch 56/150\n",
      "64/64 [==============================] - 1s 12ms/step - loss: 0.5906 - accuracy: 0.8326 - val_loss: 0.6463 - val_accuracy: 0.8055\n",
      "Epoch 57/150\n",
      "64/64 [==============================] - 1s 11ms/step - loss: 0.5776 - accuracy: 0.8317 - val_loss: 0.6304 - val_accuracy: 0.8214\n",
      "Epoch 58/150\n",
      "64/64 [==============================] - 1s 12ms/step - loss: 0.5665 - accuracy: 0.8410 - val_loss: 0.6335 - val_accuracy: 0.8169\n",
      "Epoch 59/150\n",
      "64/64 [==============================] - 1s 12ms/step - loss: 0.5611 - accuracy: 0.8459 - val_loss: 0.6374 - val_accuracy: 0.8163\n",
      "Epoch 60/150\n",
      "64/64 [==============================] - 1s 12ms/step - loss: 0.5652 - accuracy: 0.8461 - val_loss: 0.6369 - val_accuracy: 0.8175\n",
      "Epoch 61/150\n",
      "64/64 [==============================] - 1s 12ms/step - loss: 0.5679 - accuracy: 0.8410 - val_loss: 0.6412 - val_accuracy: 0.8066\n",
      "Epoch 62/150\n",
      "64/64 [==============================] - 1s 12ms/step - loss: 0.5655 - accuracy: 0.8444 - val_loss: 0.6427 - val_accuracy: 0.8100\n",
      "Epoch 63/150\n",
      "64/64 [==============================] - 1s 11ms/step - loss: 0.5636 - accuracy: 0.8434 - val_loss: 0.6210 - val_accuracy: 0.8180\n",
      "Epoch 64/150\n",
      "64/64 [==============================] - 1s 12ms/step - loss: 0.5524 - accuracy: 0.8486 - val_loss: 0.6277 - val_accuracy: 0.8220\n",
      "Epoch 65/150\n",
      "64/64 [==============================] - 1s 12ms/step - loss: 0.5487 - accuracy: 0.8510 - val_loss: 0.6242 - val_accuracy: 0.8237\n",
      "Epoch 66/150\n",
      "64/64 [==============================] - 1s 12ms/step - loss: 0.5464 - accuracy: 0.8495 - val_loss: 0.6369 - val_accuracy: 0.8203\n",
      "Epoch 67/150\n",
      "64/64 [==============================] - 1s 12ms/step - loss: 0.5552 - accuracy: 0.8432 - val_loss: 0.6396 - val_accuracy: 0.8100\n",
      "Epoch 68/150\n",
      "64/64 [==============================] - 1s 12ms/step - loss: 0.5516 - accuracy: 0.8461 - val_loss: 0.6378 - val_accuracy: 0.8146\n",
      "Epoch 69/150\n",
      "64/64 [==============================] - 1s 13ms/step - loss: 0.5442 - accuracy: 0.8503 - val_loss: 0.6245 - val_accuracy: 0.8232\n",
      "Epoch 70/150\n",
      "64/64 [==============================] - 1s 11ms/step - loss: 0.5376 - accuracy: 0.8510 - val_loss: 0.6662 - val_accuracy: 0.8095\n",
      "Epoch 71/150\n",
      "64/64 [==============================] - 1s 12ms/step - loss: 0.5450 - accuracy: 0.8491 - val_loss: 0.6444 - val_accuracy: 0.7986\n",
      "Epoch 72/150\n",
      "64/64 [==============================] - 1s 11ms/step - loss: 0.5477 - accuracy: 0.8488 - val_loss: 0.6363 - val_accuracy: 0.8197\n",
      "Epoch 73/150\n",
      "64/64 [==============================] - 1s 12ms/step - loss: 0.5482 - accuracy: 0.8486 - val_loss: 0.6218 - val_accuracy: 0.8266\n",
      "Epoch 74/150\n",
      "64/64 [==============================] - 1s 12ms/step - loss: 0.5334 - accuracy: 0.8493 - val_loss: 0.6169 - val_accuracy: 0.8300\n",
      "Epoch 75/150\n",
      "64/64 [==============================] - 1s 12ms/step - loss: 0.5412 - accuracy: 0.8498 - val_loss: 0.6235 - val_accuracy: 0.8283\n",
      "Epoch 76/150\n",
      "64/64 [==============================] - 1s 11ms/step - loss: 0.5314 - accuracy: 0.8532 - val_loss: 0.6296 - val_accuracy: 0.8220\n",
      "Epoch 77/150\n",
      "64/64 [==============================] - 1s 12ms/step - loss: 0.5417 - accuracy: 0.8505 - val_loss: 0.6222 - val_accuracy: 0.8197\n",
      "Epoch 78/150\n",
      "64/64 [==============================] - 1s 11ms/step - loss: 0.5298 - accuracy: 0.8527 - val_loss: 0.6370 - val_accuracy: 0.8243\n",
      "Epoch 79/150\n",
      "64/64 [==============================] - 1s 12ms/step - loss: 0.5263 - accuracy: 0.8518 - val_loss: 0.6362 - val_accuracy: 0.8146\n",
      "Epoch 80/150\n",
      "64/64 [==============================] - 1s 13ms/step - loss: 0.5360 - accuracy: 0.8522 - val_loss: 0.6391 - val_accuracy: 0.8140\n",
      "Epoch 81/150\n",
      "64/64 [==============================] - 1s 12ms/step - loss: 0.5271 - accuracy: 0.8554 - val_loss: 0.6406 - val_accuracy: 0.8186\n",
      "Epoch 82/150\n",
      "64/64 [==============================] - 1s 12ms/step - loss: 0.5280 - accuracy: 0.8557 - val_loss: 0.6194 - val_accuracy: 0.8192\n",
      "Epoch 83/150\n",
      "64/64 [==============================] - 1s 12ms/step - loss: 0.5351 - accuracy: 0.8522 - val_loss: 0.6334 - val_accuracy: 0.8192\n",
      "Epoch 84/150\n",
      "64/64 [==============================] - 1s 12ms/step - loss: 0.5273 - accuracy: 0.8581 - val_loss: 0.6309 - val_accuracy: 0.8300\n",
      "Epoch 85/150\n",
      "64/64 [==============================] - 1s 12ms/step - loss: 0.5203 - accuracy: 0.8571 - val_loss: 0.6204 - val_accuracy: 0.8266\n",
      "Epoch 86/150\n",
      "64/64 [==============================] - 1s 12ms/step - loss: 0.5257 - accuracy: 0.8520 - val_loss: 0.6216 - val_accuracy: 0.8277\n",
      "Epoch 87/150\n",
      "64/64 [==============================] - 1s 12ms/step - loss: 0.5241 - accuracy: 0.8522 - val_loss: 0.6281 - val_accuracy: 0.8294\n",
      "Epoch 88/150\n",
      "64/64 [==============================] - 1s 12ms/step - loss: 0.5215 - accuracy: 0.8581 - val_loss: 0.6305 - val_accuracy: 0.8289\n",
      "Epoch 89/150\n",
      "64/64 [==============================] - 1s 12ms/step - loss: 0.5230 - accuracy: 0.8567 - val_loss: 0.6321 - val_accuracy: 0.8294\n",
      "Epoch 90/150\n",
      "64/64 [==============================] - 1s 12ms/step - loss: 0.5140 - accuracy: 0.8576 - val_loss: 0.6164 - val_accuracy: 0.8334\n",
      "Epoch 91/150\n",
      "64/64 [==============================] - 1s 12ms/step - loss: 0.5142 - accuracy: 0.8618 - val_loss: 0.6232 - val_accuracy: 0.8254\n",
      "Epoch 92/150\n",
      "64/64 [==============================] - 1s 12ms/step - loss: 0.5073 - accuracy: 0.8647 - val_loss: 0.6322 - val_accuracy: 0.8254\n",
      "Epoch 93/150\n",
      "64/64 [==============================] - 1s 12ms/step - loss: 0.5052 - accuracy: 0.8628 - val_loss: 0.6462 - val_accuracy: 0.8203\n",
      "Epoch 94/150\n",
      "64/64 [==============================] - 1s 12ms/step - loss: 0.5096 - accuracy: 0.8611 - val_loss: 0.6325 - val_accuracy: 0.8249\n",
      "Epoch 95/150\n",
      "64/64 [==============================] - 1s 12ms/step - loss: 0.5067 - accuracy: 0.8630 - val_loss: 0.6160 - val_accuracy: 0.8306\n",
      "Epoch 96/150\n",
      "64/64 [==============================] - 1s 11ms/step - loss: 0.5089 - accuracy: 0.8633 - val_loss: 0.6319 - val_accuracy: 0.8369\n",
      "Epoch 97/150\n",
      "64/64 [==============================] - 1s 11ms/step - loss: 0.5073 - accuracy: 0.8584 - val_loss: 0.6448 - val_accuracy: 0.8260\n",
      "Epoch 98/150\n",
      "64/64 [==============================] - 1s 12ms/step - loss: 0.5141 - accuracy: 0.8601 - val_loss: 0.6329 - val_accuracy: 0.8260\n",
      "Epoch 99/150\n",
      "64/64 [==============================] - 1s 12ms/step - loss: 0.5109 - accuracy: 0.8618 - val_loss: 0.6493 - val_accuracy: 0.8232\n",
      "Epoch 100/150\n",
      "64/64 [==============================] - 1s 12ms/step - loss: 0.5085 - accuracy: 0.8564 - val_loss: 0.6146 - val_accuracy: 0.8334\n",
      "Epoch 101/150\n",
      "64/64 [==============================] - 1s 12ms/step - loss: 0.4959 - accuracy: 0.8647 - val_loss: 0.6436 - val_accuracy: 0.8243\n",
      "Epoch 102/150\n",
      "64/64 [==============================] - 1s 12ms/step - loss: 0.5018 - accuracy: 0.8709 - val_loss: 0.6322 - val_accuracy: 0.8334\n",
      "Epoch 103/150\n",
      "64/64 [==============================] - 1s 12ms/step - loss: 0.5022 - accuracy: 0.8662 - val_loss: 0.6349 - val_accuracy: 0.8237\n",
      "Epoch 104/150\n",
      "64/64 [==============================] - 1s 12ms/step - loss: 0.5017 - accuracy: 0.8618 - val_loss: 0.6516 - val_accuracy: 0.8192\n",
      "Epoch 105/150\n",
      "64/64 [==============================] - 1s 12ms/step - loss: 0.4968 - accuracy: 0.8689 - val_loss: 0.6366 - val_accuracy: 0.8243\n",
      "Epoch 106/150\n",
      "64/64 [==============================] - 1s 12ms/step - loss: 0.4899 - accuracy: 0.8704 - val_loss: 0.6465 - val_accuracy: 0.8260\n",
      "Epoch 107/150\n",
      "64/64 [==============================] - 1s 11ms/step - loss: 0.5068 - accuracy: 0.8672 - val_loss: 0.6870 - val_accuracy: 0.8140\n",
      "Epoch 108/150\n",
      "64/64 [==============================] - 1s 12ms/step - loss: 0.5066 - accuracy: 0.8618 - val_loss: 0.6237 - val_accuracy: 0.8317\n",
      "Epoch 109/150\n",
      "64/64 [==============================] - 1s 12ms/step - loss: 0.5000 - accuracy: 0.8679 - val_loss: 0.6422 - val_accuracy: 0.8289\n",
      "Epoch 110/150\n",
      "64/64 [==============================] - 1s 11ms/step - loss: 0.4930 - accuracy: 0.8640 - val_loss: 0.6353 - val_accuracy: 0.8306\n",
      "Epoch 111/150\n",
      "64/64 [==============================] - 1s 11ms/step - loss: 0.4836 - accuracy: 0.8728 - val_loss: 0.6570 - val_accuracy: 0.8226\n",
      "Epoch 112/150\n",
      "64/64 [==============================] - 1s 12ms/step - loss: 0.4850 - accuracy: 0.8723 - val_loss: 0.6236 - val_accuracy: 0.8340\n",
      "Epoch 113/150\n",
      "64/64 [==============================] - 1s 13ms/step - loss: 0.4906 - accuracy: 0.8696 - val_loss: 0.6287 - val_accuracy: 0.8266\n",
      "Epoch 114/150\n",
      "64/64 [==============================] - 1s 12ms/step - loss: 0.4880 - accuracy: 0.8660 - val_loss: 0.6338 - val_accuracy: 0.8317\n",
      "Epoch 115/150\n",
      "64/64 [==============================] - 1s 12ms/step - loss: 0.4799 - accuracy: 0.8726 - val_loss: 0.6591 - val_accuracy: 0.8226\n",
      "Epoch 116/150\n",
      "64/64 [==============================] - 1s 11ms/step - loss: 0.4774 - accuracy: 0.8714 - val_loss: 0.6509 - val_accuracy: 0.8214\n",
      "Epoch 117/150\n",
      "64/64 [==============================] - 1s 12ms/step - loss: 0.4914 - accuracy: 0.8687 - val_loss: 0.6646 - val_accuracy: 0.8197\n",
      "Epoch 118/150\n",
      "64/64 [==============================] - 1s 11ms/step - loss: 0.4882 - accuracy: 0.8684 - val_loss: 0.6300 - val_accuracy: 0.8351\n",
      "Epoch 119/150\n",
      "64/64 [==============================] - 1s 12ms/step - loss: 0.4785 - accuracy: 0.8716 - val_loss: 0.6634 - val_accuracy: 0.8214\n",
      "Epoch 120/150\n",
      "64/64 [==============================] - 1s 11ms/step - loss: 0.4789 - accuracy: 0.8748 - val_loss: 0.6382 - val_accuracy: 0.8294\n",
      "Epoch 121/150\n",
      "64/64 [==============================] - 1s 12ms/step - loss: 0.4822 - accuracy: 0.8723 - val_loss: 0.6475 - val_accuracy: 0.8232\n",
      "Epoch 122/150\n",
      "64/64 [==============================] - 1s 12ms/step - loss: 0.4755 - accuracy: 0.8726 - val_loss: 0.6705 - val_accuracy: 0.8243\n",
      "Epoch 123/150\n",
      "64/64 [==============================] - 1s 12ms/step - loss: 0.4793 - accuracy: 0.8770 - val_loss: 0.6744 - val_accuracy: 0.8254\n",
      "Epoch 124/150\n",
      "64/64 [==============================] - 1s 12ms/step - loss: 0.4848 - accuracy: 0.8714 - val_loss: 0.6504 - val_accuracy: 0.8237\n",
      "Epoch 125/150\n",
      "64/64 [==============================] - 1s 12ms/step - loss: 0.4809 - accuracy: 0.8741 - val_loss: 0.6484 - val_accuracy: 0.8311\n",
      "Epoch 126/150\n",
      "64/64 [==============================] - 1s 12ms/step - loss: 0.4716 - accuracy: 0.8750 - val_loss: 0.6361 - val_accuracy: 0.8369\n",
      "Epoch 127/150\n",
      "64/64 [==============================] - 1s 11ms/step - loss: 0.4749 - accuracy: 0.8763 - val_loss: 0.6512 - val_accuracy: 0.8237\n",
      "Epoch 128/150\n",
      "64/64 [==============================] - 1s 12ms/step - loss: 0.4673 - accuracy: 0.8799 - val_loss: 0.6385 - val_accuracy: 0.8220\n",
      "Epoch 129/150\n",
      "64/64 [==============================] - 1s 12ms/step - loss: 0.4624 - accuracy: 0.8797 - val_loss: 0.6556 - val_accuracy: 0.8186\n",
      "Epoch 130/150\n",
      "64/64 [==============================] - 1s 11ms/step - loss: 0.4704 - accuracy: 0.8785 - val_loss: 0.6461 - val_accuracy: 0.8311\n",
      "Epoch 131/150\n",
      "64/64 [==============================] - 1s 11ms/step - loss: 0.4713 - accuracy: 0.8733 - val_loss: 0.6421 - val_accuracy: 0.8266\n",
      "Epoch 132/150\n",
      "64/64 [==============================] - 1s 11ms/step - loss: 0.4693 - accuracy: 0.8785 - val_loss: 0.6557 - val_accuracy: 0.8294\n",
      "Epoch 133/150\n",
      "64/64 [==============================] - 1s 12ms/step - loss: 0.4677 - accuracy: 0.8772 - val_loss: 0.6690 - val_accuracy: 0.8329\n",
      "Epoch 134/150\n",
      "64/64 [==============================] - 1s 12ms/step - loss: 0.4681 - accuracy: 0.8726 - val_loss: 0.6640 - val_accuracy: 0.8277\n",
      "Epoch 135/150\n",
      "64/64 [==============================] - 1s 12ms/step - loss: 0.4692 - accuracy: 0.8763 - val_loss: 0.6465 - val_accuracy: 0.8266\n",
      "Epoch 136/150\n",
      "64/64 [==============================] - 1s 12ms/step - loss: 0.4714 - accuracy: 0.8736 - val_loss: 0.6606 - val_accuracy: 0.8294\n",
      "Epoch 137/150\n",
      "64/64 [==============================] - 1s 12ms/step - loss: 0.4703 - accuracy: 0.8745 - val_loss: 0.6497 - val_accuracy: 0.8363\n",
      "Epoch 138/150\n",
      "64/64 [==============================] - 1s 12ms/step - loss: 0.4596 - accuracy: 0.8821 - val_loss: 0.6532 - val_accuracy: 0.8266\n",
      "Epoch 139/150\n",
      "64/64 [==============================] - 1s 12ms/step - loss: 0.4651 - accuracy: 0.8765 - val_loss: 0.6679 - val_accuracy: 0.8220\n",
      "Epoch 140/150\n",
      "64/64 [==============================] - 1s 11ms/step - loss: 0.4532 - accuracy: 0.8861 - val_loss: 0.6672 - val_accuracy: 0.8260\n",
      "Epoch 141/150\n",
      "64/64 [==============================] - 1s 12ms/step - loss: 0.4631 - accuracy: 0.8790 - val_loss: 0.6544 - val_accuracy: 0.8306\n",
      "Epoch 142/150\n",
      "64/64 [==============================] - 1s 12ms/step - loss: 0.4578 - accuracy: 0.8812 - val_loss: 0.6500 - val_accuracy: 0.8323\n",
      "Epoch 143/150\n",
      "64/64 [==============================] - 1s 12ms/step - loss: 0.4673 - accuracy: 0.8763 - val_loss: 0.6457 - val_accuracy: 0.8260\n",
      "Epoch 144/150\n",
      "64/64 [==============================] - 1s 11ms/step - loss: 0.4562 - accuracy: 0.8785 - val_loss: 0.6506 - val_accuracy: 0.8317\n",
      "Epoch 145/150\n",
      "64/64 [==============================] - 1s 11ms/step - loss: 0.4686 - accuracy: 0.8733 - val_loss: 0.6647 - val_accuracy: 0.8317\n",
      "Epoch 146/150\n",
      "64/64 [==============================] - 1s 13ms/step - loss: 0.4491 - accuracy: 0.8851 - val_loss: 0.6473 - val_accuracy: 0.8386\n",
      "Epoch 147/150\n",
      "64/64 [==============================] - 1s 12ms/step - loss: 0.4669 - accuracy: 0.8797 - val_loss: 0.6434 - val_accuracy: 0.8260\n",
      "Epoch 148/150\n",
      "64/64 [==============================] - 1s 12ms/step - loss: 0.4603 - accuracy: 0.8794 - val_loss: 0.6424 - val_accuracy: 0.8294\n",
      "Epoch 149/150\n",
      "64/64 [==============================] - 1s 12ms/step - loss: 0.4530 - accuracy: 0.8824 - val_loss: 0.6756 - val_accuracy: 0.8209\n",
      "Epoch 150/150\n",
      "64/64 [==============================] - 1s 12ms/step - loss: 0.4558 - accuracy: 0.8812 - val_loss: 0.6599 - val_accuracy: 0.8351\n"
     ]
    }
   ],
   "source": [
    "epochs=150\n",
    "history = model.fit(\n",
    "  train,\n",
    "  validation_data=test,\n",
    "  epochs=epochs\n",
    ")"
   ]
  },
  {
   "cell_type": "code",
   "execution_count": 9,
   "metadata": {},
   "outputs": [
    {
     "data": {
      "image/png": "[encoded data removed]",
      "text/plain": [
       "<Figure size 576x576 with 2 Axes>"
      ]
     },
     "metadata": {
      "needs_background": "light"
     },
     "output_type": "display_data"
    }
   ],
   "source": [
    "acc = history.history['accuracy']\n",
    "val_acc = history.history['val_accuracy']\n",
    "\n",
    "loss = history.history['loss']\n",
    "val_loss = history.history['val_loss']\n",
    "\n",
    "epochs_range = range(epochs)\n",
    "\n",
    "plt.figure(figsize=(8, 8))\n",
    "plt.subplot(1, 2, 1)\n",
    "plt.plot(epochs_range, acc, label='Training Accuracy')\n",
    "plt.plot(epochs_range, val_acc, label='Validation Accuracy')\n",
    "plt.legend(loc='lower right')\n",
    "plt.title('Training and Validation Accuracy')\n",
    "\n",
    "plt.subplot(1, 2, 2)\n",
    "plt.plot(epochs_range, loss, label='Training Loss')\n",
    "plt.plot(epochs_range, val_loss, label='Validation Loss')\n",
    "plt.legend(loc='upper right')\n",
    "plt.title('Training and Validation Loss')\n",
    "plt.show()"
   ]
  },
  {
   "cell_type": "code",
   "execution_count": 10,
   "metadata": {},
   "outputs": [
    {
     "name": "stdout",
     "output_type": "stream",
     "text": [
      "28/28 [==============================] - 0s 9ms/step - loss: 0.6599 - accuracy: 0.8351\n",
      "Test accuracy : 0.8351397514343262\n"
     ]
    }
   ],
   "source": [
    "loss, accuracy = model.evaluate(test)\n",
    "print('Test accuracy :', accuracy)"
   ]
  },
  {
   "cell_type": "code",
   "execution_count": 11,
   "metadata": {},
   "outputs": [],
   "source": [
    "# Save the entire model as a SavedModel.\n",
    "# model.save('./data/humanModel/mode_v0')\n",
    "model.save('./data/'+map_dir+'/humanModel_v0.h5')"
   ]
  },
  {
   "cell_type": "code",
   "execution_count": 12,
   "metadata": {},
   "outputs": [],
   "source": [
    "# save model in js format\n",
    "# import tensorflowjs as tfjs\n",
    "# tfjs.converters.save_keras_model(model, 'data/humanModel/js_model_v0')"
   ]
  },
  {
   "cell_type": "code",
   "execution_count": 13,
   "metadata": {},
   "outputs": [],
   "source": [
    "# new_model = tf.keras.models.load_model('./data/humanModel/mode_v0')\n",
    "\n",
    "# # Check its architecture\n",
    "# new_model.summary()"
   ]
  },
  {
   "cell_type": "markdown",
   "metadata": {},
   "source": [
    "### Predict on new data"
   ]
  },
  {
   "cell_type": "code",
   "execution_count": 14,
   "metadata": {},
   "outputs": [
    {
     "name": "stdout",
     "output_type": "stream",
     "text": [
      "This image most likely belongs to 1 with a 40.35 percent confidence.\n"
     ]
    }
   ],
   "source": [
    "sunflower_path = \"./data/humanModel_dataset_split/val/39/-Mr4bNQJo1l3U7zrP2PJ_62.png\"\n",
    "\n",
    "img = keras.preprocessing.image.load_img(\n",
    "    sunflower_path, target_size=(IMG_SIZE, IMG_SIZE)\n",
    ")\n",
    "img_array = keras.preprocessing.image.img_to_array(img)\n",
    "img_array = tf.expand_dims(img_array, 0) # Create a batch\n",
    "\n",
    "predictions = model.predict(img_array)\n",
    "score = tf.nn.softmax(predictions[0])\n",
    "print(\n",
    "    \"This image most likely belongs to {} with a {:.2f} percent confidence.\"\n",
    "    .format(np.argmax(score), 100 * np.max(score))\n",
    ")"
   ]
  }
 ],
 "metadata": {
  "interpreter": {
   "hash": "ad60775ae12af945b53c5c94c294ef05f229143b8585a0d23625a81e181fdccc"
  },
  "kernelspec": {
   "display_name": "Python 3.7.4 64-bit ('tf-gpu': conda)",
   "name": "python3"
  },
  "language_info": {
   "codemirror_mode": {
    "name": "ipython",
    "version": 3
   },
   "file_extension": ".py",
   "mimetype": "text/x-python",
   "name": "python",
   "nbconvert_exporter": "python",
   "pygments_lexer": "ipython3",
   "version": "3.7.4"
  }
 },
 "nbformat": 4,
 "nbformat_minor": 4
}
