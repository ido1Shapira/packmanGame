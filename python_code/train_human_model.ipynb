{
 "cells": [
  {
   "cell_type": "code",
   "execution_count": 1,
   "metadata": {},
   "outputs": [],
   "source": [
    "import numpy as np\n",
    "import random\n",
    "import os\n",
    "\n",
    "# ! pip install split-folders\n",
    "import splitfolders\n",
    "\n",
    "import tensorflow as tf\n",
    "from tensorflow import keras\n",
    "from tensorflow.keras import layers, regularizers\n",
    "from tensorflow.keras.models import Sequential\n",
    "\n",
    "from tensorflow.keras.preprocessing.image import ImageDataGenerator\n",
    "from tensorflow.keras.preprocessing import image\n",
    "\n",
    "import matplotlib.pyplot as plt\n",
    "\n",
    "rs = 42\n",
    "def reset_random_seeds(rs):\n",
    "   os.environ['PYTHONHASHSEED']=str(rs)\n",
    "   tf.random.set_seed(rs)\n",
    "   np.random.seed(rs)\n",
    "   random.seed(rs)\n",
    "reset_random_seeds(rs)"
   ]
  },
  {
   "cell_type": "markdown",
   "metadata": {},
   "source": [
    "# Part 1 - Data Preprocessing"
   ]
  },
  {
   "cell_type": "markdown",
   "metadata": {},
   "source": [
    "## Split into train , test data"
   ]
  },
  {
   "cell_type": "code",
   "execution_count": 2,
   "metadata": {},
   "outputs": [
    {
     "name": "stderr",
     "output_type": "stream",
     "text": [
      "Copying files: 4900 files [00:00, 14077.22 files/s]\n"
     ]
    }
   ],
   "source": [
    "# train, test split\n",
    "splitfolders.ratio('./data/humanModel/imagesDatabase/', output=\"./data/humanModel/imagesDatabase_split\", ratio=(0.7, 0.3))"
   ]
  },
  {
   "cell_type": "markdown",
   "metadata": {},
   "source": [
    "### Preprocessing the Training set"
   ]
  },
  {
   "cell_type": "code",
   "execution_count": 3,
   "metadata": {},
   "outputs": [
    {
     "name": "stdout",
     "output_type": "stream",
     "text": [
      "Found 3428 images belonging to 5 classes.\n",
      "Found 1472 images belonging to 5 classes.\n"
     ]
    }
   ],
   "source": [
    "batch_size = 64\n",
    "IMG_SIZE = 10\n",
    "\n",
    "datagen = ImageDataGenerator(rescale = 1./255)\n",
    "train = datagen.flow_from_directory('./data/humanModel/imagesDatabase_split/train',\n",
    "                                          target_size = (IMG_SIZE,IMG_SIZE), batch_size = batch_size, seed=rs, class_mode='sparse')\n",
    "\n",
    "test = datagen.flow_from_directory('./data/humanModel/imagesDatabase_split/val',\n",
    "                                            target_size = (IMG_SIZE, IMG_SIZE), batch_size = batch_size, seed=rs, class_mode='sparse')"
   ]
  },
  {
   "cell_type": "markdown",
   "metadata": {},
   "source": [
    "## View some data"
   ]
  },
  {
   "cell_type": "code",
   "execution_count": 4,
   "metadata": {},
   "outputs": [
    {
     "name": "stderr",
     "output_type": "stream",
     "text": [
      "2021-12-14 14:49:26.497035: I tensorflow/stream_executor/cuda/cuda_gpu_executor.cc:937] successful NUMA node read from SysFS had negative value (-1), but there must be at least one NUMA node, so returning NUMA node zero\n",
      "2021-12-14 14:49:26.501115: I tensorflow/stream_executor/cuda/cuda_gpu_executor.cc:937] successful NUMA node read from SysFS had negative value (-1), but there must be at least one NUMA node, so returning NUMA node zero\n",
      "2021-12-14 14:49:26.501404: I tensorflow/stream_executor/cuda/cuda_gpu_executor.cc:937] successful NUMA node read from SysFS had negative value (-1), but there must be at least one NUMA node, so returning NUMA node zero\n",
      "2021-12-14 14:49:26.502076: I tensorflow/core/platform/cpu_feature_guard.cc:142] This TensorFlow binary is optimized with oneAPI Deep Neural Network Library (oneDNN) to use the following CPU instructions in performance-critical operations:  AVX2 FMA\n",
      "To enable them in other operations, rebuild TensorFlow with the appropriate compiler flags.\n",
      "2021-12-14 14:49:26.502470: I tensorflow/stream_executor/cuda/cuda_gpu_executor.cc:937] successful NUMA node read from SysFS had negative value (-1), but there must be at least one NUMA node, so returning NUMA node zero\n",
      "2021-12-14 14:49:26.502884: I tensorflow/stream_executor/cuda/cuda_gpu_executor.cc:937] successful NUMA node read from SysFS had negative value (-1), but there must be at least one NUMA node, so returning NUMA node zero\n",
      "2021-12-14 14:49:26.503247: I tensorflow/stream_executor/cuda/cuda_gpu_executor.cc:937] successful NUMA node read from SysFS had negative value (-1), but there must be at least one NUMA node, so returning NUMA node zero\n",
      "2021-12-14 14:49:26.781494: I tensorflow/stream_executor/cuda/cuda_gpu_executor.cc:937] successful NUMA node read from SysFS had negative value (-1), but there must be at least one NUMA node, so returning NUMA node zero\n",
      "2021-12-14 14:49:26.781790: I tensorflow/stream_executor/cuda/cuda_gpu_executor.cc:937] successful NUMA node read from SysFS had negative value (-1), but there must be at least one NUMA node, so returning NUMA node zero\n",
      "2021-12-14 14:49:26.782056: I tensorflow/stream_executor/cuda/cuda_gpu_executor.cc:937] successful NUMA node read from SysFS had negative value (-1), but there must be at least one NUMA node, so returning NUMA node zero\n",
      "2021-12-14 14:49:26.782310: I tensorflow/core/common_runtime/gpu/gpu_device.cc:1510] Created device /job:localhost/replica:0/task:0/device:GPU:0 with 11120 MB memory:  -> device: 0, name: NVIDIA TITAN X (Pascal), pci bus id: 0000:01:00.0, compute capability: 6.1\n"
     ]
    }
   ],
   "source": [
    "num_classes = 5\n",
    "\n",
    "model = Sequential([\n",
    "  # layers.GaussianNoise(0.2),\n",
    "  layers.Conv2D(8, 4, padding='same', activation='relu', kernel_regularizer=regularizers.l2(0.001), input_shape=[IMG_SIZE,IMG_SIZE,3]),\n",
    "  layers.Conv2D(16, 4, padding='same', activation='relu', kernel_regularizer=regularizers.l2(0.001)),\n",
    "  layers.Conv2D(16, 3, padding='same', activation='relu', kernel_regularizer=regularizers.l2(0.001)),\n",
    "  layers.MaxPooling2D(),\n",
    "  layers.Conv2D(8, 3, padding='same', activation='relu', kernel_regularizer=regularizers.l2(0.001)),\n",
    "  layers.Dropout(0.5),\n",
    "  layers.Flatten(),\n",
    "  layers.Dense(32, activation='relu', kernel_regularizer=regularizers.l2(0.001)),\n",
    "  layers.Dense(num_classes, activation='softmax')\n",
    "])"
   ]
  },
  {
   "cell_type": "code",
   "execution_count": 5,
   "metadata": {},
   "outputs": [],
   "source": [
    "model.compile(optimizer='adam',\n",
    "              loss=tf.keras.losses.SparseCategoricalCrossentropy(from_logits=True),\n",
    "              metrics=['accuracy'])"
   ]
  },
  {
   "cell_type": "code",
   "execution_count": 6,
   "metadata": {},
   "outputs": [
    {
     "name": "stdout",
     "output_type": "stream",
     "text": [
      "Model: \"sequential\"\n",
      "_________________________________________________________________\n",
      "Layer (type)                 Output Shape              Param #   \n",
      "=================================================================\n",
      "conv2d (Conv2D)              (None, 10, 10, 8)         392       \n",
      "_________________________________________________________________\n",
      "conv2d_1 (Conv2D)            (None, 10, 10, 16)        2064      \n",
      "_________________________________________________________________\n",
      "conv2d_2 (Conv2D)            (None, 10, 10, 16)        2320      \n",
      "_________________________________________________________________\n",
      "max_pooling2d (MaxPooling2D) (None, 5, 5, 16)          0         \n",
      "_________________________________________________________________\n",
      "conv2d_3 (Conv2D)            (None, 5, 5, 8)           1160      \n",
      "_________________________________________________________________\n",
      "dropout (Dropout)            (None, 5, 5, 8)           0         \n",
      "_________________________________________________________________\n",
      "flatten (Flatten)            (None, 200)               0         \n",
      "_________________________________________________________________\n",
      "dense (Dense)                (None, 32)                6432      \n",
      "_________________________________________________________________\n",
      "dense_1 (Dense)              (None, 5)                 165       \n",
      "=================================================================\n",
      "Total params: 12,533\n",
      "Trainable params: 12,533\n",
      "Non-trainable params: 0\n",
      "_________________________________________________________________\n"
     ]
    }
   ],
   "source": [
    "model.summary()"
   ]
  },
  {
   "cell_type": "code",
   "execution_count": 7,
   "metadata": {
    "scrolled": true
   },
   "outputs": [
    {
     "name": "stderr",
     "output_type": "stream",
     "text": [
      "2021-12-14 14:49:27.117627: I tensorflow/compiler/mlir/mlir_graph_optimization_pass.cc:185] None of the MLIR Optimization Passes are enabled (registered 2)\n",
      "/home/ido/anaconda3/envs/tf-gpu/lib/python3.7/site-packages/keras/backend.py:4907: UserWarning: \"`sparse_categorical_crossentropy` received `from_logits=True`, but the `output` argument was produced by a sigmoid or softmax activation and thus does not represent logits. Was this intended?\"\n",
      "  '\"`sparse_categorical_crossentropy` received `from_logits=True`, but '\n"
     ]
    },
    {
     "name": "stdout",
     "output_type": "stream",
     "text": [
      "Epoch 1/150\n"
     ]
    },
    {
     "name": "stderr",
     "output_type": "stream",
     "text": [
      "2021-12-14 14:49:27.704255: I tensorflow/stream_executor/cuda/cuda_dnn.cc:369] Loaded cuDNN version 8300\n"
     ]
    },
    {
     "name": "stdout",
     "output_type": "stream",
     "text": [
      "54/54 [==============================] - 2s 14ms/step - loss: 1.6237 - accuracy: 0.3270 - val_loss: 1.5274 - val_accuracy: 0.4565\n",
      "Epoch 2/150\n",
      "54/54 [==============================] - 1s 11ms/step - loss: 1.4402 - accuracy: 0.4384 - val_loss: 1.2864 - val_accuracy: 0.5109\n",
      "Epoch 3/150\n",
      "54/54 [==============================] - 1s 11ms/step - loss: 1.2784 - accuracy: 0.4982 - val_loss: 1.1677 - val_accuracy: 0.5245\n",
      "Epoch 4/150\n",
      "54/54 [==============================] - 1s 12ms/step - loss: 1.1712 - accuracy: 0.5700 - val_loss: 1.0808 - val_accuracy: 0.6236\n",
      "Epoch 5/150\n",
      "54/54 [==============================] - 1s 11ms/step - loss: 1.1026 - accuracy: 0.6225 - val_loss: 1.0282 - val_accuracy: 0.6481\n",
      "Epoch 6/150\n",
      "54/54 [==============================] - 1s 11ms/step - loss: 1.0701 - accuracy: 0.6356 - val_loss: 0.9979 - val_accuracy: 0.6596\n",
      "Epoch 7/150\n",
      "54/54 [==============================] - 1s 11ms/step - loss: 1.0114 - accuracy: 0.6517 - val_loss: 0.9680 - val_accuracy: 0.6719\n",
      "Epoch 8/150\n",
      "54/54 [==============================] - 1s 11ms/step - loss: 0.9937 - accuracy: 0.6517 - val_loss: 0.9444 - val_accuracy: 0.6773\n",
      "Epoch 9/150\n",
      "54/54 [==============================] - 1s 11ms/step - loss: 0.9657 - accuracy: 0.6791 - val_loss: 0.9262 - val_accuracy: 0.6807\n",
      "Epoch 10/150\n",
      "54/54 [==============================] - 1s 11ms/step - loss: 0.9479 - accuracy: 0.6756 - val_loss: 0.9174 - val_accuracy: 0.6970\n",
      "Epoch 11/150\n",
      "54/54 [==============================] - 1s 11ms/step - loss: 0.9316 - accuracy: 0.6858 - val_loss: 0.8908 - val_accuracy: 0.6977\n",
      "Epoch 12/150\n",
      "54/54 [==============================] - 1s 11ms/step - loss: 0.9211 - accuracy: 0.6849 - val_loss: 0.9177 - val_accuracy: 0.6997\n",
      "Epoch 13/150\n",
      "54/54 [==============================] - 1s 12ms/step - loss: 0.9155 - accuracy: 0.6928 - val_loss: 0.8828 - val_accuracy: 0.7031\n",
      "Epoch 14/150\n",
      "54/54 [==============================] - 1s 11ms/step - loss: 0.8888 - accuracy: 0.7071 - val_loss: 0.9161 - val_accuracy: 0.6909\n",
      "Epoch 15/150\n",
      "54/54 [==============================] - 1s 11ms/step - loss: 0.8839 - accuracy: 0.7060 - val_loss: 0.8499 - val_accuracy: 0.7126\n",
      "Epoch 16/150\n",
      "54/54 [==============================] - 1s 12ms/step - loss: 0.8701 - accuracy: 0.7112 - val_loss: 0.8513 - val_accuracy: 0.7133\n",
      "Epoch 17/150\n",
      "54/54 [==============================] - 1s 11ms/step - loss: 0.8555 - accuracy: 0.7135 - val_loss: 0.8412 - val_accuracy: 0.7181\n",
      "Epoch 18/150\n",
      "54/54 [==============================] - 1s 12ms/step - loss: 0.8611 - accuracy: 0.7083 - val_loss: 0.8459 - val_accuracy: 0.7181\n",
      "Epoch 19/150\n",
      "54/54 [==============================] - 1s 11ms/step - loss: 0.8562 - accuracy: 0.7185 - val_loss: 0.8382 - val_accuracy: 0.7323\n",
      "Epoch 20/150\n",
      "54/54 [==============================] - 1s 12ms/step - loss: 0.8290 - accuracy: 0.7272 - val_loss: 0.8370 - val_accuracy: 0.7235\n",
      "Epoch 21/150\n",
      "54/54 [==============================] - 1s 12ms/step - loss: 0.8220 - accuracy: 0.7360 - val_loss: 0.8365 - val_accuracy: 0.7181\n",
      "Epoch 22/150\n",
      "54/54 [==============================] - 1s 11ms/step - loss: 0.8299 - accuracy: 0.7284 - val_loss: 0.8211 - val_accuracy: 0.7357\n",
      "Epoch 23/150\n",
      "54/54 [==============================] - 1s 12ms/step - loss: 0.7993 - accuracy: 0.7407 - val_loss: 0.8070 - val_accuracy: 0.7378\n",
      "Epoch 24/150\n",
      "54/54 [==============================] - 1s 11ms/step - loss: 0.8141 - accuracy: 0.7334 - val_loss: 0.8232 - val_accuracy: 0.7289\n",
      "Epoch 25/150\n",
      "54/54 [==============================] - 1s 11ms/step - loss: 0.8092 - accuracy: 0.7302 - val_loss: 0.8022 - val_accuracy: 0.7446\n",
      "Epoch 26/150\n",
      "54/54 [==============================] - 1s 11ms/step - loss: 0.8049 - accuracy: 0.7427 - val_loss: 0.8082 - val_accuracy: 0.7296\n",
      "Epoch 27/150\n",
      "54/54 [==============================] - 1s 11ms/step - loss: 0.7874 - accuracy: 0.7491 - val_loss: 0.7934 - val_accuracy: 0.7425\n",
      "Epoch 28/150\n",
      "54/54 [==============================] - 1s 12ms/step - loss: 0.7739 - accuracy: 0.7515 - val_loss: 0.8205 - val_accuracy: 0.7344\n",
      "Epoch 29/150\n",
      "54/54 [==============================] - 1s 11ms/step - loss: 0.7810 - accuracy: 0.7494 - val_loss: 0.7932 - val_accuracy: 0.7446\n",
      "Epoch 30/150\n",
      "54/54 [==============================] - 1s 11ms/step - loss: 0.7714 - accuracy: 0.7506 - val_loss: 0.8032 - val_accuracy: 0.7391\n",
      "Epoch 31/150\n",
      "54/54 [==============================] - 1s 11ms/step - loss: 0.7730 - accuracy: 0.7520 - val_loss: 0.7953 - val_accuracy: 0.7405\n",
      "Epoch 32/150\n",
      "54/54 [==============================] - 1s 12ms/step - loss: 0.7649 - accuracy: 0.7599 - val_loss: 0.7885 - val_accuracy: 0.7466\n",
      "Epoch 33/150\n",
      "54/54 [==============================] - 1s 11ms/step - loss: 0.7735 - accuracy: 0.7535 - val_loss: 0.7819 - val_accuracy: 0.7548\n",
      "Epoch 34/150\n",
      "54/54 [==============================] - 1s 12ms/step - loss: 0.7562 - accuracy: 0.7628 - val_loss: 0.7982 - val_accuracy: 0.7439\n",
      "Epoch 35/150\n",
      "54/54 [==============================] - 1s 12ms/step - loss: 0.7593 - accuracy: 0.7561 - val_loss: 0.7816 - val_accuracy: 0.7561\n",
      "Epoch 36/150\n",
      "54/54 [==============================] - 1s 12ms/step - loss: 0.7538 - accuracy: 0.7660 - val_loss: 0.7698 - val_accuracy: 0.7588\n",
      "Epoch 37/150\n",
      "54/54 [==============================] - 1s 12ms/step - loss: 0.7474 - accuracy: 0.7596 - val_loss: 0.7763 - val_accuracy: 0.7561\n",
      "Epoch 38/150\n",
      "54/54 [==============================] - 1s 11ms/step - loss: 0.7301 - accuracy: 0.7672 - val_loss: 0.7729 - val_accuracy: 0.7629\n",
      "Epoch 39/150\n",
      "54/54 [==============================] - 1s 11ms/step - loss: 0.7269 - accuracy: 0.7754 - val_loss: 0.7757 - val_accuracy: 0.7548\n",
      "Epoch 40/150\n",
      "54/54 [==============================] - 1s 12ms/step - loss: 0.7277 - accuracy: 0.7748 - val_loss: 0.7691 - val_accuracy: 0.7568\n",
      "Epoch 41/150\n",
      "54/54 [==============================] - 1s 11ms/step - loss: 0.7349 - accuracy: 0.7684 - val_loss: 0.8136 - val_accuracy: 0.7439\n",
      "Epoch 42/150\n",
      "54/54 [==============================] - 1s 12ms/step - loss: 0.7399 - accuracy: 0.7687 - val_loss: 0.7800 - val_accuracy: 0.7609\n",
      "Epoch 43/150\n",
      "54/54 [==============================] - 1s 12ms/step - loss: 0.7225 - accuracy: 0.7736 - val_loss: 0.7619 - val_accuracy: 0.7649\n",
      "Epoch 44/150\n",
      "54/54 [==============================] - 1s 12ms/step - loss: 0.7229 - accuracy: 0.7780 - val_loss: 0.7670 - val_accuracy: 0.7595\n",
      "Epoch 45/150\n",
      "54/54 [==============================] - 1s 12ms/step - loss: 0.7127 - accuracy: 0.7722 - val_loss: 0.7601 - val_accuracy: 0.7717\n",
      "Epoch 46/150\n",
      "54/54 [==============================] - 1s 11ms/step - loss: 0.7143 - accuracy: 0.7701 - val_loss: 0.7533 - val_accuracy: 0.7636\n",
      "Epoch 47/150\n",
      "54/54 [==============================] - 1s 12ms/step - loss: 0.7254 - accuracy: 0.7824 - val_loss: 0.7636 - val_accuracy: 0.7615\n",
      "Epoch 48/150\n",
      "54/54 [==============================] - 1s 12ms/step - loss: 0.7002 - accuracy: 0.7821 - val_loss: 0.7652 - val_accuracy: 0.7602\n",
      "Epoch 49/150\n",
      "54/54 [==============================] - 1s 12ms/step - loss: 0.7209 - accuracy: 0.7786 - val_loss: 0.7606 - val_accuracy: 0.7758\n",
      "Epoch 50/150\n",
      "54/54 [==============================] - 1s 12ms/step - loss: 0.7118 - accuracy: 0.7868 - val_loss: 0.7766 - val_accuracy: 0.7554\n",
      "Epoch 51/150\n",
      "54/54 [==============================] - 1s 11ms/step - loss: 0.6951 - accuracy: 0.7870 - val_loss: 0.7629 - val_accuracy: 0.7663\n",
      "Epoch 52/150\n",
      "54/54 [==============================] - 1s 12ms/step - loss: 0.7006 - accuracy: 0.7780 - val_loss: 0.7572 - val_accuracy: 0.7656\n",
      "Epoch 53/150\n",
      "54/54 [==============================] - 1s 12ms/step - loss: 0.7019 - accuracy: 0.7812 - val_loss: 0.7532 - val_accuracy: 0.7724\n",
      "Epoch 54/150\n",
      "54/54 [==============================] - 1s 11ms/step - loss: 0.6820 - accuracy: 0.7903 - val_loss: 0.7638 - val_accuracy: 0.7758\n",
      "Epoch 55/150\n",
      "54/54 [==============================] - 1s 12ms/step - loss: 0.6908 - accuracy: 0.7879 - val_loss: 0.7714 - val_accuracy: 0.7595\n",
      "Epoch 56/150\n",
      "54/54 [==============================] - 1s 12ms/step - loss: 0.6911 - accuracy: 0.7914 - val_loss: 0.7514 - val_accuracy: 0.7806\n",
      "Epoch 57/150\n",
      "54/54 [==============================] - 1s 12ms/step - loss: 0.6838 - accuracy: 0.7975 - val_loss: 0.7659 - val_accuracy: 0.7745\n",
      "Epoch 58/150\n",
      "54/54 [==============================] - 1s 13ms/step - loss: 0.6719 - accuracy: 0.7981 - val_loss: 0.7398 - val_accuracy: 0.7826\n",
      "Epoch 59/150\n",
      "54/54 [==============================] - 1s 12ms/step - loss: 0.6643 - accuracy: 0.8013 - val_loss: 0.7532 - val_accuracy: 0.7690\n",
      "Epoch 60/150\n",
      "54/54 [==============================] - 1s 12ms/step - loss: 0.6784 - accuracy: 0.7938 - val_loss: 0.7536 - val_accuracy: 0.7745\n",
      "Epoch 61/150\n",
      "54/54 [==============================] - 1s 11ms/step - loss: 0.6790 - accuracy: 0.7847 - val_loss: 0.7419 - val_accuracy: 0.7731\n",
      "Epoch 62/150\n",
      "54/54 [==============================] - 1s 13ms/step - loss: 0.6678 - accuracy: 0.7975 - val_loss: 0.7573 - val_accuracy: 0.7785\n",
      "Epoch 63/150\n",
      "54/54 [==============================] - 1s 12ms/step - loss: 0.6678 - accuracy: 0.7958 - val_loss: 0.7452 - val_accuracy: 0.7806\n",
      "Epoch 64/150\n",
      "54/54 [==============================] - 1s 12ms/step - loss: 0.6677 - accuracy: 0.7938 - val_loss: 0.7461 - val_accuracy: 0.7799\n",
      "Epoch 65/150\n",
      "54/54 [==============================] - 1s 12ms/step - loss: 0.6699 - accuracy: 0.7958 - val_loss: 0.7651 - val_accuracy: 0.7622\n",
      "Epoch 66/150\n",
      "54/54 [==============================] - 1s 12ms/step - loss: 0.6624 - accuracy: 0.8057 - val_loss: 0.7619 - val_accuracy: 0.7772\n",
      "Epoch 67/150\n",
      "54/54 [==============================] - 1s 12ms/step - loss: 0.6621 - accuracy: 0.8025 - val_loss: 0.7502 - val_accuracy: 0.7812\n",
      "Epoch 68/150\n",
      "54/54 [==============================] - 1s 12ms/step - loss: 0.6631 - accuracy: 0.7964 - val_loss: 0.7552 - val_accuracy: 0.7629\n",
      "Epoch 69/150\n",
      "54/54 [==============================] - 1s 12ms/step - loss: 0.6601 - accuracy: 0.7993 - val_loss: 0.7643 - val_accuracy: 0.7575\n",
      "Epoch 70/150\n",
      "54/54 [==============================] - 1s 12ms/step - loss: 0.6484 - accuracy: 0.8051 - val_loss: 0.7544 - val_accuracy: 0.7765\n",
      "Epoch 71/150\n",
      "54/54 [==============================] - 1s 12ms/step - loss: 0.6447 - accuracy: 0.8086 - val_loss: 0.7496 - val_accuracy: 0.7711\n",
      "Epoch 72/150\n",
      "54/54 [==============================] - 1s 11ms/step - loss: 0.6505 - accuracy: 0.7964 - val_loss: 0.7496 - val_accuracy: 0.7683\n",
      "Epoch 73/150\n",
      "54/54 [==============================] - 1s 12ms/step - loss: 0.6414 - accuracy: 0.8051 - val_loss: 0.7497 - val_accuracy: 0.7745\n",
      "Epoch 74/150\n",
      "54/54 [==============================] - 1s 12ms/step - loss: 0.6463 - accuracy: 0.7973 - val_loss: 0.7435 - val_accuracy: 0.7792\n",
      "Epoch 75/150\n",
      "54/54 [==============================] - 1s 12ms/step - loss: 0.6372 - accuracy: 0.8089 - val_loss: 0.7566 - val_accuracy: 0.7785\n",
      "Epoch 76/150\n",
      "54/54 [==============================] - 1s 12ms/step - loss: 0.6394 - accuracy: 0.8057 - val_loss: 0.7388 - val_accuracy: 0.7819\n",
      "Epoch 77/150\n",
      "54/54 [==============================] - 1s 11ms/step - loss: 0.6422 - accuracy: 0.8028 - val_loss: 0.7455 - val_accuracy: 0.7840\n",
      "Epoch 78/150\n",
      "54/54 [==============================] - 1s 12ms/step - loss: 0.6299 - accuracy: 0.8104 - val_loss: 0.7471 - val_accuracy: 0.7751\n",
      "Epoch 79/150\n",
      "54/54 [==============================] - 1s 12ms/step - loss: 0.6402 - accuracy: 0.8118 - val_loss: 0.7628 - val_accuracy: 0.7609\n",
      "Epoch 80/150\n",
      "54/54 [==============================] - 1s 12ms/step - loss: 0.6425 - accuracy: 0.8110 - val_loss: 0.7618 - val_accuracy: 0.7690\n",
      "Epoch 81/150\n",
      "54/54 [==============================] - 1s 13ms/step - loss: 0.6362 - accuracy: 0.8136 - val_loss: 0.7558 - val_accuracy: 0.7772\n",
      "Epoch 82/150\n",
      "54/54 [==============================] - 1s 12ms/step - loss: 0.6276 - accuracy: 0.8118 - val_loss: 0.7447 - val_accuracy: 0.7887\n",
      "Epoch 83/150\n",
      "54/54 [==============================] - 1s 12ms/step - loss: 0.6248 - accuracy: 0.8151 - val_loss: 0.7758 - val_accuracy: 0.7731\n",
      "Epoch 84/150\n",
      "54/54 [==============================] - 1s 12ms/step - loss: 0.6362 - accuracy: 0.8118 - val_loss: 0.7464 - val_accuracy: 0.7812\n",
      "Epoch 85/150\n",
      "54/54 [==============================] - 1s 11ms/step - loss: 0.6264 - accuracy: 0.8127 - val_loss: 0.7446 - val_accuracy: 0.7785\n",
      "Epoch 86/150\n",
      "54/54 [==============================] - 1s 12ms/step - loss: 0.6353 - accuracy: 0.8113 - val_loss: 0.7436 - val_accuracy: 0.7799\n",
      "Epoch 87/150\n",
      "54/54 [==============================] - 1s 11ms/step - loss: 0.6337 - accuracy: 0.8136 - val_loss: 0.7492 - val_accuracy: 0.7772\n",
      "Epoch 88/150\n",
      "54/54 [==============================] - 1s 12ms/step - loss: 0.6064 - accuracy: 0.8203 - val_loss: 0.7624 - val_accuracy: 0.7683\n",
      "Epoch 89/150\n",
      "54/54 [==============================] - 1s 12ms/step - loss: 0.6176 - accuracy: 0.8174 - val_loss: 0.7535 - val_accuracy: 0.7840\n",
      "Epoch 90/150\n",
      "54/54 [==============================] - 1s 11ms/step - loss: 0.6267 - accuracy: 0.8136 - val_loss: 0.7649 - val_accuracy: 0.7874\n",
      "Epoch 91/150\n",
      "54/54 [==============================] - 1s 12ms/step - loss: 0.6330 - accuracy: 0.8089 - val_loss: 0.7555 - val_accuracy: 0.7860\n",
      "Epoch 92/150\n",
      "54/54 [==============================] - 1s 12ms/step - loss: 0.6218 - accuracy: 0.8165 - val_loss: 0.7499 - val_accuracy: 0.7867\n",
      "Epoch 93/150\n",
      "54/54 [==============================] - 1s 11ms/step - loss: 0.6270 - accuracy: 0.8180 - val_loss: 0.7484 - val_accuracy: 0.7812\n",
      "Epoch 94/150\n",
      "54/54 [==============================] - 1s 12ms/step - loss: 0.6165 - accuracy: 0.8183 - val_loss: 0.7487 - val_accuracy: 0.7765\n",
      "Epoch 95/150\n",
      "54/54 [==============================] - 1s 12ms/step - loss: 0.6235 - accuracy: 0.8145 - val_loss: 0.7489 - val_accuracy: 0.7860\n",
      "Epoch 96/150\n",
      "54/54 [==============================] - 1s 12ms/step - loss: 0.6184 - accuracy: 0.8118 - val_loss: 0.7617 - val_accuracy: 0.7880\n",
      "Epoch 97/150\n",
      "54/54 [==============================] - 1s 12ms/step - loss: 0.6112 - accuracy: 0.8223 - val_loss: 0.7522 - val_accuracy: 0.7772\n",
      "Epoch 98/150\n",
      "54/54 [==============================] - 1s 11ms/step - loss: 0.6045 - accuracy: 0.8200 - val_loss: 0.7583 - val_accuracy: 0.7758\n",
      "Epoch 99/150\n",
      "54/54 [==============================] - 1s 12ms/step - loss: 0.6088 - accuracy: 0.8183 - val_loss: 0.7733 - val_accuracy: 0.7663\n",
      "Epoch 100/150\n",
      "54/54 [==============================] - 1s 12ms/step - loss: 0.6206 - accuracy: 0.8072 - val_loss: 0.7735 - val_accuracy: 0.7812\n",
      "Epoch 101/150\n",
      "54/54 [==============================] - 1s 12ms/step - loss: 0.6153 - accuracy: 0.8206 - val_loss: 0.7459 - val_accuracy: 0.7846\n",
      "Epoch 102/150\n",
      "54/54 [==============================] - 1s 12ms/step - loss: 0.5939 - accuracy: 0.8244 - val_loss: 0.7412 - val_accuracy: 0.7799\n",
      "Epoch 103/150\n",
      "54/54 [==============================] - 1s 11ms/step - loss: 0.5790 - accuracy: 0.8363 - val_loss: 0.7623 - val_accuracy: 0.7765\n",
      "Epoch 104/150\n",
      "54/54 [==============================] - 1s 12ms/step - loss: 0.6052 - accuracy: 0.8226 - val_loss: 0.7737 - val_accuracy: 0.7772\n",
      "Epoch 105/150\n",
      "54/54 [==============================] - 1s 12ms/step - loss: 0.6007 - accuracy: 0.8206 - val_loss: 0.7617 - val_accuracy: 0.7765\n",
      "Epoch 106/150\n",
      "54/54 [==============================] - 1s 12ms/step - loss: 0.5982 - accuracy: 0.8200 - val_loss: 0.7525 - val_accuracy: 0.7758\n",
      "Epoch 107/150\n",
      "54/54 [==============================] - 1s 12ms/step - loss: 0.5822 - accuracy: 0.8314 - val_loss: 0.7629 - val_accuracy: 0.7792\n",
      "Epoch 108/150\n",
      "54/54 [==============================] - 1s 11ms/step - loss: 0.5904 - accuracy: 0.8293 - val_loss: 0.7778 - val_accuracy: 0.7833\n",
      "Epoch 109/150\n",
      "54/54 [==============================] - 1s 13ms/step - loss: 0.5917 - accuracy: 0.8218 - val_loss: 0.7596 - val_accuracy: 0.7846\n",
      "Epoch 110/150\n",
      "54/54 [==============================] - 1s 12ms/step - loss: 0.5912 - accuracy: 0.8258 - val_loss: 0.7529 - val_accuracy: 0.7779\n",
      "Epoch 111/150\n",
      "54/54 [==============================] - 1s 11ms/step - loss: 0.5973 - accuracy: 0.8291 - val_loss: 0.7600 - val_accuracy: 0.7677\n",
      "Epoch 112/150\n",
      "54/54 [==============================] - 1s 12ms/step - loss: 0.5997 - accuracy: 0.8296 - val_loss: 0.7568 - val_accuracy: 0.7792\n",
      "Epoch 113/150\n",
      "54/54 [==============================] - 1s 12ms/step - loss: 0.5956 - accuracy: 0.8250 - val_loss: 0.7516 - val_accuracy: 0.7765\n",
      "Epoch 114/150\n",
      "54/54 [==============================] - 1s 11ms/step - loss: 0.5951 - accuracy: 0.8267 - val_loss: 0.7749 - val_accuracy: 0.7751\n",
      "Epoch 115/150\n",
      "54/54 [==============================] - 1s 12ms/step - loss: 0.5882 - accuracy: 0.8334 - val_loss: 0.7605 - val_accuracy: 0.7819\n",
      "Epoch 116/150\n",
      "54/54 [==============================] - 1s 11ms/step - loss: 0.5828 - accuracy: 0.8305 - val_loss: 0.7525 - val_accuracy: 0.7806\n",
      "Epoch 117/150\n",
      "54/54 [==============================] - 1s 11ms/step - loss: 0.5895 - accuracy: 0.8209 - val_loss: 0.7552 - val_accuracy: 0.7751\n",
      "Epoch 118/150\n",
      "54/54 [==============================] - 1s 12ms/step - loss: 0.5861 - accuracy: 0.8212 - val_loss: 0.7670 - val_accuracy: 0.7819\n",
      "Epoch 119/150\n",
      "54/54 [==============================] - 1s 12ms/step - loss: 0.5907 - accuracy: 0.8241 - val_loss: 0.7637 - val_accuracy: 0.7799\n",
      "Epoch 120/150\n",
      "54/54 [==============================] - 1s 11ms/step - loss: 0.5798 - accuracy: 0.8282 - val_loss: 0.7500 - val_accuracy: 0.7765\n",
      "Epoch 121/150\n",
      "54/54 [==============================] - 1s 12ms/step - loss: 0.5939 - accuracy: 0.8223 - val_loss: 0.7553 - val_accuracy: 0.7880\n",
      "Epoch 122/150\n",
      "54/54 [==============================] - 1s 12ms/step - loss: 0.5828 - accuracy: 0.8288 - val_loss: 0.7478 - val_accuracy: 0.7812\n",
      "Epoch 123/150\n",
      "54/54 [==============================] - 1s 12ms/step - loss: 0.5925 - accuracy: 0.8282 - val_loss: 0.7587 - val_accuracy: 0.7812\n",
      "Epoch 124/150\n",
      "54/54 [==============================] - 1s 12ms/step - loss: 0.5721 - accuracy: 0.8326 - val_loss: 0.7610 - val_accuracy: 0.7826\n",
      "Epoch 125/150\n",
      "54/54 [==============================] - 1s 12ms/step - loss: 0.5833 - accuracy: 0.8258 - val_loss: 0.7466 - val_accuracy: 0.7806\n",
      "Epoch 126/150\n",
      "54/54 [==============================] - 1s 12ms/step - loss: 0.5745 - accuracy: 0.8366 - val_loss: 0.7736 - val_accuracy: 0.7860\n",
      "Epoch 127/150\n",
      "54/54 [==============================] - 1s 12ms/step - loss: 0.5781 - accuracy: 0.8337 - val_loss: 0.7684 - val_accuracy: 0.7846\n",
      "Epoch 128/150\n",
      "54/54 [==============================] - 1s 12ms/step - loss: 0.5826 - accuracy: 0.8317 - val_loss: 0.7922 - val_accuracy: 0.7792\n",
      "Epoch 129/150\n",
      "54/54 [==============================] - 1s 12ms/step - loss: 0.5667 - accuracy: 0.8363 - val_loss: 0.7682 - val_accuracy: 0.7785\n",
      "Epoch 130/150\n",
      "54/54 [==============================] - 1s 12ms/step - loss: 0.5795 - accuracy: 0.8317 - val_loss: 0.7608 - val_accuracy: 0.7779\n",
      "Epoch 131/150\n",
      "54/54 [==============================] - 1s 11ms/step - loss: 0.5615 - accuracy: 0.8410 - val_loss: 0.7830 - val_accuracy: 0.7711\n",
      "Epoch 132/150\n",
      "54/54 [==============================] - 1s 12ms/step - loss: 0.5723 - accuracy: 0.8293 - val_loss: 0.7528 - val_accuracy: 0.7887\n",
      "Epoch 133/150\n",
      "54/54 [==============================] - 1s 12ms/step - loss: 0.5730 - accuracy: 0.8317 - val_loss: 0.7679 - val_accuracy: 0.7833\n",
      "Epoch 134/150\n",
      "54/54 [==============================] - 1s 12ms/step - loss: 0.5692 - accuracy: 0.8340 - val_loss: 0.7779 - val_accuracy: 0.7731\n",
      "Epoch 135/150\n",
      "54/54 [==============================] - 1s 12ms/step - loss: 0.5626 - accuracy: 0.8375 - val_loss: 0.7640 - val_accuracy: 0.7867\n",
      "Epoch 136/150\n",
      "54/54 [==============================] - 1s 12ms/step - loss: 0.5740 - accuracy: 0.8328 - val_loss: 0.7624 - val_accuracy: 0.7833\n",
      "Epoch 137/150\n",
      "54/54 [==============================] - 1s 12ms/step - loss: 0.5808 - accuracy: 0.8314 - val_loss: 0.7752 - val_accuracy: 0.7812\n",
      "Epoch 138/150\n",
      "54/54 [==============================] - 1s 11ms/step - loss: 0.5692 - accuracy: 0.8355 - val_loss: 0.7715 - val_accuracy: 0.7772\n",
      "Epoch 139/150\n",
      "54/54 [==============================] - 1s 12ms/step - loss: 0.5774 - accuracy: 0.8299 - val_loss: 0.7586 - val_accuracy: 0.7853\n",
      "Epoch 140/150\n",
      "54/54 [==============================] - 1s 12ms/step - loss: 0.5681 - accuracy: 0.8381 - val_loss: 0.8025 - val_accuracy: 0.7799\n",
      "Epoch 141/150\n",
      "54/54 [==============================] - 1s 12ms/step - loss: 0.5720 - accuracy: 0.8270 - val_loss: 0.7632 - val_accuracy: 0.7812\n",
      "Epoch 142/150\n",
      "54/54 [==============================] - 1s 12ms/step - loss: 0.5717 - accuracy: 0.8320 - val_loss: 0.7674 - val_accuracy: 0.7779\n",
      "Epoch 143/150\n",
      "54/54 [==============================] - 1s 11ms/step - loss: 0.5585 - accuracy: 0.8358 - val_loss: 0.7594 - val_accuracy: 0.7819\n",
      "Epoch 144/150\n",
      "54/54 [==============================] - 1s 12ms/step - loss: 0.5565 - accuracy: 0.8413 - val_loss: 0.7767 - val_accuracy: 0.7677\n",
      "Epoch 145/150\n",
      "54/54 [==============================] - 1s 12ms/step - loss: 0.5617 - accuracy: 0.8413 - val_loss: 0.7656 - val_accuracy: 0.7833\n",
      "Epoch 146/150\n",
      "54/54 [==============================] - 1s 12ms/step - loss: 0.5556 - accuracy: 0.8422 - val_loss: 0.7630 - val_accuracy: 0.7826\n",
      "Epoch 147/150\n",
      "54/54 [==============================] - 1s 11ms/step - loss: 0.5643 - accuracy: 0.8381 - val_loss: 0.7725 - val_accuracy: 0.7833\n",
      "Epoch 148/150\n",
      "54/54 [==============================] - 1s 12ms/step - loss: 0.5646 - accuracy: 0.8366 - val_loss: 0.8158 - val_accuracy: 0.7745\n",
      "Epoch 149/150\n",
      "54/54 [==============================] - 1s 11ms/step - loss: 0.5507 - accuracy: 0.8390 - val_loss: 0.8213 - val_accuracy: 0.7751\n",
      "Epoch 150/150\n",
      "54/54 [==============================] - 1s 12ms/step - loss: 0.5564 - accuracy: 0.8372 - val_loss: 0.7904 - val_accuracy: 0.7792\n"
     ]
    }
   ],
   "source": [
    "epochs=150\n",
    "history = model.fit(\n",
    "  train,\n",
    "  validation_data=test,\n",
    "  epochs=epochs\n",
    ")"
   ]
  },
  {
   "cell_type": "code",
   "execution_count": 8,
   "metadata": {},
   "outputs": [
    {
     "data": {
      "image/png": "[encoded data removed]",
      "text/plain": [
       "<Figure size 576x576 with 2 Axes>"
      ]
     },
     "metadata": {
      "needs_background": "light"
     },
     "output_type": "display_data"
    }
   ],
   "source": [
    "acc = history.history['accuracy']\n",
    "val_acc = history.history['val_accuracy']\n",
    "\n",
    "loss = history.history['loss']\n",
    "val_loss = history.history['val_loss']\n",
    "\n",
    "epochs_range = range(epochs)\n",
    "\n",
    "plt.figure(figsize=(8, 8))\n",
    "plt.subplot(1, 2, 1)\n",
    "plt.plot(epochs_range, acc, label='Training Accuracy')\n",
    "plt.plot(epochs_range, val_acc, label='Validation Accuracy')\n",
    "plt.legend(loc='lower right')\n",
    "plt.title('Training and Validation Accuracy')\n",
    "\n",
    "plt.subplot(1, 2, 2)\n",
    "plt.plot(epochs_range, loss, label='Training Loss')\n",
    "plt.plot(epochs_range, val_loss, label='Validation Loss')\n",
    "plt.legend(loc='upper right')\n",
    "plt.title('Training and Validation Loss')\n",
    "plt.show()"
   ]
  },
  {
   "cell_type": "code",
   "execution_count": 9,
   "metadata": {},
   "outputs": [
    {
     "name": "stdout",
     "output_type": "stream",
     "text": [
      "23/23 [==============================] - 0s 8ms/step - loss: 0.7904 - accuracy: 0.7792\n",
      "Test accuracy : 0.7792119383811951\n"
     ]
    }
   ],
   "source": [
    "loss, accuracy = model.evaluate(test)\n",
    "print('Test accuracy :', accuracy)"
   ]
  },
  {
   "cell_type": "code",
   "execution_count": 10,
   "metadata": {},
   "outputs": [],
   "source": [
    "# Save the entire model as a SavedModel.\n",
    "# model.save('./data/humanModel/mode_v0')\n",
    "model.save('./data/humanModel/model_v0.h5')"
   ]
  },
  {
   "cell_type": "code",
   "execution_count": 11,
   "metadata": {},
   "outputs": [],
   "source": [
    "# save model in js format\n",
    "# import tensorflowjs as tfjs\n",
    "# tfjs.converters.save_keras_model(model, 'data/humanModel/js_model_v0')"
   ]
  },
  {
   "cell_type": "code",
   "execution_count": 12,
   "metadata": {},
   "outputs": [],
   "source": [
    "# new_model = tf.keras.models.load_model('./data/humanModel/mode_v0')\n",
    "\n",
    "# # Check its architecture\n",
    "# new_model.summary()"
   ]
  },
  {
   "cell_type": "markdown",
   "metadata": {},
   "source": [
    "### Predict on new data"
   ]
  },
  {
   "cell_type": "code",
   "execution_count": 13,
   "metadata": {},
   "outputs": [
    {
     "name": "stdout",
     "output_type": "stream",
     "text": [
      "This image most likely belongs to 1 with a 40.46 percent confidence.\n"
     ]
    }
   ],
   "source": [
    "sunflower_path = \"./data/humanModel/imagesDatabase_split/val/37/-MqplpytsnX0zCv_KW9i_12.png\"\n",
    "\n",
    "img = keras.preprocessing.image.load_img(\n",
    "    sunflower_path, target_size=(IMG_SIZE, IMG_SIZE)\n",
    ")\n",
    "img_array = keras.preprocessing.image.img_to_array(img)\n",
    "img_array = tf.expand_dims(img_array, 0) # Create a batch\n",
    "\n",
    "predictions = model.predict(img_array)\n",
    "score = tf.nn.softmax(predictions[0])\n",
    "print(\n",
    "    \"This image most likely belongs to {} with a {:.2f} percent confidence.\"\n",
    "    .format(np.argmax(score), 100 * np.max(score))\n",
    ")"
   ]
  }
 ],
 "metadata": {
  "interpreter": {
   "hash": "ad60775ae12af945b53c5c94c294ef05f229143b8585a0d23625a81e181fdccc"
  },
  "kernelspec": {
   "display_name": "Python 3.7.4 64-bit ('tf-gpu': conda)",
   "name": "python3"
  },
  "language_info": {
   "codemirror_mode": {
    "name": "ipython",
    "version": 3
   },
   "file_extension": ".py",
   "mimetype": "text/x-python",
   "name": "python",
   "nbconvert_exporter": "python",
   "pygments_lexer": "ipython3",
   "version": "3.7.4"
  }
 },
 "nbformat": 4,
 "nbformat_minor": 4
}
