{
 "cells": [
  {
   "cell_type": "code",
   "execution_count": 1,
   "metadata": {},
   "outputs": [],
   "source": [
    "import numpy as np\n",
    "import random\n",
    "import os\n",
    "import shutil\n",
    "\n",
    "# ! pip install split-folders\n",
    "import splitfolders\n",
    "\n",
    "import tensorflow as tf\n",
    "from tensorflow import keras\n",
    "from tensorflow.keras import layers, regularizers\n",
    "from tensorflow.keras.models import Sequential\n",
    "\n",
    "from tensorflow.keras.preprocessing.image import ImageDataGenerator\n",
    "from tensorflow.keras.preprocessing import image\n",
    "\n",
    "import matplotlib.pyplot as plt\n",
    "\n",
    "rs = 42\n",
    "def reset_random_seeds(rs):\n",
    "   os.environ['PYTHONHASHSEED']=str(rs)\n",
    "   tf.random.set_seed(rs)\n",
    "   np.random.seed(rs)\n",
    "   random.seed(rs)\n",
    "reset_random_seeds(rs)\n",
    "\n",
    "map_dir = 'map 2'"
   ]
  },
  {
   "cell_type": "markdown",
   "metadata": {},
   "source": [
    "remove prev saved database:"
   ]
  },
  {
   "cell_type": "code",
   "execution_count": 2,
   "metadata": {},
   "outputs": [],
   "source": [
    "dir_path = './data/humanModel_dataset_split'\n",
    "if os.path.exists(dir_path):\n",
    "    shutil.rmtree(dir_path)\n",
    "else:\n",
    "    print(\"File not found in the directory\")"
   ]
  },
  {
   "cell_type": "markdown",
   "metadata": {},
   "source": [
    "# Part 1 - Data Preprocessing"
   ]
  },
  {
   "cell_type": "markdown",
   "metadata": {},
   "source": [
    "## Split into train , test data"
   ]
  },
  {
   "cell_type": "code",
   "execution_count": 3,
   "metadata": {},
   "outputs": [
    {
     "name": "stderr",
     "output_type": "stream",
     "text": [
      "Copying files: 5834 files [00:00, 17246.82 files/s]\n"
     ]
    }
   ],
   "source": [
    "# train, test split\n",
    "splitfolders.ratio('./data/humanModel_dataset/', output=\"./data/humanModel_dataset_split\", ratio=(0.7, 0.3))"
   ]
  },
  {
   "cell_type": "markdown",
   "metadata": {},
   "source": [
    "### Preprocessing the Training set"
   ]
  },
  {
   "cell_type": "code",
   "execution_count": 4,
   "metadata": {},
   "outputs": [
    {
     "name": "stdout",
     "output_type": "stream",
     "text": [
      "Found 4081 images belonging to 5 classes.\n",
      "Found 1753 images belonging to 5 classes.\n"
     ]
    }
   ],
   "source": [
    "batch_size = 64\n",
    "IMG_SIZE = 10\n",
    "\n",
    "datagen = ImageDataGenerator(rescale = 1./255)\n",
    "train = datagen.flow_from_directory('./data/humanModel_dataset_split/train',\n",
    "                                          target_size = (IMG_SIZE,IMG_SIZE), batch_size = batch_size, seed=rs, class_mode='sparse')\n",
    "\n",
    "test = datagen.flow_from_directory('./data/humanModel_dataset_split/val',\n",
    "                                            target_size = (IMG_SIZE, IMG_SIZE), batch_size = batch_size, seed=rs, class_mode='sparse')"
   ]
  },
  {
   "cell_type": "markdown",
   "metadata": {},
   "source": [
    "## View some data"
   ]
  },
  {
   "cell_type": "code",
   "execution_count": 5,
   "metadata": {},
   "outputs": [
    {
     "name": "stderr",
     "output_type": "stream",
     "text": [
      "2021-12-19 14:26:07.855594: I tensorflow/stream_executor/cuda/cuda_gpu_executor.cc:937] successful NUMA node read from SysFS had negative value (-1), but there must be at least one NUMA node, so returning NUMA node zero\n",
      "2021-12-19 14:26:07.861820: I tensorflow/stream_executor/cuda/cuda_gpu_executor.cc:937] successful NUMA node read from SysFS had negative value (-1), but there must be at least one NUMA node, so returning NUMA node zero\n",
      "2021-12-19 14:26:07.862272: I tensorflow/stream_executor/cuda/cuda_gpu_executor.cc:937] successful NUMA node read from SysFS had negative value (-1), but there must be at least one NUMA node, so returning NUMA node zero\n",
      "2021-12-19 14:26:07.863150: I tensorflow/core/platform/cpu_feature_guard.cc:142] This TensorFlow binary is optimized with oneAPI Deep Neural Network Library (oneDNN) to use the following CPU instructions in performance-critical operations:  AVX2 FMA\n",
      "To enable them in other operations, rebuild TensorFlow with the appropriate compiler flags.\n",
      "2021-12-19 14:26:07.863721: I tensorflow/stream_executor/cuda/cuda_gpu_executor.cc:937] successful NUMA node read from SysFS had negative value (-1), but there must be at least one NUMA node, so returning NUMA node zero\n",
      "2021-12-19 14:26:07.864151: I tensorflow/stream_executor/cuda/cuda_gpu_executor.cc:937] successful NUMA node read from SysFS had negative value (-1), but there must be at least one NUMA node, so returning NUMA node zero\n",
      "2021-12-19 14:26:07.864558: I tensorflow/stream_executor/cuda/cuda_gpu_executor.cc:937] successful NUMA node read from SysFS had negative value (-1), but there must be at least one NUMA node, so returning NUMA node zero\n",
      "2021-12-19 14:26:08.162711: I tensorflow/stream_executor/cuda/cuda_gpu_executor.cc:937] successful NUMA node read from SysFS had negative value (-1), but there must be at least one NUMA node, so returning NUMA node zero\n",
      "2021-12-19 14:26:08.163030: I tensorflow/stream_executor/cuda/cuda_gpu_executor.cc:937] successful NUMA node read from SysFS had negative value (-1), but there must be at least one NUMA node, so returning NUMA node zero\n",
      "2021-12-19 14:26:08.163303: I tensorflow/stream_executor/cuda/cuda_gpu_executor.cc:937] successful NUMA node read from SysFS had negative value (-1), but there must be at least one NUMA node, so returning NUMA node zero\n",
      "2021-12-19 14:26:08.163564: I tensorflow/core/common_runtime/gpu/gpu_device.cc:1510] Created device /job:localhost/replica:0/task:0/device:GPU:0 with 11173 MB memory:  -> device: 0, name: NVIDIA TITAN X (Pascal), pci bus id: 0000:01:00.0, compute capability: 6.1\n"
     ]
    }
   ],
   "source": [
    "num_classes = 5\n",
    "\n",
    "model = Sequential([\n",
    "  layers.Conv2D(8, 4, padding='same', activation='relu', kernel_regularizer=regularizers.l2(0.001), input_shape=[IMG_SIZE,IMG_SIZE,3]),\n",
    "  layers.Conv2D(16, 4, padding='same', activation='relu', kernel_regularizer=regularizers.l2(0.001)),\n",
    "  layers.Conv2D(16, 3, padding='same', activation='relu', kernel_regularizer=regularizers.l2(0.001)),\n",
    "  layers.MaxPooling2D(),\n",
    "  layers.Conv2D(8, 3, padding='same', activation='relu', kernel_regularizer=regularizers.l2(0.001)),\n",
    "  layers.Dropout(0.5),\n",
    "  layers.Flatten(),\n",
    "  layers.Dense(32, activation='relu', kernel_regularizer=regularizers.l2(0.001)),\n",
    "  layers.Dense(num_classes, activation='softmax')\n",
    "])"
   ]
  },
  {
   "cell_type": "code",
   "execution_count": 6,
   "metadata": {},
   "outputs": [],
   "source": [
    "model.compile(optimizer='adam',\n",
    "              loss=tf.keras.losses.SparseCategoricalCrossentropy(from_logits=True),\n",
    "              metrics=['accuracy'])"
   ]
  },
  {
   "cell_type": "code",
   "execution_count": 7,
   "metadata": {},
   "outputs": [
    {
     "name": "stdout",
     "output_type": "stream",
     "text": [
      "Model: \"sequential\"\n",
      "_________________________________________________________________\n",
      "Layer (type)                 Output Shape              Param #   \n",
      "=================================================================\n",
      "conv2d (Conv2D)              (None, 10, 10, 8)         392       \n",
      "_________________________________________________________________\n",
      "conv2d_1 (Conv2D)            (None, 10, 10, 16)        2064      \n",
      "_________________________________________________________________\n",
      "conv2d_2 (Conv2D)            (None, 10, 10, 16)        2320      \n",
      "_________________________________________________________________\n",
      "max_pooling2d (MaxPooling2D) (None, 5, 5, 16)          0         \n",
      "_________________________________________________________________\n",
      "conv2d_3 (Conv2D)            (None, 5, 5, 8)           1160      \n",
      "_________________________________________________________________\n",
      "dropout (Dropout)            (None, 5, 5, 8)           0         \n",
      "_________________________________________________________________\n",
      "flatten (Flatten)            (None, 200)               0         \n",
      "_________________________________________________________________\n",
      "dense (Dense)                (None, 32)                6432      \n",
      "_________________________________________________________________\n",
      "dense_1 (Dense)              (None, 5)                 165       \n",
      "=================================================================\n",
      "Total params: 12,533\n",
      "Trainable params: 12,533\n",
      "Non-trainable params: 0\n",
      "_________________________________________________________________\n"
     ]
    }
   ],
   "source": [
    "model.summary()"
   ]
  },
  {
   "cell_type": "code",
   "execution_count": 8,
   "metadata": {
    "scrolled": true
   },
   "outputs": [
    {
     "name": "stdout",
     "output_type": "stream",
     "text": [
      "Epoch 1/150\n"
     ]
    },
    {
     "name": "stderr",
     "output_type": "stream",
     "text": [
      "2021-12-19 14:26:08.467960: I tensorflow/compiler/mlir/mlir_graph_optimization_pass.cc:185] None of the MLIR Optimization Passes are enabled (registered 2)\n",
      "/home/ido/anaconda3/envs/tf-gpu/lib/python3.7/site-packages/keras/backend.py:4907: UserWarning: \"`sparse_categorical_crossentropy` received `from_logits=True`, but the `output` argument was produced by a sigmoid or softmax activation and thus does not represent logits. Was this intended?\"\n",
      "  '\"`sparse_categorical_crossentropy` received `from_logits=True`, but '\n",
      "2021-12-19 14:26:09.164293: I tensorflow/stream_executor/cuda/cuda_dnn.cc:369] Loaded cuDNN version 8300\n"
     ]
    },
    {
     "name": "stdout",
     "output_type": "stream",
     "text": [
      "64/64 [==============================] - 2s 14ms/step - loss: 1.6218 - accuracy: 0.3252 - val_loss: 1.4035 - val_accuracy: 0.5533\n",
      "Epoch 2/150\n",
      "64/64 [==============================] - 1s 12ms/step - loss: 1.3068 - accuracy: 0.5244 - val_loss: 1.1226 - val_accuracy: 0.5750\n",
      "Epoch 3/150\n",
      "64/64 [==============================] - 1s 11ms/step - loss: 1.1641 - accuracy: 0.5714 - val_loss: 1.0311 - val_accuracy: 0.6400\n",
      "Epoch 4/150\n",
      "64/64 [==============================] - 1s 11ms/step - loss: 1.0796 - accuracy: 0.6212 - val_loss: 0.9775 - val_accuracy: 0.6543\n",
      "Epoch 5/150\n",
      "64/64 [==============================] - 1s 11ms/step - loss: 1.0163 - accuracy: 0.6618 - val_loss: 0.9275 - val_accuracy: 0.6640\n",
      "Epoch 6/150\n",
      "64/64 [==============================] - 1s 12ms/step - loss: 0.9791 - accuracy: 0.6692 - val_loss: 0.9169 - val_accuracy: 0.6794\n",
      "Epoch 7/150\n",
      "64/64 [==============================] - 1s 12ms/step - loss: 0.9479 - accuracy: 0.6829 - val_loss: 0.8903 - val_accuracy: 0.7102\n",
      "Epoch 8/150\n",
      "64/64 [==============================] - 1s 12ms/step - loss: 0.9343 - accuracy: 0.6900 - val_loss: 0.8837 - val_accuracy: 0.7017\n",
      "Epoch 9/150\n",
      "64/64 [==============================] - 1s 12ms/step - loss: 0.9153 - accuracy: 0.6957 - val_loss: 0.8352 - val_accuracy: 0.7096\n",
      "Epoch 10/150\n",
      "64/64 [==============================] - 1s 12ms/step - loss: 0.8811 - accuracy: 0.7050 - val_loss: 0.8327 - val_accuracy: 0.7091\n",
      "Epoch 11/150\n",
      "64/64 [==============================] - 1s 12ms/step - loss: 0.8697 - accuracy: 0.7084 - val_loss: 0.8564 - val_accuracy: 0.7199\n",
      "Epoch 12/150\n",
      "64/64 [==============================] - 1s 12ms/step - loss: 0.8617 - accuracy: 0.7211 - val_loss: 0.8276 - val_accuracy: 0.7108\n",
      "Epoch 13/150\n",
      "64/64 [==============================] - 1s 12ms/step - loss: 0.8399 - accuracy: 0.7189 - val_loss: 0.7998 - val_accuracy: 0.7370\n",
      "Epoch 14/150\n",
      "64/64 [==============================] - 1s 12ms/step - loss: 0.8264 - accuracy: 0.7292 - val_loss: 0.7871 - val_accuracy: 0.7450\n",
      "Epoch 15/150\n",
      "64/64 [==============================] - 1s 12ms/step - loss: 0.8106 - accuracy: 0.7356 - val_loss: 0.7616 - val_accuracy: 0.7570\n",
      "Epoch 16/150\n",
      "64/64 [==============================] - 1s 12ms/step - loss: 0.7960 - accuracy: 0.7363 - val_loss: 0.7600 - val_accuracy: 0.7604\n",
      "Epoch 17/150\n",
      "64/64 [==============================] - 1s 12ms/step - loss: 0.7800 - accuracy: 0.7430 - val_loss: 0.7367 - val_accuracy: 0.7633\n",
      "Epoch 18/150\n",
      "64/64 [==============================] - 1s 12ms/step - loss: 0.7741 - accuracy: 0.7520 - val_loss: 0.7360 - val_accuracy: 0.7707\n",
      "Epoch 19/150\n",
      "64/64 [==============================] - 1s 12ms/step - loss: 0.7706 - accuracy: 0.7613 - val_loss: 0.7366 - val_accuracy: 0.7633\n",
      "Epoch 20/150\n",
      "64/64 [==============================] - 1s 12ms/step - loss: 0.7467 - accuracy: 0.7675 - val_loss: 0.7128 - val_accuracy: 0.7827\n",
      "Epoch 21/150\n",
      "64/64 [==============================] - 1s 12ms/step - loss: 0.7425 - accuracy: 0.7638 - val_loss: 0.7023 - val_accuracy: 0.7929\n",
      "Epoch 22/150\n",
      "64/64 [==============================] - 1s 12ms/step - loss: 0.7427 - accuracy: 0.7640 - val_loss: 0.7092 - val_accuracy: 0.7878\n",
      "Epoch 23/150\n",
      "64/64 [==============================] - 1s 13ms/step - loss: 0.7238 - accuracy: 0.7787 - val_loss: 0.7043 - val_accuracy: 0.7946\n",
      "Epoch 24/150\n",
      "64/64 [==============================] - 1s 12ms/step - loss: 0.7177 - accuracy: 0.7797 - val_loss: 0.7017 - val_accuracy: 0.7901\n",
      "Epoch 25/150\n",
      "64/64 [==============================] - 1s 12ms/step - loss: 0.7071 - accuracy: 0.7863 - val_loss: 0.6810 - val_accuracy: 0.7775\n",
      "Epoch 26/150\n",
      "64/64 [==============================] - 1s 12ms/step - loss: 0.7027 - accuracy: 0.7902 - val_loss: 0.6925 - val_accuracy: 0.7935\n",
      "Epoch 27/150\n",
      "64/64 [==============================] - 1s 12ms/step - loss: 0.6924 - accuracy: 0.7927 - val_loss: 0.6785 - val_accuracy: 0.8003\n",
      "Epoch 28/150\n",
      "64/64 [==============================] - 1s 12ms/step - loss: 0.6769 - accuracy: 0.7986 - val_loss: 0.6854 - val_accuracy: 0.8003\n",
      "Epoch 29/150\n",
      "64/64 [==============================] - 1s 12ms/step - loss: 0.6790 - accuracy: 0.7981 - val_loss: 0.6615 - val_accuracy: 0.8021\n",
      "Epoch 30/150\n",
      "64/64 [==============================] - 1s 12ms/step - loss: 0.6588 - accuracy: 0.8027 - val_loss: 0.6547 - val_accuracy: 0.8026\n",
      "Epoch 31/150\n",
      "64/64 [==============================] - 1s 12ms/step - loss: 0.6567 - accuracy: 0.8086 - val_loss: 0.6593 - val_accuracy: 0.7986\n",
      "Epoch 32/150\n",
      "64/64 [==============================] - 1s 12ms/step - loss: 0.6504 - accuracy: 0.8089 - val_loss: 0.6575 - val_accuracy: 0.8021\n",
      "Epoch 33/150\n",
      "64/64 [==============================] - 1s 12ms/step - loss: 0.6397 - accuracy: 0.8148 - val_loss: 0.6460 - val_accuracy: 0.8152\n",
      "Epoch 34/150\n",
      "64/64 [==============================] - 1s 12ms/step - loss: 0.6547 - accuracy: 0.8108 - val_loss: 0.6505 - val_accuracy: 0.8032\n",
      "Epoch 35/150\n",
      "64/64 [==============================] - 1s 12ms/step - loss: 0.6656 - accuracy: 0.8101 - val_loss: 0.6503 - val_accuracy: 0.8066\n",
      "Epoch 36/150\n",
      "64/64 [==============================] - 1s 12ms/step - loss: 0.6363 - accuracy: 0.8152 - val_loss: 0.6560 - val_accuracy: 0.7963\n",
      "Epoch 37/150\n",
      "64/64 [==============================] - 1s 12ms/step - loss: 0.6420 - accuracy: 0.8172 - val_loss: 0.6458 - val_accuracy: 0.8060\n",
      "Epoch 38/150\n",
      "64/64 [==============================] - 1s 12ms/step - loss: 0.6278 - accuracy: 0.8221 - val_loss: 0.6540 - val_accuracy: 0.8038\n",
      "Epoch 39/150\n",
      "64/64 [==============================] - 1s 12ms/step - loss: 0.6281 - accuracy: 0.8221 - val_loss: 0.6507 - val_accuracy: 0.8078\n",
      "Epoch 40/150\n",
      "64/64 [==============================] - 1s 12ms/step - loss: 0.6196 - accuracy: 0.8260 - val_loss: 0.6497 - val_accuracy: 0.8049\n",
      "Epoch 41/150\n",
      "64/64 [==============================] - 1s 12ms/step - loss: 0.6067 - accuracy: 0.8216 - val_loss: 0.6420 - val_accuracy: 0.8180\n",
      "Epoch 42/150\n",
      "64/64 [==============================] - 1s 12ms/step - loss: 0.6124 - accuracy: 0.8219 - val_loss: 0.6311 - val_accuracy: 0.8197\n",
      "Epoch 43/150\n",
      "64/64 [==============================] - 1s 13ms/step - loss: 0.6262 - accuracy: 0.8219 - val_loss: 0.6476 - val_accuracy: 0.8049\n",
      "Epoch 44/150\n",
      "64/64 [==============================] - 1s 12ms/step - loss: 0.6134 - accuracy: 0.8248 - val_loss: 0.6460 - val_accuracy: 0.8083\n",
      "Epoch 45/150\n",
      "64/64 [==============================] - 1s 12ms/step - loss: 0.6144 - accuracy: 0.8241 - val_loss: 0.6442 - val_accuracy: 0.8118\n",
      "Epoch 46/150\n",
      "64/64 [==============================] - 1s 12ms/step - loss: 0.6027 - accuracy: 0.8270 - val_loss: 0.6401 - val_accuracy: 0.8140\n",
      "Epoch 47/150\n",
      "64/64 [==============================] - 1s 12ms/step - loss: 0.5992 - accuracy: 0.8282 - val_loss: 0.6527 - val_accuracy: 0.8100\n",
      "Epoch 48/150\n",
      "64/64 [==============================] - 1s 11ms/step - loss: 0.5968 - accuracy: 0.8307 - val_loss: 0.6391 - val_accuracy: 0.8180\n",
      "Epoch 49/150\n",
      "64/64 [==============================] - 1s 12ms/step - loss: 0.5949 - accuracy: 0.8314 - val_loss: 0.6419 - val_accuracy: 0.8192\n",
      "Epoch 50/150\n",
      "64/64 [==============================] - 1s 12ms/step - loss: 0.5937 - accuracy: 0.8351 - val_loss: 0.6331 - val_accuracy: 0.8192\n",
      "Epoch 51/150\n",
      "64/64 [==============================] - 1s 12ms/step - loss: 0.5968 - accuracy: 0.8272 - val_loss: 0.6383 - val_accuracy: 0.8157\n",
      "Epoch 52/150\n",
      "64/64 [==============================] - 1s 12ms/step - loss: 0.6068 - accuracy: 0.8295 - val_loss: 0.6519 - val_accuracy: 0.8072\n",
      "Epoch 53/150\n",
      "64/64 [==============================] - 1s 12ms/step - loss: 0.5814 - accuracy: 0.8405 - val_loss: 0.6362 - val_accuracy: 0.8140\n",
      "Epoch 54/150\n",
      "64/64 [==============================] - 1s 12ms/step - loss: 0.5778 - accuracy: 0.8370 - val_loss: 0.6252 - val_accuracy: 0.8266\n",
      "Epoch 55/150\n",
      "64/64 [==============================] - 1s 12ms/step - loss: 0.5761 - accuracy: 0.8380 - val_loss: 0.6361 - val_accuracy: 0.8146\n",
      "Epoch 56/150\n",
      "64/64 [==============================] - 1s 12ms/step - loss: 0.5888 - accuracy: 0.8321 - val_loss: 0.6530 - val_accuracy: 0.8078\n",
      "Epoch 57/150\n",
      "64/64 [==============================] - 1s 12ms/step - loss: 0.5777 - accuracy: 0.8378 - val_loss: 0.6283 - val_accuracy: 0.8226\n",
      "Epoch 58/150\n",
      "64/64 [==============================] - 1s 11ms/step - loss: 0.5674 - accuracy: 0.8420 - val_loss: 0.6227 - val_accuracy: 0.8260\n",
      "Epoch 59/150\n",
      "64/64 [==============================] - 1s 13ms/step - loss: 0.5595 - accuracy: 0.8454 - val_loss: 0.6353 - val_accuracy: 0.8249\n",
      "Epoch 60/150\n",
      "64/64 [==============================] - 1s 13ms/step - loss: 0.5711 - accuracy: 0.8415 - val_loss: 0.6271 - val_accuracy: 0.8277\n",
      "Epoch 61/150\n",
      "64/64 [==============================] - 1s 12ms/step - loss: 0.5689 - accuracy: 0.8420 - val_loss: 0.6371 - val_accuracy: 0.8140\n",
      "Epoch 62/150\n",
      "64/64 [==============================] - 1s 12ms/step - loss: 0.5691 - accuracy: 0.8407 - val_loss: 0.6287 - val_accuracy: 0.8169\n",
      "Epoch 63/150\n",
      "64/64 [==============================] - 1s 11ms/step - loss: 0.5675 - accuracy: 0.8412 - val_loss: 0.6243 - val_accuracy: 0.8192\n",
      "Epoch 64/150\n",
      "64/64 [==============================] - 1s 12ms/step - loss: 0.5595 - accuracy: 0.8464 - val_loss: 0.6230 - val_accuracy: 0.8283\n",
      "Epoch 65/150\n",
      "64/64 [==============================] - 1s 12ms/step - loss: 0.5501 - accuracy: 0.8471 - val_loss: 0.6184 - val_accuracy: 0.8249\n",
      "Epoch 66/150\n",
      "64/64 [==============================] - 1s 12ms/step - loss: 0.5500 - accuracy: 0.8493 - val_loss: 0.6355 - val_accuracy: 0.8175\n",
      "Epoch 67/150\n",
      "64/64 [==============================] - 1s 12ms/step - loss: 0.5533 - accuracy: 0.8498 - val_loss: 0.6285 - val_accuracy: 0.8163\n",
      "Epoch 68/150\n",
      "64/64 [==============================] - 1s 12ms/step - loss: 0.5507 - accuracy: 0.8464 - val_loss: 0.6415 - val_accuracy: 0.8140\n",
      "Epoch 69/150\n",
      "64/64 [==============================] - 1s 12ms/step - loss: 0.5433 - accuracy: 0.8500 - val_loss: 0.6232 - val_accuracy: 0.8203\n",
      "Epoch 70/150\n",
      "64/64 [==============================] - 1s 12ms/step - loss: 0.5392 - accuracy: 0.8513 - val_loss: 0.6457 - val_accuracy: 0.8203\n",
      "Epoch 71/150\n",
      "64/64 [==============================] - 1s 11ms/step - loss: 0.5450 - accuracy: 0.8498 - val_loss: 0.6451 - val_accuracy: 0.8009\n",
      "Epoch 72/150\n",
      "64/64 [==============================] - 1s 12ms/step - loss: 0.5436 - accuracy: 0.8508 - val_loss: 0.6169 - val_accuracy: 0.8283\n",
      "Epoch 73/150\n",
      "64/64 [==============================] - 1s 13ms/step - loss: 0.5438 - accuracy: 0.8515 - val_loss: 0.6206 - val_accuracy: 0.8277\n",
      "Epoch 74/150\n",
      "64/64 [==============================] - 1s 12ms/step - loss: 0.5391 - accuracy: 0.8493 - val_loss: 0.6125 - val_accuracy: 0.8340\n",
      "Epoch 75/150\n",
      "64/64 [==============================] - 1s 12ms/step - loss: 0.5443 - accuracy: 0.8449 - val_loss: 0.6215 - val_accuracy: 0.8260\n",
      "Epoch 76/150\n",
      "64/64 [==============================] - 1s 12ms/step - loss: 0.5326 - accuracy: 0.8542 - val_loss: 0.6172 - val_accuracy: 0.8277\n",
      "Epoch 77/150\n",
      "64/64 [==============================] - 1s 12ms/step - loss: 0.5436 - accuracy: 0.8527 - val_loss: 0.6166 - val_accuracy: 0.8226\n",
      "Epoch 78/150\n",
      "64/64 [==============================] - 1s 12ms/step - loss: 0.5305 - accuracy: 0.8513 - val_loss: 0.6231 - val_accuracy: 0.8306\n",
      "Epoch 79/150\n",
      "64/64 [==============================] - 1s 12ms/step - loss: 0.5244 - accuracy: 0.8530 - val_loss: 0.6295 - val_accuracy: 0.8186\n",
      "Epoch 80/150\n",
      "64/64 [==============================] - 1s 12ms/step - loss: 0.5409 - accuracy: 0.8456 - val_loss: 0.6176 - val_accuracy: 0.8272\n",
      "Epoch 81/150\n",
      "64/64 [==============================] - 1s 12ms/step - loss: 0.5248 - accuracy: 0.8630 - val_loss: 0.6370 - val_accuracy: 0.8152\n",
      "Epoch 82/150\n",
      "64/64 [==============================] - 1s 12ms/step - loss: 0.5311 - accuracy: 0.8571 - val_loss: 0.6176 - val_accuracy: 0.8294\n",
      "Epoch 83/150\n",
      "64/64 [==============================] - 1s 12ms/step - loss: 0.5319 - accuracy: 0.8527 - val_loss: 0.6354 - val_accuracy: 0.8220\n",
      "Epoch 84/150\n",
      "64/64 [==============================] - 1s 12ms/step - loss: 0.5271 - accuracy: 0.8581 - val_loss: 0.6247 - val_accuracy: 0.8289\n",
      "Epoch 85/150\n",
      "64/64 [==============================] - 1s 12ms/step - loss: 0.5254 - accuracy: 0.8569 - val_loss: 0.6163 - val_accuracy: 0.8289\n",
      "Epoch 86/150\n",
      "64/64 [==============================] - 1s 12ms/step - loss: 0.5240 - accuracy: 0.8530 - val_loss: 0.6192 - val_accuracy: 0.8323\n",
      "Epoch 87/150\n",
      "64/64 [==============================] - 1s 12ms/step - loss: 0.5282 - accuracy: 0.8537 - val_loss: 0.6166 - val_accuracy: 0.8351\n",
      "Epoch 88/150\n",
      "64/64 [==============================] - 1s 12ms/step - loss: 0.5236 - accuracy: 0.8576 - val_loss: 0.6204 - val_accuracy: 0.8317\n",
      "Epoch 89/150\n",
      "64/64 [==============================] - 1s 12ms/step - loss: 0.5128 - accuracy: 0.8638 - val_loss: 0.6418 - val_accuracy: 0.8243\n",
      "Epoch 90/150\n",
      "64/64 [==============================] - 1s 13ms/step - loss: 0.5119 - accuracy: 0.8608 - val_loss: 0.6137 - val_accuracy: 0.8329\n",
      "Epoch 91/150\n",
      "64/64 [==============================] - 1s 12ms/step - loss: 0.5077 - accuracy: 0.8665 - val_loss: 0.6190 - val_accuracy: 0.8289\n",
      "Epoch 92/150\n",
      "64/64 [==============================] - 1s 12ms/step - loss: 0.5070 - accuracy: 0.8665 - val_loss: 0.6220 - val_accuracy: 0.8340\n",
      "Epoch 93/150\n",
      "64/64 [==============================] - 1s 12ms/step - loss: 0.5009 - accuracy: 0.8603 - val_loss: 0.6180 - val_accuracy: 0.8357\n",
      "Epoch 94/150\n",
      "64/64 [==============================] - 1s 12ms/step - loss: 0.5064 - accuracy: 0.8652 - val_loss: 0.6325 - val_accuracy: 0.8277\n",
      "Epoch 95/150\n",
      "64/64 [==============================] - 1s 12ms/step - loss: 0.5054 - accuracy: 0.8662 - val_loss: 0.6122 - val_accuracy: 0.8334\n",
      "Epoch 96/150\n",
      "64/64 [==============================] - 1s 12ms/step - loss: 0.5078 - accuracy: 0.8625 - val_loss: 0.6321 - val_accuracy: 0.8306\n",
      "Epoch 97/150\n",
      "64/64 [==============================] - 1s 12ms/step - loss: 0.5020 - accuracy: 0.8650 - val_loss: 0.6366 - val_accuracy: 0.8260\n",
      "Epoch 98/150\n",
      "64/64 [==============================] - 1s 12ms/step - loss: 0.5142 - accuracy: 0.8557 - val_loss: 0.6365 - val_accuracy: 0.8243\n",
      "Epoch 99/150\n",
      "64/64 [==============================] - 1s 12ms/step - loss: 0.5100 - accuracy: 0.8603 - val_loss: 0.6461 - val_accuracy: 0.8260\n",
      "Epoch 100/150\n",
      "64/64 [==============================] - 1s 12ms/step - loss: 0.5045 - accuracy: 0.8593 - val_loss: 0.6163 - val_accuracy: 0.8403\n",
      "Epoch 101/150\n",
      "64/64 [==============================] - 1s 12ms/step - loss: 0.4976 - accuracy: 0.8682 - val_loss: 0.6266 - val_accuracy: 0.8289\n",
      "Epoch 102/150\n",
      "64/64 [==============================] - 1s 12ms/step - loss: 0.4919 - accuracy: 0.8691 - val_loss: 0.6337 - val_accuracy: 0.8277\n",
      "Epoch 103/150\n",
      "64/64 [==============================] - 1s 12ms/step - loss: 0.4942 - accuracy: 0.8642 - val_loss: 0.6170 - val_accuracy: 0.8346\n",
      "Epoch 104/150\n",
      "64/64 [==============================] - 1s 12ms/step - loss: 0.4981 - accuracy: 0.8642 - val_loss: 0.6387 - val_accuracy: 0.8214\n",
      "Epoch 105/150\n",
      "64/64 [==============================] - 1s 12ms/step - loss: 0.4862 - accuracy: 0.8701 - val_loss: 0.6378 - val_accuracy: 0.8243\n",
      "Epoch 106/150\n",
      "64/64 [==============================] - 1s 12ms/step - loss: 0.4870 - accuracy: 0.8687 - val_loss: 0.6429 - val_accuracy: 0.8306\n",
      "Epoch 107/150\n",
      "64/64 [==============================] - 1s 12ms/step - loss: 0.5032 - accuracy: 0.8628 - val_loss: 0.6688 - val_accuracy: 0.8186\n",
      "Epoch 108/150\n",
      "64/64 [==============================] - 1s 12ms/step - loss: 0.4982 - accuracy: 0.8645 - val_loss: 0.6201 - val_accuracy: 0.8329\n",
      "Epoch 109/150\n",
      "64/64 [==============================] - 1s 12ms/step - loss: 0.5019 - accuracy: 0.8623 - val_loss: 0.6234 - val_accuracy: 0.8226\n",
      "Epoch 110/150\n",
      "64/64 [==============================] - 1s 12ms/step - loss: 0.4830 - accuracy: 0.8701 - val_loss: 0.6245 - val_accuracy: 0.8254\n",
      "Epoch 111/150\n",
      "64/64 [==============================] - 1s 12ms/step - loss: 0.4847 - accuracy: 0.8669 - val_loss: 0.6220 - val_accuracy: 0.8340\n",
      "Epoch 112/150\n",
      "64/64 [==============================] - 1s 12ms/step - loss: 0.4872 - accuracy: 0.8726 - val_loss: 0.6195 - val_accuracy: 0.8380\n",
      "Epoch 113/150\n",
      "64/64 [==============================] - 1s 11ms/step - loss: 0.4862 - accuracy: 0.8765 - val_loss: 0.6192 - val_accuracy: 0.8317\n",
      "Epoch 114/150\n",
      "64/64 [==============================] - 1s 12ms/step - loss: 0.4810 - accuracy: 0.8733 - val_loss: 0.6352 - val_accuracy: 0.8334\n",
      "Epoch 115/150\n",
      "64/64 [==============================] - 1s 12ms/step - loss: 0.4810 - accuracy: 0.8718 - val_loss: 0.6505 - val_accuracy: 0.8266\n",
      "Epoch 116/150\n",
      "64/64 [==============================] - 1s 12ms/step - loss: 0.4770 - accuracy: 0.8694 - val_loss: 0.6526 - val_accuracy: 0.8226\n",
      "Epoch 117/150\n",
      "64/64 [==============================] - 1s 13ms/step - loss: 0.4964 - accuracy: 0.8687 - val_loss: 0.6607 - val_accuracy: 0.8197\n",
      "Epoch 118/150\n",
      "64/64 [==============================] - 1s 12ms/step - loss: 0.4868 - accuracy: 0.8696 - val_loss: 0.6234 - val_accuracy: 0.8311\n",
      "Epoch 119/150\n",
      "64/64 [==============================] - 1s 12ms/step - loss: 0.4711 - accuracy: 0.8809 - val_loss: 0.6381 - val_accuracy: 0.8306\n",
      "Epoch 120/150\n",
      "64/64 [==============================] - 1s 12ms/step - loss: 0.4759 - accuracy: 0.8718 - val_loss: 0.6358 - val_accuracy: 0.8357\n",
      "Epoch 121/150\n",
      "64/64 [==============================] - 1s 12ms/step - loss: 0.4813 - accuracy: 0.8684 - val_loss: 0.6293 - val_accuracy: 0.8300\n",
      "Epoch 122/150\n",
      "64/64 [==============================] - 1s 12ms/step - loss: 0.4731 - accuracy: 0.8721 - val_loss: 0.6876 - val_accuracy: 0.8209\n",
      "Epoch 123/150\n",
      "64/64 [==============================] - 1s 12ms/step - loss: 0.4766 - accuracy: 0.8721 - val_loss: 0.6591 - val_accuracy: 0.8272\n",
      "Epoch 124/150\n",
      "64/64 [==============================] - 1s 12ms/step - loss: 0.4797 - accuracy: 0.8750 - val_loss: 0.6346 - val_accuracy: 0.8277\n",
      "Epoch 125/150\n",
      "64/64 [==============================] - 1s 12ms/step - loss: 0.4754 - accuracy: 0.8714 - val_loss: 0.6282 - val_accuracy: 0.8351\n",
      "Epoch 126/150\n",
      "64/64 [==============================] - 1s 12ms/step - loss: 0.4712 - accuracy: 0.8743 - val_loss: 0.6371 - val_accuracy: 0.8363\n",
      "Epoch 127/150\n",
      "64/64 [==============================] - 1s 12ms/step - loss: 0.4770 - accuracy: 0.8775 - val_loss: 0.6141 - val_accuracy: 0.8323\n",
      "Epoch 128/150\n",
      "64/64 [==============================] - 1s 12ms/step - loss: 0.4690 - accuracy: 0.8785 - val_loss: 0.6305 - val_accuracy: 0.8266\n",
      "Epoch 129/150\n",
      "64/64 [==============================] - 1s 13ms/step - loss: 0.4625 - accuracy: 0.8780 - val_loss: 0.6634 - val_accuracy: 0.8283\n",
      "Epoch 130/150\n",
      "64/64 [==============================] - 1s 12ms/step - loss: 0.4695 - accuracy: 0.8785 - val_loss: 0.6295 - val_accuracy: 0.8340\n",
      "Epoch 131/150\n",
      "64/64 [==============================] - 1s 12ms/step - loss: 0.4718 - accuracy: 0.8758 - val_loss: 0.6427 - val_accuracy: 0.8180\n",
      "Epoch 132/150\n",
      "64/64 [==============================] - 1s 12ms/step - loss: 0.4679 - accuracy: 0.8753 - val_loss: 0.6364 - val_accuracy: 0.8340\n",
      "Epoch 133/150\n",
      "64/64 [==============================] - 1s 12ms/step - loss: 0.4697 - accuracy: 0.8741 - val_loss: 0.6621 - val_accuracy: 0.8243\n",
      "Epoch 134/150\n",
      "64/64 [==============================] - 1s 12ms/step - loss: 0.4758 - accuracy: 0.8728 - val_loss: 0.6653 - val_accuracy: 0.8294\n",
      "Epoch 135/150\n",
      "64/64 [==============================] - 1s 12ms/step - loss: 0.4739 - accuracy: 0.8750 - val_loss: 0.6496 - val_accuracy: 0.8272\n",
      "Epoch 136/150\n",
      "64/64 [==============================] - 1s 12ms/step - loss: 0.4706 - accuracy: 0.8743 - val_loss: 0.6370 - val_accuracy: 0.8306\n",
      "Epoch 137/150\n",
      "64/64 [==============================] - 1s 13ms/step - loss: 0.4674 - accuracy: 0.8711 - val_loss: 0.6548 - val_accuracy: 0.8283\n",
      "Epoch 138/150\n",
      "64/64 [==============================] - 1s 11ms/step - loss: 0.4635 - accuracy: 0.8758 - val_loss: 0.6495 - val_accuracy: 0.8192\n",
      "Epoch 139/150\n",
      "64/64 [==============================] - 1s 12ms/step - loss: 0.4621 - accuracy: 0.8809 - val_loss: 0.6542 - val_accuracy: 0.8243\n",
      "Epoch 140/150\n",
      "64/64 [==============================] - 1s 12ms/step - loss: 0.4567 - accuracy: 0.8819 - val_loss: 0.6473 - val_accuracy: 0.8294\n",
      "Epoch 141/150\n",
      "64/64 [==============================] - 1s 11ms/step - loss: 0.4629 - accuracy: 0.8787 - val_loss: 0.6418 - val_accuracy: 0.8334\n",
      "Epoch 142/150\n",
      "64/64 [==============================] - 1s 12ms/step - loss: 0.4586 - accuracy: 0.8809 - val_loss: 0.6417 - val_accuracy: 0.8386\n",
      "Epoch 143/150\n",
      "64/64 [==============================] - 1s 12ms/step - loss: 0.4600 - accuracy: 0.8777 - val_loss: 0.6369 - val_accuracy: 0.8260\n",
      "Epoch 144/150\n",
      "64/64 [==============================] - 1s 12ms/step - loss: 0.4542 - accuracy: 0.8804 - val_loss: 0.6340 - val_accuracy: 0.8397\n",
      "Epoch 145/150\n",
      "64/64 [==============================] - 1s 12ms/step - loss: 0.4752 - accuracy: 0.8753 - val_loss: 0.6671 - val_accuracy: 0.8340\n",
      "Epoch 146/150\n",
      "64/64 [==============================] - 1s 12ms/step - loss: 0.4526 - accuracy: 0.8814 - val_loss: 0.6325 - val_accuracy: 0.8386\n",
      "Epoch 147/150\n",
      "64/64 [==============================] - 1s 12ms/step - loss: 0.4633 - accuracy: 0.8812 - val_loss: 0.6509 - val_accuracy: 0.8180\n",
      "Epoch 148/150\n",
      "64/64 [==============================] - 1s 11ms/step - loss: 0.4588 - accuracy: 0.8794 - val_loss: 0.6522 - val_accuracy: 0.8311\n",
      "Epoch 149/150\n",
      "64/64 [==============================] - 1s 12ms/step - loss: 0.4507 - accuracy: 0.8777 - val_loss: 0.6438 - val_accuracy: 0.8283\n",
      "Epoch 150/150\n",
      "64/64 [==============================] - 1s 12ms/step - loss: 0.4646 - accuracy: 0.8721 - val_loss: 0.6448 - val_accuracy: 0.8283\n"
     ]
    }
   ],
   "source": [
    "epochs=150\n",
    "history = model.fit(\n",
    "  train,\n",
    "  validation_data=test,\n",
    "  epochs=epochs\n",
    ")"
   ]
  },
  {
   "cell_type": "code",
   "execution_count": 9,
   "metadata": {},
   "outputs": [
    {
     "data": {
      "image/png": "[encoded data removed]",
      "text/plain": [
       "<Figure size 576x576 with 2 Axes>"
      ]
     },
     "metadata": {
      "needs_background": "light"
     },
     "output_type": "display_data"
    }
   ],
   "source": [
    "acc = history.history['accuracy']\n",
    "val_acc = history.history['val_accuracy']\n",
    "\n",
    "loss = history.history['loss']\n",
    "val_loss = history.history['val_loss']\n",
    "\n",
    "epochs_range = range(epochs)\n",
    "\n",
    "plt.figure(figsize=(8, 8))\n",
    "plt.subplot(1, 2, 1)\n",
    "plt.plot(epochs_range, acc, label='Training Accuracy')\n",
    "plt.plot(epochs_range, val_acc, label='Validation Accuracy')\n",
    "plt.legend(loc='lower right')\n",
    "plt.title('Training and Validation Accuracy')\n",
    "\n",
    "plt.subplot(1, 2, 2)\n",
    "plt.plot(epochs_range, loss, label='Training Loss')\n",
    "plt.plot(epochs_range, val_loss, label='Validation Loss')\n",
    "plt.legend(loc='upper right')\n",
    "plt.title('Training and Validation Loss')\n",
    "plt.show()"
   ]
  },
  {
   "cell_type": "code",
   "execution_count": 10,
   "metadata": {},
   "outputs": [
    {
     "name": "stdout",
     "output_type": "stream",
     "text": [
      "28/28 [==============================] - 0s 8ms/step - loss: 0.6448 - accuracy: 0.8283\n",
      "Test accuracy : 0.8282943367958069\n"
     ]
    }
   ],
   "source": [
    "loss, accuracy = model.evaluate(test)\n",
    "print('Test accuracy :', accuracy)"
   ]
  },
  {
   "cell_type": "code",
   "execution_count": 11,
   "metadata": {},
   "outputs": [],
   "source": [
    "# Save the entire model as a SavedModel.\n",
    "# model.save('./data/humanModel/mode_v0')\n",
    "model.save('./data/'+map_dir+'/humanModel_v0.h5')"
   ]
  },
  {
   "cell_type": "code",
   "execution_count": 12,
   "metadata": {},
   "outputs": [],
   "source": [
    "# save model in js format\n",
    "# import tensorflowjs as tfjs\n",
    "# tfjs.converters.save_keras_model(model, 'data/humanModel/js_model_v0')"
   ]
  },
  {
   "cell_type": "code",
   "execution_count": 13,
   "metadata": {},
   "outputs": [],
   "source": [
    "# new_model = tf.keras.models.load_model('./data/humanModel/mode_v0')\n",
    "\n",
    "# # Check its architecture\n",
    "# new_model.summary()"
   ]
  },
  {
   "cell_type": "markdown",
   "metadata": {},
   "source": [
    "### Predict on new data"
   ]
  },
  {
   "cell_type": "code",
   "execution_count": 15,
   "metadata": {},
   "outputs": [
    {
     "name": "stdout",
     "output_type": "stream",
     "text": [
      "This image most likely belongs to 3 with a 40.46 percent confidence.\n"
     ]
    }
   ],
   "source": [
    "sunflower_path = \"./data/humanModel_dataset_split/val/39/-Mr4bNQJo1l3U7zrP2PJ_62.png\"\n",
    "\n",
    "img = keras.preprocessing.image.load_img(\n",
    "    sunflower_path, target_size=(IMG_SIZE, IMG_SIZE)\n",
    ")\n",
    "img_array = keras.preprocessing.image.img_to_array(img)\n",
    "img_array = tf.expand_dims(img_array, 0) # Create a batch\n",
    "\n",
    "predictions = model.predict(img_array)\n",
    "score = tf.nn.softmax(predictions[0])\n",
    "print(\n",
    "    \"This image most likely belongs to {} with a {:.2f} percent confidence.\"\n",
    "    .format(np.argmax(score), 100 * np.max(score))\n",
    ")"
   ]
  }
 ],
 "metadata": {
  "interpreter": {
   "hash": "ad60775ae12af945b53c5c94c294ef05f229143b8585a0d23625a81e181fdccc"
  },
  "kernelspec": {
   "display_name": "Python 3.7.4 64-bit ('tf-gpu': conda)",
   "name": "python3"
  },
  "language_info": {
   "codemirror_mode": {
    "name": "ipython",
    "version": 3
   },
   "file_extension": ".py",
   "mimetype": "text/x-python",
   "name": "python",
   "nbconvert_exporter": "python",
   "pygments_lexer": "ipython3",
   "version": "3.7.4"
  }
 },
 "nbformat": 4,
 "nbformat_minor": 4
}
