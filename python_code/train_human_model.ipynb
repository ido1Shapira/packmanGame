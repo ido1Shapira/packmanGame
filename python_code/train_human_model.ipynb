{
 "cells": [
  {
   "cell_type": "code",
   "execution_count": 1,
   "metadata": {},
   "outputs": [],
   "source": [
    "import numpy as np\n",
    "import random\n",
    "import os\n",
    "\n",
    "# ! pip install split-folders\n",
    "import splitfolders\n",
    "\n",
    "import tensorflow as tf\n",
    "from tensorflow import keras\n",
    "from tensorflow.keras import layers, regularizers\n",
    "from tensorflow.keras.models import Sequential\n",
    "\n",
    "from tensorflow.keras.preprocessing.image import ImageDataGenerator\n",
    "from tensorflow.keras.preprocessing import image\n",
    "\n",
    "import matplotlib.pyplot as plt\n",
    "\n",
    "rs = 42\n",
    "def reset_random_seeds(rs):\n",
    "   os.environ['PYTHONHASHSEED']=str(rs)\n",
    "   tf.random.set_seed(rs)\n",
    "   np.random.seed(rs)\n",
    "   random.seed(rs)\n",
    "reset_random_seeds(rs)"
   ]
  },
  {
   "cell_type": "markdown",
   "metadata": {},
   "source": [
    "# Part 1 - Data Preprocessing"
   ]
  },
  {
   "cell_type": "markdown",
   "metadata": {},
   "source": [
    "## Split into train , test data"
   ]
  },
  {
   "cell_type": "code",
   "execution_count": 2,
   "metadata": {},
   "outputs": [
    {
     "name": "stderr",
     "output_type": "stream",
     "text": [
      "Copying files: 4900 files [00:00, 13933.47 files/s]\n"
     ]
    }
   ],
   "source": [
    "# train, test split\n",
    "splitfolders.ratio('./data/humanModel/imagesDatabase/', output=\"./data/humanModel/imagesDatabase_split\", ratio=(0.7, 0.3))"
   ]
  },
  {
   "cell_type": "markdown",
   "metadata": {},
   "source": [
    "### Preprocessing the Training set"
   ]
  },
  {
   "cell_type": "code",
   "execution_count": 3,
   "metadata": {},
   "outputs": [
    {
     "name": "stdout",
     "output_type": "stream",
     "text": [
      "Found 3428 images belonging to 5 classes.\n",
      "Found 1472 images belonging to 5 classes.\n"
     ]
    }
   ],
   "source": [
    "batch_size = 64\n",
    "IMG_SIZE = 10\n",
    "\n",
    "datagen = ImageDataGenerator(rescale = 1./255)\n",
    "train = datagen.flow_from_directory('./data/humanModel/imagesDatabase_split/train',\n",
    "                                          target_size = (IMG_SIZE,IMG_SIZE), batch_size = batch_size, seed=rs, class_mode='sparse')\n",
    "\n",
    "test = datagen.flow_from_directory('./data/humanModel/imagesDatabase_split/val',\n",
    "                                            target_size = (IMG_SIZE, IMG_SIZE), batch_size = batch_size, seed=rs, class_mode='sparse')"
   ]
  },
  {
   "cell_type": "markdown",
   "metadata": {},
   "source": [
    "## View some data"
   ]
  },
  {
   "cell_type": "code",
   "execution_count": 4,
   "metadata": {},
   "outputs": [
    {
     "name": "stderr",
     "output_type": "stream",
     "text": [
      "2021-12-14 12:44:49.054026: I tensorflow/stream_executor/cuda/cuda_gpu_executor.cc:937] successful NUMA node read from SysFS had negative value (-1), but there must be at least one NUMA node, so returning NUMA node zero\n",
      "2021-12-14 12:44:49.058189: I tensorflow/stream_executor/cuda/cuda_gpu_executor.cc:937] successful NUMA node read from SysFS had negative value (-1), but there must be at least one NUMA node, so returning NUMA node zero\n",
      "2021-12-14 12:44:49.058488: I tensorflow/stream_executor/cuda/cuda_gpu_executor.cc:937] successful NUMA node read from SysFS had negative value (-1), but there must be at least one NUMA node, so returning NUMA node zero\n",
      "2021-12-14 12:44:49.059175: I tensorflow/core/platform/cpu_feature_guard.cc:142] This TensorFlow binary is optimized with oneAPI Deep Neural Network Library (oneDNN) to use the following CPU instructions in performance-critical operations:  AVX2 FMA\n",
      "To enable them in other operations, rebuild TensorFlow with the appropriate compiler flags.\n",
      "2021-12-14 12:44:49.059581: I tensorflow/stream_executor/cuda/cuda_gpu_executor.cc:937] successful NUMA node read from SysFS had negative value (-1), but there must be at least one NUMA node, so returning NUMA node zero\n",
      "2021-12-14 12:44:49.059865: I tensorflow/stream_executor/cuda/cuda_gpu_executor.cc:937] successful NUMA node read from SysFS had negative value (-1), but there must be at least one NUMA node, so returning NUMA node zero\n",
      "2021-12-14 12:44:49.060134: I tensorflow/stream_executor/cuda/cuda_gpu_executor.cc:937] successful NUMA node read from SysFS had negative value (-1), but there must be at least one NUMA node, so returning NUMA node zero\n",
      "2021-12-14 12:44:49.346050: I tensorflow/stream_executor/cuda/cuda_gpu_executor.cc:937] successful NUMA node read from SysFS had negative value (-1), but there must be at least one NUMA node, so returning NUMA node zero\n",
      "2021-12-14 12:44:49.346359: I tensorflow/stream_executor/cuda/cuda_gpu_executor.cc:937] successful NUMA node read from SysFS had negative value (-1), but there must be at least one NUMA node, so returning NUMA node zero\n",
      "2021-12-14 12:44:49.346630: I tensorflow/stream_executor/cuda/cuda_gpu_executor.cc:937] successful NUMA node read from SysFS had negative value (-1), but there must be at least one NUMA node, so returning NUMA node zero\n",
      "2021-12-14 12:44:49.346890: I tensorflow/core/common_runtime/gpu/gpu_device.cc:1510] Created device /job:localhost/replica:0/task:0/device:GPU:0 with 11106 MB memory:  -> device: 0, name: NVIDIA TITAN X (Pascal), pci bus id: 0000:01:00.0, compute capability: 6.1\n"
     ]
    }
   ],
   "source": [
    "num_classes = 5\n",
    "\n",
    "model = Sequential([\n",
    "  # layers.GaussianNoise(0.2),\n",
    "  layers.Conv2D(8, 4, padding='same', activation='relu', kernel_regularizer=regularizers.l2(0.001), input_shape=[IMG_SIZE,IMG_SIZE,3]),\n",
    "  layers.Conv2D(16, 4, padding='same', activation='relu', kernel_regularizer=regularizers.l2(0.001)),\n",
    "  layers.Conv2D(16, 3, padding='same', activation='relu', kernel_regularizer=regularizers.l2(0.001)),\n",
    "  layers.MaxPooling2D(),\n",
    "  layers.Conv2D(8, 3, padding='same', activation='relu', kernel_regularizer=regularizers.l2(0.001)),\n",
    "  layers.Dropout(0.5),\n",
    "  layers.Flatten(),\n",
    "  layers.Dense(32, activation='relu', kernel_regularizer=regularizers.l2(0.001)),\n",
    "  layers.Dense(num_classes, activation='softmax')\n",
    "])"
   ]
  },
  {
   "cell_type": "code",
   "execution_count": 5,
   "metadata": {},
   "outputs": [],
   "source": [
    "model.compile(optimizer='adam',\n",
    "              loss=tf.keras.losses.SparseCategoricalCrossentropy(from_logits=True),\n",
    "              metrics=['accuracy'])"
   ]
  },
  {
   "cell_type": "code",
   "execution_count": 6,
   "metadata": {},
   "outputs": [
    {
     "name": "stdout",
     "output_type": "stream",
     "text": [
      "Model: \"sequential\"\n",
      "_________________________________________________________________\n",
      "Layer (type)                 Output Shape              Param #   \n",
      "=================================================================\n",
      "conv2d (Conv2D)              (None, 10, 10, 8)         392       \n",
      "_________________________________________________________________\n",
      "conv2d_1 (Conv2D)            (None, 10, 10, 16)        2064      \n",
      "_________________________________________________________________\n",
      "conv2d_2 (Conv2D)            (None, 10, 10, 16)        2320      \n",
      "_________________________________________________________________\n",
      "max_pooling2d (MaxPooling2D) (None, 5, 5, 16)          0         \n",
      "_________________________________________________________________\n",
      "conv2d_3 (Conv2D)            (None, 5, 5, 8)           1160      \n",
      "_________________________________________________________________\n",
      "dropout (Dropout)            (None, 5, 5, 8)           0         \n",
      "_________________________________________________________________\n",
      "flatten (Flatten)            (None, 200)               0         \n",
      "_________________________________________________________________\n",
      "dense (Dense)                (None, 32)                6432      \n",
      "_________________________________________________________________\n",
      "dense_1 (Dense)              (None, 5)                 165       \n",
      "=================================================================\n",
      "Total params: 12,533\n",
      "Trainable params: 12,533\n",
      "Non-trainable params: 0\n",
      "_________________________________________________________________\n"
     ]
    }
   ],
   "source": [
    "model.summary()"
   ]
  },
  {
   "cell_type": "code",
   "execution_count": 7,
   "metadata": {
    "scrolled": true
   },
   "outputs": [
    {
     "name": "stderr",
     "output_type": "stream",
     "text": [
      "2021-12-14 12:44:49.677472: I tensorflow/compiler/mlir/mlir_graph_optimization_pass.cc:185] None of the MLIR Optimization Passes are enabled (registered 2)\n",
      "/home/ido/anaconda3/envs/tf-gpu/lib/python3.7/site-packages/keras/backend.py:4907: UserWarning: \"`sparse_categorical_crossentropy` received `from_logits=True`, but the `output` argument was produced by a sigmoid or softmax activation and thus does not represent logits. Was this intended?\"\n",
      "  '\"`sparse_categorical_crossentropy` received `from_logits=True`, but '\n"
     ]
    },
    {
     "name": "stdout",
     "output_type": "stream",
     "text": [
      "Epoch 1/150\n"
     ]
    },
    {
     "name": "stderr",
     "output_type": "stream",
     "text": [
      "2021-12-14 12:44:50.286079: I tensorflow/stream_executor/cuda/cuda_dnn.cc:369] Loaded cuDNN version 8300\n"
     ]
    },
    {
     "name": "stdout",
     "output_type": "stream",
     "text": [
      "54/54 [==============================] - 2s 14ms/step - loss: 1.6237 - accuracy: 0.3270 - val_loss: 1.5274 - val_accuracy: 0.4572\n",
      "Epoch 2/150\n",
      "54/54 [==============================] - 1s 12ms/step - loss: 1.4406 - accuracy: 0.4384 - val_loss: 1.2849 - val_accuracy: 0.5088\n",
      "Epoch 3/150\n",
      "54/54 [==============================] - 1s 12ms/step - loss: 1.2795 - accuracy: 0.4968 - val_loss: 1.1649 - val_accuracy: 0.5251\n",
      "Epoch 4/150\n",
      "54/54 [==============================] - 1s 12ms/step - loss: 1.1714 - accuracy: 0.5677 - val_loss: 1.0829 - val_accuracy: 0.6223\n",
      "Epoch 5/150\n",
      "54/54 [==============================] - 1s 11ms/step - loss: 1.1032 - accuracy: 0.6211 - val_loss: 1.0271 - val_accuracy: 0.6481\n",
      "Epoch 6/150\n",
      "54/54 [==============================] - 1s 11ms/step - loss: 1.0682 - accuracy: 0.6371 - val_loss: 0.9938 - val_accuracy: 0.6576\n",
      "Epoch 7/150\n",
      "54/54 [==============================] - 1s 12ms/step - loss: 1.0118 - accuracy: 0.6523 - val_loss: 0.9727 - val_accuracy: 0.6732\n",
      "Epoch 8/150\n",
      "54/54 [==============================] - 1s 11ms/step - loss: 0.9931 - accuracy: 0.6558 - val_loss: 0.9411 - val_accuracy: 0.6841\n",
      "Epoch 9/150\n",
      "54/54 [==============================] - 1s 12ms/step - loss: 0.9654 - accuracy: 0.6812 - val_loss: 0.9229 - val_accuracy: 0.6800\n",
      "Epoch 10/150\n",
      "54/54 [==============================] - 1s 12ms/step - loss: 0.9456 - accuracy: 0.6736 - val_loss: 0.9132 - val_accuracy: 0.6977\n",
      "Epoch 11/150\n",
      "54/54 [==============================] - 1s 12ms/step - loss: 0.9303 - accuracy: 0.6870 - val_loss: 0.8893 - val_accuracy: 0.7024\n",
      "Epoch 12/150\n",
      "54/54 [==============================] - 1s 11ms/step - loss: 0.9225 - accuracy: 0.6879 - val_loss: 0.9181 - val_accuracy: 0.7004\n",
      "Epoch 13/150\n",
      "54/54 [==============================] - 1s 11ms/step - loss: 0.9132 - accuracy: 0.6978 - val_loss: 0.8856 - val_accuracy: 0.7065\n",
      "Epoch 14/150\n",
      "54/54 [==============================] - 1s 11ms/step - loss: 0.8903 - accuracy: 0.7033 - val_loss: 0.9131 - val_accuracy: 0.6970\n",
      "Epoch 15/150\n",
      "54/54 [==============================] - 1s 12ms/step - loss: 0.8817 - accuracy: 0.7097 - val_loss: 0.8468 - val_accuracy: 0.7181\n",
      "Epoch 16/150\n",
      "54/54 [==============================] - 1s 11ms/step - loss: 0.8706 - accuracy: 0.7100 - val_loss: 0.8496 - val_accuracy: 0.7120\n",
      "Epoch 17/150\n",
      "54/54 [==============================] - 1s 12ms/step - loss: 0.8540 - accuracy: 0.7103 - val_loss: 0.8402 - val_accuracy: 0.7242\n",
      "Epoch 18/150\n",
      "54/54 [==============================] - 1s 12ms/step - loss: 0.8570 - accuracy: 0.7100 - val_loss: 0.8461 - val_accuracy: 0.7181\n",
      "Epoch 19/150\n",
      "54/54 [==============================] - 1s 11ms/step - loss: 0.8571 - accuracy: 0.7138 - val_loss: 0.8398 - val_accuracy: 0.7296\n",
      "Epoch 20/150\n",
      "54/54 [==============================] - 1s 12ms/step - loss: 0.8271 - accuracy: 0.7264 - val_loss: 0.8336 - val_accuracy: 0.7269\n",
      "Epoch 21/150\n",
      "54/54 [==============================] - 1s 11ms/step - loss: 0.8244 - accuracy: 0.7372 - val_loss: 0.8349 - val_accuracy: 0.7194\n",
      "Epoch 22/150\n",
      "54/54 [==============================] - 1s 12ms/step - loss: 0.8260 - accuracy: 0.7360 - val_loss: 0.8173 - val_accuracy: 0.7378\n",
      "Epoch 23/150\n",
      "54/54 [==============================] - 1s 12ms/step - loss: 0.7979 - accuracy: 0.7386 - val_loss: 0.8041 - val_accuracy: 0.7351\n",
      "Epoch 24/150\n",
      "54/54 [==============================] - 1s 11ms/step - loss: 0.8110 - accuracy: 0.7340 - val_loss: 0.8379 - val_accuracy: 0.7215\n",
      "Epoch 25/150\n",
      "54/54 [==============================] - 1s 11ms/step - loss: 0.8114 - accuracy: 0.7337 - val_loss: 0.7989 - val_accuracy: 0.7432\n",
      "Epoch 26/150\n",
      "54/54 [==============================] - 1s 11ms/step - loss: 0.8038 - accuracy: 0.7427 - val_loss: 0.8036 - val_accuracy: 0.7269\n",
      "Epoch 27/150\n",
      "54/54 [==============================] - 1s 11ms/step - loss: 0.7855 - accuracy: 0.7509 - val_loss: 0.7945 - val_accuracy: 0.7425\n",
      "Epoch 28/150\n",
      "54/54 [==============================] - 1s 11ms/step - loss: 0.7756 - accuracy: 0.7538 - val_loss: 0.8061 - val_accuracy: 0.7364\n",
      "Epoch 29/150\n",
      "54/54 [==============================] - 1s 11ms/step - loss: 0.7775 - accuracy: 0.7477 - val_loss: 0.7910 - val_accuracy: 0.7466\n",
      "Epoch 30/150\n",
      "54/54 [==============================] - 1s 11ms/step - loss: 0.7695 - accuracy: 0.7532 - val_loss: 0.7996 - val_accuracy: 0.7391\n",
      "Epoch 31/150\n",
      "54/54 [==============================] - 1s 12ms/step - loss: 0.7721 - accuracy: 0.7573 - val_loss: 0.7910 - val_accuracy: 0.7418\n",
      "Epoch 32/150\n",
      "54/54 [==============================] - 1s 11ms/step - loss: 0.7643 - accuracy: 0.7608 - val_loss: 0.7843 - val_accuracy: 0.7514\n",
      "Epoch 33/150\n",
      "54/54 [==============================] - 1s 12ms/step - loss: 0.7680 - accuracy: 0.7561 - val_loss: 0.7772 - val_accuracy: 0.7568\n",
      "Epoch 34/150\n",
      "54/54 [==============================] - 1s 11ms/step - loss: 0.7530 - accuracy: 0.7658 - val_loss: 0.7836 - val_accuracy: 0.7514\n",
      "Epoch 35/150\n",
      "54/54 [==============================] - 1s 11ms/step - loss: 0.7545 - accuracy: 0.7588 - val_loss: 0.7821 - val_accuracy: 0.7636\n",
      "Epoch 36/150\n",
      "54/54 [==============================] - 1s 12ms/step - loss: 0.7526 - accuracy: 0.7675 - val_loss: 0.7760 - val_accuracy: 0.7561\n",
      "Epoch 37/150\n",
      "54/54 [==============================] - 1s 13ms/step - loss: 0.7439 - accuracy: 0.7646 - val_loss: 0.7800 - val_accuracy: 0.7534\n",
      "Epoch 38/150\n",
      "54/54 [==============================] - 1s 12ms/step - loss: 0.7288 - accuracy: 0.7701 - val_loss: 0.7739 - val_accuracy: 0.7622\n",
      "Epoch 39/150\n",
      "54/54 [==============================] - 1s 12ms/step - loss: 0.7287 - accuracy: 0.7774 - val_loss: 0.7711 - val_accuracy: 0.7582\n",
      "Epoch 40/150\n",
      "54/54 [==============================] - 1s 12ms/step - loss: 0.7261 - accuracy: 0.7754 - val_loss: 0.7703 - val_accuracy: 0.7588\n",
      "Epoch 41/150\n",
      "54/54 [==============================] - 1s 11ms/step - loss: 0.7333 - accuracy: 0.7728 - val_loss: 0.8065 - val_accuracy: 0.7466\n",
      "Epoch 42/150\n",
      "54/54 [==============================] - 1s 12ms/step - loss: 0.7393 - accuracy: 0.7710 - val_loss: 0.7856 - val_accuracy: 0.7602\n",
      "Epoch 43/150\n",
      "54/54 [==============================] - 1s 11ms/step - loss: 0.7194 - accuracy: 0.7792 - val_loss: 0.7639 - val_accuracy: 0.7609\n",
      "Epoch 44/150\n",
      "54/54 [==============================] - 1s 12ms/step - loss: 0.7169 - accuracy: 0.7795 - val_loss: 0.7745 - val_accuracy: 0.7622\n",
      "Epoch 45/150\n",
      "54/54 [==============================] - 1s 11ms/step - loss: 0.7114 - accuracy: 0.7739 - val_loss: 0.7602 - val_accuracy: 0.7677\n",
      "Epoch 46/150\n",
      "54/54 [==============================] - 1s 11ms/step - loss: 0.7111 - accuracy: 0.7754 - val_loss: 0.7583 - val_accuracy: 0.7663\n",
      "Epoch 47/150\n",
      "54/54 [==============================] - 1s 12ms/step - loss: 0.7190 - accuracy: 0.7798 - val_loss: 0.7691 - val_accuracy: 0.7609\n",
      "Epoch 48/150\n",
      "54/54 [==============================] - 1s 11ms/step - loss: 0.7001 - accuracy: 0.7800 - val_loss: 0.7659 - val_accuracy: 0.7609\n",
      "Epoch 49/150\n",
      "54/54 [==============================] - 1s 12ms/step - loss: 0.7215 - accuracy: 0.7768 - val_loss: 0.7609 - val_accuracy: 0.7711\n",
      "Epoch 50/150\n",
      "54/54 [==============================] - 1s 12ms/step - loss: 0.7201 - accuracy: 0.7780 - val_loss: 0.7929 - val_accuracy: 0.7473\n",
      "Epoch 51/150\n",
      "54/54 [==============================] - 1s 12ms/step - loss: 0.6944 - accuracy: 0.7923 - val_loss: 0.7673 - val_accuracy: 0.7615\n",
      "Epoch 52/150\n",
      "54/54 [==============================] - 1s 12ms/step - loss: 0.6983 - accuracy: 0.7841 - val_loss: 0.7577 - val_accuracy: 0.7670\n",
      "Epoch 53/150\n",
      "54/54 [==============================] - 1s 11ms/step - loss: 0.6986 - accuracy: 0.7835 - val_loss: 0.7548 - val_accuracy: 0.7711\n",
      "Epoch 54/150\n",
      "54/54 [==============================] - 1s 12ms/step - loss: 0.6812 - accuracy: 0.7949 - val_loss: 0.7575 - val_accuracy: 0.7663\n",
      "Epoch 55/150\n",
      "54/54 [==============================] - 1s 13ms/step - loss: 0.6966 - accuracy: 0.7818 - val_loss: 0.7676 - val_accuracy: 0.7622\n",
      "Epoch 56/150\n",
      "54/54 [==============================] - 1s 11ms/step - loss: 0.6908 - accuracy: 0.7900 - val_loss: 0.7557 - val_accuracy: 0.7663\n",
      "Epoch 57/150\n",
      "54/54 [==============================] - 1s 12ms/step - loss: 0.6821 - accuracy: 0.7981 - val_loss: 0.7660 - val_accuracy: 0.7663\n",
      "Epoch 58/150\n",
      "54/54 [==============================] - 1s 12ms/step - loss: 0.6717 - accuracy: 0.7993 - val_loss: 0.7415 - val_accuracy: 0.7765\n",
      "Epoch 59/150\n",
      "54/54 [==============================] - 1s 12ms/step - loss: 0.6680 - accuracy: 0.7984 - val_loss: 0.7536 - val_accuracy: 0.7758\n",
      "Epoch 60/150\n",
      "54/54 [==============================] - 1s 12ms/step - loss: 0.6683 - accuracy: 0.8008 - val_loss: 0.7562 - val_accuracy: 0.7717\n",
      "Epoch 61/150\n",
      "54/54 [==============================] - 1s 12ms/step - loss: 0.6761 - accuracy: 0.7938 - val_loss: 0.7406 - val_accuracy: 0.7758\n",
      "Epoch 62/150\n",
      "54/54 [==============================] - 1s 13ms/step - loss: 0.6652 - accuracy: 0.8034 - val_loss: 0.7561 - val_accuracy: 0.7724\n",
      "Epoch 63/150\n",
      "54/54 [==============================] - 1s 13ms/step - loss: 0.6626 - accuracy: 0.8022 - val_loss: 0.7472 - val_accuracy: 0.7779\n",
      "Epoch 64/150\n",
      "54/54 [==============================] - 1s 12ms/step - loss: 0.6699 - accuracy: 0.7964 - val_loss: 0.7465 - val_accuracy: 0.7779\n",
      "Epoch 65/150\n",
      "54/54 [==============================] - 1s 12ms/step - loss: 0.6718 - accuracy: 0.7940 - val_loss: 0.7700 - val_accuracy: 0.7636\n",
      "Epoch 66/150\n",
      "54/54 [==============================] - 1s 12ms/step - loss: 0.6639 - accuracy: 0.8031 - val_loss: 0.7664 - val_accuracy: 0.7758\n",
      "Epoch 67/150\n",
      "54/54 [==============================] - 1s 12ms/step - loss: 0.6564 - accuracy: 0.8037 - val_loss: 0.7475 - val_accuracy: 0.7840\n",
      "Epoch 68/150\n",
      "54/54 [==============================] - 1s 12ms/step - loss: 0.6572 - accuracy: 0.7973 - val_loss: 0.7590 - val_accuracy: 0.7677\n",
      "Epoch 69/150\n",
      "54/54 [==============================] - 1s 12ms/step - loss: 0.6608 - accuracy: 0.7984 - val_loss: 0.7635 - val_accuracy: 0.7731\n",
      "Epoch 70/150\n",
      "54/54 [==============================] - 1s 12ms/step - loss: 0.6383 - accuracy: 0.8046 - val_loss: 0.7485 - val_accuracy: 0.7683\n",
      "Epoch 71/150\n",
      "54/54 [==============================] - 1s 12ms/step - loss: 0.6438 - accuracy: 0.8043 - val_loss: 0.7540 - val_accuracy: 0.7615\n",
      "Epoch 72/150\n",
      "54/54 [==============================] - 1s 12ms/step - loss: 0.6470 - accuracy: 0.8043 - val_loss: 0.7439 - val_accuracy: 0.7724\n",
      "Epoch 73/150\n",
      "54/54 [==============================] - 1s 12ms/step - loss: 0.6390 - accuracy: 0.8037 - val_loss: 0.7444 - val_accuracy: 0.7704\n",
      "Epoch 74/150\n",
      "54/54 [==============================] - 1s 12ms/step - loss: 0.6487 - accuracy: 0.7970 - val_loss: 0.7415 - val_accuracy: 0.7765\n",
      "Epoch 75/150\n",
      "54/54 [==============================] - 1s 11ms/step - loss: 0.6394 - accuracy: 0.8095 - val_loss: 0.7644 - val_accuracy: 0.7785\n",
      "Epoch 76/150\n",
      "54/54 [==============================] - 1s 12ms/step - loss: 0.6328 - accuracy: 0.8092 - val_loss: 0.7370 - val_accuracy: 0.7846\n",
      "Epoch 77/150\n",
      "54/54 [==============================] - 1s 12ms/step - loss: 0.6294 - accuracy: 0.8124 - val_loss: 0.7393 - val_accuracy: 0.7840\n",
      "Epoch 78/150\n",
      "54/54 [==============================] - 1s 11ms/step - loss: 0.6239 - accuracy: 0.8113 - val_loss: 0.7430 - val_accuracy: 0.7745\n",
      "Epoch 79/150\n",
      "54/54 [==============================] - 1s 12ms/step - loss: 0.6393 - accuracy: 0.8159 - val_loss: 0.7501 - val_accuracy: 0.7812\n",
      "Epoch 80/150\n",
      "54/54 [==============================] - 1s 12ms/step - loss: 0.6461 - accuracy: 0.8086 - val_loss: 0.7663 - val_accuracy: 0.7663\n",
      "Epoch 81/150\n",
      "54/54 [==============================] - 1s 12ms/step - loss: 0.6332 - accuracy: 0.8110 - val_loss: 0.7730 - val_accuracy: 0.7731\n",
      "Epoch 82/150\n",
      "54/54 [==============================] - 1s 12ms/step - loss: 0.6277 - accuracy: 0.8116 - val_loss: 0.7455 - val_accuracy: 0.7874\n",
      "Epoch 83/150\n",
      "54/54 [==============================] - 1s 11ms/step - loss: 0.6186 - accuracy: 0.8145 - val_loss: 0.7686 - val_accuracy: 0.7643\n",
      "Epoch 84/150\n",
      "54/54 [==============================] - 1s 11ms/step - loss: 0.6389 - accuracy: 0.8116 - val_loss: 0.7478 - val_accuracy: 0.7745\n",
      "Epoch 85/150\n",
      "54/54 [==============================] - 1s 12ms/step - loss: 0.6354 - accuracy: 0.8048 - val_loss: 0.7510 - val_accuracy: 0.7806\n",
      "Epoch 86/150\n",
      "54/54 [==============================] - 1s 11ms/step - loss: 0.6312 - accuracy: 0.8127 - val_loss: 0.7373 - val_accuracy: 0.7792\n",
      "Epoch 87/150\n",
      "54/54 [==============================] - 1s 12ms/step - loss: 0.6271 - accuracy: 0.8098 - val_loss: 0.7478 - val_accuracy: 0.7799\n",
      "Epoch 88/150\n",
      "54/54 [==============================] - 1s 13ms/step - loss: 0.6112 - accuracy: 0.8203 - val_loss: 0.7523 - val_accuracy: 0.7826\n",
      "Epoch 89/150\n",
      "54/54 [==============================] - 1s 12ms/step - loss: 0.6179 - accuracy: 0.8186 - val_loss: 0.7486 - val_accuracy: 0.7826\n",
      "Epoch 90/150\n",
      "54/54 [==============================] - 1s 12ms/step - loss: 0.6329 - accuracy: 0.8060 - val_loss: 0.7621 - val_accuracy: 0.7887\n",
      "Epoch 91/150\n",
      "54/54 [==============================] - 1s 12ms/step - loss: 0.6214 - accuracy: 0.8101 - val_loss: 0.7540 - val_accuracy: 0.7819\n",
      "Epoch 92/150\n",
      "54/54 [==============================] - 1s 12ms/step - loss: 0.6218 - accuracy: 0.8116 - val_loss: 0.7509 - val_accuracy: 0.7751\n",
      "Epoch 93/150\n",
      "54/54 [==============================] - 1s 12ms/step - loss: 0.6154 - accuracy: 0.8212 - val_loss: 0.7539 - val_accuracy: 0.7758\n",
      "Epoch 94/150\n",
      "54/54 [==============================] - 1s 12ms/step - loss: 0.6198 - accuracy: 0.8153 - val_loss: 0.7491 - val_accuracy: 0.7731\n",
      "Epoch 95/150\n",
      "54/54 [==============================] - 1s 12ms/step - loss: 0.6185 - accuracy: 0.8107 - val_loss: 0.7594 - val_accuracy: 0.7745\n",
      "Epoch 96/150\n",
      "54/54 [==============================] - 1s 12ms/step - loss: 0.6181 - accuracy: 0.8113 - val_loss: 0.7512 - val_accuracy: 0.7785\n",
      "Epoch 97/150\n",
      "54/54 [==============================] - 1s 11ms/step - loss: 0.6116 - accuracy: 0.8203 - val_loss: 0.7737 - val_accuracy: 0.7561\n",
      "Epoch 98/150\n",
      "54/54 [==============================] - 1s 12ms/step - loss: 0.6151 - accuracy: 0.8215 - val_loss: 0.7458 - val_accuracy: 0.7758\n",
      "Epoch 99/150\n",
      "54/54 [==============================] - 1s 12ms/step - loss: 0.6046 - accuracy: 0.8247 - val_loss: 0.7807 - val_accuracy: 0.7677\n",
      "Epoch 100/150\n",
      "54/54 [==============================] - 1s 12ms/step - loss: 0.6124 - accuracy: 0.8121 - val_loss: 0.7577 - val_accuracy: 0.7860\n",
      "Epoch 101/150\n",
      "54/54 [==============================] - 1s 12ms/step - loss: 0.6048 - accuracy: 0.8226 - val_loss: 0.7381 - val_accuracy: 0.7887\n",
      "Epoch 102/150\n",
      "54/54 [==============================] - 1s 12ms/step - loss: 0.5973 - accuracy: 0.8247 - val_loss: 0.7484 - val_accuracy: 0.7758\n",
      "Epoch 103/150\n",
      "54/54 [==============================] - 1s 12ms/step - loss: 0.5838 - accuracy: 0.8299 - val_loss: 0.7765 - val_accuracy: 0.7683\n",
      "Epoch 104/150\n",
      "54/54 [==============================] - 1s 12ms/step - loss: 0.6024 - accuracy: 0.8238 - val_loss: 0.7716 - val_accuracy: 0.7697\n",
      "Epoch 105/150\n",
      "54/54 [==============================] - 1s 12ms/step - loss: 0.5955 - accuracy: 0.8229 - val_loss: 0.7545 - val_accuracy: 0.7853\n",
      "Epoch 106/150\n",
      "54/54 [==============================] - 1s 12ms/step - loss: 0.5977 - accuracy: 0.8221 - val_loss: 0.7706 - val_accuracy: 0.7717\n",
      "Epoch 107/150\n",
      "54/54 [==============================] - 1s 11ms/step - loss: 0.5795 - accuracy: 0.8343 - val_loss: 0.7775 - val_accuracy: 0.7772\n",
      "Epoch 108/150\n",
      "54/54 [==============================] - 1s 12ms/step - loss: 0.5960 - accuracy: 0.8334 - val_loss: 0.7713 - val_accuracy: 0.7840\n",
      "Epoch 109/150\n",
      "54/54 [==============================] - 1s 11ms/step - loss: 0.5870 - accuracy: 0.8226 - val_loss: 0.7626 - val_accuracy: 0.7880\n",
      "Epoch 110/150\n",
      "54/54 [==============================] - 1s 12ms/step - loss: 0.5909 - accuracy: 0.8291 - val_loss: 0.7431 - val_accuracy: 0.7792\n",
      "Epoch 111/150\n",
      "54/54 [==============================] - 1s 12ms/step - loss: 0.5894 - accuracy: 0.8264 - val_loss: 0.7465 - val_accuracy: 0.7765\n",
      "Epoch 112/150\n",
      "54/54 [==============================] - 1s 12ms/step - loss: 0.5962 - accuracy: 0.8250 - val_loss: 0.7570 - val_accuracy: 0.7819\n",
      "Epoch 113/150\n",
      "54/54 [==============================] - 1s 12ms/step - loss: 0.5921 - accuracy: 0.8279 - val_loss: 0.7541 - val_accuracy: 0.7779\n",
      "Epoch 114/150\n",
      "54/54 [==============================] - 1s 12ms/step - loss: 0.5926 - accuracy: 0.8253 - val_loss: 0.7758 - val_accuracy: 0.7697\n",
      "Epoch 115/150\n",
      "54/54 [==============================] - 1s 12ms/step - loss: 0.5857 - accuracy: 0.8288 - val_loss: 0.7638 - val_accuracy: 0.7826\n",
      "Epoch 116/150\n",
      "54/54 [==============================] - 1s 12ms/step - loss: 0.5761 - accuracy: 0.8291 - val_loss: 0.7587 - val_accuracy: 0.7758\n",
      "Epoch 117/150\n",
      "54/54 [==============================] - 1s 11ms/step - loss: 0.5801 - accuracy: 0.8302 - val_loss: 0.7735 - val_accuracy: 0.7833\n",
      "Epoch 118/150\n",
      "54/54 [==============================] - 1s 12ms/step - loss: 0.5866 - accuracy: 0.8258 - val_loss: 0.7663 - val_accuracy: 0.7806\n",
      "Epoch 119/150\n",
      "54/54 [==============================] - 1s 12ms/step - loss: 0.5785 - accuracy: 0.8299 - val_loss: 0.7802 - val_accuracy: 0.7846\n",
      "Epoch 120/150\n",
      "54/54 [==============================] - 1s 12ms/step - loss: 0.5914 - accuracy: 0.8191 - val_loss: 0.7469 - val_accuracy: 0.7812\n",
      "Epoch 121/150\n",
      "54/54 [==============================] - 1s 12ms/step - loss: 0.5834 - accuracy: 0.8264 - val_loss: 0.7576 - val_accuracy: 0.7887\n",
      "Epoch 122/150\n",
      "54/54 [==============================] - 1s 12ms/step - loss: 0.5779 - accuracy: 0.8363 - val_loss: 0.7575 - val_accuracy: 0.7908\n",
      "Epoch 123/150\n",
      "54/54 [==============================] - 1s 11ms/step - loss: 0.5880 - accuracy: 0.8291 - val_loss: 0.7779 - val_accuracy: 0.7738\n",
      "Epoch 124/150\n",
      "54/54 [==============================] - 1s 12ms/step - loss: 0.5666 - accuracy: 0.8361 - val_loss: 0.7635 - val_accuracy: 0.7785\n",
      "Epoch 125/150\n",
      "54/54 [==============================] - 1s 12ms/step - loss: 0.5674 - accuracy: 0.8346 - val_loss: 0.7546 - val_accuracy: 0.7799\n",
      "Epoch 126/150\n",
      "54/54 [==============================] - 1s 12ms/step - loss: 0.5727 - accuracy: 0.8352 - val_loss: 0.7863 - val_accuracy: 0.7806\n",
      "Epoch 127/150\n",
      "54/54 [==============================] - 1s 12ms/step - loss: 0.5729 - accuracy: 0.8372 - val_loss: 0.7541 - val_accuracy: 0.7867\n",
      "Epoch 128/150\n",
      "54/54 [==============================] - 1s 12ms/step - loss: 0.5708 - accuracy: 0.8375 - val_loss: 0.7884 - val_accuracy: 0.7697\n",
      "Epoch 129/150\n",
      "54/54 [==============================] - 1s 11ms/step - loss: 0.5633 - accuracy: 0.8355 - val_loss: 0.7535 - val_accuracy: 0.7806\n",
      "Epoch 130/150\n",
      "54/54 [==============================] - 1s 12ms/step - loss: 0.5718 - accuracy: 0.8282 - val_loss: 0.7522 - val_accuracy: 0.7785\n",
      "Epoch 131/150\n",
      "54/54 [==============================] - 1s 11ms/step - loss: 0.5594 - accuracy: 0.8346 - val_loss: 0.7707 - val_accuracy: 0.7738\n",
      "Epoch 132/150\n",
      "54/54 [==============================] - 1s 11ms/step - loss: 0.5713 - accuracy: 0.8349 - val_loss: 0.7487 - val_accuracy: 0.7833\n",
      "Epoch 133/150\n",
      "54/54 [==============================] - 1s 12ms/step - loss: 0.5583 - accuracy: 0.8422 - val_loss: 0.7718 - val_accuracy: 0.7846\n",
      "Epoch 134/150\n",
      "54/54 [==============================] - 1s 12ms/step - loss: 0.5655 - accuracy: 0.8352 - val_loss: 0.7641 - val_accuracy: 0.7717\n",
      "Epoch 135/150\n",
      "54/54 [==============================] - 1s 11ms/step - loss: 0.5536 - accuracy: 0.8428 - val_loss: 0.7702 - val_accuracy: 0.7846\n",
      "Epoch 136/150\n",
      "54/54 [==============================] - 1s 11ms/step - loss: 0.5635 - accuracy: 0.8387 - val_loss: 0.7668 - val_accuracy: 0.7860\n",
      "Epoch 137/150\n",
      "54/54 [==============================] - 1s 11ms/step - loss: 0.5650 - accuracy: 0.8375 - val_loss: 0.7772 - val_accuracy: 0.7833\n",
      "Epoch 138/150\n",
      "54/54 [==============================] - 1s 11ms/step - loss: 0.5530 - accuracy: 0.8460 - val_loss: 0.7730 - val_accuracy: 0.7792\n",
      "Epoch 139/150\n",
      "54/54 [==============================] - 1s 11ms/step - loss: 0.5651 - accuracy: 0.8358 - val_loss: 0.7544 - val_accuracy: 0.7785\n",
      "Epoch 140/150\n",
      "54/54 [==============================] - 1s 12ms/step - loss: 0.5722 - accuracy: 0.8366 - val_loss: 0.8216 - val_accuracy: 0.7772\n",
      "Epoch 141/150\n",
      "54/54 [==============================] - 1s 12ms/step - loss: 0.5709 - accuracy: 0.8355 - val_loss: 0.7664 - val_accuracy: 0.7880\n",
      "Epoch 142/150\n",
      "54/54 [==============================] - 1s 12ms/step - loss: 0.5616 - accuracy: 0.8346 - val_loss: 0.7926 - val_accuracy: 0.7792\n",
      "Epoch 143/150\n",
      "54/54 [==============================] - 1s 12ms/step - loss: 0.5563 - accuracy: 0.8363 - val_loss: 0.7572 - val_accuracy: 0.7799\n",
      "Epoch 144/150\n",
      "54/54 [==============================] - 1s 12ms/step - loss: 0.5521 - accuracy: 0.8477 - val_loss: 0.7583 - val_accuracy: 0.7840\n",
      "Epoch 145/150\n",
      "54/54 [==============================] - 1s 11ms/step - loss: 0.5559 - accuracy: 0.8366 - val_loss: 0.7700 - val_accuracy: 0.7833\n",
      "Epoch 146/150\n",
      "54/54 [==============================] - 1s 12ms/step - loss: 0.5412 - accuracy: 0.8457 - val_loss: 0.7568 - val_accuracy: 0.7833\n",
      "Epoch 147/150\n",
      "54/54 [==============================] - 1s 12ms/step - loss: 0.5551 - accuracy: 0.8384 - val_loss: 0.7711 - val_accuracy: 0.7779\n",
      "Epoch 148/150\n",
      "54/54 [==============================] - 1s 12ms/step - loss: 0.5537 - accuracy: 0.8410 - val_loss: 0.8015 - val_accuracy: 0.7806\n",
      "Epoch 149/150\n",
      "54/54 [==============================] - 1s 12ms/step - loss: 0.5420 - accuracy: 0.8442 - val_loss: 0.8137 - val_accuracy: 0.7792\n",
      "Epoch 150/150\n",
      "54/54 [==============================] - 1s 12ms/step - loss: 0.5504 - accuracy: 0.8401 - val_loss: 0.8018 - val_accuracy: 0.7785\n"
     ]
    }
   ],
   "source": [
    "epochs=150\n",
    "history = model.fit(\n",
    "  train,\n",
    "  validation_data=test,\n",
    "  epochs=epochs\n",
    ")"
   ]
  },
  {
   "cell_type": "code",
   "execution_count": 8,
   "metadata": {},
   "outputs": [
    {
     "data": {
      "image/png": "[encoded data removed]",
      "text/plain": [
       "<Figure size 576x576 with 2 Axes>"
      ]
     },
     "metadata": {
      "needs_background": "light"
     },
     "output_type": "display_data"
    }
   ],
   "source": [
    "acc = history.history['accuracy']\n",
    "val_acc = history.history['val_accuracy']\n",
    "\n",
    "loss = history.history['loss']\n",
    "val_loss = history.history['val_loss']\n",
    "\n",
    "epochs_range = range(epochs)\n",
    "\n",
    "plt.figure(figsize=(8, 8))\n",
    "plt.subplot(1, 2, 1)\n",
    "plt.plot(epochs_range, acc, label='Training Accuracy')\n",
    "plt.plot(epochs_range, val_acc, label='Validation Accuracy')\n",
    "plt.legend(loc='lower right')\n",
    "plt.title('Training and Validation Accuracy')\n",
    "\n",
    "plt.subplot(1, 2, 2)\n",
    "plt.plot(epochs_range, loss, label='Training Loss')\n",
    "plt.plot(epochs_range, val_loss, label='Validation Loss')\n",
    "plt.legend(loc='upper right')\n",
    "plt.title('Training and Validation Loss')\n",
    "plt.show()"
   ]
  },
  {
   "cell_type": "code",
   "execution_count": 9,
   "metadata": {},
   "outputs": [
    {
     "name": "stdout",
     "output_type": "stream",
     "text": [
      "23/23 [==============================] - 0s 8ms/step - loss: 0.8018 - accuracy: 0.7785\n",
      "Test accuracy : 0.7785326242446899\n"
     ]
    }
   ],
   "source": [
    "loss, accuracy = model.evaluate(test)\n",
    "print('Test accuracy :', accuracy)"
   ]
  },
  {
   "cell_type": "code",
   "execution_count": 10,
   "metadata": {},
   "outputs": [],
   "source": [
    "# Save the entire model as a SavedModel.\n",
    "# model.save('./data/humanModel/mode_v0')\n",
    "model.save('./data/humanModel/model_v0.h5')"
   ]
  },
  {
   "cell_type": "code",
   "execution_count": 11,
   "metadata": {},
   "outputs": [],
   "source": [
    "# save model in js format\n",
    "# import tensorflowjs as tfjs\n",
    "# tfjs.converters.save_keras_model(model, 'data/humanModel/js_model_v0')"
   ]
  },
  {
   "cell_type": "code",
   "execution_count": 12,
   "metadata": {},
   "outputs": [],
   "source": [
    "# new_model = tf.keras.models.load_model('./data/humanModel/mode_v0')\n",
    "\n",
    "# # Check its architecture\n",
    "# new_model.summary()"
   ]
  },
  {
   "cell_type": "markdown",
   "metadata": {},
   "source": [
    "### Predict on new data"
   ]
  },
  {
   "cell_type": "code",
   "execution_count": 13,
   "metadata": {},
   "outputs": [
    {
     "name": "stdout",
     "output_type": "stream",
     "text": [
      "This image most likely belongs to 1 with a 40.46 percent confidence.\n"
     ]
    }
   ],
   "source": [
    "sunflower_path = \"./data/humanModel/imagesDatabase_split/val/37/-MqplpytsnX0zCv_KW9i_12.png\"\n",
    "\n",
    "img = keras.preprocessing.image.load_img(\n",
    "    sunflower_path, target_size=(IMG_SIZE, IMG_SIZE)\n",
    ")\n",
    "img_array = keras.preprocessing.image.img_to_array(img)\n",
    "img_array = tf.expand_dims(img_array, 0) # Create a batch\n",
    "\n",
    "predictions = model.predict(img_array)\n",
    "score = tf.nn.softmax(predictions[0])\n",
    "print(\n",
    "    \"This image most likely belongs to {} with a {:.2f} percent confidence.\"\n",
    "    .format(np.argmax(score), 100 * np.max(score))\n",
    ")"
   ]
  }
 ],
 "metadata": {
  "interpreter": {
   "hash": "ad60775ae12af945b53c5c94c294ef05f229143b8585a0d23625a81e181fdccc"
  },
  "kernelspec": {
   "display_name": "Python 3.7.4 64-bit ('tf-gpu': conda)",
   "name": "python3"
  },
  "language_info": {
   "codemirror_mode": {
    "name": "ipython",
    "version": 3
   },
   "file_extension": ".py",
   "mimetype": "text/x-python",
   "name": "python",
   "nbconvert_exporter": "python",
   "pygments_lexer": "ipython3",
   "version": "3.7.4"
  }
 },
 "nbformat": 4,
 "nbformat_minor": 4
}
