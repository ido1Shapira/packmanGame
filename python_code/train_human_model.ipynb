{
 "cells": [
  {
   "cell_type": "code",
   "execution_count": 1,
   "metadata": {},
   "outputs": [],
   "source": [
    "import numpy as np\n",
    "import random\n",
    "import os\n",
    "\n",
    "# ! pip install split-folders\n",
    "import splitfolders\n",
    "\n",
    "import tensorflow as tf\n",
    "from tensorflow import keras\n",
    "from tensorflow.keras import layers, regularizers\n",
    "from tensorflow.keras.models import Sequential\n",
    "\n",
    "from tensorflow.keras.preprocessing.image import ImageDataGenerator\n",
    "from tensorflow.keras.preprocessing import image\n",
    "\n",
    "import matplotlib.pyplot as plt\n",
    "\n",
    "rs = 42\n",
    "def reset_random_seeds(rs):\n",
    "   os.environ['PYTHONHASHSEED']=str(rs)\n",
    "   tf.random.set_seed(rs)\n",
    "   np.random.seed(rs)\n",
    "   random.seed(rs)\n",
    "reset_random_seeds(rs)"
   ]
  },
  {
   "cell_type": "markdown",
   "metadata": {},
   "source": [
    "# Part 1 - Data Preprocessing"
   ]
  },
  {
   "cell_type": "markdown",
   "metadata": {},
   "source": [
    "## Split into train , test data"
   ]
  },
  {
   "cell_type": "code",
   "execution_count": 2,
   "metadata": {},
   "outputs": [
    {
     "name": "stderr",
     "output_type": "stream",
     "text": [
      "Copying files: 6044 files [00:00, 13092.37 files/s]\n"
     ]
    }
   ],
   "source": [
    "# train, test split\n",
    "splitfolders.ratio('./data/humanModel/imagesDatabase/', output=\"./data/humanModel/imagesDatabase_split\", ratio=(0.7, 0.3))"
   ]
  },
  {
   "cell_type": "markdown",
   "metadata": {},
   "source": [
    "### Preprocessing the Training set"
   ]
  },
  {
   "cell_type": "code",
   "execution_count": 3,
   "metadata": {},
   "outputs": [
    {
     "name": "stdout",
     "output_type": "stream",
     "text": [
      "Found 4228 images belonging to 5 classes.\n",
      "Found 1816 images belonging to 5 classes.\n"
     ]
    }
   ],
   "source": [
    "batch_size = 64\n",
    "IMG_SIZE = 10\n",
    "\n",
    "datagen = ImageDataGenerator(rescale = 1./255)\n",
    "train = datagen.flow_from_directory('./data/humanModel/imagesDatabase_split/train',\n",
    "                                          target_size = (IMG_SIZE,IMG_SIZE), batch_size = batch_size, seed=rs, class_mode='sparse')\n",
    "\n",
    "test = datagen.flow_from_directory('./data/humanModel/imagesDatabase_split/val',\n",
    "                                            target_size = (IMG_SIZE, IMG_SIZE), batch_size = batch_size, seed=rs, class_mode='sparse')"
   ]
  },
  {
   "cell_type": "markdown",
   "metadata": {},
   "source": [
    "## View some data"
   ]
  },
  {
   "cell_type": "code",
   "execution_count": 4,
   "metadata": {},
   "outputs": [
    {
     "name": "stderr",
     "output_type": "stream",
     "text": [
      "2021-12-07 18:29:23.641424: I tensorflow/stream_executor/cuda/cuda_gpu_executor.cc:937] successful NUMA node read from SysFS had negative value (-1), but there must be at least one NUMA node, so returning NUMA node zero\n",
      "2021-12-07 18:29:23.645964: I tensorflow/stream_executor/cuda/cuda_gpu_executor.cc:937] successful NUMA node read from SysFS had negative value (-1), but there must be at least one NUMA node, so returning NUMA node zero\n",
      "2021-12-07 18:29:23.646279: I tensorflow/stream_executor/cuda/cuda_gpu_executor.cc:937] successful NUMA node read from SysFS had negative value (-1), but there must be at least one NUMA node, so returning NUMA node zero\n",
      "2021-12-07 18:29:23.646777: I tensorflow/core/platform/cpu_feature_guard.cc:142] This TensorFlow binary is optimized with oneAPI Deep Neural Network Library (oneDNN) to use the following CPU instructions in performance-critical operations:  AVX2 FMA\n",
      "To enable them in other operations, rebuild TensorFlow with the appropriate compiler flags.\n",
      "2021-12-07 18:29:23.647176: I tensorflow/stream_executor/cuda/cuda_gpu_executor.cc:937] successful NUMA node read from SysFS had negative value (-1), but there must be at least one NUMA node, so returning NUMA node zero\n",
      "2021-12-07 18:29:23.647477: I tensorflow/stream_executor/cuda/cuda_gpu_executor.cc:937] successful NUMA node read from SysFS had negative value (-1), but there must be at least one NUMA node, so returning NUMA node zero\n",
      "2021-12-07 18:29:23.647766: I tensorflow/stream_executor/cuda/cuda_gpu_executor.cc:937] successful NUMA node read from SysFS had negative value (-1), but there must be at least one NUMA node, so returning NUMA node zero\n",
      "2021-12-07 18:29:23.971273: I tensorflow/stream_executor/cuda/cuda_gpu_executor.cc:937] successful NUMA node read from SysFS had negative value (-1), but there must be at least one NUMA node, so returning NUMA node zero\n",
      "2021-12-07 18:29:23.971601: I tensorflow/stream_executor/cuda/cuda_gpu_executor.cc:937] successful NUMA node read from SysFS had negative value (-1), but there must be at least one NUMA node, so returning NUMA node zero\n",
      "2021-12-07 18:29:23.971907: I tensorflow/stream_executor/cuda/cuda_gpu_executor.cc:937] successful NUMA node read from SysFS had negative value (-1), but there must be at least one NUMA node, so returning NUMA node zero\n",
      "2021-12-07 18:29:23.972165: I tensorflow/core/common_runtime/gpu/gpu_device.cc:1510] Created device /job:localhost/replica:0/task:0/device:GPU:0 with 11108 MB memory:  -> device: 0, name: NVIDIA TITAN X (Pascal), pci bus id: 0000:01:00.0, compute capability: 6.1\n"
     ]
    }
   ],
   "source": [
    "num_classes = 5\n",
    "\n",
    "model = Sequential([\n",
    "  # layers.GaussianNoise(0.2),\n",
    "  layers.Conv2D(8, 4, padding='same', activation='relu', kernel_regularizer=regularizers.l2(0.001), input_shape=[IMG_SIZE,IMG_SIZE,3]),\n",
    "  layers.Conv2D(16, 4, padding='same', activation='relu', kernel_regularizer=regularizers.l2(0.001)),\n",
    "  layers.Conv2D(16, 3, padding='same', activation='relu', kernel_regularizer=regularizers.l2(0.001)),\n",
    "  layers.MaxPooling2D(),\n",
    "  layers.Conv2D(8, 3, padding='same', activation='relu', kernel_regularizer=regularizers.l2(0.001)),\n",
    "  layers.Dropout(0.5),\n",
    "  layers.Flatten(),\n",
    "  layers.Dense(32, activation='relu', kernel_regularizer=regularizers.l2(0.001)),\n",
    "  layers.Dense(num_classes, activation='softmax')\n",
    "])"
   ]
  },
  {
   "cell_type": "code",
   "execution_count": 5,
   "metadata": {},
   "outputs": [],
   "source": [
    "model.compile(optimizer='adam',\n",
    "              loss=tf.keras.losses.SparseCategoricalCrossentropy(from_logits=True),\n",
    "              metrics=['accuracy'])"
   ]
  },
  {
   "cell_type": "code",
   "execution_count": 6,
   "metadata": {},
   "outputs": [
    {
     "name": "stdout",
     "output_type": "stream",
     "text": [
      "Model: \"sequential\"\n",
      "_________________________________________________________________\n",
      "Layer (type)                 Output Shape              Param #   \n",
      "=================================================================\n",
      "conv2d (Conv2D)              (None, 10, 10, 8)         392       \n",
      "_________________________________________________________________\n",
      "conv2d_1 (Conv2D)            (None, 10, 10, 16)        2064      \n",
      "_________________________________________________________________\n",
      "conv2d_2 (Conv2D)            (None, 10, 10, 16)        2320      \n",
      "_________________________________________________________________\n",
      "max_pooling2d (MaxPooling2D) (None, 5, 5, 16)          0         \n",
      "_________________________________________________________________\n",
      "conv2d_3 (Conv2D)            (None, 5, 5, 8)           1160      \n",
      "_________________________________________________________________\n",
      "dropout (Dropout)            (None, 5, 5, 8)           0         \n",
      "_________________________________________________________________\n",
      "flatten (Flatten)            (None, 200)               0         \n",
      "_________________________________________________________________\n",
      "dense (Dense)                (None, 32)                6432      \n",
      "_________________________________________________________________\n",
      "dense_1 (Dense)              (None, 5)                 165       \n",
      "=================================================================\n",
      "Total params: 12,533\n",
      "Trainable params: 12,533\n",
      "Non-trainable params: 0\n",
      "_________________________________________________________________\n"
     ]
    }
   ],
   "source": [
    "model.summary()"
   ]
  },
  {
   "cell_type": "code",
   "execution_count": 7,
   "metadata": {
    "scrolled": true
   },
   "outputs": [
    {
     "name": "stderr",
     "output_type": "stream",
     "text": [
      "2021-12-07 18:29:24.246172: I tensorflow/compiler/mlir/mlir_graph_optimization_pass.cc:185] None of the MLIR Optimization Passes are enabled (registered 2)\n"
     ]
    },
    {
     "name": "stdout",
     "output_type": "stream",
     "text": [
      "Epoch 1/150\n"
     ]
    },
    {
     "name": "stderr",
     "output_type": "stream",
     "text": [
      "/home/ido/anaconda3/envs/tf-gpu/lib/python3.7/site-packages/keras/backend.py:4907: UserWarning: \"`sparse_categorical_crossentropy` received `from_logits=True`, but the `output` argument was produced by a sigmoid or softmax activation and thus does not represent logits. Was this intended?\"\n",
      "  '\"`sparse_categorical_crossentropy` received `from_logits=True`, but '\n",
      "2021-12-07 18:29:24.892589: I tensorflow/stream_executor/cuda/cuda_dnn.cc:369] Loaded cuDNN version 8300\n"
     ]
    },
    {
     "name": "stdout",
     "output_type": "stream",
     "text": [
      "67/67 [==============================] - 2s 13ms/step - loss: 1.6520 - accuracy: 0.2647 - val_loss: 1.5797 - val_accuracy: 0.3656\n",
      "Epoch 2/150\n",
      "67/67 [==============================] - 1s 11ms/step - loss: 1.4502 - accuracy: 0.4035 - val_loss: 1.2901 - val_accuracy: 0.4796\n",
      "Epoch 3/150\n",
      "67/67 [==============================] - 1s 11ms/step - loss: 1.2705 - accuracy: 0.4965 - val_loss: 1.1498 - val_accuracy: 0.6079\n",
      "Epoch 4/150\n",
      "67/67 [==============================] - 1s 11ms/step - loss: 1.1698 - accuracy: 0.5672 - val_loss: 1.1175 - val_accuracy: 0.6002\n",
      "Epoch 5/150\n",
      "67/67 [==============================] - 1s 11ms/step - loss: 1.1206 - accuracy: 0.5906 - val_loss: 1.0471 - val_accuracy: 0.6514\n",
      "Epoch 6/150\n",
      "67/67 [==============================] - 1s 11ms/step - loss: 1.0939 - accuracy: 0.6154 - val_loss: 1.0384 - val_accuracy: 0.6481\n",
      "Epoch 7/150\n",
      "67/67 [==============================] - 1s 12ms/step - loss: 1.0568 - accuracy: 0.6190 - val_loss: 1.0039 - val_accuracy: 0.6696\n",
      "Epoch 8/150\n",
      "67/67 [==============================] - 1s 11ms/step - loss: 1.0225 - accuracy: 0.6386 - val_loss: 1.0005 - val_accuracy: 0.6602\n",
      "Epoch 9/150\n",
      "67/67 [==============================] - 1s 12ms/step - loss: 1.0306 - accuracy: 0.6353 - val_loss: 0.9577 - val_accuracy: 0.6817\n",
      "Epoch 10/150\n",
      "67/67 [==============================] - 1s 12ms/step - loss: 0.9921 - accuracy: 0.6542 - val_loss: 0.9657 - val_accuracy: 0.6773\n",
      "Epoch 11/150\n",
      "67/67 [==============================] - 1s 12ms/step - loss: 0.9709 - accuracy: 0.6653 - val_loss: 0.9330 - val_accuracy: 0.6905\n",
      "Epoch 12/150\n",
      "67/67 [==============================] - 1s 12ms/step - loss: 0.9541 - accuracy: 0.6802 - val_loss: 0.9148 - val_accuracy: 0.6988\n",
      "Epoch 13/150\n",
      "67/67 [==============================] - 1s 12ms/step - loss: 0.9400 - accuracy: 0.6746 - val_loss: 0.9428 - val_accuracy: 0.6922\n",
      "Epoch 14/150\n",
      "67/67 [==============================] - 1s 11ms/step - loss: 0.9454 - accuracy: 0.6734 - val_loss: 0.9094 - val_accuracy: 0.6955\n",
      "Epoch 15/150\n",
      "67/67 [==============================] - 1s 11ms/step - loss: 0.9159 - accuracy: 0.6923 - val_loss: 0.9023 - val_accuracy: 0.6894\n",
      "Epoch 16/150\n",
      "67/67 [==============================] - 1s 12ms/step - loss: 0.9073 - accuracy: 0.6838 - val_loss: 0.9361 - val_accuracy: 0.6784\n",
      "Epoch 17/150\n",
      "67/67 [==============================] - 1s 11ms/step - loss: 0.9113 - accuracy: 0.6942 - val_loss: 0.8919 - val_accuracy: 0.6982\n",
      "Epoch 18/150\n",
      "67/67 [==============================] - 1s 12ms/step - loss: 0.8992 - accuracy: 0.6980 - val_loss: 0.8728 - val_accuracy: 0.7048\n",
      "Epoch 19/150\n",
      "67/67 [==============================] - 1s 11ms/step - loss: 0.8885 - accuracy: 0.7032 - val_loss: 0.8652 - val_accuracy: 0.7076\n",
      "Epoch 20/150\n",
      "67/67 [==============================] - 1s 12ms/step - loss: 0.8798 - accuracy: 0.7039 - val_loss: 0.8723 - val_accuracy: 0.7070\n",
      "Epoch 21/150\n",
      "67/67 [==============================] - 1s 12ms/step - loss: 0.8642 - accuracy: 0.7131 - val_loss: 0.8730 - val_accuracy: 0.7197\n",
      "Epoch 22/150\n",
      "67/67 [==============================] - 1s 12ms/step - loss: 0.8606 - accuracy: 0.7159 - val_loss: 0.8584 - val_accuracy: 0.7181\n",
      "Epoch 23/150\n",
      "67/67 [==============================] - 1s 12ms/step - loss: 0.8501 - accuracy: 0.7155 - val_loss: 0.8492 - val_accuracy: 0.7225\n",
      "Epoch 24/150\n",
      "67/67 [==============================] - 1s 12ms/step - loss: 0.8478 - accuracy: 0.7181 - val_loss: 0.8359 - val_accuracy: 0.7230\n",
      "Epoch 25/150\n",
      "67/67 [==============================] - 1s 12ms/step - loss: 0.8462 - accuracy: 0.7195 - val_loss: 0.8348 - val_accuracy: 0.7203\n",
      "Epoch 26/150\n",
      "67/67 [==============================] - 1s 12ms/step - loss: 0.8318 - accuracy: 0.7256 - val_loss: 0.8542 - val_accuracy: 0.7208\n",
      "Epoch 27/150\n",
      "67/67 [==============================] - 1s 12ms/step - loss: 0.8261 - accuracy: 0.7278 - val_loss: 0.8794 - val_accuracy: 0.6949\n",
      "Epoch 28/150\n",
      "67/67 [==============================] - 1s 12ms/step - loss: 0.8248 - accuracy: 0.7334 - val_loss: 0.8629 - val_accuracy: 0.7148\n",
      "Epoch 29/150\n",
      "67/67 [==============================] - 1s 12ms/step - loss: 0.8205 - accuracy: 0.7280 - val_loss: 0.8217 - val_accuracy: 0.7214\n",
      "Epoch 30/150\n",
      "67/67 [==============================] - 1s 12ms/step - loss: 0.8167 - accuracy: 0.7316 - val_loss: 0.8080 - val_accuracy: 0.7384\n",
      "Epoch 31/150\n",
      "67/67 [==============================] - 1s 11ms/step - loss: 0.8029 - accuracy: 0.7330 - val_loss: 0.8171 - val_accuracy: 0.7395\n",
      "Epoch 32/150\n",
      "67/67 [==============================] - 1s 11ms/step - loss: 0.7897 - accuracy: 0.7443 - val_loss: 0.8112 - val_accuracy: 0.7307\n",
      "Epoch 33/150\n",
      "67/67 [==============================] - 1s 11ms/step - loss: 0.7988 - accuracy: 0.7401 - val_loss: 0.8156 - val_accuracy: 0.7324\n",
      "Epoch 34/150\n",
      "67/67 [==============================] - 1s 11ms/step - loss: 0.7932 - accuracy: 0.7415 - val_loss: 0.8150 - val_accuracy: 0.7351\n",
      "Epoch 35/150\n",
      "67/67 [==============================] - 1s 11ms/step - loss: 0.7815 - accuracy: 0.7460 - val_loss: 0.8216 - val_accuracy: 0.7291\n",
      "Epoch 36/150\n",
      "67/67 [==============================] - 1s 11ms/step - loss: 0.7940 - accuracy: 0.7450 - val_loss: 0.8042 - val_accuracy: 0.7423\n",
      "Epoch 37/150\n",
      "67/67 [==============================] - 1s 11ms/step - loss: 0.7696 - accuracy: 0.7495 - val_loss: 0.7980 - val_accuracy: 0.7434\n",
      "Epoch 38/150\n",
      "67/67 [==============================] - 1s 11ms/step - loss: 0.7763 - accuracy: 0.7472 - val_loss: 0.8171 - val_accuracy: 0.7384\n",
      "Epoch 39/150\n",
      "67/67 [==============================] - 1s 11ms/step - loss: 0.7717 - accuracy: 0.7462 - val_loss: 0.8699 - val_accuracy: 0.7070\n",
      "Epoch 40/150\n",
      "67/67 [==============================] - 1s 12ms/step - loss: 0.7709 - accuracy: 0.7524 - val_loss: 0.8341 - val_accuracy: 0.7384\n",
      "Epoch 41/150\n",
      "67/67 [==============================] - 1s 11ms/step - loss: 0.7752 - accuracy: 0.7481 - val_loss: 0.8066 - val_accuracy: 0.7467\n",
      "Epoch 42/150\n",
      "67/67 [==============================] - 1s 12ms/step - loss: 0.7716 - accuracy: 0.7543 - val_loss: 0.8023 - val_accuracy: 0.7439\n",
      "Epoch 43/150\n",
      "67/67 [==============================] - 1s 11ms/step - loss: 0.7514 - accuracy: 0.7630 - val_loss: 0.8170 - val_accuracy: 0.7373\n",
      "Epoch 44/150\n",
      "67/67 [==============================] - 1s 12ms/step - loss: 0.7402 - accuracy: 0.7644 - val_loss: 0.8022 - val_accuracy: 0.7450\n",
      "Epoch 45/150\n",
      "67/67 [==============================] - 1s 12ms/step - loss: 0.7464 - accuracy: 0.7680 - val_loss: 0.8084 - val_accuracy: 0.7401\n",
      "Epoch 46/150\n",
      "67/67 [==============================] - 1s 12ms/step - loss: 0.7619 - accuracy: 0.7557 - val_loss: 0.7836 - val_accuracy: 0.7506\n",
      "Epoch 47/150\n",
      "67/67 [==============================] - 1s 11ms/step - loss: 0.7408 - accuracy: 0.7595 - val_loss: 0.8144 - val_accuracy: 0.7302\n",
      "Epoch 48/150\n",
      "67/67 [==============================] - 1s 12ms/step - loss: 0.7506 - accuracy: 0.7666 - val_loss: 0.8023 - val_accuracy: 0.7517\n",
      "Epoch 49/150\n",
      "67/67 [==============================] - 1s 11ms/step - loss: 0.7286 - accuracy: 0.7649 - val_loss: 0.7827 - val_accuracy: 0.7500\n",
      "Epoch 50/150\n",
      "67/67 [==============================] - 1s 11ms/step - loss: 0.7315 - accuracy: 0.7673 - val_loss: 0.8237 - val_accuracy: 0.7428\n",
      "Epoch 51/150\n",
      "67/67 [==============================] - 1s 11ms/step - loss: 0.7253 - accuracy: 0.7692 - val_loss: 0.7829 - val_accuracy: 0.7483\n",
      "Epoch 52/150\n",
      "67/67 [==============================] - 1s 12ms/step - loss: 0.7216 - accuracy: 0.7770 - val_loss: 0.7993 - val_accuracy: 0.7445\n",
      "Epoch 53/150\n",
      "67/67 [==============================] - 1s 11ms/step - loss: 0.7088 - accuracy: 0.7739 - val_loss: 0.8068 - val_accuracy: 0.7373\n",
      "Epoch 54/150\n",
      "67/67 [==============================] - 1s 12ms/step - loss: 0.7181 - accuracy: 0.7722 - val_loss: 0.8239 - val_accuracy: 0.7461\n",
      "Epoch 55/150\n",
      "67/67 [==============================] - 1s 11ms/step - loss: 0.7401 - accuracy: 0.7663 - val_loss: 0.8079 - val_accuracy: 0.7445\n",
      "Epoch 56/150\n",
      "67/67 [==============================] - 1s 12ms/step - loss: 0.7345 - accuracy: 0.7668 - val_loss: 0.7892 - val_accuracy: 0.7472\n",
      "Epoch 57/150\n",
      "67/67 [==============================] - 1s 12ms/step - loss: 0.7199 - accuracy: 0.7760 - val_loss: 0.7963 - val_accuracy: 0.7395\n",
      "Epoch 58/150\n",
      "67/67 [==============================] - 1s 12ms/step - loss: 0.7043 - accuracy: 0.7786 - val_loss: 0.7824 - val_accuracy: 0.7494\n",
      "Epoch 59/150\n",
      "67/67 [==============================] - 1s 11ms/step - loss: 0.6959 - accuracy: 0.7810 - val_loss: 0.8033 - val_accuracy: 0.7373\n",
      "Epoch 60/150\n",
      "67/67 [==============================] - 1s 12ms/step - loss: 0.7102 - accuracy: 0.7777 - val_loss: 0.8080 - val_accuracy: 0.7467\n",
      "Epoch 61/150\n",
      "67/67 [==============================] - 1s 11ms/step - loss: 0.7071 - accuracy: 0.7744 - val_loss: 0.8459 - val_accuracy: 0.7379\n",
      "Epoch 62/150\n",
      "67/67 [==============================] - 1s 12ms/step - loss: 0.7288 - accuracy: 0.7668 - val_loss: 0.7835 - val_accuracy: 0.7544\n",
      "Epoch 63/150\n",
      "67/67 [==============================] - 1s 11ms/step - loss: 0.6945 - accuracy: 0.7822 - val_loss: 0.7847 - val_accuracy: 0.7533\n",
      "Epoch 64/150\n",
      "67/67 [==============================] - 1s 12ms/step - loss: 0.6918 - accuracy: 0.7805 - val_loss: 0.8076 - val_accuracy: 0.7483\n",
      "Epoch 65/150\n",
      "67/67 [==============================] - 1s 11ms/step - loss: 0.7027 - accuracy: 0.7826 - val_loss: 0.7936 - val_accuracy: 0.7539\n",
      "Epoch 66/150\n",
      "67/67 [==============================] - 1s 11ms/step - loss: 0.7053 - accuracy: 0.7753 - val_loss: 0.7877 - val_accuracy: 0.7489\n",
      "Epoch 67/150\n",
      "67/67 [==============================] - 1s 11ms/step - loss: 0.6821 - accuracy: 0.7883 - val_loss: 0.8197 - val_accuracy: 0.7373\n",
      "Epoch 68/150\n",
      "67/67 [==============================] - 1s 11ms/step - loss: 0.6938 - accuracy: 0.7838 - val_loss: 0.7826 - val_accuracy: 0.7550\n",
      "Epoch 69/150\n",
      "67/67 [==============================] - 1s 11ms/step - loss: 0.6928 - accuracy: 0.7824 - val_loss: 0.7874 - val_accuracy: 0.7550\n",
      "Epoch 70/150\n",
      "67/67 [==============================] - 1s 11ms/step - loss: 0.6746 - accuracy: 0.7928 - val_loss: 0.8195 - val_accuracy: 0.7478\n",
      "Epoch 71/150\n",
      "67/67 [==============================] - 1s 11ms/step - loss: 0.6780 - accuracy: 0.7862 - val_loss: 0.8224 - val_accuracy: 0.7572\n",
      "Epoch 72/150\n",
      "67/67 [==============================] - 1s 12ms/step - loss: 0.6784 - accuracy: 0.7855 - val_loss: 0.8005 - val_accuracy: 0.7583\n",
      "Epoch 73/150\n",
      "67/67 [==============================] - 1s 11ms/step - loss: 0.6779 - accuracy: 0.7890 - val_loss: 0.7922 - val_accuracy: 0.7517\n",
      "Epoch 74/150\n",
      "67/67 [==============================] - 1s 11ms/step - loss: 0.6789 - accuracy: 0.7921 - val_loss: 0.7783 - val_accuracy: 0.7561\n",
      "Epoch 75/150\n",
      "67/67 [==============================] - 1s 12ms/step - loss: 0.6637 - accuracy: 0.7945 - val_loss: 0.8497 - val_accuracy: 0.7528\n",
      "Epoch 76/150\n",
      "67/67 [==============================] - 1s 12ms/step - loss: 0.6902 - accuracy: 0.7876 - val_loss: 0.8064 - val_accuracy: 0.7533\n",
      "Epoch 77/150\n",
      "67/67 [==============================] - 1s 11ms/step - loss: 0.6668 - accuracy: 0.7893 - val_loss: 0.7766 - val_accuracy: 0.7566\n",
      "Epoch 78/150\n",
      "67/67 [==============================] - 1s 12ms/step - loss: 0.6611 - accuracy: 0.7997 - val_loss: 0.7852 - val_accuracy: 0.7539\n",
      "Epoch 79/150\n",
      "67/67 [==============================] - 1s 11ms/step - loss: 0.6596 - accuracy: 0.7966 - val_loss: 0.7881 - val_accuracy: 0.7472\n",
      "Epoch 80/150\n",
      "67/67 [==============================] - 1s 12ms/step - loss: 0.6676 - accuracy: 0.7933 - val_loss: 0.8049 - val_accuracy: 0.7511\n",
      "Epoch 81/150\n",
      "67/67 [==============================] - 1s 11ms/step - loss: 0.6731 - accuracy: 0.7919 - val_loss: 0.7835 - val_accuracy: 0.7544\n",
      "Epoch 82/150\n",
      "67/67 [==============================] - 1s 11ms/step - loss: 0.6639 - accuracy: 0.7919 - val_loss: 0.7959 - val_accuracy: 0.7566\n",
      "Epoch 83/150\n",
      "67/67 [==============================] - 1s 11ms/step - loss: 0.6524 - accuracy: 0.7982 - val_loss: 0.7986 - val_accuracy: 0.7550\n",
      "Epoch 84/150\n",
      "67/67 [==============================] - 1s 12ms/step - loss: 0.6587 - accuracy: 0.8009 - val_loss: 0.8016 - val_accuracy: 0.7583\n",
      "Epoch 85/150\n",
      "67/67 [==============================] - 1s 11ms/step - loss: 0.6695 - accuracy: 0.7980 - val_loss: 0.8005 - val_accuracy: 0.7483\n",
      "Epoch 86/150\n",
      "67/67 [==============================] - 1s 12ms/step - loss: 0.6536 - accuracy: 0.7926 - val_loss: 0.7938 - val_accuracy: 0.7555\n",
      "Epoch 87/150\n",
      "67/67 [==============================] - 1s 11ms/step - loss: 0.6529 - accuracy: 0.7928 - val_loss: 0.8179 - val_accuracy: 0.7627\n",
      "Epoch 88/150\n",
      "67/67 [==============================] - 1s 11ms/step - loss: 0.6491 - accuracy: 0.7956 - val_loss: 0.7800 - val_accuracy: 0.7494\n",
      "Epoch 89/150\n",
      "67/67 [==============================] - 1s 11ms/step - loss: 0.6648 - accuracy: 0.7961 - val_loss: 0.8020 - val_accuracy: 0.7528\n",
      "Epoch 90/150\n",
      "67/67 [==============================] - 1s 12ms/step - loss: 0.6358 - accuracy: 0.8046 - val_loss: 0.7938 - val_accuracy: 0.7528\n",
      "Epoch 91/150\n",
      "67/67 [==============================] - 1s 12ms/step - loss: 0.6375 - accuracy: 0.8053 - val_loss: 0.8333 - val_accuracy: 0.7605\n",
      "Epoch 92/150\n",
      "67/67 [==============================] - 1s 12ms/step - loss: 0.6363 - accuracy: 0.7997 - val_loss: 0.8032 - val_accuracy: 0.7555\n",
      "Epoch 93/150\n",
      "67/67 [==============================] - 1s 11ms/step - loss: 0.6498 - accuracy: 0.7990 - val_loss: 0.8103 - val_accuracy: 0.7616\n",
      "Epoch 94/150\n",
      "67/67 [==============================] - 1s 12ms/step - loss: 0.6295 - accuracy: 0.8105 - val_loss: 0.8119 - val_accuracy: 0.7555\n",
      "Epoch 95/150\n",
      "67/67 [==============================] - 1s 12ms/step - loss: 0.6536 - accuracy: 0.8013 - val_loss: 0.7795 - val_accuracy: 0.7511\n",
      "Epoch 96/150\n",
      "67/67 [==============================] - 1s 12ms/step - loss: 0.6428 - accuracy: 0.8044 - val_loss: 0.8018 - val_accuracy: 0.7550\n",
      "Epoch 97/150\n",
      "67/67 [==============================] - 1s 11ms/step - loss: 0.6273 - accuracy: 0.8115 - val_loss: 0.8202 - val_accuracy: 0.7638\n",
      "Epoch 98/150\n",
      "67/67 [==============================] - 1s 11ms/step - loss: 0.6314 - accuracy: 0.8030 - val_loss: 0.8064 - val_accuracy: 0.7533\n",
      "Epoch 99/150\n",
      "67/67 [==============================] - 1s 11ms/step - loss: 0.6430 - accuracy: 0.8039 - val_loss: 0.8141 - val_accuracy: 0.7588\n",
      "Epoch 100/150\n",
      "67/67 [==============================] - 1s 12ms/step - loss: 0.6374 - accuracy: 0.8136 - val_loss: 0.7865 - val_accuracy: 0.7506\n",
      "Epoch 101/150\n",
      "67/67 [==============================] - 1s 12ms/step - loss: 0.6358 - accuracy: 0.7985 - val_loss: 0.8319 - val_accuracy: 0.7572\n",
      "Epoch 102/150\n",
      "67/67 [==============================] - 1s 12ms/step - loss: 0.6293 - accuracy: 0.8075 - val_loss: 0.8153 - val_accuracy: 0.7555\n",
      "Epoch 103/150\n",
      "67/67 [==============================] - 1s 11ms/step - loss: 0.6320 - accuracy: 0.8087 - val_loss: 0.8216 - val_accuracy: 0.7555\n",
      "Epoch 104/150\n",
      "67/67 [==============================] - 1s 12ms/step - loss: 0.6165 - accuracy: 0.8096 - val_loss: 0.8144 - val_accuracy: 0.7561\n",
      "Epoch 105/150\n",
      "67/67 [==============================] - 1s 11ms/step - loss: 0.6296 - accuracy: 0.8056 - val_loss: 0.7970 - val_accuracy: 0.7572\n",
      "Epoch 106/150\n",
      "67/67 [==============================] - 1s 11ms/step - loss: 0.6230 - accuracy: 0.8087 - val_loss: 0.7928 - val_accuracy: 0.7665\n",
      "Epoch 107/150\n",
      "67/67 [==============================] - 1s 12ms/step - loss: 0.6185 - accuracy: 0.8094 - val_loss: 0.7753 - val_accuracy: 0.7605\n",
      "Epoch 108/150\n",
      "67/67 [==============================] - 1s 12ms/step - loss: 0.6235 - accuracy: 0.8122 - val_loss: 0.7826 - val_accuracy: 0.7654\n",
      "Epoch 109/150\n",
      "67/67 [==============================] - 1s 11ms/step - loss: 0.6186 - accuracy: 0.8132 - val_loss: 0.7925 - val_accuracy: 0.7561\n",
      "Epoch 110/150\n",
      "67/67 [==============================] - 1s 11ms/step - loss: 0.6133 - accuracy: 0.8139 - val_loss: 0.8023 - val_accuracy: 0.7621\n",
      "Epoch 111/150\n",
      "67/67 [==============================] - 1s 11ms/step - loss: 0.6229 - accuracy: 0.8134 - val_loss: 0.8198 - val_accuracy: 0.7649\n",
      "Epoch 112/150\n",
      "67/67 [==============================] - 1s 12ms/step - loss: 0.6251 - accuracy: 0.8091 - val_loss: 0.8016 - val_accuracy: 0.7621\n",
      "Epoch 113/150\n",
      "67/67 [==============================] - 1s 11ms/step - loss: 0.6385 - accuracy: 0.8032 - val_loss: 0.7955 - val_accuracy: 0.7632\n",
      "Epoch 114/150\n",
      "67/67 [==============================] - 1s 12ms/step - loss: 0.6605 - accuracy: 0.7994 - val_loss: 0.8148 - val_accuracy: 0.7665\n",
      "Epoch 115/150\n",
      "67/67 [==============================] - 1s 11ms/step - loss: 0.6018 - accuracy: 0.8184 - val_loss: 0.8116 - val_accuracy: 0.7616\n",
      "Epoch 116/150\n",
      "67/67 [==============================] - 1s 12ms/step - loss: 0.6073 - accuracy: 0.8217 - val_loss: 0.8017 - val_accuracy: 0.7638\n",
      "Epoch 117/150\n",
      "67/67 [==============================] - 1s 11ms/step - loss: 0.6155 - accuracy: 0.8129 - val_loss: 0.7983 - val_accuracy: 0.7577\n",
      "Epoch 118/150\n",
      "67/67 [==============================] - 1s 12ms/step - loss: 0.6165 - accuracy: 0.8141 - val_loss: 0.7849 - val_accuracy: 0.7671\n",
      "Epoch 119/150\n",
      "67/67 [==============================] - 1s 11ms/step - loss: 0.6099 - accuracy: 0.8169 - val_loss: 0.7911 - val_accuracy: 0.7643\n",
      "Epoch 120/150\n",
      "67/67 [==============================] - 1s 11ms/step - loss: 0.5989 - accuracy: 0.8252 - val_loss: 0.7871 - val_accuracy: 0.7616\n",
      "Epoch 121/150\n",
      "67/67 [==============================] - 1s 11ms/step - loss: 0.6428 - accuracy: 0.8051 - val_loss: 0.7854 - val_accuracy: 0.7621\n",
      "Epoch 122/150\n",
      "67/67 [==============================] - 1s 11ms/step - loss: 0.6218 - accuracy: 0.8146 - val_loss: 0.7931 - val_accuracy: 0.7671\n",
      "Epoch 123/150\n",
      "67/67 [==============================] - 1s 11ms/step - loss: 0.6015 - accuracy: 0.8184 - val_loss: 0.7926 - val_accuracy: 0.7660\n",
      "Epoch 124/150\n",
      "67/67 [==============================] - 1s 12ms/step - loss: 0.6272 - accuracy: 0.8132 - val_loss: 0.8250 - val_accuracy: 0.7555\n",
      "Epoch 125/150\n",
      "67/67 [==============================] - 1s 12ms/step - loss: 0.6042 - accuracy: 0.8219 - val_loss: 0.8132 - val_accuracy: 0.7643\n",
      "Epoch 126/150\n",
      "67/67 [==============================] - 1s 12ms/step - loss: 0.6052 - accuracy: 0.8186 - val_loss: 0.8065 - val_accuracy: 0.7682\n",
      "Epoch 127/150\n",
      "67/67 [==============================] - 1s 11ms/step - loss: 0.5824 - accuracy: 0.8259 - val_loss: 0.7999 - val_accuracy: 0.7621\n",
      "Epoch 128/150\n",
      "67/67 [==============================] - 1s 12ms/step - loss: 0.5866 - accuracy: 0.8254 - val_loss: 0.8106 - val_accuracy: 0.7638\n",
      "Epoch 129/150\n",
      "67/67 [==============================] - 1s 11ms/step - loss: 0.5955 - accuracy: 0.8226 - val_loss: 0.8155 - val_accuracy: 0.7638\n",
      "Epoch 130/150\n",
      "67/67 [==============================] - 1s 12ms/step - loss: 0.5909 - accuracy: 0.8259 - val_loss: 0.8174 - val_accuracy: 0.7632\n",
      "Epoch 131/150\n",
      "67/67 [==============================] - 1s 11ms/step - loss: 0.6028 - accuracy: 0.8221 - val_loss: 0.8080 - val_accuracy: 0.7561\n",
      "Epoch 132/150\n",
      "67/67 [==============================] - 1s 12ms/step - loss: 0.6000 - accuracy: 0.8236 - val_loss: 0.8101 - val_accuracy: 0.7610\n",
      "Epoch 133/150\n",
      "67/67 [==============================] - 1s 11ms/step - loss: 0.5950 - accuracy: 0.8226 - val_loss: 0.8007 - val_accuracy: 0.7654\n",
      "Epoch 134/150\n",
      "67/67 [==============================] - 1s 12ms/step - loss: 0.5920 - accuracy: 0.8273 - val_loss: 0.8035 - val_accuracy: 0.7737\n",
      "Epoch 135/150\n",
      "67/67 [==============================] - 1s 11ms/step - loss: 0.5873 - accuracy: 0.8250 - val_loss: 0.7952 - val_accuracy: 0.7676\n",
      "Epoch 136/150\n",
      "67/67 [==============================] - 1s 12ms/step - loss: 0.5929 - accuracy: 0.8238 - val_loss: 0.7810 - val_accuracy: 0.7682\n",
      "Epoch 137/150\n",
      "67/67 [==============================] - 1s 11ms/step - loss: 0.5750 - accuracy: 0.8344 - val_loss: 0.8202 - val_accuracy: 0.7682\n",
      "Epoch 138/150\n",
      "67/67 [==============================] - 1s 11ms/step - loss: 0.5959 - accuracy: 0.8231 - val_loss: 0.7808 - val_accuracy: 0.7665\n",
      "Epoch 139/150\n",
      "67/67 [==============================] - 1s 11ms/step - loss: 0.5849 - accuracy: 0.8295 - val_loss: 0.8121 - val_accuracy: 0.7621\n",
      "Epoch 140/150\n",
      "67/67 [==============================] - 1s 12ms/step - loss: 0.5756 - accuracy: 0.8269 - val_loss: 0.8009 - val_accuracy: 0.7616\n",
      "Epoch 141/150\n",
      "67/67 [==============================] - 1s 11ms/step - loss: 0.5696 - accuracy: 0.8288 - val_loss: 0.7930 - val_accuracy: 0.7627\n",
      "Epoch 142/150\n",
      "67/67 [==============================] - 1s 11ms/step - loss: 0.5915 - accuracy: 0.8212 - val_loss: 0.8171 - val_accuracy: 0.7720\n",
      "Epoch 143/150\n",
      "67/67 [==============================] - 1s 11ms/step - loss: 0.5797 - accuracy: 0.8245 - val_loss: 0.7866 - val_accuracy: 0.7709\n",
      "Epoch 144/150\n",
      "67/67 [==============================] - 1s 12ms/step - loss: 0.5794 - accuracy: 0.8271 - val_loss: 0.8171 - val_accuracy: 0.7654\n",
      "Epoch 145/150\n",
      "67/67 [==============================] - 1s 12ms/step - loss: 0.5925 - accuracy: 0.8224 - val_loss: 0.7832 - val_accuracy: 0.7698\n",
      "Epoch 146/150\n",
      "67/67 [==============================] - 1s 11ms/step - loss: 0.6143 - accuracy: 0.8127 - val_loss: 0.7993 - val_accuracy: 0.7632\n",
      "Epoch 147/150\n",
      "67/67 [==============================] - 1s 11ms/step - loss: 0.5937 - accuracy: 0.8193 - val_loss: 0.7935 - val_accuracy: 0.7643\n",
      "Epoch 148/150\n",
      "67/67 [==============================] - 1s 12ms/step - loss: 0.5864 - accuracy: 0.8264 - val_loss: 0.7845 - val_accuracy: 0.7654\n",
      "Epoch 149/150\n",
      "67/67 [==============================] - 1s 12ms/step - loss: 0.5799 - accuracy: 0.8281 - val_loss: 0.8094 - val_accuracy: 0.7698\n",
      "Epoch 150/150\n",
      "67/67 [==============================] - 1s 11ms/step - loss: 0.5712 - accuracy: 0.8257 - val_loss: 0.7986 - val_accuracy: 0.7665\n"
     ]
    }
   ],
   "source": [
    "epochs=150\n",
    "history = model.fit(\n",
    "  train,\n",
    "  validation_data=test,\n",
    "  epochs=epochs\n",
    ")"
   ]
  },
  {
   "cell_type": "code",
   "execution_count": 8,
   "metadata": {},
   "outputs": [
    {
     "data": {
      "image/png": "[encoded data removed]",
      "text/plain": [
       "<Figure size 576x576 with 2 Axes>"
      ]
     },
     "metadata": {
      "needs_background": "light"
     },
     "output_type": "display_data"
    }
   ],
   "source": [
    "acc = history.history['accuracy']\n",
    "val_acc = history.history['val_accuracy']\n",
    "\n",
    "loss = history.history['loss']\n",
    "val_loss = history.history['val_loss']\n",
    "\n",
    "epochs_range = range(epochs)\n",
    "\n",
    "plt.figure(figsize=(8, 8))\n",
    "plt.subplot(1, 2, 1)\n",
    "plt.plot(epochs_range, acc, label='Training Accuracy')\n",
    "plt.plot(epochs_range, val_acc, label='Validation Accuracy')\n",
    "plt.legend(loc='lower right')\n",
    "plt.title('Training and Validation Accuracy')\n",
    "\n",
    "plt.subplot(1, 2, 2)\n",
    "plt.plot(epochs_range, loss, label='Training Loss')\n",
    "plt.plot(epochs_range, val_loss, label='Validation Loss')\n",
    "plt.legend(loc='upper right')\n",
    "plt.title('Training and Validation Loss')\n",
    "plt.show()"
   ]
  },
  {
   "cell_type": "code",
   "execution_count": 9,
   "metadata": {},
   "outputs": [
    {
     "name": "stdout",
     "output_type": "stream",
     "text": [
      "29/29 [==============================] - 0s 8ms/step - loss: 0.7986 - accuracy: 0.7665\n",
      "Test accuracy : 0.7665198445320129\n"
     ]
    }
   ],
   "source": [
    "loss, accuracy = model.evaluate(test)\n",
    "print('Test accuracy :', accuracy)"
   ]
  },
  {
   "cell_type": "code",
   "execution_count": 10,
   "metadata": {},
   "outputs": [],
   "source": [
    "# Save the entire model as a SavedModel.\n",
    "# model.save('./data/humanModel/mode_v0')\n",
    "model.save('./data/humanModel/model_v0.h5')"
   ]
  },
  {
   "cell_type": "code",
   "execution_count": 11,
   "metadata": {},
   "outputs": [],
   "source": [
    "# save model in js format\n",
    "# import tensorflowjs as tfjs\n",
    "# tfjs.converters.save_keras_model(model, 'data/humanModel/js_model_v0')"
   ]
  },
  {
   "cell_type": "code",
   "execution_count": 12,
   "metadata": {},
   "outputs": [],
   "source": [
    "# new_model = tf.keras.models.load_model('./data/humanModel/mode_v0')\n",
    "\n",
    "# # Check its architecture\n",
    "# new_model.summary()"
   ]
  },
  {
   "cell_type": "markdown",
   "metadata": {},
   "source": [
    "### Predict on new data"
   ]
  },
  {
   "cell_type": "code",
   "execution_count": 13,
   "metadata": {},
   "outputs": [
    {
     "name": "stdout",
     "output_type": "stream",
     "text": [
      "This image most likely belongs to 3 with a 40.46 percent confidence.\n"
     ]
    }
   ],
   "source": [
    "sunflower_path = \"./data/humanModel/imagesDatabase_split/val/39/-MpIqdos7xbOmReSEoMh_10.png\"\n",
    "\n",
    "img = keras.preprocessing.image.load_img(\n",
    "    sunflower_path, target_size=(IMG_SIZE, IMG_SIZE)\n",
    ")\n",
    "img_array = keras.preprocessing.image.img_to_array(img)\n",
    "img_array = tf.expand_dims(img_array, 0) # Create a batch\n",
    "\n",
    "predictions = model.predict(img_array)\n",
    "score = tf.nn.softmax(predictions[0])\n",
    "print(\n",
    "    \"This image most likely belongs to {} with a {:.2f} percent confidence.\"\n",
    "    .format(np.argmax(score), 100 * np.max(score))\n",
    ")"
   ]
  }
 ],
 "metadata": {
  "interpreter": {
   "hash": "ad60775ae12af945b53c5c94c294ef05f229143b8585a0d23625a81e181fdccc"
  },
  "kernelspec": {
   "display_name": "Python 3.7.4 64-bit ('tf-gpu': conda)",
   "name": "python3"
  },
  "language_info": {
   "codemirror_mode": {
    "name": "ipython",
    "version": 3
   },
   "file_extension": ".py",
   "mimetype": "text/x-python",
   "name": "python",
   "nbconvert_exporter": "python",
   "pygments_lexer": "ipython3",
   "version": "3.7.4"
  }
 },
 "nbformat": 4,
 "nbformat_minor": 4
}
