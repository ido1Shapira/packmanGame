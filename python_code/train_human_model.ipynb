{
 "cells": [
  {
   "cell_type": "code",
   "execution_count": null,
   "source": [
    "import numpy as np\r\n",
    "import random\r\n",
    "import os\r\n",
    "\r\n",
    "# ! pip install split-folders\r\n",
    "import splitfolders\r\n",
    "\r\n",
    "import tensorflow as tf\r\n",
    "from tensorflow import keras\r\n",
    "from tensorflow.keras import layers, regularizers\r\n",
    "from tensorflow.keras.models import Sequential\r\n",
    "\r\n",
    "\r\n",
    "import matplotlib.pyplot as plt\r\n",
    "\r\n",
    "rs = 42\r\n",
    "def reset_random_seeds(rs):\r\n",
    "   os.environ['PYTHONHASHSEED']=str(rs)\r\n",
    "   tf.random.set_seed(rs)\r\n",
    "   np.random.seed(rs)\r\n",
    "   random.seed(rs)\r\n",
    "reset_random_seeds(rs)"
   ],
   "outputs": [],
   "metadata": {}
  },
  {
   "cell_type": "markdown",
   "source": [
    "# Part 1 - Data Preprocessing"
   ],
   "metadata": {}
  },
  {
   "cell_type": "markdown",
   "source": [
    "## Split into train , test data"
   ],
   "metadata": {}
  },
  {
   "cell_type": "code",
   "execution_count": null,
   "source": [
    "# train, test split\r\n",
    "splitfolders.ratio('./data/humanModel/imagesDatabase/', output=\"./data/humanModel/imagesDatabase_split\", ratio=(0.7, 0.3))"
   ],
   "outputs": [],
   "metadata": {}
  },
  {
   "cell_type": "markdown",
   "source": [
    "### Preprocessing the Training set"
   ],
   "metadata": {}
  },
  {
   "cell_type": "code",
   "execution_count": null,
   "source": [
    "batch_size = 64\r\n",
    "img_height = 10\r\n",
    "img_width = 10\r\n",
    "\r\n",
    "train_ds = tf.keras.preprocessing.image_dataset_from_directory(\r\n",
    "  './data/humanModel/imagesDatabase_split/train',\r\n",
    "  seed=rs,\r\n",
    "  image_size=(img_height, img_width),\r\n",
    "  batch_size=batch_size)\r\n",
    "\r\n",
    "val_ds = tf.keras.preprocessing.image_dataset_from_directory(\r\n",
    "  './data/humanModel/imagesDatabase_split/val',\r\n",
    "  seed=rs,\r\n",
    "  image_size=(img_height, img_width),\r\n",
    "  batch_size=batch_size)\r\n",
    "\r\n",
    "class_names = train_ds.class_names\r\n",
    "print(class_names)"
   ],
   "outputs": [],
   "metadata": {}
  },
  {
   "cell_type": "code",
   "execution_count": null,
   "source": [
    "AUTOTUNE = tf.data.AUTOTUNE\r\n",
    "\r\n",
    "train_ds = train_ds.cache().shuffle(1000).prefetch(buffer_size=AUTOTUNE)\r\n",
    "val_ds = val_ds.cache().prefetch(buffer_size=AUTOTUNE)"
   ],
   "outputs": [],
   "metadata": {}
  },
  {
   "cell_type": "markdown",
   "source": [
    "## View some data"
   ],
   "metadata": {}
  },
  {
   "cell_type": "code",
   "execution_count": null,
   "source": [
    "plt.figure(figsize=(10, 10))\r\n",
    "for images, labels in train_ds.take(1):\r\n",
    "    for i in range(6):\r\n",
    "        ax = plt.subplot(3, 3, i + 1)\r\n",
    "        plt.imshow(images[i].numpy().astype(\"uint8\"))\r\n",
    "        plt.title(class_names[labels[i]])\r\n",
    "        plt.axis(\"off\")"
   ],
   "outputs": [],
   "metadata": {}
  },
  {
   "cell_type": "code",
   "execution_count": null,
   "source": [
    "num_classes = 5\n",
    "\n",
    "model = Sequential([\n",
    "  layers.experimental.preprocessing.Rescaling(1./255, input_shape=(img_height, img_width, 3)),\n",
    "  # layers.Conv2D(16, 3, padding='same', activation='elu', kernel_regularizer=regularizers.l2(0.001)),\n",
    "  layers.Conv2D(32, 3, padding='same', activation='elu', kernel_regularizer=regularizers.l2(0.0001)),\n",
    "  layers.Conv2D(64, 3, padding='same', activation='elu', kernel_regularizer=regularizers.l2(0.0001)),\n",
    "  layers.MaxPooling2D(),\n",
    "  layers.Conv2D(32, 3, padding='same', activation='elu', kernel_regularizer=regularizers.l2(0.0001)),\n",
    "  layers.Conv2D(64, 3, padding='same', activation='elu', kernel_regularizer=regularizers.l2(0.0001)),\n",
    "  layers.MaxPooling2D(),\n",
    "  layers.Conv2D(64, 3, padding='same', activation='elu', kernel_regularizer=regularizers.l2(0.0001)),\n",
    "  layers.MaxPooling2D(),\n",
    "  layers.Dropout(0.5),\n",
    "  layers.Flatten(),\n",
    "  layers.Dense(512, activation='elu', kernel_regularizer=regularizers.l2(0.0001)),\n",
    "  layers.Dense(128, activation='elu', kernel_regularizer=regularizers.l2(0.0001)),\n",
    "  layers.Dense(32, activation='elu', kernel_regularizer=regularizers.l2(0.0001)),\n",
    "  layers.Dense(num_classes)\n",
    "])"
   ],
   "outputs": [],
   "metadata": {}
  },
  {
   "cell_type": "code",
   "execution_count": null,
   "source": [
    "model.compile(optimizer='adam',\n",
    "              loss=tf.keras.losses.SparseCategoricalCrossentropy(from_logits=True),\n",
    "              metrics=['accuracy'])"
   ],
   "outputs": [],
   "metadata": {}
  },
  {
   "cell_type": "code",
   "execution_count": null,
   "source": [
    "model.summary()"
   ],
   "outputs": [],
   "metadata": {}
  },
  {
   "cell_type": "code",
   "execution_count": null,
   "source": [
    "epochs=50\n",
    "history = model.fit(\n",
    "  train_ds,\n",
    "  validation_data=val_ds,\n",
    "  epochs=epochs\n",
    ")"
   ],
   "outputs": [],
   "metadata": {
    "scrolled": true
   }
  },
  {
   "cell_type": "code",
   "execution_count": null,
   "source": [
    "acc = history.history['accuracy']\n",
    "val_acc = history.history['val_accuracy']\n",
    "\n",
    "loss = history.history['loss']\n",
    "val_loss = history.history['val_loss']\n",
    "\n",
    "epochs_range = range(epochs)\n",
    "\n",
    "plt.figure(figsize=(8, 8))\n",
    "plt.subplot(1, 2, 1)\n",
    "plt.plot(epochs_range, acc, label='Training Accuracy')\n",
    "plt.plot(epochs_range, val_acc, label='Validation Accuracy')\n",
    "plt.legend(loc='lower right')\n",
    "plt.title('Training and Validation Accuracy')\n",
    "\n",
    "plt.subplot(1, 2, 2)\n",
    "plt.plot(epochs_range, loss, label='Training Loss')\n",
    "plt.plot(epochs_range, val_loss, label='Validation Loss')\n",
    "plt.legend(loc='upper right')\n",
    "plt.title('Training and Validation Loss')\n",
    "plt.show()"
   ],
   "outputs": [],
   "metadata": {}
  },
  {
   "cell_type": "code",
   "execution_count": null,
   "source": [
    "loss, accuracy = model.evaluate(val_ds)\n",
    "print('Test accuracy :', accuracy)"
   ],
   "outputs": [],
   "metadata": {}
  },
  {
   "cell_type": "code",
   "execution_count": null,
   "source": [
    "# Save the entire model as a SavedModel.\n",
    "model.save('./data/humanModel/mode_v0')"
   ],
   "outputs": [],
   "metadata": {}
  },
  {
   "cell_type": "code",
   "execution_count": null,
   "source": [
    "# new_model = tf.keras.models.load_model('./data/humanModel/mode_v0')\n",
    "\n",
    "# # Check its architecture\n",
    "# new_model.summary()"
   ],
   "outputs": [],
   "metadata": {}
  },
  {
   "cell_type": "markdown",
   "source": [
    "### Predict on new data"
   ],
   "metadata": {}
  },
  {
   "cell_type": "code",
   "execution_count": null,
   "source": [
    "sunflower_path = \"./data/humanModel/imagesDatabase_split/val/39/-Mi--4ao5TjCt9Oht513_10.png\"\n",
    "\n",
    "img = keras.preprocessing.image.load_img(\n",
    "    sunflower_path, target_size=(img_height, img_width)\n",
    ")\n",
    "img_array = keras.preprocessing.image.img_to_array(img)\n",
    "img_array = tf.expand_dims(img_array, 0) # Create a batch\n",
    "\n",
    "predictions = model.predict(img_array)\n",
    "score = tf.nn.softmax(predictions[0])\n",
    "\n",
    "print(\n",
    "    \"This image most likely belongs to {} with a {:.2f} percent confidence.\"\n",
    "    .format(class_names[np.argmax(score)], 100 * np.max(score))\n",
    ")"
   ],
   "outputs": [],
   "metadata": {}
  }
 ],
 "metadata": {
  "kernelspec": {
   "name": "python3",
   "display_name": "Python 3.7.4 64-bit ('tf-gpu': conda)"
  },
  "language_info": {
   "codemirror_mode": {
    "name": "ipython",
    "version": 3
   },
   "file_extension": ".py",
   "mimetype": "text/x-python",
   "name": "python",
   "nbconvert_exporter": "python",
   "pygments_lexer": "ipython3",
   "version": "3.7.4"
  },
  "interpreter": {
   "hash": "1082b87752d344a6f2b48e40943af295ff3001e9caeb2502a6ba4c36176c89b5"
  }
 },
 "nbformat": 4,
 "nbformat_minor": 4
}