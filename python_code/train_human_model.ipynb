{
 "cells": [
  {
   "cell_type": "code",
   "execution_count": 1,
   "metadata": {},
   "outputs": [],
   "source": [
    "import numpy as np\n",
    "\n",
    "# ! pip install split-folders\n",
    "import splitfolders\n",
    "\n",
    "import tensorflow as tf\n",
    "from tensorflow import keras\n",
    "from tensorflow.keras import layers\n",
    "from tensorflow.keras.models import Sequential\n",
    "\n",
    "import matplotlib.pyplot as plt\n",
    "\n",
    "rs = 42"
   ]
  },
  {
   "cell_type": "markdown",
   "metadata": {},
   "source": [
    "# Part 1 - Data Preprocessing"
   ]
  },
  {
   "cell_type": "markdown",
   "metadata": {},
   "source": [
    "## Split into train , test data"
   ]
  },
  {
   "cell_type": "code",
   "execution_count": 2,
   "metadata": {},
   "outputs": [],
   "source": [
    "IMG_SIZE = 10"
   ]
  },
  {
   "cell_type": "code",
   "execution_count": 3,
   "metadata": {},
   "outputs": [
    {
     "name": "stderr",
     "output_type": "stream",
     "text": [
      "Copying files: 43 files [00:00, 933.76 files/s]\n"
     ]
    }
   ],
   "source": [
    "# train, test split\n",
    "splitfolders.ratio('./data/imagesDatabase/', output=\"./data/humanModel/imagesDatabase_split\", ratio=(0.7, 0.3))"
   ]
  },
  {
   "cell_type": "markdown",
   "metadata": {},
   "source": [
    "### Preprocessing the Training set"
   ]
  },
  {
   "cell_type": "code",
   "execution_count": 4,
   "metadata": {},
   "outputs": [
    {
     "name": "stdout",
     "output_type": "stream",
     "text": [
      "Found 28 files belonging to 5 classes.\n",
      "Using 23 files for training.\n",
      "Found 15 files belonging to 5 classes.\n",
      "Using 3 files for validation.\n",
      "['32', '37', '38', '39', '40']\n"
     ]
    }
   ],
   "source": [
    "batch_size = 8\n",
    "img_height = 10\n",
    "img_width = 10\n",
    "\n",
    "train_ds = tf.keras.preprocessing.image_dataset_from_directory(\n",
    "  './data/humanModel/imagesDatabase_split/train',\n",
    "  validation_split=0.2,\n",
    "  subset=\"training\",\n",
    "  seed=rs,\n",
    "  image_size=(img_height, img_width),\n",
    "  batch_size=batch_size)\n",
    "\n",
    "val_ds = tf.keras.preprocessing.image_dataset_from_directory(\n",
    "  './data/humanModel/imagesDatabase_split/val',\n",
    "  validation_split=0.2,\n",
    "  subset=\"validation\",\n",
    "  seed=rs,\n",
    "  image_size=(img_height, img_width),\n",
    "  batch_size=batch_size)\n",
    "\n",
    "class_names = train_ds.class_names\n",
    "print(class_names)"
   ]
  },
  {
   "cell_type": "markdown",
   "metadata": {},
   "source": [
    "## View some data"
   ]
  },
  {
   "cell_type": "code",
   "execution_count": 5,
   "metadata": {},
   "outputs": [
    {
     "data": {
      "image/png": "[encoded data removed]",
      "text/plain": [
       "<Figure size 720x720 with 6 Axes>"
      ]
     },
     "metadata": {
      "needs_background": "light"
     },
     "output_type": "display_data"
    }
   ],
   "source": [
    "plt.figure(figsize=(10, 10))\n",
    "for images, labels in train_ds.take(1):\n",
    "    for i in range(6):\n",
    "        ax = plt.subplot(3, 3, i + 1)\n",
    "        plt.imshow(images[i].numpy().astype(\"uint8\"))\n",
    "        plt.title(class_names[labels[i]])\n",
    "        plt.axis(\"off\")"
   ]
  },
  {
   "cell_type": "code",
   "execution_count": 6,
   "metadata": {},
   "outputs": [],
   "source": [
    "# AUTOTUNE = tf.data.AUTOTUNE\n",
    "\n",
    "# train_ds = train_ds.cache().shuffle(1000).prefetch(buffer_size=AUTOTUNE)\n",
    "# val_ds = val_ds.cache().prefetch(buffer_size=AUTOTUNE)"
   ]
  },
  {
   "cell_type": "code",
   "execution_count": 7,
   "metadata": {},
   "outputs": [],
   "source": [
    "num_classes = 5\n",
    "\n",
    "model = Sequential([\n",
    "  layers.experimental.preprocessing.Rescaling(1./255, input_shape=(img_height, img_width, 3)),\n",
    "  layers.Conv2D(16, 3, padding='same', activation='relu'),\n",
    "  layers.MaxPooling2D(),\n",
    "  layers.Conv2D(32, 3, padding='same', activation='relu'),\n",
    "  layers.MaxPooling2D(),\n",
    "  layers.Conv2D(64, 3, padding='same', activation='relu'),\n",
    "  layers.MaxPooling2D(),\n",
    "  layers.Dropout(0.3),\n",
    "  layers.Flatten(),\n",
    "  layers.Dense(128, activation='relu'),\n",
    "  layers.Dense(num_classes)\n",
    "])"
   ]
  },
  {
   "cell_type": "code",
   "execution_count": 8,
   "metadata": {},
   "outputs": [],
   "source": [
    "model.compile(optimizer='adam',\n",
    "              loss=tf.keras.losses.SparseCategoricalCrossentropy(from_logits=True),\n",
    "              metrics=['accuracy'])"
   ]
  },
  {
   "cell_type": "code",
   "execution_count": 9,
   "metadata": {},
   "outputs": [
    {
     "name": "stdout",
     "output_type": "stream",
     "text": [
      "Model: \"sequential\"\n",
      "_________________________________________________________________\n",
      "Layer (type)                 Output Shape              Param #   \n",
      "=================================================================\n",
      "rescaling (Rescaling)        (None, 10, 10, 3)         0         \n",
      "_________________________________________________________________\n",
      "conv2d (Conv2D)              (None, 10, 10, 16)        448       \n",
      "_________________________________________________________________\n",
      "max_pooling2d (MaxPooling2D) (None, 5, 5, 16)          0         \n",
      "_________________________________________________________________\n",
      "conv2d_1 (Conv2D)            (None, 5, 5, 32)          4640      \n",
      "_________________________________________________________________\n",
      "max_pooling2d_1 (MaxPooling2 (None, 2, 2, 32)          0         \n",
      "_________________________________________________________________\n",
      "conv2d_2 (Conv2D)            (None, 2, 2, 64)          18496     \n",
      "_________________________________________________________________\n",
      "max_pooling2d_2 (MaxPooling2 (None, 1, 1, 64)          0         \n",
      "_________________________________________________________________\n",
      "dropout (Dropout)            (None, 1, 1, 64)          0         \n",
      "_________________________________________________________________\n",
      "flatten (Flatten)            (None, 64)                0         \n",
      "_________________________________________________________________\n",
      "dense (Dense)                (None, 128)               8320      \n",
      "_________________________________________________________________\n",
      "dense_1 (Dense)              (None, 5)                 645       \n",
      "=================================================================\n",
      "Total params: 32,549\n",
      "Trainable params: 32,549\n",
      "Non-trainable params: 0\n",
      "_________________________________________________________________\n"
     ]
    }
   ],
   "source": [
    "model.summary()"
   ]
  },
  {
   "cell_type": "code",
   "execution_count": 10,
   "metadata": {
    "scrolled": true
   },
   "outputs": [
    {
     "name": "stdout",
     "output_type": "stream",
     "text": [
      "Epoch 1/30\n",
      "1/3 [=========>....................] - ETA: 0s - loss: 1.6427 - accuracy: 0.0000e+00WARNING:tensorflow:Callbacks method `on_train_batch_end` is slow compared to the batch time (batch time: 0.0000s vs `on_train_batch_end` time: 0.0089s). Check your callbacks.\n",
      "3/3 [==============================] - 0s 51ms/step - loss: 1.6124 - accuracy: 0.0870 - val_loss: 1.5663 - val_accuracy: 0.3333\n",
      "Epoch 2/30\n",
      "3/3 [==============================] - 0s 18ms/step - loss: 1.5487 - accuracy: 0.2174 - val_loss: 1.5356 - val_accuracy: 0.3333\n",
      "Epoch 3/30\n",
      "3/3 [==============================] - 0s 19ms/step - loss: 1.4587 - accuracy: 0.5217 - val_loss: 1.5023 - val_accuracy: 0.3333\n",
      "Epoch 4/30\n",
      "3/3 [==============================] - 0s 22ms/step - loss: 1.3684 - accuracy: 0.5217 - val_loss: 1.4782 - val_accuracy: 0.3333\n",
      "Epoch 5/30\n",
      "3/3 [==============================] - 0s 16ms/step - loss: 1.3127 - accuracy: 0.5217 - val_loss: 1.4857 - val_accuracy: 0.3333\n",
      "Epoch 6/30\n",
      "3/3 [==============================] - 0s 19ms/step - loss: 1.2400 - accuracy: 0.5217 - val_loss: 1.5511 - val_accuracy: 0.3333\n",
      "Epoch 7/30\n",
      "3/3 [==============================] - 0s 18ms/step - loss: 1.2382 - accuracy: 0.5217 - val_loss: 1.6541 - val_accuracy: 0.3333\n",
      "Epoch 8/30\n",
      "3/3 [==============================] - 0s 21ms/step - loss: 1.2999 - accuracy: 0.5217 - val_loss: 1.7076 - val_accuracy: 0.3333\n",
      "Epoch 9/30\n",
      "3/3 [==============================] - 0s 20ms/step - loss: 1.2237 - accuracy: 0.5217 - val_loss: 1.6256 - val_accuracy: 0.3333\n",
      "Epoch 10/30\n",
      "3/3 [==============================] - 0s 22ms/step - loss: 1.1892 - accuracy: 0.5217 - val_loss: 1.5693 - val_accuracy: 0.3333\n",
      "Epoch 11/30\n",
      "3/3 [==============================] - 0s 20ms/step - loss: 1.1882 - accuracy: 0.5217 - val_loss: 1.5378 - val_accuracy: 0.3333\n",
      "Epoch 12/30\n",
      "3/3 [==============================] - 0s 18ms/step - loss: 1.1417 - accuracy: 0.5217 - val_loss: 1.5291 - val_accuracy: 0.3333\n",
      "Epoch 13/30\n",
      "3/3 [==============================] - 0s 17ms/step - loss: 1.1804 - accuracy: 0.5217 - val_loss: 1.5291 - val_accuracy: 0.3333\n",
      "Epoch 14/30\n",
      "3/3 [==============================] - 0s 22ms/step - loss: 1.1275 - accuracy: 0.5217 - val_loss: 1.5402 - val_accuracy: 0.3333\n",
      "Epoch 15/30\n",
      "3/3 [==============================] - 0s 17ms/step - loss: 1.1475 - accuracy: 0.5217 - val_loss: 1.5442 - val_accuracy: 0.3333\n",
      "Epoch 16/30\n",
      "3/3 [==============================] - 0s 18ms/step - loss: 1.1605 - accuracy: 0.5217 - val_loss: 1.5528 - val_accuracy: 0.3333\n",
      "Epoch 17/30\n",
      "3/3 [==============================] - 0s 16ms/step - loss: 1.1437 - accuracy: 0.5217 - val_loss: 1.5636 - val_accuracy: 0.3333\n",
      "Epoch 18/30\n",
      "3/3 [==============================] - 0s 17ms/step - loss: 1.1114 - accuracy: 0.5217 - val_loss: 1.5472 - val_accuracy: 0.3333\n",
      "Epoch 19/30\n",
      "3/3 [==============================] - 0s 20ms/step - loss: 1.1429 - accuracy: 0.5217 - val_loss: 1.5394 - val_accuracy: 0.3333\n",
      "Epoch 20/30\n",
      "3/3 [==============================] - 0s 18ms/step - loss: 1.1169 - accuracy: 0.5217 - val_loss: 1.5227 - val_accuracy: 0.3333\n",
      "Epoch 21/30\n",
      "3/3 [==============================] - 0s 16ms/step - loss: 1.1181 - accuracy: 0.5217 - val_loss: 1.4881 - val_accuracy: 0.3333\n",
      "Epoch 22/30\n",
      "3/3 [==============================] - 0s 17ms/step - loss: 1.1254 - accuracy: 0.5217 - val_loss: 1.4254 - val_accuracy: 0.3333\n",
      "Epoch 23/30\n",
      "3/3 [==============================] - 0s 17ms/step - loss: 1.0795 - accuracy: 0.5217 - val_loss: 1.3964 - val_accuracy: 0.3333\n",
      "Epoch 24/30\n",
      "3/3 [==============================] - 0s 21ms/step - loss: 1.1014 - accuracy: 0.5217 - val_loss: 1.3880 - val_accuracy: 0.3333\n",
      "Epoch 25/30\n",
      "3/3 [==============================] - 0s 17ms/step - loss: 1.0698 - accuracy: 0.5217 - val_loss: 1.3740 - val_accuracy: 0.3333\n",
      "Epoch 26/30\n",
      "3/3 [==============================] - 0s 21ms/step - loss: 1.0444 - accuracy: 0.5217 - val_loss: 1.3665 - val_accuracy: 0.3333\n",
      "Epoch 27/30\n",
      "3/3 [==============================] - 0s 17ms/step - loss: 1.0307 - accuracy: 0.5217 - val_loss: 1.3549 - val_accuracy: 0.3333\n",
      "Epoch 28/30\n",
      "3/3 [==============================] - 0s 17ms/step - loss: 0.9995 - accuracy: 0.5217 - val_loss: 1.3491 - val_accuracy: 0.3333\n",
      "Epoch 29/30\n",
      "3/3 [==============================] - 0s 18ms/step - loss: 0.9796 - accuracy: 0.6087 - val_loss: 1.3204 - val_accuracy: 0.6667\n",
      "Epoch 30/30\n",
      "3/3 [==============================] - 0s 16ms/step - loss: 0.9243 - accuracy: 0.5652 - val_loss: 1.2782 - val_accuracy: 0.6667\n"
     ]
    }
   ],
   "source": [
    "epochs=30\n",
    "history = model.fit(\n",
    "  train_ds,\n",
    "  validation_data=val_ds,\n",
    "  epochs=epochs\n",
    ")"
   ]
  },
  {
   "cell_type": "code",
   "execution_count": 11,
   "metadata": {},
   "outputs": [
    {
     "data": {
      "image/png": "[encoded data removed]",
      "text/plain": [
       "<Figure size 576x576 with 2 Axes>"
      ]
     },
     "metadata": {
      "needs_background": "light"
     },
     "output_type": "display_data"
    }
   ],
   "source": [
    "acc = history.history['accuracy']\n",
    "val_acc = history.history['val_accuracy']\n",
    "\n",
    "loss = history.history['loss']\n",
    "val_loss = history.history['val_loss']\n",
    "\n",
    "epochs_range = range(epochs)\n",
    "\n",
    "plt.figure(figsize=(8, 8))\n",
    "plt.subplot(1, 2, 1)\n",
    "plt.plot(epochs_range, acc, label='Training Accuracy')\n",
    "plt.plot(epochs_range, val_acc, label='Validation Accuracy')\n",
    "plt.legend(loc='lower right')\n",
    "plt.title('Training and Validation Accuracy')\n",
    "\n",
    "plt.subplot(1, 2, 2)\n",
    "plt.plot(epochs_range, loss, label='Training Loss')\n",
    "plt.plot(epochs_range, val_loss, label='Validation Loss')\n",
    "plt.legend(loc='upper right')\n",
    "plt.title('Training and Validation Loss')\n",
    "plt.show()"
   ]
  },
  {
   "cell_type": "code",
   "execution_count": 15,
   "metadata": {},
   "outputs": [
    {
     "name": "stdout",
     "output_type": "stream",
     "text": [
      "2.3.1\n"
     ]
    }
   ],
   "source": [
    "print(tf.version.VERSION)"
   ]
  },
  {
   "cell_type": "code",
   "execution_count": 16,
   "metadata": {},
   "outputs": [
    {
     "name": "stdout",
     "output_type": "stream",
     "text": [
      "WARNING:tensorflow:From C:\\Users\\USER\\anaconda3\\lib\\site-packages\\tensorflow\\python\\training\\tracking\\tracking.py:111: Model.state_updates (from tensorflow.python.keras.engine.training) is deprecated and will be removed in a future version.\n",
      "Instructions for updating:\n",
      "This property should not be used in TensorFlow 2.0, as updates are applied automatically.\n",
      "WARNING:tensorflow:From C:\\Users\\USER\\anaconda3\\lib\\site-packages\\tensorflow\\python\\training\\tracking\\tracking.py:111: Layer.updates (from tensorflow.python.keras.engine.base_layer) is deprecated and will be removed in a future version.\n",
      "Instructions for updating:\n",
      "This property should not be used in TensorFlow 2.0, as updates are applied automatically.\n",
      "INFO:tensorflow:Assets written to: ./data/humanModel/mode_v0\\assets\n"
     ]
    }
   ],
   "source": [
    "# Save the entire model as a SavedModel.\n",
    "model.save('./data/humanModel/mode_v0')"
   ]
  },
  {
   "cell_type": "code",
   "execution_count": 18,
   "metadata": {},
   "outputs": [
    {
     "name": "stdout",
     "output_type": "stream",
     "text": [
      "Model: \"sequential\"\n",
      "_________________________________________________________________\n",
      "Layer (type)                 Output Shape              Param #   \n",
      "=================================================================\n",
      "rescaling (Rescaling)        (None, 10, 10, 3)         0         \n",
      "_________________________________________________________________\n",
      "conv2d (Conv2D)              (None, 10, 10, 16)        448       \n",
      "_________________________________________________________________\n",
      "max_pooling2d (MaxPooling2D) (None, 5, 5, 16)          0         \n",
      "_________________________________________________________________\n",
      "conv2d_1 (Conv2D)            (None, 5, 5, 32)          4640      \n",
      "_________________________________________________________________\n",
      "max_pooling2d_1 (MaxPooling2 (None, 2, 2, 32)          0         \n",
      "_________________________________________________________________\n",
      "conv2d_2 (Conv2D)            (None, 2, 2, 64)          18496     \n",
      "_________________________________________________________________\n",
      "max_pooling2d_2 (MaxPooling2 (None, 1, 1, 64)          0         \n",
      "_________________________________________________________________\n",
      "dropout (Dropout)            (None, 1, 1, 64)          0         \n",
      "_________________________________________________________________\n",
      "flatten (Flatten)            (None, 64)                0         \n",
      "_________________________________________________________________\n",
      "dense (Dense)                (None, 128)               8320      \n",
      "_________________________________________________________________\n",
      "dense_1 (Dense)              (None, 5)                 645       \n",
      "=================================================================\n",
      "Total params: 32,549\n",
      "Trainable params: 32,549\n",
      "Non-trainable params: 0\n",
      "_________________________________________________________________\n"
     ]
    }
   ],
   "source": [
    "new_model = tf.keras.models.load_model('./data/humanModel/mode_v0')\n",
    "\n",
    "# Check its architecture\n",
    "new_model.summary()"
   ]
  },
  {
   "cell_type": "markdown",
   "metadata": {},
   "source": [
    "### Predict on new data"
   ]
  },
  {
   "cell_type": "code",
   "execution_count": 22,
   "metadata": {},
   "outputs": [
    {
     "name": "stdout",
     "output_type": "stream",
     "text": [
      "This image most likely belongs to 40 with a 58.56 percent confidence.\n"
     ]
    }
   ],
   "source": [
    "sunflower_path = \"./data/humanModel/imagesDatabase_split/val/37/-MhUR_hORqFZDHLqxzMH_2.png\"\n",
    "\n",
    "img = keras.preprocessing.image.load_img(\n",
    "    sunflower_path, target_size=(img_height, img_width)\n",
    ")\n",
    "img_array = keras.preprocessing.image.img_to_array(img)\n",
    "img_array = tf.expand_dims(img_array, 0) # Create a batch\n",
    "\n",
    "predictions = model.predict(img_array)\n",
    "score = tf.nn.softmax(predictions[0])\n",
    "\n",
    "print(\n",
    "    \"This image most likely belongs to {} with a {:.2f} percent confidence.\"\n",
    "    .format(class_names[np.argmax(score)], 100 * np.max(score))\n",
    ")"
   ]
  }
 ],
 "metadata": {
  "kernelspec": {
   "display_name": "Python 3",
   "language": "python",
   "name": "python3"
  },
  "language_info": {
   "codemirror_mode": {
    "name": "ipython",
    "version": 3
   },
   "file_extension": ".py",
   "mimetype": "text/x-python",
   "name": "python",
   "nbconvert_exporter": "python",
   "pygments_lexer": "ipython3",
   "version": "3.8.3"
  }
 },
 "nbformat": 4,
 "nbformat_minor": 4
}
