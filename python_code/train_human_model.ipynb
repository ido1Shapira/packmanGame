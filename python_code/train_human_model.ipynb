{
 "cells": [
  {
   "cell_type": "code",
   "execution_count": 1,
   "metadata": {},
   "outputs": [],
   "source": [
    "import numpy as np\n",
    "import random\n",
    "import os\n",
    "\n",
    "# ! pip install split-folders\n",
    "import splitfolders\n",
    "\n",
    "import tensorflow as tf\n",
    "from tensorflow import keras\n",
    "from tensorflow.keras import layers, regularizers\n",
    "from tensorflow.keras.models import Sequential\n",
    "\n",
    "\n",
    "import matplotlib.pyplot as plt\n",
    "\n",
    "rs = 42\n",
    "def reset_random_seeds(rs):\n",
    "   os.environ['PYTHONHASHSEED']=str(rs)\n",
    "   tf.random.set_seed(rs)\n",
    "   np.random.seed(rs)\n",
    "   random.seed(rs)\n",
    "reset_random_seeds(rs)"
   ]
  },
  {
   "cell_type": "markdown",
   "metadata": {},
   "source": [
    "# Part 1 - Data Preprocessing"
   ]
  },
  {
   "cell_type": "markdown",
   "metadata": {},
   "source": [
    "## Split into train , test data"
   ]
  },
  {
   "cell_type": "code",
   "execution_count": 2,
   "metadata": {},
   "outputs": [
    {
     "name": "stderr",
     "output_type": "stream",
     "text": [
      "Copying files: 6429 files [00:00, 13007.97 files/s]\n"
     ]
    }
   ],
   "source": [
    "# train, test split\n",
    "splitfolders.ratio('./data/humanModel/imagesDatabase/', output=\"./data/humanModel/imagesDatabase_split\", ratio=(0.7, 0.3))"
   ]
  },
  {
   "cell_type": "markdown",
   "metadata": {},
   "source": [
    "### Preprocessing the Training set"
   ]
  },
  {
   "cell_type": "code",
   "execution_count": 3,
   "metadata": {},
   "outputs": [
    {
     "name": "stdout",
     "output_type": "stream",
     "text": [
      "Found 4498 files belonging to 5 classes.\n",
      "Found 1931 files belonging to 5 classes.\n",
      "['32', '37', '38', '39', '40']\n"
     ]
    },
    {
     "name": "stderr",
     "output_type": "stream",
     "text": [
      "2021-11-25 12:01:32.600752: I tensorflow/stream_executor/cuda/cuda_gpu_executor.cc:937] successful NUMA node read from SysFS had negative value (-1), but there must be at least one NUMA node, so returning NUMA node zero\n",
      "2021-11-25 12:01:32.604864: I tensorflow/stream_executor/cuda/cuda_gpu_executor.cc:937] successful NUMA node read from SysFS had negative value (-1), but there must be at least one NUMA node, so returning NUMA node zero\n",
      "2021-11-25 12:01:32.605147: I tensorflow/stream_executor/cuda/cuda_gpu_executor.cc:937] successful NUMA node read from SysFS had negative value (-1), but there must be at least one NUMA node, so returning NUMA node zero\n",
      "2021-11-25 12:01:32.605808: I tensorflow/core/platform/cpu_feature_guard.cc:142] This TensorFlow binary is optimized with oneAPI Deep Neural Network Library (oneDNN) to use the following CPU instructions in performance-critical operations:  AVX2 FMA\n",
      "To enable them in other operations, rebuild TensorFlow with the appropriate compiler flags.\n",
      "2021-11-25 12:01:32.606191: I tensorflow/stream_executor/cuda/cuda_gpu_executor.cc:937] successful NUMA node read from SysFS had negative value (-1), but there must be at least one NUMA node, so returning NUMA node zero\n",
      "2021-11-25 12:01:32.606486: I tensorflow/stream_executor/cuda/cuda_gpu_executor.cc:937] successful NUMA node read from SysFS had negative value (-1), but there must be at least one NUMA node, so returning NUMA node zero\n",
      "2021-11-25 12:01:32.606754: I tensorflow/stream_executor/cuda/cuda_gpu_executor.cc:937] successful NUMA node read from SysFS had negative value (-1), but there must be at least one NUMA node, so returning NUMA node zero\n",
      "2021-11-25 12:01:32.885343: I tensorflow/stream_executor/cuda/cuda_gpu_executor.cc:937] successful NUMA node read from SysFS had negative value (-1), but there must be at least one NUMA node, so returning NUMA node zero\n",
      "2021-11-25 12:01:32.885641: I tensorflow/stream_executor/cuda/cuda_gpu_executor.cc:937] successful NUMA node read from SysFS had negative value (-1), but there must be at least one NUMA node, so returning NUMA node zero\n",
      "2021-11-25 12:01:32.885943: I tensorflow/stream_executor/cuda/cuda_gpu_executor.cc:937] successful NUMA node read from SysFS had negative value (-1), but there must be at least one NUMA node, so returning NUMA node zero\n",
      "2021-11-25 12:01:32.886203: I tensorflow/core/common_runtime/gpu/gpu_device.cc:1510] Created device /job:localhost/replica:0/task:0/device:GPU:0 with 11210 MB memory:  -> device: 0, name: NVIDIA TITAN X (Pascal), pci bus id: 0000:01:00.0, compute capability: 6.1\n"
     ]
    }
   ],
   "source": [
    "batch_size = 64\n",
    "img_height = 10\n",
    "img_width = 10\n",
    "\n",
    "train_ds = tf.keras.preprocessing.image_dataset_from_directory(\n",
    "  './data/humanModel/imagesDatabase_split/train',\n",
    "  seed=rs,\n",
    "  image_size=(img_height, img_width),\n",
    "  batch_size=batch_size)\n",
    "\n",
    "val_ds = tf.keras.preprocessing.image_dataset_from_directory(\n",
    "  './data/humanModel/imagesDatabase_split/val',\n",
    "  seed=rs,\n",
    "  image_size=(img_height, img_width),\n",
    "  batch_size=batch_size)\n",
    "\n",
    "class_names = train_ds.class_names\n",
    "print(class_names)"
   ]
  },
  {
   "cell_type": "code",
   "execution_count": 4,
   "metadata": {},
   "outputs": [],
   "source": [
    "AUTOTUNE = tf.data.AUTOTUNE\n",
    "\n",
    "train_ds = train_ds.cache().shuffle(1000).prefetch(buffer_size=AUTOTUNE)\n",
    "val_ds = val_ds.cache().prefetch(buffer_size=AUTOTUNE)"
   ]
  },
  {
   "cell_type": "markdown",
   "metadata": {},
   "source": [
    "## View some data"
   ]
  },
  {
   "cell_type": "code",
   "execution_count": 5,
   "metadata": {},
   "outputs": [
    {
     "name": "stderr",
     "output_type": "stream",
     "text": [
      "2021-11-25 12:01:33.131343: I tensorflow/compiler/mlir/mlir_graph_optimization_pass.cc:185] None of the MLIR Optimization Passes are enabled (registered 2)\n"
     ]
    },
    {
     "data": {
      "image/png": "[encoded data removed]",
      "text/plain": [
       "<Figure size 720x720 with 6 Axes>"
      ]
     },
     "metadata": {
      "needs_background": "light"
     },
     "output_type": "display_data"
    }
   ],
   "source": [
    "plt.figure(figsize=(10, 10))\n",
    "for images, labels in train_ds.take(1):\n",
    "    for i in range(6):\n",
    "        ax = plt.subplot(3, 3, i + 1)\n",
    "        plt.imshow(images[i].numpy().astype(\"uint8\"))\n",
    "        plt.title(class_names[labels[i]])\n",
    "        plt.axis(\"off\")"
   ]
  },
  {
   "cell_type": "code",
   "execution_count": 6,
   "metadata": {},
   "outputs": [],
   "source": [
    "num_classes = 5\n",
    "\n",
    "model = Sequential([\n",
    "  layers.experimental.preprocessing.Rescaling(1./255, input_shape=(img_height, img_width, 3)),\n",
    "  layers.Conv2D(8, 4, padding='same', activation='relu', kernel_regularizer=regularizers.l2(0.001)),\n",
    "  layers.Conv2D(16, 4, padding='same', activation='relu', kernel_regularizer=regularizers.l2(0.001)),\n",
    "  layers.MaxPooling2D(),\n",
    "  layers.Conv2D(8, 3, padding='same', activation='relu', kernel_regularizer=regularizers.l2(0.001)),\n",
    "  layers.Dropout(0.5),\n",
    "  layers.Flatten(),\n",
    "  # layers.Dense(512, activation='elu', kernel_regularizer=regularizers.l2(0.0001)),\n",
    "  # layers.Dense(128, activation='elu', kernel_regularizer=regularizers.l2(0.0001)),\n",
    "  layers.Dense(32, activation='relu', kernel_regularizer=regularizers.l2(0.001)),\n",
    "  layers.Dense(num_classes, activation='softmax')\n",
    "])"
   ]
  },
  {
   "cell_type": "code",
   "execution_count": 7,
   "metadata": {},
   "outputs": [],
   "source": [
    "model.compile(optimizer='adam',\n",
    "              loss=tf.keras.losses.SparseCategoricalCrossentropy(from_logits=True),\n",
    "              metrics=['accuracy'])"
   ]
  },
  {
   "cell_type": "code",
   "execution_count": 8,
   "metadata": {},
   "outputs": [
    {
     "name": "stdout",
     "output_type": "stream",
     "text": [
      "Model: \"sequential\"\n",
      "_________________________________________________________________\n",
      "Layer (type)                 Output Shape              Param #   \n",
      "=================================================================\n",
      "rescaling (Rescaling)        (None, 10, 10, 3)         0         \n",
      "_________________________________________________________________\n",
      "conv2d (Conv2D)              (None, 10, 10, 8)         392       \n",
      "_________________________________________________________________\n",
      "conv2d_1 (Conv2D)            (None, 10, 10, 16)        2064      \n",
      "_________________________________________________________________\n",
      "max_pooling2d (MaxPooling2D) (None, 5, 5, 16)          0         \n",
      "_________________________________________________________________\n",
      "conv2d_2 (Conv2D)            (None, 5, 5, 8)           1160      \n",
      "_________________________________________________________________\n",
      "dropout (Dropout)            (None, 5, 5, 8)           0         \n",
      "_________________________________________________________________\n",
      "flatten (Flatten)            (None, 200)               0         \n",
      "_________________________________________________________________\n",
      "dense (Dense)                (None, 32)                6432      \n",
      "_________________________________________________________________\n",
      "dense_1 (Dense)              (None, 5)                 165       \n",
      "=================================================================\n",
      "Total params: 10,213\n",
      "Trainable params: 10,213\n",
      "Non-trainable params: 0\n",
      "_________________________________________________________________\n"
     ]
    }
   ],
   "source": [
    "model.summary()"
   ]
  },
  {
   "cell_type": "code",
   "execution_count": 9,
   "metadata": {
    "scrolled": true
   },
   "outputs": [
    {
     "name": "stdout",
     "output_type": "stream",
     "text": [
      "Epoch 1/150\n"
     ]
    },
    {
     "name": "stderr",
     "output_type": "stream",
     "text": [
      "/home/ido/anaconda3/envs/tf-gpu/lib/python3.7/site-packages/keras/backend.py:4907: UserWarning: \"`sparse_categorical_crossentropy` received `from_logits=True`, but the `output` argument was produced by a sigmoid or softmax activation and thus does not represent logits. Was this intended?\"\n",
      "  '\"`sparse_categorical_crossentropy` received `from_logits=True`, but '\n",
      "2021-11-25 12:01:34.116913: I tensorflow/stream_executor/cuda/cuda_dnn.cc:369] Loaded cuDNN version 8300\n"
     ]
    },
    {
     "name": "stdout",
     "output_type": "stream",
     "text": [
      "71/71 [==============================] - 1s 4ms/step - loss: 1.6405 - accuracy: 0.2570 - val_loss: 1.5696 - val_accuracy: 0.2796\n",
      "Epoch 2/150\n",
      "71/71 [==============================] - 0s 2ms/step - loss: 1.4575 - accuracy: 0.3960 - val_loss: 1.2794 - val_accuracy: 0.5028\n",
      "Epoch 3/150\n",
      "71/71 [==============================] - 0s 2ms/step - loss: 1.2753 - accuracy: 0.5069 - val_loss: 1.1712 - val_accuracy: 0.5748\n",
      "Epoch 4/150\n",
      "71/71 [==============================] - 0s 2ms/step - loss: 1.2239 - accuracy: 0.5422 - val_loss: 1.1013 - val_accuracy: 0.6111\n",
      "Epoch 5/150\n",
      "71/71 [==============================] - 0s 2ms/step - loss: 1.1460 - accuracy: 0.5720 - val_loss: 1.0556 - val_accuracy: 0.6209\n",
      "Epoch 6/150\n",
      "71/71 [==============================] - 0s 2ms/step - loss: 1.1116 - accuracy: 0.5876 - val_loss: 1.0300 - val_accuracy: 0.6396\n",
      "Epoch 7/150\n",
      "71/71 [==============================] - 0s 2ms/step - loss: 1.0874 - accuracy: 0.5978 - val_loss: 1.0054 - val_accuracy: 0.6546\n",
      "Epoch 8/150\n",
      "71/71 [==============================] - 0s 3ms/step - loss: 1.0680 - accuracy: 0.6107 - val_loss: 0.9784 - val_accuracy: 0.6680\n",
      "Epoch 9/150\n",
      "71/71 [==============================] - 0s 2ms/step - loss: 1.0566 - accuracy: 0.6158 - val_loss: 0.9643 - val_accuracy: 0.6639\n",
      "Epoch 10/150\n",
      "71/71 [==============================] - 0s 2ms/step - loss: 1.0356 - accuracy: 0.6289 - val_loss: 0.9455 - val_accuracy: 0.6701\n",
      "Epoch 11/150\n",
      "71/71 [==============================] - 0s 2ms/step - loss: 1.0141 - accuracy: 0.6329 - val_loss: 0.9292 - val_accuracy: 0.6696\n",
      "Epoch 12/150\n",
      "71/71 [==============================] - 0s 2ms/step - loss: 1.0070 - accuracy: 0.6372 - val_loss: 0.9622 - val_accuracy: 0.6411\n",
      "Epoch 13/150\n",
      "71/71 [==============================] - 0s 2ms/step - loss: 0.9913 - accuracy: 0.6465 - val_loss: 0.9044 - val_accuracy: 0.6908\n",
      "Epoch 14/150\n",
      "71/71 [==============================] - 0s 2ms/step - loss: 0.9736 - accuracy: 0.6456 - val_loss: 0.8859 - val_accuracy: 0.7027\n",
      "Epoch 15/150\n",
      "71/71 [==============================] - 0s 2ms/step - loss: 0.9716 - accuracy: 0.6494 - val_loss: 0.8749 - val_accuracy: 0.7007\n",
      "Epoch 16/150\n",
      "71/71 [==============================] - 0s 2ms/step - loss: 0.9446 - accuracy: 0.6665 - val_loss: 0.8664 - val_accuracy: 0.7007\n",
      "Epoch 17/150\n",
      "71/71 [==============================] - 0s 3ms/step - loss: 0.9495 - accuracy: 0.6667 - val_loss: 0.8755 - val_accuracy: 0.7178\n",
      "Epoch 18/150\n",
      "71/71 [==============================] - 0s 2ms/step - loss: 0.9296 - accuracy: 0.6774 - val_loss: 0.8786 - val_accuracy: 0.6991\n",
      "Epoch 19/150\n",
      "71/71 [==============================] - 0s 2ms/step - loss: 0.9229 - accuracy: 0.6770 - val_loss: 0.8444 - val_accuracy: 0.7209\n",
      "Epoch 20/150\n",
      "71/71 [==============================] - 0s 2ms/step - loss: 0.9145 - accuracy: 0.6770 - val_loss: 0.8496 - val_accuracy: 0.7224\n",
      "Epoch 21/150\n",
      "71/71 [==============================] - 0s 2ms/step - loss: 0.9102 - accuracy: 0.6767 - val_loss: 0.8446 - val_accuracy: 0.7152\n",
      "Epoch 22/150\n",
      "71/71 [==============================] - 0s 2ms/step - loss: 0.9009 - accuracy: 0.6859 - val_loss: 0.8348 - val_accuracy: 0.7209\n",
      "Epoch 23/150\n",
      "71/71 [==============================] - 0s 2ms/step - loss: 0.8972 - accuracy: 0.6912 - val_loss: 0.8400 - val_accuracy: 0.7255\n",
      "Epoch 24/150\n",
      "71/71 [==============================] - 0s 3ms/step - loss: 0.8905 - accuracy: 0.6932 - val_loss: 0.8259 - val_accuracy: 0.7286\n",
      "Epoch 25/150\n",
      "71/71 [==============================] - 0s 2ms/step - loss: 0.8791 - accuracy: 0.6912 - val_loss: 0.8212 - val_accuracy: 0.7364\n",
      "Epoch 26/150\n",
      "71/71 [==============================] - 0s 2ms/step - loss: 0.8741 - accuracy: 0.6943 - val_loss: 0.8168 - val_accuracy: 0.7307\n",
      "Epoch 27/150\n",
      "71/71 [==============================] - 0s 2ms/step - loss: 0.8737 - accuracy: 0.6963 - val_loss: 0.8021 - val_accuracy: 0.7317\n",
      "Epoch 28/150\n",
      "71/71 [==============================] - 0s 2ms/step - loss: 0.8576 - accuracy: 0.7056 - val_loss: 0.8066 - val_accuracy: 0.7400\n",
      "Epoch 29/150\n",
      "71/71 [==============================] - 0s 2ms/step - loss: 0.8520 - accuracy: 0.7008 - val_loss: 0.8002 - val_accuracy: 0.7343\n",
      "Epoch 30/150\n",
      "71/71 [==============================] - 0s 3ms/step - loss: 0.8401 - accuracy: 0.7123 - val_loss: 0.8004 - val_accuracy: 0.7307\n",
      "Epoch 31/150\n",
      "71/71 [==============================] - 0s 2ms/step - loss: 0.8468 - accuracy: 0.7094 - val_loss: 0.8017 - val_accuracy: 0.7426\n",
      "Epoch 32/150\n",
      "71/71 [==============================] - 0s 2ms/step - loss: 0.8430 - accuracy: 0.7116 - val_loss: 0.7887 - val_accuracy: 0.7364\n",
      "Epoch 33/150\n",
      "71/71 [==============================] - 0s 2ms/step - loss: 0.8386 - accuracy: 0.7123 - val_loss: 0.7880 - val_accuracy: 0.7400\n",
      "Epoch 34/150\n",
      "71/71 [==============================] - 0s 2ms/step - loss: 0.8249 - accuracy: 0.7188 - val_loss: 0.7802 - val_accuracy: 0.7421\n",
      "Epoch 35/150\n",
      "71/71 [==============================] - 0s 2ms/step - loss: 0.8239 - accuracy: 0.7203 - val_loss: 0.7834 - val_accuracy: 0.7431\n",
      "Epoch 36/150\n",
      "71/71 [==============================] - 0s 2ms/step - loss: 0.8325 - accuracy: 0.7148 - val_loss: 0.7842 - val_accuracy: 0.7395\n",
      "Epoch 37/150\n",
      "71/71 [==============================] - 0s 2ms/step - loss: 0.8129 - accuracy: 0.7177 - val_loss: 0.7889 - val_accuracy: 0.7426\n",
      "Epoch 38/150\n",
      "71/71 [==============================] - 0s 2ms/step - loss: 0.8200 - accuracy: 0.7265 - val_loss: 0.7995 - val_accuracy: 0.7452\n",
      "Epoch 39/150\n",
      "71/71 [==============================] - 0s 2ms/step - loss: 0.8161 - accuracy: 0.7223 - val_loss: 0.7778 - val_accuracy: 0.7530\n",
      "Epoch 40/150\n",
      "71/71 [==============================] - 0s 2ms/step - loss: 0.8205 - accuracy: 0.7232 - val_loss: 0.7756 - val_accuracy: 0.7561\n",
      "Epoch 41/150\n",
      "71/71 [==============================] - 0s 2ms/step - loss: 0.7999 - accuracy: 0.7334 - val_loss: 0.7758 - val_accuracy: 0.7556\n",
      "Epoch 42/150\n",
      "71/71 [==============================] - 0s 2ms/step - loss: 0.8041 - accuracy: 0.7294 - val_loss: 0.7781 - val_accuracy: 0.7561\n",
      "Epoch 43/150\n",
      "71/71 [==============================] - 0s 2ms/step - loss: 0.8107 - accuracy: 0.7177 - val_loss: 0.7718 - val_accuracy: 0.7478\n",
      "Epoch 44/150\n",
      "71/71 [==============================] - 0s 2ms/step - loss: 0.7882 - accuracy: 0.7325 - val_loss: 0.7711 - val_accuracy: 0.7421\n",
      "Epoch 45/150\n",
      "71/71 [==============================] - 0s 2ms/step - loss: 0.7945 - accuracy: 0.7245 - val_loss: 0.7640 - val_accuracy: 0.7530\n",
      "Epoch 46/150\n",
      "71/71 [==============================] - 0s 2ms/step - loss: 0.7916 - accuracy: 0.7386 - val_loss: 0.7699 - val_accuracy: 0.7525\n",
      "Epoch 47/150\n",
      "71/71 [==============================] - 0s 2ms/step - loss: 0.7949 - accuracy: 0.7334 - val_loss: 0.7595 - val_accuracy: 0.7613\n",
      "Epoch 48/150\n",
      "71/71 [==============================] - 0s 2ms/step - loss: 0.7852 - accuracy: 0.7372 - val_loss: 0.7734 - val_accuracy: 0.7540\n",
      "Epoch 49/150\n",
      "71/71 [==============================] - 0s 2ms/step - loss: 0.7683 - accuracy: 0.7446 - val_loss: 0.7629 - val_accuracy: 0.7592\n",
      "Epoch 50/150\n",
      "71/71 [==============================] - 0s 2ms/step - loss: 0.7850 - accuracy: 0.7354 - val_loss: 0.7572 - val_accuracy: 0.7550\n",
      "Epoch 51/150\n",
      "71/71 [==============================] - 0s 2ms/step - loss: 0.7812 - accuracy: 0.7399 - val_loss: 0.7620 - val_accuracy: 0.7571\n",
      "Epoch 52/150\n",
      "71/71 [==============================] - 0s 2ms/step - loss: 0.7769 - accuracy: 0.7428 - val_loss: 0.7646 - val_accuracy: 0.7499\n",
      "Epoch 53/150\n",
      "71/71 [==============================] - 0s 2ms/step - loss: 0.7747 - accuracy: 0.7421 - val_loss: 0.7576 - val_accuracy: 0.7576\n",
      "Epoch 54/150\n",
      "71/71 [==============================] - 0s 2ms/step - loss: 0.7685 - accuracy: 0.7388 - val_loss: 0.7569 - val_accuracy: 0.7519\n",
      "Epoch 55/150\n",
      "71/71 [==============================] - 0s 2ms/step - loss: 0.7696 - accuracy: 0.7457 - val_loss: 0.7561 - val_accuracy: 0.7633\n",
      "Epoch 56/150\n",
      "71/71 [==============================] - 0s 2ms/step - loss: 0.7562 - accuracy: 0.7486 - val_loss: 0.7531 - val_accuracy: 0.7623\n",
      "Epoch 57/150\n",
      "71/71 [==============================] - 0s 2ms/step - loss: 0.7573 - accuracy: 0.7461 - val_loss: 0.7623 - val_accuracy: 0.7550\n",
      "Epoch 58/150\n",
      "71/71 [==============================] - 0s 2ms/step - loss: 0.7651 - accuracy: 0.7459 - val_loss: 0.7479 - val_accuracy: 0.7550\n",
      "Epoch 59/150\n",
      "71/71 [==============================] - 0s 2ms/step - loss: 0.7595 - accuracy: 0.7437 - val_loss: 0.7474 - val_accuracy: 0.7592\n",
      "Epoch 60/150\n",
      "71/71 [==============================] - 0s 2ms/step - loss: 0.7564 - accuracy: 0.7526 - val_loss: 0.7618 - val_accuracy: 0.7535\n",
      "Epoch 61/150\n",
      "71/71 [==============================] - 0s 2ms/step - loss: 0.7451 - accuracy: 0.7514 - val_loss: 0.7454 - val_accuracy: 0.7597\n",
      "Epoch 62/150\n",
      "71/71 [==============================] - 0s 2ms/step - loss: 0.7436 - accuracy: 0.7517 - val_loss: 0.7465 - val_accuracy: 0.7695\n",
      "Epoch 63/150\n",
      "71/71 [==============================] - 0s 2ms/step - loss: 0.7564 - accuracy: 0.7501 - val_loss: 0.7466 - val_accuracy: 0.7618\n",
      "Epoch 64/150\n",
      "71/71 [==============================] - 0s 2ms/step - loss: 0.7529 - accuracy: 0.7512 - val_loss: 0.7487 - val_accuracy: 0.7582\n",
      "Epoch 65/150\n",
      "71/71 [==============================] - 0s 2ms/step - loss: 0.7522 - accuracy: 0.7550 - val_loss: 0.7623 - val_accuracy: 0.7576\n",
      "Epoch 66/150\n",
      "71/71 [==============================] - 0s 2ms/step - loss: 0.7581 - accuracy: 0.7512 - val_loss: 0.7666 - val_accuracy: 0.7494\n",
      "Epoch 67/150\n",
      "71/71 [==============================] - 0s 2ms/step - loss: 0.7496 - accuracy: 0.7481 - val_loss: 0.7454 - val_accuracy: 0.7613\n",
      "Epoch 68/150\n",
      "71/71 [==============================] - 0s 2ms/step - loss: 0.7321 - accuracy: 0.7603 - val_loss: 0.7430 - val_accuracy: 0.7649\n",
      "Epoch 69/150\n",
      "71/71 [==============================] - 0s 2ms/step - loss: 0.7361 - accuracy: 0.7574 - val_loss: 0.7382 - val_accuracy: 0.7680\n",
      "Epoch 70/150\n",
      "71/71 [==============================] - 0s 2ms/step - loss: 0.7374 - accuracy: 0.7532 - val_loss: 0.7544 - val_accuracy: 0.7633\n",
      "Epoch 71/150\n",
      "71/71 [==============================] - 0s 2ms/step - loss: 0.7374 - accuracy: 0.7530 - val_loss: 0.7545 - val_accuracy: 0.7659\n",
      "Epoch 72/150\n",
      "71/71 [==============================] - 0s 2ms/step - loss: 0.7346 - accuracy: 0.7574 - val_loss: 0.7489 - val_accuracy: 0.7618\n",
      "Epoch 73/150\n",
      "71/71 [==============================] - 0s 2ms/step - loss: 0.7376 - accuracy: 0.7548 - val_loss: 0.7466 - val_accuracy: 0.7659\n",
      "Epoch 74/150\n",
      "71/71 [==============================] - 0s 2ms/step - loss: 0.7352 - accuracy: 0.7583 - val_loss: 0.7434 - val_accuracy: 0.7618\n",
      "Epoch 75/150\n",
      "71/71 [==============================] - 0s 2ms/step - loss: 0.7296 - accuracy: 0.7599 - val_loss: 0.7490 - val_accuracy: 0.7587\n",
      "Epoch 76/150\n",
      "71/71 [==============================] - 0s 2ms/step - loss: 0.7235 - accuracy: 0.7639 - val_loss: 0.7470 - val_accuracy: 0.7639\n",
      "Epoch 77/150\n",
      "71/71 [==============================] - 0s 2ms/step - loss: 0.7197 - accuracy: 0.7655 - val_loss: 0.7395 - val_accuracy: 0.7639\n",
      "Epoch 78/150\n",
      "71/71 [==============================] - 0s 2ms/step - loss: 0.7165 - accuracy: 0.7666 - val_loss: 0.7479 - val_accuracy: 0.7639\n",
      "Epoch 79/150\n",
      "71/71 [==============================] - 0s 2ms/step - loss: 0.7231 - accuracy: 0.7628 - val_loss: 0.7400 - val_accuracy: 0.7690\n",
      "Epoch 80/150\n",
      "71/71 [==============================] - 0s 2ms/step - loss: 0.7142 - accuracy: 0.7697 - val_loss: 0.7434 - val_accuracy: 0.7613\n",
      "Epoch 81/150\n",
      "71/71 [==============================] - 0s 2ms/step - loss: 0.7208 - accuracy: 0.7643 - val_loss: 0.7445 - val_accuracy: 0.7597\n",
      "Epoch 82/150\n",
      "71/71 [==============================] - 0s 2ms/step - loss: 0.7108 - accuracy: 0.7652 - val_loss: 0.7561 - val_accuracy: 0.7680\n",
      "Epoch 83/150\n",
      "71/71 [==============================] - 0s 2ms/step - loss: 0.7141 - accuracy: 0.7635 - val_loss: 0.7432 - val_accuracy: 0.7633\n",
      "Epoch 84/150\n",
      "71/71 [==============================] - 0s 2ms/step - loss: 0.7116 - accuracy: 0.7668 - val_loss: 0.7438 - val_accuracy: 0.7623\n",
      "Epoch 85/150\n",
      "71/71 [==============================] - 0s 2ms/step - loss: 0.7131 - accuracy: 0.7677 - val_loss: 0.7430 - val_accuracy: 0.7602\n",
      "Epoch 86/150\n",
      "71/71 [==============================] - 0s 2ms/step - loss: 0.7007 - accuracy: 0.7706 - val_loss: 0.7407 - val_accuracy: 0.7607\n",
      "Epoch 87/150\n",
      "71/71 [==============================] - 0s 2ms/step - loss: 0.7070 - accuracy: 0.7650 - val_loss: 0.7433 - val_accuracy: 0.7628\n",
      "Epoch 88/150\n",
      "71/71 [==============================] - 0s 2ms/step - loss: 0.7017 - accuracy: 0.7703 - val_loss: 0.7368 - val_accuracy: 0.7701\n",
      "Epoch 89/150\n",
      "71/71 [==============================] - 0s 2ms/step - loss: 0.7128 - accuracy: 0.7663 - val_loss: 0.7448 - val_accuracy: 0.7680\n",
      "Epoch 90/150\n",
      "71/71 [==============================] - 0s 2ms/step - loss: 0.7105 - accuracy: 0.7712 - val_loss: 0.7528 - val_accuracy: 0.7628\n",
      "Epoch 91/150\n",
      "71/71 [==============================] - 0s 2ms/step - loss: 0.6942 - accuracy: 0.7701 - val_loss: 0.7602 - val_accuracy: 0.7602\n",
      "Epoch 92/150\n",
      "71/71 [==============================] - 0s 2ms/step - loss: 0.6962 - accuracy: 0.7701 - val_loss: 0.7435 - val_accuracy: 0.7607\n",
      "Epoch 93/150\n",
      "71/71 [==============================] - 0s 2ms/step - loss: 0.6970 - accuracy: 0.7741 - val_loss: 0.7435 - val_accuracy: 0.7685\n",
      "Epoch 94/150\n",
      "71/71 [==============================] - 0s 2ms/step - loss: 0.7027 - accuracy: 0.7706 - val_loss: 0.7437 - val_accuracy: 0.7690\n",
      "Epoch 95/150\n",
      "71/71 [==============================] - 0s 2ms/step - loss: 0.6912 - accuracy: 0.7721 - val_loss: 0.7395 - val_accuracy: 0.7628\n",
      "Epoch 96/150\n",
      "71/71 [==============================] - 0s 2ms/step - loss: 0.7095 - accuracy: 0.7679 - val_loss: 0.7519 - val_accuracy: 0.7633\n",
      "Epoch 97/150\n",
      "71/71 [==============================] - 0s 2ms/step - loss: 0.6991 - accuracy: 0.7708 - val_loss: 0.7426 - val_accuracy: 0.7576\n",
      "Epoch 98/150\n",
      "71/71 [==============================] - 0s 2ms/step - loss: 0.6944 - accuracy: 0.7717 - val_loss: 0.7399 - val_accuracy: 0.7623\n",
      "Epoch 99/150\n",
      "71/71 [==============================] - 0s 2ms/step - loss: 0.6978 - accuracy: 0.7790 - val_loss: 0.7399 - val_accuracy: 0.7659\n",
      "Epoch 100/150\n",
      "71/71 [==============================] - 0s 2ms/step - loss: 0.6840 - accuracy: 0.7746 - val_loss: 0.7449 - val_accuracy: 0.7628\n",
      "Epoch 101/150\n",
      "71/71 [==============================] - 0s 2ms/step - loss: 0.6879 - accuracy: 0.7755 - val_loss: 0.7364 - val_accuracy: 0.7711\n",
      "Epoch 102/150\n",
      "71/71 [==============================] - 0s 2ms/step - loss: 0.6824 - accuracy: 0.7766 - val_loss: 0.7427 - val_accuracy: 0.7675\n",
      "Epoch 103/150\n",
      "71/71 [==============================] - 0s 2ms/step - loss: 0.6917 - accuracy: 0.7750 - val_loss: 0.7348 - val_accuracy: 0.7737\n",
      "Epoch 104/150\n",
      "71/71 [==============================] - 0s 2ms/step - loss: 0.6840 - accuracy: 0.7746 - val_loss: 0.7451 - val_accuracy: 0.7659\n",
      "Epoch 105/150\n",
      "71/71 [==============================] - 0s 2ms/step - loss: 0.6850 - accuracy: 0.7719 - val_loss: 0.7438 - val_accuracy: 0.7695\n",
      "Epoch 106/150\n",
      "71/71 [==============================] - 0s 2ms/step - loss: 0.6693 - accuracy: 0.7877 - val_loss: 0.7375 - val_accuracy: 0.7695\n",
      "Epoch 107/150\n",
      "71/71 [==============================] - 0s 2ms/step - loss: 0.6895 - accuracy: 0.7775 - val_loss: 0.7475 - val_accuracy: 0.7706\n",
      "Epoch 108/150\n",
      "71/71 [==============================] - 0s 2ms/step - loss: 0.6861 - accuracy: 0.7772 - val_loss: 0.7574 - val_accuracy: 0.7644\n",
      "Epoch 109/150\n",
      "71/71 [==============================] - 0s 2ms/step - loss: 0.6728 - accuracy: 0.7812 - val_loss: 0.7340 - val_accuracy: 0.7742\n",
      "Epoch 110/150\n",
      "71/71 [==============================] - 0s 2ms/step - loss: 0.6697 - accuracy: 0.7872 - val_loss: 0.7466 - val_accuracy: 0.7675\n",
      "Epoch 111/150\n",
      "71/71 [==============================] - 0s 2ms/step - loss: 0.6740 - accuracy: 0.7781 - val_loss: 0.7460 - val_accuracy: 0.7737\n",
      "Epoch 112/150\n",
      "71/71 [==============================] - 0s 2ms/step - loss: 0.6737 - accuracy: 0.7872 - val_loss: 0.7406 - val_accuracy: 0.7732\n",
      "Epoch 113/150\n",
      "71/71 [==============================] - 0s 2ms/step - loss: 0.6687 - accuracy: 0.7861 - val_loss: 0.7354 - val_accuracy: 0.7690\n",
      "Epoch 114/150\n",
      "71/71 [==============================] - 0s 2ms/step - loss: 0.6695 - accuracy: 0.7781 - val_loss: 0.7376 - val_accuracy: 0.7695\n",
      "Epoch 115/150\n",
      "71/71 [==============================] - 0s 2ms/step - loss: 0.6678 - accuracy: 0.7852 - val_loss: 0.7484 - val_accuracy: 0.7654\n",
      "Epoch 116/150\n",
      "71/71 [==============================] - 0s 2ms/step - loss: 0.6676 - accuracy: 0.7819 - val_loss: 0.7501 - val_accuracy: 0.7670\n",
      "Epoch 117/150\n",
      "71/71 [==============================] - 0s 2ms/step - loss: 0.6632 - accuracy: 0.7906 - val_loss: 0.7334 - val_accuracy: 0.7721\n",
      "Epoch 118/150\n",
      "71/71 [==============================] - 0s 2ms/step - loss: 0.6749 - accuracy: 0.7823 - val_loss: 0.7346 - val_accuracy: 0.7716\n",
      "Epoch 119/150\n",
      "71/71 [==============================] - 0s 2ms/step - loss: 0.6709 - accuracy: 0.7837 - val_loss: 0.7447 - val_accuracy: 0.7602\n",
      "Epoch 120/150\n",
      "71/71 [==============================] - 0s 2ms/step - loss: 0.6650 - accuracy: 0.7855 - val_loss: 0.7388 - val_accuracy: 0.7732\n",
      "Epoch 121/150\n",
      "71/71 [==============================] - 0s 2ms/step - loss: 0.6644 - accuracy: 0.7870 - val_loss: 0.7509 - val_accuracy: 0.7644\n",
      "Epoch 122/150\n",
      "71/71 [==============================] - 0s 2ms/step - loss: 0.6663 - accuracy: 0.7792 - val_loss: 0.7389 - val_accuracy: 0.7711\n",
      "Epoch 123/150\n",
      "71/71 [==============================] - 0s 2ms/step - loss: 0.6588 - accuracy: 0.7919 - val_loss: 0.7492 - val_accuracy: 0.7701\n",
      "Epoch 124/150\n",
      "71/71 [==============================] - 0s 2ms/step - loss: 0.6597 - accuracy: 0.7919 - val_loss: 0.7411 - val_accuracy: 0.7711\n",
      "Epoch 125/150\n",
      "71/71 [==============================] - 0s 2ms/step - loss: 0.6581 - accuracy: 0.7888 - val_loss: 0.7486 - val_accuracy: 0.7670\n",
      "Epoch 126/150\n",
      "71/71 [==============================] - 0s 2ms/step - loss: 0.6688 - accuracy: 0.7859 - val_loss: 0.7631 - val_accuracy: 0.7670\n",
      "Epoch 127/150\n",
      "71/71 [==============================] - 0s 2ms/step - loss: 0.6594 - accuracy: 0.7872 - val_loss: 0.7561 - val_accuracy: 0.7675\n",
      "Epoch 128/150\n",
      "71/71 [==============================] - 0s 2ms/step - loss: 0.6519 - accuracy: 0.7908 - val_loss: 0.7388 - val_accuracy: 0.7763\n",
      "Epoch 129/150\n",
      "71/71 [==============================] - 0s 2ms/step - loss: 0.6512 - accuracy: 0.7968 - val_loss: 0.7438 - val_accuracy: 0.7685\n",
      "Epoch 130/150\n",
      "71/71 [==============================] - 0s 2ms/step - loss: 0.6565 - accuracy: 0.7897 - val_loss: 0.7404 - val_accuracy: 0.7690\n",
      "Epoch 131/150\n",
      "71/71 [==============================] - 0s 2ms/step - loss: 0.6603 - accuracy: 0.7932 - val_loss: 0.7520 - val_accuracy: 0.7737\n",
      "Epoch 132/150\n",
      "71/71 [==============================] - 0s 2ms/step - loss: 0.6601 - accuracy: 0.7892 - val_loss: 0.7418 - val_accuracy: 0.7706\n",
      "Epoch 133/150\n",
      "71/71 [==============================] - 0s 2ms/step - loss: 0.6534 - accuracy: 0.7863 - val_loss: 0.7556 - val_accuracy: 0.7664\n",
      "Epoch 134/150\n",
      "71/71 [==============================] - 0s 2ms/step - loss: 0.6544 - accuracy: 0.7917 - val_loss: 0.7460 - val_accuracy: 0.7716\n",
      "Epoch 135/150\n",
      "71/71 [==============================] - 0s 2ms/step - loss: 0.6512 - accuracy: 0.7928 - val_loss: 0.7349 - val_accuracy: 0.7763\n",
      "Epoch 136/150\n",
      "71/71 [==============================] - 0s 2ms/step - loss: 0.6443 - accuracy: 0.7977 - val_loss: 0.7485 - val_accuracy: 0.7721\n",
      "Epoch 137/150\n",
      "71/71 [==============================] - 0s 2ms/step - loss: 0.6493 - accuracy: 0.7897 - val_loss: 0.7448 - val_accuracy: 0.7690\n",
      "Epoch 138/150\n",
      "71/71 [==============================] - 0s 2ms/step - loss: 0.6440 - accuracy: 0.7950 - val_loss: 0.7460 - val_accuracy: 0.7639\n",
      "Epoch 139/150\n",
      "71/71 [==============================] - 0s 2ms/step - loss: 0.6505 - accuracy: 0.7908 - val_loss: 0.7380 - val_accuracy: 0.7742\n",
      "Epoch 140/150\n",
      "71/71 [==============================] - 0s 2ms/step - loss: 0.6351 - accuracy: 0.7968 - val_loss: 0.7401 - val_accuracy: 0.7737\n",
      "Epoch 141/150\n",
      "71/71 [==============================] - 0s 2ms/step - loss: 0.6507 - accuracy: 0.7915 - val_loss: 0.7418 - val_accuracy: 0.7711\n",
      "Epoch 142/150\n",
      "71/71 [==============================] - 0s 2ms/step - loss: 0.6562 - accuracy: 0.7848 - val_loss: 0.7355 - val_accuracy: 0.7706\n",
      "Epoch 143/150\n",
      "71/71 [==============================] - 0s 2ms/step - loss: 0.6480 - accuracy: 0.7899 - val_loss: 0.7349 - val_accuracy: 0.7732\n",
      "Epoch 144/150\n",
      "71/71 [==============================] - 0s 2ms/step - loss: 0.6442 - accuracy: 0.7935 - val_loss: 0.7459 - val_accuracy: 0.7639\n",
      "Epoch 145/150\n",
      "71/71 [==============================] - 0s 2ms/step - loss: 0.6369 - accuracy: 0.8012 - val_loss: 0.7344 - val_accuracy: 0.7758\n",
      "Epoch 146/150\n",
      "71/71 [==============================] - 0s 2ms/step - loss: 0.6378 - accuracy: 0.7937 - val_loss: 0.7670 - val_accuracy: 0.7670\n",
      "Epoch 147/150\n",
      "71/71 [==============================] - 0s 2ms/step - loss: 0.6461 - accuracy: 0.7950 - val_loss: 0.7501 - val_accuracy: 0.7701\n",
      "Epoch 148/150\n",
      "71/71 [==============================] - 0s 2ms/step - loss: 0.6351 - accuracy: 0.7948 - val_loss: 0.7536 - val_accuracy: 0.7685\n",
      "Epoch 149/150\n",
      "71/71 [==============================] - 0s 2ms/step - loss: 0.6341 - accuracy: 0.7957 - val_loss: 0.7403 - val_accuracy: 0.7716\n",
      "Epoch 150/150\n",
      "71/71 [==============================] - 0s 2ms/step - loss: 0.6345 - accuracy: 0.7997 - val_loss: 0.7497 - val_accuracy: 0.7716\n"
     ]
    }
   ],
   "source": [
    "epochs=150\n",
    "history = model.fit(\n",
    "  train_ds,\n",
    "  validation_data=val_ds,\n",
    "  epochs=epochs\n",
    ")"
   ]
  },
  {
   "cell_type": "code",
   "execution_count": 10,
   "metadata": {},
   "outputs": [
    {
     "data": {
      "image/png": "[encoded data removed]",
      "text/plain": [
       "<Figure size 576x576 with 2 Axes>"
      ]
     },
     "metadata": {
      "needs_background": "light"
     },
     "output_type": "display_data"
    }
   ],
   "source": [
    "acc = history.history['accuracy']\n",
    "val_acc = history.history['val_accuracy']\n",
    "\n",
    "loss = history.history['loss']\n",
    "val_loss = history.history['val_loss']\n",
    "\n",
    "epochs_range = range(epochs)\n",
    "\n",
    "plt.figure(figsize=(8, 8))\n",
    "plt.subplot(1, 2, 1)\n",
    "plt.plot(epochs_range, acc, label='Training Accuracy')\n",
    "plt.plot(epochs_range, val_acc, label='Validation Accuracy')\n",
    "plt.legend(loc='lower right')\n",
    "plt.title('Training and Validation Accuracy')\n",
    "\n",
    "plt.subplot(1, 2, 2)\n",
    "plt.plot(epochs_range, loss, label='Training Loss')\n",
    "plt.plot(epochs_range, val_loss, label='Validation Loss')\n",
    "plt.legend(loc='upper right')\n",
    "plt.title('Training and Validation Loss')\n",
    "plt.show()"
   ]
  },
  {
   "cell_type": "code",
   "execution_count": 11,
   "metadata": {},
   "outputs": [
    {
     "name": "stdout",
     "output_type": "stream",
     "text": [
      "31/31 [==============================] - 0s 1ms/step - loss: 0.7497 - accuracy: 0.7716\n",
      "Test accuracy : 0.7716209292411804\n"
     ]
    }
   ],
   "source": [
    "loss, accuracy = model.evaluate(val_ds)\n",
    "print('Test accuracy :', accuracy)"
   ]
  },
  {
   "cell_type": "code",
   "execution_count": 12,
   "metadata": {},
   "outputs": [
    {
     "name": "stderr",
     "output_type": "stream",
     "text": [
      "2021-11-25 12:01:58.040047: W tensorflow/python/util/util.cc:348] Sets are not currently considered sequences, but this may change in the future, so consider avoiding using them.\n"
     ]
    },
    {
     "name": "stdout",
     "output_type": "stream",
     "text": [
      "INFO:tensorflow:Assets written to: ./data/humanModel/mode_v0/assets\n"
     ]
    }
   ],
   "source": [
    "# Save the entire model as a SavedModel.\n",
    "model.save('./data/humanModel/mode_v0')"
   ]
  },
  {
   "cell_type": "code",
   "execution_count": 13,
   "metadata": {},
   "outputs": [],
   "source": [
    "# save model in js format\n",
    "import tensorflowjs as tfjs\n",
    "tfjs.converters.save_keras_model(model, 'data/humanModel/js_model_v0')"
   ]
  },
  {
   "cell_type": "code",
   "execution_count": 14,
   "metadata": {},
   "outputs": [],
   "source": [
    "# new_model = tf.keras.models.load_model('./data/humanModel/mode_v0')\n",
    "\n",
    "# # Check its architecture\n",
    "# new_model.summary()"
   ]
  },
  {
   "cell_type": "markdown",
   "metadata": {},
   "source": [
    "### Predict on new data"
   ]
  },
  {
   "cell_type": "code",
   "execution_count": 15,
   "metadata": {},
   "outputs": [
    {
     "name": "stdout",
     "output_type": "stream",
     "text": [
      "This image most likely belongs to 39 with a 39.02 percent confidence.\n"
     ]
    }
   ],
   "source": [
    "sunflower_path = \"./data/humanModel/imagesDatabase_split/val/39/-MpIqdos7xbOmReSEoMh_10.png\"\n",
    "\n",
    "img = keras.preprocessing.image.load_img(\n",
    "    sunflower_path, target_size=(img_height, img_width)\n",
    ")\n",
    "img_array = keras.preprocessing.image.img_to_array(img)\n",
    "img_array = tf.expand_dims(img_array, 0) # Create a batch\n",
    "\n",
    "predictions = model.predict(img_array)\n",
    "score = tf.nn.softmax(predictions[0])\n",
    "print(\n",
    "    \"This image most likely belongs to {} with a {:.2f} percent confidence.\"\n",
    "    .format(class_names[np.argmax(score)], 100 * np.max(score))\n",
    ")"
   ]
  }
 ],
 "metadata": {
  "interpreter": {
   "hash": "ad60775ae12af945b53c5c94c294ef05f229143b8585a0d23625a81e181fdccc"
  },
  "kernelspec": {
   "display_name": "Python 3.7.4 64-bit ('tf-gpu': conda)",
   "name": "python3"
  },
  "language_info": {
   "codemirror_mode": {
    "name": "ipython",
    "version": 3
   },
   "file_extension": ".py",
   "mimetype": "text/x-python",
   "name": "python",
   "nbconvert_exporter": "python",
   "pygments_lexer": "ipython3",
   "version": "3.7.4"
  }
 },
 "nbformat": 4,
 "nbformat_minor": 4
}
