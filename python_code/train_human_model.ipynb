{
 "cells": [
  {
   "cell_type": "code",
   "execution_count": 1,
   "metadata": {},
   "outputs": [],
   "source": [
    "import numpy as np\n",
    "import random\n",
    "import os\n",
    "\n",
    "# ! pip install split-folders\n",
    "import splitfolders\n",
    "\n",
    "import tensorflow as tf\n",
    "from tensorflow import keras\n",
    "from tensorflow.keras import layers, regularizers\n",
    "from tensorflow.keras.models import Sequential\n",
    "\n",
    "from tensorflow.keras.preprocessing.image import ImageDataGenerator\n",
    "from tensorflow.keras.preprocessing import image\n",
    "\n",
    "import matplotlib.pyplot as plt\n",
    "\n",
    "rs = 42\n",
    "def reset_random_seeds(rs):\n",
    "   os.environ['PYTHONHASHSEED']=str(rs)\n",
    "   tf.random.set_seed(rs)\n",
    "   np.random.seed(rs)\n",
    "   random.seed(rs)\n",
    "reset_random_seeds(rs)"
   ]
  },
  {
   "cell_type": "markdown",
   "metadata": {},
   "source": [
    "# Part 1 - Data Preprocessing"
   ]
  },
  {
   "cell_type": "markdown",
   "metadata": {},
   "source": [
    "## Split into train , test data"
   ]
  },
  {
   "cell_type": "code",
   "execution_count": 2,
   "metadata": {},
   "outputs": [
    {
     "name": "stderr",
     "output_type": "stream",
     "text": [
      "Copying files: 6044 files [00:00, 16124.34 files/s]\n"
     ]
    }
   ],
   "source": [
    "# train, test split\n",
    "splitfolders.ratio('./data/humanModel/imagesDatabase/', output=\"./data/humanModel/imagesDatabase_split\", ratio=(0.7, 0.3))"
   ]
  },
  {
   "cell_type": "markdown",
   "metadata": {},
   "source": [
    "### Preprocessing the Training set"
   ]
  },
  {
   "cell_type": "code",
   "execution_count": 3,
   "metadata": {},
   "outputs": [
    {
     "name": "stdout",
     "output_type": "stream",
     "text": [
      "Found 4228 images belonging to 5 classes.\n",
      "Found 1816 images belonging to 5 classes.\n"
     ]
    }
   ],
   "source": [
    "batch_size = 64\n",
    "IMG_SIZE = 10\n",
    "\n",
    "datagen = ImageDataGenerator(rescale = 1./255)\n",
    "train = datagen.flow_from_directory('./data/humanModel/imagesDatabase_split/train',\n",
    "                                          target_size = (IMG_SIZE,IMG_SIZE), batch_size = batch_size, seed=rs, class_mode='sparse')\n",
    "\n",
    "test = datagen.flow_from_directory('./data/humanModel/imagesDatabase_split/val',\n",
    "                                            target_size = (IMG_SIZE, IMG_SIZE), batch_size = batch_size, seed=rs, class_mode='sparse')"
   ]
  },
  {
   "cell_type": "markdown",
   "metadata": {},
   "source": [
    "## View some data"
   ]
  },
  {
   "cell_type": "code",
   "execution_count": 4,
   "metadata": {},
   "outputs": [
    {
     "name": "stderr",
     "output_type": "stream",
     "text": [
      "2021-12-07 18:03:12.269575: I tensorflow/stream_executor/cuda/cuda_gpu_executor.cc:937] successful NUMA node read from SysFS had negative value (-1), but there must be at least one NUMA node, so returning NUMA node zero\n",
      "2021-12-07 18:03:12.275262: I tensorflow/stream_executor/cuda/cuda_gpu_executor.cc:937] successful NUMA node read from SysFS had negative value (-1), but there must be at least one NUMA node, so returning NUMA node zero\n",
      "2021-12-07 18:03:12.275668: I tensorflow/stream_executor/cuda/cuda_gpu_executor.cc:937] successful NUMA node read from SysFS had negative value (-1), but there must be at least one NUMA node, so returning NUMA node zero\n",
      "2021-12-07 18:03:12.276430: I tensorflow/core/platform/cpu_feature_guard.cc:142] This TensorFlow binary is optimized with oneAPI Deep Neural Network Library (oneDNN) to use the following CPU instructions in performance-critical operations:  AVX2 FMA\n",
      "To enable them in other operations, rebuild TensorFlow with the appropriate compiler flags.\n",
      "2021-12-07 18:03:12.277021: I tensorflow/stream_executor/cuda/cuda_gpu_executor.cc:937] successful NUMA node read from SysFS had negative value (-1), but there must be at least one NUMA node, so returning NUMA node zero\n",
      "2021-12-07 18:03:12.277413: I tensorflow/stream_executor/cuda/cuda_gpu_executor.cc:937] successful NUMA node read from SysFS had negative value (-1), but there must be at least one NUMA node, so returning NUMA node zero\n",
      "2021-12-07 18:03:12.277793: I tensorflow/stream_executor/cuda/cuda_gpu_executor.cc:937] successful NUMA node read from SysFS had negative value (-1), but there must be at least one NUMA node, so returning NUMA node zero\n",
      "2021-12-07 18:03:12.649072: I tensorflow/stream_executor/cuda/cuda_gpu_executor.cc:937] successful NUMA node read from SysFS had negative value (-1), but there must be at least one NUMA node, so returning NUMA node zero\n",
      "2021-12-07 18:03:12.649600: I tensorflow/stream_executor/cuda/cuda_gpu_executor.cc:937] successful NUMA node read from SysFS had negative value (-1), but there must be at least one NUMA node, so returning NUMA node zero\n",
      "2021-12-07 18:03:12.650018: I tensorflow/stream_executor/cuda/cuda_gpu_executor.cc:937] successful NUMA node read from SysFS had negative value (-1), but there must be at least one NUMA node, so returning NUMA node zero\n",
      "2021-12-07 18:03:12.650461: I tensorflow/core/common_runtime/gpu/gpu_device.cc:1510] Created device /job:localhost/replica:0/task:0/device:GPU:0 with 11124 MB memory:  -> device: 0, name: NVIDIA TITAN X (Pascal), pci bus id: 0000:01:00.0, compute capability: 6.1\n"
     ]
    }
   ],
   "source": [
    "num_classes = 5\n",
    "\n",
    "model = Sequential([\n",
    "  # layers.GaussianNoise(0.2),\n",
    "  layers.Conv2D(8, 4, padding='same', activation='relu', kernel_regularizer=regularizers.l2(0.001), input_shape=[IMG_SIZE,IMG_SIZE,3]),\n",
    "  layers.Conv2D(16, 4, padding='same', activation='relu', kernel_regularizer=regularizers.l2(0.001)),\n",
    "  layers.Conv2D(16, 3, padding='same', activation='relu', kernel_regularizer=regularizers.l2(0.001)),\n",
    "  layers.MaxPooling2D(),\n",
    "  layers.Conv2D(8, 3, padding='same', activation='relu', kernel_regularizer=regularizers.l2(0.001)),\n",
    "  layers.Dropout(0.5),\n",
    "  layers.Flatten(),\n",
    "  layers.Dense(32, activation='relu', kernel_regularizer=regularizers.l2(0.001)),\n",
    "  layers.Dense(num_classes, activation='softmax')\n",
    "])"
   ]
  },
  {
   "cell_type": "code",
   "execution_count": 5,
   "metadata": {},
   "outputs": [],
   "source": [
    "model.compile(optimizer='adam',\n",
    "              loss=tf.keras.losses.SparseCategoricalCrossentropy(from_logits=True),\n",
    "              metrics=['accuracy'])"
   ]
  },
  {
   "cell_type": "code",
   "execution_count": 6,
   "metadata": {},
   "outputs": [
    {
     "name": "stdout",
     "output_type": "stream",
     "text": [
      "Model: \"sequential\"\n",
      "_________________________________________________________________\n",
      "Layer (type)                 Output Shape              Param #   \n",
      "=================================================================\n",
      "conv2d (Conv2D)              (None, 10, 10, 8)         392       \n",
      "_________________________________________________________________\n",
      "conv2d_1 (Conv2D)            (None, 10, 10, 16)        2064      \n",
      "_________________________________________________________________\n",
      "conv2d_2 (Conv2D)            (None, 10, 10, 16)        2320      \n",
      "_________________________________________________________________\n",
      "max_pooling2d (MaxPooling2D) (None, 5, 5, 16)          0         \n",
      "_________________________________________________________________\n",
      "conv2d_3 (Conv2D)            (None, 5, 5, 8)           1160      \n",
      "_________________________________________________________________\n",
      "dropout (Dropout)            (None, 5, 5, 8)           0         \n",
      "_________________________________________________________________\n",
      "flatten (Flatten)            (None, 200)               0         \n",
      "_________________________________________________________________\n",
      "dense (Dense)                (None, 32)                6432      \n",
      "_________________________________________________________________\n",
      "dense_1 (Dense)              (None, 5)                 165       \n",
      "=================================================================\n",
      "Total params: 12,533\n",
      "Trainable params: 12,533\n",
      "Non-trainable params: 0\n",
      "_________________________________________________________________\n"
     ]
    }
   ],
   "source": [
    "model.summary()"
   ]
  },
  {
   "cell_type": "code",
   "execution_count": 7,
   "metadata": {
    "scrolled": true
   },
   "outputs": [
    {
     "name": "stdout",
     "output_type": "stream",
     "text": [
      "Epoch 1/150\n"
     ]
    },
    {
     "name": "stderr",
     "output_type": "stream",
     "text": [
      "2021-12-07 18:03:12.952871: I tensorflow/compiler/mlir/mlir_graph_optimization_pass.cc:185] None of the MLIR Optimization Passes are enabled (registered 2)\n",
      "/home/ido/anaconda3/envs/tf-gpu/lib/python3.7/site-packages/keras/backend.py:4907: UserWarning: \"`sparse_categorical_crossentropy` received `from_logits=True`, but the `output` argument was produced by a sigmoid or softmax activation and thus does not represent logits. Was this intended?\"\n",
      "  '\"`sparse_categorical_crossentropy` received `from_logits=True`, but '\n",
      "2021-12-07 18:03:13.757717: I tensorflow/stream_executor/cuda/cuda_dnn.cc:369] Loaded cuDNN version 8300\n"
     ]
    },
    {
     "name": "stdout",
     "output_type": "stream",
     "text": [
      "67/67 [==============================] - 2s 15ms/step - loss: 1.6523 - accuracy: 0.2628 - val_loss: 1.5813 - val_accuracy: 0.3778\n",
      "Epoch 2/150\n",
      "67/67 [==============================] - 1s 13ms/step - loss: 1.4518 - accuracy: 0.4014 - val_loss: 1.2963 - val_accuracy: 0.4857\n",
      "Epoch 3/150\n",
      "67/67 [==============================] - 1s 12ms/step - loss: 1.2681 - accuracy: 0.5026 - val_loss: 1.1529 - val_accuracy: 0.6151\n",
      "Epoch 4/150\n",
      "67/67 [==============================] - 1s 12ms/step - loss: 1.1734 - accuracy: 0.5639 - val_loss: 1.1252 - val_accuracy: 0.5964\n",
      "Epoch 5/150\n",
      "67/67 [==============================] - 1s 12ms/step - loss: 1.1214 - accuracy: 0.5948 - val_loss: 1.0503 - val_accuracy: 0.6525\n",
      "Epoch 6/150\n",
      "67/67 [==============================] - 1s 12ms/step - loss: 1.0959 - accuracy: 0.6114 - val_loss: 1.0302 - val_accuracy: 0.6564\n",
      "Epoch 7/150\n",
      "67/67 [==============================] - 1s 12ms/step - loss: 1.0544 - accuracy: 0.6244 - val_loss: 1.0045 - val_accuracy: 0.6751\n",
      "Epoch 8/150\n",
      "67/67 [==============================] - 1s 12ms/step - loss: 1.0206 - accuracy: 0.6372 - val_loss: 0.9992 - val_accuracy: 0.6591\n",
      "Epoch 9/150\n",
      "67/67 [==============================] - 1s 12ms/step - loss: 1.0257 - accuracy: 0.6320 - val_loss: 0.9559 - val_accuracy: 0.6944\n",
      "Epoch 10/150\n",
      "67/67 [==============================] - 1s 12ms/step - loss: 0.9878 - accuracy: 0.6580 - val_loss: 0.9568 - val_accuracy: 0.6740\n",
      "Epoch 11/150\n",
      "67/67 [==============================] - 1s 11ms/step - loss: 0.9628 - accuracy: 0.6705 - val_loss: 0.9317 - val_accuracy: 0.6900\n",
      "Epoch 12/150\n",
      "67/67 [==============================] - 1s 12ms/step - loss: 0.9481 - accuracy: 0.6793 - val_loss: 0.9060 - val_accuracy: 0.7037\n",
      "Epoch 13/150\n",
      "67/67 [==============================] - 1s 12ms/step - loss: 0.9361 - accuracy: 0.6798 - val_loss: 0.9310 - val_accuracy: 0.6971\n",
      "Epoch 14/150\n",
      "67/67 [==============================] - 1s 12ms/step - loss: 0.9353 - accuracy: 0.6760 - val_loss: 0.9057 - val_accuracy: 0.7026\n",
      "Epoch 15/150\n",
      "67/67 [==============================] - 1s 11ms/step - loss: 0.9113 - accuracy: 0.6916 - val_loss: 0.8987 - val_accuracy: 0.6955\n",
      "Epoch 16/150\n",
      "67/67 [==============================] - 1s 11ms/step - loss: 0.9003 - accuracy: 0.6939 - val_loss: 0.9283 - val_accuracy: 0.6878\n",
      "Epoch 17/150\n",
      "67/67 [==============================] - 1s 11ms/step - loss: 0.9071 - accuracy: 0.6975 - val_loss: 0.8733 - val_accuracy: 0.7048\n",
      "Epoch 18/150\n",
      "67/67 [==============================] - 1s 11ms/step - loss: 0.8959 - accuracy: 0.7013 - val_loss: 0.8735 - val_accuracy: 0.7175\n",
      "Epoch 19/150\n",
      "67/67 [==============================] - 1s 11ms/step - loss: 0.8820 - accuracy: 0.7074 - val_loss: 0.8595 - val_accuracy: 0.7175\n",
      "Epoch 20/150\n",
      "67/67 [==============================] - 1s 11ms/step - loss: 0.8733 - accuracy: 0.7046 - val_loss: 0.8674 - val_accuracy: 0.7070\n",
      "Epoch 21/150\n",
      "67/67 [==============================] - 1s 12ms/step - loss: 0.8555 - accuracy: 0.7117 - val_loss: 0.8582 - val_accuracy: 0.7197\n",
      "Epoch 22/150\n",
      "67/67 [==============================] - 1s 12ms/step - loss: 0.8580 - accuracy: 0.7159 - val_loss: 0.8529 - val_accuracy: 0.7230\n",
      "Epoch 23/150\n",
      "67/67 [==============================] - 1s 11ms/step - loss: 0.8406 - accuracy: 0.7207 - val_loss: 0.8417 - val_accuracy: 0.7186\n",
      "Epoch 24/150\n",
      "67/67 [==============================] - 1s 12ms/step - loss: 0.8451 - accuracy: 0.7216 - val_loss: 0.8318 - val_accuracy: 0.7269\n",
      "Epoch 25/150\n",
      "67/67 [==============================] - 1s 11ms/step - loss: 0.8415 - accuracy: 0.7235 - val_loss: 0.8251 - val_accuracy: 0.7285\n",
      "Epoch 26/150\n",
      "67/67 [==============================] - 1s 12ms/step - loss: 0.8309 - accuracy: 0.7204 - val_loss: 0.8476 - val_accuracy: 0.7164\n",
      "Epoch 27/150\n",
      "67/67 [==============================] - 1s 12ms/step - loss: 0.8219 - accuracy: 0.7294 - val_loss: 0.8429 - val_accuracy: 0.7142\n",
      "Epoch 28/150\n",
      "67/67 [==============================] - 1s 11ms/step - loss: 0.8115 - accuracy: 0.7384 - val_loss: 0.8616 - val_accuracy: 0.7164\n",
      "Epoch 29/150\n",
      "67/67 [==============================] - 1s 12ms/step - loss: 0.8155 - accuracy: 0.7297 - val_loss: 0.8154 - val_accuracy: 0.7241\n",
      "Epoch 30/150\n",
      "67/67 [==============================] - 1s 12ms/step - loss: 0.8087 - accuracy: 0.7349 - val_loss: 0.8069 - val_accuracy: 0.7357\n",
      "Epoch 31/150\n",
      "67/67 [==============================] - 1s 11ms/step - loss: 0.8005 - accuracy: 0.7308 - val_loss: 0.8071 - val_accuracy: 0.7351\n",
      "Epoch 32/150\n",
      "67/67 [==============================] - 1s 12ms/step - loss: 0.7886 - accuracy: 0.7427 - val_loss: 0.8030 - val_accuracy: 0.7379\n",
      "Epoch 33/150\n",
      "67/67 [==============================] - 1s 12ms/step - loss: 0.8012 - accuracy: 0.7360 - val_loss: 0.8071 - val_accuracy: 0.7362\n",
      "Epoch 34/150\n",
      "67/67 [==============================] - 1s 12ms/step - loss: 0.7864 - accuracy: 0.7424 - val_loss: 0.8181 - val_accuracy: 0.7291\n",
      "Epoch 35/150\n",
      "67/67 [==============================] - 1s 11ms/step - loss: 0.7800 - accuracy: 0.7495 - val_loss: 0.8061 - val_accuracy: 0.7395\n",
      "Epoch 36/150\n",
      "67/67 [==============================] - 1s 12ms/step - loss: 0.7879 - accuracy: 0.7441 - val_loss: 0.7993 - val_accuracy: 0.7439\n",
      "Epoch 37/150\n",
      "67/67 [==============================] - 1s 12ms/step - loss: 0.7684 - accuracy: 0.7561 - val_loss: 0.8001 - val_accuracy: 0.7362\n",
      "Epoch 38/150\n",
      "67/67 [==============================] - 1s 12ms/step - loss: 0.7703 - accuracy: 0.7583 - val_loss: 0.8097 - val_accuracy: 0.7335\n",
      "Epoch 39/150\n",
      "67/67 [==============================] - 1s 12ms/step - loss: 0.7699 - accuracy: 0.7505 - val_loss: 0.8287 - val_accuracy: 0.7313\n",
      "Epoch 40/150\n",
      "67/67 [==============================] - 1s 12ms/step - loss: 0.7637 - accuracy: 0.7533 - val_loss: 0.8365 - val_accuracy: 0.7274\n",
      "Epoch 41/150\n",
      "67/67 [==============================] - 1s 12ms/step - loss: 0.7669 - accuracy: 0.7469 - val_loss: 0.8012 - val_accuracy: 0.7390\n",
      "Epoch 42/150\n",
      "67/67 [==============================] - 1s 12ms/step - loss: 0.7654 - accuracy: 0.7521 - val_loss: 0.8017 - val_accuracy: 0.7434\n",
      "Epoch 43/150\n",
      "67/67 [==============================] - 1s 11ms/step - loss: 0.7457 - accuracy: 0.7644 - val_loss: 0.8116 - val_accuracy: 0.7439\n",
      "Epoch 44/150\n",
      "67/67 [==============================] - 1s 11ms/step - loss: 0.7374 - accuracy: 0.7675 - val_loss: 0.8018 - val_accuracy: 0.7417\n",
      "Epoch 45/150\n",
      "67/67 [==============================] - 1s 11ms/step - loss: 0.7437 - accuracy: 0.7609 - val_loss: 0.7931 - val_accuracy: 0.7379\n",
      "Epoch 46/150\n",
      "67/67 [==============================] - 1s 12ms/step - loss: 0.7541 - accuracy: 0.7559 - val_loss: 0.7843 - val_accuracy: 0.7483\n",
      "Epoch 47/150\n",
      "67/67 [==============================] - 1s 11ms/step - loss: 0.7440 - accuracy: 0.7625 - val_loss: 0.8042 - val_accuracy: 0.7401\n",
      "Epoch 48/150\n",
      "67/67 [==============================] - 1s 11ms/step - loss: 0.7531 - accuracy: 0.7604 - val_loss: 0.7960 - val_accuracy: 0.7417\n",
      "Epoch 49/150\n",
      "67/67 [==============================] - 1s 11ms/step - loss: 0.7309 - accuracy: 0.7666 - val_loss: 0.7843 - val_accuracy: 0.7472\n",
      "Epoch 50/150\n",
      "67/67 [==============================] - 1s 11ms/step - loss: 0.7341 - accuracy: 0.7663 - val_loss: 0.7882 - val_accuracy: 0.7450\n",
      "Epoch 51/150\n",
      "67/67 [==============================] - 1s 12ms/step - loss: 0.7298 - accuracy: 0.7663 - val_loss: 0.7821 - val_accuracy: 0.7511\n",
      "Epoch 52/150\n",
      "67/67 [==============================] - 1s 12ms/step - loss: 0.7251 - accuracy: 0.7715 - val_loss: 0.7852 - val_accuracy: 0.7539\n",
      "Epoch 53/150\n",
      "67/67 [==============================] - 1s 11ms/step - loss: 0.7111 - accuracy: 0.7760 - val_loss: 0.7927 - val_accuracy: 0.7489\n",
      "Epoch 54/150\n",
      "67/67 [==============================] - 1s 12ms/step - loss: 0.7228 - accuracy: 0.7694 - val_loss: 0.8509 - val_accuracy: 0.7186\n",
      "Epoch 55/150\n",
      "67/67 [==============================] - 1s 11ms/step - loss: 0.7440 - accuracy: 0.7609 - val_loss: 0.8188 - val_accuracy: 0.7445\n",
      "Epoch 56/150\n",
      "67/67 [==============================] - 1s 12ms/step - loss: 0.7467 - accuracy: 0.7637 - val_loss: 0.7890 - val_accuracy: 0.7412\n",
      "Epoch 57/150\n",
      "67/67 [==============================] - 1s 13ms/step - loss: 0.7261 - accuracy: 0.7706 - val_loss: 0.7778 - val_accuracy: 0.7390\n",
      "Epoch 58/150\n",
      "67/67 [==============================] - 1s 12ms/step - loss: 0.7070 - accuracy: 0.7753 - val_loss: 0.7748 - val_accuracy: 0.7528\n",
      "Epoch 59/150\n",
      "67/67 [==============================] - 1s 11ms/step - loss: 0.7059 - accuracy: 0.7772 - val_loss: 0.7968 - val_accuracy: 0.7412\n",
      "Epoch 60/150\n",
      "67/67 [==============================] - 1s 12ms/step - loss: 0.7151 - accuracy: 0.7763 - val_loss: 0.8073 - val_accuracy: 0.7500\n",
      "Epoch 61/150\n",
      "67/67 [==============================] - 1s 12ms/step - loss: 0.7030 - accuracy: 0.7767 - val_loss: 0.8144 - val_accuracy: 0.7329\n",
      "Epoch 62/150\n",
      "67/67 [==============================] - 1s 12ms/step - loss: 0.7366 - accuracy: 0.7651 - val_loss: 0.7830 - val_accuracy: 0.7500\n",
      "Epoch 63/150\n",
      "67/67 [==============================] - 1s 12ms/step - loss: 0.6996 - accuracy: 0.7770 - val_loss: 0.7765 - val_accuracy: 0.7489\n",
      "Epoch 64/150\n",
      "67/67 [==============================] - 1s 12ms/step - loss: 0.6916 - accuracy: 0.7800 - val_loss: 0.7930 - val_accuracy: 0.7539\n",
      "Epoch 65/150\n",
      "67/67 [==============================] - 1s 12ms/step - loss: 0.7050 - accuracy: 0.7833 - val_loss: 0.7864 - val_accuracy: 0.7555\n",
      "Epoch 66/150\n",
      "67/67 [==============================] - 1s 12ms/step - loss: 0.7077 - accuracy: 0.7751 - val_loss: 0.7932 - val_accuracy: 0.7478\n",
      "Epoch 67/150\n",
      "67/67 [==============================] - 1s 12ms/step - loss: 0.6868 - accuracy: 0.7822 - val_loss: 0.7955 - val_accuracy: 0.7467\n",
      "Epoch 68/150\n",
      "67/67 [==============================] - 1s 11ms/step - loss: 0.6895 - accuracy: 0.7770 - val_loss: 0.7721 - val_accuracy: 0.7583\n",
      "Epoch 69/150\n",
      "67/67 [==============================] - 1s 12ms/step - loss: 0.6917 - accuracy: 0.7826 - val_loss: 0.7800 - val_accuracy: 0.7539\n",
      "Epoch 70/150\n",
      "67/67 [==============================] - 1s 11ms/step - loss: 0.6822 - accuracy: 0.7850 - val_loss: 0.8153 - val_accuracy: 0.7489\n",
      "Epoch 71/150\n",
      "67/67 [==============================] - 1s 12ms/step - loss: 0.6869 - accuracy: 0.7862 - val_loss: 0.7880 - val_accuracy: 0.7561\n",
      "Epoch 72/150\n",
      "67/67 [==============================] - 1s 12ms/step - loss: 0.6731 - accuracy: 0.7878 - val_loss: 0.7793 - val_accuracy: 0.7638\n",
      "Epoch 73/150\n",
      "67/67 [==============================] - 1s 11ms/step - loss: 0.6864 - accuracy: 0.7841 - val_loss: 0.7820 - val_accuracy: 0.7494\n",
      "Epoch 74/150\n",
      "67/67 [==============================] - 1s 11ms/step - loss: 0.6794 - accuracy: 0.7933 - val_loss: 0.7773 - val_accuracy: 0.7517\n",
      "Epoch 75/150\n",
      "67/67 [==============================] - 1s 12ms/step - loss: 0.6805 - accuracy: 0.7841 - val_loss: 0.8085 - val_accuracy: 0.7550\n",
      "Epoch 76/150\n",
      "67/67 [==============================] - 1s 12ms/step - loss: 0.6880 - accuracy: 0.7867 - val_loss: 0.7996 - val_accuracy: 0.7572\n",
      "Epoch 77/150\n",
      "67/67 [==============================] - 1s 12ms/step - loss: 0.6799 - accuracy: 0.7883 - val_loss: 0.7722 - val_accuracy: 0.7594\n",
      "Epoch 78/150\n",
      "67/67 [==============================] - 1s 12ms/step - loss: 0.6656 - accuracy: 0.7961 - val_loss: 0.7650 - val_accuracy: 0.7654\n",
      "Epoch 79/150\n",
      "67/67 [==============================] - 1s 12ms/step - loss: 0.6626 - accuracy: 0.8001 - val_loss: 0.7825 - val_accuracy: 0.7500\n",
      "Epoch 80/150\n",
      "67/67 [==============================] - 1s 12ms/step - loss: 0.6687 - accuracy: 0.7926 - val_loss: 0.7923 - val_accuracy: 0.7506\n",
      "Epoch 81/150\n",
      "67/67 [==============================] - 1s 12ms/step - loss: 0.6847 - accuracy: 0.7895 - val_loss: 0.7744 - val_accuracy: 0.7528\n",
      "Epoch 82/150\n",
      "67/67 [==============================] - 1s 11ms/step - loss: 0.6682 - accuracy: 0.7852 - val_loss: 0.7742 - val_accuracy: 0.7594\n",
      "Epoch 83/150\n",
      "67/67 [==============================] - 1s 12ms/step - loss: 0.6585 - accuracy: 0.7945 - val_loss: 0.7656 - val_accuracy: 0.7660\n",
      "Epoch 84/150\n",
      "67/67 [==============================] - 1s 11ms/step - loss: 0.6559 - accuracy: 0.8004 - val_loss: 0.7774 - val_accuracy: 0.7577\n",
      "Epoch 85/150\n",
      "67/67 [==============================] - 1s 13ms/step - loss: 0.6825 - accuracy: 0.7886 - val_loss: 0.7730 - val_accuracy: 0.7566\n",
      "Epoch 86/150\n",
      "67/67 [==============================] - 1s 12ms/step - loss: 0.6537 - accuracy: 0.7961 - val_loss: 0.7832 - val_accuracy: 0.7610\n",
      "Epoch 87/150\n",
      "67/67 [==============================] - 1s 12ms/step - loss: 0.6562 - accuracy: 0.7964 - val_loss: 0.7824 - val_accuracy: 0.7522\n",
      "Epoch 88/150\n",
      "67/67 [==============================] - 1s 11ms/step - loss: 0.6584 - accuracy: 0.7890 - val_loss: 0.7734 - val_accuracy: 0.7517\n",
      "Epoch 89/150\n",
      "67/67 [==============================] - 1s 12ms/step - loss: 0.6675 - accuracy: 0.7942 - val_loss: 0.7743 - val_accuracy: 0.7511\n",
      "Epoch 90/150\n",
      "67/67 [==============================] - 1s 12ms/step - loss: 0.6476 - accuracy: 0.7966 - val_loss: 0.8031 - val_accuracy: 0.7550\n",
      "Epoch 91/150\n",
      "67/67 [==============================] - 1s 12ms/step - loss: 0.6453 - accuracy: 0.7978 - val_loss: 0.8590 - val_accuracy: 0.7533\n",
      "Epoch 92/150\n",
      "67/67 [==============================] - 1s 12ms/step - loss: 0.6418 - accuracy: 0.7982 - val_loss: 0.7901 - val_accuracy: 0.7572\n",
      "Epoch 93/150\n",
      "67/67 [==============================] - 1s 12ms/step - loss: 0.6622 - accuracy: 0.7912 - val_loss: 0.8116 - val_accuracy: 0.7434\n",
      "Epoch 94/150\n",
      "67/67 [==============================] - 1s 11ms/step - loss: 0.6449 - accuracy: 0.8027 - val_loss: 0.8333 - val_accuracy: 0.7467\n",
      "Epoch 95/150\n",
      "67/67 [==============================] - 1s 12ms/step - loss: 0.6676 - accuracy: 0.7945 - val_loss: 0.7745 - val_accuracy: 0.7588\n",
      "Epoch 96/150\n",
      "67/67 [==============================] - 1s 12ms/step - loss: 0.6441 - accuracy: 0.8030 - val_loss: 0.7967 - val_accuracy: 0.7478\n",
      "Epoch 97/150\n",
      "67/67 [==============================] - 1s 12ms/step - loss: 0.6340 - accuracy: 0.8058 - val_loss: 0.8185 - val_accuracy: 0.7583\n",
      "Epoch 98/150\n",
      "67/67 [==============================] - 1s 12ms/step - loss: 0.6349 - accuracy: 0.8044 - val_loss: 0.7919 - val_accuracy: 0.7561\n",
      "Epoch 99/150\n",
      "67/67 [==============================] - 1s 11ms/step - loss: 0.6494 - accuracy: 0.8075 - val_loss: 0.8090 - val_accuracy: 0.7528\n",
      "Epoch 100/150\n",
      "67/67 [==============================] - 1s 11ms/step - loss: 0.6381 - accuracy: 0.8103 - val_loss: 0.7786 - val_accuracy: 0.7456\n",
      "Epoch 101/150\n",
      "67/67 [==============================] - 1s 12ms/step - loss: 0.6353 - accuracy: 0.8061 - val_loss: 0.7984 - val_accuracy: 0.7610\n",
      "Epoch 102/150\n",
      "67/67 [==============================] - 1s 12ms/step - loss: 0.6344 - accuracy: 0.8072 - val_loss: 0.7875 - val_accuracy: 0.7616\n",
      "Epoch 103/150\n",
      "67/67 [==============================] - 1s 11ms/step - loss: 0.6453 - accuracy: 0.8004 - val_loss: 0.7875 - val_accuracy: 0.7599\n",
      "Epoch 104/150\n",
      "67/67 [==============================] - 1s 12ms/step - loss: 0.6276 - accuracy: 0.8035 - val_loss: 0.7879 - val_accuracy: 0.7583\n",
      "Epoch 105/150\n",
      "67/67 [==============================] - 1s 12ms/step - loss: 0.6313 - accuracy: 0.8013 - val_loss: 0.7779 - val_accuracy: 0.7643\n",
      "Epoch 106/150\n",
      "67/67 [==============================] - 1s 12ms/step - loss: 0.6286 - accuracy: 0.8072 - val_loss: 0.7757 - val_accuracy: 0.7665\n",
      "Epoch 107/150\n",
      "67/67 [==============================] - 1s 12ms/step - loss: 0.6242 - accuracy: 0.8077 - val_loss: 0.7771 - val_accuracy: 0.7550\n",
      "Epoch 108/150\n",
      "67/67 [==============================] - 1s 12ms/step - loss: 0.6276 - accuracy: 0.8089 - val_loss: 0.7770 - val_accuracy: 0.7649\n",
      "Epoch 109/150\n",
      "67/67 [==============================] - 1s 12ms/step - loss: 0.6260 - accuracy: 0.8096 - val_loss: 0.8103 - val_accuracy: 0.7610\n",
      "Epoch 110/150\n",
      "67/67 [==============================] - 1s 11ms/step - loss: 0.6172 - accuracy: 0.8143 - val_loss: 0.7675 - val_accuracy: 0.7583\n",
      "Epoch 111/150\n",
      "67/67 [==============================] - 1s 12ms/step - loss: 0.6169 - accuracy: 0.8176 - val_loss: 0.7903 - val_accuracy: 0.7649\n",
      "Epoch 112/150\n",
      "67/67 [==============================] - 1s 11ms/step - loss: 0.6341 - accuracy: 0.8084 - val_loss: 0.7794 - val_accuracy: 0.7627\n",
      "Epoch 113/150\n",
      "67/67 [==============================] - 1s 12ms/step - loss: 0.6632 - accuracy: 0.7964 - val_loss: 0.7870 - val_accuracy: 0.7566\n",
      "Epoch 114/150\n",
      "67/67 [==============================] - 1s 12ms/step - loss: 0.6851 - accuracy: 0.7857 - val_loss: 0.8014 - val_accuracy: 0.7588\n",
      "Epoch 115/150\n",
      "67/67 [==============================] - 1s 12ms/step - loss: 0.6246 - accuracy: 0.8063 - val_loss: 0.8040 - val_accuracy: 0.7577\n",
      "Epoch 116/150\n",
      "67/67 [==============================] - 1s 11ms/step - loss: 0.6193 - accuracy: 0.8075 - val_loss: 0.8134 - val_accuracy: 0.7572\n",
      "Epoch 117/150\n",
      "67/67 [==============================] - 1s 12ms/step - loss: 0.6144 - accuracy: 0.8143 - val_loss: 0.7945 - val_accuracy: 0.7605\n",
      "Epoch 118/150\n",
      "67/67 [==============================] - 1s 12ms/step - loss: 0.6248 - accuracy: 0.8068 - val_loss: 0.7898 - val_accuracy: 0.7605\n",
      "Epoch 119/150\n",
      "67/67 [==============================] - 1s 12ms/step - loss: 0.6070 - accuracy: 0.8141 - val_loss: 0.7935 - val_accuracy: 0.7632\n",
      "Epoch 120/150\n",
      "67/67 [==============================] - 1s 12ms/step - loss: 0.6174 - accuracy: 0.8105 - val_loss: 0.7767 - val_accuracy: 0.7616\n",
      "Epoch 121/150\n",
      "67/67 [==============================] - 1s 11ms/step - loss: 0.6489 - accuracy: 0.8009 - val_loss: 0.7745 - val_accuracy: 0.7594\n",
      "Epoch 122/150\n",
      "67/67 [==============================] - 1s 12ms/step - loss: 0.6288 - accuracy: 0.8101 - val_loss: 0.7920 - val_accuracy: 0.7616\n",
      "Epoch 123/150\n",
      "67/67 [==============================] - 1s 12ms/step - loss: 0.6121 - accuracy: 0.8113 - val_loss: 0.7883 - val_accuracy: 0.7676\n",
      "Epoch 124/150\n",
      "67/67 [==============================] - 1s 12ms/step - loss: 0.6717 - accuracy: 0.7930 - val_loss: 0.8028 - val_accuracy: 0.7533\n",
      "Epoch 125/150\n",
      "67/67 [==============================] - 1s 12ms/step - loss: 0.6105 - accuracy: 0.8115 - val_loss: 0.7952 - val_accuracy: 0.7643\n",
      "Epoch 126/150\n",
      "67/67 [==============================] - 1s 12ms/step - loss: 0.6084 - accuracy: 0.8162 - val_loss: 0.7822 - val_accuracy: 0.7649\n",
      "Epoch 127/150\n",
      "67/67 [==============================] - 1s 12ms/step - loss: 0.5962 - accuracy: 0.8200 - val_loss: 0.8138 - val_accuracy: 0.7594\n",
      "Epoch 128/150\n",
      "67/67 [==============================] - 1s 11ms/step - loss: 0.6011 - accuracy: 0.8205 - val_loss: 0.8116 - val_accuracy: 0.7599\n",
      "Epoch 129/150\n",
      "67/67 [==============================] - 1s 12ms/step - loss: 0.5956 - accuracy: 0.8262 - val_loss: 0.7901 - val_accuracy: 0.7665\n",
      "Epoch 130/150\n",
      "67/67 [==============================] - 1s 11ms/step - loss: 0.6079 - accuracy: 0.8193 - val_loss: 0.8077 - val_accuracy: 0.7544\n",
      "Epoch 131/150\n",
      "67/67 [==============================] - 1s 12ms/step - loss: 0.6047 - accuracy: 0.8176 - val_loss: 0.7967 - val_accuracy: 0.7561\n",
      "Epoch 132/150\n",
      "67/67 [==============================] - 1s 12ms/step - loss: 0.5930 - accuracy: 0.8236 - val_loss: 0.8241 - val_accuracy: 0.7632\n",
      "Epoch 133/150\n",
      "67/67 [==============================] - 1s 12ms/step - loss: 0.5959 - accuracy: 0.8167 - val_loss: 0.7906 - val_accuracy: 0.7638\n",
      "Epoch 134/150\n",
      "67/67 [==============================] - 1s 12ms/step - loss: 0.5969 - accuracy: 0.8205 - val_loss: 0.7898 - val_accuracy: 0.7687\n",
      "Epoch 135/150\n",
      "67/67 [==============================] - 1s 12ms/step - loss: 0.6005 - accuracy: 0.8200 - val_loss: 0.7775 - val_accuracy: 0.7676\n",
      "Epoch 136/150\n",
      "67/67 [==============================] - 1s 11ms/step - loss: 0.6008 - accuracy: 0.8198 - val_loss: 0.7876 - val_accuracy: 0.7610\n",
      "Epoch 137/150\n",
      "67/67 [==============================] - 1s 12ms/step - loss: 0.5913 - accuracy: 0.8245 - val_loss: 0.7940 - val_accuracy: 0.7687\n",
      "Epoch 138/150\n",
      "67/67 [==============================] - 1s 12ms/step - loss: 0.6002 - accuracy: 0.8207 - val_loss: 0.7890 - val_accuracy: 0.7649\n",
      "Epoch 139/150\n",
      "67/67 [==============================] - 1s 12ms/step - loss: 0.5886 - accuracy: 0.8257 - val_loss: 0.8102 - val_accuracy: 0.7566\n",
      "Epoch 140/150\n",
      "67/67 [==============================] - 1s 11ms/step - loss: 0.5815 - accuracy: 0.8250 - val_loss: 0.7919 - val_accuracy: 0.7621\n",
      "Epoch 141/150\n",
      "67/67 [==============================] - 1s 12ms/step - loss: 0.5826 - accuracy: 0.8245 - val_loss: 0.8005 - val_accuracy: 0.7561\n",
      "Epoch 142/150\n",
      "67/67 [==============================] - 1s 11ms/step - loss: 0.6148 - accuracy: 0.8186 - val_loss: 0.7891 - val_accuracy: 0.7638\n",
      "Epoch 143/150\n",
      "67/67 [==============================] - 1s 12ms/step - loss: 0.5851 - accuracy: 0.8290 - val_loss: 0.8224 - val_accuracy: 0.7472\n",
      "Epoch 144/150\n",
      "67/67 [==============================] - 1s 11ms/step - loss: 0.5951 - accuracy: 0.8179 - val_loss: 0.8123 - val_accuracy: 0.7627\n",
      "Epoch 145/150\n",
      "67/67 [==============================] - 1s 12ms/step - loss: 0.5822 - accuracy: 0.8228 - val_loss: 0.7902 - val_accuracy: 0.7610\n",
      "Epoch 146/150\n",
      "67/67 [==============================] - 1s 12ms/step - loss: 0.5940 - accuracy: 0.8179 - val_loss: 0.8012 - val_accuracy: 0.7605\n",
      "Epoch 147/150\n",
      "67/67 [==============================] - 1s 12ms/step - loss: 0.5961 - accuracy: 0.8219 - val_loss: 0.8127 - val_accuracy: 0.7610\n",
      "Epoch 148/150\n",
      "67/67 [==============================] - 1s 12ms/step - loss: 0.6036 - accuracy: 0.8214 - val_loss: 0.7939 - val_accuracy: 0.7566\n",
      "Epoch 149/150\n",
      "67/67 [==============================] - 1s 11ms/step - loss: 0.5960 - accuracy: 0.8219 - val_loss: 0.8194 - val_accuracy: 0.7599\n",
      "Epoch 150/150\n",
      "67/67 [==============================] - 1s 12ms/step - loss: 0.5767 - accuracy: 0.8259 - val_loss: 0.7906 - val_accuracy: 0.7654\n"
     ]
    }
   ],
   "source": [
    "epochs=150\n",
    "history = model.fit(\n",
    "  train,\n",
    "  validation_data=test,\n",
    "  epochs=epochs\n",
    ")"
   ]
  },
  {
   "cell_type": "code",
   "execution_count": 8,
   "metadata": {},
   "outputs": [
    {
     "data": {
      "image/png": "[encoded data removed]",
      "text/plain": [
       "<Figure size 576x576 with 2 Axes>"
      ]
     },
     "metadata": {
      "needs_background": "light"
     },
     "output_type": "display_data"
    }
   ],
   "source": [
    "acc = history.history['accuracy']\n",
    "val_acc = history.history['val_accuracy']\n",
    "\n",
    "loss = history.history['loss']\n",
    "val_loss = history.history['val_loss']\n",
    "\n",
    "epochs_range = range(epochs)\n",
    "\n",
    "plt.figure(figsize=(8, 8))\n",
    "plt.subplot(1, 2, 1)\n",
    "plt.plot(epochs_range, acc, label='Training Accuracy')\n",
    "plt.plot(epochs_range, val_acc, label='Validation Accuracy')\n",
    "plt.legend(loc='lower right')\n",
    "plt.title('Training and Validation Accuracy')\n",
    "\n",
    "plt.subplot(1, 2, 2)\n",
    "plt.plot(epochs_range, loss, label='Training Loss')\n",
    "plt.plot(epochs_range, val_loss, label='Validation Loss')\n",
    "plt.legend(loc='upper right')\n",
    "plt.title('Training and Validation Loss')\n",
    "plt.show()"
   ]
  },
  {
   "cell_type": "code",
   "execution_count": 9,
   "metadata": {},
   "outputs": [
    {
     "name": "stdout",
     "output_type": "stream",
     "text": [
      "29/29 [==============================] - 0s 8ms/step - loss: 0.7906 - accuracy: 0.7654\n",
      "Test accuracy : 0.765418529510498\n"
     ]
    }
   ],
   "source": [
    "loss, accuracy = model.evaluate(test)\n",
    "print('Test accuracy :', accuracy)"
   ]
  },
  {
   "cell_type": "code",
   "execution_count": 10,
   "metadata": {},
   "outputs": [],
   "source": [
    "# Save the entire model as a SavedModel.\n",
    "# model.save('./data/humanModel/mode_v0')\n",
    "model.save('./data/humanModel/model_v0.h5')"
   ]
  },
  {
   "cell_type": "code",
   "execution_count": 11,
   "metadata": {},
   "outputs": [],
   "source": [
    "# save model in js format\n",
    "# import tensorflowjs as tfjs\n",
    "# tfjs.converters.save_keras_model(model, 'data/humanModel/js_model_v0')"
   ]
  },
  {
   "cell_type": "code",
   "execution_count": 12,
   "metadata": {},
   "outputs": [],
   "source": [
    "# new_model = tf.keras.models.load_model('./data/humanModel/mode_v0')\n",
    "\n",
    "# # Check its architecture\n",
    "# new_model.summary()"
   ]
  },
  {
   "cell_type": "markdown",
   "metadata": {},
   "source": [
    "### Predict on new data"
   ]
  },
  {
   "cell_type": "code",
   "execution_count": 13,
   "metadata": {},
   "outputs": [
    {
     "name": "stdout",
     "output_type": "stream",
     "text": [
      "This image most likely belongs to 3 with a 40.46 percent confidence.\n"
     ]
    }
   ],
   "source": [
    "sunflower_path = \"./data/humanModel/imagesDatabase_split/val/39/-MpIqdos7xbOmReSEoMh_10.png\"\n",
    "\n",
    "img = keras.preprocessing.image.load_img(\n",
    "    sunflower_path, target_size=(IMG_SIZE, IMG_SIZE)\n",
    ")\n",
    "img_array = keras.preprocessing.image.img_to_array(img)\n",
    "img_array = tf.expand_dims(img_array, 0) # Create a batch\n",
    "\n",
    "predictions = model.predict(img_array)\n",
    "score = tf.nn.softmax(predictions[0])\n",
    "print(\n",
    "    \"This image most likely belongs to {} with a {:.2f} percent confidence.\"\n",
    "    .format(np.argmax(score), 100 * np.max(score))\n",
    ")"
   ]
  }
 ],
 "metadata": {
  "interpreter": {
   "hash": "ad60775ae12af945b53c5c94c294ef05f229143b8585a0d23625a81e181fdccc"
  },
  "kernelspec": {
   "display_name": "Python 3.7.4 64-bit ('tf-gpu': conda)",
   "name": "python3"
  },
  "language_info": {
   "codemirror_mode": {
    "name": "ipython",
    "version": 3
   },
   "file_extension": ".py",
   "mimetype": "text/x-python",
   "name": "python",
   "nbconvert_exporter": "python",
   "pygments_lexer": "ipython3",
   "version": "3.7.4"
  }
 },
 "nbformat": 4,
 "nbformat_minor": 4
}
