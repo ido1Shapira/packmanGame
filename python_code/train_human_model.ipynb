{
 "cells": [
  {
   "cell_type": "code",
   "execution_count": 1,
   "metadata": {},
   "outputs": [],
   "source": [
    "import numpy as np\n",
    "import random\n",
    "import os\n",
    "import shutil\n",
    "\n",
    "# ! pip install split-folders\n",
    "import splitfolders\n",
    "\n",
    "import tensorflow as tf\n",
    "from tensorflow import keras\n",
    "from tensorflow.keras import layers, regularizers\n",
    "from tensorflow.keras.models import Sequential\n",
    "\n",
    "from tensorflow.keras.preprocessing.image import ImageDataGenerator\n",
    "from tensorflow.keras.preprocessing import image\n",
    "\n",
    "import matplotlib.pyplot as plt\n",
    "\n",
    "rs = 42\n",
    "def reset_random_seeds(rs):\n",
    "   os.environ['PYTHONHASHSEED']=str(rs)\n",
    "   tf.random.set_seed(rs)\n",
    "   np.random.seed(rs)\n",
    "   random.seed(rs)\n",
    "reset_random_seeds(rs)\n",
    "\n",
    "map_dir = 'map 2'"
   ]
  },
  {
   "cell_type": "markdown",
   "metadata": {},
   "source": [
    "remove prev saved database:"
   ]
  },
  {
   "cell_type": "code",
   "execution_count": 2,
   "metadata": {},
   "outputs": [],
   "source": [
    "dir_path = './data/humanModel_dataset_split'\n",
    "if os.path.exists(dir_path):\n",
    "    shutil.rmtree(dir_path)\n",
    "else:\n",
    "    print(\"File not found in the directory\")"
   ]
  },
  {
   "cell_type": "markdown",
   "metadata": {},
   "source": [
    "# Part 1 - Data Preprocessing"
   ]
  },
  {
   "cell_type": "markdown",
   "metadata": {},
   "source": [
    "## Split into train , test data"
   ]
  },
  {
   "cell_type": "code",
   "execution_count": 3,
   "metadata": {},
   "outputs": [
    {
     "name": "stderr",
     "output_type": "stream",
     "text": [
      "Copying files: 6581 files [00:00, 15864.49 files/s]\n"
     ]
    }
   ],
   "source": [
    "# train, test split\n",
    "splitfolders.ratio('./data/humanModel_dataset/', output=\"./data/humanModel_dataset_split\", ratio=(0.7, 0.3))"
   ]
  },
  {
   "cell_type": "markdown",
   "metadata": {},
   "source": [
    "### Preprocessing the Training set"
   ]
  },
  {
   "cell_type": "code",
   "execution_count": 4,
   "metadata": {},
   "outputs": [
    {
     "name": "stdout",
     "output_type": "stream",
     "text": [
      "Found 4605 images belonging to 5 classes.\n",
      "Found 1976 images belonging to 5 classes.\n"
     ]
    }
   ],
   "source": [
    "batch_size = 64\n",
    "IMG_SIZE = 10\n",
    "\n",
    "datagen = ImageDataGenerator(rescale = 1./255)\n",
    "train = datagen.flow_from_directory('./data/humanModel_dataset_split/train',\n",
    "                                          target_size = (IMG_SIZE,IMG_SIZE), batch_size = batch_size, seed=rs, class_mode='sparse')\n",
    "\n",
    "test = datagen.flow_from_directory('./data/humanModel_dataset_split/val',\n",
    "                                            target_size = (IMG_SIZE, IMG_SIZE), batch_size = batch_size, seed=rs, class_mode='sparse')"
   ]
  },
  {
   "cell_type": "markdown",
   "metadata": {},
   "source": [
    "## View some data"
   ]
  },
  {
   "cell_type": "code",
   "execution_count": 5,
   "metadata": {},
   "outputs": [
    {
     "name": "stderr",
     "output_type": "stream",
     "text": [
      "2021-12-19 10:38:23.414660: I tensorflow/stream_executor/cuda/cuda_gpu_executor.cc:937] successful NUMA node read from SysFS had negative value (-1), but there must be at least one NUMA node, so returning NUMA node zero\n",
      "2021-12-19 10:38:23.421344: I tensorflow/stream_executor/cuda/cuda_gpu_executor.cc:937] successful NUMA node read from SysFS had negative value (-1), but there must be at least one NUMA node, so returning NUMA node zero\n",
      "2021-12-19 10:38:23.421827: I tensorflow/stream_executor/cuda/cuda_gpu_executor.cc:937] successful NUMA node read from SysFS had negative value (-1), but there must be at least one NUMA node, so returning NUMA node zero\n",
      "2021-12-19 10:38:23.423130: I tensorflow/core/platform/cpu_feature_guard.cc:142] This TensorFlow binary is optimized with oneAPI Deep Neural Network Library (oneDNN) to use the following CPU instructions in performance-critical operations:  AVX2 FMA\n",
      "To enable them in other operations, rebuild TensorFlow with the appropriate compiler flags.\n",
      "2021-12-19 10:38:23.423677: I tensorflow/stream_executor/cuda/cuda_gpu_executor.cc:937] successful NUMA node read from SysFS had negative value (-1), but there must be at least one NUMA node, so returning NUMA node zero\n",
      "2021-12-19 10:38:23.424074: I tensorflow/stream_executor/cuda/cuda_gpu_executor.cc:937] successful NUMA node read from SysFS had negative value (-1), but there must be at least one NUMA node, so returning NUMA node zero\n",
      "2021-12-19 10:38:23.424439: I tensorflow/stream_executor/cuda/cuda_gpu_executor.cc:937] successful NUMA node read from SysFS had negative value (-1), but there must be at least one NUMA node, so returning NUMA node zero\n",
      "2021-12-19 10:38:23.756204: I tensorflow/stream_executor/cuda/cuda_gpu_executor.cc:937] successful NUMA node read from SysFS had negative value (-1), but there must be at least one NUMA node, so returning NUMA node zero\n",
      "2021-12-19 10:38:23.756530: I tensorflow/stream_executor/cuda/cuda_gpu_executor.cc:937] successful NUMA node read from SysFS had negative value (-1), but there must be at least one NUMA node, so returning NUMA node zero\n",
      "2021-12-19 10:38:23.756803: I tensorflow/stream_executor/cuda/cuda_gpu_executor.cc:937] successful NUMA node read from SysFS had negative value (-1), but there must be at least one NUMA node, so returning NUMA node zero\n",
      "2021-12-19 10:38:23.757069: I tensorflow/core/common_runtime/gpu/gpu_device.cc:1510] Created device /job:localhost/replica:0/task:0/device:GPU:0 with 11159 MB memory:  -> device: 0, name: NVIDIA TITAN X (Pascal), pci bus id: 0000:01:00.0, compute capability: 6.1\n"
     ]
    }
   ],
   "source": [
    "num_classes = 5\n",
    "\n",
    "model = Sequential([\n",
    "  layers.Conv2D(8, 4, padding='same', activation='relu', kernel_regularizer=regularizers.l2(0.001), input_shape=[IMG_SIZE,IMG_SIZE,3]),\n",
    "  layers.Conv2D(16, 4, padding='same', activation='relu', kernel_regularizer=regularizers.l2(0.001)),\n",
    "  layers.Conv2D(16, 3, padding='same', activation='relu', kernel_regularizer=regularizers.l2(0.001)),\n",
    "  layers.MaxPooling2D(),\n",
    "  layers.Conv2D(8, 3, padding='same', activation='relu', kernel_regularizer=regularizers.l2(0.001)),\n",
    "  layers.Dropout(0.5),\n",
    "  layers.Flatten(),\n",
    "  layers.Dense(32, activation='relu', kernel_regularizer=regularizers.l2(0.001)),\n",
    "  layers.Dense(num_classes, activation='softmax')\n",
    "])"
   ]
  },
  {
   "cell_type": "code",
   "execution_count": 6,
   "metadata": {},
   "outputs": [],
   "source": [
    "model.compile(optimizer='adam',\n",
    "              loss=tf.keras.losses.SparseCategoricalCrossentropy(from_logits=True),\n",
    "              metrics=['accuracy'])"
   ]
  },
  {
   "cell_type": "code",
   "execution_count": 7,
   "metadata": {},
   "outputs": [
    {
     "name": "stdout",
     "output_type": "stream",
     "text": [
      "Model: \"sequential\"\n",
      "_________________________________________________________________\n",
      "Layer (type)                 Output Shape              Param #   \n",
      "=================================================================\n",
      "conv2d (Conv2D)              (None, 10, 10, 8)         392       \n",
      "_________________________________________________________________\n",
      "conv2d_1 (Conv2D)            (None, 10, 10, 16)        2064      \n",
      "_________________________________________________________________\n",
      "conv2d_2 (Conv2D)            (None, 10, 10, 16)        2320      \n",
      "_________________________________________________________________\n",
      "max_pooling2d (MaxPooling2D) (None, 5, 5, 16)          0         \n",
      "_________________________________________________________________\n",
      "conv2d_3 (Conv2D)            (None, 5, 5, 8)           1160      \n",
      "_________________________________________________________________\n",
      "dropout (Dropout)            (None, 5, 5, 8)           0         \n",
      "_________________________________________________________________\n",
      "flatten (Flatten)            (None, 200)               0         \n",
      "_________________________________________________________________\n",
      "dense (Dense)                (None, 32)                6432      \n",
      "_________________________________________________________________\n",
      "dense_1 (Dense)              (None, 5)                 165       \n",
      "=================================================================\n",
      "Total params: 12,533\n",
      "Trainable params: 12,533\n",
      "Non-trainable params: 0\n",
      "_________________________________________________________________\n"
     ]
    }
   ],
   "source": [
    "model.summary()"
   ]
  },
  {
   "cell_type": "code",
   "execution_count": 8,
   "metadata": {
    "scrolled": true
   },
   "outputs": [
    {
     "name": "stdout",
     "output_type": "stream",
     "text": [
      "Epoch 1/150\n"
     ]
    },
    {
     "name": "stderr",
     "output_type": "stream",
     "text": [
      "2021-12-19 10:38:24.069523: I tensorflow/compiler/mlir/mlir_graph_optimization_pass.cc:185] None of the MLIR Optimization Passes are enabled (registered 2)\n",
      "/home/ido/anaconda3/envs/tf-gpu/lib/python3.7/site-packages/keras/backend.py:4907: UserWarning: \"`sparse_categorical_crossentropy` received `from_logits=True`, but the `output` argument was produced by a sigmoid or softmax activation and thus does not represent logits. Was this intended?\"\n",
      "  '\"`sparse_categorical_crossentropy` received `from_logits=True`, but '\n",
      "2021-12-19 10:38:24.813681: I tensorflow/stream_executor/cuda/cuda_dnn.cc:369] Loaded cuDNN version 8300\n"
     ]
    },
    {
     "name": "stdout",
     "output_type": "stream",
     "text": [
      "72/72 [==============================] - 2s 14ms/step - loss: 1.5227 - accuracy: 0.3987 - val_loss: 1.1551 - val_accuracy: 0.6134\n",
      "Epoch 2/150\n",
      "72/72 [==============================] - 1s 12ms/step - loss: 1.1491 - accuracy: 0.5839 - val_loss: 1.0123 - val_accuracy: 0.6296\n",
      "Epoch 3/150\n",
      "72/72 [==============================] - 1s 12ms/step - loss: 1.0532 - accuracy: 0.6237 - val_loss: 0.9541 - val_accuracy: 0.6594\n",
      "Epoch 4/150\n",
      "72/72 [==============================] - 1s 12ms/step - loss: 0.9690 - accuracy: 0.6721 - val_loss: 0.8778 - val_accuracy: 0.7039\n",
      "Epoch 5/150\n",
      "72/72 [==============================] - 1s 12ms/step - loss: 0.9378 - accuracy: 0.6895 - val_loss: 0.8379 - val_accuracy: 0.7323\n",
      "Epoch 6/150\n",
      "72/72 [==============================] - 1s 12ms/step - loss: 0.9051 - accuracy: 0.6995 - val_loss: 0.8060 - val_accuracy: 0.7540\n",
      "Epoch 7/150\n",
      "72/72 [==============================] - 1s 11ms/step - loss: 0.8710 - accuracy: 0.7199 - val_loss: 0.7766 - val_accuracy: 0.7697\n",
      "Epoch 8/150\n",
      "72/72 [==============================] - 1s 11ms/step - loss: 0.8413 - accuracy: 0.7260 - val_loss: 0.7534 - val_accuracy: 0.7444\n",
      "Epoch 9/150\n",
      "72/72 [==============================] - 1s 11ms/step - loss: 0.8197 - accuracy: 0.7333 - val_loss: 0.7432 - val_accuracy: 0.7672\n",
      "Epoch 10/150\n",
      "72/72 [==============================] - 1s 12ms/step - loss: 0.8028 - accuracy: 0.7394 - val_loss: 0.7552 - val_accuracy: 0.7682\n",
      "Epoch 11/150\n",
      "72/72 [==============================] - 1s 11ms/step - loss: 0.7825 - accuracy: 0.7481 - val_loss: 0.7312 - val_accuracy: 0.7581\n",
      "Epoch 12/150\n",
      "72/72 [==============================] - 1s 11ms/step - loss: 0.7770 - accuracy: 0.7453 - val_loss: 0.7090 - val_accuracy: 0.7829\n",
      "Epoch 13/150\n",
      "72/72 [==============================] - 1s 11ms/step - loss: 0.7548 - accuracy: 0.7603 - val_loss: 0.7023 - val_accuracy: 0.7763\n",
      "Epoch 14/150\n",
      "72/72 [==============================] - 1s 12ms/step - loss: 0.7448 - accuracy: 0.7687 - val_loss: 0.7051 - val_accuracy: 0.7854\n",
      "Epoch 15/150\n",
      "72/72 [==============================] - 1s 11ms/step - loss: 0.7381 - accuracy: 0.7655 - val_loss: 0.6800 - val_accuracy: 0.7854\n",
      "Epoch 16/150\n",
      "72/72 [==============================] - 1s 12ms/step - loss: 0.7359 - accuracy: 0.7650 - val_loss: 0.6763 - val_accuracy: 0.7885\n",
      "Epoch 17/150\n",
      "72/72 [==============================] - 1s 11ms/step - loss: 0.7229 - accuracy: 0.7770 - val_loss: 0.6802 - val_accuracy: 0.7885\n",
      "Epoch 18/150\n",
      "72/72 [==============================] - 1s 11ms/step - loss: 0.7119 - accuracy: 0.7763 - val_loss: 0.6677 - val_accuracy: 0.7935\n",
      "Epoch 19/150\n",
      "72/72 [==============================] - 1s 12ms/step - loss: 0.6993 - accuracy: 0.7904 - val_loss: 0.6540 - val_accuracy: 0.8092\n",
      "Epoch 20/150\n",
      "72/72 [==============================] - 1s 11ms/step - loss: 0.6830 - accuracy: 0.7894 - val_loss: 0.6616 - val_accuracy: 0.7976\n",
      "Epoch 21/150\n",
      "72/72 [==============================] - 1s 12ms/step - loss: 0.6853 - accuracy: 0.7870 - val_loss: 0.6603 - val_accuracy: 0.7930\n",
      "Epoch 22/150\n",
      "72/72 [==============================] - 1s 12ms/step - loss: 0.6780 - accuracy: 0.7928 - val_loss: 0.6381 - val_accuracy: 0.8082\n",
      "Epoch 23/150\n",
      "72/72 [==============================] - 1s 11ms/step - loss: 0.6777 - accuracy: 0.7863 - val_loss: 0.6353 - val_accuracy: 0.7966\n",
      "Epoch 24/150\n",
      "72/72 [==============================] - 1s 12ms/step - loss: 0.6677 - accuracy: 0.7957 - val_loss: 0.6365 - val_accuracy: 0.8153\n",
      "Epoch 25/150\n",
      "72/72 [==============================] - 1s 12ms/step - loss: 0.6564 - accuracy: 0.8004 - val_loss: 0.6218 - val_accuracy: 0.8148\n",
      "Epoch 26/150\n",
      "72/72 [==============================] - 1s 11ms/step - loss: 0.6466 - accuracy: 0.8026 - val_loss: 0.6338 - val_accuracy: 0.8011\n",
      "Epoch 27/150\n",
      "72/72 [==============================] - 1s 12ms/step - loss: 0.6421 - accuracy: 0.8059 - val_loss: 0.6084 - val_accuracy: 0.8295\n",
      "Epoch 28/150\n",
      "72/72 [==============================] - 1s 12ms/step - loss: 0.6358 - accuracy: 0.8087 - val_loss: 0.6268 - val_accuracy: 0.8097\n",
      "Epoch 29/150\n",
      "72/72 [==============================] - 1s 11ms/step - loss: 0.6425 - accuracy: 0.8104 - val_loss: 0.6138 - val_accuracy: 0.8249\n",
      "Epoch 30/150\n",
      "72/72 [==============================] - 1s 12ms/step - loss: 0.6378 - accuracy: 0.8141 - val_loss: 0.6090 - val_accuracy: 0.8219\n",
      "Epoch 31/150\n",
      "72/72 [==============================] - 1s 12ms/step - loss: 0.6401 - accuracy: 0.8119 - val_loss: 0.6153 - val_accuracy: 0.8178\n",
      "Epoch 32/150\n",
      "72/72 [==============================] - 1s 12ms/step - loss: 0.6197 - accuracy: 0.8165 - val_loss: 0.6078 - val_accuracy: 0.8188\n",
      "Epoch 33/150\n",
      "72/72 [==============================] - 1s 12ms/step - loss: 0.6204 - accuracy: 0.8176 - val_loss: 0.6435 - val_accuracy: 0.8128\n",
      "Epoch 34/150\n",
      "72/72 [==============================] - 1s 11ms/step - loss: 0.6270 - accuracy: 0.8124 - val_loss: 0.6247 - val_accuracy: 0.8173\n",
      "Epoch 35/150\n",
      "72/72 [==============================] - 1s 11ms/step - loss: 0.6176 - accuracy: 0.8208 - val_loss: 0.6016 - val_accuracy: 0.8214\n",
      "Epoch 36/150\n",
      "72/72 [==============================] - 1s 12ms/step - loss: 0.6092 - accuracy: 0.8239 - val_loss: 0.6108 - val_accuracy: 0.8178\n",
      "Epoch 37/150\n",
      "72/72 [==============================] - 1s 11ms/step - loss: 0.6077 - accuracy: 0.8200 - val_loss: 0.6002 - val_accuracy: 0.8224\n",
      "Epoch 38/150\n",
      "72/72 [==============================] - 1s 12ms/step - loss: 0.6014 - accuracy: 0.8258 - val_loss: 0.6031 - val_accuracy: 0.8036\n",
      "Epoch 39/150\n",
      "72/72 [==============================] - 1s 12ms/step - loss: 0.5982 - accuracy: 0.8300 - val_loss: 0.5908 - val_accuracy: 0.8310\n",
      "Epoch 40/150\n",
      "72/72 [==============================] - 1s 12ms/step - loss: 0.5893 - accuracy: 0.8269 - val_loss: 0.5895 - val_accuracy: 0.8320\n",
      "Epoch 41/150\n",
      "72/72 [==============================] - 1s 12ms/step - loss: 0.5944 - accuracy: 0.8278 - val_loss: 0.5865 - val_accuracy: 0.8269\n",
      "Epoch 42/150\n",
      "72/72 [==============================] - 1s 11ms/step - loss: 0.5968 - accuracy: 0.8243 - val_loss: 0.6112 - val_accuracy: 0.8153\n",
      "Epoch 43/150\n",
      "72/72 [==============================] - 1s 11ms/step - loss: 0.5843 - accuracy: 0.8334 - val_loss: 0.5921 - val_accuracy: 0.8340\n",
      "Epoch 44/150\n",
      "72/72 [==============================] - 1s 11ms/step - loss: 0.5890 - accuracy: 0.8300 - val_loss: 0.5975 - val_accuracy: 0.8244\n",
      "Epoch 45/150\n",
      "72/72 [==============================] - 1s 11ms/step - loss: 0.5734 - accuracy: 0.8443 - val_loss: 0.5817 - val_accuracy: 0.8325\n",
      "Epoch 46/150\n",
      "72/72 [==============================] - 1s 12ms/step - loss: 0.5828 - accuracy: 0.8280 - val_loss: 0.5832 - val_accuracy: 0.8310\n",
      "Epoch 47/150\n",
      "72/72 [==============================] - 1s 12ms/step - loss: 0.5844 - accuracy: 0.8350 - val_loss: 0.5847 - val_accuracy: 0.8305\n",
      "Epoch 48/150\n",
      "72/72 [==============================] - 1s 11ms/step - loss: 0.5753 - accuracy: 0.8315 - val_loss: 0.6039 - val_accuracy: 0.8295\n",
      "Epoch 49/150\n",
      "72/72 [==============================] - 1s 11ms/step - loss: 0.5717 - accuracy: 0.8347 - val_loss: 0.5811 - val_accuracy: 0.8345\n",
      "Epoch 50/150\n",
      "72/72 [==============================] - 1s 11ms/step - loss: 0.5654 - accuracy: 0.8337 - val_loss: 0.5909 - val_accuracy: 0.8244\n",
      "Epoch 51/150\n",
      "72/72 [==============================] - 1s 11ms/step - loss: 0.5662 - accuracy: 0.8371 - val_loss: 0.6019 - val_accuracy: 0.8244\n",
      "Epoch 52/150\n",
      "72/72 [==============================] - 1s 12ms/step - loss: 0.5615 - accuracy: 0.8397 - val_loss: 0.5739 - val_accuracy: 0.8426\n",
      "Epoch 53/150\n",
      "72/72 [==============================] - 1s 12ms/step - loss: 0.5562 - accuracy: 0.8402 - val_loss: 0.5923 - val_accuracy: 0.8300\n",
      "Epoch 54/150\n",
      "72/72 [==============================] - 1s 12ms/step - loss: 0.5555 - accuracy: 0.8458 - val_loss: 0.5775 - val_accuracy: 0.8335\n",
      "Epoch 55/150\n",
      "72/72 [==============================] - 1s 11ms/step - loss: 0.5570 - accuracy: 0.8473 - val_loss: 0.5894 - val_accuracy: 0.8335\n",
      "Epoch 56/150\n",
      "72/72 [==============================] - 1s 11ms/step - loss: 0.5498 - accuracy: 0.8445 - val_loss: 0.5817 - val_accuracy: 0.8350\n",
      "Epoch 57/150\n",
      "72/72 [==============================] - 1s 12ms/step - loss: 0.5521 - accuracy: 0.8452 - val_loss: 0.5834 - val_accuracy: 0.8289\n",
      "Epoch 58/150\n",
      "72/72 [==============================] - 1s 12ms/step - loss: 0.5451 - accuracy: 0.8436 - val_loss: 0.5746 - val_accuracy: 0.8386\n",
      "Epoch 59/150\n",
      "72/72 [==============================] - 1s 12ms/step - loss: 0.5508 - accuracy: 0.8436 - val_loss: 0.5757 - val_accuracy: 0.8355\n",
      "Epoch 60/150\n",
      "72/72 [==============================] - 1s 11ms/step - loss: 0.5409 - accuracy: 0.8482 - val_loss: 0.5766 - val_accuracy: 0.8411\n",
      "Epoch 61/150\n",
      "72/72 [==============================] - 1s 11ms/step - loss: 0.5436 - accuracy: 0.8426 - val_loss: 0.5716 - val_accuracy: 0.8426\n",
      "Epoch 62/150\n",
      "72/72 [==============================] - 1s 12ms/step - loss: 0.5356 - accuracy: 0.8486 - val_loss: 0.5761 - val_accuracy: 0.8426\n",
      "Epoch 63/150\n",
      "72/72 [==============================] - 1s 12ms/step - loss: 0.5468 - accuracy: 0.8463 - val_loss: 0.5657 - val_accuracy: 0.8482\n",
      "Epoch 64/150\n",
      "72/72 [==============================] - 1s 12ms/step - loss: 0.5396 - accuracy: 0.8454 - val_loss: 0.5734 - val_accuracy: 0.8456\n",
      "Epoch 65/150\n",
      "72/72 [==============================] - 1s 11ms/step - loss: 0.5312 - accuracy: 0.8539 - val_loss: 0.5957 - val_accuracy: 0.8325\n",
      "Epoch 66/150\n",
      "72/72 [==============================] - 1s 11ms/step - loss: 0.5293 - accuracy: 0.8508 - val_loss: 0.5730 - val_accuracy: 0.8456\n",
      "Epoch 67/150\n",
      "72/72 [==============================] - 1s 13ms/step - loss: 0.5435 - accuracy: 0.8428 - val_loss: 0.5684 - val_accuracy: 0.8381\n",
      "Epoch 68/150\n",
      "72/72 [==============================] - 1s 12ms/step - loss: 0.5445 - accuracy: 0.8460 - val_loss: 0.5803 - val_accuracy: 0.8381\n",
      "Epoch 69/150\n",
      "72/72 [==============================] - 1s 12ms/step - loss: 0.5298 - accuracy: 0.8491 - val_loss: 0.5976 - val_accuracy: 0.8284\n",
      "Epoch 70/150\n",
      "72/72 [==============================] - 1s 11ms/step - loss: 0.5335 - accuracy: 0.8450 - val_loss: 0.5702 - val_accuracy: 0.8487\n",
      "Epoch 71/150\n",
      "72/72 [==============================] - 1s 12ms/step - loss: 0.5244 - accuracy: 0.8519 - val_loss: 0.6073 - val_accuracy: 0.8300\n",
      "Epoch 72/150\n",
      "72/72 [==============================] - 1s 11ms/step - loss: 0.5395 - accuracy: 0.8471 - val_loss: 0.5746 - val_accuracy: 0.8406\n",
      "Epoch 73/150\n",
      "72/72 [==============================] - 1s 11ms/step - loss: 0.5197 - accuracy: 0.8541 - val_loss: 0.5712 - val_accuracy: 0.8492\n",
      "Epoch 74/150\n",
      "72/72 [==============================] - 1s 12ms/step - loss: 0.5158 - accuracy: 0.8497 - val_loss: 0.5666 - val_accuracy: 0.8472\n",
      "Epoch 75/150\n",
      "72/72 [==============================] - 1s 12ms/step - loss: 0.5173 - accuracy: 0.8554 - val_loss: 0.5644 - val_accuracy: 0.8502\n",
      "Epoch 76/150\n",
      "72/72 [==============================] - 1s 12ms/step - loss: 0.5222 - accuracy: 0.8552 - val_loss: 0.5820 - val_accuracy: 0.8239\n",
      "Epoch 77/150\n",
      "72/72 [==============================] - 1s 12ms/step - loss: 0.5192 - accuracy: 0.8617 - val_loss: 0.5826 - val_accuracy: 0.8401\n",
      "Epoch 78/150\n",
      "72/72 [==============================] - 1s 12ms/step - loss: 0.5135 - accuracy: 0.8569 - val_loss: 0.5765 - val_accuracy: 0.8451\n",
      "Epoch 79/150\n",
      "72/72 [==============================] - 1s 12ms/step - loss: 0.5035 - accuracy: 0.8615 - val_loss: 0.5859 - val_accuracy: 0.8446\n",
      "Epoch 80/150\n",
      "72/72 [==============================] - 1s 12ms/step - loss: 0.5081 - accuracy: 0.8610 - val_loss: 0.5934 - val_accuracy: 0.8426\n",
      "Epoch 81/150\n",
      "72/72 [==============================] - 1s 12ms/step - loss: 0.5053 - accuracy: 0.8656 - val_loss: 0.5630 - val_accuracy: 0.8436\n",
      "Epoch 82/150\n",
      "72/72 [==============================] - 1s 11ms/step - loss: 0.5113 - accuracy: 0.8565 - val_loss: 0.5695 - val_accuracy: 0.8573\n",
      "Epoch 83/150\n",
      "72/72 [==============================] - 1s 12ms/step - loss: 0.5088 - accuracy: 0.8554 - val_loss: 0.5779 - val_accuracy: 0.8492\n",
      "Epoch 84/150\n",
      "72/72 [==============================] - 1s 12ms/step - loss: 0.5194 - accuracy: 0.8528 - val_loss: 0.5723 - val_accuracy: 0.8487\n",
      "Epoch 85/150\n",
      "72/72 [==============================] - 1s 11ms/step - loss: 0.5057 - accuracy: 0.8597 - val_loss: 0.5666 - val_accuracy: 0.8472\n",
      "Epoch 86/150\n",
      "72/72 [==============================] - 1s 11ms/step - loss: 0.5044 - accuracy: 0.8565 - val_loss: 0.5770 - val_accuracy: 0.8451\n",
      "Epoch 87/150\n",
      "72/72 [==============================] - 1s 12ms/step - loss: 0.4942 - accuracy: 0.8645 - val_loss: 0.5728 - val_accuracy: 0.8401\n",
      "Epoch 88/150\n",
      "72/72 [==============================] - 1s 12ms/step - loss: 0.4970 - accuracy: 0.8638 - val_loss: 0.5695 - val_accuracy: 0.8467\n",
      "Epoch 89/150\n",
      "72/72 [==============================] - 1s 12ms/step - loss: 0.4883 - accuracy: 0.8673 - val_loss: 0.5842 - val_accuracy: 0.8497\n",
      "Epoch 90/150\n",
      "72/72 [==============================] - 1s 11ms/step - loss: 0.4960 - accuracy: 0.8658 - val_loss: 0.5800 - val_accuracy: 0.8497\n",
      "Epoch 91/150\n",
      "72/72 [==============================] - 1s 12ms/step - loss: 0.4911 - accuracy: 0.8649 - val_loss: 0.5635 - val_accuracy: 0.8487\n",
      "Epoch 92/150\n",
      "72/72 [==============================] - 1s 12ms/step - loss: 0.4854 - accuracy: 0.8697 - val_loss: 0.5822 - val_accuracy: 0.8451\n",
      "Epoch 93/150\n",
      "72/72 [==============================] - 1s 12ms/step - loss: 0.4999 - accuracy: 0.8636 - val_loss: 0.5610 - val_accuracy: 0.8543\n",
      "Epoch 94/150\n",
      "72/72 [==============================] - 1s 11ms/step - loss: 0.4960 - accuracy: 0.8675 - val_loss: 0.5772 - val_accuracy: 0.8467\n",
      "Epoch 95/150\n",
      "72/72 [==============================] - 1s 12ms/step - loss: 0.4937 - accuracy: 0.8647 - val_loss: 0.5713 - val_accuracy: 0.8512\n",
      "Epoch 96/150\n",
      "72/72 [==============================] - 1s 12ms/step - loss: 0.4785 - accuracy: 0.8732 - val_loss: 0.5854 - val_accuracy: 0.8462\n",
      "Epoch 97/150\n",
      "72/72 [==============================] - 1s 11ms/step - loss: 0.4842 - accuracy: 0.8701 - val_loss: 0.5650 - val_accuracy: 0.8522\n",
      "Epoch 98/150\n",
      "72/72 [==============================] - 1s 12ms/step - loss: 0.4947 - accuracy: 0.8662 - val_loss: 0.5904 - val_accuracy: 0.8391\n",
      "Epoch 99/150\n",
      "72/72 [==============================] - 1s 11ms/step - loss: 0.4966 - accuracy: 0.8638 - val_loss: 0.5553 - val_accuracy: 0.8487\n",
      "Epoch 100/150\n",
      "72/72 [==============================] - 1s 11ms/step - loss: 0.5008 - accuracy: 0.8602 - val_loss: 0.5613 - val_accuracy: 0.8568\n",
      "Epoch 101/150\n",
      "72/72 [==============================] - 1s 12ms/step - loss: 0.4771 - accuracy: 0.8686 - val_loss: 0.5874 - val_accuracy: 0.8416\n",
      "Epoch 102/150\n",
      "72/72 [==============================] - 1s 11ms/step - loss: 0.4877 - accuracy: 0.8662 - val_loss: 0.5755 - val_accuracy: 0.8497\n",
      "Epoch 103/150\n",
      "72/72 [==============================] - 1s 11ms/step - loss: 0.4751 - accuracy: 0.8734 - val_loss: 0.6014 - val_accuracy: 0.8340\n",
      "Epoch 104/150\n",
      "72/72 [==============================] - 1s 11ms/step - loss: 0.4760 - accuracy: 0.8699 - val_loss: 0.5707 - val_accuracy: 0.8426\n",
      "Epoch 105/150\n",
      "72/72 [==============================] - 1s 12ms/step - loss: 0.4780 - accuracy: 0.8662 - val_loss: 0.5600 - val_accuracy: 0.8573\n",
      "Epoch 106/150\n",
      "72/72 [==============================] - 1s 13ms/step - loss: 0.4807 - accuracy: 0.8667 - val_loss: 0.5846 - val_accuracy: 0.8456\n",
      "Epoch 107/150\n",
      "72/72 [==============================] - 1s 12ms/step - loss: 0.4761 - accuracy: 0.8745 - val_loss: 0.5801 - val_accuracy: 0.8492\n",
      "Epoch 108/150\n",
      "72/72 [==============================] - 1s 11ms/step - loss: 0.4784 - accuracy: 0.8758 - val_loss: 0.6070 - val_accuracy: 0.8456\n",
      "Epoch 109/150\n",
      "72/72 [==============================] - 1s 12ms/step - loss: 0.4773 - accuracy: 0.8725 - val_loss: 0.5884 - val_accuracy: 0.8451\n",
      "Epoch 110/150\n",
      "72/72 [==============================] - 1s 11ms/step - loss: 0.4756 - accuracy: 0.8723 - val_loss: 0.5857 - val_accuracy: 0.8456\n",
      "Epoch 111/150\n",
      "72/72 [==============================] - 1s 11ms/step - loss: 0.4667 - accuracy: 0.8760 - val_loss: 0.5674 - val_accuracy: 0.8568\n",
      "Epoch 112/150\n",
      "72/72 [==============================] - 1s 12ms/step - loss: 0.4604 - accuracy: 0.8743 - val_loss: 0.5690 - val_accuracy: 0.8588\n",
      "Epoch 113/150\n",
      "72/72 [==============================] - 1s 12ms/step - loss: 0.4708 - accuracy: 0.8736 - val_loss: 0.5731 - val_accuracy: 0.8512\n",
      "Epoch 114/150\n",
      "72/72 [==============================] - 1s 11ms/step - loss: 0.4666 - accuracy: 0.8784 - val_loss: 0.5596 - val_accuracy: 0.8588\n",
      "Epoch 115/150\n",
      "72/72 [==============================] - 1s 12ms/step - loss: 0.4683 - accuracy: 0.8717 - val_loss: 0.5855 - val_accuracy: 0.8462\n",
      "Epoch 116/150\n",
      "72/72 [==============================] - 1s 12ms/step - loss: 0.4717 - accuracy: 0.8717 - val_loss: 0.5820 - val_accuracy: 0.8446\n",
      "Epoch 117/150\n",
      "72/72 [==============================] - 1s 12ms/step - loss: 0.4637 - accuracy: 0.8788 - val_loss: 0.5823 - val_accuracy: 0.8517\n",
      "Epoch 118/150\n",
      "72/72 [==============================] - 1s 12ms/step - loss: 0.4674 - accuracy: 0.8762 - val_loss: 0.5859 - val_accuracy: 0.8527\n",
      "Epoch 119/150\n",
      "72/72 [==============================] - 1s 12ms/step - loss: 0.4589 - accuracy: 0.8810 - val_loss: 0.5727 - val_accuracy: 0.8502\n",
      "Epoch 120/150\n",
      "72/72 [==============================] - 1s 11ms/step - loss: 0.4570 - accuracy: 0.8732 - val_loss: 0.5898 - val_accuracy: 0.8477\n",
      "Epoch 121/150\n",
      "72/72 [==============================] - 1s 11ms/step - loss: 0.4662 - accuracy: 0.8756 - val_loss: 0.5821 - val_accuracy: 0.8507\n",
      "Epoch 122/150\n",
      "72/72 [==============================] - 1s 12ms/step - loss: 0.4592 - accuracy: 0.8806 - val_loss: 0.5793 - val_accuracy: 0.8482\n",
      "Epoch 123/150\n",
      "72/72 [==============================] - 1s 11ms/step - loss: 0.4613 - accuracy: 0.8769 - val_loss: 0.5719 - val_accuracy: 0.8502\n",
      "Epoch 124/150\n",
      "72/72 [==============================] - 1s 12ms/step - loss: 0.4557 - accuracy: 0.8817 - val_loss: 0.5991 - val_accuracy: 0.8426\n",
      "Epoch 125/150\n",
      "72/72 [==============================] - 1s 11ms/step - loss: 0.4614 - accuracy: 0.8743 - val_loss: 0.5791 - val_accuracy: 0.8416\n",
      "Epoch 126/150\n",
      "72/72 [==============================] - 1s 12ms/step - loss: 0.4635 - accuracy: 0.8740 - val_loss: 0.5699 - val_accuracy: 0.8517\n",
      "Epoch 127/150\n",
      "72/72 [==============================] - 1s 12ms/step - loss: 0.4580 - accuracy: 0.8762 - val_loss: 0.5690 - val_accuracy: 0.8583\n",
      "Epoch 128/150\n",
      "72/72 [==============================] - 1s 12ms/step - loss: 0.4404 - accuracy: 0.8847 - val_loss: 0.5855 - val_accuracy: 0.8477\n",
      "Epoch 129/150\n",
      "72/72 [==============================] - 1s 11ms/step - loss: 0.4573 - accuracy: 0.8780 - val_loss: 0.5840 - val_accuracy: 0.8467\n",
      "Epoch 130/150\n",
      "72/72 [==============================] - 1s 12ms/step - loss: 0.4495 - accuracy: 0.8806 - val_loss: 0.5846 - val_accuracy: 0.8548\n",
      "Epoch 131/150\n",
      "72/72 [==============================] - 1s 12ms/step - loss: 0.4642 - accuracy: 0.8806 - val_loss: 0.6009 - val_accuracy: 0.8527\n",
      "Epoch 132/150\n",
      "72/72 [==============================] - 1s 12ms/step - loss: 0.4524 - accuracy: 0.8764 - val_loss: 0.5777 - val_accuracy: 0.8532\n",
      "Epoch 133/150\n",
      "72/72 [==============================] - 1s 11ms/step - loss: 0.4466 - accuracy: 0.8812 - val_loss: 0.5771 - val_accuracy: 0.8588\n",
      "Epoch 134/150\n",
      "72/72 [==============================] - 1s 12ms/step - loss: 0.4512 - accuracy: 0.8803 - val_loss: 0.5805 - val_accuracy: 0.8487\n",
      "Epoch 135/150\n",
      "72/72 [==============================] - 1s 12ms/step - loss: 0.4546 - accuracy: 0.8786 - val_loss: 0.5783 - val_accuracy: 0.8472\n",
      "Epoch 136/150\n",
      "72/72 [==============================] - 1s 12ms/step - loss: 0.4433 - accuracy: 0.8851 - val_loss: 0.5754 - val_accuracy: 0.8543\n",
      "Epoch 137/150\n",
      "72/72 [==============================] - 1s 11ms/step - loss: 0.4504 - accuracy: 0.8827 - val_loss: 0.5837 - val_accuracy: 0.8532\n",
      "Epoch 138/150\n",
      "72/72 [==============================] - 1s 11ms/step - loss: 0.4510 - accuracy: 0.8806 - val_loss: 0.5768 - val_accuracy: 0.8477\n",
      "Epoch 139/150\n",
      "72/72 [==============================] - 1s 11ms/step - loss: 0.4487 - accuracy: 0.8823 - val_loss: 0.5866 - val_accuracy: 0.8537\n",
      "Epoch 140/150\n",
      "72/72 [==============================] - 1s 12ms/step - loss: 0.4459 - accuracy: 0.8806 - val_loss: 0.5991 - val_accuracy: 0.8431\n",
      "Epoch 141/150\n",
      "72/72 [==============================] - 1s 11ms/step - loss: 0.4513 - accuracy: 0.8782 - val_loss: 0.5978 - val_accuracy: 0.8416\n",
      "Epoch 142/150\n",
      "72/72 [==============================] - 1s 12ms/step - loss: 0.4499 - accuracy: 0.8793 - val_loss: 0.5963 - val_accuracy: 0.8502\n",
      "Epoch 143/150\n",
      "72/72 [==============================] - 1s 11ms/step - loss: 0.4517 - accuracy: 0.8788 - val_loss: 0.5884 - val_accuracy: 0.8502\n",
      "Epoch 144/150\n",
      "72/72 [==============================] - 1s 11ms/step - loss: 0.4473 - accuracy: 0.8843 - val_loss: 0.5777 - val_accuracy: 0.8482\n",
      "Epoch 145/150\n",
      "72/72 [==============================] - 1s 12ms/step - loss: 0.4516 - accuracy: 0.8814 - val_loss: 0.5964 - val_accuracy: 0.8558\n",
      "Epoch 146/150\n",
      "72/72 [==============================] - 1s 11ms/step - loss: 0.4457 - accuracy: 0.8843 - val_loss: 0.5786 - val_accuracy: 0.8553\n",
      "Epoch 147/150\n",
      "72/72 [==============================] - 1s 12ms/step - loss: 0.4398 - accuracy: 0.8888 - val_loss: 0.5949 - val_accuracy: 0.8522\n",
      "Epoch 148/150\n",
      "72/72 [==============================] - 1s 12ms/step - loss: 0.4391 - accuracy: 0.8847 - val_loss: 0.5860 - val_accuracy: 0.8537\n",
      "Epoch 149/150\n",
      "72/72 [==============================] - 1s 12ms/step - loss: 0.4450 - accuracy: 0.8864 - val_loss: 0.5892 - val_accuracy: 0.8451\n",
      "Epoch 150/150\n",
      "72/72 [==============================] - 1s 12ms/step - loss: 0.4329 - accuracy: 0.8877 - val_loss: 0.6018 - val_accuracy: 0.8477\n"
     ]
    }
   ],
   "source": [
    "epochs=150\n",
    "history = model.fit(\n",
    "  train,\n",
    "  validation_data=test,\n",
    "  epochs=epochs\n",
    ")"
   ]
  },
  {
   "cell_type": "code",
   "execution_count": 9,
   "metadata": {},
   "outputs": [
    {
     "data": {
      "image/png": "[encoded data removed]",
      "text/plain": [
       "<Figure size 576x576 with 2 Axes>"
      ]
     },
     "metadata": {
      "needs_background": "light"
     },
     "output_type": "display_data"
    }
   ],
   "source": [
    "acc = history.history['accuracy']\n",
    "val_acc = history.history['val_accuracy']\n",
    "\n",
    "loss = history.history['loss']\n",
    "val_loss = history.history['val_loss']\n",
    "\n",
    "epochs_range = range(epochs)\n",
    "\n",
    "plt.figure(figsize=(8, 8))\n",
    "plt.subplot(1, 2, 1)\n",
    "plt.plot(epochs_range, acc, label='Training Accuracy')\n",
    "plt.plot(epochs_range, val_acc, label='Validation Accuracy')\n",
    "plt.legend(loc='lower right')\n",
    "plt.title('Training and Validation Accuracy')\n",
    "\n",
    "plt.subplot(1, 2, 2)\n",
    "plt.plot(epochs_range, loss, label='Training Loss')\n",
    "plt.plot(epochs_range, val_loss, label='Validation Loss')\n",
    "plt.legend(loc='upper right')\n",
    "plt.title('Training and Validation Loss')\n",
    "plt.show()"
   ]
  },
  {
   "cell_type": "code",
   "execution_count": 10,
   "metadata": {},
   "outputs": [
    {
     "name": "stdout",
     "output_type": "stream",
     "text": [
      "31/31 [==============================] - 0s 8ms/step - loss: 0.6018 - accuracy: 0.8477\n",
      "Test accuracy : 0.8476720452308655\n"
     ]
    }
   ],
   "source": [
    "loss, accuracy = model.evaluate(test)\n",
    "print('Test accuracy :', accuracy)"
   ]
  },
  {
   "cell_type": "code",
   "execution_count": 11,
   "metadata": {},
   "outputs": [],
   "source": [
    "# Save the entire model as a SavedModel.\n",
    "# model.save('./data/humanModel/mode_v0')\n",
    "model.save('./data/'+map_dir+'/humanModel_v0.h5')"
   ]
  },
  {
   "cell_type": "code",
   "execution_count": 12,
   "metadata": {},
   "outputs": [],
   "source": [
    "# save model in js format\n",
    "# import tensorflowjs as tfjs\n",
    "# tfjs.converters.save_keras_model(model, 'data/humanModel/js_model_v0')"
   ]
  },
  {
   "cell_type": "code",
   "execution_count": 13,
   "metadata": {},
   "outputs": [],
   "source": [
    "# new_model = tf.keras.models.load_model('./data/humanModel/mode_v0')\n",
    "\n",
    "# # Check its architecture\n",
    "# new_model.summary()"
   ]
  },
  {
   "cell_type": "markdown",
   "metadata": {},
   "source": [
    "### Predict on new data"
   ]
  },
  {
   "cell_type": "code",
   "execution_count": 16,
   "metadata": {},
   "outputs": [
    {
     "name": "stdout",
     "output_type": "stream",
     "text": [
      "This image most likely belongs to 3 with a 40.46 percent confidence.\n"
     ]
    }
   ],
   "source": [
    "sunflower_path = \"./data/humanModel_dataset_split/val/37/-Mr4_1eKgKsuisUdFlbA_5.png\"\n",
    "\n",
    "img = keras.preprocessing.image.load_img(\n",
    "    sunflower_path, target_size=(IMG_SIZE, IMG_SIZE)\n",
    ")\n",
    "img_array = keras.preprocessing.image.img_to_array(img)\n",
    "img_array = tf.expand_dims(img_array, 0) # Create a batch\n",
    "\n",
    "predictions = model.predict(img_array)\n",
    "score = tf.nn.softmax(predictions[0])\n",
    "print(\n",
    "    \"This image most likely belongs to {} with a {:.2f} percent confidence.\"\n",
    "    .format(np.argmax(score), 100 * np.max(score))\n",
    ")"
   ]
  }
 ],
 "metadata": {
  "interpreter": {
   "hash": "ad60775ae12af945b53c5c94c294ef05f229143b8585a0d23625a81e181fdccc"
  },
  "kernelspec": {
   "display_name": "Python 3.7.4 64-bit ('tf-gpu': conda)",
   "name": "python3"
  },
  "language_info": {
   "codemirror_mode": {
    "name": "ipython",
    "version": 3
   },
   "file_extension": ".py",
   "mimetype": "text/x-python",
   "name": "python",
   "nbconvert_exporter": "python",
   "pygments_lexer": "ipython3",
   "version": "3.7.4"
  }
 },
 "nbformat": 4,
 "nbformat_minor": 4
}
