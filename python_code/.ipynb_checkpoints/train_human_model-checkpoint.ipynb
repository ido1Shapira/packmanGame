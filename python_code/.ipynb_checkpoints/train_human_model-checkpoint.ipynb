{
 "cells": [
  {
   "cell_type": "code",
   "execution_count": 1,
   "metadata": {},
   "outputs": [],
   "source": [
    "import numpy as np\n",
    "\n",
    "# ! pip install split-folders\n",
    "import splitfolders\n",
    "\n",
    "import tensorflow as tf\n",
    "from tensorflow import keras\n",
    "from tensorflow.keras import layers\n",
    "from tensorflow.keras.models import Sequential\n",
    "\n",
    "import matplotlib.pyplot as plt\n",
    "\n",
    "rs = 42"
   ]
  },
  {
   "cell_type": "markdown",
   "metadata": {},
   "source": [
    "# Part 1 - Data Preprocessing"
   ]
  },
  {
   "cell_type": "markdown",
   "metadata": {},
   "source": [
    "## Split into train , test data"
   ]
  },
  {
   "cell_type": "code",
   "execution_count": 2,
   "metadata": {},
   "outputs": [],
   "source": [
    "IMG_SIZE = 10"
   ]
  },
  {
   "cell_type": "code",
   "execution_count": 3,
   "metadata": {},
   "outputs": [
    {
     "name": "stderr",
     "output_type": "stream",
     "text": [
      "Copying files: 43 files [00:00, 446.77 files/s]\n"
     ]
    }
   ],
   "source": [
    "# train, test split\n",
    "splitfolders.ratio('./data/humanModel/imagesDatabase/', output=\"./data/humanModel/imagesDatabase_split\", ratio=(0.7, 0.3))"
   ]
  },
  {
   "cell_type": "markdown",
   "metadata": {},
   "source": [
    "### Preprocessing the Training set"
   ]
  },
  {
   "cell_type": "code",
   "execution_count": 4,
   "metadata": {},
   "outputs": [
    {
     "name": "stdout",
     "output_type": "stream",
     "text": [
      "Found 28 files belonging to 5 classes.\n",
      "Using 23 files for training.\n",
      "Found 15 files belonging to 5 classes.\n",
      "Using 3 files for validation.\n",
      "['32', '37', '38', '39', '40']\n"
     ]
    }
   ],
   "source": [
    "batch_size = 8\n",
    "img_height = 10\n",
    "img_width = 10\n",
    "\n",
    "train_ds = tf.keras.preprocessing.image_dataset_from_directory(\n",
    "  './data/humanModel/imagesDatabase_split/train',\n",
    "  validation_split=0.2,\n",
    "  subset=\"training\",\n",
    "  seed=rs,\n",
    "  image_size=(img_height, img_width),\n",
    "  batch_size=batch_size)\n",
    "\n",
    "val_ds = tf.keras.preprocessing.image_dataset_from_directory(\n",
    "  './data/humanModel/imagesDatabase_split/val',\n",
    "  validation_split=0.2,\n",
    "  subset=\"validation\",\n",
    "  seed=rs,\n",
    "  image_size=(img_height, img_width),\n",
    "  batch_size=batch_size)\n",
    "\n",
    "class_names = train_ds.class_names\n",
    "print(class_names)"
   ]
  },
  {
   "cell_type": "markdown",
   "metadata": {},
   "source": [
    "## View some data"
   ]
  },
  {
   "cell_type": "code",
   "execution_count": 5,
   "metadata": {},
   "outputs": [
    {
     "data": {
      "image/png": "[encoded data removed]",
      "text/plain": [
       "<Figure size 720x720 with 6 Axes>"
      ]
     },
     "metadata": {
      "needs_background": "light"
     },
     "output_type": "display_data"
    }
   ],
   "source": [
    "plt.figure(figsize=(10, 10))\n",
    "for images, labels in train_ds.take(1):\n",
    "    for i in range(6):\n",
    "        ax = plt.subplot(3, 3, i + 1)\n",
    "        plt.imshow(images[i].numpy().astype(\"uint8\"))\n",
    "        plt.title(class_names[labels[i]])\n",
    "        plt.axis(\"off\")"
   ]
  },
  {
   "cell_type": "code",
   "execution_count": 6,
   "metadata": {},
   "outputs": [],
   "source": [
    "num_classes = 5\n",
    "\n",
    "model = Sequential([\n",
    "  layers.experimental.preprocessing.Rescaling(1./255, input_shape=(img_height, img_width, 3)),\n",
    "  layers.Conv2D(16, 3, padding='same', activation='relu'),\n",
    "  layers.MaxPooling2D(),\n",
    "  layers.Conv2D(32, 3, padding='same', activation='relu'),\n",
    "  layers.MaxPooling2D(),\n",
    "  layers.Conv2D(64, 3, padding='same', activation='relu'),\n",
    "  layers.MaxPooling2D(),\n",
    "  layers.Dropout(0.3),\n",
    "  layers.Flatten(),\n",
    "  layers.Dense(128, activation='relu'),\n",
    "  layers.Dense(num_classes)\n",
    "])"
   ]
  },
  {
   "cell_type": "code",
   "execution_count": 7,
   "metadata": {},
   "outputs": [],
   "source": [
    "model.compile(optimizer='adam',\n",
    "              loss=tf.keras.losses.SparseCategoricalCrossentropy(from_logits=True),\n",
    "              metrics=['accuracy'])"
   ]
  },
  {
   "cell_type": "code",
   "execution_count": 8,
   "metadata": {},
   "outputs": [
    {
     "name": "stdout",
     "output_type": "stream",
     "text": [
      "Model: \"sequential\"\n",
      "_________________________________________________________________\n",
      "Layer (type)                 Output Shape              Param #   \n",
      "=================================================================\n",
      "rescaling (Rescaling)        (None, 10, 10, 3)         0         \n",
      "_________________________________________________________________\n",
      "conv2d (Conv2D)              (None, 10, 10, 16)        448       \n",
      "_________________________________________________________________\n",
      "max_pooling2d (MaxPooling2D) (None, 5, 5, 16)          0         \n",
      "_________________________________________________________________\n",
      "conv2d_1 (Conv2D)            (None, 5, 5, 32)          4640      \n",
      "_________________________________________________________________\n",
      "max_pooling2d_1 (MaxPooling2 (None, 2, 2, 32)          0         \n",
      "_________________________________________________________________\n",
      "conv2d_2 (Conv2D)            (None, 2, 2, 64)          18496     \n",
      "_________________________________________________________________\n",
      "max_pooling2d_2 (MaxPooling2 (None, 1, 1, 64)          0         \n",
      "_________________________________________________________________\n",
      "dropout (Dropout)            (None, 1, 1, 64)          0         \n",
      "_________________________________________________________________\n",
      "flatten (Flatten)            (None, 64)                0         \n",
      "_________________________________________________________________\n",
      "dense (Dense)                (None, 128)               8320      \n",
      "_________________________________________________________________\n",
      "dense_1 (Dense)              (None, 5)                 645       \n",
      "=================================================================\n",
      "Total params: 32,549\n",
      "Trainable params: 32,549\n",
      "Non-trainable params: 0\n",
      "_________________________________________________________________\n"
     ]
    }
   ],
   "source": [
    "model.summary()"
   ]
  },
  {
   "cell_type": "code",
   "execution_count": 9,
   "metadata": {
    "scrolled": true
   },
   "outputs": [
    {
     "name": "stdout",
     "output_type": "stream",
     "text": [
      "Epoch 1/30\n",
      "3/3 [==============================] - ETA: 1s - loss: 1.6291 - accuracy: 0.12 - 1s 128ms/step - loss: 1.6115 - accuracy: 0.1304 - val_loss: 1.5731 - val_accuracy: 0.3333\n",
      "Epoch 2/30\n",
      "3/3 [==============================] - ETA: 0s - loss: 1.5637 - accuracy: 0.25 - 0s 36ms/step - loss: 1.5559 - accuracy: 0.2174 - val_loss: 1.5467 - val_accuracy: 0.6667\n",
      "Epoch 3/30\n",
      "3/3 [==============================] - ETA: 0s - loss: 1.5248 - accuracy: 0.37 - 0s 32ms/step - loss: 1.4990 - accuracy: 0.4783 - val_loss: 1.5154 - val_accuracy: 0.3333\n",
      "Epoch 4/30\n",
      "3/3 [==============================] - ETA: 0s - loss: 1.4823 - accuracy: 0.25 - 0s 31ms/step - loss: 1.4323 - accuracy: 0.4783 - val_loss: 1.4843 - val_accuracy: 0.3333\n",
      "Epoch 5/30\n",
      "3/3 [==============================] - ETA: 0s - loss: 1.2518 - accuracy: 0.75 - 0s 29ms/step - loss: 1.3622 - accuracy: 0.5217 - val_loss: 1.4662 - val_accuracy: 0.3333\n",
      "Epoch 6/30\n",
      "3/3 [==============================] - ETA: 0s - loss: 1.3271 - accuracy: 0.50 - 0s 25ms/step - loss: 1.2536 - accuracy: 0.5217 - val_loss: 1.4882 - val_accuracy: 0.3333\n",
      "Epoch 7/30\n",
      "3/3 [==============================] - ETA: 0s - loss: 1.1118 - accuracy: 0.62 - 0s 34ms/step - loss: 1.2491 - accuracy: 0.5217 - val_loss: 1.5718 - val_accuracy: 0.3333\n",
      "Epoch 8/30\n",
      "3/3 [==============================] - ETA: 0s - loss: 0.9430 - accuracy: 0.75 - 0s 31ms/step - loss: 1.2578 - accuracy: 0.5217 - val_loss: 1.6711 - val_accuracy: 0.3333\n",
      "Epoch 9/30\n",
      "3/3 [==============================] - ETA: 0s - loss: 1.3665 - accuracy: 0.50 - 0s 34ms/step - loss: 1.1748 - accuracy: 0.5217 - val_loss: 1.6454 - val_accuracy: 0.3333\n",
      "Epoch 10/30\n",
      "3/3 [==============================] - ETA: 0s - loss: 1.1060 - accuracy: 0.50 - 0s 37ms/step - loss: 1.1396 - accuracy: 0.5217 - val_loss: 1.6114 - val_accuracy: 0.3333\n",
      "Epoch 11/30\n",
      "3/3 [==============================] - ETA: 0s - loss: 1.2535 - accuracy: 0.37 - 0s 34ms/step - loss: 1.1408 - accuracy: 0.5217 - val_loss: 1.5729 - val_accuracy: 0.3333\n",
      "Epoch 12/30\n",
      "3/3 [==============================] - ETA: 0s - loss: 1.4543 - accuracy: 0.37 - 0s 32ms/step - loss: 1.1681 - accuracy: 0.5217 - val_loss: 1.5456 - val_accuracy: 0.3333\n",
      "Epoch 13/30\n",
      "3/3 [==============================] - ETA: 0s - loss: 1.4064 - accuracy: 0.25 - 0s 33ms/step - loss: 1.1803 - accuracy: 0.5217 - val_loss: 1.5263 - val_accuracy: 0.3333\n",
      "Epoch 14/30\n",
      "3/3 [==============================] - ETA: 0s - loss: 0.8722 - accuracy: 0.62 - 0s 35ms/step - loss: 1.1075 - accuracy: 0.5217 - val_loss: 1.5115 - val_accuracy: 0.3333\n",
      "Epoch 15/30\n",
      "3/3 [==============================] - ETA: 0s - loss: 1.2332 - accuracy: 0.25 - 0s 31ms/step - loss: 1.1074 - accuracy: 0.5217 - val_loss: 1.4888 - val_accuracy: 0.3333\n",
      "Epoch 16/30\n",
      "3/3 [==============================] - ETA: 0s - loss: 1.1163 - accuracy: 0.50 - 0s 34ms/step - loss: 1.0724 - accuracy: 0.5217 - val_loss: 1.4800 - val_accuracy: 0.3333\n",
      "Epoch 17/30\n",
      "3/3 [==============================] - ETA: 0s - loss: 1.1565 - accuracy: 0.37 - 0s 41ms/step - loss: 1.1413 - accuracy: 0.5217 - val_loss: 1.4868 - val_accuracy: 0.3333\n",
      "Epoch 18/30\n",
      "3/3 [==============================] - ETA: 0s - loss: 1.2577 - accuracy: 0.25 - 0s 33ms/step - loss: 1.0366 - accuracy: 0.5217 - val_loss: 1.4734 - val_accuracy: 0.3333\n",
      "Epoch 19/30\n",
      "3/3 [==============================] - ETA: 0s - loss: 0.7941 - accuracy: 0.62 - 0s 33ms/step - loss: 1.0570 - accuracy: 0.5217 - val_loss: 1.4598 - val_accuracy: 0.3333\n",
      "Epoch 20/30\n",
      "3/3 [==============================] - ETA: 0s - loss: 0.8893 - accuracy: 0.50 - 0s 25ms/step - loss: 1.0824 - accuracy: 0.5217 - val_loss: 1.4382 - val_accuracy: 0.3333\n",
      "Epoch 21/30\n",
      "3/3 [==============================] - ETA: 0s - loss: 0.8334 - accuracy: 0.75 - 0s 34ms/step - loss: 1.0294 - accuracy: 0.6522 - val_loss: 1.3896 - val_accuracy: 0.3333\n",
      "Epoch 22/30\n",
      "3/3 [==============================] - ETA: 0s - loss: 1.1723 - accuracy: 0.50 - 0s 35ms/step - loss: 1.0007 - accuracy: 0.6087 - val_loss: 1.3136 - val_accuracy: 0.6667\n",
      "Epoch 23/30\n",
      "3/3 [==============================] - ETA: 0s - loss: 0.9137 - accuracy: 0.50 - 0s 36ms/step - loss: 0.9828 - accuracy: 0.5652 - val_loss: 1.2741 - val_accuracy: 0.6667\n",
      "Epoch 24/30\n",
      "3/3 [==============================] - ETA: 0s - loss: 0.9379 - accuracy: 0.50 - 0s 26ms/step - loss: 0.8955 - accuracy: 0.6522 - val_loss: 1.2560 - val_accuracy: 0.6667\n",
      "Epoch 25/30\n",
      "3/3 [==============================] - ETA: 0s - loss: 1.3384 - accuracy: 0.37 - 0s 35ms/step - loss: 0.9518 - accuracy: 0.6957 - val_loss: 1.2296 - val_accuracy: 0.6667\n",
      "Epoch 26/30\n",
      "3/3 [==============================] - ETA: 0s - loss: 0.8954 - accuracy: 0.62 - 0s 37ms/step - loss: 0.8535 - accuracy: 0.6522 - val_loss: 1.2131 - val_accuracy: 0.6667\n",
      "Epoch 27/30\n",
      "3/3 [==============================] - ETA: 0s - loss: 0.4744 - accuracy: 1.00 - 0s 39ms/step - loss: 0.8688 - accuracy: 0.6087 - val_loss: 1.2092 - val_accuracy: 0.6667\n",
      "Epoch 28/30\n",
      "3/3 [==============================] - ETA: 0s - loss: 0.9146 - accuracy: 0.62 - 0s 33ms/step - loss: 0.8931 - accuracy: 0.6522 - val_loss: 1.2195 - val_accuracy: 0.6667\n",
      "Epoch 29/30\n",
      "3/3 [==============================] - ETA: 0s - loss: 0.8441 - accuracy: 0.75 - 0s 33ms/step - loss: 0.8146 - accuracy: 0.7391 - val_loss: 1.2045 - val_accuracy: 0.6667\n",
      "Epoch 30/30\n",
      "3/3 [==============================] - ETA: 0s - loss: 1.0018 - accuracy: 0.50 - 0s 36ms/step - loss: 0.8350 - accuracy: 0.6957 - val_loss: 1.1843 - val_accuracy: 0.6667\n"
     ]
    }
   ],
   "source": [
    "epochs=30\n",
    "history = model.fit(\n",
    "  train_ds,\n",
    "  validation_data=val_ds,\n",
    "  epochs=epochs\n",
    ")"
   ]
  },
  {
   "cell_type": "code",
   "execution_count": 10,
   "metadata": {},
   "outputs": [
    {
     "data": {
      "image/png": "[encoded data removed]",
      "text/plain": [
       "<Figure size 576x576 with 2 Axes>"
      ]
     },
     "metadata": {
      "needs_background": "light"
     },
     "output_type": "display_data"
    }
   ],
   "source": [
    "acc = history.history['accuracy']\n",
    "val_acc = history.history['val_accuracy']\n",
    "\n",
    "loss = history.history['loss']\n",
    "val_loss = history.history['val_loss']\n",
    "\n",
    "epochs_range = range(epochs)\n",
    "\n",
    "plt.figure(figsize=(8, 8))\n",
    "plt.subplot(1, 2, 1)\n",
    "plt.plot(epochs_range, acc, label='Training Accuracy')\n",
    "plt.plot(epochs_range, val_acc, label='Validation Accuracy')\n",
    "plt.legend(loc='lower right')\n",
    "plt.title('Training and Validation Accuracy')\n",
    "\n",
    "plt.subplot(1, 2, 2)\n",
    "plt.plot(epochs_range, loss, label='Training Loss')\n",
    "plt.plot(epochs_range, val_loss, label='Validation Loss')\n",
    "plt.legend(loc='upper right')\n",
    "plt.title('Training and Validation Loss')\n",
    "plt.show()"
   ]
  },
  {
   "cell_type": "code",
   "execution_count": 11,
   "metadata": {},
   "outputs": [
    {
     "name": "stdout",
     "output_type": "stream",
     "text": [
      "2.6.0\n"
     ]
    }
   ],
   "source": [
    "print(tf.version.VERSION)"
   ]
  },
  {
   "cell_type": "code",
   "execution_count": 12,
   "metadata": {},
   "outputs": [
    {
     "name": "stdout",
     "output_type": "stream",
     "text": [
      "INFO:tensorflow:Assets written to: ./data/humanModel/mode_v0\\assets\n"
     ]
    }
   ],
   "source": [
    "# Save the entire model as a SavedModel.\n",
    "model.save('./data/humanModel/mode_v0')"
   ]
  },
  {
   "cell_type": "code",
   "execution_count": 13,
   "metadata": {},
   "outputs": [
    {
     "name": "stdout",
     "output_type": "stream",
     "text": [
      "Model: \"sequential\"\n",
      "_________________________________________________________________\n",
      "Layer (type)                 Output Shape              Param #   \n",
      "=================================================================\n",
      "rescaling (Rescaling)        (None, 10, 10, 3)         0         \n",
      "_________________________________________________________________\n",
      "conv2d (Conv2D)              (None, 10, 10, 16)        448       \n",
      "_________________________________________________________________\n",
      "max_pooling2d (MaxPooling2D) (None, 5, 5, 16)          0         \n",
      "_________________________________________________________________\n",
      "conv2d_1 (Conv2D)            (None, 5, 5, 32)          4640      \n",
      "_________________________________________________________________\n",
      "max_pooling2d_1 (MaxPooling2 (None, 2, 2, 32)          0         \n",
      "_________________________________________________________________\n",
      "conv2d_2 (Conv2D)            (None, 2, 2, 64)          18496     \n",
      "_________________________________________________________________\n",
      "max_pooling2d_2 (MaxPooling2 (None, 1, 1, 64)          0         \n",
      "_________________________________________________________________\n",
      "dropout (Dropout)            (None, 1, 1, 64)          0         \n",
      "_________________________________________________________________\n",
      "flatten (Flatten)            (None, 64)                0         \n",
      "_________________________________________________________________\n",
      "dense (Dense)                (None, 128)               8320      \n",
      "_________________________________________________________________\n",
      "dense_1 (Dense)              (None, 5)                 645       \n",
      "=================================================================\n",
      "Total params: 32,549\n",
      "Trainable params: 32,549\n",
      "Non-trainable params: 0\n",
      "_________________________________________________________________\n"
     ]
    }
   ],
   "source": [
    "new_model = tf.keras.models.load_model('./data/humanModel/mode_v0')\n",
    "\n",
    "# Check its architecture\n",
    "new_model.summary()"
   ]
  },
  {
   "cell_type": "markdown",
   "metadata": {},
   "source": [
    "### Predict on new data"
   ]
  },
  {
   "cell_type": "code",
   "execution_count": 14,
   "metadata": {},
   "outputs": [
    {
     "name": "stdout",
     "output_type": "stream",
     "text": [
      "This image most likely belongs to 40 with a 61.84 percent confidence.\n"
     ]
    }
   ],
   "source": [
    "sunflower_path = \"./data/humanModel/imagesDatabase_split/val/37/-MhUR_hORqFZDHLqxzMH_2.png\"\n",
    "\n",
    "img = keras.preprocessing.image.load_img(\n",
    "    sunflower_path, target_size=(img_height, img_width)\n",
    ")\n",
    "img_array = keras.preprocessing.image.img_to_array(img)\n",
    "img_array = tf.expand_dims(img_array, 0) # Create a batch\n",
    "\n",
    "predictions = model.predict(img_array)\n",
    "score = tf.nn.softmax(predictions[0])\n",
    "\n",
    "print(\n",
    "    \"This image most likely belongs to {} with a {:.2f} percent confidence.\"\n",
    "    .format(class_names[np.argmax(score)], 100 * np.max(score))\n",
    ")"
   ]
  }
 ],
 "metadata": {
  "kernelspec": {
   "display_name": "Python 3",
   "language": "python",
   "name": "python3"
  },
  "language_info": {
   "codemirror_mode": {
    "name": "ipython",
    "version": 3
   },
   "file_extension": ".py",
   "mimetype": "text/x-python",
   "name": "python",
   "nbconvert_exporter": "python",
   "pygments_lexer": "ipython3",
   "version": "3.7.4"
  }
 },
 "nbformat": 4,
 "nbformat_minor": 4
}
